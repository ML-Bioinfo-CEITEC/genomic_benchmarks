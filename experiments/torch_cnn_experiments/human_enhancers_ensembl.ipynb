{
 "cells": [
  {
   "cell_type": "code",
   "execution_count": 1,
   "id": "db342e3b",
   "metadata": {
    "execution": {
     "iopub.execute_input": "2021-11-03T12:43:40.151432Z",
     "iopub.status.busy": "2021-11-03T12:43:40.150549Z",
     "iopub.status.idle": "2021-11-03T12:43:40.154926Z",
     "shell.execute_reply": "2021-11-03T12:43:40.154218Z"
    },
    "papermill": {
     "duration": 0.022942,
     "end_time": "2021-11-03T12:43:40.155091",
     "exception": false,
     "start_time": "2021-11-03T12:43:40.132149",
     "status": "completed"
    },
    "tags": [
     "parameters"
    ]
   },
   "outputs": [],
   "source": [
    "DATASET = 'no_dataset'\n",
    "VERSION = 0\n",
    "BATCH_SIZE = 32\n",
    "EPOCHS = 10"
   ]
  },
  {
   "cell_type": "code",
   "execution_count": 2,
   "id": "bea70c82",
   "metadata": {
    "execution": {
     "iopub.execute_input": "2021-11-03T12:43:40.181921Z",
     "iopub.status.busy": "2021-11-03T12:43:40.181265Z",
     "iopub.status.idle": "2021-11-03T12:43:40.183828Z",
     "shell.execute_reply": "2021-11-03T12:43:40.184326Z"
    },
    "papermill": {
     "duration": 0.017647,
     "end_time": "2021-11-03T12:43:40.184553",
     "exception": false,
     "start_time": "2021-11-03T12:43:40.166906",
     "status": "completed"
    },
    "tags": [
     "injected-parameters"
    ]
   },
   "outputs": [],
   "source": [
    "# Parameters\n",
    "DATASET = \"human_enhancers_ensembl\"\n"
   ]
  },
  {
   "cell_type": "code",
   "execution_count": 3,
   "id": "2f3b71c0",
   "metadata": {
    "execution": {
     "iopub.execute_input": "2021-11-03T12:43:40.213104Z",
     "iopub.status.busy": "2021-11-03T12:43:40.212326Z",
     "iopub.status.idle": "2021-11-03T12:43:40.216397Z",
     "shell.execute_reply": "2021-11-03T12:43:40.215676Z"
    },
    "papermill": {
     "duration": 0.018921,
     "end_time": "2021-11-03T12:43:40.216534",
     "exception": false,
     "start_time": "2021-11-03T12:43:40.197613",
     "status": "completed"
    },
    "tags": []
   },
   "outputs": [
    {
     "name": "stdout",
     "output_type": "stream",
     "text": [
      "human_enhancers_ensembl 0 32 10\n"
     ]
    }
   ],
   "source": [
    "print(DATASET, VERSION, BATCH_SIZE, EPOCHS)"
   ]
  },
  {
   "cell_type": "markdown",
   "id": "e474b3ae",
   "metadata": {
    "papermill": {
     "duration": 0.011492,
     "end_time": "2021-11-03T12:43:40.239720",
     "exception": false,
     "start_time": "2021-11-03T12:43:40.228228",
     "status": "completed"
    },
    "tags": []
   },
   "source": [
    "## Config"
   ]
  },
  {
   "cell_type": "code",
   "execution_count": 4,
   "id": "1d70ff6a",
   "metadata": {
    "execution": {
     "iopub.execute_input": "2021-11-03T12:43:40.267648Z",
     "iopub.status.busy": "2021-11-03T12:43:40.266854Z",
     "iopub.status.idle": "2021-11-03T12:43:41.467758Z",
     "shell.execute_reply": "2021-11-03T12:43:41.468263Z"
    },
    "papermill": {
     "duration": 1.217514,
     "end_time": "2021-11-03T12:43:41.468433",
     "exception": false,
     "start_time": "2021-11-03T12:43:40.250919",
     "status": "completed"
    },
    "tags": []
   },
   "outputs": [],
   "source": [
    "import os\n",
    "import numpy as np\n",
    "import torch\n",
    "from torch import nn\n",
    "from torch.utils.data import DataLoader\n",
    "from torchtext.data.utils import get_tokenizer\n",
    "\n",
    "from genomic_benchmarks.dataset_getters.pytorch_datasets import get_dataset\n",
    "from genomic_benchmarks.models.torch_cnn import CNN\n",
    "from genomic_benchmarks.dataset_getters.utils import coll_factory, LetterTokenizer, build_vocab, check_seq_lengths, check_config, VARIABLE_LENGTH_DATASETS\n",
    "from genomic_benchmarks.data_check import list_datasets, info\n"
   ]
  },
  {
   "cell_type": "code",
   "execution_count": 5,
   "id": "4d563f71",
   "metadata": {
    "execution": {
     "iopub.execute_input": "2021-11-03T12:43:41.496306Z",
     "iopub.status.busy": "2021-11-03T12:43:41.495620Z",
     "iopub.status.idle": "2021-11-03T12:43:41.506593Z",
     "shell.execute_reply": "2021-11-03T12:43:41.506077Z"
    },
    "papermill": {
     "duration": 0.026153,
     "end_time": "2021-11-03T12:43:41.506740",
     "exception": false,
     "start_time": "2021-11-03T12:43:41.480587",
     "status": "completed"
    },
    "tags": []
   },
   "outputs": [
    {
     "data": {
      "text/plain": [
       "['human_enhancers_cohn',\n",
       " 'demo_mouse_enhancers',\n",
       " 'human_nontata_promoters',\n",
       " 'translated_demo_mouse_enhancers',\n",
       " 'human_enhancers_ensembl',\n",
       " 'demo_human_or_worm',\n",
       " 'demo_coding_vs_intergenomic_seqs']"
      ]
     },
     "execution_count": 5,
     "metadata": {},
     "output_type": "execute_result"
    }
   ],
   "source": [
    "list_datasets()"
   ]
  },
  {
   "cell_type": "code",
   "execution_count": 6,
   "id": "96cdbeee",
   "metadata": {
    "execution": {
     "iopub.execute_input": "2021-11-03T12:43:41.536916Z",
     "iopub.status.busy": "2021-11-03T12:43:41.536225Z",
     "iopub.status.idle": "2021-11-03T12:43:41.538591Z",
     "shell.execute_reply": "2021-11-03T12:43:41.539178Z"
    },
    "papermill": {
     "duration": 0.019747,
     "end_time": "2021-11-03T12:43:41.539349",
     "exception": false,
     "start_time": "2021-11-03T12:43:41.519602",
     "status": "completed"
    },
    "tags": []
   },
   "outputs": [],
   "source": [
    "USE_PADDING = DATASET in VARIABLE_LENGTH_DATASETS\n",
    "    \n",
    "config = {\n",
    "    \"dataset\": DATASET,\n",
    "    \"dataset_version\": VERSION,\n",
    "    \"epochs\": EPOCHS,\n",
    "    \"batch_size\": BATCH_SIZE,\n",
    "    \"use_padding\": USE_PADDING,\n",
    "    \"force_download\": False,\n",
    "    \"run_on_gpu\": True,\n",
    "    \"number_of_classes\": 2,\n",
    "    \"embedding_dim\": 100,\n",
    "}\n",
    "check_config(config)"
   ]
  },
  {
   "cell_type": "markdown",
   "id": "cf29bcec",
   "metadata": {
    "papermill": {
     "duration": 0.017346,
     "end_time": "2021-11-03T12:43:41.569061",
     "exception": false,
     "start_time": "2021-11-03T12:43:41.551715",
     "status": "completed"
    },
    "tags": []
   },
   "source": [
    "## Choose the dataset"
   ]
  },
  {
   "cell_type": "code",
   "execution_count": 7,
   "id": "b474a447",
   "metadata": {
    "execution": {
     "iopub.execute_input": "2021-11-03T12:43:41.599730Z",
     "iopub.status.busy": "2021-11-03T12:43:41.599102Z",
     "iopub.status.idle": "2021-11-03T12:44:16.741357Z",
     "shell.execute_reply": "2021-11-03T12:44:16.740850Z"
    },
    "papermill": {
     "duration": 35.158759,
     "end_time": "2021-11-03T12:44:16.741499",
     "exception": false,
     "start_time": "2021-11-03T12:43:41.582740",
     "status": "completed"
    },
    "tags": []
   },
   "outputs": [
    {
     "name": "stderr",
     "output_type": "stream",
     "text": [
      "/home/jupyter/genomic_benchmarks/src/genomic_benchmarks/loc2seq/with_biopython.py:96: UserWarning: No version specified. Using version 0.\n",
      "  warnings.warn(f\"No version specified. Using version {metadata['version']}.\")\n"
     ]
    },
    {
     "name": "stdout",
     "output_type": "stream",
     "text": [
      "Downloading 1gZBEV_RGxJE8EON5OObdrp5Tp8JL0Fxb into /home/jupyter/.genomic_benchmarks/translated_human_enhancers_ensembl/human_enhancers_ensembl.zip... "
     ]
    },
    {
     "name": "stdout",
     "output_type": "stream",
     "text": [
      "Done.\n",
      "Unzipping..."
     ]
    },
    {
     "name": "stdout",
     "output_type": "stream",
     "text": [
      "Done.\n"
     ]
    }
   ],
   "source": [
    "train_dset = get_dataset(config[\"dataset\"], 'train')"
   ]
  },
  {
   "cell_type": "markdown",
   "id": "6622f397",
   "metadata": {
    "papermill": {
     "duration": 0.014662,
     "end_time": "2021-11-03T12:44:16.770026",
     "exception": false,
     "start_time": "2021-11-03T12:44:16.755364",
     "status": "completed"
    },
    "tags": []
   },
   "source": [
    "## Tokenizer and vocab"
   ]
  },
  {
   "cell_type": "code",
   "execution_count": 8,
   "id": "1e5ab776",
   "metadata": {
    "execution": {
     "iopub.execute_input": "2021-11-03T12:44:16.802082Z",
     "iopub.status.busy": "2021-11-03T12:44:16.801400Z",
     "iopub.status.idle": "2021-11-03T12:44:24.101890Z",
     "shell.execute_reply": "2021-11-03T12:44:24.101231Z"
    },
    "papermill": {
     "duration": 7.318929,
     "end_time": "2021-11-03T12:44:24.102017",
     "exception": false,
     "start_time": "2021-11-03T12:44:16.783088",
     "status": "completed"
    },
    "tags": []
   },
   "outputs": [
    {
     "name": "stdout",
     "output_type": "stream",
     "text": [
      "vocab len: 9\n",
      "{'C': 5, 'A': 4, '<eos>': 6, 'G': 3, '<pad>': 8, 'T': 2, '<bos>': 1, 'N': 7, '<unk>': 0}\n"
     ]
    }
   ],
   "source": [
    "tokenizer = get_tokenizer(LetterTokenizer())\n",
    "vocabulary = build_vocab(train_dset, tokenizer, use_padding=config[\"use_padding\"])\n",
    "\n",
    "print(\"vocab len:\" ,vocabulary.__len__())\n",
    "print(vocabulary.get_stoi())"
   ]
  },
  {
   "cell_type": "markdown",
   "id": "9a9b4525",
   "metadata": {
    "papermill": {
     "duration": 0.013435,
     "end_time": "2021-11-03T12:44:24.129434",
     "exception": false,
     "start_time": "2021-11-03T12:44:24.115999",
     "status": "completed"
    },
    "tags": []
   },
   "source": [
    "## Dataloader and batch preparation"
   ]
  },
  {
   "cell_type": "code",
   "execution_count": 9,
   "id": "5fd8aafe",
   "metadata": {
    "execution": {
     "iopub.execute_input": "2021-11-03T12:44:24.173182Z",
     "iopub.status.busy": "2021-11-03T12:44:24.172572Z",
     "iopub.status.idle": "2021-11-03T12:44:30.972739Z",
     "shell.execute_reply": "2021-11-03T12:44:30.972249Z"
    },
    "papermill": {
     "duration": 6.828215,
     "end_time": "2021-11-03T12:44:30.972860",
     "exception": false,
     "start_time": "2021-11-03T12:44:24.144645",
     "status": "completed"
    },
    "tags": []
   },
   "outputs": [
    {
     "name": "stdout",
     "output_type": "stream",
     "text": [
      "Using cuda device\n"
     ]
    },
    {
     "name": "stdout",
     "output_type": "stream",
     "text": [
      "max_seq_len  573\n"
     ]
    },
    {
     "name": "stdout",
     "output_type": "stream",
     "text": [
      "not all sequences are of the same length\n"
     ]
    }
   ],
   "source": [
    "# Run on GPU or CPU\n",
    "device = 'cuda' if config[\"run_on_gpu\"] and torch.cuda.is_available() else 'cpu'\n",
    "print('Using {} device'.format(device))\n",
    "\n",
    "max_seq_len, nn_input_len = check_seq_lengths(dataset=train_dset, config=config)\n",
    "\n",
    "# Data Loader\n",
    "if(config[\"use_padding\"]):\n",
    "    collate = coll_factory(vocabulary, tokenizer, device, pad_to_length = nn_input_len)\n",
    "else:\n",
    "    collate = coll_factory(vocabulary, tokenizer, device, pad_to_length = None)\n",
    "\n",
    "train_loader = DataLoader(train_dset, batch_size=config[\"batch_size\"], shuffle=True, collate_fn=collate)"
   ]
  },
  {
   "cell_type": "markdown",
   "id": "1aab60ea",
   "metadata": {
    "papermill": {
     "duration": 0.015617,
     "end_time": "2021-11-03T12:44:31.002860",
     "exception": false,
     "start_time": "2021-11-03T12:44:30.987243",
     "status": "completed"
    },
    "tags": []
   },
   "source": [
    "## Model"
   ]
  },
  {
   "cell_type": "code",
   "execution_count": 10,
   "id": "8c8b5c29",
   "metadata": {
    "execution": {
     "iopub.execute_input": "2021-11-03T12:44:31.036483Z",
     "iopub.status.busy": "2021-11-03T12:44:31.035760Z",
     "iopub.status.idle": "2021-11-03T12:44:32.655291Z",
     "shell.execute_reply": "2021-11-03T12:44:32.654794Z"
    },
    "papermill": {
     "duration": 1.637763,
     "end_time": "2021-11-03T12:44:32.655426",
     "exception": false,
     "start_time": "2021-11-03T12:44:31.017663",
     "status": "completed"
    },
    "tags": []
   },
   "outputs": [
    {
     "name": "stderr",
     "output_type": "stream",
     "text": [
      "/opt/conda/envs/bench_env/lib/python3.8/site-packages/torch/nn/functional.py:652: UserWarning: Named tensors and all their associated APIs are an experimental feature and subject to change. Please do not use them for anything important until they are released as stable. (Triggered internally at  /opt/conda/conda-bld/pytorch_1623448278899/work/c10/core/TensorImpl.h:1156.)\n",
      "  return torch.max_pool1d(input, kernel_size, stride, padding, dilation, ceil_mode)\n"
     ]
    }
   ],
   "source": [
    "model = CNN(\n",
    "    number_of_classes=config[\"number_of_classes\"],\n",
    "    vocab_size=vocabulary.__len__(),\n",
    "    embedding_dim=config[\"embedding_dim\"],\n",
    "    input_len=nn_input_len\n",
    ").to(device)"
   ]
  },
  {
   "cell_type": "markdown",
   "id": "f3aabe15",
   "metadata": {
    "papermill": {
     "duration": 0.020269,
     "end_time": "2021-11-03T12:44:32.692333",
     "exception": false,
     "start_time": "2021-11-03T12:44:32.672064",
     "status": "completed"
    },
    "tags": []
   },
   "source": [
    "## Training"
   ]
  },
  {
   "cell_type": "code",
   "execution_count": 11,
   "id": "cad7a51c",
   "metadata": {
    "execution": {
     "iopub.execute_input": "2021-11-03T12:44:32.728828Z",
     "iopub.status.busy": "2021-11-03T12:44:32.728213Z",
     "iopub.status.idle": "2021-11-03T13:04:13.903982Z",
     "shell.execute_reply": "2021-11-03T13:04:13.904609Z"
    },
    "papermill": {
     "duration": 1181.196844,
     "end_time": "2021-11-03T13:04:13.904784",
     "exception": false,
     "start_time": "2021-11-03T12:44:32.707940",
     "status": "completed"
    },
    "tags": []
   },
   "outputs": [
    {
     "name": "stdout",
     "output_type": "stream",
     "text": [
      "Epoch 0\n"
     ]
    },
    {
     "name": "stderr",
     "output_type": "stream",
     "text": [
      "/home/jupyter/genomic_benchmarks/src/genomic_benchmarks/dataset_getters/utils.py:26: UserWarning: To copy construct from a tensor, it is recommended to use sourceTensor.clone().detach() or sourceTensor.clone().detach().requires_grad_(True), rather than torch.tensor(sourceTensor).\n",
      "  x = torch.tensor(pad(x), dtype=torch.long)\n"
     ]
    },
    {
     "name": "stdout",
     "output_type": "stream",
     "text": [
      "Train metrics: \n",
      " Accuracy: 69.2%, Avg loss: 0.629940 \n",
      "\n",
      "Epoch 1\n"
     ]
    },
    {
     "name": "stdout",
     "output_type": "stream",
     "text": [
      "Train metrics: \n",
      " Accuracy: 75.2%, Avg loss: 0.617968 \n",
      "\n",
      "Epoch 2\n"
     ]
    },
    {
     "name": "stdout",
     "output_type": "stream",
     "text": [
      "Train metrics: \n",
      " Accuracy: 74.2%, Avg loss: 0.608766 \n",
      "\n",
      "Epoch 3\n"
     ]
    },
    {
     "name": "stdout",
     "output_type": "stream",
     "text": [
      "Train metrics: \n",
      " Accuracy: 79.9%, Avg loss: 0.598951 \n",
      "\n",
      "Epoch 4\n"
     ]
    },
    {
     "name": "stdout",
     "output_type": "stream",
     "text": [
      "Train metrics: \n",
      " Accuracy: 80.8%, Avg loss: 0.598011 \n",
      "\n",
      "Epoch 5\n"
     ]
    },
    {
     "name": "stdout",
     "output_type": "stream",
     "text": [
      "Train metrics: \n",
      " Accuracy: 80.4%, Avg loss: 0.589646 \n",
      "\n",
      "Epoch 6\n"
     ]
    },
    {
     "name": "stdout",
     "output_type": "stream",
     "text": [
      "Train metrics: \n",
      " Accuracy: 80.0%, Avg loss: 0.590360 \n",
      "\n",
      "Epoch 7\n"
     ]
    },
    {
     "name": "stdout",
     "output_type": "stream",
     "text": [
      "Train metrics: \n",
      " Accuracy: 81.1%, Avg loss: 0.589082 \n",
      "\n",
      "Epoch 8\n"
     ]
    },
    {
     "name": "stdout",
     "output_type": "stream",
     "text": [
      "Train metrics: \n",
      " Accuracy: 80.2%, Avg loss: 0.589254 \n",
      "\n",
      "Epoch 9\n"
     ]
    },
    {
     "name": "stdout",
     "output_type": "stream",
     "text": [
      "Train metrics: \n",
      " Accuracy: 80.9%, Avg loss: 0.586647 \n",
      "\n"
     ]
    }
   ],
   "source": [
    "model.train(train_loader, epochs=config[\"epochs\"])"
   ]
  },
  {
   "cell_type": "markdown",
   "id": "588b0752",
   "metadata": {
    "papermill": {
     "duration": 0.039389,
     "end_time": "2021-11-03T13:04:13.973745",
     "exception": false,
     "start_time": "2021-11-03T13:04:13.934356",
     "status": "completed"
    },
    "tags": []
   },
   "source": [
    "## Testing"
   ]
  },
  {
   "cell_type": "code",
   "execution_count": 12,
   "id": "0ad10295",
   "metadata": {
    "execution": {
     "iopub.execute_input": "2021-11-03T13:04:14.019267Z",
     "iopub.status.busy": "2021-11-03T13:04:14.016641Z",
     "iopub.status.idle": "2021-11-03T13:04:59.199992Z",
     "shell.execute_reply": "2021-11-03T13:04:59.199346Z"
    },
    "papermill": {
     "duration": 45.207098,
     "end_time": "2021-11-03T13:04:59.200138",
     "exception": false,
     "start_time": "2021-11-03T13:04:13.993040",
     "status": "completed"
    },
    "tags": []
   },
   "outputs": [
    {
     "name": "stdout",
     "output_type": "stream",
     "text": [
      "Downloading 1gZBEV_RGxJE8EON5OObdrp5Tp8JL0Fxb into /home/jupyter/.genomic_benchmarks/translated_human_enhancers_ensembl/human_enhancers_ensembl.zip... "
     ]
    },
    {
     "name": "stdout",
     "output_type": "stream",
     "text": [
      "Done.\n",
      "Unzipping..."
     ]
    },
    {
     "name": "stdout",
     "output_type": "stream",
     "text": [
      "Done.\n"
     ]
    },
    {
     "name": "stdout",
     "output_type": "stream",
     "text": [
      "test_loss  570.0387619137764\n",
      "num_batches 968\n",
      "correct 24891\n",
      "size 30970\n",
      "Test Error: \n",
      " Accuracy: 80.4%, Avg loss: 0.588883 \n",
      "\n"
     ]
    }
   ],
   "source": [
    "# test_dset = get_dataset_fn('test', force_download=config[\"force_download\"], version=config[\"dataset_version\"])\n",
    "test_dset = get_dataset(config[\"dataset\"], 'test')\n",
    "test_loader = DataLoader(test_dset, batch_size=config[\"batch_size\"], shuffle=True, collate_fn=collate)\n",
    "\n",
    "model.test(test_loader)"
   ]
  },
  {
   "cell_type": "code",
   "execution_count": null,
   "id": "dc773b70",
   "metadata": {
    "papermill": {
     "duration": 0.019993,
     "end_time": "2021-11-03T13:04:59.240418",
     "exception": false,
     "start_time": "2021-11-03T13:04:59.220425",
     "status": "completed"
    },
    "tags": []
   },
   "outputs": [],
   "source": []
  },
  {
   "cell_type": "code",
   "execution_count": null,
   "id": "e3562635",
   "metadata": {
    "papermill": {
     "duration": 0.02084,
     "end_time": "2021-11-03T13:04:59.281357",
     "exception": false,
     "start_time": "2021-11-03T13:04:59.260517",
     "status": "completed"
    },
    "tags": []
   },
   "outputs": [],
   "source": []
  }
 ],
 "metadata": {
  "environment": {
   "name": "pytorch-gpu.1-9.m75",
   "type": "gcloud",
   "uri": "gcr.io/deeplearning-platform-release/pytorch-gpu.1-9:m75"
  },
  "interpreter": {
   "hash": "9828b828580f1cac1b571b33de6cff8bacecc8916095e1bcbc967952ca7105b7"
  },
  "kernelspec": {
   "display_name": "Python [conda env:bench_env]",
   "language": "python",
   "name": "conda-env-bench_env-py"
  },
  "language_info": {
   "codemirror_mode": {
    "name": "ipython",
    "version": 3
   },
   "file_extension": ".py",
   "mimetype": "text/x-python",
   "name": "python",
   "nbconvert_exporter": "python",
   "pygments_lexer": "ipython3",
   "version": "3.8.10"
  },
  "papermill": {
   "default_parameters": {},
   "duration": 1281.116984,
   "end_time": "2021-11-03T13:05:00.011735",
   "environment_variables": {},
   "exception": null,
   "input_path": "utils/torch_cnn_classifier.ipynb",
   "output_path": "torch_cnn_experiments/human_enhancers_ensembl.ipynb",
   "parameters": {
    "DATASET": "human_enhancers_ensembl"
   },
   "start_time": "2021-11-03T12:43:38.894751",
   "version": "2.3.3"
  }
 },
 "nbformat": 4,
 "nbformat_minor": 5
}