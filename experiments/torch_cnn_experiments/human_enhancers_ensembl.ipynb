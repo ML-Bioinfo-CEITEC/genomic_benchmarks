{
 "cells": [
  {
   "cell_type": "markdown",
   "id": "340d5dcc",
   "metadata": {
    "papermill": {
     "duration": 0.005383,
     "end_time": "2022-06-04T11:45:10.448971",
     "exception": false,
     "start_time": "2022-06-04T11:45:10.443588",
     "status": "completed"
    },
    "tags": []
   },
   "source": [
    "# PYTORCH CNN Classifier\n",
    "\n",
    "To run this notebook on an another benchmark, use\n",
    "\n",
    "```\n",
    "papermill utils/torch_cnn_classifier.ipynb torch_cnn_experiments/[DATASET NAME].ipynb -p DATASET [DATASET NAME]\n",
    "```"
   ]
  },
  {
   "cell_type": "code",
   "execution_count": 1,
   "id": "0838908f",
   "metadata": {
    "execution": {
     "iopub.execute_input": "2022-06-04T11:45:10.458386Z",
     "iopub.status.busy": "2022-06-04T11:45:10.458020Z",
     "iopub.status.idle": "2022-06-04T11:45:10.463125Z",
     "shell.execute_reply": "2022-06-04T11:45:10.462810Z"
    },
    "papermill": {
     "duration": 0.010658,
     "end_time": "2022-06-04T11:45:10.464034",
     "exception": false,
     "start_time": "2022-06-04T11:45:10.453376",
     "status": "completed"
    },
    "tags": [
     "parameters"
    ]
   },
   "outputs": [],
   "source": [
    "# DATASET = 'no_dataset'\n",
    "DATASET = 'demo_human_or_worm'\n",
    "VERSION = 0\n",
    "BATCH_SIZE = 64\n",
    "EPOCHS = 1"
   ]
  },
  {
   "cell_type": "code",
   "execution_count": 2,
   "id": "a1d2bdfa",
   "metadata": {
    "execution": {
     "iopub.execute_input": "2022-06-04T11:45:10.473216Z",
     "iopub.status.busy": "2022-06-04T11:45:10.472953Z",
     "iopub.status.idle": "2022-06-04T11:45:10.474928Z",
     "shell.execute_reply": "2022-06-04T11:45:10.474622Z"
    },
    "papermill": {
     "duration": 0.007544,
     "end_time": "2022-06-04T11:45:10.475796",
     "exception": false,
     "start_time": "2022-06-04T11:45:10.468252",
     "status": "completed"
    },
    "tags": [
     "injected-parameters"
    ]
   },
   "outputs": [],
   "source": [
    "# Parameters\n",
    "DATASET = \"human_enhancers_ensembl\"\n",
    "EPOCHS = 10\n"
   ]
  },
  {
   "cell_type": "code",
   "execution_count": 3,
   "id": "737f3d5d",
   "metadata": {
    "execution": {
     "iopub.execute_input": "2022-06-04T11:45:10.484229Z",
     "iopub.status.busy": "2022-06-04T11:45:10.483972Z",
     "iopub.status.idle": "2022-06-04T11:45:10.486435Z",
     "shell.execute_reply": "2022-06-04T11:45:10.486105Z"
    },
    "papermill": {
     "duration": 0.007577,
     "end_time": "2022-06-04T11:45:10.487303",
     "exception": false,
     "start_time": "2022-06-04T11:45:10.479726",
     "status": "completed"
    },
    "tags": []
   },
   "outputs": [
    {
     "name": "stdout",
     "output_type": "stream",
     "text": [
      "human_enhancers_ensembl 0 64 10\n"
     ]
    }
   ],
   "source": [
    "print(DATASET, VERSION, BATCH_SIZE, EPOCHS)"
   ]
  },
  {
   "cell_type": "markdown",
   "id": "2b76e26c",
   "metadata": {
    "papermill": {
     "duration": 0.003799,
     "end_time": "2022-06-04T11:45:10.495195",
     "exception": false,
     "start_time": "2022-06-04T11:45:10.491396",
     "status": "completed"
    },
    "tags": []
   },
   "source": [
    "## Config"
   ]
  },
  {
   "cell_type": "code",
   "execution_count": 4,
   "id": "07219f4e",
   "metadata": {
    "execution": {
     "iopub.execute_input": "2022-06-04T11:45:10.503795Z",
     "iopub.status.busy": "2022-06-04T11:45:10.503546Z",
     "iopub.status.idle": "2022-06-04T11:45:11.720051Z",
     "shell.execute_reply": "2022-06-04T11:45:11.719573Z"
    },
    "papermill": {
     "duration": 1.22217,
     "end_time": "2022-06-04T11:45:11.721389",
     "exception": false,
     "start_time": "2022-06-04T11:45:10.499219",
     "status": "completed"
    },
    "tags": []
   },
   "outputs": [
    {
     "name": "stderr",
     "output_type": "stream",
     "text": [
      "/opt/conda/envs/bench_env/lib/python3.8/site-packages/tqdm/auto.py:22: TqdmWarning: IProgress not found. Please update jupyter and ipywidgets. See https://ipywidgets.readthedocs.io/en/stable/user_install.html\n",
      "  from .autonotebook import tqdm as notebook_tqdm\n"
     ]
    }
   ],
   "source": [
    "import os\n",
    "import numpy as np\n",
    "import torch\n",
    "from torch import nn\n",
    "from torch.utils.data import DataLoader\n",
    "from torchtext.data.utils import get_tokenizer\n",
    "\n",
    "from genomic_benchmarks.data_check import is_downloaded, info\n",
    "from genomic_benchmarks.dataset_getters.pytorch_datasets import get_dataset\n",
    "from genomic_benchmarks.loc2seq import download_dataset\n",
    "from genomic_benchmarks.models.torch import CNN\n",
    "from genomic_benchmarks.dataset_getters.utils import coll_factory, LetterTokenizer, build_vocab, check_seq_lengths, check_config, VARIABLE_LENGTH_DATASETS"
   ]
  },
  {
   "cell_type": "code",
   "execution_count": 5,
   "id": "dc5ed273",
   "metadata": {
    "execution": {
     "iopub.execute_input": "2022-06-04T11:45:11.731929Z",
     "iopub.status.busy": "2022-06-04T11:45:11.731715Z",
     "iopub.status.idle": "2022-06-04T11:45:11.734149Z",
     "shell.execute_reply": "2022-06-04T11:45:11.733835Z"
    },
    "papermill": {
     "duration": 0.007879,
     "end_time": "2022-06-04T11:45:11.735005",
     "exception": false,
     "start_time": "2022-06-04T11:45:11.727126",
     "status": "completed"
    },
    "tags": []
   },
   "outputs": [],
   "source": [
    "USE_PADDING = DATASET in VARIABLE_LENGTH_DATASETS"
   ]
  },
  {
   "cell_type": "markdown",
   "id": "06cc2ba7",
   "metadata": {
    "papermill": {
     "duration": 0.003968,
     "end_time": "2022-06-04T11:45:11.743209",
     "exception": false,
     "start_time": "2022-06-04T11:45:11.739241",
     "status": "completed"
    },
    "tags": []
   },
   "source": [
    "## Choose the dataset"
   ]
  },
  {
   "cell_type": "code",
   "execution_count": 6,
   "id": "080332ff",
   "metadata": {
    "execution": {
     "iopub.execute_input": "2022-06-04T11:45:11.751345Z",
     "iopub.status.busy": "2022-06-04T11:45:11.751216Z",
     "iopub.status.idle": "2022-06-04T11:49:55.697132Z",
     "shell.execute_reply": "2022-06-04T11:49:55.696356Z"
    },
    "papermill": {
     "duration": 283.95161,
     "end_time": "2022-06-04T11:49:55.698520",
     "exception": false,
     "start_time": "2022-06-04T11:45:11.746910",
     "status": "completed"
    },
    "tags": []
   },
   "outputs": [
    {
     "name": "stderr",
     "output_type": "stream",
     "text": [
      "/home/jovyan/genomic_benchmarks/src/genomic_benchmarks/utils/datasets.py:50: UserWarning: No version specified. Using version 0.\n",
      "  warnings.warn(f\"No version specified. Using version {metadata['version']}.\")\n",
      "Downloading...\n",
      "From: https://drive.google.com/uc?id=1gZBEV_RGxJE8EON5OObdrp5Tp8JL0Fxb\n",
      "To: /home/jovyan/.genomic_benchmarks/human_enhancers_ensembl.zip\n",
      "100%|███████████████████████████████████████████████████████████████████████████████████████████████████████████████████████████████████████████████████████████████████████| 51.1M/51.1M [00:01<00:00, 39.3MB/s]\n"
     ]
    }
   ],
   "source": [
    "if not is_downloaded(DATASET):\n",
    "    download_dataset(DATASET, local_repo=True)"
   ]
  },
  {
   "cell_type": "code",
   "execution_count": 7,
   "id": "a043ad58",
   "metadata": {
    "execution": {
     "iopub.execute_input": "2022-06-04T11:49:55.708962Z",
     "iopub.status.busy": "2022-06-04T11:49:55.708771Z",
     "iopub.status.idle": "2022-06-04T11:49:55.799552Z",
     "shell.execute_reply": "2022-06-04T11:49:55.799175Z"
    },
    "papermill": {
     "duration": 0.096705,
     "end_time": "2022-06-04T11:49:55.800439",
     "exception": false,
     "start_time": "2022-06-04T11:49:55.703734",
     "status": "completed"
    },
    "tags": []
   },
   "outputs": [
    {
     "name": "stdout",
     "output_type": "stream",
     "text": [
      "Dataset `human_enhancers_ensembl` has 2 classes: negative, positive.\n",
      "\n",
      "The length of genomic intervals ranges from 2 to 573, with average 268.8641324705183 and median 269.0.\n",
      "\n",
      "Totally 154842 sequences have been found, 123872 for training and 30970 for testing.\n"
     ]
    },
    {
     "data": {
      "text/html": [
       "<div>\n",
       "<style scoped>\n",
       "    .dataframe tbody tr th:only-of-type {\n",
       "        vertical-align: middle;\n",
       "    }\n",
       "\n",
       "    .dataframe tbody tr th {\n",
       "        vertical-align: top;\n",
       "    }\n",
       "\n",
       "    .dataframe thead th {\n",
       "        text-align: right;\n",
       "    }\n",
       "</style>\n",
       "<table border=\"1\" class=\"dataframe\">\n",
       "  <thead>\n",
       "    <tr style=\"text-align: right;\">\n",
       "      <th></th>\n",
       "      <th>train</th>\n",
       "      <th>test</th>\n",
       "    </tr>\n",
       "  </thead>\n",
       "  <tbody>\n",
       "    <tr>\n",
       "      <th>negative</th>\n",
       "      <td>61936</td>\n",
       "      <td>15485</td>\n",
       "    </tr>\n",
       "    <tr>\n",
       "      <th>positive</th>\n",
       "      <td>61936</td>\n",
       "      <td>15485</td>\n",
       "    </tr>\n",
       "  </tbody>\n",
       "</table>\n",
       "</div>"
      ],
      "text/plain": [
       "          train   test\n",
       "negative  61936  15485\n",
       "positive  61936  15485"
      ]
     },
     "execution_count": 7,
     "metadata": {},
     "output_type": "execute_result"
    }
   ],
   "source": [
    "info(DATASET, local_repo=True)"
   ]
  },
  {
   "cell_type": "code",
   "execution_count": 8,
   "id": "53be067a",
   "metadata": {
    "execution": {
     "iopub.execute_input": "2022-06-04T11:49:55.812005Z",
     "iopub.status.busy": "2022-06-04T11:49:55.811826Z",
     "iopub.status.idle": "2022-06-04T11:49:59.172137Z",
     "shell.execute_reply": "2022-06-04T11:49:59.171456Z"
    },
    "papermill": {
     "duration": 3.36714,
     "end_time": "2022-06-04T11:49:59.173670",
     "exception": false,
     "start_time": "2022-06-04T11:49:55.806530",
     "status": "completed"
    },
    "tags": []
   },
   "outputs": [],
   "source": [
    "train_dset = get_dataset(DATASET, 'train')"
   ]
  },
  {
   "cell_type": "code",
   "execution_count": 9,
   "id": "a27aeb16",
   "metadata": {
    "execution": {
     "iopub.execute_input": "2022-06-04T11:49:59.185578Z",
     "iopub.status.busy": "2022-06-04T11:49:59.185053Z",
     "iopub.status.idle": "2022-06-04T11:50:27.614875Z",
     "shell.execute_reply": "2022-06-04T11:50:27.614219Z"
    },
    "papermill": {
     "duration": 28.436173,
     "end_time": "2022-06-04T11:50:27.615887",
     "exception": false,
     "start_time": "2022-06-04T11:49:59.179714",
     "status": "completed"
    },
    "tags": []
   },
   "outputs": [
    {
     "data": {
      "text/plain": [
       "2"
      ]
     },
     "execution_count": 9,
     "metadata": {},
     "output_type": "execute_result"
    }
   ],
   "source": [
    "NUM_CLASSES = len(set([train_dset[i][1] for i in range(len(train_dset))]))\n",
    "NUM_CLASSES"
   ]
  },
  {
   "cell_type": "markdown",
   "id": "0630e3d9",
   "metadata": {
    "papermill": {
     "duration": 0.004318,
     "end_time": "2022-06-04T11:50:27.625307",
     "exception": false,
     "start_time": "2022-06-04T11:50:27.620989",
     "status": "completed"
    },
    "tags": []
   },
   "source": [
    "## Tokenizer and vocab"
   ]
  },
  {
   "cell_type": "code",
   "execution_count": 10,
   "id": "e01a256e",
   "metadata": {
    "execution": {
     "iopub.execute_input": "2022-06-04T11:50:27.634971Z",
     "iopub.status.busy": "2022-06-04T11:50:27.634806Z",
     "iopub.status.idle": "2022-06-04T11:50:44.280140Z",
     "shell.execute_reply": "2022-06-04T11:50:44.279529Z"
    },
    "papermill": {
     "duration": 16.65158,
     "end_time": "2022-06-04T11:50:44.281136",
     "exception": false,
     "start_time": "2022-06-04T11:50:27.629556",
     "status": "completed"
    },
    "tags": []
   },
   "outputs": [
    {
     "name": "stdout",
     "output_type": "stream",
     "text": [
      "vocab len: 9\n",
      "{'<pad>': 8, 'T': 5, '<eos>': 6, 'G': 4, 'A': 3, 'C': 2, '<bos>': 1, 'N': 7, '<unk>': 0}\n"
     ]
    }
   ],
   "source": [
    "tokenizer = get_tokenizer(LetterTokenizer())\n",
    "vocabulary = build_vocab(train_dset, tokenizer, use_padding=USE_PADDING)\n",
    "\n",
    "print(\"vocab len:\" ,vocabulary.__len__())\n",
    "print(vocabulary.get_stoi())"
   ]
  },
  {
   "cell_type": "markdown",
   "id": "d4b172ab",
   "metadata": {
    "papermill": {
     "duration": 0.004501,
     "end_time": "2022-06-04T11:50:44.290989",
     "exception": false,
     "start_time": "2022-06-04T11:50:44.286488",
     "status": "completed"
    },
    "tags": []
   },
   "source": [
    "## Dataloader and batch preparation"
   ]
  },
  {
   "cell_type": "code",
   "execution_count": 11,
   "id": "ee02d115",
   "metadata": {
    "execution": {
     "iopub.execute_input": "2022-06-04T11:50:44.300400Z",
     "iopub.status.busy": "2022-06-04T11:50:44.300226Z",
     "iopub.status.idle": "2022-06-04T11:51:13.130037Z",
     "shell.execute_reply": "2022-06-04T11:51:13.129317Z"
    },
    "papermill": {
     "duration": 28.835663,
     "end_time": "2022-06-04T11:51:13.131012",
     "exception": false,
     "start_time": "2022-06-04T11:50:44.295349",
     "status": "completed"
    },
    "tags": []
   },
   "outputs": [
    {
     "name": "stdout",
     "output_type": "stream",
     "text": [
      "Using cuda device\n",
      "max_seq_len  573\n",
      "not all sequences are of the same length\n"
     ]
    }
   ],
   "source": [
    "# Run on GPU or CPU\n",
    "device = 'cuda' if torch.cuda.is_available() else 'cpu'\n",
    "print('Using {} device'.format(device))\n",
    "\n",
    "max_seq_len, nn_input_len = check_seq_lengths(dataset=train_dset, use_padding=USE_PADDING)\n",
    "\n",
    "# Data Loader\n",
    "if(USE_PADDING):\n",
    "    collate = coll_factory(vocabulary, tokenizer, device, pad_to_length = nn_input_len)\n",
    "else:\n",
    "    collate = coll_factory(vocabulary, tokenizer, device, pad_to_length = None)\n",
    "\n",
    "train_loader = DataLoader(train_dset, batch_size=BATCH_SIZE, shuffle=True, collate_fn=collate)"
   ]
  },
  {
   "cell_type": "markdown",
   "id": "84a35e1d",
   "metadata": {
    "papermill": {
     "duration": 0.004671,
     "end_time": "2022-06-04T11:51:13.142932",
     "exception": false,
     "start_time": "2022-06-04T11:51:13.138261",
     "status": "completed"
    },
    "tags": []
   },
   "source": [
    "## Model"
   ]
  },
  {
   "cell_type": "code",
   "execution_count": 12,
   "id": "f87022d1",
   "metadata": {
    "execution": {
     "iopub.execute_input": "2022-06-04T11:51:13.152651Z",
     "iopub.status.busy": "2022-06-04T11:51:13.152469Z",
     "iopub.status.idle": "2022-06-04T11:51:17.824230Z",
     "shell.execute_reply": "2022-06-04T11:51:17.819885Z"
    },
    "papermill": {
     "duration": 4.678705,
     "end_time": "2022-06-04T11:51:17.825966",
     "exception": false,
     "start_time": "2022-06-04T11:51:13.147261",
     "status": "completed"
    },
    "tags": []
   },
   "outputs": [],
   "source": [
    "model = CNN(\n",
    "    number_of_classes=NUM_CLASSES,\n",
    "    vocab_size=vocabulary.__len__(),\n",
    "    embedding_dim=100,\n",
    "    input_len=nn_input_len,\n",
    "    device=device\n",
    ").to(device)"
   ]
  },
  {
   "cell_type": "markdown",
   "id": "4e0584b9",
   "metadata": {
    "papermill": {
     "duration": 0.004899,
     "end_time": "2022-06-04T11:51:17.837134",
     "exception": false,
     "start_time": "2022-06-04T11:51:17.832235",
     "status": "completed"
    },
    "tags": []
   },
   "source": [
    "## Training"
   ]
  },
  {
   "cell_type": "code",
   "execution_count": 13,
   "id": "35c76a57",
   "metadata": {
    "execution": {
     "iopub.execute_input": "2022-06-04T11:51:17.847616Z",
     "iopub.status.busy": "2022-06-04T11:51:17.847381Z",
     "iopub.status.idle": "2022-06-04T11:58:30.741017Z",
     "shell.execute_reply": "2022-06-04T11:58:30.740255Z"
    },
    "papermill": {
     "duration": 432.905513,
     "end_time": "2022-06-04T11:58:30.747474",
     "exception": false,
     "start_time": "2022-06-04T11:51:17.841961",
     "status": "completed"
    },
    "tags": []
   },
   "outputs": [
    {
     "name": "stdout",
     "output_type": "stream",
     "text": [
      "Epoch 0\n"
     ]
    },
    {
     "name": "stderr",
     "output_type": "stream",
     "text": [
      "/home/jovyan/genomic_benchmarks/src/genomic_benchmarks/dataset_getters/utils.py:27: UserWarning: To copy construct from a tensor, it is recommended to use sourceTensor.clone().detach() or sourceTensor.clone().detach().requires_grad_(True), rather than torch.tensor(sourceTensor).\n",
      "  x = torch.tensor(pad(x), dtype=torch.long)\n"
     ]
    },
    {
     "name": "stdout",
     "output_type": "stream",
     "text": [
      "Train metrics: \n",
      " Accuracy: 66.0%, Avg loss: 0.646780 \n",
      "\n",
      "Epoch 1\n",
      "Train metrics: \n",
      " Accuracy: 75.6%, Avg loss: 0.611348 \n",
      "\n",
      "Epoch 2\n",
      "Train metrics: \n",
      " Accuracy: 77.4%, Avg loss: 0.603273 \n",
      "\n",
      "Epoch 3\n",
      "Train metrics: \n",
      " Accuracy: 78.4%, Avg loss: 0.599631 \n",
      "\n",
      "Epoch 4\n",
      "Train metrics: \n",
      " Accuracy: 78.9%, Avg loss: 0.597885 \n",
      "\n",
      "Epoch 5\n",
      "Train metrics: \n",
      " Accuracy: 79.3%, Avg loss: 0.596216 \n",
      "\n",
      "Epoch 6\n",
      "Train metrics: \n",
      " Accuracy: 79.7%, Avg loss: 0.593916 \n",
      "\n",
      "Epoch 7\n",
      "Train metrics: \n",
      " Accuracy: 80.0%, Avg loss: 0.593281 \n",
      "\n",
      "Epoch 8\n",
      "Train metrics: \n",
      " Accuracy: 80.1%, Avg loss: 0.592370 \n",
      "\n",
      "Epoch 9\n",
      "Train metrics: \n",
      " Accuracy: 80.2%, Avg loss: 0.592683 \n",
      "\n"
     ]
    }
   ],
   "source": [
    "model.fit(train_loader, epochs=EPOCHS)"
   ]
  },
  {
   "cell_type": "markdown",
   "id": "1c4b6584",
   "metadata": {
    "papermill": {
     "duration": 0.004969,
     "end_time": "2022-06-04T11:58:30.760842",
     "exception": false,
     "start_time": "2022-06-04T11:58:30.755873",
     "status": "completed"
    },
    "tags": []
   },
   "source": [
    "## Testing"
   ]
  },
  {
   "cell_type": "code",
   "execution_count": 14,
   "id": "65983026",
   "metadata": {
    "execution": {
     "iopub.execute_input": "2022-06-04T11:58:30.771381Z",
     "iopub.status.busy": "2022-06-04T11:58:30.771202Z",
     "iopub.status.idle": "2022-06-04T11:58:44.215028Z",
     "shell.execute_reply": "2022-06-04T11:58:44.214643Z"
    },
    "papermill": {
     "duration": 13.450256,
     "end_time": "2022-06-04T11:58:44.216001",
     "exception": false,
     "start_time": "2022-06-04T11:58:30.765745",
     "status": "completed"
    },
    "tags": []
   },
   "outputs": [
    {
     "name": "stdout",
     "output_type": "stream",
     "text": [
      "Test metrics: \n",
      " Accuracy: 0.688828, F1 score: 0.564587, Avg loss: 0.623609 \n",
      "\n"
     ]
    },
    {
     "data": {
      "text/plain": [
       "(0.6888278979657734, 0.564586816066507)"
      ]
     },
     "execution_count": 14,
     "metadata": {},
     "output_type": "execute_result"
    }
   ],
   "source": [
    "test_dset = get_dataset(DATASET, 'test')\n",
    "test_loader = DataLoader(test_dset, batch_size=BATCH_SIZE, shuffle=True, collate_fn=collate)\n",
    "\n",
    "acc, f1 = model.test(test_loader)\n",
    "acc, f1"
   ]
  }
 ],
 "metadata": {
  "environment": {
   "name": "pytorch-gpu.1-9.m75",
   "type": "gcloud",
   "uri": "gcr.io/deeplearning-platform-release/pytorch-gpu.1-9:m75"
  },
  "interpreter": {
   "hash": "5fb5174addf958ec7b3e9e5d35a565dfd5bab1ae69383cd521f52756e68c7fc3"
  },
  "kernelspec": {
   "display_name": "Python 3 (ipykernel)",
   "language": "python",
   "name": "python3"
  },
  "language_info": {
   "codemirror_mode": {
    "name": "ipython",
    "version": 3
   },
   "file_extension": ".py",
   "mimetype": "text/x-python",
   "name": "python",
   "nbconvert_exporter": "python",
   "pygments_lexer": "ipython3",
   "version": "3.9.10"
  },
  "papermill": {
   "default_parameters": {},
   "duration": 815.412717,
   "end_time": "2022-06-04T11:58:44.939158",
   "environment_variables": {},
   "exception": null,
   "input_path": "utils/torch_cnn_classifier.ipynb",
   "output_path": "torch_cnn_experiments/human_enhancers_ensembl.ipynb",
   "parameters": {
    "DATASET": "human_enhancers_ensembl",
    "EPOCHS": 10
   },
   "start_time": "2022-06-04T11:45:09.526441",
   "version": "2.3.4"
  }
 },
 "nbformat": 4,
 "nbformat_minor": 5
}
