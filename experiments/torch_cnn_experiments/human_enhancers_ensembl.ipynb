{
 "cells": [
  {
   "cell_type": "markdown",
   "id": "8dcda5dc",
   "metadata": {
    "papermill": {
     "duration": 0.037036,
     "end_time": "2021-11-25T17:19:22.876660",
     "exception": false,
     "start_time": "2021-11-25T17:19:22.839624",
     "status": "completed"
    },
    "tags": []
   },
   "source": [
    "# PYTORCH CNN Classifier\n",
    "\n",
    "To run this notebook on an another benchmark, use\n",
    "\n",
    "```\n",
    "papermill utils/torch_cnn_classifier.ipynb torch_cnn_experiments/[DATASET NAME].ipynb -p DATASET [DATASET NAME]\n",
    "```"
   ]
  },
  {
   "cell_type": "code",
   "execution_count": 1,
   "id": "81a152bc",
   "metadata": {
    "execution": {
     "iopub.execute_input": "2021-11-25T17:19:22.948255Z",
     "iopub.status.busy": "2021-11-25T17:19:22.947417Z",
     "iopub.status.idle": "2021-11-25T17:19:22.950786Z",
     "shell.execute_reply": "2021-11-25T17:19:22.951361Z"
    },
    "papermill": {
     "duration": 0.040525,
     "end_time": "2021-11-25T17:19:22.951602",
     "exception": false,
     "start_time": "2021-11-25T17:19:22.911077",
     "status": "completed"
    },
    "tags": [
     "parameters"
    ]
   },
   "outputs": [],
   "source": [
    "# DATASET = 'no_dataset'\n",
    "DATASET = 'demo_human_or_worm'\n",
    "VERSION = 0\n",
    "BATCH_SIZE = 32\n",
    "EPOCHS = 1"
   ]
  },
  {
   "cell_type": "code",
   "execution_count": 2,
   "id": "46048851",
   "metadata": {
    "execution": {
     "iopub.execute_input": "2021-11-25T17:19:23.020937Z",
     "iopub.status.busy": "2021-11-25T17:19:23.020190Z",
     "iopub.status.idle": "2021-11-25T17:19:23.023423Z",
     "shell.execute_reply": "2021-11-25T17:19:23.022909Z"
    },
    "papermill": {
     "duration": 0.038273,
     "end_time": "2021-11-25T17:19:23.023546",
     "exception": false,
     "start_time": "2021-11-25T17:19:22.985273",
     "status": "completed"
    },
    "tags": [
     "injected-parameters"
    ]
   },
   "outputs": [],
   "source": [
    "# Parameters\n",
    "DATASET = \"human_enhancers_ensembl\"\n",
    "EPOCHS = 10\n"
   ]
  },
  {
   "cell_type": "code",
   "execution_count": 3,
   "id": "a67f1173",
   "metadata": {
    "execution": {
     "iopub.execute_input": "2021-11-25T17:19:23.093909Z",
     "iopub.status.busy": "2021-11-25T17:19:23.092983Z",
     "iopub.status.idle": "2021-11-25T17:19:23.096512Z",
     "shell.execute_reply": "2021-11-25T17:19:23.097014Z"
    },
    "papermill": {
     "duration": 0.041037,
     "end_time": "2021-11-25T17:19:23.097175",
     "exception": false,
     "start_time": "2021-11-25T17:19:23.056138",
     "status": "completed"
    },
    "tags": []
   },
   "outputs": [
    {
     "name": "stdout",
     "output_type": "stream",
     "text": [
      "human_enhancers_ensembl 0 32 10\n"
     ]
    }
   ],
   "source": [
    "print(DATASET, VERSION, BATCH_SIZE, EPOCHS)"
   ]
  },
  {
   "cell_type": "markdown",
   "id": "45b7daf8",
   "metadata": {
    "papermill": {
     "duration": 0.032701,
     "end_time": "2021-11-25T17:19:23.164652",
     "exception": false,
     "start_time": "2021-11-25T17:19:23.131951",
     "status": "completed"
    },
    "tags": []
   },
   "source": [
    "## Config"
   ]
  },
  {
   "cell_type": "code",
   "execution_count": 4,
   "id": "df0f4075",
   "metadata": {
    "execution": {
     "iopub.execute_input": "2021-11-25T17:19:23.236301Z",
     "iopub.status.busy": "2021-11-25T17:19:23.235593Z",
     "iopub.status.idle": "2021-11-25T17:19:24.425440Z",
     "shell.execute_reply": "2021-11-25T17:19:24.424818Z"
    },
    "papermill": {
     "duration": 1.228108,
     "end_time": "2021-11-25T17:19:24.425597",
     "exception": false,
     "start_time": "2021-11-25T17:19:23.197489",
     "status": "completed"
    },
    "tags": []
   },
   "outputs": [],
   "source": [
    "import os\n",
    "import numpy as np\n",
    "import torch\n",
    "from torch import nn\n",
    "from torch.utils.data import DataLoader\n",
    "from torchtext.data.utils import get_tokenizer\n",
    "\n",
    "from genomic_benchmarks.dataset_getters.pytorch_datasets import get_dataset\n",
    "from genomic_benchmarks.models.torch import CNN\n",
    "from genomic_benchmarks.dataset_getters.utils import coll_factory, LetterTokenizer, build_vocab, check_seq_lengths, check_config, VARIABLE_LENGTH_DATASETS"
   ]
  },
  {
   "cell_type": "code",
   "execution_count": 5,
   "id": "cc34d57e",
   "metadata": {
    "execution": {
     "iopub.execute_input": "2021-11-25T17:19:24.498663Z",
     "iopub.status.busy": "2021-11-25T17:19:24.498038Z",
     "iopub.status.idle": "2021-11-25T17:19:24.500610Z",
     "shell.execute_reply": "2021-11-25T17:19:24.501152Z"
    },
    "papermill": {
     "duration": 0.041424,
     "end_time": "2021-11-25T17:19:24.501332",
     "exception": false,
     "start_time": "2021-11-25T17:19:24.459908",
     "status": "completed"
    },
    "tags": []
   },
   "outputs": [],
   "source": [
    "USE_PADDING = DATASET in VARIABLE_LENGTH_DATASETS\n",
    "    \n",
    "config = {\n",
    "    \"dataset\": DATASET,\n",
    "    \"dataset_version\": VERSION,\n",
    "    \"epochs\": EPOCHS,\n",
    "    \"batch_size\": BATCH_SIZE,\n",
    "    \"use_padding\": USE_PADDING,\n",
    "    \"force_download\": False,\n",
    "    \"run_on_gpu\": True,\n",
    "    \"number_of_classes\": 2,\n",
    "    \"embedding_dim\": 100,\n",
    "}\n",
    "check_config(config)"
   ]
  },
  {
   "cell_type": "markdown",
   "id": "025f7186",
   "metadata": {
    "papermill": {
     "duration": 0.03556,
     "end_time": "2021-11-25T17:19:24.570989",
     "exception": false,
     "start_time": "2021-11-25T17:19:24.535429",
     "status": "completed"
    },
    "tags": []
   },
   "source": [
    "## Choose the dataset"
   ]
  },
  {
   "cell_type": "code",
   "execution_count": 6,
   "id": "b3235d78",
   "metadata": {
    "execution": {
     "iopub.execute_input": "2021-11-25T17:19:24.643543Z",
     "iopub.status.busy": "2021-11-25T17:19:24.642982Z",
     "iopub.status.idle": "2021-11-25T17:19:25.039808Z",
     "shell.execute_reply": "2021-11-25T17:19:25.039285Z"
    },
    "papermill": {
     "duration": 0.434866,
     "end_time": "2021-11-25T17:19:25.039936",
     "exception": false,
     "start_time": "2021-11-25T17:19:24.605070",
     "status": "completed"
    },
    "tags": []
   },
   "outputs": [],
   "source": [
    "train_dset = get_dataset(config[\"dataset\"], 'train')"
   ]
  },
  {
   "cell_type": "markdown",
   "id": "45d65548",
   "metadata": {
    "papermill": {
     "duration": 0.033806,
     "end_time": "2021-11-25T17:19:25.108098",
     "exception": false,
     "start_time": "2021-11-25T17:19:25.074292",
     "status": "completed"
    },
    "tags": []
   },
   "source": [
    "## Tokenizer and vocab"
   ]
  },
  {
   "cell_type": "code",
   "execution_count": 7,
   "id": "7e579293",
   "metadata": {
    "execution": {
     "iopub.execute_input": "2021-11-25T17:19:25.180678Z",
     "iopub.status.busy": "2021-11-25T17:19:25.180048Z",
     "iopub.status.idle": "2021-11-25T17:20:29.390186Z",
     "shell.execute_reply": "2021-11-25T17:20:29.390670Z"
    },
    "papermill": {
     "duration": 64.249362,
     "end_time": "2021-11-25T17:20:29.390851",
     "exception": false,
     "start_time": "2021-11-25T17:19:25.141489",
     "status": "completed"
    },
    "tags": []
   },
   "outputs": [
    {
     "name": "stdout",
     "output_type": "stream",
     "text": [
      "vocab len: 9\n",
      "{'C': 5, 'A': 4, '<eos>': 6, 'G': 3, '<pad>': 8, 'T': 2, '<bos>': 1, 'N': 7, '<unk>': 0}\n"
     ]
    }
   ],
   "source": [
    "tokenizer = get_tokenizer(LetterTokenizer())\n",
    "vocabulary = build_vocab(train_dset, tokenizer, use_padding=config[\"use_padding\"])\n",
    "\n",
    "print(\"vocab len:\" ,vocabulary.__len__())\n",
    "print(vocabulary.get_stoi())"
   ]
  },
  {
   "cell_type": "markdown",
   "id": "eba8b63f",
   "metadata": {
    "papermill": {
     "duration": 0.034423,
     "end_time": "2021-11-25T17:20:29.472357",
     "exception": false,
     "start_time": "2021-11-25T17:20:29.437934",
     "status": "completed"
    },
    "tags": []
   },
   "source": [
    "## Dataloader and batch preparation"
   ]
  },
  {
   "cell_type": "code",
   "execution_count": 8,
   "id": "8c4a01e4",
   "metadata": {
    "execution": {
     "iopub.execute_input": "2021-11-25T17:20:29.555203Z",
     "iopub.status.busy": "2021-11-25T17:20:29.554639Z",
     "iopub.status.idle": "2021-11-25T17:20:35.751559Z",
     "shell.execute_reply": "2021-11-25T17:20:35.751998Z"
    },
    "papermill": {
     "duration": 6.245823,
     "end_time": "2021-11-25T17:20:35.752195",
     "exception": false,
     "start_time": "2021-11-25T17:20:29.506372",
     "status": "completed"
    },
    "tags": []
   },
   "outputs": [
    {
     "name": "stdout",
     "output_type": "stream",
     "text": [
      "Using cuda device\n"
     ]
    },
    {
     "name": "stdout",
     "output_type": "stream",
     "text": [
      "max_seq_len  573\n"
     ]
    },
    {
     "name": "stdout",
     "output_type": "stream",
     "text": [
      "not all sequences are of the same length\n"
     ]
    }
   ],
   "source": [
    "# Run on GPU or CPU\n",
    "device = 'cuda' if config[\"run_on_gpu\"] and torch.cuda.is_available() else 'cpu'\n",
    "print('Using {} device'.format(device))\n",
    "\n",
    "max_seq_len, nn_input_len = check_seq_lengths(dataset=train_dset, config=config)\n",
    "\n",
    "# Data Loader\n",
    "if(config[\"use_padding\"]):\n",
    "    collate = coll_factory(vocabulary, tokenizer, device, pad_to_length = nn_input_len)\n",
    "else:\n",
    "    collate = coll_factory(vocabulary, tokenizer, device, pad_to_length = None)\n",
    "\n",
    "train_loader = DataLoader(train_dset, batch_size=config[\"batch_size\"], shuffle=True, collate_fn=collate)"
   ]
  },
  {
   "cell_type": "markdown",
   "id": "0c66a417",
   "metadata": {
    "papermill": {
     "duration": 0.035753,
     "end_time": "2021-11-25T17:20:35.825072",
     "exception": false,
     "start_time": "2021-11-25T17:20:35.789319",
     "status": "completed"
    },
    "tags": []
   },
   "source": [
    "## Model"
   ]
  },
  {
   "cell_type": "code",
   "execution_count": 9,
   "id": "0e582254",
   "metadata": {
    "execution": {
     "iopub.execute_input": "2021-11-25T17:20:35.902987Z",
     "iopub.status.busy": "2021-11-25T17:20:35.902009Z",
     "iopub.status.idle": "2021-11-25T17:20:37.531044Z",
     "shell.execute_reply": "2021-11-25T17:20:37.531474Z"
    },
    "papermill": {
     "duration": 1.670245,
     "end_time": "2021-11-25T17:20:37.531632",
     "exception": false,
     "start_time": "2021-11-25T17:20:35.861387",
     "status": "completed"
    },
    "tags": []
   },
   "outputs": [
    {
     "name": "stderr",
     "output_type": "stream",
     "text": [
      "/opt/conda/envs/bench_env/lib/python3.8/site-packages/torch/nn/functional.py:652: UserWarning: Named tensors and all their associated APIs are an experimental feature and subject to change. Please do not use them for anything important until they are released as stable. (Triggered internally at  /opt/conda/conda-bld/pytorch_1623448278899/work/c10/core/TensorImpl.h:1156.)\n",
      "  return torch.max_pool1d(input, kernel_size, stride, padding, dilation, ceil_mode)\n"
     ]
    }
   ],
   "source": [
    "model = CNN(\n",
    "    number_of_classes=config[\"number_of_classes\"],\n",
    "    vocab_size=vocabulary.__len__(),\n",
    "    embedding_dim=config[\"embedding_dim\"],\n",
    "    input_len=nn_input_len\n",
    ").to(device)"
   ]
  },
  {
   "cell_type": "markdown",
   "id": "949c6c94",
   "metadata": {
    "papermill": {
     "duration": 0.036807,
     "end_time": "2021-11-25T17:20:37.606515",
     "exception": false,
     "start_time": "2021-11-25T17:20:37.569708",
     "status": "completed"
    },
    "tags": []
   },
   "source": [
    "## Training"
   ]
  },
  {
   "cell_type": "code",
   "execution_count": 10,
   "id": "006471df",
   "metadata": {
    "execution": {
     "iopub.execute_input": "2021-11-25T17:20:37.687414Z",
     "iopub.status.busy": "2021-11-25T17:20:37.686510Z",
     "iopub.status.idle": "2021-11-25T17:40:24.637602Z",
     "shell.execute_reply": "2021-11-25T17:40:24.638057Z"
    },
    "papermill": {
     "duration": 1186.99448,
     "end_time": "2021-11-25T17:40:24.638210",
     "exception": false,
     "start_time": "2021-11-25T17:20:37.643730",
     "status": "completed"
    },
    "tags": []
   },
   "outputs": [
    {
     "name": "stdout",
     "output_type": "stream",
     "text": [
      "Epoch 0\n"
     ]
    },
    {
     "name": "stderr",
     "output_type": "stream",
     "text": [
      "/home/jupyter/genomic_benchmarks/src/genomic_benchmarks/dataset_getters/utils.py:26: UserWarning: To copy construct from a tensor, it is recommended to use sourceTensor.clone().detach() or sourceTensor.clone().detach().requires_grad_(True), rather than torch.tensor(sourceTensor).\n",
      "  x = torch.tensor(pad(x), dtype=torch.long)\n"
     ]
    },
    {
     "name": "stdout",
     "output_type": "stream",
     "text": [
      "Train metrics: \n",
      " Accuracy: 68.9%, Avg loss: 0.628667 \n",
      "\n",
      "Epoch 1\n"
     ]
    },
    {
     "name": "stdout",
     "output_type": "stream",
     "text": [
      "Train metrics: \n",
      " Accuracy: 72.2%, Avg loss: 0.618892 \n",
      "\n",
      "Epoch 2\n"
     ]
    },
    {
     "name": "stdout",
     "output_type": "stream",
     "text": [
      "Train metrics: \n",
      " Accuracy: 76.9%, Avg loss: 0.610330 \n",
      "\n",
      "Epoch 3\n"
     ]
    },
    {
     "name": "stdout",
     "output_type": "stream",
     "text": [
      "Train metrics: \n",
      " Accuracy: 74.2%, Avg loss: 0.613762 \n",
      "\n",
      "Epoch 4\n"
     ]
    },
    {
     "name": "stdout",
     "output_type": "stream",
     "text": [
      "Train metrics: \n",
      " Accuracy: 76.2%, Avg loss: 0.606820 \n",
      "\n",
      "Epoch 5\n"
     ]
    },
    {
     "name": "stdout",
     "output_type": "stream",
     "text": [
      "Train metrics: \n",
      " Accuracy: 75.7%, Avg loss: 0.604778 \n",
      "\n",
      "Epoch 6\n"
     ]
    },
    {
     "name": "stdout",
     "output_type": "stream",
     "text": [
      "Train metrics: \n",
      " Accuracy: 78.8%, Avg loss: 0.596691 \n",
      "\n",
      "Epoch 7\n"
     ]
    },
    {
     "name": "stdout",
     "output_type": "stream",
     "text": [
      "Train metrics: \n",
      " Accuracy: 78.7%, Avg loss: 0.594314 \n",
      "\n",
      "Epoch 8\n"
     ]
    },
    {
     "name": "stdout",
     "output_type": "stream",
     "text": [
      "Train metrics: \n",
      " Accuracy: 79.5%, Avg loss: 0.592993 \n",
      "\n",
      "Epoch 9\n"
     ]
    },
    {
     "name": "stdout",
     "output_type": "stream",
     "text": [
      "Train metrics: \n",
      " Accuracy: 81.5%, Avg loss: 0.589372 \n",
      "\n"
     ]
    }
   ],
   "source": [
    "model.train(train_loader, epochs=config[\"epochs\"])"
   ]
  },
  {
   "cell_type": "markdown",
   "id": "466057d3",
   "metadata": {
    "papermill": {
     "duration": 0.046696,
     "end_time": "2021-11-25T17:40:24.731817",
     "exception": false,
     "start_time": "2021-11-25T17:40:24.685121",
     "status": "completed"
    },
    "tags": []
   },
   "source": [
    "## Testing"
   ]
  },
  {
   "cell_type": "code",
   "execution_count": 11,
   "id": "ae4bef72",
   "metadata": {
    "execution": {
     "iopub.execute_input": "2021-11-25T17:40:24.830555Z",
     "iopub.status.busy": "2021-11-25T17:40:24.830005Z",
     "iopub.status.idle": "2021-11-25T17:41:45.642610Z",
     "shell.execute_reply": "2021-11-25T17:41:45.641966Z"
    },
    "papermill": {
     "duration": 80.864034,
     "end_time": "2021-11-25T17:41:45.642737",
     "exception": false,
     "start_time": "2021-11-25T17:40:24.778703",
     "status": "completed"
    },
    "tags": []
   },
   "outputs": [
    {
     "name": "stdout",
     "output_type": "stream",
     "text": [
      "p  15485 ; tp  11925.867344379425 ; fp  2209.899226059448\n",
      "recall  0.7701561087749064 ; precision  0.8436661206134478\n",
      "num_batches 968\n",
      "correct 25236\n",
      "size 30970\n",
      "Test metrics: \n",
      " Accuracy: 0.814853, F1 score: 0.805237, Avg loss: 0.589856 \n",
      "\n"
     ]
    },
    {
     "data": {
      "text/plain": [
       "(0.8148530836293187, 0.8052369148529249)"
      ]
     },
     "execution_count": 11,
     "metadata": {},
     "output_type": "execute_result"
    }
   ],
   "source": [
    "test_dset = get_dataset(config[\"dataset\"], 'test')\n",
    "test_loader = DataLoader(test_dset, batch_size=config[\"batch_size\"], shuffle=True, collate_fn=collate)\n",
    "\n",
    "acc, f1 = model.test(test_loader)\n",
    "acc, f1"
   ]
  }
 ],
 "metadata": {
  "environment": {
   "name": "pytorch-gpu.1-9.m75",
   "type": "gcloud",
   "uri": "gcr.io/deeplearning-platform-release/pytorch-gpu.1-9:m75"
  },
  "interpreter": {
   "hash": "9828b828580f1cac1b571b33de6cff8bacecc8916095e1bcbc967952ca7105b7"
  },
  "kernelspec": {
   "display_name": "conda-env-bench_env-py",
   "language": "python",
   "name": "bench_env"
  },
  "language_info": {
   "codemirror_mode": {
    "name": "ipython",
    "version": 3
   },
   "file_extension": ".py",
   "mimetype": "text/x-python",
   "name": "python",
   "nbconvert_exporter": "python",
   "pygments_lexer": "ipython3",
   "version": "3.8.10"
  },
  "papermill": {
   "default_parameters": {},
   "duration": 1344.589909,
   "end_time": "2021-11-25T17:41:46.301925",
   "environment_variables": {},
   "exception": null,
   "input_path": "utils/torch_cnn_classifier.ipynb",
   "output_path": "torch_cnn_experiments/human_enhancers_ensembl.ipynb",
   "parameters": {
    "DATASET": "human_enhancers_ensembl",
    "EPOCHS": 10
   },
   "start_time": "2021-11-25T17:19:21.712016",
   "version": "2.3.3"
  }
 },
 "nbformat": 4,
 "nbformat_minor": 5
}