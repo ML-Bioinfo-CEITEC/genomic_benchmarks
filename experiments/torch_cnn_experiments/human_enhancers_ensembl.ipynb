{
 "cells": [
  {
   "cell_type": "markdown",
   "id": "942a6898",
   "metadata": {
    "papermill": {
     "duration": 0.056874,
     "end_time": "2022-06-03T17:53:19.087986",
     "exception": false,
     "start_time": "2022-06-03T17:53:19.031112",
     "status": "completed"
    },
    "tags": []
   },
   "source": [
    "# PYTORCH CNN Classifier\n",
    "\n",
    "To run this notebook on an another benchmark, use\n",
    "\n",
    "```\n",
    "papermill utils/torch_cnn_classifier.ipynb torch_cnn_experiments/[DATASET NAME].ipynb -p DATASET [DATASET NAME]\n",
    "```"
   ]
  },
  {
   "cell_type": "code",
   "execution_count": 1,
   "id": "0a80aae5",
   "metadata": {
    "execution": {
     "iopub.execute_input": "2022-06-03T17:53:19.110173Z",
     "iopub.status.busy": "2022-06-03T17:53:19.109888Z",
     "iopub.status.idle": "2022-06-03T17:53:19.112101Z",
     "shell.execute_reply": "2022-06-03T17:53:19.111766Z"
    },
    "papermill": {
     "duration": 0.015543,
     "end_time": "2022-06-03T17:53:19.112174",
     "exception": false,
     "start_time": "2022-06-03T17:53:19.096631",
     "status": "completed"
    },
    "tags": [
     "parameters"
    ]
   },
   "outputs": [],
   "source": [
    "# DATASET = 'no_dataset'\n",
    "DATASET = 'demo_human_or_worm'\n",
    "VERSION = 0\n",
    "BATCH_SIZE = 64\n",
    "EPOCHS = 1"
   ]
  },
  {
   "cell_type": "code",
   "execution_count": 2,
   "id": "0eedf504",
   "metadata": {
    "execution": {
     "iopub.execute_input": "2022-06-03T17:53:19.133275Z",
     "iopub.status.busy": "2022-06-03T17:53:19.132808Z",
     "iopub.status.idle": "2022-06-03T17:53:19.134526Z",
     "shell.execute_reply": "2022-06-03T17:53:19.134255Z"
    },
    "papermill": {
     "duration": 0.013808,
     "end_time": "2022-06-03T17:53:19.134593",
     "exception": false,
     "start_time": "2022-06-03T17:53:19.120785",
     "status": "completed"
    },
    "tags": [
     "injected-parameters"
    ]
   },
   "outputs": [],
   "source": [
    "# Parameters\n",
    "DATASET = \"human_enhancers_ensembl\"\n"
   ]
  },
  {
   "cell_type": "code",
   "execution_count": 3,
   "id": "cb1908ad",
   "metadata": {
    "execution": {
     "iopub.execute_input": "2022-06-03T17:53:19.160100Z",
     "iopub.status.busy": "2022-06-03T17:53:19.159400Z",
     "iopub.status.idle": "2022-06-03T17:53:19.161977Z",
     "shell.execute_reply": "2022-06-03T17:53:19.161692Z"
    },
    "papermill": {
     "duration": 0.012482,
     "end_time": "2022-06-03T17:53:19.162043",
     "exception": false,
     "start_time": "2022-06-03T17:53:19.149561",
     "status": "completed"
    },
    "tags": []
   },
   "outputs": [
    {
     "name": "stdout",
     "output_type": "stream",
     "text": [
      "human_enhancers_ensembl 0 64 1\n"
     ]
    }
   ],
   "source": [
    "print(DATASET, VERSION, BATCH_SIZE, EPOCHS)"
   ]
  },
  {
   "cell_type": "markdown",
   "id": "b6250fa4",
   "metadata": {
    "papermill": {
     "duration": 0.008482,
     "end_time": "2022-06-03T17:53:19.179981",
     "exception": false,
     "start_time": "2022-06-03T17:53:19.171499",
     "status": "completed"
    },
    "tags": []
   },
   "source": [
    "## Config"
   ]
  },
  {
   "cell_type": "code",
   "execution_count": 4,
   "id": "ca783eac",
   "metadata": {
    "execution": {
     "iopub.execute_input": "2022-06-03T17:53:19.208104Z",
     "iopub.status.busy": "2022-06-03T17:53:19.200976Z",
     "iopub.status.idle": "2022-06-03T17:53:20.158766Z",
     "shell.execute_reply": "2022-06-03T17:53:20.157854Z"
    },
    "papermill": {
     "duration": 0.969344,
     "end_time": "2022-06-03T17:53:20.158950",
     "exception": false,
     "start_time": "2022-06-03T17:53:19.189606",
     "status": "completed"
    },
    "tags": []
   },
   "outputs": [],
   "source": [
    "import os\n",
    "import numpy as np\n",
    "import torch\n",
    "from torch import nn\n",
    "from torch.utils.data import DataLoader\n",
    "from torchtext.data.utils import get_tokenizer\n",
    "\n",
    "from genomic_benchmarks.data_check import is_downloaded, info\n",
    "from genomic_benchmarks.dataset_getters.pytorch_datasets import get_dataset\n",
    "from genomic_benchmarks.loc2seq import download_dataset\n",
    "from genomic_benchmarks.models.torch import CNN\n",
    "from genomic_benchmarks.dataset_getters.utils import coll_factory, LetterTokenizer, build_vocab, check_seq_lengths, check_config, VARIABLE_LENGTH_DATASETS"
   ]
  },
  {
   "cell_type": "code",
   "execution_count": 5,
   "id": "4b13f087",
   "metadata": {
    "execution": {
     "iopub.execute_input": "2022-06-03T17:53:20.189581Z",
     "iopub.status.busy": "2022-06-03T17:53:20.189302Z",
     "iopub.status.idle": "2022-06-03T17:53:20.194622Z",
     "shell.execute_reply": "2022-06-03T17:53:20.195293Z"
    },
    "papermill": {
     "duration": 0.020361,
     "end_time": "2022-06-03T17:53:20.195479",
     "exception": false,
     "start_time": "2022-06-03T17:53:20.175118",
     "status": "completed"
    },
    "tags": []
   },
   "outputs": [],
   "source": [
    "USE_PADDING = DATASET in VARIABLE_LENGTH_DATASETS"
   ]
  },
  {
   "cell_type": "markdown",
   "id": "2b623cf1",
   "metadata": {
    "papermill": {
     "duration": 0.009021,
     "end_time": "2022-06-03T17:53:20.217778",
     "exception": false,
     "start_time": "2022-06-03T17:53:20.208757",
     "status": "completed"
    },
    "tags": []
   },
   "source": [
    "## Choose the dataset"
   ]
  },
  {
   "cell_type": "code",
   "execution_count": 6,
   "id": "05dd2024",
   "metadata": {
    "execution": {
     "iopub.execute_input": "2022-06-03T17:53:20.239815Z",
     "iopub.status.busy": "2022-06-03T17:53:20.238220Z",
     "iopub.status.idle": "2022-06-03T17:53:32.494686Z",
     "shell.execute_reply": "2022-06-03T17:53:32.494030Z"
    },
    "papermill": {
     "duration": 12.268456,
     "end_time": "2022-06-03T17:53:32.494855",
     "exception": false,
     "start_time": "2022-06-03T17:53:20.226399",
     "status": "completed"
    },
    "tags": []
   },
   "outputs": [
    {
     "name": "stderr",
     "output_type": "stream",
     "text": [
      "/home/katarina/git/genomic_benchmarks/src/genomic_benchmarks/utils/datasets.py:50: UserWarning: No version specified. Using version 0.\n",
      "  warnings.warn(f\"No version specified. Using version {metadata['version']}.\")\n"
     ]
    },
    {
     "name": "stderr",
     "output_type": "stream",
     "text": [
      "Downloading...\n",
      "From: https://drive.google.com/uc?id=1gZBEV_RGxJE8EON5OObdrp5Tp8JL0Fxb\n",
      "To: /home/katarina/.genomic_benchmarks/human_enhancers_ensembl.zip\n"
     ]
    },
    {
     "name": "stderr",
     "output_type": "stream",
     "text": [
      "\r\n",
      "  0%|                                                                                                                                                       | 0.00/51.1M [00:00<?, ?B/s]"
     ]
    },
    {
     "name": "stderr",
     "output_type": "stream",
     "text": [
      "\r\n",
      "  3%|████▎                                                                                                                                         | 1.57M/51.1M [00:00<00:03, 14.8MB/s]"
     ]
    },
    {
     "name": "stderr",
     "output_type": "stream",
     "text": [
      "\r\n",
      "  9%|█████████████                                                                                                                                 | 4.72M/51.1M [00:00<00:02, 18.1MB/s]"
     ]
    },
    {
     "name": "stderr",
     "output_type": "stream",
     "text": [
      "\r\n",
      " 25%|██████████████████████████████████▉                                                                                                           | 12.6M/51.1M [00:00<00:01, 30.4MB/s]"
     ]
    },
    {
     "name": "stderr",
     "output_type": "stream",
     "text": [
      "\r\n",
      " 34%|████████████████████████████████████████████████                                                                                              | 17.3M/51.1M [00:00<00:01, 27.4MB/s]"
     ]
    },
    {
     "name": "stderr",
     "output_type": "stream",
     "text": [
      "\r\n",
      " 50%|███████████████████████████████████████████████████████████████████████▎                                                                      | 25.7M/51.1M [00:00<00:00, 30.5MB/s]"
     ]
    },
    {
     "name": "stderr",
     "output_type": "stream",
     "text": [
      "\r\n",
      " 67%|██████████████████████████████████████████████████████████████████████████████████████████████▋                                               | 34.1M/51.1M [00:01<00:00, 35.1MB/s]"
     ]
    },
    {
     "name": "stderr",
     "output_type": "stream",
     "text": [
      "\r\n",
      " 83%|█████████████████████████████████████████████████████████████████████████████████████████████████████████████████████▉                        | 42.5M/51.1M [00:01<00:00, 39.2MB/s]"
     ]
    },
    {
     "name": "stderr",
     "output_type": "stream",
     "text": [
      "\r\n",
      "100%|██████████████████████████████████████████████████████████████████████████████████████████████████████████████████████████████████████████████| 51.1M/51.1M [00:01<00:00, 38.3MB/s]"
     ]
    },
    {
     "name": "stderr",
     "output_type": "stream",
     "text": [
      "\n"
     ]
    }
   ],
   "source": [
    "if not is_downloaded(DATASET):\n",
    "    download_dataset(DATASET, local_repo=True)"
   ]
  },
  {
   "cell_type": "code",
   "execution_count": 7,
   "id": "3db69e9b",
   "metadata": {
    "execution": {
     "iopub.execute_input": "2022-06-03T17:53:32.526078Z",
     "iopub.status.busy": "2022-06-03T17:53:32.525805Z",
     "iopub.status.idle": "2022-06-03T17:53:32.626047Z",
     "shell.execute_reply": "2022-06-03T17:53:32.626709Z"
    },
    "papermill": {
     "duration": 0.116273,
     "end_time": "2022-06-03T17:53:32.626950",
     "exception": false,
     "start_time": "2022-06-03T17:53:32.510677",
     "status": "completed"
    },
    "tags": []
   },
   "outputs": [
    {
     "name": "stdout",
     "output_type": "stream",
     "text": [
      "Dataset `human_enhancers_ensembl` has 2 classes: negative, positive.\n",
      "\n",
      "The length of genomic intervals ranges from 2 to 573, with average 268.8641324705183 and median 269.0.\n",
      "\n",
      "Totally 154842 sequences have been found, 123872 for training and 30970 for testing.\n"
     ]
    },
    {
     "data": {
      "text/html": [
       "<div>\n",
       "<style scoped>\n",
       "    .dataframe tbody tr th:only-of-type {\n",
       "        vertical-align: middle;\n",
       "    }\n",
       "\n",
       "    .dataframe tbody tr th {\n",
       "        vertical-align: top;\n",
       "    }\n",
       "\n",
       "    .dataframe thead th {\n",
       "        text-align: right;\n",
       "    }\n",
       "</style>\n",
       "<table border=\"1\" class=\"dataframe\">\n",
       "  <thead>\n",
       "    <tr style=\"text-align: right;\">\n",
       "      <th></th>\n",
       "      <th>train</th>\n",
       "      <th>test</th>\n",
       "    </tr>\n",
       "  </thead>\n",
       "  <tbody>\n",
       "    <tr>\n",
       "      <th>negative</th>\n",
       "      <td>61936</td>\n",
       "      <td>15485</td>\n",
       "    </tr>\n",
       "    <tr>\n",
       "      <th>positive</th>\n",
       "      <td>61936</td>\n",
       "      <td>15485</td>\n",
       "    </tr>\n",
       "  </tbody>\n",
       "</table>\n",
       "</div>"
      ],
      "text/plain": [
       "          train   test\n",
       "negative  61936  15485\n",
       "positive  61936  15485"
      ]
     },
     "execution_count": 7,
     "metadata": {},
     "output_type": "execute_result"
    }
   ],
   "source": [
    "info(DATASET, local_repo=True)"
   ]
  },
  {
   "cell_type": "code",
   "execution_count": 8,
   "id": "41c7a043",
   "metadata": {
    "execution": {
     "iopub.execute_input": "2022-06-03T17:53:32.664374Z",
     "iopub.status.busy": "2022-06-03T17:53:32.664096Z",
     "iopub.status.idle": "2022-06-03T17:53:33.018280Z",
     "shell.execute_reply": "2022-06-03T17:53:33.017601Z"
    },
    "papermill": {
     "duration": 0.370123,
     "end_time": "2022-06-03T17:53:33.018452",
     "exception": false,
     "start_time": "2022-06-03T17:53:32.648329",
     "status": "completed"
    },
    "tags": []
   },
   "outputs": [],
   "source": [
    "train_dset = get_dataset(DATASET, 'train')"
   ]
  },
  {
   "cell_type": "code",
   "execution_count": 9,
   "id": "48319c16",
   "metadata": {
    "execution": {
     "iopub.execute_input": "2022-06-03T17:53:33.054389Z",
     "iopub.status.busy": "2022-06-03T17:53:33.053878Z",
     "iopub.status.idle": "2022-06-03T17:53:34.829661Z",
     "shell.execute_reply": "2022-06-03T17:53:34.828656Z"
    },
    "papermill": {
     "duration": 1.792556,
     "end_time": "2022-06-03T17:53:34.829839",
     "exception": false,
     "start_time": "2022-06-03T17:53:33.037283",
     "status": "completed"
    },
    "tags": []
   },
   "outputs": [
    {
     "data": {
      "text/plain": [
       "2"
      ]
     },
     "execution_count": 9,
     "metadata": {},
     "output_type": "execute_result"
    }
   ],
   "source": [
    "NUM_CLASSES = len(set([train_dset[i][1] for i in range(len(train_dset))]))\n",
    "NUM_CLASSES"
   ]
  },
  {
   "cell_type": "markdown",
   "id": "09a5ed20",
   "metadata": {
    "papermill": {
     "duration": 0.011735,
     "end_time": "2022-06-03T17:53:34.863226",
     "exception": false,
     "start_time": "2022-06-03T17:53:34.851491",
     "status": "completed"
    },
    "tags": []
   },
   "source": [
    "## Tokenizer and vocab"
   ]
  },
  {
   "cell_type": "code",
   "execution_count": 10,
   "id": "a325b142",
   "metadata": {
    "execution": {
     "iopub.execute_input": "2022-06-03T17:53:34.889494Z",
     "iopub.status.busy": "2022-06-03T17:53:34.889211Z",
     "iopub.status.idle": "2022-06-03T17:53:37.597333Z",
     "shell.execute_reply": "2022-06-03T17:53:37.596729Z"
    },
    "papermill": {
     "duration": 2.72252,
     "end_time": "2022-06-03T17:53:37.597491",
     "exception": false,
     "start_time": "2022-06-03T17:53:34.874971",
     "status": "completed"
    },
    "tags": []
   },
   "outputs": [
    {
     "name": "stdout",
     "output_type": "stream",
     "text": [
      "vocab len: 9\n",
      "{'<pad>': 8, 'T': 5, '<eos>': 6, 'G': 3, 'A': 4, 'C': 2, '<bos>': 1, 'N': 7, '<unk>': 0}\n"
     ]
    }
   ],
   "source": [
    "tokenizer = get_tokenizer(LetterTokenizer())\n",
    "vocabulary = build_vocab(train_dset, tokenizer, use_padding=USE_PADDING)\n",
    "\n",
    "print(\"vocab len:\" ,vocabulary.__len__())\n",
    "print(vocabulary.get_stoi())"
   ]
  },
  {
   "cell_type": "markdown",
   "id": "3bd725d0",
   "metadata": {
    "papermill": {
     "duration": 0.012197,
     "end_time": "2022-06-03T17:53:37.624228",
     "exception": false,
     "start_time": "2022-06-03T17:53:37.612031",
     "status": "completed"
    },
    "tags": []
   },
   "source": [
    "## Dataloader and batch preparation"
   ]
  },
  {
   "cell_type": "code",
   "execution_count": 11,
   "id": "11626c55",
   "metadata": {
    "execution": {
     "iopub.execute_input": "2022-06-03T17:53:37.655424Z",
     "iopub.status.busy": "2022-06-03T17:53:37.654794Z",
     "iopub.status.idle": "2022-06-03T17:53:40.345417Z",
     "shell.execute_reply": "2022-06-03T17:53:40.346157Z"
    },
    "papermill": {
     "duration": 2.709771,
     "end_time": "2022-06-03T17:53:40.346400",
     "exception": false,
     "start_time": "2022-06-03T17:53:37.636629",
     "status": "completed"
    },
    "tags": []
   },
   "outputs": [
    {
     "name": "stdout",
     "output_type": "stream",
     "text": [
      "Using cpu device\n"
     ]
    },
    {
     "name": "stdout",
     "output_type": "stream",
     "text": [
      "max_seq_len  573\n"
     ]
    },
    {
     "name": "stdout",
     "output_type": "stream",
     "text": [
      "not all sequences are of the same length\n"
     ]
    }
   ],
   "source": [
    "# Run on GPU or CPU\n",
    "device = 'cuda' if torch.cuda.is_available() else 'cpu'\n",
    "print('Using {} device'.format(device))\n",
    "\n",
    "max_seq_len, nn_input_len = check_seq_lengths(dataset=train_dset, use_padding=USE_PADDING)\n",
    "\n",
    "# Data Loader\n",
    "if(USE_PADDING):\n",
    "    collate = coll_factory(vocabulary, tokenizer, device, pad_to_length = nn_input_len)\n",
    "else:\n",
    "    collate = coll_factory(vocabulary, tokenizer, device, pad_to_length = None)\n",
    "\n",
    "train_loader = DataLoader(train_dset, batch_size=BATCH_SIZE, shuffle=True, collate_fn=collate)"
   ]
  },
  {
   "cell_type": "markdown",
   "id": "4d40636b",
   "metadata": {
    "papermill": {
     "duration": 0.012751,
     "end_time": "2022-06-03T17:53:40.376635",
     "exception": false,
     "start_time": "2022-06-03T17:53:40.363884",
     "status": "completed"
    },
    "tags": []
   },
   "source": [
    "## Model"
   ]
  },
  {
   "cell_type": "code",
   "execution_count": 12,
   "id": "b0547b6d",
   "metadata": {
    "execution": {
     "iopub.execute_input": "2022-06-03T17:53:40.406087Z",
     "iopub.status.busy": "2022-06-03T17:53:40.404530Z",
     "iopub.status.idle": "2022-06-03T17:53:40.446843Z",
     "shell.execute_reply": "2022-06-03T17:53:40.447062Z"
    },
    "papermill": {
     "duration": 0.057949,
     "end_time": "2022-06-03T17:53:40.447146",
     "exception": false,
     "start_time": "2022-06-03T17:53:40.389197",
     "status": "completed"
    },
    "tags": []
   },
   "outputs": [],
   "source": [
    "model = CNN(\n",
    "    number_of_classes=NUM_CLASSES,\n",
    "    vocab_size=vocabulary.__len__(),\n",
    "    embedding_dim=100,\n",
    "    input_len=nn_input_len,\n",
    "    device=device\n",
    ").to(device)"
   ]
  },
  {
   "cell_type": "markdown",
   "id": "531e587a",
   "metadata": {
    "papermill": {
     "duration": 0.012353,
     "end_time": "2022-06-03T17:53:40.471682",
     "exception": false,
     "start_time": "2022-06-03T17:53:40.459329",
     "status": "completed"
    },
    "tags": []
   },
   "source": [
    "## Training"
   ]
  },
  {
   "cell_type": "code",
   "execution_count": 13,
   "id": "81b4aadf",
   "metadata": {
    "execution": {
     "iopub.execute_input": "2022-06-03T17:53:40.501216Z",
     "iopub.status.busy": "2022-06-03T17:53:40.500897Z",
     "iopub.status.idle": "2022-06-03T17:55:34.904651Z",
     "shell.execute_reply": "2022-06-03T17:55:34.905009Z"
    },
    "papermill": {
     "duration": 114.420735,
     "end_time": "2022-06-03T17:55:34.905154",
     "exception": false,
     "start_time": "2022-06-03T17:53:40.484419",
     "status": "completed"
    },
    "tags": []
   },
   "outputs": [
    {
     "name": "stdout",
     "output_type": "stream",
     "text": [
      "Epoch 0\n"
     ]
    },
    {
     "name": "stderr",
     "output_type": "stream",
     "text": [
      "/home/katarina/git/genomic_benchmarks/src/genomic_benchmarks/dataset_getters/utils.py:27: UserWarning: To copy construct from a tensor, it is recommended to use sourceTensor.clone().detach() or sourceTensor.clone().detach().requires_grad_(True), rather than torch.tensor(sourceTensor).\n",
      "  x = torch.tensor(pad(x), dtype=torch.long)\n"
     ]
    },
    {
     "name": "stdout",
     "output_type": "stream",
     "text": [
      "Train metrics: \n",
      " Accuracy: 66.1%, Avg loss: 0.648035 \n",
      "\n"
     ]
    }
   ],
   "source": [
    "model.fit(train_loader, epochs=EPOCHS)"
   ]
  },
  {
   "cell_type": "markdown",
   "id": "9ec22f6f",
   "metadata": {
    "papermill": {
     "duration": 0.013734,
     "end_time": "2022-06-03T17:55:34.932800",
     "exception": false,
     "start_time": "2022-06-03T17:55:34.919066",
     "status": "completed"
    },
    "tags": []
   },
   "source": [
    "## Testing"
   ]
  },
  {
   "cell_type": "code",
   "execution_count": 14,
   "id": "e6372c33",
   "metadata": {
    "execution": {
     "iopub.execute_input": "2022-06-03T17:55:34.968199Z",
     "iopub.status.busy": "2022-06-03T17:55:34.967666Z",
     "iopub.status.idle": "2022-06-03T17:55:52.623189Z",
     "shell.execute_reply": "2022-06-03T17:55:52.623798Z"
    },
    "papermill": {
     "duration": 17.676661,
     "end_time": "2022-06-03T17:55:52.623994",
     "exception": false,
     "start_time": "2022-06-03T17:55:34.947333",
     "status": "completed"
    },
    "tags": []
   },
   "outputs": [
    {
     "name": "stdout",
     "output_type": "stream",
     "text": [
      "Test metrics: \n",
      " Accuracy: 0.663158, F1 score: 0.545486, Avg loss: 0.638594 \n",
      "\n"
     ]
    },
    {
     "data": {
      "text/plain": [
       "(0.6631578947368421, 0.545486232136633)"
      ]
     },
     "execution_count": 14,
     "metadata": {},
     "output_type": "execute_result"
    }
   ],
   "source": [
    "test_dset = get_dataset(DATASET, 'test')\n",
    "test_loader = DataLoader(test_dset, batch_size=BATCH_SIZE, shuffle=True, collate_fn=collate)\n",
    "\n",
    "acc, f1 = model.test(test_loader)\n",
    "acc, f1"
   ]
  }
 ],
 "metadata": {
  "environment": {
   "name": "pytorch-gpu.1-9.m75",
   "type": "gcloud",
   "uri": "gcr.io/deeplearning-platform-release/pytorch-gpu.1-9:m75"
  },
  "interpreter": {
   "hash": "c04b2f0a582fe344c639614558637ebf7e4dac1d2bb51a42ce655750946697ae"
  },
  "kernelspec": {
   "display_name": "Python 3.8.10 ('venv': venv)",
   "language": "python",
   "name": "python3"
  },
  "language_info": {
   "codemirror_mode": {
    "name": "ipython",
    "version": 3
   },
   "file_extension": ".py",
   "mimetype": "text/x-python",
   "name": "python",
   "nbconvert_exporter": "python",
   "pygments_lexer": "ipython3",
   "version": "3.8.10"
  },
  "papermill": {
   "default_parameters": {},
   "duration": 155.250315,
   "end_time": "2022-06-03T17:55:53.165729",
   "environment_variables": {},
   "exception": null,
   "input_path": "utils/torch_cnn_classifier.ipynb",
   "output_path": "torch_cnn_experiments/human_enhancers_ensembl.ipynb",
   "parameters": {
    "DATASET": "human_enhancers_ensembl"
   },
   "start_time": "2022-06-03T17:53:17.915414",
   "version": "2.3.4"
  }
 },
 "nbformat": 4,
 "nbformat_minor": 5
}
