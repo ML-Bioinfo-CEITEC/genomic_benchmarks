{
 "cells": [
  {
   "cell_type": "markdown",
   "id": "95190ea9",
   "metadata": {
    "papermill": {
     "duration": 0.005282,
     "end_time": "2022-06-04T11:58:46.165050",
     "exception": false,
     "start_time": "2022-06-04T11:58:46.159768",
     "status": "completed"
    },
    "tags": []
   },
   "source": [
    "# PYTORCH CNN Classifier\n",
    "\n",
    "To run this notebook on an another benchmark, use\n",
    "\n",
    "```\n",
    "papermill utils/torch_cnn_classifier.ipynb torch_cnn_experiments/[DATASET NAME].ipynb -p DATASET [DATASET NAME]\n",
    "```"
   ]
  },
  {
   "cell_type": "code",
   "execution_count": 1,
   "id": "9d38916a",
   "metadata": {
    "execution": {
     "iopub.execute_input": "2022-06-04T11:58:46.174140Z",
     "iopub.status.busy": "2022-06-04T11:58:46.173797Z",
     "iopub.status.idle": "2022-06-04T11:58:46.178218Z",
     "shell.execute_reply": "2022-06-04T11:58:46.177924Z"
    },
    "papermill": {
     "duration": 0.010033,
     "end_time": "2022-06-04T11:58:46.179066",
     "exception": false,
     "start_time": "2022-06-04T11:58:46.169033",
     "status": "completed"
    },
    "tags": [
     "parameters"
    ]
   },
   "outputs": [],
   "source": [
    "# DATASET = 'no_dataset'\n",
    "DATASET = 'demo_human_or_worm'\n",
    "VERSION = 0\n",
    "BATCH_SIZE = 64\n",
    "EPOCHS = 1"
   ]
  },
  {
   "cell_type": "code",
   "execution_count": 2,
   "id": "89e80323",
   "metadata": {
    "execution": {
     "iopub.execute_input": "2022-06-04T11:58:46.187849Z",
     "iopub.status.busy": "2022-06-04T11:58:46.187556Z",
     "iopub.status.idle": "2022-06-04T11:58:46.189461Z",
     "shell.execute_reply": "2022-06-04T11:58:46.189178Z"
    },
    "papermill": {
     "duration": 0.006686,
     "end_time": "2022-06-04T11:58:46.190244",
     "exception": false,
     "start_time": "2022-06-04T11:58:46.183558",
     "status": "completed"
    },
    "tags": [
     "injected-parameters"
    ]
   },
   "outputs": [],
   "source": [
    "# Parameters\n",
    "DATASET = \"human_ensembl_regulatory\"\n",
    "EPOCHS = 10\n"
   ]
  },
  {
   "cell_type": "code",
   "execution_count": 3,
   "id": "dbbc9dc9",
   "metadata": {
    "execution": {
     "iopub.execute_input": "2022-06-04T11:58:46.198678Z",
     "iopub.status.busy": "2022-06-04T11:58:46.198435Z",
     "iopub.status.idle": "2022-06-04T11:58:46.200727Z",
     "shell.execute_reply": "2022-06-04T11:58:46.200424Z"
    },
    "papermill": {
     "duration": 0.007434,
     "end_time": "2022-06-04T11:58:46.201481",
     "exception": false,
     "start_time": "2022-06-04T11:58:46.194047",
     "status": "completed"
    },
    "tags": []
   },
   "outputs": [
    {
     "name": "stdout",
     "output_type": "stream",
     "text": [
      "human_ensembl_regulatory 0 64 10\n"
     ]
    }
   ],
   "source": [
    "print(DATASET, VERSION, BATCH_SIZE, EPOCHS)"
   ]
  },
  {
   "cell_type": "markdown",
   "id": "1bb0790e",
   "metadata": {
    "papermill": {
     "duration": 0.003703,
     "end_time": "2022-06-04T11:58:46.209418",
     "exception": false,
     "start_time": "2022-06-04T11:58:46.205715",
     "status": "completed"
    },
    "tags": []
   },
   "source": [
    "## Config"
   ]
  },
  {
   "cell_type": "code",
   "execution_count": 4,
   "id": "6f7919a3",
   "metadata": {
    "execution": {
     "iopub.execute_input": "2022-06-04T11:58:46.217618Z",
     "iopub.status.busy": "2022-06-04T11:58:46.217367Z",
     "iopub.status.idle": "2022-06-04T11:58:47.605069Z",
     "shell.execute_reply": "2022-06-04T11:58:47.604055Z"
    },
    "papermill": {
     "duration": 1.393518,
     "end_time": "2022-06-04T11:58:47.606663",
     "exception": false,
     "start_time": "2022-06-04T11:58:46.213145",
     "status": "completed"
    },
    "tags": []
   },
   "outputs": [
    {
     "name": "stderr",
     "output_type": "stream",
     "text": [
      "/opt/conda/envs/bench_env/lib/python3.8/site-packages/tqdm/auto.py:22: TqdmWarning: IProgress not found. Please update jupyter and ipywidgets. See https://ipywidgets.readthedocs.io/en/stable/user_install.html\n",
      "  from .autonotebook import tqdm as notebook_tqdm\n"
     ]
    }
   ],
   "source": [
    "import os\n",
    "import numpy as np\n",
    "import torch\n",
    "from torch import nn\n",
    "from torch.utils.data import DataLoader\n",
    "from torchtext.data.utils import get_tokenizer\n",
    "\n",
    "from genomic_benchmarks.data_check import is_downloaded, info\n",
    "from genomic_benchmarks.dataset_getters.pytorch_datasets import get_dataset\n",
    "from genomic_benchmarks.loc2seq import download_dataset\n",
    "from genomic_benchmarks.models.torch import CNN\n",
    "from genomic_benchmarks.dataset_getters.utils import coll_factory, LetterTokenizer, build_vocab, check_seq_lengths, check_config, VARIABLE_LENGTH_DATASETS"
   ]
  },
  {
   "cell_type": "code",
   "execution_count": 5,
   "id": "e92ddbd5",
   "metadata": {
    "execution": {
     "iopub.execute_input": "2022-06-04T11:58:47.622654Z",
     "iopub.status.busy": "2022-06-04T11:58:47.621875Z",
     "iopub.status.idle": "2022-06-04T11:58:47.625354Z",
     "shell.execute_reply": "2022-06-04T11:58:47.624778Z"
    },
    "papermill": {
     "duration": 0.010481,
     "end_time": "2022-06-04T11:58:47.626462",
     "exception": false,
     "start_time": "2022-06-04T11:58:47.615981",
     "status": "completed"
    },
    "tags": []
   },
   "outputs": [],
   "source": [
    "USE_PADDING = DATASET in VARIABLE_LENGTH_DATASETS"
   ]
  },
  {
   "cell_type": "markdown",
   "id": "b7c3de5d",
   "metadata": {
    "papermill": {
     "duration": 0.00786,
     "end_time": "2022-06-04T11:58:47.638905",
     "exception": false,
     "start_time": "2022-06-04T11:58:47.631045",
     "status": "completed"
    },
    "tags": []
   },
   "source": [
    "## Choose the dataset"
   ]
  },
  {
   "cell_type": "code",
   "execution_count": 6,
   "id": "9531ca32",
   "metadata": {
    "execution": {
     "iopub.execute_input": "2022-06-04T11:58:47.647762Z",
     "iopub.status.busy": "2022-06-04T11:58:47.647603Z",
     "iopub.status.idle": "2022-06-04T12:08:12.908055Z",
     "shell.execute_reply": "2022-06-04T12:08:12.906760Z"
    },
    "papermill": {
     "duration": 565.266544,
     "end_time": "2022-06-04T12:08:12.909774",
     "exception": false,
     "start_time": "2022-06-04T11:58:47.643230",
     "status": "completed"
    },
    "tags": []
   },
   "outputs": [
    {
     "name": "stderr",
     "output_type": "stream",
     "text": [
      "/home/jovyan/genomic_benchmarks/src/genomic_benchmarks/utils/datasets.py:50: UserWarning: No version specified. Using version 0.\n",
      "  warnings.warn(f\"No version specified. Using version {metadata['version']}.\")\n",
      "Downloading...\n",
      "From: https://drive.google.com/uc?id=1GefcGAM-tklnmzfzZ9RC91tGDmOzrAXU\n",
      "To: /home/jovyan/.genomic_benchmarks/human_ensembl_regulatory.zip\n",
      "100%|█████████████████████████████████████████████████████████████████████████████████████████████████████████████████████████████████████████████████████████████████████████| 110M/110M [00:01<00:00, 87.8MB/s]\n"
     ]
    }
   ],
   "source": [
    "if not is_downloaded(DATASET):\n",
    "    download_dataset(DATASET, local_repo=True)"
   ]
  },
  {
   "cell_type": "code",
   "execution_count": 7,
   "id": "bc834325",
   "metadata": {
    "execution": {
     "iopub.execute_input": "2022-06-04T12:08:12.921877Z",
     "iopub.status.busy": "2022-06-04T12:08:12.921490Z",
     "iopub.status.idle": "2022-06-04T12:08:13.080433Z",
     "shell.execute_reply": "2022-06-04T12:08:13.079556Z"
    },
    "papermill": {
     "duration": 0.16599,
     "end_time": "2022-06-04T12:08:13.081658",
     "exception": false,
     "start_time": "2022-06-04T12:08:12.915668",
     "status": "completed"
    },
    "tags": []
   },
   "outputs": [
    {
     "name": "stdout",
     "output_type": "stream",
     "text": [
      "Dataset `human_ensembl_regulatory` has 3 classes: enhancer, ocr, promoter.\n",
      "\n",
      "The length of genomic intervals ranges from 71 to 802, with average 429.91753643694585 and median 401.0.\n",
      "\n",
      "Totally 289061 sequences have been found, 231348 for training and 57713 for testing.\n"
     ]
    },
    {
     "data": {
      "text/html": [
       "<div>\n",
       "<style scoped>\n",
       "    .dataframe tbody tr th:only-of-type {\n",
       "        vertical-align: middle;\n",
       "    }\n",
       "\n",
       "    .dataframe tbody tr th {\n",
       "        vertical-align: top;\n",
       "    }\n",
       "\n",
       "    .dataframe thead th {\n",
       "        text-align: right;\n",
       "    }\n",
       "</style>\n",
       "<table border=\"1\" class=\"dataframe\">\n",
       "  <thead>\n",
       "    <tr style=\"text-align: right;\">\n",
       "      <th></th>\n",
       "      <th>train</th>\n",
       "      <th>test</th>\n",
       "    </tr>\n",
       "  </thead>\n",
       "  <tbody>\n",
       "    <tr>\n",
       "      <th>enhancer</th>\n",
       "      <td>85512</td>\n",
       "      <td>21378</td>\n",
       "    </tr>\n",
       "    <tr>\n",
       "      <th>ocr</th>\n",
       "      <td>69902</td>\n",
       "      <td>17476</td>\n",
       "    </tr>\n",
       "    <tr>\n",
       "      <th>promoter</th>\n",
       "      <td>75934</td>\n",
       "      <td>18859</td>\n",
       "    </tr>\n",
       "  </tbody>\n",
       "</table>\n",
       "</div>"
      ],
      "text/plain": [
       "          train   test\n",
       "enhancer  85512  21378\n",
       "ocr       69902  17476\n",
       "promoter  75934  18859"
      ]
     },
     "execution_count": 7,
     "metadata": {},
     "output_type": "execute_result"
    }
   ],
   "source": [
    "info(DATASET, local_repo=True)"
   ]
  },
  {
   "cell_type": "code",
   "execution_count": 8,
   "id": "60d139f7",
   "metadata": {
    "execution": {
     "iopub.execute_input": "2022-06-04T12:08:13.094675Z",
     "iopub.status.busy": "2022-06-04T12:08:13.094273Z",
     "iopub.status.idle": "2022-06-04T12:08:19.495802Z",
     "shell.execute_reply": "2022-06-04T12:08:19.494851Z"
    },
    "papermill": {
     "duration": 6.409681,
     "end_time": "2022-06-04T12:08:19.497459",
     "exception": false,
     "start_time": "2022-06-04T12:08:13.087778",
     "status": "completed"
    },
    "tags": []
   },
   "outputs": [],
   "source": [
    "train_dset = get_dataset(DATASET, 'train')"
   ]
  },
  {
   "cell_type": "code",
   "execution_count": 9,
   "id": "6c2a54a2",
   "metadata": {
    "execution": {
     "iopub.execute_input": "2022-06-04T12:08:19.511021Z",
     "iopub.status.busy": "2022-06-04T12:08:19.510782Z",
     "iopub.status.idle": "2022-06-04T12:09:24.265310Z",
     "shell.execute_reply": "2022-06-04T12:09:24.264559Z"
    },
    "papermill": {
     "duration": 64.769946,
     "end_time": "2022-06-04T12:09:24.273738",
     "exception": false,
     "start_time": "2022-06-04T12:08:19.503792",
     "status": "completed"
    },
    "tags": []
   },
   "outputs": [
    {
     "data": {
      "text/plain": [
       "3"
      ]
     },
     "execution_count": 9,
     "metadata": {},
     "output_type": "execute_result"
    }
   ],
   "source": [
    "NUM_CLASSES = len(set([train_dset[i][1] for i in range(len(train_dset))]))\n",
    "NUM_CLASSES"
   ]
  },
  {
   "cell_type": "markdown",
   "id": "72018d96",
   "metadata": {
    "papermill": {
     "duration": 0.004901,
     "end_time": "2022-06-04T12:09:24.291488",
     "exception": false,
     "start_time": "2022-06-04T12:09:24.286587",
     "status": "completed"
    },
    "tags": []
   },
   "source": [
    "## Tokenizer and vocab"
   ]
  },
  {
   "cell_type": "code",
   "execution_count": 10,
   "id": "8e8b7527",
   "metadata": {
    "execution": {
     "iopub.execute_input": "2022-06-04T12:09:24.301637Z",
     "iopub.status.busy": "2022-06-04T12:09:24.301462Z",
     "iopub.status.idle": "2022-06-04T12:10:02.143121Z",
     "shell.execute_reply": "2022-06-04T12:10:02.142551Z"
    },
    "papermill": {
     "duration": 37.853375,
     "end_time": "2022-06-04T12:10:02.149188",
     "exception": false,
     "start_time": "2022-06-04T12:09:24.295813",
     "status": "completed"
    },
    "tags": []
   },
   "outputs": [
    {
     "name": "stdout",
     "output_type": "stream",
     "text": [
      "vocab len: 9\n",
      "{'<pad>': 8, 'T': 5, '<eos>': 6, 'G': 3, 'C': 4, 'A': 2, '<bos>': 1, 'N': 7, '<unk>': 0}\n"
     ]
    }
   ],
   "source": [
    "tokenizer = get_tokenizer(LetterTokenizer())\n",
    "vocabulary = build_vocab(train_dset, tokenizer, use_padding=USE_PADDING)\n",
    "\n",
    "print(\"vocab len:\" ,vocabulary.__len__())\n",
    "print(vocabulary.get_stoi())"
   ]
  },
  {
   "cell_type": "markdown",
   "id": "16e3c25b",
   "metadata": {
    "papermill": {
     "duration": 0.004714,
     "end_time": "2022-06-04T12:10:02.159243",
     "exception": false,
     "start_time": "2022-06-04T12:10:02.154529",
     "status": "completed"
    },
    "tags": []
   },
   "source": [
    "## Dataloader and batch preparation"
   ]
  },
  {
   "cell_type": "code",
   "execution_count": 11,
   "id": "e57e6368",
   "metadata": {
    "execution": {
     "iopub.execute_input": "2022-06-04T12:10:02.170164Z",
     "iopub.status.busy": "2022-06-04T12:10:02.169958Z",
     "iopub.status.idle": "2022-06-04T12:11:07.814876Z",
     "shell.execute_reply": "2022-06-04T12:11:07.813731Z"
    },
    "papermill": {
     "duration": 65.655188,
     "end_time": "2022-06-04T12:11:07.819420",
     "exception": false,
     "start_time": "2022-06-04T12:10:02.164232",
     "status": "completed"
    },
    "tags": []
   },
   "outputs": [
    {
     "name": "stdout",
     "output_type": "stream",
     "text": [
      "Using cuda device\n",
      "max_seq_len  802\n",
      "not all sequences are of the same length\n"
     ]
    }
   ],
   "source": [
    "# Run on GPU or CPU\n",
    "device = 'cuda' if torch.cuda.is_available() else 'cpu'\n",
    "print('Using {} device'.format(device))\n",
    "\n",
    "max_seq_len, nn_input_len = check_seq_lengths(dataset=train_dset, use_padding=USE_PADDING)\n",
    "\n",
    "# Data Loader\n",
    "if(USE_PADDING):\n",
    "    collate = coll_factory(vocabulary, tokenizer, device, pad_to_length = nn_input_len)\n",
    "else:\n",
    "    collate = coll_factory(vocabulary, tokenizer, device, pad_to_length = None)\n",
    "\n",
    "train_loader = DataLoader(train_dset, batch_size=BATCH_SIZE, shuffle=True, collate_fn=collate)"
   ]
  },
  {
   "cell_type": "markdown",
   "id": "986fad7f",
   "metadata": {
    "papermill": {
     "duration": 0.004563,
     "end_time": "2022-06-04T12:11:07.848456",
     "exception": false,
     "start_time": "2022-06-04T12:11:07.843893",
     "status": "completed"
    },
    "tags": []
   },
   "source": [
    "## Model"
   ]
  },
  {
   "cell_type": "code",
   "execution_count": 12,
   "id": "cf5443da",
   "metadata": {
    "execution": {
     "iopub.execute_input": "2022-06-04T12:11:07.858410Z",
     "iopub.status.busy": "2022-06-04T12:11:07.858157Z",
     "iopub.status.idle": "2022-06-04T12:11:12.718612Z",
     "shell.execute_reply": "2022-06-04T12:11:12.716874Z"
    },
    "papermill": {
     "duration": 4.867419,
     "end_time": "2022-06-04T12:11:12.720230",
     "exception": false,
     "start_time": "2022-06-04T12:11:07.852811",
     "status": "completed"
    },
    "tags": []
   },
   "outputs": [],
   "source": [
    "model = CNN(\n",
    "    number_of_classes=NUM_CLASSES,\n",
    "    vocab_size=vocabulary.__len__(),\n",
    "    embedding_dim=100,\n",
    "    input_len=nn_input_len,\n",
    "    device=device\n",
    ").to(device)"
   ]
  },
  {
   "cell_type": "markdown",
   "id": "36008b73",
   "metadata": {
    "papermill": {
     "duration": 0.00498,
     "end_time": "2022-06-04T12:11:12.732913",
     "exception": false,
     "start_time": "2022-06-04T12:11:12.727933",
     "status": "completed"
    },
    "tags": []
   },
   "source": [
    "## Training"
   ]
  },
  {
   "cell_type": "code",
   "execution_count": 13,
   "id": "846949c5",
   "metadata": {
    "execution": {
     "iopub.execute_input": "2022-06-04T12:11:12.743478Z",
     "iopub.status.busy": "2022-06-04T12:11:12.743283Z",
     "iopub.status.idle": "2022-06-04T12:27:09.851640Z",
     "shell.execute_reply": "2022-06-04T12:27:09.850924Z"
    },
    "papermill": {
     "duration": 957.121163,
     "end_time": "2022-06-04T12:27:09.858679",
     "exception": false,
     "start_time": "2022-06-04T12:11:12.737516",
     "status": "completed"
    },
    "tags": []
   },
   "outputs": [
    {
     "name": "stdout",
     "output_type": "stream",
     "text": [
      "Epoch 0\n"
     ]
    },
    {
     "name": "stderr",
     "output_type": "stream",
     "text": [
      "/home/jovyan/genomic_benchmarks/src/genomic_benchmarks/dataset_getters/utils.py:27: UserWarning: To copy construct from a tensor, it is recommended to use sourceTensor.clone().detach() or sourceTensor.clone().detach().requires_grad_(True), rather than torch.tensor(sourceTensor).\n",
      "  x = torch.tensor(pad(x), dtype=torch.long)\n"
     ]
    },
    {
     "name": "stdout",
     "output_type": "stream",
     "text": [
      "Train metrics: \n",
      " Accuracy: 92.5%, Avg loss: 0.186597 \n",
      "\n",
      "Epoch 1\n",
      "Train metrics: \n",
      " Accuracy: 93.5%, Avg loss: 0.163755 \n",
      "\n",
      "Epoch 2\n",
      "Train metrics: \n",
      " Accuracy: 93.7%, Avg loss: 0.158953 \n",
      "\n",
      "Epoch 3\n",
      "Train metrics: \n",
      " Accuracy: 93.8%, Avg loss: 0.156300 \n",
      "\n",
      "Epoch 4\n",
      "Train metrics: \n",
      " Accuracy: 93.9%, Avg loss: 0.154156 \n",
      "\n",
      "Epoch 5\n",
      "Train metrics: \n",
      " Accuracy: 93.9%, Avg loss: 0.152681 \n",
      "\n",
      "Epoch 6\n",
      "Train metrics: \n",
      " Accuracy: 94.0%, Avg loss: 0.151357 \n",
      "\n",
      "Epoch 7\n",
      "Train metrics: \n",
      " Accuracy: 94.0%, Avg loss: 0.150706 \n",
      "\n",
      "Epoch 8\n",
      "Train metrics: \n",
      " Accuracy: 94.0%, Avg loss: 0.149611 \n",
      "\n",
      "Epoch 9\n",
      "Train metrics: \n",
      " Accuracy: 94.0%, Avg loss: 0.148992 \n",
      "\n"
     ]
    }
   ],
   "source": [
    "model.fit(train_loader, epochs=EPOCHS)"
   ]
  },
  {
   "cell_type": "markdown",
   "id": "58a7c294",
   "metadata": {
    "papermill": {
     "duration": 0.005305,
     "end_time": "2022-06-04T12:27:09.869401",
     "exception": false,
     "start_time": "2022-06-04T12:27:09.864096",
     "status": "completed"
    },
    "tags": []
   },
   "source": [
    "## Testing"
   ]
  },
  {
   "cell_type": "code",
   "execution_count": 14,
   "id": "ab8c9eb5",
   "metadata": {
    "execution": {
     "iopub.execute_input": "2022-06-04T12:27:09.884987Z",
     "iopub.status.busy": "2022-06-04T12:27:09.884768Z",
     "iopub.status.idle": "2022-06-04T12:27:40.230048Z",
     "shell.execute_reply": "2022-06-04T12:27:40.228978Z"
    },
    "papermill": {
     "duration": 30.358365,
     "end_time": "2022-06-04T12:27:40.236131",
     "exception": false,
     "start_time": "2022-06-04T12:27:09.877766",
     "status": "completed"
    },
    "tags": []
   },
   "outputs": [
    {
     "name": "stdout",
     "output_type": "stream",
     "text": [
      "Test metrics: \n",
      " Accuracy: 0.933395, F1 score: 0.933395, Avg loss: 0.163150 \n",
      "\n"
     ]
    },
    {
     "data": {
      "text/plain": [
       "(0.9333945558193129, 0.9333945558193129)"
      ]
     },
     "execution_count": 14,
     "metadata": {},
     "output_type": "execute_result"
    }
   ],
   "source": [
    "test_dset = get_dataset(DATASET, 'test')\n",
    "test_loader = DataLoader(test_dset, batch_size=BATCH_SIZE, shuffle=True, collate_fn=collate)\n",
    "\n",
    "acc, f1 = model.test(test_loader)\n",
    "acc, f1"
   ]
  }
 ],
 "metadata": {
  "environment": {
   "name": "pytorch-gpu.1-9.m75",
   "type": "gcloud",
   "uri": "gcr.io/deeplearning-platform-release/pytorch-gpu.1-9:m75"
  },
  "interpreter": {
   "hash": "5fb5174addf958ec7b3e9e5d35a565dfd5bab1ae69383cd521f52756e68c7fc3"
  },
  "kernelspec": {
   "display_name": "Python 3 (ipykernel)",
   "language": "python",
   "name": "python3"
  },
  "language_info": {
   "codemirror_mode": {
    "name": "ipython",
    "version": 3
   },
   "file_extension": ".py",
   "mimetype": "text/x-python",
   "name": "python",
   "nbconvert_exporter": "python",
   "pygments_lexer": "ipython3",
   "version": "3.9.10"
  },
  "papermill": {
   "default_parameters": {},
   "duration": 1736.024415,
   "end_time": "2022-06-04T12:27:41.265648",
   "environment_variables": {},
   "exception": null,
   "input_path": "utils/torch_cnn_classifier.ipynb",
   "output_path": "torch_cnn_experiments/human_ensembl_regulatory.ipynb",
   "parameters": {
    "DATASET": "human_ensembl_regulatory",
    "EPOCHS": 10
   },
   "start_time": "2022-06-04T11:58:45.241233",
   "version": "2.3.4"
  }
 },
 "nbformat": 4,
 "nbformat_minor": 5
}
