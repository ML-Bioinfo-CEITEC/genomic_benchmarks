{
 "cells": [
  {
   "cell_type": "markdown",
   "id": "b7d18ef9",
   "metadata": {
    "papermill": {
     "duration": 0.047596,
     "end_time": "2022-06-03T17:44:09.120201",
     "exception": false,
     "start_time": "2022-06-03T17:44:09.072605",
     "status": "completed"
    },
    "tags": []
   },
   "source": [
    "# PYTORCH CNN Classifier\n",
    "\n",
    "To run this notebook on an another benchmark, use\n",
    "\n",
    "```\n",
    "papermill utils/torch_cnn_classifier.ipynb torch_cnn_experiments/[DATASET NAME].ipynb -p DATASET [DATASET NAME]\n",
    "```"
   ]
  },
  {
   "cell_type": "code",
   "execution_count": 1,
   "id": "a24327bb",
   "metadata": {
    "execution": {
     "iopub.execute_input": "2022-06-03T17:44:09.140947Z",
     "iopub.status.busy": "2022-06-03T17:44:09.140592Z",
     "iopub.status.idle": "2022-06-03T17:44:09.144809Z",
     "shell.execute_reply": "2022-06-03T17:44:09.145090Z"
    },
    "papermill": {
     "duration": 0.01613,
     "end_time": "2022-06-03T17:44:09.145241",
     "exception": false,
     "start_time": "2022-06-03T17:44:09.129111",
     "status": "completed"
    },
    "tags": [
     "parameters"
    ]
   },
   "outputs": [],
   "source": [
    "# DATASET = 'no_dataset'\n",
    "DATASET = 'demo_human_or_worm'\n",
    "VERSION = 0\n",
    "BATCH_SIZE = 64\n",
    "EPOCHS = 1"
   ]
  },
  {
   "cell_type": "code",
   "execution_count": 2,
   "id": "6ef97dff",
   "metadata": {
    "execution": {
     "iopub.execute_input": "2022-06-03T17:44:09.165377Z",
     "iopub.status.busy": "2022-06-03T17:44:09.165017Z",
     "iopub.status.idle": "2022-06-03T17:44:09.166446Z",
     "shell.execute_reply": "2022-06-03T17:44:09.166686Z"
    },
    "papermill": {
     "duration": 0.012696,
     "end_time": "2022-06-03T17:44:09.166776",
     "exception": false,
     "start_time": "2022-06-03T17:44:09.154080",
     "status": "completed"
    },
    "tags": [
     "injected-parameters"
    ]
   },
   "outputs": [],
   "source": [
    "# Parameters\n",
    "DATASET = \"human_ensembl_regulatory\"\n"
   ]
  },
  {
   "cell_type": "code",
   "execution_count": 3,
   "id": "b77c335e",
   "metadata": {
    "execution": {
     "iopub.execute_input": "2022-06-03T17:44:09.187333Z",
     "iopub.status.busy": "2022-06-03T17:44:09.187005Z",
     "iopub.status.idle": "2022-06-03T17:44:09.190944Z",
     "shell.execute_reply": "2022-06-03T17:44:09.190420Z"
    },
    "papermill": {
     "duration": 0.015618,
     "end_time": "2022-06-03T17:44:09.191063",
     "exception": false,
     "start_time": "2022-06-03T17:44:09.175445",
     "status": "completed"
    },
    "tags": []
   },
   "outputs": [
    {
     "name": "stdout",
     "output_type": "stream",
     "text": [
      "human_ensembl_regulatory 0 64 1\n"
     ]
    }
   ],
   "source": [
    "print(DATASET, VERSION, BATCH_SIZE, EPOCHS)"
   ]
  },
  {
   "cell_type": "markdown",
   "id": "01d434ed",
   "metadata": {
    "papermill": {
     "duration": 0.008362,
     "end_time": "2022-06-03T17:44:09.211721",
     "exception": false,
     "start_time": "2022-06-03T17:44:09.203359",
     "status": "completed"
    },
    "tags": []
   },
   "source": [
    "## Config"
   ]
  },
  {
   "cell_type": "code",
   "execution_count": 4,
   "id": "b7fe5e40",
   "metadata": {
    "execution": {
     "iopub.execute_input": "2022-06-03T17:44:09.232017Z",
     "iopub.status.busy": "2022-06-03T17:44:09.231685Z",
     "iopub.status.idle": "2022-06-03T17:44:10.152761Z",
     "shell.execute_reply": "2022-06-03T17:44:10.151909Z"
    },
    "papermill": {
     "duration": 0.932781,
     "end_time": "2022-06-03T17:44:10.152991",
     "exception": false,
     "start_time": "2022-06-03T17:44:09.220210",
     "status": "completed"
    },
    "tags": []
   },
   "outputs": [],
   "source": [
    "import os\n",
    "import numpy as np\n",
    "import torch\n",
    "from torch import nn\n",
    "from torch.utils.data import DataLoader\n",
    "from torchtext.data.utils import get_tokenizer\n",
    "\n",
    "from genomic_benchmarks.data_check import is_downloaded, info\n",
    "from genomic_benchmarks.dataset_getters.pytorch_datasets import get_dataset\n",
    "from genomic_benchmarks.loc2seq import download_dataset\n",
    "from genomic_benchmarks.models.torch import CNN\n",
    "from genomic_benchmarks.dataset_getters.utils import coll_factory, LetterTokenizer, build_vocab, check_seq_lengths, check_config, VARIABLE_LENGTH_DATASETS"
   ]
  },
  {
   "cell_type": "code",
   "execution_count": 5,
   "id": "afb00c8a",
   "metadata": {
    "execution": {
     "iopub.execute_input": "2022-06-03T17:44:10.183225Z",
     "iopub.status.busy": "2022-06-03T17:44:10.182928Z",
     "iopub.status.idle": "2022-06-03T17:44:10.183736Z",
     "shell.execute_reply": "2022-06-03T17:44:10.184014Z"
    },
    "papermill": {
     "duration": 0.016308,
     "end_time": "2022-06-03T17:44:10.184108",
     "exception": false,
     "start_time": "2022-06-03T17:44:10.167800",
     "status": "completed"
    },
    "tags": []
   },
   "outputs": [],
   "source": [
    "USE_PADDING = DATASET in VARIABLE_LENGTH_DATASETS"
   ]
  },
  {
   "cell_type": "markdown",
   "id": "2b8148d1",
   "metadata": {
    "papermill": {
     "duration": 0.008625,
     "end_time": "2022-06-03T17:44:10.202586",
     "exception": false,
     "start_time": "2022-06-03T17:44:10.193961",
     "status": "completed"
    },
    "tags": []
   },
   "source": [
    "## Choose the dataset"
   ]
  },
  {
   "cell_type": "code",
   "execution_count": 6,
   "id": "53cbb307",
   "metadata": {
    "execution": {
     "iopub.execute_input": "2022-06-03T17:44:10.224566Z",
     "iopub.status.busy": "2022-06-03T17:44:10.223985Z",
     "iopub.status.idle": "2022-06-03T17:44:10.226180Z",
     "shell.execute_reply": "2022-06-03T17:44:10.225873Z"
    },
    "papermill": {
     "duration": 0.014862,
     "end_time": "2022-06-03T17:44:10.226246",
     "exception": false,
     "start_time": "2022-06-03T17:44:10.211384",
     "status": "completed"
    },
    "tags": []
   },
   "outputs": [],
   "source": [
    "if not is_downloaded(DATASET):\n",
    "    download_dataset(DATASET, local_repo=True)"
   ]
  },
  {
   "cell_type": "code",
   "execution_count": 7,
   "id": "2275d1c5",
   "metadata": {
    "execution": {
     "iopub.execute_input": "2022-06-03T17:44:10.257505Z",
     "iopub.status.busy": "2022-06-03T17:44:10.254243Z",
     "iopub.status.idle": "2022-06-03T17:44:10.428295Z",
     "shell.execute_reply": "2022-06-03T17:44:10.427808Z"
    },
    "papermill": {
     "duration": 0.18669,
     "end_time": "2022-06-03T17:44:10.428412",
     "exception": false,
     "start_time": "2022-06-03T17:44:10.241722",
     "status": "completed"
    },
    "tags": []
   },
   "outputs": [
    {
     "name": "stdout",
     "output_type": "stream",
     "text": [
      "Dataset `human_ensembl_regulatory` has 3 classes: enhancer, ocr, promoter.\n",
      "\n",
      "The length of genomic intervals ranges from 71 to 802, with average 429.91753643694585 and median 401.0.\n",
      "\n",
      "Totally 289061 sequences have been found, 231348 for training and 57713 for testing.\n"
     ]
    },
    {
     "name": "stderr",
     "output_type": "stream",
     "text": [
      "/home/katarina/git/genomic_benchmarks/src/genomic_benchmarks/utils/datasets.py:50: UserWarning: No version specified. Using version 0.\n",
      "  warnings.warn(f\"No version specified. Using version {metadata['version']}.\")\n"
     ]
    },
    {
     "data": {
      "text/html": [
       "<div>\n",
       "<style scoped>\n",
       "    .dataframe tbody tr th:only-of-type {\n",
       "        vertical-align: middle;\n",
       "    }\n",
       "\n",
       "    .dataframe tbody tr th {\n",
       "        vertical-align: top;\n",
       "    }\n",
       "\n",
       "    .dataframe thead th {\n",
       "        text-align: right;\n",
       "    }\n",
       "</style>\n",
       "<table border=\"1\" class=\"dataframe\">\n",
       "  <thead>\n",
       "    <tr style=\"text-align: right;\">\n",
       "      <th></th>\n",
       "      <th>train</th>\n",
       "      <th>test</th>\n",
       "    </tr>\n",
       "  </thead>\n",
       "  <tbody>\n",
       "    <tr>\n",
       "      <th>enhancer</th>\n",
       "      <td>85512</td>\n",
       "      <td>21378</td>\n",
       "    </tr>\n",
       "    <tr>\n",
       "      <th>ocr</th>\n",
       "      <td>69902</td>\n",
       "      <td>17476</td>\n",
       "    </tr>\n",
       "    <tr>\n",
       "      <th>promoter</th>\n",
       "      <td>75934</td>\n",
       "      <td>18859</td>\n",
       "    </tr>\n",
       "  </tbody>\n",
       "</table>\n",
       "</div>"
      ],
      "text/plain": [
       "          train   test\n",
       "enhancer  85512  21378\n",
       "ocr       69902  17476\n",
       "promoter  75934  18859"
      ]
     },
     "execution_count": 7,
     "metadata": {},
     "output_type": "execute_result"
    }
   ],
   "source": [
    "info(DATASET, local_repo=True)"
   ]
  },
  {
   "cell_type": "code",
   "execution_count": 8,
   "id": "0c5f95af",
   "metadata": {
    "execution": {
     "iopub.execute_input": "2022-06-03T17:44:10.457768Z",
     "iopub.status.busy": "2022-06-03T17:44:10.457094Z",
     "iopub.status.idle": "2022-06-03T17:44:11.135243Z",
     "shell.execute_reply": "2022-06-03T17:44:11.134635Z"
    },
    "papermill": {
     "duration": 0.691797,
     "end_time": "2022-06-03T17:44:11.135363",
     "exception": false,
     "start_time": "2022-06-03T17:44:10.443566",
     "status": "completed"
    },
    "tags": []
   },
   "outputs": [],
   "source": [
    "train_dset = get_dataset(DATASET, 'train')"
   ]
  },
  {
   "cell_type": "code",
   "execution_count": 9,
   "id": "cf37f237",
   "metadata": {
    "execution": {
     "iopub.execute_input": "2022-06-03T17:44:11.169225Z",
     "iopub.status.busy": "2022-06-03T17:44:11.168611Z",
     "iopub.status.idle": "2022-06-03T17:44:13.959123Z",
     "shell.execute_reply": "2022-06-03T17:44:13.959616Z"
    },
    "papermill": {
     "duration": 2.805402,
     "end_time": "2022-06-03T17:44:13.959791",
     "exception": false,
     "start_time": "2022-06-03T17:44:11.154389",
     "status": "completed"
    },
    "tags": []
   },
   "outputs": [
    {
     "data": {
      "text/plain": [
       "3"
      ]
     },
     "execution_count": 9,
     "metadata": {},
     "output_type": "execute_result"
    }
   ],
   "source": [
    "NUM_CLASSES = len(set([train_dset[i][1] for i in range(len(train_dset))]))\n",
    "NUM_CLASSES"
   ]
  },
  {
   "cell_type": "markdown",
   "id": "b1c83345",
   "metadata": {
    "papermill": {
     "duration": 0.009926,
     "end_time": "2022-06-03T17:44:13.983541",
     "exception": false,
     "start_time": "2022-06-03T17:44:13.973615",
     "status": "completed"
    },
    "tags": []
   },
   "source": [
    "## Tokenizer and vocab"
   ]
  },
  {
   "cell_type": "code",
   "execution_count": 10,
   "id": "989279a8",
   "metadata": {
    "execution": {
     "iopub.execute_input": "2022-06-03T17:44:14.013700Z",
     "iopub.status.busy": "2022-06-03T17:44:14.013368Z",
     "iopub.status.idle": "2022-06-03T17:44:21.135523Z",
     "shell.execute_reply": "2022-06-03T17:44:21.134570Z"
    },
    "papermill": {
     "duration": 7.14231,
     "end_time": "2022-06-03T17:44:21.135696",
     "exception": false,
     "start_time": "2022-06-03T17:44:13.993386",
     "status": "completed"
    },
    "tags": []
   },
   "outputs": [
    {
     "name": "stdout",
     "output_type": "stream",
     "text": [
      "vocab len: 9\n",
      "{'<eos>': 6, 'G': 4, 'A': 5, 'C': 3, '<pad>': 8, 'T': 2, '<bos>': 1, 'N': 7, '<unk>': 0}\n"
     ]
    }
   ],
   "source": [
    "tokenizer = get_tokenizer(LetterTokenizer())\n",
    "vocabulary = build_vocab(train_dset, tokenizer, use_padding=USE_PADDING)\n",
    "\n",
    "print(\"vocab len:\" ,vocabulary.__len__())\n",
    "print(vocabulary.get_stoi())"
   ]
  },
  {
   "cell_type": "markdown",
   "id": "a60f7427",
   "metadata": {
    "papermill": {
     "duration": 0.010325,
     "end_time": "2022-06-03T17:44:21.159144",
     "exception": false,
     "start_time": "2022-06-03T17:44:21.148819",
     "status": "completed"
    },
    "tags": []
   },
   "source": [
    "## Dataloader and batch preparation"
   ]
  },
  {
   "cell_type": "code",
   "execution_count": 11,
   "id": "7c7d9857",
   "metadata": {
    "execution": {
     "iopub.execute_input": "2022-06-03T17:44:21.184520Z",
     "iopub.status.busy": "2022-06-03T17:44:21.184228Z",
     "iopub.status.idle": "2022-06-03T17:44:26.249117Z",
     "shell.execute_reply": "2022-06-03T17:44:26.248316Z"
    },
    "papermill": {
     "duration": 5.079867,
     "end_time": "2022-06-03T17:44:26.249252",
     "exception": false,
     "start_time": "2022-06-03T17:44:21.169385",
     "status": "completed"
    },
    "tags": []
   },
   "outputs": [
    {
     "name": "stdout",
     "output_type": "stream",
     "text": [
      "Using cpu device\n"
     ]
    },
    {
     "name": "stdout",
     "output_type": "stream",
     "text": [
      "max_seq_len  802\n"
     ]
    },
    {
     "name": "stdout",
     "output_type": "stream",
     "text": [
      "not all sequences are of the same length\n"
     ]
    }
   ],
   "source": [
    "# Run on GPU or CPU\n",
    "device = 'cuda' if torch.cuda.is_available() else 'cpu'\n",
    "print('Using {} device'.format(device))\n",
    "\n",
    "max_seq_len, nn_input_len = check_seq_lengths(dataset=train_dset, use_padding=USE_PADDING)\n",
    "\n",
    "# Data Loader\n",
    "if(USE_PADDING):\n",
    "    collate = coll_factory(vocabulary, tokenizer, device, pad_to_length = nn_input_len)\n",
    "else:\n",
    "    collate = coll_factory(vocabulary, tokenizer, device, pad_to_length = None)\n",
    "\n",
    "train_loader = DataLoader(train_dset, batch_size=BATCH_SIZE, shuffle=True, collate_fn=collate)"
   ]
  },
  {
   "cell_type": "markdown",
   "id": "c218dcd8",
   "metadata": {
    "papermill": {
     "duration": 0.010798,
     "end_time": "2022-06-03T17:44:26.277371",
     "exception": false,
     "start_time": "2022-06-03T17:44:26.266573",
     "status": "completed"
    },
    "tags": []
   },
   "source": [
    "## Model"
   ]
  },
  {
   "cell_type": "code",
   "execution_count": 12,
   "id": "099b56ef",
   "metadata": {
    "execution": {
     "iopub.execute_input": "2022-06-03T17:44:26.303635Z",
     "iopub.status.busy": "2022-06-03T17:44:26.303355Z",
     "iopub.status.idle": "2022-06-03T17:44:26.519006Z",
     "shell.execute_reply": "2022-06-03T17:44:26.519481Z"
    },
    "papermill": {
     "duration": 0.231455,
     "end_time": "2022-06-03T17:44:26.519579",
     "exception": false,
     "start_time": "2022-06-03T17:44:26.288124",
     "status": "completed"
    },
    "tags": []
   },
   "outputs": [],
   "source": [
    "model = CNN(\n",
    "    number_of_classes=NUM_CLASSES,\n",
    "    vocab_size=vocabulary.__len__(),\n",
    "    embedding_dim=100,\n",
    "    input_len=nn_input_len,\n",
    "    device=device\n",
    ").to(device)"
   ]
  },
  {
   "cell_type": "markdown",
   "id": "09908852",
   "metadata": {
    "papermill": {
     "duration": 0.012195,
     "end_time": "2022-06-03T17:44:26.544498",
     "exception": false,
     "start_time": "2022-06-03T17:44:26.532303",
     "status": "completed"
    },
    "tags": []
   },
   "source": [
    "## Training"
   ]
  },
  {
   "cell_type": "code",
   "execution_count": 13,
   "id": "a610b1be",
   "metadata": {
    "execution": {
     "iopub.execute_input": "2022-06-03T17:44:26.573622Z",
     "iopub.status.busy": "2022-06-03T17:44:26.573191Z",
     "iopub.status.idle": "2022-06-03T17:49:22.126768Z",
     "shell.execute_reply": "2022-06-03T17:49:22.127026Z"
    },
    "papermill": {
     "duration": 295.570312,
     "end_time": "2022-06-03T17:49:22.127191",
     "exception": false,
     "start_time": "2022-06-03T17:44:26.556879",
     "status": "completed"
    },
    "tags": []
   },
   "outputs": [
    {
     "name": "stdout",
     "output_type": "stream",
     "text": [
      "Epoch 0\n"
     ]
    },
    {
     "name": "stderr",
     "output_type": "stream",
     "text": [
      "/home/katarina/git/genomic_benchmarks/src/genomic_benchmarks/dataset_getters/utils.py:27: UserWarning: To copy construct from a tensor, it is recommended to use sourceTensor.clone().detach() or sourceTensor.clone().detach().requires_grad_(True), rather than torch.tensor(sourceTensor).\n",
      "  x = torch.tensor(pad(x), dtype=torch.long)\n"
     ]
    },
    {
     "name": "stdout",
     "output_type": "stream",
     "text": [
      "Train metrics: \n",
      " Accuracy: 92.5%, Avg loss: 0.184811 \n",
      "\n"
     ]
    }
   ],
   "source": [
    "model.fit(train_loader, epochs=EPOCHS)"
   ]
  },
  {
   "cell_type": "markdown",
   "id": "33d59e42",
   "metadata": {
    "papermill": {
     "duration": 0.011755,
     "end_time": "2022-06-03T17:49:22.151671",
     "exception": false,
     "start_time": "2022-06-03T17:49:22.139916",
     "status": "completed"
    },
    "tags": []
   },
   "source": [
    "## Testing"
   ]
  },
  {
   "cell_type": "code",
   "execution_count": 14,
   "id": "dceb0c5b",
   "metadata": {
    "execution": {
     "iopub.execute_input": "2022-06-03T17:49:22.182853Z",
     "iopub.status.busy": "2022-06-03T17:49:22.182083Z",
     "iopub.status.idle": "2022-06-03T17:50:09.766288Z",
     "shell.execute_reply": "2022-06-03T17:50:09.766055Z"
    },
    "papermill": {
     "duration": 47.601929,
     "end_time": "2022-06-03T17:50:09.766350",
     "exception": false,
     "start_time": "2022-06-03T17:49:22.164421",
     "status": "completed"
    },
    "tags": []
   },
   "outputs": [
    {
     "name": "stdout",
     "output_type": "stream",
     "text": [
      "Test metrics: \n",
      " Accuracy: 0.916154, F1 score: 0.916154, Avg loss: 0.299964 \n",
      "\n"
     ]
    },
    {
     "data": {
      "text/plain": [
       "(0.9161540727392442, 0.9161540727392442)"
      ]
     },
     "execution_count": 14,
     "metadata": {},
     "output_type": "execute_result"
    }
   ],
   "source": [
    "test_dset = get_dataset(DATASET, 'test')\n",
    "test_loader = DataLoader(test_dset, batch_size=BATCH_SIZE, shuffle=True, collate_fn=collate)\n",
    "\n",
    "acc, f1 = model.test(test_loader)\n",
    "acc, f1"
   ]
  }
 ],
 "metadata": {
  "environment": {
   "name": "pytorch-gpu.1-9.m75",
   "type": "gcloud",
   "uri": "gcr.io/deeplearning-platform-release/pytorch-gpu.1-9:m75"
  },
  "interpreter": {
   "hash": "5fb5174addf958ec7b3e9e5d35a565dfd5bab1ae69383cd521f52756e68c7fc3"
  },
  "kernelspec": {
   "display_name": "Python 3.8.10 ('venv': venv)",
   "language": "python",
   "name": "python3"
  },
  "language_info": {
   "codemirror_mode": {
    "name": "ipython",
    "version": 3
   },
   "file_extension": ".py",
   "mimetype": "text/x-python",
   "name": "python",
   "nbconvert_exporter": "python",
   "pygments_lexer": "ipython3",
   "version": "3.8.10"
  },
  "papermill": {
   "default_parameters": {},
   "duration": 362.533629,
   "end_time": "2022-06-03T17:50:10.499357",
   "environment_variables": {},
   "exception": null,
   "input_path": "utils/torch_cnn_classifier.ipynb",
   "output_path": "torch_cnn_experiments/human_ensembl_regulatory.ipynb",
   "parameters": {
    "DATASET": "human_ensembl_regulatory"
   },
   "start_time": "2022-06-03T17:44:07.965728",
   "version": "2.3.4"
  }
 },
 "nbformat": 4,
 "nbformat_minor": 5
}