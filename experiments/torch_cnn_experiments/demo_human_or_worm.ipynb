{
 "cells": [
  {
   "cell_type": "markdown",
   "id": "6660248d",
   "metadata": {
    "papermill": {
     "duration": 0.036388,
     "end_time": "2021-11-25T17:05:38.610969",
     "exception": false,
     "start_time": "2021-11-25T17:05:38.574581",
     "status": "completed"
    },
    "tags": []
   },
   "source": [
    "# PYTORCH CNN Classifier\n",
    "\n",
    "To run this notebook on an another benchmark, use\n",
    "\n",
    "```\n",
    "papermill utils/torch_cnn_classifier.ipynb torch_cnn_experiments/[DATASET NAME].ipynb -p DATASET [DATASET NAME]\n",
    "```"
   ]
  },
  {
   "cell_type": "code",
   "execution_count": 1,
   "id": "b7035a6b",
   "metadata": {
    "execution": {
     "iopub.execute_input": "2021-11-25T17:05:38.681349Z",
     "iopub.status.busy": "2021-11-25T17:05:38.680559Z",
     "iopub.status.idle": "2021-11-25T17:05:38.685364Z",
     "shell.execute_reply": "2021-11-25T17:05:38.684827Z"
    },
    "papermill": {
     "duration": 0.040583,
     "end_time": "2021-11-25T17:05:38.685505",
     "exception": false,
     "start_time": "2021-11-25T17:05:38.644922",
     "status": "completed"
    },
    "tags": [
     "parameters"
    ]
   },
   "outputs": [],
   "source": [
    "# DATASET = 'no_dataset'\n",
    "DATASET = 'demo_human_or_worm'\n",
    "VERSION = 0\n",
    "BATCH_SIZE = 32\n",
    "EPOCHS = 1"
   ]
  },
  {
   "cell_type": "code",
   "execution_count": 2,
   "id": "28c8a2c5",
   "metadata": {
    "execution": {
     "iopub.execute_input": "2021-11-25T17:05:38.753837Z",
     "iopub.status.busy": "2021-11-25T17:05:38.753284Z",
     "iopub.status.idle": "2021-11-25T17:05:38.756075Z",
     "shell.execute_reply": "2021-11-25T17:05:38.756547Z"
    },
    "papermill": {
     "duration": 0.038603,
     "end_time": "2021-11-25T17:05:38.756713",
     "exception": false,
     "start_time": "2021-11-25T17:05:38.718110",
     "status": "completed"
    },
    "tags": [
     "injected-parameters"
    ]
   },
   "outputs": [],
   "source": [
    "# Parameters\n",
    "DATASET = \"demo_human_or_worm\"\n",
    "EPOCHS = 10\n"
   ]
  },
  {
   "cell_type": "code",
   "execution_count": 3,
   "id": "146252e7",
   "metadata": {
    "execution": {
     "iopub.execute_input": "2021-11-25T17:05:38.828192Z",
     "iopub.status.busy": "2021-11-25T17:05:38.827276Z",
     "iopub.status.idle": "2021-11-25T17:05:38.831256Z",
     "shell.execute_reply": "2021-11-25T17:05:38.830695Z"
    },
    "papermill": {
     "duration": 0.041067,
     "end_time": "2021-11-25T17:05:38.831399",
     "exception": false,
     "start_time": "2021-11-25T17:05:38.790332",
     "status": "completed"
    },
    "tags": []
   },
   "outputs": [
    {
     "name": "stdout",
     "output_type": "stream",
     "text": [
      "demo_human_or_worm 0 32 10\n"
     ]
    }
   ],
   "source": [
    "print(DATASET, VERSION, BATCH_SIZE, EPOCHS)"
   ]
  },
  {
   "cell_type": "markdown",
   "id": "9f2557bf",
   "metadata": {
    "papermill": {
     "duration": 0.032863,
     "end_time": "2021-11-25T17:05:38.899583",
     "exception": false,
     "start_time": "2021-11-25T17:05:38.866720",
     "status": "completed"
    },
    "tags": []
   },
   "source": [
    "## Config"
   ]
  },
  {
   "cell_type": "code",
   "execution_count": 4,
   "id": "609105f4",
   "metadata": {
    "execution": {
     "iopub.execute_input": "2021-11-25T17:05:38.973424Z",
     "iopub.status.busy": "2021-11-25T17:05:38.972847Z",
     "iopub.status.idle": "2021-11-25T17:05:40.173368Z",
     "shell.execute_reply": "2021-11-25T17:05:40.172867Z"
    },
    "papermill": {
     "duration": 1.239889,
     "end_time": "2021-11-25T17:05:40.173512",
     "exception": false,
     "start_time": "2021-11-25T17:05:38.933623",
     "status": "completed"
    },
    "tags": []
   },
   "outputs": [],
   "source": [
    "import os\n",
    "import numpy as np\n",
    "import torch\n",
    "from torch import nn\n",
    "from torch.utils.data import DataLoader\n",
    "from torchtext.data.utils import get_tokenizer\n",
    "\n",
    "from genomic_benchmarks.dataset_getters.pytorch_datasets import get_dataset\n",
    "from genomic_benchmarks.models.torch import CNN\n",
    "from genomic_benchmarks.dataset_getters.utils import coll_factory, LetterTokenizer, build_vocab, check_seq_lengths, check_config, VARIABLE_LENGTH_DATASETS"
   ]
  },
  {
   "cell_type": "code",
   "execution_count": 5,
   "id": "4a6dc0e6",
   "metadata": {
    "execution": {
     "iopub.execute_input": "2021-11-25T17:05:40.247101Z",
     "iopub.status.busy": "2021-11-25T17:05:40.246468Z",
     "iopub.status.idle": "2021-11-25T17:05:40.249775Z",
     "shell.execute_reply": "2021-11-25T17:05:40.249224Z"
    },
    "papermill": {
     "duration": 0.043682,
     "end_time": "2021-11-25T17:05:40.249905",
     "exception": false,
     "start_time": "2021-11-25T17:05:40.206223",
     "status": "completed"
    },
    "tags": []
   },
   "outputs": [],
   "source": [
    "USE_PADDING = DATASET in VARIABLE_LENGTH_DATASETS\n",
    "    \n",
    "config = {\n",
    "    \"dataset\": DATASET,\n",
    "    \"dataset_version\": VERSION,\n",
    "    \"epochs\": EPOCHS,\n",
    "    \"batch_size\": BATCH_SIZE,\n",
    "    \"use_padding\": USE_PADDING,\n",
    "    \"force_download\": False,\n",
    "    \"run_on_gpu\": True,\n",
    "    \"number_of_classes\": 2,\n",
    "    \"embedding_dim\": 100,\n",
    "}\n",
    "check_config(config)"
   ]
  },
  {
   "cell_type": "markdown",
   "id": "f00f3ed7",
   "metadata": {
    "papermill": {
     "duration": 0.032211,
     "end_time": "2021-11-25T17:05:40.315802",
     "exception": false,
     "start_time": "2021-11-25T17:05:40.283591",
     "status": "completed"
    },
    "tags": []
   },
   "source": [
    "## Choose the dataset"
   ]
  },
  {
   "cell_type": "code",
   "execution_count": 6,
   "id": "2d2f15fd",
   "metadata": {
    "execution": {
     "iopub.execute_input": "2021-11-25T17:05:40.386596Z",
     "iopub.status.busy": "2021-11-25T17:05:40.385711Z",
     "iopub.status.idle": "2021-11-25T17:05:40.595648Z",
     "shell.execute_reply": "2021-11-25T17:05:40.595192Z"
    },
    "papermill": {
     "duration": 0.247731,
     "end_time": "2021-11-25T17:05:40.595793",
     "exception": false,
     "start_time": "2021-11-25T17:05:40.348062",
     "status": "completed"
    },
    "tags": []
   },
   "outputs": [],
   "source": [
    "train_dset = get_dataset(config[\"dataset\"], 'train')"
   ]
  },
  {
   "cell_type": "markdown",
   "id": "35ddd5f4",
   "metadata": {
    "papermill": {
     "duration": 0.032378,
     "end_time": "2021-11-25T17:05:40.661385",
     "exception": false,
     "start_time": "2021-11-25T17:05:40.629007",
     "status": "completed"
    },
    "tags": []
   },
   "source": [
    "## Tokenizer and vocab"
   ]
  },
  {
   "cell_type": "code",
   "execution_count": 7,
   "id": "0d69deb1",
   "metadata": {
    "execution": {
     "iopub.execute_input": "2021-11-25T17:05:40.731641Z",
     "iopub.status.busy": "2021-11-25T17:05:40.730755Z",
     "iopub.status.idle": "2021-11-25T17:05:43.985940Z",
     "shell.execute_reply": "2021-11-25T17:05:43.986436Z"
    },
    "papermill": {
     "duration": 3.293023,
     "end_time": "2021-11-25T17:05:43.986614",
     "exception": false,
     "start_time": "2021-11-25T17:05:40.693591",
     "status": "completed"
    },
    "tags": []
   },
   "outputs": [
    {
     "name": "stdout",
     "output_type": "stream",
     "text": [
      "vocab len: 9\n",
      "{'<eos>': 6, 'G': 5, 'C': 4, 'A': 3, '<pad>': 8, 'T': 2, '<bos>': 1, 'N': 7, '<unk>': 0}\n"
     ]
    }
   ],
   "source": [
    "tokenizer = get_tokenizer(LetterTokenizer())\n",
    "vocabulary = build_vocab(train_dset, tokenizer, use_padding=config[\"use_padding\"])\n",
    "\n",
    "print(\"vocab len:\" ,vocabulary.__len__())\n",
    "print(vocabulary.get_stoi())"
   ]
  },
  {
   "cell_type": "markdown",
   "id": "e40fe1d7",
   "metadata": {
    "papermill": {
     "duration": 0.033506,
     "end_time": "2021-11-25T17:05:44.054431",
     "exception": false,
     "start_time": "2021-11-25T17:05:44.020925",
     "status": "completed"
    },
    "tags": []
   },
   "source": [
    "## Dataloader and batch preparation"
   ]
  },
  {
   "cell_type": "code",
   "execution_count": 8,
   "id": "e1bff826",
   "metadata": {
    "execution": {
     "iopub.execute_input": "2021-11-25T17:05:44.135753Z",
     "iopub.status.busy": "2021-11-25T17:05:44.135175Z",
     "iopub.status.idle": "2021-11-25T17:05:47.742820Z",
     "shell.execute_reply": "2021-11-25T17:05:47.742323Z"
    },
    "papermill": {
     "duration": 3.655198,
     "end_time": "2021-11-25T17:05:47.742970",
     "exception": false,
     "start_time": "2021-11-25T17:05:44.087772",
     "status": "completed"
    },
    "tags": []
   },
   "outputs": [
    {
     "name": "stdout",
     "output_type": "stream",
     "text": [
      "Using cuda device\n"
     ]
    },
    {
     "name": "stdout",
     "output_type": "stream",
     "text": [
      "max_seq_len  200\n"
     ]
    },
    {
     "name": "stdout",
     "output_type": "stream",
     "text": [
      "not all sequences are of the same length\n"
     ]
    }
   ],
   "source": [
    "# Run on GPU or CPU\n",
    "device = 'cuda' if config[\"run_on_gpu\"] and torch.cuda.is_available() else 'cpu'\n",
    "print('Using {} device'.format(device))\n",
    "\n",
    "max_seq_len, nn_input_len = check_seq_lengths(dataset=train_dset, config=config)\n",
    "\n",
    "# Data Loader\n",
    "if(config[\"use_padding\"]):\n",
    "    collate = coll_factory(vocabulary, tokenizer, device, pad_to_length = nn_input_len)\n",
    "else:\n",
    "    collate = coll_factory(vocabulary, tokenizer, device, pad_to_length = None)\n",
    "\n",
    "train_loader = DataLoader(train_dset, batch_size=config[\"batch_size\"], shuffle=True, collate_fn=collate)"
   ]
  },
  {
   "cell_type": "markdown",
   "id": "9674d7ea",
   "metadata": {
    "papermill": {
     "duration": 0.037101,
     "end_time": "2021-11-25T17:05:47.817978",
     "exception": false,
     "start_time": "2021-11-25T17:05:47.780877",
     "status": "completed"
    },
    "tags": []
   },
   "source": [
    "## Model"
   ]
  },
  {
   "cell_type": "code",
   "execution_count": 9,
   "id": "361f1ddc",
   "metadata": {
    "execution": {
     "iopub.execute_input": "2021-11-25T17:05:47.894367Z",
     "iopub.status.busy": "2021-11-25T17:05:47.893664Z",
     "iopub.status.idle": "2021-11-25T17:05:49.525635Z",
     "shell.execute_reply": "2021-11-25T17:05:49.526167Z"
    },
    "papermill": {
     "duration": 1.672696,
     "end_time": "2021-11-25T17:05:49.526322",
     "exception": false,
     "start_time": "2021-11-25T17:05:47.853626",
     "status": "completed"
    },
    "tags": []
   },
   "outputs": [
    {
     "name": "stderr",
     "output_type": "stream",
     "text": [
      "/opt/conda/envs/bench_env/lib/python3.8/site-packages/torch/nn/functional.py:652: UserWarning: Named tensors and all their associated APIs are an experimental feature and subject to change. Please do not use them for anything important until they are released as stable. (Triggered internally at  /opt/conda/conda-bld/pytorch_1623448278899/work/c10/core/TensorImpl.h:1156.)\n",
      "  return torch.max_pool1d(input, kernel_size, stride, padding, dilation, ceil_mode)\n"
     ]
    }
   ],
   "source": [
    "model = CNN(\n",
    "    number_of_classes=config[\"number_of_classes\"],\n",
    "    vocab_size=vocabulary.__len__(),\n",
    "    embedding_dim=config[\"embedding_dim\"],\n",
    "    input_len=nn_input_len\n",
    ").to(device)"
   ]
  },
  {
   "cell_type": "markdown",
   "id": "335854be",
   "metadata": {
    "papermill": {
     "duration": 0.036208,
     "end_time": "2021-11-25T17:05:49.599754",
     "exception": false,
     "start_time": "2021-11-25T17:05:49.563546",
     "status": "completed"
    },
    "tags": []
   },
   "source": [
    "## Training"
   ]
  },
  {
   "cell_type": "code",
   "execution_count": 10,
   "id": "f36301e8",
   "metadata": {
    "execution": {
     "iopub.execute_input": "2021-11-25T17:05:49.677647Z",
     "iopub.status.busy": "2021-11-25T17:05:49.676251Z",
     "iopub.status.idle": "2021-11-25T17:14:37.340461Z",
     "shell.execute_reply": "2021-11-25T17:14:37.341036Z"
    },
    "papermill": {
     "duration": 527.704737,
     "end_time": "2021-11-25T17:14:37.341201",
     "exception": false,
     "start_time": "2021-11-25T17:05:49.636464",
     "status": "completed"
    },
    "tags": []
   },
   "outputs": [
    {
     "name": "stdout",
     "output_type": "stream",
     "text": [
      "Epoch 0\n"
     ]
    },
    {
     "name": "stderr",
     "output_type": "stream",
     "text": [
      "/home/jupyter/genomic_benchmarks/src/genomic_benchmarks/dataset_getters/utils.py:26: UserWarning: To copy construct from a tensor, it is recommended to use sourceTensor.clone().detach() or sourceTensor.clone().detach().requires_grad_(True), rather than torch.tensor(sourceTensor).\n",
      "  x = torch.tensor(pad(x), dtype=torch.long)\n"
     ]
    },
    {
     "name": "stdout",
     "output_type": "stream",
     "text": [
      "Train metrics: \n",
      " Accuracy: 90.4%, Avg loss: 0.546975 \n",
      "\n",
      "Epoch 1\n"
     ]
    },
    {
     "name": "stdout",
     "output_type": "stream",
     "text": [
      "Train metrics: \n",
      " Accuracy: 92.3%, Avg loss: 0.540682 \n",
      "\n",
      "Epoch 2\n"
     ]
    },
    {
     "name": "stdout",
     "output_type": "stream",
     "text": [
      "Train metrics: \n",
      " Accuracy: 92.4%, Avg loss: 0.538900 \n",
      "\n",
      "Epoch 3\n"
     ]
    },
    {
     "name": "stdout",
     "output_type": "stream",
     "text": [
      "Train metrics: \n",
      " Accuracy: 92.3%, Avg loss: 0.537860 \n",
      "\n",
      "Epoch 4\n"
     ]
    },
    {
     "name": "stdout",
     "output_type": "stream",
     "text": [
      "Train metrics: \n",
      " Accuracy: 92.7%, Avg loss: 0.537275 \n",
      "\n",
      "Epoch 5\n"
     ]
    },
    {
     "name": "stdout",
     "output_type": "stream",
     "text": [
      "Train metrics: \n",
      " Accuracy: 93.0%, Avg loss: 0.535593 \n",
      "\n",
      "Epoch 6\n"
     ]
    },
    {
     "name": "stdout",
     "output_type": "stream",
     "text": [
      "Train metrics: \n",
      " Accuracy: 93.3%, Avg loss: 0.534897 \n",
      "\n",
      "Epoch 7\n"
     ]
    },
    {
     "name": "stdout",
     "output_type": "stream",
     "text": [
      "Train metrics: \n",
      " Accuracy: 93.0%, Avg loss: 0.535228 \n",
      "\n",
      "Epoch 8\n"
     ]
    },
    {
     "name": "stdout",
     "output_type": "stream",
     "text": [
      "Train metrics: \n",
      " Accuracy: 93.2%, Avg loss: 0.534641 \n",
      "\n",
      "Epoch 9\n"
     ]
    },
    {
     "name": "stdout",
     "output_type": "stream",
     "text": [
      "Train metrics: \n",
      " Accuracy: 92.9%, Avg loss: 0.535920 \n",
      "\n"
     ]
    }
   ],
   "source": [
    "model.train(train_loader, epochs=config[\"epochs\"])"
   ]
  },
  {
   "cell_type": "markdown",
   "id": "80a37d6e",
   "metadata": {
    "papermill": {
     "duration": 0.045434,
     "end_time": "2021-11-25T17:14:37.431910",
     "exception": false,
     "start_time": "2021-11-25T17:14:37.386476",
     "status": "completed"
    },
    "tags": []
   },
   "source": [
    "## Testing"
   ]
  },
  {
   "cell_type": "code",
   "execution_count": 11,
   "id": "fe5896f7",
   "metadata": {
    "execution": {
     "iopub.execute_input": "2021-11-25T17:14:37.526863Z",
     "iopub.status.busy": "2021-11-25T17:14:37.526320Z",
     "iopub.status.idle": "2021-11-25T17:14:44.588469Z",
     "shell.execute_reply": "2021-11-25T17:14:44.588938Z"
    },
    "papermill": {
     "duration": 7.112122,
     "end_time": "2021-11-25T17:14:44.589085",
     "exception": false,
     "start_time": "2021-11-25T17:14:37.476963",
     "status": "completed"
    },
    "tags": []
   },
   "outputs": [
    {
     "name": "stdout",
     "output_type": "stream",
     "text": [
      "p  12500 ; tp  11321.268815517426 ; fp  654.7251256960077\n",
      "recall  0.905701505241394 ; precision  0.9453302056672827\n",
      "num_batches 782\n",
      "correct 23172\n",
      "size 25000\n",
      "Test metrics: \n",
      " Accuracy: 0.926880, F1 score: 0.925092, Avg loss: 0.536891 \n",
      "\n"
     ]
    },
    {
     "data": {
      "text/plain": [
       "(0.92688, 0.9250916504317582)"
      ]
     },
     "execution_count": 11,
     "metadata": {},
     "output_type": "execute_result"
    }
   ],
   "source": [
    "test_dset = get_dataset(config[\"dataset\"], 'test')\n",
    "test_loader = DataLoader(test_dset, batch_size=config[\"batch_size\"], shuffle=True, collate_fn=collate)\n",
    "\n",
    "acc, f1 = model.test(test_loader)\n",
    "acc, f1"
   ]
  }
 ],
 "metadata": {
  "environment": {
   "name": "pytorch-gpu.1-9.m75",
   "type": "gcloud",
   "uri": "gcr.io/deeplearning-platform-release/pytorch-gpu.1-9:m75"
  },
  "interpreter": {
   "hash": "9828b828580f1cac1b571b33de6cff8bacecc8916095e1bcbc967952ca7105b7"
  },
  "kernelspec": {
   "display_name": "conda-env-bench_env-py",
   "language": "python",
   "name": "bench_env"
  },
  "language_info": {
   "codemirror_mode": {
    "name": "ipython",
    "version": 3
   },
   "file_extension": ".py",
   "mimetype": "text/x-python",
   "name": "python",
   "nbconvert_exporter": "python",
   "pygments_lexer": "ipython3",
   "version": "3.8.10"
  },
  "papermill": {
   "default_parameters": {},
   "duration": 548.40342,
   "end_time": "2021-11-25T17:14:45.855727",
   "environment_variables": {},
   "exception": null,
   "input_path": "utils/torch_cnn_classifier.ipynb",
   "output_path": "torch_cnn_experiments/demo_human_or_worm.ipynb",
   "parameters": {
    "DATASET": "demo_human_or_worm",
    "EPOCHS": 10
   },
   "start_time": "2021-11-25T17:05:37.452307",
   "version": "2.3.3"
  }
 },
 "nbformat": 4,
 "nbformat_minor": 5
}