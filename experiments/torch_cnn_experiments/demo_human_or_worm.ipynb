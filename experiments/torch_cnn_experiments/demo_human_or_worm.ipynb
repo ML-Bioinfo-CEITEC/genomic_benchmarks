{
 "cells": [
  {
   "cell_type": "markdown",
   "id": "c34130e7",
   "metadata": {
    "papermill": {
     "duration": 0.043776,
     "end_time": "2022-06-03T17:57:04.337207",
     "exception": false,
     "start_time": "2022-06-03T17:57:04.293431",
     "status": "completed"
    },
    "tags": []
   },
   "source": [
    "# PYTORCH CNN Classifier\n",
    "\n",
    "To run this notebook on an another benchmark, use\n",
    "\n",
    "```\n",
    "papermill utils/torch_cnn_classifier.ipynb torch_cnn_experiments/[DATASET NAME].ipynb -p DATASET [DATASET NAME]\n",
    "```"
   ]
  },
  {
   "cell_type": "code",
   "execution_count": 1,
   "id": "ea554f37",
   "metadata": {
    "execution": {
     "iopub.execute_input": "2022-06-03T17:57:04.359979Z",
     "iopub.status.busy": "2022-06-03T17:57:04.359673Z",
     "iopub.status.idle": "2022-06-03T17:57:04.361664Z",
     "shell.execute_reply": "2022-06-03T17:57:04.361313Z"
    },
    "papermill": {
     "duration": 0.016067,
     "end_time": "2022-06-03T17:57:04.361740",
     "exception": false,
     "start_time": "2022-06-03T17:57:04.345673",
     "status": "completed"
    },
    "tags": [
     "parameters"
    ]
   },
   "outputs": [],
   "source": [
    "# DATASET = 'no_dataset'\n",
    "DATASET = 'demo_human_or_worm'\n",
    "VERSION = 0\n",
    "BATCH_SIZE = 64\n",
    "EPOCHS = 1"
   ]
  },
  {
   "cell_type": "code",
   "execution_count": 2,
   "id": "c87f4324",
   "metadata": {
    "execution": {
     "iopub.execute_input": "2022-06-03T17:57:04.382349Z",
     "iopub.status.busy": "2022-06-03T17:57:04.382028Z",
     "iopub.status.idle": "2022-06-03T17:57:04.383428Z",
     "shell.execute_reply": "2022-06-03T17:57:04.383683Z"
    },
    "papermill": {
     "duration": 0.012873,
     "end_time": "2022-06-03T17:57:04.383765",
     "exception": false,
     "start_time": "2022-06-03T17:57:04.370892",
     "status": "completed"
    },
    "tags": [
     "injected-parameters"
    ]
   },
   "outputs": [],
   "source": [
    "# Parameters\n",
    "DATASET = \"demo_human_or_worm\"\n"
   ]
  },
  {
   "cell_type": "code",
   "execution_count": 3,
   "id": "5b055a93",
   "metadata": {
    "execution": {
     "iopub.execute_input": "2022-06-03T17:57:04.403567Z",
     "iopub.status.busy": "2022-06-03T17:57:04.403210Z",
     "iopub.status.idle": "2022-06-03T17:57:04.404804Z",
     "shell.execute_reply": "2022-06-03T17:57:04.404506Z"
    },
    "papermill": {
     "duration": 0.01291,
     "end_time": "2022-06-03T17:57:04.404882",
     "exception": false,
     "start_time": "2022-06-03T17:57:04.391972",
     "status": "completed"
    },
    "tags": []
   },
   "outputs": [
    {
     "name": "stdout",
     "output_type": "stream",
     "text": [
      "demo_human_or_worm 0 64 1\n"
     ]
    }
   ],
   "source": [
    "print(DATASET, VERSION, BATCH_SIZE, EPOCHS)"
   ]
  },
  {
   "cell_type": "markdown",
   "id": "52210671",
   "metadata": {
    "papermill": {
     "duration": 0.009035,
     "end_time": "2022-06-03T17:57:04.423120",
     "exception": false,
     "start_time": "2022-06-03T17:57:04.414085",
     "status": "completed"
    },
    "tags": []
   },
   "source": [
    "## Config"
   ]
  },
  {
   "cell_type": "code",
   "execution_count": 4,
   "id": "ea73e96d",
   "metadata": {
    "execution": {
     "iopub.execute_input": "2022-06-03T17:57:04.452285Z",
     "iopub.status.busy": "2022-06-03T17:57:04.451928Z",
     "iopub.status.idle": "2022-06-03T17:57:05.321869Z",
     "shell.execute_reply": "2022-06-03T17:57:05.321380Z"
    },
    "papermill": {
     "duration": 0.889421,
     "end_time": "2022-06-03T17:57:05.321942",
     "exception": false,
     "start_time": "2022-06-03T17:57:04.432521",
     "status": "completed"
    },
    "tags": []
   },
   "outputs": [],
   "source": [
    "import os\n",
    "import numpy as np\n",
    "import torch\n",
    "from torch import nn\n",
    "from torch.utils.data import DataLoader\n",
    "from torchtext.data.utils import get_tokenizer\n",
    "\n",
    "from genomic_benchmarks.data_check import is_downloaded, info\n",
    "from genomic_benchmarks.dataset_getters.pytorch_datasets import get_dataset\n",
    "from genomic_benchmarks.loc2seq import download_dataset\n",
    "from genomic_benchmarks.models.torch import CNN\n",
    "from genomic_benchmarks.dataset_getters.utils import coll_factory, LetterTokenizer, build_vocab, check_seq_lengths, check_config, VARIABLE_LENGTH_DATASETS"
   ]
  },
  {
   "cell_type": "code",
   "execution_count": 5,
   "id": "115a91e1",
   "metadata": {
    "execution": {
     "iopub.execute_input": "2022-06-03T17:57:05.357643Z",
     "iopub.status.busy": "2022-06-03T17:57:05.357226Z",
     "iopub.status.idle": "2022-06-03T17:57:05.358174Z",
     "shell.execute_reply": "2022-06-03T17:57:05.358388Z"
    },
    "papermill": {
     "duration": 0.025099,
     "end_time": "2022-06-03T17:57:05.358476",
     "exception": false,
     "start_time": "2022-06-03T17:57:05.333377",
     "status": "completed"
    },
    "tags": []
   },
   "outputs": [],
   "source": [
    "USE_PADDING = DATASET in VARIABLE_LENGTH_DATASETS"
   ]
  },
  {
   "cell_type": "markdown",
   "id": "1408b2c0",
   "metadata": {
    "papermill": {
     "duration": 0.009209,
     "end_time": "2022-06-03T17:57:05.376918",
     "exception": false,
     "start_time": "2022-06-03T17:57:05.367709",
     "status": "completed"
    },
    "tags": []
   },
   "source": [
    "## Choose the dataset"
   ]
  },
  {
   "cell_type": "code",
   "execution_count": 6,
   "id": "9a198c65",
   "metadata": {
    "execution": {
     "iopub.execute_input": "2022-06-03T17:57:05.398780Z",
     "iopub.status.busy": "2022-06-03T17:57:05.398504Z",
     "iopub.status.idle": "2022-06-03T17:57:05.400534Z",
     "shell.execute_reply": "2022-06-03T17:57:05.400113Z"
    },
    "papermill": {
     "duration": 0.014825,
     "end_time": "2022-06-03T17:57:05.400629",
     "exception": false,
     "start_time": "2022-06-03T17:57:05.385804",
     "status": "completed"
    },
    "tags": []
   },
   "outputs": [],
   "source": [
    "if not is_downloaded(DATASET):\n",
    "    download_dataset(DATASET, local_repo=True)"
   ]
  },
  {
   "cell_type": "code",
   "execution_count": 7,
   "id": "6c78670b",
   "metadata": {
    "execution": {
     "iopub.execute_input": "2022-06-03T17:57:05.429115Z",
     "iopub.status.busy": "2022-06-03T17:57:05.426538Z",
     "iopub.status.idle": "2022-06-03T17:57:05.500916Z",
     "shell.execute_reply": "2022-06-03T17:57:05.500398Z"
    },
    "papermill": {
     "duration": 0.08687,
     "end_time": "2022-06-03T17:57:05.501031",
     "exception": false,
     "start_time": "2022-06-03T17:57:05.414161",
     "status": "completed"
    },
    "tags": []
   },
   "outputs": [
    {
     "name": "stdout",
     "output_type": "stream",
     "text": [
      "Dataset `demo_human_or_worm` has 2 classes: human, worm.\n",
      "\n",
      "All lengths of genomic intervals equals 200.\n",
      "\n",
      "Totally 100000 sequences have been found, 75000 for training and 25000 for testing.\n"
     ]
    },
    {
     "name": "stderr",
     "output_type": "stream",
     "text": [
      "/home/katarina/git/genomic_benchmarks/src/genomic_benchmarks/utils/datasets.py:50: UserWarning: No version specified. Using version 0.\n",
      "  warnings.warn(f\"No version specified. Using version {metadata['version']}.\")\n"
     ]
    },
    {
     "data": {
      "text/html": [
       "<div>\n",
       "<style scoped>\n",
       "    .dataframe tbody tr th:only-of-type {\n",
       "        vertical-align: middle;\n",
       "    }\n",
       "\n",
       "    .dataframe tbody tr th {\n",
       "        vertical-align: top;\n",
       "    }\n",
       "\n",
       "    .dataframe thead th {\n",
       "        text-align: right;\n",
       "    }\n",
       "</style>\n",
       "<table border=\"1\" class=\"dataframe\">\n",
       "  <thead>\n",
       "    <tr style=\"text-align: right;\">\n",
       "      <th></th>\n",
       "      <th>train</th>\n",
       "      <th>test</th>\n",
       "    </tr>\n",
       "  </thead>\n",
       "  <tbody>\n",
       "    <tr>\n",
       "      <th>human</th>\n",
       "      <td>37500</td>\n",
       "      <td>12500</td>\n",
       "    </tr>\n",
       "    <tr>\n",
       "      <th>worm</th>\n",
       "      <td>37500</td>\n",
       "      <td>12500</td>\n",
       "    </tr>\n",
       "  </tbody>\n",
       "</table>\n",
       "</div>"
      ],
      "text/plain": [
       "       train   test\n",
       "human  37500  12500\n",
       "worm   37500  12500"
      ]
     },
     "execution_count": 7,
     "metadata": {},
     "output_type": "execute_result"
    }
   ],
   "source": [
    "info(DATASET, local_repo=True)"
   ]
  },
  {
   "cell_type": "code",
   "execution_count": 8,
   "id": "574aed31",
   "metadata": {
    "execution": {
     "iopub.execute_input": "2022-06-03T17:57:05.528914Z",
     "iopub.status.busy": "2022-06-03T17:57:05.528579Z",
     "iopub.status.idle": "2022-06-03T17:57:05.752306Z",
     "shell.execute_reply": "2022-06-03T17:57:05.752785Z"
    },
    "papermill": {
     "duration": 0.237226,
     "end_time": "2022-06-03T17:57:05.753002",
     "exception": false,
     "start_time": "2022-06-03T17:57:05.515776",
     "status": "completed"
    },
    "tags": []
   },
   "outputs": [],
   "source": [
    "train_dset = get_dataset(DATASET, 'train')"
   ]
  },
  {
   "cell_type": "code",
   "execution_count": 9,
   "id": "c20e7368",
   "metadata": {
    "execution": {
     "iopub.execute_input": "2022-06-03T17:57:05.787975Z",
     "iopub.status.busy": "2022-06-03T17:57:05.787237Z",
     "iopub.status.idle": "2022-06-03T17:57:14.302805Z",
     "shell.execute_reply": "2022-06-03T17:57:14.303040Z"
    },
    "papermill": {
     "duration": 8.529801,
     "end_time": "2022-06-03T17:57:14.303129",
     "exception": false,
     "start_time": "2022-06-03T17:57:05.773328",
     "status": "completed"
    },
    "tags": []
   },
   "outputs": [
    {
     "data": {
      "text/plain": [
       "2"
      ]
     },
     "execution_count": 9,
     "metadata": {},
     "output_type": "execute_result"
    }
   ],
   "source": [
    "NUM_CLASSES = len(set([train_dset[i][1] for i in range(len(train_dset))]))\n",
    "NUM_CLASSES"
   ]
  },
  {
   "cell_type": "markdown",
   "id": "9bb4817b",
   "metadata": {
    "papermill": {
     "duration": 0.010582,
     "end_time": "2022-06-03T17:57:14.324258",
     "exception": false,
     "start_time": "2022-06-03T17:57:14.313676",
     "status": "completed"
    },
    "tags": []
   },
   "source": [
    "## Tokenizer and vocab"
   ]
  },
  {
   "cell_type": "code",
   "execution_count": 10,
   "id": "137346c6",
   "metadata": {
    "execution": {
     "iopub.execute_input": "2022-06-03T17:57:14.348468Z",
     "iopub.status.busy": "2022-06-03T17:57:14.348128Z",
     "iopub.status.idle": "2022-06-03T17:57:15.977318Z",
     "shell.execute_reply": "2022-06-03T17:57:15.976677Z"
    },
    "papermill": {
     "duration": 1.642954,
     "end_time": "2022-06-03T17:57:15.977497",
     "exception": false,
     "start_time": "2022-06-03T17:57:14.334543",
     "status": "completed"
    },
    "tags": []
   },
   "outputs": [
    {
     "name": "stdout",
     "output_type": "stream",
     "text": [
      "vocab len: 8\n",
      "{'C': 5, 'A': 4, '<eos>': 6, 'G': 3, 'T': 2, '<bos>': 1, 'N': 7, '<unk>': 0}\n"
     ]
    }
   ],
   "source": [
    "tokenizer = get_tokenizer(LetterTokenizer())\n",
    "vocabulary = build_vocab(train_dset, tokenizer, use_padding=USE_PADDING)\n",
    "\n",
    "print(\"vocab len:\" ,vocabulary.__len__())\n",
    "print(vocabulary.get_stoi())"
   ]
  },
  {
   "cell_type": "markdown",
   "id": "0b188702",
   "metadata": {
    "papermill": {
     "duration": 0.009987,
     "end_time": "2022-06-03T17:57:16.004759",
     "exception": false,
     "start_time": "2022-06-03T17:57:15.994772",
     "status": "completed"
    },
    "tags": []
   },
   "source": [
    "## Dataloader and batch preparation"
   ]
  },
  {
   "cell_type": "code",
   "execution_count": 11,
   "id": "375cc32b",
   "metadata": {
    "execution": {
     "iopub.execute_input": "2022-06-03T17:57:16.033583Z",
     "iopub.status.busy": "2022-06-03T17:57:16.029068Z",
     "iopub.status.idle": "2022-06-03T17:57:17.709963Z",
     "shell.execute_reply": "2022-06-03T17:57:17.709056Z"
    },
    "papermill": {
     "duration": 1.695356,
     "end_time": "2022-06-03T17:57:17.710124",
     "exception": false,
     "start_time": "2022-06-03T17:57:16.014768",
     "status": "completed"
    },
    "tags": []
   },
   "outputs": [
    {
     "name": "stdout",
     "output_type": "stream",
     "text": [
      "Using cpu device\n"
     ]
    },
    {
     "name": "stdout",
     "output_type": "stream",
     "text": [
      "max_seq_len  200\n"
     ]
    }
   ],
   "source": [
    "# Run on GPU or CPU\n",
    "device = 'cuda' if torch.cuda.is_available() else 'cpu'\n",
    "print('Using {} device'.format(device))\n",
    "\n",
    "max_seq_len, nn_input_len = check_seq_lengths(dataset=train_dset, use_padding=USE_PADDING)\n",
    "\n",
    "# Data Loader\n",
    "if(USE_PADDING):\n",
    "    collate = coll_factory(vocabulary, tokenizer, device, pad_to_length = nn_input_len)\n",
    "else:\n",
    "    collate = coll_factory(vocabulary, tokenizer, device, pad_to_length = None)\n",
    "\n",
    "train_loader = DataLoader(train_dset, batch_size=BATCH_SIZE, shuffle=True, collate_fn=collate)"
   ]
  },
  {
   "cell_type": "markdown",
   "id": "d5e2400d",
   "metadata": {
    "papermill": {
     "duration": 0.010519,
     "end_time": "2022-06-03T17:57:17.742080",
     "exception": false,
     "start_time": "2022-06-03T17:57:17.731561",
     "status": "completed"
    },
    "tags": []
   },
   "source": [
    "## Model"
   ]
  },
  {
   "cell_type": "code",
   "execution_count": 12,
   "id": "d5a1ab44",
   "metadata": {
    "execution": {
     "iopub.execute_input": "2022-06-03T17:57:17.766259Z",
     "iopub.status.busy": "2022-06-03T17:57:17.765972Z",
     "iopub.status.idle": "2022-06-03T17:57:17.805561Z",
     "shell.execute_reply": "2022-06-03T17:57:17.805779Z"
    },
    "papermill": {
     "duration": 0.053358,
     "end_time": "2022-06-03T17:57:17.805865",
     "exception": false,
     "start_time": "2022-06-03T17:57:17.752507",
     "status": "completed"
    },
    "tags": []
   },
   "outputs": [],
   "source": [
    "model = CNN(\n",
    "    number_of_classes=NUM_CLASSES,\n",
    "    vocab_size=vocabulary.__len__(),\n",
    "    embedding_dim=100,\n",
    "    input_len=nn_input_len,\n",
    "    device=device\n",
    ").to(device)"
   ]
  },
  {
   "cell_type": "markdown",
   "id": "1cb4b098",
   "metadata": {
    "papermill": {
     "duration": 0.010143,
     "end_time": "2022-06-03T17:57:17.826479",
     "exception": false,
     "start_time": "2022-06-03T17:57:17.816336",
     "status": "completed"
    },
    "tags": []
   },
   "source": [
    "## Training"
   ]
  },
  {
   "cell_type": "code",
   "execution_count": 13,
   "id": "0fceea3d",
   "metadata": {
    "execution": {
     "iopub.execute_input": "2022-06-03T17:57:17.854404Z",
     "iopub.status.busy": "2022-06-03T17:57:17.854011Z",
     "iopub.status.idle": "2022-06-03T17:57:54.928814Z",
     "shell.execute_reply": "2022-06-03T17:57:54.929234Z"
    },
    "papermill": {
     "duration": 37.091947,
     "end_time": "2022-06-03T17:57:54.929342",
     "exception": false,
     "start_time": "2022-06-03T17:57:17.837395",
     "status": "completed"
    },
    "tags": []
   },
   "outputs": [
    {
     "name": "stdout",
     "output_type": "stream",
     "text": [
      "Epoch 0\n"
     ]
    },
    {
     "name": "stdout",
     "output_type": "stream",
     "text": [
      "Train metrics: \n",
      " Accuracy: 88.9%, Avg loss: 0.553716 \n",
      "\n"
     ]
    }
   ],
   "source": [
    "model.fit(train_loader, epochs=EPOCHS)"
   ]
  },
  {
   "cell_type": "markdown",
   "id": "8b2f7bde",
   "metadata": {
    "papermill": {
     "duration": 0.011632,
     "end_time": "2022-06-03T17:57:54.952441",
     "exception": false,
     "start_time": "2022-06-03T17:57:54.940809",
     "status": "completed"
    },
    "tags": []
   },
   "source": [
    "## Testing"
   ]
  },
  {
   "cell_type": "code",
   "execution_count": 14,
   "id": "2af55a3b",
   "metadata": {
    "execution": {
     "iopub.execute_input": "2022-06-03T17:57:54.980417Z",
     "iopub.status.busy": "2022-06-03T17:57:54.980033Z",
     "iopub.status.idle": "2022-06-03T17:58:01.260461Z",
     "shell.execute_reply": "2022-06-03T17:58:01.259812Z"
    },
    "papermill": {
     "duration": 6.296387,
     "end_time": "2022-06-03T17:58:01.260614",
     "exception": false,
     "start_time": "2022-06-03T17:57:54.964227",
     "status": "completed"
    },
    "tags": []
   },
   "outputs": [
    {
     "name": "stdout",
     "output_type": "stream",
     "text": [
      "Test metrics: \n",
      " Accuracy: 0.902200, F1 score: 0.900783, Avg loss: 0.550209 \n",
      "\n"
     ]
    },
    {
     "data": {
      "text/plain": [
       "(0.9022, 0.9007831838656009)"
      ]
     },
     "execution_count": 14,
     "metadata": {},
     "output_type": "execute_result"
    }
   ],
   "source": [
    "test_dset = get_dataset(DATASET, 'test')\n",
    "test_loader = DataLoader(test_dset, batch_size=BATCH_SIZE, shuffle=True, collate_fn=collate)\n",
    "\n",
    "acc, f1 = model.test(test_loader)\n",
    "acc, f1"
   ]
  }
 ],
 "metadata": {
  "environment": {
   "name": "pytorch-gpu.1-9.m75",
   "type": "gcloud",
   "uri": "gcr.io/deeplearning-platform-release/pytorch-gpu.1-9:m75"
  },
  "interpreter": {
   "hash": "c04b2f0a582fe344c639614558637ebf7e4dac1d2bb51a42ce655750946697ae"
  },
  "kernelspec": {
   "display_name": "Python 3.8.10 ('venv': venv)",
   "language": "python",
   "name": "python3"
  },
  "language_info": {
   "codemirror_mode": {
    "name": "ipython",
    "version": 3
   },
   "file_extension": ".py",
   "mimetype": "text/x-python",
   "name": "python",
   "nbconvert_exporter": "python",
   "pygments_lexer": "ipython3",
   "version": "3.8.10"
  },
  "papermill": {
   "default_parameters": {},
   "duration": 58.508453,
   "end_time": "2022-06-03T17:58:01.699145",
   "environment_variables": {},
   "exception": null,
   "input_path": "utils/torch_cnn_classifier.ipynb",
   "output_path": "torch_cnn_experiments/demo_human_or_worm.ipynb",
   "parameters": {
    "DATASET": "demo_human_or_worm"
   },
   "start_time": "2022-06-03T17:57:03.190692",
   "version": "2.3.4"
  }
 },
 "nbformat": 4,
 "nbformat_minor": 5
}
