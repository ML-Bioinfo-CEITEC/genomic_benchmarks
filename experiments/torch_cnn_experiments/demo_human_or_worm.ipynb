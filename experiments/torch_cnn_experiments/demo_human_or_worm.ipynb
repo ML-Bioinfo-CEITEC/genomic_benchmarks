{
 "cells": [
  {
   "cell_type": "code",
   "execution_count": 1,
   "id": "ddc2cffb",
   "metadata": {
    "execution": {
     "iopub.execute_input": "2021-11-03T12:04:33.752198Z",
     "iopub.status.busy": "2021-11-03T12:04:33.751295Z",
     "iopub.status.idle": "2021-11-03T12:04:33.755225Z",
     "shell.execute_reply": "2021-11-03T12:04:33.755813Z"
    },
    "papermill": {
     "duration": 0.020844,
     "end_time": "2021-11-03T12:04:33.756052",
     "exception": false,
     "start_time": "2021-11-03T12:04:33.735208",
     "status": "completed"
    },
    "tags": [
     "parameters"
    ]
   },
   "outputs": [],
   "source": [
    "DATASET = 'no_dataset'\n",
    "VERSION = 0\n",
    "BATCH_SIZE = 32\n",
    "EPOCHS = 10"
   ]
  },
  {
   "cell_type": "code",
   "execution_count": 2,
   "id": "68d00e54",
   "metadata": {
    "execution": {
     "iopub.execute_input": "2021-11-03T12:04:33.782446Z",
     "iopub.status.busy": "2021-11-03T12:04:33.781680Z",
     "iopub.status.idle": "2021-11-03T12:04:33.784679Z",
     "shell.execute_reply": "2021-11-03T12:04:33.785234Z"
    },
    "papermill": {
     "duration": 0.01715,
     "end_time": "2021-11-03T12:04:33.785442",
     "exception": false,
     "start_time": "2021-11-03T12:04:33.768292",
     "status": "completed"
    },
    "tags": [
     "injected-parameters"
    ]
   },
   "outputs": [],
   "source": [
    "# Parameters\n",
    "DATASET = \"demo_human_or_worm\"\n"
   ]
  },
  {
   "cell_type": "code",
   "execution_count": 3,
   "id": "8eac83bf",
   "metadata": {
    "execution": {
     "iopub.execute_input": "2021-11-03T12:04:33.811215Z",
     "iopub.status.busy": "2021-11-03T12:04:33.810537Z",
     "iopub.status.idle": "2021-11-03T12:04:33.832989Z",
     "shell.execute_reply": "2021-11-03T12:04:33.833595Z"
    },
    "papermill": {
     "duration": 0.037163,
     "end_time": "2021-11-03T12:04:33.833768",
     "exception": false,
     "start_time": "2021-11-03T12:04:33.796605",
     "status": "completed"
    },
    "tags": []
   },
   "outputs": [
    {
     "name": "stdout",
     "output_type": "stream",
     "text": [
      "demo_human_or_worm 0 32 10\n"
     ]
    }
   ],
   "source": [
    "print(DATASET, VERSION, BATCH_SIZE, EPOCHS)"
   ]
  },
  {
   "cell_type": "markdown",
   "id": "58ec076d",
   "metadata": {
    "papermill": {
     "duration": 0.012264,
     "end_time": "2021-11-03T12:04:33.857556",
     "exception": false,
     "start_time": "2021-11-03T12:04:33.845292",
     "status": "completed"
    },
    "tags": []
   },
   "source": [
    "## Config"
   ]
  },
  {
   "cell_type": "code",
   "execution_count": 4,
   "id": "7c356ba8",
   "metadata": {
    "execution": {
     "iopub.execute_input": "2021-11-03T12:04:33.886011Z",
     "iopub.status.busy": "2021-11-03T12:04:33.885161Z",
     "iopub.status.idle": "2021-11-03T12:04:35.052334Z",
     "shell.execute_reply": "2021-11-03T12:04:35.051736Z"
    },
    "papermill": {
     "duration": 1.182889,
     "end_time": "2021-11-03T12:04:35.052492",
     "exception": false,
     "start_time": "2021-11-03T12:04:33.869603",
     "status": "completed"
    },
    "tags": []
   },
   "outputs": [],
   "source": [
    "import os\n",
    "import numpy as np\n",
    "import torch\n",
    "from torch import nn\n",
    "from torch.utils.data import DataLoader\n",
    "from torchtext.data.utils import get_tokenizer\n",
    "\n",
    "from genomic_benchmarks.dataset_getters.pytorch_datasets import get_dataset\n",
    "from genomic_benchmarks.models.torch_cnn import CNN\n",
    "from genomic_benchmarks.dataset_getters.utils import coll_factory, LetterTokenizer, build_vocab, check_seq_lengths, check_config, VARIABLE_LENGTH_DATASETS\n",
    "# from genomic_benchmarks.data_check import list_datasets, info\n"
   ]
  },
  {
   "cell_type": "code",
   "execution_count": 5,
   "id": "a9766d45",
   "metadata": {
    "execution": {
     "iopub.execute_input": "2021-11-03T12:04:35.082553Z",
     "iopub.status.busy": "2021-11-03T12:04:35.081613Z",
     "iopub.status.idle": "2021-11-03T12:04:35.084132Z",
     "shell.execute_reply": "2021-11-03T12:04:35.084659Z"
    },
    "papermill": {
     "duration": 0.020619,
     "end_time": "2021-11-03T12:04:35.084864",
     "exception": false,
     "start_time": "2021-11-03T12:04:35.064245",
     "status": "completed"
    },
    "tags": []
   },
   "outputs": [],
   "source": [
    "USE_PADDING = DATASET in VARIABLE_LENGTH_DATASETS\n",
    "    \n",
    "config = {\n",
    "    \"dataset\": DATASET,\n",
    "    \"dataset_version\": VERSION,\n",
    "    \"epochs\": EPOCHS,\n",
    "    \"batch_size\": BATCH_SIZE,\n",
    "    \"use_padding\": USE_PADDING,\n",
    "    \"force_download\": False,\n",
    "    \"run_on_gpu\": True,\n",
    "    \"number_of_classes\": 2,\n",
    "    \"embedding_dim\": 100,\n",
    "}\n",
    "check_config(config)"
   ]
  },
  {
   "cell_type": "markdown",
   "id": "cc46f9ca",
   "metadata": {
    "papermill": {
     "duration": 0.011118,
     "end_time": "2021-11-03T12:04:35.108567",
     "exception": false,
     "start_time": "2021-11-03T12:04:35.097449",
     "status": "completed"
    },
    "tags": []
   },
   "source": [
    "## Choose the dataset"
   ]
  },
  {
   "cell_type": "code",
   "execution_count": 6,
   "id": "50236201",
   "metadata": {
    "execution": {
     "iopub.execute_input": "2021-11-03T12:04:35.138348Z",
     "iopub.status.busy": "2021-11-03T12:04:35.137377Z",
     "iopub.status.idle": "2021-11-03T12:04:51.557005Z",
     "shell.execute_reply": "2021-11-03T12:04:51.556531Z"
    },
    "papermill": {
     "duration": 16.43727,
     "end_time": "2021-11-03T12:04:51.557145",
     "exception": false,
     "start_time": "2021-11-03T12:04:35.119875",
     "status": "completed"
    },
    "tags": []
   },
   "outputs": [
    {
     "name": "stderr",
     "output_type": "stream",
     "text": [
      "/home/jupyter/genomic_benchmarks/src/genomic_benchmarks/loc2seq/with_biopython.py:96: UserWarning: No version specified. Using version 0.\n",
      "  warnings.warn(f\"No version specified. Using version {metadata['version']}.\")\n"
     ]
    },
    {
     "name": "stdout",
     "output_type": "stream",
     "text": [
      "Downloading 1Vuc44bXRISqRDXNrxt5lGYLpLsJbrSg8 into /home/jupyter/.genomic_benchmarks/translated_demo_human_or_worm/demo_human_or_worm.zip... "
     ]
    },
    {
     "name": "stdout",
     "output_type": "stream",
     "text": [
      "Done.\n",
      "Unzipping..."
     ]
    },
    {
     "name": "stdout",
     "output_type": "stream",
     "text": [
      "Done.\n"
     ]
    }
   ],
   "source": [
    "train_dset = get_dataset(config[\"dataset\"], 'train')"
   ]
  },
  {
   "cell_type": "markdown",
   "id": "9039d05e",
   "metadata": {
    "papermill": {
     "duration": 0.013218,
     "end_time": "2021-11-03T12:04:51.583039",
     "exception": false,
     "start_time": "2021-11-03T12:04:51.569821",
     "status": "completed"
    },
    "tags": []
   },
   "source": [
    "## Tokenizer and vocab"
   ]
  },
  {
   "cell_type": "code",
   "execution_count": 7,
   "id": "6f0bc399",
   "metadata": {
    "execution": {
     "iopub.execute_input": "2021-11-03T12:04:51.614774Z",
     "iopub.status.busy": "2021-11-03T12:04:51.613977Z",
     "iopub.status.idle": "2021-11-03T12:04:56.216148Z",
     "shell.execute_reply": "2021-11-03T12:04:56.215579Z"
    },
    "papermill": {
     "duration": 4.620025,
     "end_time": "2021-11-03T12:04:56.216296",
     "exception": false,
     "start_time": "2021-11-03T12:04:51.596271",
     "status": "completed"
    },
    "tags": []
   },
   "outputs": [
    {
     "name": "stdout",
     "output_type": "stream",
     "text": [
      "vocab len: 9\n",
      "{'<eos>': 6, 'G': 5, 'C': 4, 'A': 3, '<pad>': 8, 'T': 2, '<bos>': 1, 'N': 7, '<unk>': 0}\n"
     ]
    }
   ],
   "source": [
    "tokenizer = get_tokenizer(LetterTokenizer())\n",
    "vocabulary = build_vocab(train_dset, tokenizer, use_padding=config[\"use_padding\"])\n",
    "\n",
    "print(\"vocab len:\" ,vocabulary.__len__())\n",
    "print(vocabulary.get_stoi())"
   ]
  },
  {
   "cell_type": "markdown",
   "id": "2341d254",
   "metadata": {
    "papermill": {
     "duration": 0.013572,
     "end_time": "2021-11-03T12:04:56.243034",
     "exception": false,
     "start_time": "2021-11-03T12:04:56.229462",
     "status": "completed"
    },
    "tags": []
   },
   "source": [
    "## Dataloader and batch preparation"
   ]
  },
  {
   "cell_type": "code",
   "execution_count": 8,
   "id": "5b47b339",
   "metadata": {
    "execution": {
     "iopub.execute_input": "2021-11-03T12:04:56.282740Z",
     "iopub.status.busy": "2021-11-03T12:04:56.271079Z",
     "iopub.status.idle": "2021-11-03T12:05:00.027340Z",
     "shell.execute_reply": "2021-11-03T12:05:00.026741Z"
    },
    "papermill": {
     "duration": 3.771597,
     "end_time": "2021-11-03T12:05:00.027503",
     "exception": false,
     "start_time": "2021-11-03T12:04:56.255906",
     "status": "completed"
    },
    "tags": []
   },
   "outputs": [
    {
     "name": "stdout",
     "output_type": "stream",
     "text": [
      "Using cuda device\n"
     ]
    },
    {
     "name": "stdout",
     "output_type": "stream",
     "text": [
      "max_seq_len  200\n"
     ]
    },
    {
     "name": "stdout",
     "output_type": "stream",
     "text": [
      "not all sequences are of the same length\n"
     ]
    }
   ],
   "source": [
    "# Run on GPU or CPU\n",
    "device = 'cuda' if config[\"run_on_gpu\"] and torch.cuda.is_available() else 'cpu'\n",
    "print('Using {} device'.format(device))\n",
    "\n",
    "max_seq_len, nn_input_len = check_seq_lengths(dataset=train_dset, config=config)\n",
    "\n",
    "# Data Loader\n",
    "if(config[\"use_padding\"]):\n",
    "    collate = coll_factory(vocabulary, tokenizer, device, pad_to_length = nn_input_len)\n",
    "else:\n",
    "    collate = coll_factory(vocabulary, tokenizer, device, pad_to_length = None)\n",
    "\n",
    "train_loader = DataLoader(train_dset, batch_size=config[\"batch_size\"], shuffle=True, collate_fn=collate)"
   ]
  },
  {
   "cell_type": "markdown",
   "id": "bd37d317",
   "metadata": {
    "papermill": {
     "duration": 0.014334,
     "end_time": "2021-11-03T12:05:00.056483",
     "exception": false,
     "start_time": "2021-11-03T12:05:00.042149",
     "status": "completed"
    },
    "tags": []
   },
   "source": [
    "## Model"
   ]
  },
  {
   "cell_type": "code",
   "execution_count": 9,
   "id": "bc5026ea",
   "metadata": {
    "execution": {
     "iopub.execute_input": "2021-11-03T12:05:00.088759Z",
     "iopub.status.busy": "2021-11-03T12:05:00.087815Z",
     "iopub.status.idle": "2021-11-03T12:05:01.733979Z",
     "shell.execute_reply": "2021-11-03T12:05:01.733389Z"
    },
    "papermill": {
     "duration": 1.663998,
     "end_time": "2021-11-03T12:05:01.734123",
     "exception": false,
     "start_time": "2021-11-03T12:05:00.070125",
     "status": "completed"
    },
    "tags": []
   },
   "outputs": [
    {
     "name": "stderr",
     "output_type": "stream",
     "text": [
      "/opt/conda/envs/bench_env/lib/python3.8/site-packages/torch/nn/functional.py:652: UserWarning: Named tensors and all their associated APIs are an experimental feature and subject to change. Please do not use them for anything important until they are released as stable. (Triggered internally at  /opt/conda/conda-bld/pytorch_1623448278899/work/c10/core/TensorImpl.h:1156.)\n",
      "  return torch.max_pool1d(input, kernel_size, stride, padding, dilation, ceil_mode)\n"
     ]
    }
   ],
   "source": [
    "model = CNN(\n",
    "    number_of_classes=config[\"number_of_classes\"],\n",
    "    vocab_size=vocabulary.__len__(),\n",
    "    embedding_dim=config[\"embedding_dim\"],\n",
    "    input_len=nn_input_len\n",
    ").to(device)"
   ]
  },
  {
   "cell_type": "markdown",
   "id": "3b291ca1",
   "metadata": {
    "papermill": {
     "duration": 0.014755,
     "end_time": "2021-11-03T12:05:01.763813",
     "exception": false,
     "start_time": "2021-11-03T12:05:01.749058",
     "status": "completed"
    },
    "tags": []
   },
   "source": [
    "## Training"
   ]
  },
  {
   "cell_type": "code",
   "execution_count": 10,
   "id": "d4279274",
   "metadata": {
    "execution": {
     "iopub.execute_input": "2021-11-03T12:05:01.797666Z",
     "iopub.status.busy": "2021-11-03T12:05:01.796969Z",
     "iopub.status.idle": "2021-11-03T12:14:00.110231Z",
     "shell.execute_reply": "2021-11-03T12:14:00.110673Z"
    },
    "papermill": {
     "duration": 538.333261,
     "end_time": "2021-11-03T12:14:00.110890",
     "exception": false,
     "start_time": "2021-11-03T12:05:01.777629",
     "status": "completed"
    },
    "tags": []
   },
   "outputs": [
    {
     "name": "stdout",
     "output_type": "stream",
     "text": [
      "Epoch 0\n"
     ]
    },
    {
     "name": "stderr",
     "output_type": "stream",
     "text": [
      "/home/jupyter/genomic_benchmarks/src/genomic_benchmarks/dataset_getters/utils.py:26: UserWarning: To copy construct from a tensor, it is recommended to use sourceTensor.clone().detach() or sourceTensor.clone().detach().requires_grad_(True), rather than torch.tensor(sourceTensor).\n",
      "  x = torch.tensor(pad(x), dtype=torch.long)\n"
     ]
    },
    {
     "name": "stdout",
     "output_type": "stream",
     "text": [
      "Train metrics: \n",
      " Accuracy: 91.5%, Avg loss: 0.544848 \n",
      "\n",
      "Epoch 1\n"
     ]
    },
    {
     "name": "stdout",
     "output_type": "stream",
     "text": [
      "Train metrics: \n",
      " Accuracy: 92.2%, Avg loss: 0.540833 \n",
      "\n",
      "Epoch 2\n"
     ]
    },
    {
     "name": "stdout",
     "output_type": "stream",
     "text": [
      "Train metrics: \n",
      " Accuracy: 92.0%, Avg loss: 0.543468 \n",
      "\n",
      "Epoch 3\n"
     ]
    },
    {
     "name": "stdout",
     "output_type": "stream",
     "text": [
      "Train metrics: \n",
      " Accuracy: 92.9%, Avg loss: 0.537583 \n",
      "\n",
      "Epoch 4\n"
     ]
    },
    {
     "name": "stdout",
     "output_type": "stream",
     "text": [
      "Train metrics: \n",
      " Accuracy: 92.1%, Avg loss: 0.539975 \n",
      "\n",
      "Epoch 5\n"
     ]
    },
    {
     "name": "stdout",
     "output_type": "stream",
     "text": [
      "Train metrics: \n",
      " Accuracy: 93.0%, Avg loss: 0.536338 \n",
      "\n",
      "Epoch 6\n"
     ]
    },
    {
     "name": "stdout",
     "output_type": "stream",
     "text": [
      "Train metrics: \n",
      " Accuracy: 93.2%, Avg loss: 0.538888 \n",
      "\n",
      "Epoch 7\n"
     ]
    },
    {
     "name": "stdout",
     "output_type": "stream",
     "text": [
      "Train metrics: \n",
      " Accuracy: 93.0%, Avg loss: 0.535070 \n",
      "\n",
      "Epoch 8\n"
     ]
    },
    {
     "name": "stdout",
     "output_type": "stream",
     "text": [
      "Train metrics: \n",
      " Accuracy: 91.4%, Avg loss: 0.541370 \n",
      "\n",
      "Epoch 9\n"
     ]
    },
    {
     "name": "stdout",
     "output_type": "stream",
     "text": [
      "Train metrics: \n",
      " Accuracy: 93.1%, Avg loss: 0.534279 \n",
      "\n"
     ]
    }
   ],
   "source": [
    "model.train(train_loader, epochs=config[\"epochs\"])"
   ]
  },
  {
   "cell_type": "markdown",
   "id": "c72bcfbe",
   "metadata": {
    "papermill": {
     "duration": 0.016367,
     "end_time": "2021-11-03T12:14:00.144926",
     "exception": false,
     "start_time": "2021-11-03T12:14:00.128559",
     "status": "completed"
    },
    "tags": []
   },
   "source": [
    "## Testing"
   ]
  },
  {
   "cell_type": "code",
   "execution_count": 11,
   "id": "8ea9714f",
   "metadata": {
    "execution": {
     "iopub.execute_input": "2021-11-03T12:14:00.185770Z",
     "iopub.status.busy": "2021-11-03T12:14:00.184639Z",
     "iopub.status.idle": "2021-11-03T12:14:23.815716Z",
     "shell.execute_reply": "2021-11-03T12:14:23.816211Z"
    },
    "papermill": {
     "duration": 23.654703,
     "end_time": "2021-11-03T12:14:23.816426",
     "exception": false,
     "start_time": "2021-11-03T12:14:00.161723",
     "status": "completed"
    },
    "tags": []
   },
   "outputs": [
    {
     "name": "stdout",
     "output_type": "stream",
     "text": [
      "Downloading 1Vuc44bXRISqRDXNrxt5lGYLpLsJbrSg8 into /home/jupyter/.genomic_benchmarks/translated_demo_human_or_worm/demo_human_or_worm.zip... "
     ]
    },
    {
     "name": "stdout",
     "output_type": "stream",
     "text": [
      "Done.\n",
      "Unzipping..."
     ]
    },
    {
     "name": "stdout",
     "output_type": "stream",
     "text": [
      "Done.\n"
     ]
    },
    {
     "name": "stdout",
     "output_type": "stream",
     "text": [
      "test_loss  419.69170823693275\n",
      "num_batches 782\n",
      "correct 23155\n",
      "size 25000\n",
      "Test Error: \n",
      " Accuracy: 92.6%, Avg loss: 0.536690 \n",
      "\n"
     ]
    }
   ],
   "source": [
    "# test_dset = get_dataset_fn('test', force_download=config[\"force_download\"], version=config[\"dataset_version\"])\n",
    "test_dset = get_dataset(config[\"dataset\"], 'test')\n",
    "test_loader = DataLoader(test_dset, batch_size=config[\"batch_size\"], shuffle=True, collate_fn=collate)\n",
    "\n",
    "model.test(test_loader)"
   ]
  },
  {
   "cell_type": "code",
   "execution_count": null,
   "id": "086b3acc",
   "metadata": {
    "papermill": {
     "duration": 0.018369,
     "end_time": "2021-11-03T12:14:23.854329",
     "exception": false,
     "start_time": "2021-11-03T12:14:23.835960",
     "status": "completed"
    },
    "tags": []
   },
   "outputs": [],
   "source": []
  },
  {
   "cell_type": "code",
   "execution_count": null,
   "id": "2b375ae8",
   "metadata": {
    "papermill": {
     "duration": 0.01766,
     "end_time": "2021-11-03T12:14:23.890797",
     "exception": false,
     "start_time": "2021-11-03T12:14:23.873137",
     "status": "completed"
    },
    "tags": []
   },
   "outputs": [],
   "source": []
  }
 ],
 "metadata": {
  "environment": {
   "name": "pytorch-gpu.1-9.m75",
   "type": "gcloud",
   "uri": "gcr.io/deeplearning-platform-release/pytorch-gpu.1-9:m75"
  },
  "interpreter": {
   "hash": "9828b828580f1cac1b571b33de6cff8bacecc8916095e1bcbc967952ca7105b7"
  },
  "kernelspec": {
   "display_name": "Python [conda env:bench_env]",
   "language": "python",
   "name": "conda-env-bench_env-py"
  },
  "language_info": {
   "codemirror_mode": {
    "name": "ipython",
    "version": 3
   },
   "file_extension": ".py",
   "mimetype": "text/x-python",
   "name": "python",
   "nbconvert_exporter": "python",
   "pygments_lexer": "ipython3",
   "version": "3.8.10"
  },
  "papermill": {
   "default_parameters": {},
   "duration": 591.75331,
   "end_time": "2021-11-03T12:14:24.416108",
   "environment_variables": {},
   "exception": null,
   "input_path": "utils/torch_cnn_classifier.ipynb",
   "output_path": "torch_cnn_experiments/demo_human_or_worm.ipynb",
   "parameters": {
    "DATASET": "demo_human_or_worm"
   },
   "start_time": "2021-11-03T12:04:32.662798",
   "version": "2.3.3"
  }
 },
 "nbformat": 4,
 "nbformat_minor": 5
}