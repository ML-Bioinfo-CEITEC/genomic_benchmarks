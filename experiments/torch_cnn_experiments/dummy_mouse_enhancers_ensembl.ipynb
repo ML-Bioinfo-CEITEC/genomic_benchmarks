{
    "cells": [
        {
            "cell_type": "markdown",
            "id": "3cbdf61b",
            "metadata": {
                "papermill": {
                    "duration": 0.03575,
                    "end_time": "2021-11-25T17:14:47.580364",
                    "exception": false,
                    "start_time": "2021-11-25T17:14:47.544614",
                    "status": "completed"
                },
                "tags": []
            },
            "source": [
                "# PYTORCH CNN Classifier\n",
                "\n",
                "To run this notebook on an another benchmark, use\n",
                "\n",
                "```\n",
                "papermill utils/torch_cnn_classifier.ipynb torch_cnn_experiments/[DATASET NAME].ipynb -p DATASET [DATASET NAME]\n",
                "```"
            ]
        },
        {
            "cell_type": "code",
            "execution_count": 1,
            "id": "7f6c12aa",
            "metadata": {
                "execution": {
                    "iopub.execute_input": "2021-11-25T17:14:47.650983Z",
                    "iopub.status.busy": "2021-11-25T17:14:47.650254Z",
                    "iopub.status.idle": "2021-11-25T17:14:47.654800Z",
                    "shell.execute_reply": "2021-11-25T17:14:47.654210Z"
                },
                "papermill": {
                    "duration": 0.040781,
                    "end_time": "2021-11-25T17:14:47.654945",
                    "exception": false,
                    "start_time": "2021-11-25T17:14:47.614164",
                    "status": "completed"
                },
                "tags": [
                    "parameters"
                ]
            },
            "outputs": [],
            "source": [
                "# DATASET = 'no_dataset'\n",
                "DATASET = 'demo_human_or_worm'\n",
                "VERSION = 0\n",
                "BATCH_SIZE = 32\n",
                "EPOCHS = 1"
            ]
        },
        {
            "cell_type": "code",
            "execution_count": 2,
            "id": "8df4acc7",
            "metadata": {
                "execution": {
                    "iopub.execute_input": "2021-11-25T17:14:47.721904Z",
                    "iopub.status.busy": "2021-11-25T17:14:47.721250Z",
                    "iopub.status.idle": "2021-11-25T17:14:47.724559Z",
                    "shell.execute_reply": "2021-11-25T17:14:47.724049Z"
                },
                "papermill": {
                    "duration": 0.037925,
                    "end_time": "2021-11-25T17:14:47.724681",
                    "exception": false,
                    "start_time": "2021-11-25T17:14:47.686756",
                    "status": "completed"
                },
                "tags": [
                    "injected-parameters"
                ]
            },
            "outputs": [],
            "source": [
                "# Parameters\n",
                "DATASET = \"dummy_mouse_enhancers_ensembl\"\n",
                "EPOCHS = 10\n"
            ]
        },
        {
            "cell_type": "code",
            "execution_count": 3,
            "id": "44d5db00",
            "metadata": {
                "execution": {
                    "iopub.execute_input": "2021-11-25T17:14:47.795763Z",
                    "iopub.status.busy": "2021-11-25T17:14:47.794790Z",
                    "iopub.status.idle": "2021-11-25T17:14:47.798443Z",
                    "shell.execute_reply": "2021-11-25T17:14:47.799017Z"
                },
                "papermill": {
                    "duration": 0.041277,
                    "end_time": "2021-11-25T17:14:47.799160",
                    "exception": false,
                    "start_time": "2021-11-25T17:14:47.757883",
                    "status": "completed"
                },
                "tags": []
            },
            "outputs": [
                {
                    "name": "stdout",
                    "output_type": "stream",
                    "text": [
                        "dummy_mouse_enhancers_ensembl 0 32 10\n"
                    ]
                }
            ],
            "source": [
                "print(DATASET, VERSION, BATCH_SIZE, EPOCHS)"
            ]
        },
        {
            "cell_type": "markdown",
            "id": "ce7a1313",
            "metadata": {
                "papermill": {
                    "duration": 0.032436,
                    "end_time": "2021-11-25T17:14:47.865415",
                    "exception": false,
                    "start_time": "2021-11-25T17:14:47.832979",
                    "status": "completed"
                },
                "tags": []
            },
            "source": [
                "## Config"
            ]
        },
        {
            "cell_type": "code",
            "execution_count": 4,
            "id": "700521aa",
            "metadata": {
                "execution": {
                    "iopub.execute_input": "2021-11-25T17:14:47.935269Z",
                    "iopub.status.busy": "2021-11-25T17:14:47.934550Z",
                    "iopub.status.idle": "2021-11-25T17:14:49.121095Z",
                    "shell.execute_reply": "2021-11-25T17:14:49.121574Z"
                },
                "papermill": {
                    "duration": 1.224443,
                    "end_time": "2021-11-25T17:14:49.121743",
                    "exception": false,
                    "start_time": "2021-11-25T17:14:47.897300",
                    "status": "completed"
                },
                "tags": []
            },
            "outputs": [],
            "source": [
                "import os\n",
                "import numpy as np\n",
                "import torch\n",
                "from torch import nn\n",
                "from torch.utils.data import DataLoader\n",
                "from torchtext.data.utils import get_tokenizer\n",
                "\n",
                "from genomic_benchmarks.dataset_getters.pytorch_datasets import get_dataset\n",
                "from genomic_benchmarks.models.torch import CNN\n",
                "from genomic_benchmarks.dataset_getters.utils import coll_factory, LetterTokenizer, build_vocab, check_seq_lengths, check_config, VARIABLE_LENGTH_DATASETS"
            ]
        },
        {
            "cell_type": "code",
            "execution_count": 5,
            "id": "1894e821",
            "metadata": {
                "execution": {
                    "iopub.execute_input": "2021-11-25T17:14:49.195450Z",
                    "iopub.status.busy": "2021-11-25T17:14:49.194859Z",
                    "iopub.status.idle": "2021-11-25T17:14:49.197793Z",
                    "shell.execute_reply": "2021-11-25T17:14:49.197188Z"
                },
                "papermill": {
                    "duration": 0.041317,
                    "end_time": "2021-11-25T17:14:49.197906",
                    "exception": false,
                    "start_time": "2021-11-25T17:14:49.156589",
                    "status": "completed"
                },
                "tags": []
            },
            "outputs": [],
            "source": [
                "USE_PADDING = DATASET in VARIABLE_LENGTH_DATASETS\n",
                "    \n",
                "config = {\n",
                "    \"dataset\": DATASET,\n",
                "    \"dataset_version\": VERSION,\n",
                "    \"epochs\": EPOCHS,\n",
                "    \"batch_size\": BATCH_SIZE,\n",
                "    \"use_padding\": USE_PADDING,\n",
                "    \"force_download\": False,\n",
                "    \"run_on_gpu\": True,\n",
                "    \"number_of_classes\": 2,\n",
                "    \"embedding_dim\": 100,\n",
                "}\n",
                "check_config(config)"
            ]
        },
        {
            "cell_type": "markdown",
            "id": "700cd8eb",
            "metadata": {
                "papermill": {
                    "duration": 0.033029,
                    "end_time": "2021-11-25T17:14:49.265242",
                    "exception": false,
                    "start_time": "2021-11-25T17:14:49.232213",
                    "status": "completed"
                },
                "tags": []
            },
            "source": [
                "## Choose the dataset"
            ]
        },
        {
            "cell_type": "code",
            "execution_count": null,
            "id": "149e5f00",
            "metadata": {},
            "outputs": [],
            "source": [
                "from genomic_benchmarks.loc2seq import download_dataset\n",
                "download_dataset(config[\"dataset\"])"
            ]
        },
        {
            "cell_type": "code",
            "execution_count": 6,
            "id": "bb52e587",
            "metadata": {
                "execution": {
                    "iopub.execute_input": "2021-11-25T17:14:49.334875Z",
                    "iopub.status.busy": "2021-11-25T17:14:49.333793Z",
                    "iopub.status.idle": "2021-11-25T17:14:49.339423Z",
                    "shell.execute_reply": "2021-11-25T17:14:49.339847Z"
                },
                "papermill": {
                    "duration": 0.042205,
                    "end_time": "2021-11-25T17:14:49.340049",
                    "exception": false,
                    "start_time": "2021-11-25T17:14:49.297844",
                    "status": "completed"
                },
                "tags": []
            },
            "outputs": [],
            "source": [
                "train_dset = get_dataset(config[\"dataset\"], 'train')"
            ]
        },
        {
            "cell_type": "markdown",
            "id": "4f2430d3",
            "metadata": {
                "papermill": {
                    "duration": 0.032428,
                    "end_time": "2021-11-25T17:14:49.406547",
                    "exception": false,
                    "start_time": "2021-11-25T17:14:49.374119",
                    "status": "completed"
                },
                "tags": []
            },
            "source": [
                "## Tokenizer and vocab"
            ]
        },
        {
            "cell_type": "code",
            "execution_count": 7,
            "id": "481a6081",
            "metadata": {
                "execution": {
                    "iopub.execute_input": "2021-11-25T17:14:49.478167Z",
                    "iopub.status.busy": "2021-11-25T17:14:49.476894Z",
                    "iopub.status.idle": "2021-11-25T17:14:49.679572Z",
                    "shell.execute_reply": "2021-11-25T17:14:49.678948Z"
                },
                "papermill": {
                    "duration": 0.240223,
                    "end_time": "2021-11-25T17:14:49.679692",
                    "exception": false,
                    "start_time": "2021-11-25T17:14:49.439469",
                    "status": "completed"
                },
                "tags": []
            },
            "outputs": [
                {
                    "name": "stdout",
                    "output_type": "stream",
                    "text": [
                        "vocab len: 9\n",
                        "{'<pad>': 8, 'T': 4, 'C': 5, 'A': 3, '<eos>': 7, 'G': 2, '<bos>': 1, 'N': 6, '<unk>': 0}\n"
                    ]
                }
            ],
            "source": [
                "tokenizer = get_tokenizer(LetterTokenizer())\n",
                "vocabulary = build_vocab(train_dset, tokenizer, use_padding=config[\"use_padding\"])\n",
                "\n",
                "print(\"vocab len:\" ,vocabulary.__len__())\n",
                "print(vocabulary.get_stoi())"
            ]
        },
        {
            "cell_type": "markdown",
            "id": "915420b5",
            "metadata": {
                "papermill": {
                    "duration": 0.034218,
                    "end_time": "2021-11-25T17:14:49.747736",
                    "exception": false,
                    "start_time": "2021-11-25T17:14:49.713518",
                    "status": "completed"
                },
                "tags": []
            },
            "source": [
                "## Dataloader and batch preparation"
            ]
        },
        {
            "cell_type": "code",
            "execution_count": 8,
            "id": "5a26195d",
            "metadata": {
                "execution": {
                    "iopub.execute_input": "2021-11-25T17:14:49.828279Z",
                    "iopub.status.busy": "2021-11-25T17:14:49.827707Z",
                    "iopub.status.idle": "2021-11-25T17:14:49.896453Z",
                    "shell.execute_reply": "2021-11-25T17:14:49.895808Z"
                },
                "papermill": {
                    "duration": 0.116226,
                    "end_time": "2021-11-25T17:14:49.896587",
                    "exception": false,
                    "start_time": "2021-11-25T17:14:49.780361",
                    "status": "completed"
                },
                "tags": []
            },
            "outputs": [
                {
                    "name": "stdout",
                    "output_type": "stream",
                    "text": [
                        "Using cuda device\n",
                        "max_seq_len  4707\n"
                    ]
                },
                {
                    "name": "stdout",
                    "output_type": "stream",
                    "text": [
                        "not all sequences are of the same length\n"
                    ]
                }
            ],
            "source": [
                "# Run on GPU or CPU\n",
                "device = 'cuda' if config[\"run_on_gpu\"] and torch.cuda.is_available() else 'cpu'\n",
                "print('Using {} device'.format(device))\n",
                "\n",
                "max_seq_len, nn_input_len = check_seq_lengths(dataset=train_dset, config=config)\n",
                "\n",
                "# Data Loader\n",
                "if(config[\"use_padding\"]):\n",
                "    collate = coll_factory(vocabulary, tokenizer, device, pad_to_length = nn_input_len)\n",
                "else:\n",
                "    collate = coll_factory(vocabulary, tokenizer, device, pad_to_length = None)\n",
                "\n",
                "train_loader = DataLoader(train_dset, batch_size=config[\"batch_size\"], shuffle=True, collate_fn=collate)"
            ]
        },
        {
            "cell_type": "markdown",
            "id": "9990a872",
            "metadata": {
                "papermill": {
                    "duration": 0.035545,
                    "end_time": "2021-11-25T17:14:49.968219",
                    "exception": false,
                    "start_time": "2021-11-25T17:14:49.932674",
                    "status": "completed"
                },
                "tags": []
            },
            "source": [
                "## Model"
            ]
        },
        {
            "cell_type": "code",
            "execution_count": 9,
            "id": "2289777c",
            "metadata": {
                "execution": {
                    "iopub.execute_input": "2021-11-25T17:14:50.042176Z",
                    "iopub.status.busy": "2021-11-25T17:14:50.041491Z",
                    "iopub.status.idle": "2021-11-25T17:14:51.726723Z",
                    "shell.execute_reply": "2021-11-25T17:14:51.726172Z"
                },
                "papermill": {
                    "duration": 1.724087,
                    "end_time": "2021-11-25T17:14:51.726844",
                    "exception": false,
                    "start_time": "2021-11-25T17:14:50.002757",
                    "status": "completed"
                },
                "tags": []
            },
            "outputs": [
                {
                    "name": "stderr",
                    "output_type": "stream",
                    "text": [
                        "/opt/conda/envs/bench_env/lib/python3.8/site-packages/torch/nn/functional.py:652: UserWarning: Named tensors and all their associated APIs are an experimental feature and subject to change. Please do not use them for anything important until they are released as stable. (Triggered internally at  /opt/conda/conda-bld/pytorch_1623448278899/work/c10/core/TensorImpl.h:1156.)\n",
                        "  return torch.max_pool1d(input, kernel_size, stride, padding, dilation, ceil_mode)\n"
                    ]
                }
            ],
            "source": [
                "model = CNN(\n",
                "    number_of_classes=config[\"number_of_classes\"],\n",
                "    vocab_size=vocabulary.__len__(),\n",
                "    embedding_dim=config[\"embedding_dim\"],\n",
                "    input_len=nn_input_len\n",
                ").to(device)"
            ]
        },
        {
            "cell_type": "markdown",
            "id": "5c098df2",
            "metadata": {
                "papermill": {
                    "duration": 0.037037,
                    "end_time": "2021-11-25T17:14:51.801227",
                    "exception": false,
                    "start_time": "2021-11-25T17:14:51.764190",
                    "status": "completed"
                },
                "tags": []
            },
            "source": [
                "## Training"
            ]
        },
        {
            "cell_type": "code",
            "execution_count": 10,
            "id": "e9ad870b",
            "metadata": {
                "execution": {
                    "iopub.execute_input": "2021-11-25T17:14:51.880130Z",
                    "iopub.status.busy": "2021-11-25T17:14:51.879394Z",
                    "iopub.status.idle": "2021-11-25T17:15:38.969127Z",
                    "shell.execute_reply": "2021-11-25T17:15:38.968522Z"
                },
                "papermill": {
                    "duration": 47.131147,
                    "end_time": "2021-11-25T17:15:38.969278",
                    "exception": false,
                    "start_time": "2021-11-25T17:14:51.838131",
                    "status": "completed"
                },
                "tags": []
            },
            "outputs": [
                {
                    "name": "stdout",
                    "output_type": "stream",
                    "text": [
                        "Epoch 0\n"
                    ]
                },
                {
                    "name": "stderr",
                    "output_type": "stream",
                    "text": [
                        "/home/jupyter/genomic_benchmarks/src/genomic_benchmarks/dataset_getters/utils.py:26: UserWarning: To copy construct from a tensor, it is recommended to use sourceTensor.clone().detach() or sourceTensor.clone().detach().requires_grad_(True), rather than torch.tensor(sourceTensor).\n",
                        "  x = torch.tensor(pad(x), dtype=torch.long)\n"
                    ]
                },
                {
                    "name": "stdout",
                    "output_type": "stream",
                    "text": [
                        "Train metrics: \n",
                        " Accuracy: 54.9%, Avg loss: 0.681124 \n",
                        "\n",
                        "Epoch 1\n"
                    ]
                },
                {
                    "name": "stdout",
                    "output_type": "stream",
                    "text": [
                        "Train metrics: \n",
                        " Accuracy: 54.8%, Avg loss: 0.679522 \n",
                        "\n",
                        "Epoch 2\n"
                    ]
                },
                {
                    "name": "stdout",
                    "output_type": "stream",
                    "text": [
                        "Train metrics: \n",
                        " Accuracy: 55.5%, Avg loss: 0.677312 \n",
                        "\n",
                        "Epoch 3\n"
                    ]
                },
                {
                    "name": "stdout",
                    "output_type": "stream",
                    "text": [
                        "Train metrics: \n",
                        " Accuracy: 57.0%, Avg loss: 0.667448 \n",
                        "\n",
                        "Epoch 4\n"
                    ]
                },
                {
                    "name": "stdout",
                    "output_type": "stream",
                    "text": [
                        "Train metrics: \n",
                        " Accuracy: 73.8%, Avg loss: 0.613969 \n",
                        "\n",
                        "Epoch 5\n"
                    ]
                },
                {
                    "name": "stdout",
                    "output_type": "stream",
                    "text": [
                        "Train metrics: \n",
                        " Accuracy: 74.0%, Avg loss: 0.613282 \n",
                        "\n",
                        "Epoch 6\n"
                    ]
                },
                {
                    "name": "stdout",
                    "output_type": "stream",
                    "text": [
                        "Train metrics: \n",
                        " Accuracy: 74.0%, Avg loss: 0.607063 \n",
                        "\n",
                        "Epoch 7\n"
                    ]
                },
                {
                    "name": "stdout",
                    "output_type": "stream",
                    "text": [
                        "Train metrics: \n",
                        " Accuracy: 72.9%, Avg loss: 0.607742 \n",
                        "\n",
                        "Epoch 8\n"
                    ]
                },
                {
                    "name": "stdout",
                    "output_type": "stream",
                    "text": [
                        "Train metrics: \n",
                        " Accuracy: 77.3%, Avg loss: 0.597465 \n",
                        "\n",
                        "Epoch 9\n"
                    ]
                },
                {
                    "name": "stdout",
                    "output_type": "stream",
                    "text": [
                        "Train metrics: \n",
                        " Accuracy: 72.7%, Avg loss: 0.609693 \n",
                        "\n"
                    ]
                }
            ],
            "source": [
                "model.train(train_loader, epochs=config[\"epochs\"])"
            ]
        },
        {
            "cell_type": "markdown",
            "id": "1851e50a",
            "metadata": {
                "papermill": {
                    "duration": 0.045354,
                    "end_time": "2021-11-25T17:15:39.060406",
                    "exception": false,
                    "start_time": "2021-11-25T17:15:39.015052",
                    "status": "completed"
                },
                "tags": []
            },
            "source": [
                "## Testing"
            ]
        },
        {
            "cell_type": "code",
            "execution_count": 11,
            "id": "1c5f0fea",
            "metadata": {
                "execution": {
                    "iopub.execute_input": "2021-11-25T17:15:39.156242Z",
                    "iopub.status.busy": "2021-11-25T17:15:39.155651Z",
                    "iopub.status.idle": "2021-11-25T17:15:39.669702Z",
                    "shell.execute_reply": "2021-11-25T17:15:39.669152Z"
                },
                "papermill": {
                    "duration": 0.564078,
                    "end_time": "2021-11-25T17:15:39.669827",
                    "exception": false,
                    "start_time": "2021-11-25T17:15:39.105749",
                    "status": "completed"
                },
                "tags": []
            },
            "outputs": [
                {
                    "name": "stdout",
                    "output_type": "stream",
                    "text": [
                        "p  121 ; tp  71.30050230026245 ; fp  6.894864304351021\n",
                        "recall  0.5892603495889459 ; precision  0.9118251553290342\n",
                        "num_batches 8\n",
                        "correct 185\n",
                        "size 242\n",
                        "Test metrics: \n",
                        " Accuracy: 0.764463, F1 score: 0.715885, Avg loss: 0.595003 \n",
                        "\n"
                    ]
                },
                {
                    "data": {
                        "text/plain": [
                            "(0.7644628099173554, 0.7158851484913112)"
                        ]
                    },
                    "execution_count": 11,
                    "metadata": {},
                    "output_type": "execute_result"
                }
            ],
            "source": [
                "test_dset = get_dataset(config[\"dataset\"], 'test')\n",
                "test_loader = DataLoader(test_dset, batch_size=config[\"batch_size\"], shuffle=True, collate_fn=collate)\n",
                "\n",
                "acc, f1 = model.test(test_loader)\n",
                "acc, f1"
            ]
        }
    ],
    "metadata": {
        "environment": {
            "name": "pytorch-gpu.1-9.m75",
            "type": "gcloud",
            "uri": "gcr.io/deeplearning-platform-release/pytorch-gpu.1-9:m75"
        },
        "interpreter": {
            "hash": "9828b828580f1cac1b571b33de6cff8bacecc8916095e1bcbc967952ca7105b7"
        },
        "kernelspec": {
            "display_name": "conda-env-bench_env-py",
            "language": "python",
            "name": "bench_env"
        },
        "language_info": {
            "codemirror_mode": {
                "name": "ipython",
                "version": 3
            },
            "file_extension": ".py",
            "mimetype": "text/x-python",
            "name": "python",
            "nbconvert_exporter": "python",
            "pygments_lexer": "ipython3",
            "version": "3.8.10"
        },
        "papermill": {
            "default_parameters": {},
            "duration": 53.653916,
            "end_time": "2021-11-25T17:15:40.125035",
            "environment_variables": {},
            "exception": null,
            "input_path": "utils/torch_cnn_classifier.ipynb",
            "output_path": "torch_cnn_experiments/dummy_mouse_enhancers_ensembl.ipynb",
            "parameters": {
                "DATASET": "dummy_mouse_enhancers_ensembl",
                "EPOCHS": 10
            },
            "start_time": "2021-11-25T17:14:46.471119",
            "version": "2.3.3"
        }
    },
    "nbformat": 4,
    "nbformat_minor": 5
}
