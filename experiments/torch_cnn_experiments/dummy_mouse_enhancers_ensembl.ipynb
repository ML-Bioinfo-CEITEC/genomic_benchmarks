{
 "cells": [
  {
   "cell_type": "markdown",
   "id": "6616eff4",
   "metadata": {
    "papermill": {
     "duration": 0.045925,
     "end_time": "2022-06-03T17:56:21.258793",
     "exception": false,
     "start_time": "2022-06-03T17:56:21.212868",
     "status": "completed"
    },
    "tags": []
   },
   "source": [
    "# PYTORCH CNN Classifier\n",
    "\n",
    "To run this notebook on an another benchmark, use\n",
    "\n",
    "```\n",
    "papermill utils/torch_cnn_classifier.ipynb torch_cnn_experiments/[DATASET NAME].ipynb -p DATASET [DATASET NAME]\n",
    "```"
   ]
  },
  {
   "cell_type": "code",
   "execution_count": 1,
   "id": "01b93df1",
   "metadata": {
    "execution": {
     "iopub.execute_input": "2022-06-03T17:56:21.287617Z",
     "iopub.status.busy": "2022-06-03T17:56:21.287176Z",
     "iopub.status.idle": "2022-06-03T17:56:21.289645Z",
     "shell.execute_reply": "2022-06-03T17:56:21.289947Z"
    },
    "papermill": {
     "duration": 0.020499,
     "end_time": "2022-06-03T17:56:21.290139",
     "exception": false,
     "start_time": "2022-06-03T17:56:21.269640",
     "status": "completed"
    },
    "tags": [
     "parameters"
    ]
   },
   "outputs": [],
   "source": [
    "# DATASET = 'no_dataset'\n",
    "DATASET = 'demo_human_or_worm'\n",
    "VERSION = 0\n",
    "BATCH_SIZE = 64\n",
    "EPOCHS = 1"
   ]
  },
  {
   "cell_type": "code",
   "execution_count": 2,
   "id": "9f13f153",
   "metadata": {
    "execution": {
     "iopub.execute_input": "2022-06-03T17:56:21.316189Z",
     "iopub.status.busy": "2022-06-03T17:56:21.315807Z",
     "iopub.status.idle": "2022-06-03T17:56:21.316974Z",
     "shell.execute_reply": "2022-06-03T17:56:21.317259Z"
    },
    "papermill": {
     "duration": 0.015605,
     "end_time": "2022-06-03T17:56:21.317362",
     "exception": false,
     "start_time": "2022-06-03T17:56:21.301757",
     "status": "completed"
    },
    "tags": [
     "injected-parameters"
    ]
   },
   "outputs": [],
   "source": [
    "# Parameters\n",
    "DATASET = \"dummy_mouse_enhancers_ensembl\"\n"
   ]
  },
  {
   "cell_type": "code",
   "execution_count": 3,
   "id": "65ed54d7",
   "metadata": {
    "execution": {
     "iopub.execute_input": "2022-06-03T17:56:21.344643Z",
     "iopub.status.busy": "2022-06-03T17:56:21.343831Z",
     "iopub.status.idle": "2022-06-03T17:56:21.346974Z",
     "shell.execute_reply": "2022-06-03T17:56:21.347650Z"
    },
    "papermill": {
     "duration": 0.019439,
     "end_time": "2022-06-03T17:56:21.347852",
     "exception": false,
     "start_time": "2022-06-03T17:56:21.328413",
     "status": "completed"
    },
    "tags": []
   },
   "outputs": [
    {
     "name": "stdout",
     "output_type": "stream",
     "text": [
      "dummy_mouse_enhancers_ensembl 0 64 1\n"
     ]
    }
   ],
   "source": [
    "print(DATASET, VERSION, BATCH_SIZE, EPOCHS)"
   ]
  },
  {
   "cell_type": "markdown",
   "id": "65dfd55f",
   "metadata": {
    "papermill": {
     "duration": 0.010801,
     "end_time": "2022-06-03T17:56:21.373009",
     "exception": false,
     "start_time": "2022-06-03T17:56:21.362208",
     "status": "completed"
    },
    "tags": []
   },
   "source": [
    "## Config"
   ]
  },
  {
   "cell_type": "code",
   "execution_count": 4,
   "id": "8624ef7d",
   "metadata": {
    "execution": {
     "iopub.execute_input": "2022-06-03T17:56:21.401935Z",
     "iopub.status.busy": "2022-06-03T17:56:21.401477Z",
     "iopub.status.idle": "2022-06-03T17:56:22.534368Z",
     "shell.execute_reply": "2022-06-03T17:56:22.535134Z"
    },
    "papermill": {
     "duration": 1.150957,
     "end_time": "2022-06-03T17:56:22.535381",
     "exception": false,
     "start_time": "2022-06-03T17:56:21.384424",
     "status": "completed"
    },
    "tags": []
   },
   "outputs": [],
   "source": [
    "import os\n",
    "import numpy as np\n",
    "import torch\n",
    "from torch import nn\n",
    "from torch.utils.data import DataLoader\n",
    "from torchtext.data.utils import get_tokenizer\n",
    "\n",
    "from genomic_benchmarks.data_check import is_downloaded, info\n",
    "from genomic_benchmarks.dataset_getters.pytorch_datasets import get_dataset\n",
    "from genomic_benchmarks.loc2seq import download_dataset\n",
    "from genomic_benchmarks.models.torch import CNN\n",
    "from genomic_benchmarks.dataset_getters.utils import coll_factory, LetterTokenizer, build_vocab, check_seq_lengths, check_config, VARIABLE_LENGTH_DATASETS"
   ]
  },
  {
   "cell_type": "code",
   "execution_count": 5,
   "id": "a4fc0a5b",
   "metadata": {
    "execution": {
     "iopub.execute_input": "2022-06-03T17:56:22.570138Z",
     "iopub.status.busy": "2022-06-03T17:56:22.569660Z",
     "iopub.status.idle": "2022-06-03T17:56:22.571928Z",
     "shell.execute_reply": "2022-06-03T17:56:22.572150Z"
    },
    "papermill": {
     "duration": 0.01633,
     "end_time": "2022-06-03T17:56:22.572241",
     "exception": false,
     "start_time": "2022-06-03T17:56:22.555911",
     "status": "completed"
    },
    "tags": []
   },
   "outputs": [],
   "source": [
    "USE_PADDING = DATASET in VARIABLE_LENGTH_DATASETS"
   ]
  },
  {
   "cell_type": "markdown",
   "id": "3e4a7dad",
   "metadata": {
    "papermill": {
     "duration": 0.009314,
     "end_time": "2022-06-03T17:56:22.597635",
     "exception": false,
     "start_time": "2022-06-03T17:56:22.588321",
     "status": "completed"
    },
    "tags": []
   },
   "source": [
    "## Choose the dataset"
   ]
  },
  {
   "cell_type": "code",
   "execution_count": 6,
   "id": "e71bd12b",
   "metadata": {
    "execution": {
     "iopub.execute_input": "2022-06-03T17:56:22.621703Z",
     "iopub.status.busy": "2022-06-03T17:56:22.619726Z",
     "iopub.status.idle": "2022-06-03T17:56:31.390793Z",
     "shell.execute_reply": "2022-06-03T17:56:31.390025Z"
    },
    "papermill": {
     "duration": 8.783783,
     "end_time": "2022-06-03T17:56:31.390957",
     "exception": false,
     "start_time": "2022-06-03T17:56:22.607174",
     "status": "completed"
    },
    "tags": []
   },
   "outputs": [
    {
     "name": "stderr",
     "output_type": "stream",
     "text": [
      "/home/katarina/git/genomic_benchmarks/src/genomic_benchmarks/utils/datasets.py:50: UserWarning: No version specified. Using version 0.\n",
      "  warnings.warn(f\"No version specified. Using version {metadata['version']}.\")\n"
     ]
    },
    {
     "name": "stderr",
     "output_type": "stream",
     "text": [
      "Downloading...\n",
      "From: https://drive.google.com/uc?id=1dz7dwvyM1TVUsCyuxxxn1ZMMFV381sl2\n",
      "To: /home/katarina/.genomic_benchmarks/dummy_mouse_enhancers_ensembl.zip\n"
     ]
    },
    {
     "name": "stderr",
     "output_type": "stream",
     "text": [
      "\r",
      "  0%|                                                                                                                                                        | 0.00/983k [00:00<?, ?B/s]"
     ]
    },
    {
     "name": "stderr",
     "output_type": "stream",
     "text": [
      "\r",
      "100%|████████████████████████████████████████████████████████████████████████████████████████████████████████████████████████████████████████████████| 983k/983k [00:00<00:00, 10.6MB/s]"
     ]
    },
    {
     "name": "stderr",
     "output_type": "stream",
     "text": [
      "\n"
     ]
    }
   ],
   "source": [
    "if not is_downloaded(DATASET):\n",
    "    download_dataset(DATASET, local_repo=True)"
   ]
  },
  {
   "cell_type": "code",
   "execution_count": 7,
   "id": "88e409cc",
   "metadata": {
    "execution": {
     "iopub.execute_input": "2022-06-03T17:56:31.426731Z",
     "iopub.status.busy": "2022-06-03T17:56:31.425923Z",
     "iopub.status.idle": "2022-06-03T17:56:31.454637Z",
     "shell.execute_reply": "2022-06-03T17:56:31.453905Z"
    },
    "papermill": {
     "duration": 0.042924,
     "end_time": "2022-06-03T17:56:31.454820",
     "exception": false,
     "start_time": "2022-06-03T17:56:31.411896",
     "status": "completed"
    },
    "tags": []
   },
   "outputs": [
    {
     "name": "stdout",
     "output_type": "stream",
     "text": [
      "Dataset `dummy_mouse_enhancers_ensembl` has 2 classes: negative, positive.\n",
      "\n",
      "The length of genomic intervals ranges from 331 to 4776, with average 2369.5768595041322 and median 2381.0.\n",
      "\n",
      "Totally 1210 sequences have been found, 968 for training and 242 for testing.\n"
     ]
    },
    {
     "data": {
      "text/html": [
       "<div>\n",
       "<style scoped>\n",
       "    .dataframe tbody tr th:only-of-type {\n",
       "        vertical-align: middle;\n",
       "    }\n",
       "\n",
       "    .dataframe tbody tr th {\n",
       "        vertical-align: top;\n",
       "    }\n",
       "\n",
       "    .dataframe thead th {\n",
       "        text-align: right;\n",
       "    }\n",
       "</style>\n",
       "<table border=\"1\" class=\"dataframe\">\n",
       "  <thead>\n",
       "    <tr style=\"text-align: right;\">\n",
       "      <th></th>\n",
       "      <th>train</th>\n",
       "      <th>test</th>\n",
       "    </tr>\n",
       "  </thead>\n",
       "  <tbody>\n",
       "    <tr>\n",
       "      <th>negative</th>\n",
       "      <td>484</td>\n",
       "      <td>121</td>\n",
       "    </tr>\n",
       "    <tr>\n",
       "      <th>positive</th>\n",
       "      <td>484</td>\n",
       "      <td>121</td>\n",
       "    </tr>\n",
       "  </tbody>\n",
       "</table>\n",
       "</div>"
      ],
      "text/plain": [
       "          train  test\n",
       "negative    484   121\n",
       "positive    484   121"
      ]
     },
     "execution_count": 7,
     "metadata": {},
     "output_type": "execute_result"
    }
   ],
   "source": [
    "info(DATASET, local_repo=True)"
   ]
  },
  {
   "cell_type": "code",
   "execution_count": 8,
   "id": "168530f0",
   "metadata": {
    "execution": {
     "iopub.execute_input": "2022-06-03T17:56:31.481018Z",
     "iopub.status.busy": "2022-06-03T17:56:31.479824Z",
     "iopub.status.idle": "2022-06-03T17:56:31.484005Z",
     "shell.execute_reply": "2022-06-03T17:56:31.484221Z"
    },
    "papermill": {
     "duration": 0.017736,
     "end_time": "2022-06-03T17:56:31.484311",
     "exception": false,
     "start_time": "2022-06-03T17:56:31.466575",
     "status": "completed"
    },
    "tags": []
   },
   "outputs": [],
   "source": [
    "train_dset = get_dataset(DATASET, 'train')"
   ]
  },
  {
   "cell_type": "code",
   "execution_count": 9,
   "id": "50cfbd44",
   "metadata": {
    "execution": {
     "iopub.execute_input": "2022-06-03T17:56:31.509662Z",
     "iopub.status.busy": "2022-06-03T17:56:31.509324Z",
     "iopub.status.idle": "2022-06-03T17:56:31.531266Z",
     "shell.execute_reply": "2022-06-03T17:56:31.531778Z"
    },
    "papermill": {
     "duration": 0.036987,
     "end_time": "2022-06-03T17:56:31.531964",
     "exception": false,
     "start_time": "2022-06-03T17:56:31.494977",
     "status": "completed"
    },
    "tags": []
   },
   "outputs": [
    {
     "data": {
      "text/plain": [
       "2"
      ]
     },
     "execution_count": 9,
     "metadata": {},
     "output_type": "execute_result"
    }
   ],
   "source": [
    "NUM_CLASSES = len(set([train_dset[i][1] for i in range(len(train_dset))]))\n",
    "NUM_CLASSES"
   ]
  },
  {
   "cell_type": "markdown",
   "id": "b16662ec",
   "metadata": {
    "papermill": {
     "duration": 0.010495,
     "end_time": "2022-06-03T17:56:31.560503",
     "exception": false,
     "start_time": "2022-06-03T17:56:31.550008",
     "status": "completed"
    },
    "tags": []
   },
   "source": [
    "## Tokenizer and vocab"
   ]
  },
  {
   "cell_type": "code",
   "execution_count": 10,
   "id": "674abab7",
   "metadata": {
    "execution": {
     "iopub.execute_input": "2022-06-03T17:56:31.586887Z",
     "iopub.status.busy": "2022-06-03T17:56:31.586550Z",
     "iopub.status.idle": "2022-06-03T17:56:31.715666Z",
     "shell.execute_reply": "2022-06-03T17:56:31.715018Z"
    },
    "papermill": {
     "duration": 0.144344,
     "end_time": "2022-06-03T17:56:31.715856",
     "exception": false,
     "start_time": "2022-06-03T17:56:31.571512",
     "status": "completed"
    },
    "tags": []
   },
   "outputs": [
    {
     "name": "stdout",
     "output_type": "stream",
     "text": [
      "vocab len: 9\n",
      "{'C': 5, 'A': 4, '<eos>': 7, 'G': 3, '<pad>': 8, 'T': 2, '<bos>': 1, 'N': 6, '<unk>': 0}\n"
     ]
    }
   ],
   "source": [
    "tokenizer = get_tokenizer(LetterTokenizer())\n",
    "vocabulary = build_vocab(train_dset, tokenizer, use_padding=USE_PADDING)\n",
    "\n",
    "print(\"vocab len:\" ,vocabulary.__len__())\n",
    "print(vocabulary.get_stoi())"
   ]
  },
  {
   "cell_type": "markdown",
   "id": "40ef539f",
   "metadata": {
    "papermill": {
     "duration": 0.010487,
     "end_time": "2022-06-03T17:56:31.746262",
     "exception": false,
     "start_time": "2022-06-03T17:56:31.735775",
     "status": "completed"
    },
    "tags": []
   },
   "source": [
    "## Dataloader and batch preparation"
   ]
  },
  {
   "cell_type": "code",
   "execution_count": 11,
   "id": "5d629d02",
   "metadata": {
    "execution": {
     "iopub.execute_input": "2022-06-03T17:56:31.774693Z",
     "iopub.status.busy": "2022-06-03T17:56:31.770771Z",
     "iopub.status.idle": "2022-06-03T17:56:31.801613Z",
     "shell.execute_reply": "2022-06-03T17:56:31.801348Z"
    },
    "papermill": {
     "duration": 0.044412,
     "end_time": "2022-06-03T17:56:31.801685",
     "exception": false,
     "start_time": "2022-06-03T17:56:31.757273",
     "status": "completed"
    },
    "tags": []
   },
   "outputs": [
    {
     "name": "stdout",
     "output_type": "stream",
     "text": [
      "Using cpu device\n",
      "max_seq_len  4707\n",
      "not all sequences are of the same length\n"
     ]
    }
   ],
   "source": [
    "# Run on GPU or CPU\n",
    "device = 'cuda' if torch.cuda.is_available() else 'cpu'\n",
    "print('Using {} device'.format(device))\n",
    "\n",
    "max_seq_len, nn_input_len = check_seq_lengths(dataset=train_dset, use_padding=USE_PADDING)\n",
    "\n",
    "# Data Loader\n",
    "if(USE_PADDING):\n",
    "    collate = coll_factory(vocabulary, tokenizer, device, pad_to_length = nn_input_len)\n",
    "else:\n",
    "    collate = coll_factory(vocabulary, tokenizer, device, pad_to_length = None)\n",
    "\n",
    "train_loader = DataLoader(train_dset, batch_size=BATCH_SIZE, shuffle=True, collate_fn=collate)"
   ]
  },
  {
   "cell_type": "markdown",
   "id": "5ba86440",
   "metadata": {
    "papermill": {
     "duration": 0.011355,
     "end_time": "2022-06-03T17:56:31.823910",
     "exception": false,
     "start_time": "2022-06-03T17:56:31.812555",
     "status": "completed"
    },
    "tags": []
   },
   "source": [
    "## Model"
   ]
  },
  {
   "cell_type": "code",
   "execution_count": 12,
   "id": "367d3ac9",
   "metadata": {
    "execution": {
     "iopub.execute_input": "2022-06-03T17:56:31.851318Z",
     "iopub.status.busy": "2022-06-03T17:56:31.850706Z",
     "iopub.status.idle": "2022-06-03T17:56:31.894191Z",
     "shell.execute_reply": "2022-06-03T17:56:31.893936Z"
    },
    "papermill": {
     "duration": 0.059005,
     "end_time": "2022-06-03T17:56:31.894255",
     "exception": false,
     "start_time": "2022-06-03T17:56:31.835250",
     "status": "completed"
    },
    "tags": []
   },
   "outputs": [],
   "source": [
    "model = CNN(\n",
    "    number_of_classes=NUM_CLASSES,\n",
    "    vocab_size=vocabulary.__len__(),\n",
    "    embedding_dim=100,\n",
    "    input_len=nn_input_len,\n",
    "    device=device\n",
    ").to(device)"
   ]
  },
  {
   "cell_type": "markdown",
   "id": "ec17b18c",
   "metadata": {
    "papermill": {
     "duration": 0.01089,
     "end_time": "2022-06-03T17:56:31.916353",
     "exception": false,
     "start_time": "2022-06-03T17:56:31.905463",
     "status": "completed"
    },
    "tags": []
   },
   "source": [
    "## Training"
   ]
  },
  {
   "cell_type": "code",
   "execution_count": 13,
   "id": "8be76128",
   "metadata": {
    "execution": {
     "iopub.execute_input": "2022-06-03T17:56:31.943987Z",
     "iopub.status.busy": "2022-06-03T17:56:31.943388Z",
     "iopub.status.idle": "2022-06-03T17:56:37.955450Z",
     "shell.execute_reply": "2022-06-03T17:56:37.955746Z"
    },
    "papermill": {
     "duration": 6.028309,
     "end_time": "2022-06-03T17:56:37.955838",
     "exception": false,
     "start_time": "2022-06-03T17:56:31.927529",
     "status": "completed"
    },
    "tags": []
   },
   "outputs": [
    {
     "name": "stdout",
     "output_type": "stream",
     "text": [
      "Epoch 0\n"
     ]
    },
    {
     "name": "stderr",
     "output_type": "stream",
     "text": [
      "/home/katarina/git/genomic_benchmarks/src/genomic_benchmarks/dataset_getters/utils.py:27: UserWarning: To copy construct from a tensor, it is recommended to use sourceTensor.clone().detach() or sourceTensor.clone().detach().requires_grad_(True), rather than torch.tensor(sourceTensor).\n",
      "  x = torch.tensor(pad(x), dtype=torch.long)\n"
     ]
    },
    {
     "name": "stdout",
     "output_type": "stream",
     "text": [
      "Train metrics: \n",
      " Accuracy: 68.1%, Avg loss: 0.651942 \n",
      "\n"
     ]
    }
   ],
   "source": [
    "model.fit(train_loader, epochs=EPOCHS)"
   ]
  },
  {
   "cell_type": "markdown",
   "id": "67cb627a",
   "metadata": {
    "papermill": {
     "duration": 0.012232,
     "end_time": "2022-06-03T17:56:37.981397",
     "exception": false,
     "start_time": "2022-06-03T17:56:37.969165",
     "status": "completed"
    },
    "tags": []
   },
   "source": [
    "## Testing"
   ]
  },
  {
   "cell_type": "code",
   "execution_count": 14,
   "id": "a0110dde",
   "metadata": {
    "execution": {
     "iopub.execute_input": "2022-06-03T17:56:38.010628Z",
     "iopub.status.busy": "2022-06-03T17:56:38.010272Z",
     "iopub.status.idle": "2022-06-03T17:56:38.805314Z",
     "shell.execute_reply": "2022-06-03T17:56:38.805575Z"
    },
    "papermill": {
     "duration": 0.811809,
     "end_time": "2022-06-03T17:56:38.805670",
     "exception": false,
     "start_time": "2022-06-03T17:56:37.993861",
     "status": "completed"
    },
    "tags": []
   },
   "outputs": [
    {
     "name": "stdout",
     "output_type": "stream",
     "text": [
      "Test metrics: \n",
      " Accuracy: 0.520661, F1 score: 0.674157, Avg loss: 0.804614 \n",
      "\n"
     ]
    },
    {
     "data": {
      "text/plain": [
       "(0.5206611570247934, 0.6741573033707865)"
      ]
     },
     "execution_count": 14,
     "metadata": {},
     "output_type": "execute_result"
    }
   ],
   "source": [
    "test_dset = get_dataset(DATASET, 'test')\n",
    "test_loader = DataLoader(test_dset, batch_size=BATCH_SIZE, shuffle=True, collate_fn=collate)\n",
    "\n",
    "acc, f1 = model.test(test_loader)\n",
    "acc, f1"
   ]
  }
 ],
 "metadata": {
  "environment": {
   "name": "pytorch-gpu.1-9.m75",
   "type": "gcloud",
   "uri": "gcr.io/deeplearning-platform-release/pytorch-gpu.1-9:m75"
  },
  "interpreter": {
   "hash": "5fb5174addf958ec7b3e9e5d35a565dfd5bab1ae69383cd521f52756e68c7fc3"
  },
  "kernelspec": {
   "display_name": "Python 3.8.10 ('venv': venv)",
   "language": "python",
   "name": "python3"
  },
  "language_info": {
   "codemirror_mode": {
    "name": "ipython",
    "version": 3
   },
   "file_extension": ".py",
   "mimetype": "text/x-python",
   "name": "python",
   "nbconvert_exporter": "python",
   "pygments_lexer": "ipython3",
   "version": "3.8.10"
  },
  "papermill": {
   "default_parameters": {},
   "duration": 19.115456,
   "end_time": "2022-06-03T17:56:39.237929",
   "environment_variables": {},
   "exception": null,
   "input_path": "utils/torch_cnn_classifier.ipynb",
   "output_path": "torch_cnn_experiments/dummy_mouse_enhancers_ensembl.ipynb",
   "parameters": {
    "DATASET": "dummy_mouse_enhancers_ensembl"
   },
   "start_time": "2022-06-03T17:56:20.122473",
   "version": "2.3.4"
  }
 },
 "nbformat": 4,
 "nbformat_minor": 5
}