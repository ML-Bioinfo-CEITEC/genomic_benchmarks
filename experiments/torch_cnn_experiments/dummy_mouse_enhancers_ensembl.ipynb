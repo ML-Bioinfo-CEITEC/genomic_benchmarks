{
 "cells": [
  {
   "cell_type": "markdown",
   "id": "d73e85fd",
   "metadata": {
    "papermill": {
     "duration": 0.005007,
     "end_time": "2022-06-04T11:41:37.821647",
     "exception": false,
     "start_time": "2022-06-04T11:41:37.816640",
     "status": "completed"
    },
    "tags": []
   },
   "source": [
    "# PYTORCH CNN Classifier\n",
    "\n",
    "To run this notebook on an another benchmark, use\n",
    "\n",
    "```\n",
    "papermill utils/torch_cnn_classifier.ipynb torch_cnn_experiments/[DATASET NAME].ipynb -p DATASET [DATASET NAME]\n",
    "```"
   ]
  },
  {
   "cell_type": "code",
   "execution_count": 1,
   "id": "042bf168",
   "metadata": {
    "execution": {
     "iopub.execute_input": "2022-06-04T11:41:37.831156Z",
     "iopub.status.busy": "2022-06-04T11:41:37.830877Z",
     "iopub.status.idle": "2022-06-04T11:41:37.835760Z",
     "shell.execute_reply": "2022-06-04T11:41:37.835460Z"
    },
    "papermill": {
     "duration": 0.010782,
     "end_time": "2022-06-04T11:41:37.836655",
     "exception": false,
     "start_time": "2022-06-04T11:41:37.825873",
     "status": "completed"
    },
    "tags": [
     "parameters"
    ]
   },
   "outputs": [],
   "source": [
    "# DATASET = 'no_dataset'\n",
    "DATASET = 'demo_human_or_worm'\n",
    "VERSION = 0\n",
    "BATCH_SIZE = 64\n",
    "EPOCHS = 1"
   ]
  },
  {
   "cell_type": "code",
   "execution_count": 2,
   "id": "f802c557",
   "metadata": {
    "execution": {
     "iopub.execute_input": "2022-06-04T11:41:37.849038Z",
     "iopub.status.busy": "2022-06-04T11:41:37.848809Z",
     "iopub.status.idle": "2022-06-04T11:41:37.851399Z",
     "shell.execute_reply": "2022-06-04T11:41:37.851114Z"
    },
    "papermill": {
     "duration": 0.009384,
     "end_time": "2022-06-04T11:41:37.852210",
     "exception": false,
     "start_time": "2022-06-04T11:41:37.842826",
     "status": "completed"
    },
    "tags": [
     "injected-parameters"
    ]
   },
   "outputs": [],
   "source": [
    "# Parameters\n",
    "DATASET = \"dummy_mouse_enhancers_ensembl\"\n",
    "EPOCHS = 10\n"
   ]
  },
  {
   "cell_type": "code",
   "execution_count": 3,
   "id": "90b294b4",
   "metadata": {
    "execution": {
     "iopub.execute_input": "2022-06-04T11:41:37.864433Z",
     "iopub.status.busy": "2022-06-04T11:41:37.864246Z",
     "iopub.status.idle": "2022-06-04T11:41:37.866836Z",
     "shell.execute_reply": "2022-06-04T11:41:37.866532Z"
    },
    "papermill": {
     "duration": 0.009167,
     "end_time": "2022-06-04T11:41:37.867819",
     "exception": false,
     "start_time": "2022-06-04T11:41:37.858652",
     "status": "completed"
    },
    "tags": []
   },
   "outputs": [
    {
     "name": "stdout",
     "output_type": "stream",
     "text": [
      "dummy_mouse_enhancers_ensembl 0 64 10\n"
     ]
    }
   ],
   "source": [
    "print(DATASET, VERSION, BATCH_SIZE, EPOCHS)"
   ]
  },
  {
   "cell_type": "markdown",
   "id": "8b6bacea",
   "metadata": {
    "papermill": {
     "duration": 0.004046,
     "end_time": "2022-06-04T11:41:37.875875",
     "exception": false,
     "start_time": "2022-06-04T11:41:37.871829",
     "status": "completed"
    },
    "tags": []
   },
   "source": [
    "## Config"
   ]
  },
  {
   "cell_type": "code",
   "execution_count": 4,
   "id": "42bc5689",
   "metadata": {
    "execution": {
     "iopub.execute_input": "2022-06-04T11:41:37.884146Z",
     "iopub.status.busy": "2022-06-04T11:41:37.883906Z",
     "iopub.status.idle": "2022-06-04T11:41:39.176537Z",
     "shell.execute_reply": "2022-06-04T11:41:39.175688Z"
    },
    "papermill": {
     "duration": 1.298522,
     "end_time": "2022-06-04T11:41:39.178220",
     "exception": false,
     "start_time": "2022-06-04T11:41:37.879698",
     "status": "completed"
    },
    "tags": []
   },
   "outputs": [
    {
     "name": "stderr",
     "output_type": "stream",
     "text": [
      "/opt/conda/envs/bench_env/lib/python3.8/site-packages/tqdm/auto.py:22: TqdmWarning: IProgress not found. Please update jupyter and ipywidgets. See https://ipywidgets.readthedocs.io/en/stable/user_install.html\n",
      "  from .autonotebook import tqdm as notebook_tqdm\n"
     ]
    }
   ],
   "source": [
    "import os\n",
    "import numpy as np\n",
    "import torch\n",
    "from torch import nn\n",
    "from torch.utils.data import DataLoader\n",
    "from torchtext.data.utils import get_tokenizer\n",
    "\n",
    "from genomic_benchmarks.data_check import is_downloaded, info\n",
    "from genomic_benchmarks.dataset_getters.pytorch_datasets import get_dataset\n",
    "from genomic_benchmarks.loc2seq import download_dataset\n",
    "from genomic_benchmarks.models.torch import CNN\n",
    "from genomic_benchmarks.dataset_getters.utils import coll_factory, LetterTokenizer, build_vocab, check_seq_lengths, check_config, VARIABLE_LENGTH_DATASETS"
   ]
  },
  {
   "cell_type": "code",
   "execution_count": 5,
   "id": "770b59e0",
   "metadata": {
    "execution": {
     "iopub.execute_input": "2022-06-04T11:41:39.189484Z",
     "iopub.status.busy": "2022-06-04T11:41:39.189193Z",
     "iopub.status.idle": "2022-06-04T11:41:39.192112Z",
     "shell.execute_reply": "2022-06-04T11:41:39.191684Z"
    },
    "papermill": {
     "duration": 0.008872,
     "end_time": "2022-06-04T11:41:39.193027",
     "exception": false,
     "start_time": "2022-06-04T11:41:39.184155",
     "status": "completed"
    },
    "tags": []
   },
   "outputs": [],
   "source": [
    "USE_PADDING = DATASET in VARIABLE_LENGTH_DATASETS"
   ]
  },
  {
   "cell_type": "markdown",
   "id": "38d275c8",
   "metadata": {
    "papermill": {
     "duration": 0.004336,
     "end_time": "2022-06-04T11:41:39.201677",
     "exception": false,
     "start_time": "2022-06-04T11:41:39.197341",
     "status": "completed"
    },
    "tags": []
   },
   "source": [
    "## Choose the dataset"
   ]
  },
  {
   "cell_type": "code",
   "execution_count": 6,
   "id": "c7314b64",
   "metadata": {
    "execution": {
     "iopub.execute_input": "2022-06-04T11:41:39.214660Z",
     "iopub.status.busy": "2022-06-04T11:41:39.214396Z",
     "iopub.status.idle": "2022-06-04T11:41:47.466943Z",
     "shell.execute_reply": "2022-06-04T11:41:47.466017Z"
    },
    "papermill": {
     "duration": 8.261571,
     "end_time": "2022-06-04T11:41:47.468429",
     "exception": false,
     "start_time": "2022-06-04T11:41:39.206858",
     "status": "completed"
    },
    "tags": []
   },
   "outputs": [
    {
     "name": "stderr",
     "output_type": "stream",
     "text": [
      "/home/jovyan/genomic_benchmarks/src/genomic_benchmarks/utils/datasets.py:50: UserWarning: No version specified. Using version 0.\n",
      "  warnings.warn(f\"No version specified. Using version {metadata['version']}.\")\n",
      "Downloading...\n",
      "From: https://drive.google.com/uc?id=1dz7dwvyM1TVUsCyuxxxn1ZMMFV381sl2\n",
      "To: /home/jovyan/.genomic_benchmarks/dummy_mouse_enhancers_ensembl.zip\n",
      "100%|█████████████████████████████████████████████████████████████████████████████████████████████████████████████████████████████████████████████████████████████████████████| 983k/983k [00:00<00:00, 10.4MB/s]\n"
     ]
    }
   ],
   "source": [
    "if not is_downloaded(DATASET):\n",
    "    download_dataset(DATASET, local_repo=True)"
   ]
  },
  {
   "cell_type": "code",
   "execution_count": 7,
   "id": "7de6914e",
   "metadata": {
    "execution": {
     "iopub.execute_input": "2022-06-04T11:41:47.487447Z",
     "iopub.status.busy": "2022-06-04T11:41:47.487039Z",
     "iopub.status.idle": "2022-06-04T11:41:47.513334Z",
     "shell.execute_reply": "2022-06-04T11:41:47.512708Z"
    },
    "papermill": {
     "duration": 0.040947,
     "end_time": "2022-06-04T11:41:47.514361",
     "exception": false,
     "start_time": "2022-06-04T11:41:47.473414",
     "status": "completed"
    },
    "tags": []
   },
   "outputs": [
    {
     "name": "stdout",
     "output_type": "stream",
     "text": [
      "Dataset `dummy_mouse_enhancers_ensembl` has 2 classes: negative, positive.\n",
      "\n",
      "The length of genomic intervals ranges from 331 to 4776, with average 2369.5768595041322 and median 2381.0.\n",
      "\n",
      "Totally 1210 sequences have been found, 968 for training and 242 for testing.\n"
     ]
    },
    {
     "data": {
      "text/html": [
       "<div>\n",
       "<style scoped>\n",
       "    .dataframe tbody tr th:only-of-type {\n",
       "        vertical-align: middle;\n",
       "    }\n",
       "\n",
       "    .dataframe tbody tr th {\n",
       "        vertical-align: top;\n",
       "    }\n",
       "\n",
       "    .dataframe thead th {\n",
       "        text-align: right;\n",
       "    }\n",
       "</style>\n",
       "<table border=\"1\" class=\"dataframe\">\n",
       "  <thead>\n",
       "    <tr style=\"text-align: right;\">\n",
       "      <th></th>\n",
       "      <th>train</th>\n",
       "      <th>test</th>\n",
       "    </tr>\n",
       "  </thead>\n",
       "  <tbody>\n",
       "    <tr>\n",
       "      <th>negative</th>\n",
       "      <td>484</td>\n",
       "      <td>121</td>\n",
       "    </tr>\n",
       "    <tr>\n",
       "      <th>positive</th>\n",
       "      <td>484</td>\n",
       "      <td>121</td>\n",
       "    </tr>\n",
       "  </tbody>\n",
       "</table>\n",
       "</div>"
      ],
      "text/plain": [
       "          train  test\n",
       "negative    484   121\n",
       "positive    484   121"
      ]
     },
     "execution_count": 7,
     "metadata": {},
     "output_type": "execute_result"
    }
   ],
   "source": [
    "info(DATASET, local_repo=True)"
   ]
  },
  {
   "cell_type": "code",
   "execution_count": 8,
   "id": "3439a76f",
   "metadata": {
    "execution": {
     "iopub.execute_input": "2022-06-04T11:41:47.524402Z",
     "iopub.status.busy": "2022-06-04T11:41:47.524229Z",
     "iopub.status.idle": "2022-06-04T11:41:47.553261Z",
     "shell.execute_reply": "2022-06-04T11:41:47.552655Z"
    },
    "papermill": {
     "duration": 0.035582,
     "end_time": "2022-06-04T11:41:47.554386",
     "exception": false,
     "start_time": "2022-06-04T11:41:47.518804",
     "status": "completed"
    },
    "tags": []
   },
   "outputs": [],
   "source": [
    "train_dset = get_dataset(DATASET, 'train')"
   ]
  },
  {
   "cell_type": "code",
   "execution_count": 9,
   "id": "ef47713d",
   "metadata": {
    "execution": {
     "iopub.execute_input": "2022-06-04T11:41:47.564374Z",
     "iopub.status.busy": "2022-06-04T11:41:47.564214Z",
     "iopub.status.idle": "2022-06-04T11:41:47.810969Z",
     "shell.execute_reply": "2022-06-04T11:41:47.810338Z"
    },
    "papermill": {
     "duration": 0.253021,
     "end_time": "2022-06-04T11:41:47.811973",
     "exception": false,
     "start_time": "2022-06-04T11:41:47.558952",
     "status": "completed"
    },
    "tags": []
   },
   "outputs": [
    {
     "data": {
      "text/plain": [
       "2"
      ]
     },
     "execution_count": 9,
     "metadata": {},
     "output_type": "execute_result"
    }
   ],
   "source": [
    "NUM_CLASSES = len(set([train_dset[i][1] for i in range(len(train_dset))]))\n",
    "NUM_CLASSES"
   ]
  },
  {
   "cell_type": "markdown",
   "id": "1daa2cf9",
   "metadata": {
    "papermill": {
     "duration": 0.004737,
     "end_time": "2022-06-04T11:41:47.821169",
     "exception": false,
     "start_time": "2022-06-04T11:41:47.816432",
     "status": "completed"
    },
    "tags": []
   },
   "source": [
    "## Tokenizer and vocab"
   ]
  },
  {
   "cell_type": "code",
   "execution_count": 10,
   "id": "cee5e103",
   "metadata": {
    "execution": {
     "iopub.execute_input": "2022-06-04T11:41:47.830436Z",
     "iopub.status.busy": "2022-06-04T11:41:47.830268Z",
     "iopub.status.idle": "2022-06-04T11:41:48.062818Z",
     "shell.execute_reply": "2022-06-04T11:41:48.061801Z"
    },
    "papermill": {
     "duration": 0.238592,
     "end_time": "2022-06-04T11:41:48.063917",
     "exception": false,
     "start_time": "2022-06-04T11:41:47.825325",
     "status": "completed"
    },
    "tags": []
   },
   "outputs": [
    {
     "name": "stdout",
     "output_type": "stream",
     "text": [
      "vocab len: 9\n",
      "{'C': 5, 'A': 4, '<pad>': 8, 'T': 3, '<eos>': 7, 'G': 2, '<bos>': 1, 'N': 6, '<unk>': 0}\n"
     ]
    }
   ],
   "source": [
    "tokenizer = get_tokenizer(LetterTokenizer())\n",
    "vocabulary = build_vocab(train_dset, tokenizer, use_padding=USE_PADDING)\n",
    "\n",
    "print(\"vocab len:\" ,vocabulary.__len__())\n",
    "print(vocabulary.get_stoi())"
   ]
  },
  {
   "cell_type": "markdown",
   "id": "0d70651b",
   "metadata": {
    "papermill": {
     "duration": 0.004594,
     "end_time": "2022-06-04T11:41:48.073955",
     "exception": false,
     "start_time": "2022-06-04T11:41:48.069361",
     "status": "completed"
    },
    "tags": []
   },
   "source": [
    "## Dataloader and batch preparation"
   ]
  },
  {
   "cell_type": "code",
   "execution_count": 11,
   "id": "5945b257",
   "metadata": {
    "execution": {
     "iopub.execute_input": "2022-06-04T11:41:48.084875Z",
     "iopub.status.busy": "2022-06-04T11:41:48.084675Z",
     "iopub.status.idle": "2022-06-04T11:41:48.379607Z",
     "shell.execute_reply": "2022-06-04T11:41:48.378803Z"
    },
    "papermill": {
     "duration": 0.302231,
     "end_time": "2022-06-04T11:41:48.380793",
     "exception": false,
     "start_time": "2022-06-04T11:41:48.078562",
     "status": "completed"
    },
    "tags": []
   },
   "outputs": [
    {
     "name": "stdout",
     "output_type": "stream",
     "text": [
      "Using cuda device\n",
      "max_seq_len  4707\n",
      "not all sequences are of the same length\n"
     ]
    }
   ],
   "source": [
    "# Run on GPU or CPU\n",
    "device = 'cuda' if torch.cuda.is_available() else 'cpu'\n",
    "print('Using {} device'.format(device))\n",
    "\n",
    "max_seq_len, nn_input_len = check_seq_lengths(dataset=train_dset, use_padding=USE_PADDING)\n",
    "\n",
    "# Data Loader\n",
    "if(USE_PADDING):\n",
    "    collate = coll_factory(vocabulary, tokenizer, device, pad_to_length = nn_input_len)\n",
    "else:\n",
    "    collate = coll_factory(vocabulary, tokenizer, device, pad_to_length = None)\n",
    "\n",
    "train_loader = DataLoader(train_dset, batch_size=BATCH_SIZE, shuffle=True, collate_fn=collate)"
   ]
  },
  {
   "cell_type": "markdown",
   "id": "50d156ff",
   "metadata": {
    "papermill": {
     "duration": 0.005074,
     "end_time": "2022-06-04T11:41:48.391778",
     "exception": false,
     "start_time": "2022-06-04T11:41:48.386704",
     "status": "completed"
    },
    "tags": []
   },
   "source": [
    "## Model"
   ]
  },
  {
   "cell_type": "code",
   "execution_count": 12,
   "id": "dbf3d91c",
   "metadata": {
    "execution": {
     "iopub.execute_input": "2022-06-04T11:41:48.402998Z",
     "iopub.status.busy": "2022-06-04T11:41:48.402373Z",
     "iopub.status.idle": "2022-06-04T11:41:54.931669Z",
     "shell.execute_reply": "2022-06-04T11:41:54.930303Z"
    },
    "papermill": {
     "duration": 6.536901,
     "end_time": "2022-06-04T11:41:54.933796",
     "exception": false,
     "start_time": "2022-06-04T11:41:48.396895",
     "status": "completed"
    },
    "tags": []
   },
   "outputs": [],
   "source": [
    "model = CNN(\n",
    "    number_of_classes=NUM_CLASSES,\n",
    "    vocab_size=vocabulary.__len__(),\n",
    "    embedding_dim=100,\n",
    "    input_len=nn_input_len,\n",
    "    device=device\n",
    ").to(device)"
   ]
  },
  {
   "cell_type": "markdown",
   "id": "27245b8e",
   "metadata": {
    "papermill": {
     "duration": 0.004858,
     "end_time": "2022-06-04T11:41:54.944401",
     "exception": false,
     "start_time": "2022-06-04T11:41:54.939543",
     "status": "completed"
    },
    "tags": []
   },
   "source": [
    "## Training"
   ]
  },
  {
   "cell_type": "code",
   "execution_count": 13,
   "id": "88c991c2",
   "metadata": {
    "execution": {
     "iopub.execute_input": "2022-06-04T11:41:54.955326Z",
     "iopub.status.busy": "2022-06-04T11:41:54.955133Z",
     "iopub.status.idle": "2022-06-04T11:42:06.391348Z",
     "shell.execute_reply": "2022-06-04T11:42:06.390383Z"
    },
    "papermill": {
     "duration": 11.443248,
     "end_time": "2022-06-04T11:42:06.392598",
     "exception": false,
     "start_time": "2022-06-04T11:41:54.949350",
     "status": "completed"
    },
    "tags": []
   },
   "outputs": [
    {
     "name": "stdout",
     "output_type": "stream",
     "text": [
      "Epoch 0\n"
     ]
    },
    {
     "name": "stderr",
     "output_type": "stream",
     "text": [
      "/home/jovyan/genomic_benchmarks/src/genomic_benchmarks/dataset_getters/utils.py:27: UserWarning: To copy construct from a tensor, it is recommended to use sourceTensor.clone().detach() or sourceTensor.clone().detach().requires_grad_(True), rather than torch.tensor(sourceTensor).\n",
      "  x = torch.tensor(pad(x), dtype=torch.long)\n"
     ]
    },
    {
     "name": "stdout",
     "output_type": "stream",
     "text": [
      "Train metrics: \n",
      " Accuracy: 68.0%, Avg loss: 0.636139 \n",
      "\n",
      "Epoch 1\n",
      "Train metrics: \n",
      " Accuracy: 73.0%, Avg loss: 0.610091 \n",
      "\n",
      "Epoch 2\n",
      "Train metrics: \n",
      " Accuracy: 72.3%, Avg loss: 0.613113 \n",
      "\n",
      "Epoch 3\n",
      "Train metrics: \n",
      " Accuracy: 71.5%, Avg loss: 0.619309 \n",
      "\n",
      "Epoch 4\n",
      "Train metrics: \n",
      " Accuracy: 67.0%, Avg loss: 0.627549 \n",
      "\n",
      "Epoch 5\n",
      "Train metrics: \n",
      " Accuracy: 74.0%, Avg loss: 0.621090 \n",
      "\n",
      "Epoch 6\n",
      "Train metrics: \n",
      " Accuracy: 76.8%, Avg loss: 0.604584 \n",
      "\n",
      "Epoch 7\n",
      "Train metrics: \n",
      " Accuracy: 67.3%, Avg loss: 0.633492 \n",
      "\n",
      "Epoch 8\n",
      "Train metrics: \n",
      " Accuracy: 70.4%, Avg loss: 0.625248 \n",
      "\n",
      "Epoch 9\n",
      "Train metrics: \n",
      " Accuracy: 72.0%, Avg loss: 0.626301 \n",
      "\n"
     ]
    }
   ],
   "source": [
    "model.fit(train_loader, epochs=EPOCHS)"
   ]
  },
  {
   "cell_type": "markdown",
   "id": "3588d2e6",
   "metadata": {
    "papermill": {
     "duration": 0.004886,
     "end_time": "2022-06-04T11:42:06.403702",
     "exception": false,
     "start_time": "2022-06-04T11:42:06.398816",
     "status": "completed"
    },
    "tags": []
   },
   "source": [
    "## Testing"
   ]
  },
  {
   "cell_type": "code",
   "execution_count": 14,
   "id": "c0843034",
   "metadata": {
    "execution": {
     "iopub.execute_input": "2022-06-04T11:42:06.414721Z",
     "iopub.status.busy": "2022-06-04T11:42:06.414544Z",
     "iopub.status.idle": "2022-06-04T11:42:06.698819Z",
     "shell.execute_reply": "2022-06-04T11:42:06.698155Z"
    },
    "papermill": {
     "duration": 0.291183,
     "end_time": "2022-06-04T11:42:06.699858",
     "exception": false,
     "start_time": "2022-06-04T11:42:06.408675",
     "status": "completed"
    },
    "tags": []
   },
   "outputs": [
    {
     "name": "stdout",
     "output_type": "stream",
     "text": [
      "Test metrics: \n",
      " Accuracy: 0.690083, F1 score: 0.703557, Avg loss: 0.663699 \n",
      "\n"
     ]
    },
    {
     "data": {
      "text/plain": [
       "(0.6900826446280992, 0.7035573122529644)"
      ]
     },
     "execution_count": 14,
     "metadata": {},
     "output_type": "execute_result"
    }
   ],
   "source": [
    "test_dset = get_dataset(DATASET, 'test')\n",
    "test_loader = DataLoader(test_dset, batch_size=BATCH_SIZE, shuffle=True, collate_fn=collate)\n",
    "\n",
    "acc, f1 = model.test(test_loader)\n",
    "acc, f1"
   ]
  }
 ],
 "metadata": {
  "environment": {
   "name": "pytorch-gpu.1-9.m75",
   "type": "gcloud",
   "uri": "gcr.io/deeplearning-platform-release/pytorch-gpu.1-9:m75"
  },
  "interpreter": {
   "hash": "5fb5174addf958ec7b3e9e5d35a565dfd5bab1ae69383cd521f52756e68c7fc3"
  },
  "kernelspec": {
   "display_name": "Python 3 (ipykernel)",
   "language": "python",
   "name": "python3"
  },
  "language_info": {
   "codemirror_mode": {
    "name": "ipython",
    "version": 3
   },
   "file_extension": ".py",
   "mimetype": "text/x-python",
   "name": "python",
   "nbconvert_exporter": "python",
   "pygments_lexer": "ipython3",
   "version": "3.9.10"
  },
  "papermill": {
   "default_parameters": {},
   "duration": 30.609338,
   "end_time": "2022-06-04T11:42:07.523044",
   "environment_variables": {},
   "exception": null,
   "input_path": "utils/torch_cnn_classifier.ipynb",
   "output_path": "torch_cnn_experiments/dummy_mouse_enhancers_ensembl.ipynb",
   "parameters": {
    "DATASET": "dummy_mouse_enhancers_ensembl",
    "EPOCHS": 10
   },
   "start_time": "2022-06-04T11:41:36.913706",
   "version": "2.3.4"
  }
 },
 "nbformat": 4,
 "nbformat_minor": 5
}
