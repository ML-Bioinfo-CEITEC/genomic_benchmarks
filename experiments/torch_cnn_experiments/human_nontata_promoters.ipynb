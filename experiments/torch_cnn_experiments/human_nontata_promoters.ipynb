{
 "cells": [
  {
   "cell_type": "markdown",
   "id": "a827967e",
   "metadata": {
    "papermill": {
     "duration": 0.050944,
     "end_time": "2022-06-03T18:00:17.697333",
     "exception": false,
     "start_time": "2022-06-03T18:00:17.646389",
     "status": "completed"
    },
    "tags": []
   },
   "source": [
    "# PYTORCH CNN Classifier\n",
    "\n",
    "To run this notebook on an another benchmark, use\n",
    "\n",
    "```\n",
    "papermill utils/torch_cnn_classifier.ipynb torch_cnn_experiments/[DATASET NAME].ipynb -p DATASET [DATASET NAME]\n",
    "```"
   ]
  },
  {
   "cell_type": "code",
   "execution_count": 1,
   "id": "fc05f840",
   "metadata": {
    "execution": {
     "iopub.execute_input": "2022-06-03T18:00:17.719426Z",
     "iopub.status.busy": "2022-06-03T18:00:17.719072Z",
     "iopub.status.idle": "2022-06-03T18:00:17.721213Z",
     "shell.execute_reply": "2022-06-03T18:00:17.721477Z"
    },
    "papermill": {
     "duration": 0.016098,
     "end_time": "2022-06-03T18:00:17.721746",
     "exception": false,
     "start_time": "2022-06-03T18:00:17.705648",
     "status": "completed"
    },
    "tags": [
     "parameters"
    ]
   },
   "outputs": [],
   "source": [
    "# DATASET = 'no_dataset'\n",
    "DATASET = 'demo_human_or_worm'\n",
    "VERSION = 0\n",
    "BATCH_SIZE = 64\n",
    "EPOCHS = 1"
   ]
  },
  {
   "cell_type": "code",
   "execution_count": 2,
   "id": "d6753eb9",
   "metadata": {
    "execution": {
     "iopub.execute_input": "2022-06-03T18:00:17.741518Z",
     "iopub.status.busy": "2022-06-03T18:00:17.741222Z",
     "iopub.status.idle": "2022-06-03T18:00:17.742295Z",
     "shell.execute_reply": "2022-06-03T18:00:17.742517Z"
    },
    "papermill": {
     "duration": 0.01204,
     "end_time": "2022-06-03T18:00:17.742602",
     "exception": false,
     "start_time": "2022-06-03T18:00:17.730562",
     "status": "completed"
    },
    "tags": [
     "injected-parameters"
    ]
   },
   "outputs": [],
   "source": [
    "# Parameters\n",
    "DATASET = \"human_nontata_promoters\"\n"
   ]
  },
  {
   "cell_type": "code",
   "execution_count": 3,
   "id": "868d3854",
   "metadata": {
    "execution": {
     "iopub.execute_input": "2022-06-03T18:00:17.764205Z",
     "iopub.status.busy": "2022-06-03T18:00:17.762981Z",
     "iopub.status.idle": "2022-06-03T18:00:17.768568Z",
     "shell.execute_reply": "2022-06-03T18:00:17.768217Z"
    },
    "papermill": {
     "duration": 0.017485,
     "end_time": "2022-06-03T18:00:17.768678",
     "exception": false,
     "start_time": "2022-06-03T18:00:17.751193",
     "status": "completed"
    },
    "tags": []
   },
   "outputs": [
    {
     "name": "stdout",
     "output_type": "stream",
     "text": [
      "human_nontata_promoters 0 64 1\n"
     ]
    }
   ],
   "source": [
    "print(DATASET, VERSION, BATCH_SIZE, EPOCHS)"
   ]
  },
  {
   "cell_type": "markdown",
   "id": "14e61249",
   "metadata": {
    "papermill": {
     "duration": 0.00903,
     "end_time": "2022-06-03T18:00:17.788414",
     "exception": false,
     "start_time": "2022-06-03T18:00:17.779384",
     "status": "completed"
    },
    "tags": []
   },
   "source": [
    "## Config"
   ]
  },
  {
   "cell_type": "code",
   "execution_count": 4,
   "id": "860d0afa",
   "metadata": {
    "execution": {
     "iopub.execute_input": "2022-06-03T18:00:17.811589Z",
     "iopub.status.busy": "2022-06-03T18:00:17.811290Z",
     "iopub.status.idle": "2022-06-03T18:00:18.719174Z",
     "shell.execute_reply": "2022-06-03T18:00:18.718665Z"
    },
    "papermill": {
     "duration": 0.921704,
     "end_time": "2022-06-03T18:00:18.719295",
     "exception": false,
     "start_time": "2022-06-03T18:00:17.797591",
     "status": "completed"
    },
    "tags": []
   },
   "outputs": [],
   "source": [
    "import os\n",
    "import numpy as np\n",
    "import torch\n",
    "from torch import nn\n",
    "from torch.utils.data import DataLoader\n",
    "from torchtext.data.utils import get_tokenizer\n",
    "\n",
    "from genomic_benchmarks.data_check import is_downloaded, info\n",
    "from genomic_benchmarks.dataset_getters.pytorch_datasets import get_dataset\n",
    "from genomic_benchmarks.loc2seq import download_dataset\n",
    "from genomic_benchmarks.models.torch import CNN\n",
    "from genomic_benchmarks.dataset_getters.utils import coll_factory, LetterTokenizer, build_vocab, check_seq_lengths, check_config, VARIABLE_LENGTH_DATASETS"
   ]
  },
  {
   "cell_type": "code",
   "execution_count": 5,
   "id": "128dc998",
   "metadata": {
    "execution": {
     "iopub.execute_input": "2022-06-03T18:00:18.750878Z",
     "iopub.status.busy": "2022-06-03T18:00:18.750496Z",
     "iopub.status.idle": "2022-06-03T18:00:18.754703Z",
     "shell.execute_reply": "2022-06-03T18:00:18.754962Z"
    },
    "papermill": {
     "duration": 0.018789,
     "end_time": "2022-06-03T18:00:18.755045",
     "exception": false,
     "start_time": "2022-06-03T18:00:18.736256",
     "status": "completed"
    },
    "tags": []
   },
   "outputs": [],
   "source": [
    "USE_PADDING = DATASET in VARIABLE_LENGTH_DATASETS"
   ]
  },
  {
   "cell_type": "markdown",
   "id": "5cb3bf41",
   "metadata": {
    "papermill": {
     "duration": 0.009302,
     "end_time": "2022-06-03T18:00:18.773504",
     "exception": false,
     "start_time": "2022-06-03T18:00:18.764202",
     "status": "completed"
    },
    "tags": []
   },
   "source": [
    "## Choose the dataset"
   ]
  },
  {
   "cell_type": "code",
   "execution_count": 6,
   "id": "d6884b29",
   "metadata": {
    "execution": {
     "iopub.execute_input": "2022-06-03T18:00:18.795163Z",
     "iopub.status.busy": "2022-06-03T18:00:18.794057Z",
     "iopub.status.idle": "2022-06-03T18:00:44.318848Z",
     "shell.execute_reply": "2022-06-03T18:00:44.318138Z"
    },
    "papermill": {
     "duration": 25.536584,
     "end_time": "2022-06-03T18:00:44.319071",
     "exception": false,
     "start_time": "2022-06-03T18:00:18.782487",
     "status": "completed"
    },
    "tags": []
   },
   "outputs": [
    {
     "name": "stderr",
     "output_type": "stream",
     "text": [
      "/home/katarina/git/genomic_benchmarks/src/genomic_benchmarks/utils/datasets.py:50: UserWarning: No version specified. Using version 0.\n",
      "  warnings.warn(f\"No version specified. Using version {metadata['version']}.\")\n"
     ]
    },
    {
     "name": "stderr",
     "output_type": "stream",
     "text": [
      "Downloading...\n",
      "From: https://drive.google.com/uc?id=1VdUg0Zu8yfLS6QesBXwGz1PIQrTW3Ze4\n",
      "To: /home/katarina/.genomic_benchmarks/human_nontata_promoters.zip\n"
     ]
    },
    {
     "name": "stderr",
     "output_type": "stream",
     "text": [
      "\r",
      "  0%|                                                                                                                                                       | 0.00/11.8M [00:00<?, ?B/s]"
     ]
    },
    {
     "name": "stderr",
     "output_type": "stream",
     "text": [
      "\r",
      " 13%|██████████████████▉                                                                                                                           | 1.57M/11.8M [00:00<00:00, 15.4MB/s]"
     ]
    },
    {
     "name": "stderr",
     "output_type": "stream",
     "text": [
      "\r",
      "100%|██████████████████████████████████████████████████████████████████████████████████████████████████████████████████████████████████████████████| 11.8M/11.8M [00:00<00:00, 61.7MB/s]"
     ]
    },
    {
     "name": "stderr",
     "output_type": "stream",
     "text": [
      "\n"
     ]
    }
   ],
   "source": [
    "if not is_downloaded(DATASET):\n",
    "    download_dataset(DATASET, local_repo=True)"
   ]
  },
  {
   "cell_type": "code",
   "execution_count": 7,
   "id": "af84f457",
   "metadata": {
    "execution": {
     "iopub.execute_input": "2022-06-03T18:00:44.355065Z",
     "iopub.status.busy": "2022-06-03T18:00:44.353503Z",
     "iopub.status.idle": "2022-06-03T18:00:44.405450Z",
     "shell.execute_reply": "2022-06-03T18:00:44.405906Z"
    },
    "papermill": {
     "duration": 0.07007,
     "end_time": "2022-06-03T18:00:44.406059",
     "exception": false,
     "start_time": "2022-06-03T18:00:44.335989",
     "status": "completed"
    },
    "tags": []
   },
   "outputs": [
    {
     "name": "stdout",
     "output_type": "stream",
     "text": [
      "Dataset `human_nontata_promoters` has 2 classes: negative, positive.\n",
      "\n",
      "All lengths of genomic intervals equals 251.\n",
      "\n",
      "Totally 36131 sequences have been found, 27097 for training and 9034 for testing.\n"
     ]
    },
    {
     "data": {
      "text/html": [
       "<div>\n",
       "<style scoped>\n",
       "    .dataframe tbody tr th:only-of-type {\n",
       "        vertical-align: middle;\n",
       "    }\n",
       "\n",
       "    .dataframe tbody tr th {\n",
       "        vertical-align: top;\n",
       "    }\n",
       "\n",
       "    .dataframe thead th {\n",
       "        text-align: right;\n",
       "    }\n",
       "</style>\n",
       "<table border=\"1\" class=\"dataframe\">\n",
       "  <thead>\n",
       "    <tr style=\"text-align: right;\">\n",
       "      <th></th>\n",
       "      <th>train</th>\n",
       "      <th>test</th>\n",
       "    </tr>\n",
       "  </thead>\n",
       "  <tbody>\n",
       "    <tr>\n",
       "      <th>negative</th>\n",
       "      <td>12355</td>\n",
       "      <td>4119</td>\n",
       "    </tr>\n",
       "    <tr>\n",
       "      <th>positive</th>\n",
       "      <td>14742</td>\n",
       "      <td>4915</td>\n",
       "    </tr>\n",
       "  </tbody>\n",
       "</table>\n",
       "</div>"
      ],
      "text/plain": [
       "          train  test\n",
       "negative  12355  4119\n",
       "positive  14742  4915"
      ]
     },
     "execution_count": 7,
     "metadata": {},
     "output_type": "execute_result"
    }
   ],
   "source": [
    "info(DATASET, local_repo=True)"
   ]
  },
  {
   "cell_type": "code",
   "execution_count": 8,
   "id": "0230e941",
   "metadata": {
    "execution": {
     "iopub.execute_input": "2022-06-03T18:00:44.436323Z",
     "iopub.status.busy": "2022-06-03T18:00:44.435450Z",
     "iopub.status.idle": "2022-06-03T18:00:44.531555Z",
     "shell.execute_reply": "2022-06-03T18:00:44.531055Z"
    },
    "papermill": {
     "duration": 0.110924,
     "end_time": "2022-06-03T18:00:44.531676",
     "exception": false,
     "start_time": "2022-06-03T18:00:44.420752",
     "status": "completed"
    },
    "tags": []
   },
   "outputs": [],
   "source": [
    "train_dset = get_dataset(DATASET, 'train')"
   ]
  },
  {
   "cell_type": "code",
   "execution_count": 9,
   "id": "da4c7ec2",
   "metadata": {
    "execution": {
     "iopub.execute_input": "2022-06-03T18:00:44.564621Z",
     "iopub.status.busy": "2022-06-03T18:00:44.564338Z",
     "iopub.status.idle": "2022-06-03T18:00:44.942039Z",
     "shell.execute_reply": "2022-06-03T18:00:44.941546Z"
    },
    "papermill": {
     "duration": 0.391195,
     "end_time": "2022-06-03T18:00:44.942160",
     "exception": false,
     "start_time": "2022-06-03T18:00:44.550965",
     "status": "completed"
    },
    "tags": []
   },
   "outputs": [
    {
     "data": {
      "text/plain": [
       "2"
      ]
     },
     "execution_count": 9,
     "metadata": {},
     "output_type": "execute_result"
    }
   ],
   "source": [
    "NUM_CLASSES = len(set([train_dset[i][1] for i in range(len(train_dset))]))\n",
    "NUM_CLASSES"
   ]
  },
  {
   "cell_type": "markdown",
   "id": "1216cfb5",
   "metadata": {
    "papermill": {
     "duration": 0.010884,
     "end_time": "2022-06-03T18:00:44.973165",
     "exception": false,
     "start_time": "2022-06-03T18:00:44.962281",
     "status": "completed"
    },
    "tags": []
   },
   "source": [
    "## Tokenizer and vocab"
   ]
  },
  {
   "cell_type": "code",
   "execution_count": 10,
   "id": "d5d2ed78",
   "metadata": {
    "execution": {
     "iopub.execute_input": "2022-06-03T18:00:44.997970Z",
     "iopub.status.busy": "2022-06-03T18:00:44.997661Z",
     "iopub.status.idle": "2022-06-03T18:00:45.596500Z",
     "shell.execute_reply": "2022-06-03T18:00:45.597221Z"
    },
    "papermill": {
     "duration": 0.6136,
     "end_time": "2022-06-03T18:00:45.597465",
     "exception": false,
     "start_time": "2022-06-03T18:00:44.983865",
     "status": "completed"
    },
    "tags": []
   },
   "outputs": [
    {
     "name": "stdout",
     "output_type": "stream",
     "text": [
      "vocab len: 7\n",
      "{'<eos>': 6, 'G': 4, 'C': 5, 'A': 3, 'T': 2, '<bos>': 1, '<unk>': 0}\n"
     ]
    }
   ],
   "source": [
    "tokenizer = get_tokenizer(LetterTokenizer())\n",
    "vocabulary = build_vocab(train_dset, tokenizer, use_padding=USE_PADDING)\n",
    "\n",
    "print(\"vocab len:\" ,vocabulary.__len__())\n",
    "print(vocabulary.get_stoi())"
   ]
  },
  {
   "cell_type": "markdown",
   "id": "8ede0988",
   "metadata": {
    "papermill": {
     "duration": 0.010981,
     "end_time": "2022-06-03T18:00:45.625090",
     "exception": false,
     "start_time": "2022-06-03T18:00:45.614109",
     "status": "completed"
    },
    "tags": []
   },
   "source": [
    "## Dataloader and batch preparation"
   ]
  },
  {
   "cell_type": "code",
   "execution_count": 11,
   "id": "a8598b5f",
   "metadata": {
    "execution": {
     "iopub.execute_input": "2022-06-03T18:00:45.651077Z",
     "iopub.status.busy": "2022-06-03T18:00:45.650472Z",
     "iopub.status.idle": "2022-06-03T18:00:46.222889Z",
     "shell.execute_reply": "2022-06-03T18:00:46.222160Z"
    },
    "papermill": {
     "duration": 0.587244,
     "end_time": "2022-06-03T18:00:46.223074",
     "exception": false,
     "start_time": "2022-06-03T18:00:45.635830",
     "status": "completed"
    },
    "tags": []
   },
   "outputs": [
    {
     "name": "stdout",
     "output_type": "stream",
     "text": [
      "Using cpu device\n"
     ]
    },
    {
     "name": "stdout",
     "output_type": "stream",
     "text": [
      "max_seq_len  251\n"
     ]
    }
   ],
   "source": [
    "# Run on GPU or CPU\n",
    "device = 'cuda' if torch.cuda.is_available() else 'cpu'\n",
    "print('Using {} device'.format(device))\n",
    "\n",
    "max_seq_len, nn_input_len = check_seq_lengths(dataset=train_dset, use_padding=USE_PADDING)\n",
    "\n",
    "# Data Loader\n",
    "if(USE_PADDING):\n",
    "    collate = coll_factory(vocabulary, tokenizer, device, pad_to_length = nn_input_len)\n",
    "else:\n",
    "    collate = coll_factory(vocabulary, tokenizer, device, pad_to_length = None)\n",
    "\n",
    "train_loader = DataLoader(train_dset, batch_size=BATCH_SIZE, shuffle=True, collate_fn=collate)"
   ]
  },
  {
   "cell_type": "markdown",
   "id": "247b6528",
   "metadata": {
    "papermill": {
     "duration": 0.011525,
     "end_time": "2022-06-03T18:00:46.255938",
     "exception": false,
     "start_time": "2022-06-03T18:00:46.244413",
     "status": "completed"
    },
    "tags": []
   },
   "source": [
    "## Model"
   ]
  },
  {
   "cell_type": "code",
   "execution_count": 12,
   "id": "e5b4a515",
   "metadata": {
    "execution": {
     "iopub.execute_input": "2022-06-03T18:00:46.282057Z",
     "iopub.status.busy": "2022-06-03T18:00:46.281781Z",
     "iopub.status.idle": "2022-06-03T18:00:46.315713Z",
     "shell.execute_reply": "2022-06-03T18:00:46.316176Z"
    },
    "papermill": {
     "duration": 0.049395,
     "end_time": "2022-06-03T18:00:46.316324",
     "exception": false,
     "start_time": "2022-06-03T18:00:46.266929",
     "status": "completed"
    },
    "tags": []
   },
   "outputs": [],
   "source": [
    "model = CNN(\n",
    "    number_of_classes=NUM_CLASSES,\n",
    "    vocab_size=vocabulary.__len__(),\n",
    "    embedding_dim=100,\n",
    "    input_len=nn_input_len,\n",
    "    device=device\n",
    ").to(device)"
   ]
  },
  {
   "cell_type": "markdown",
   "id": "8be96444",
   "metadata": {
    "papermill": {
     "duration": 0.011539,
     "end_time": "2022-06-03T18:00:46.346308",
     "exception": false,
     "start_time": "2022-06-03T18:00:46.334769",
     "status": "completed"
    },
    "tags": []
   },
   "source": [
    "## Training"
   ]
  },
  {
   "cell_type": "code",
   "execution_count": 13,
   "id": "301cabbb",
   "metadata": {
    "execution": {
     "iopub.execute_input": "2022-06-03T18:00:46.373394Z",
     "iopub.status.busy": "2022-06-03T18:00:46.372657Z",
     "iopub.status.idle": "2022-06-03T18:00:59.974831Z",
     "shell.execute_reply": "2022-06-03T18:00:59.975053Z"
    },
    "papermill": {
     "duration": 13.616778,
     "end_time": "2022-06-03T18:00:59.975151",
     "exception": false,
     "start_time": "2022-06-03T18:00:46.358373",
     "status": "completed"
    },
    "tags": []
   },
   "outputs": [
    {
     "name": "stdout",
     "output_type": "stream",
     "text": [
      "Epoch 0\n"
     ]
    },
    {
     "name": "stdout",
     "output_type": "stream",
     "text": [
      "Train metrics: \n",
      " Accuracy: 78.9%, Avg loss: 0.573462 \n",
      "\n"
     ]
    }
   ],
   "source": [
    "model.fit(train_loader, epochs=EPOCHS)"
   ]
  },
  {
   "cell_type": "markdown",
   "id": "ff7553e5",
   "metadata": {
    "papermill": {
     "duration": 0.014491,
     "end_time": "2022-06-03T18:01:00.002905",
     "exception": false,
     "start_time": "2022-06-03T18:00:59.988414",
     "status": "completed"
    },
    "tags": []
   },
   "source": [
    "## Testing"
   ]
  },
  {
   "cell_type": "code",
   "execution_count": 14,
   "id": "fe0d906e",
   "metadata": {
    "execution": {
     "iopub.execute_input": "2022-06-03T18:01:00.036391Z",
     "iopub.status.busy": "2022-06-03T18:01:00.035663Z",
     "iopub.status.idle": "2022-06-03T18:01:02.091227Z",
     "shell.execute_reply": "2022-06-03T18:01:02.091846Z"
    },
    "papermill": {
     "duration": 2.072874,
     "end_time": "2022-06-03T18:01:02.092049",
     "exception": false,
     "start_time": "2022-06-03T18:01:00.019175",
     "status": "completed"
    },
    "tags": []
   },
   "outputs": [
    {
     "name": "stdout",
     "output_type": "stream",
     "text": [
      "Test metrics: \n",
      " Accuracy: 0.795772, F1 score: 0.781631, Avg loss: 0.570691 \n",
      "\n"
     ]
    },
    {
     "data": {
      "text/plain": [
       "(0.7957715297764003, 0.7816309622440525)"
      ]
     },
     "execution_count": 14,
     "metadata": {},
     "output_type": "execute_result"
    }
   ],
   "source": [
    "test_dset = get_dataset(DATASET, 'test')\n",
    "test_loader = DataLoader(test_dset, batch_size=BATCH_SIZE, shuffle=True, collate_fn=collate)\n",
    "\n",
    "acc, f1 = model.test(test_loader)\n",
    "acc, f1"
   ]
  }
 ],
 "metadata": {
  "environment": {
   "name": "pytorch-gpu.1-9.m75",
   "type": "gcloud",
   "uri": "gcr.io/deeplearning-platform-release/pytorch-gpu.1-9:m75"
  },
  "interpreter": {
   "hash": "5fb5174addf958ec7b3e9e5d35a565dfd5bab1ae69383cd521f52756e68c7fc3"
  },
  "kernelspec": {
   "display_name": "Python 3.8.10 ('venv': venv)",
   "language": "python",
   "name": "python3"
  },
  "language_info": {
   "codemirror_mode": {
    "name": "ipython",
    "version": 3
   },
   "file_extension": ".py",
   "mimetype": "text/x-python",
   "name": "python",
   "nbconvert_exporter": "python",
   "pygments_lexer": "ipython3",
   "version": "3.8.10"
  },
  "papermill": {
   "default_parameters": {},
   "duration": 46.023362,
   "end_time": "2022-06-03T18:01:02.530180",
   "environment_variables": {},
   "exception": null,
   "input_path": "utils/torch_cnn_classifier.ipynb",
   "output_path": "torch_cnn_experiments/human_nontata_promoters.ipynb",
   "parameters": {
    "DATASET": "human_nontata_promoters"
   },
   "start_time": "2022-06-03T18:00:16.506818",
   "version": "2.3.4"
  }
 },
 "nbformat": 4,
 "nbformat_minor": 5
}