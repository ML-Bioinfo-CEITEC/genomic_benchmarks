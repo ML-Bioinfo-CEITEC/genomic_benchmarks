{
 "cells": [
  {
   "cell_type": "markdown",
   "id": "5c548e9f",
   "metadata": {
    "papermill": {
     "duration": 0.037292,
     "end_time": "2021-11-25T17:41:48.124982",
     "exception": false,
     "start_time": "2021-11-25T17:41:48.087690",
     "status": "completed"
    },
    "tags": []
   },
   "source": [
    "# PYTORCH CNN Classifier\n",
    "\n",
    "To run this notebook on an another benchmark, use\n",
    "\n",
    "```\n",
    "papermill utils/torch_cnn_classifier.ipynb torch_cnn_experiments/[DATASET NAME].ipynb -p DATASET [DATASET NAME]\n",
    "```"
   ]
  },
  {
   "cell_type": "code",
   "execution_count": 1,
   "id": "04831b45",
   "metadata": {
    "execution": {
     "iopub.execute_input": "2021-11-25T17:41:48.195522Z",
     "iopub.status.busy": "2021-11-25T17:41:48.194561Z",
     "iopub.status.idle": "2021-11-25T17:41:48.198707Z",
     "shell.execute_reply": "2021-11-25T17:41:48.198157Z"
    },
    "papermill": {
     "duration": 0.040106,
     "end_time": "2021-11-25T17:41:48.198842",
     "exception": false,
     "start_time": "2021-11-25T17:41:48.158736",
     "status": "completed"
    },
    "tags": [
     "parameters"
    ]
   },
   "outputs": [],
   "source": [
    "# DATASET = 'no_dataset'\n",
    "DATASET = 'demo_human_or_worm'\n",
    "VERSION = 0\n",
    "BATCH_SIZE = 32\n",
    "EPOCHS = 1"
   ]
  },
  {
   "cell_type": "code",
   "execution_count": 2,
   "id": "af85fbb4",
   "metadata": {
    "execution": {
     "iopub.execute_input": "2021-11-25T17:41:48.269138Z",
     "iopub.status.busy": "2021-11-25T17:41:48.268209Z",
     "iopub.status.idle": "2021-11-25T17:41:48.270498Z",
     "shell.execute_reply": "2021-11-25T17:41:48.270997Z"
    },
    "papermill": {
     "duration": 0.039039,
     "end_time": "2021-11-25T17:41:48.271131",
     "exception": false,
     "start_time": "2021-11-25T17:41:48.232092",
     "status": "completed"
    },
    "tags": [
     "injected-parameters"
    ]
   },
   "outputs": [],
   "source": [
    "# Parameters\n",
    "DATASET = \"human_nontata_promoters\"\n",
    "EPOCHS = 10\n"
   ]
  },
  {
   "cell_type": "code",
   "execution_count": 3,
   "id": "17706fec",
   "metadata": {
    "execution": {
     "iopub.execute_input": "2021-11-25T17:41:48.339874Z",
     "iopub.status.busy": "2021-11-25T17:41:48.339239Z",
     "iopub.status.idle": "2021-11-25T17:41:48.342652Z",
     "shell.execute_reply": "2021-11-25T17:41:48.343115Z"
    },
    "papermill": {
     "duration": 0.039826,
     "end_time": "2021-11-25T17:41:48.343255",
     "exception": false,
     "start_time": "2021-11-25T17:41:48.303429",
     "status": "completed"
    },
    "tags": []
   },
   "outputs": [
    {
     "name": "stdout",
     "output_type": "stream",
     "text": [
      "human_nontata_promoters 0 32 10\n"
     ]
    }
   ],
   "source": [
    "print(DATASET, VERSION, BATCH_SIZE, EPOCHS)"
   ]
  },
  {
   "cell_type": "markdown",
   "id": "f1a8f198",
   "metadata": {
    "papermill": {
     "duration": 0.032731,
     "end_time": "2021-11-25T17:41:48.410308",
     "exception": false,
     "start_time": "2021-11-25T17:41:48.377577",
     "status": "completed"
    },
    "tags": []
   },
   "source": [
    "## Config"
   ]
  },
  {
   "cell_type": "code",
   "execution_count": 4,
   "id": "78321b0a",
   "metadata": {
    "execution": {
     "iopub.execute_input": "2021-11-25T17:41:48.481432Z",
     "iopub.status.busy": "2021-11-25T17:41:48.480866Z",
     "iopub.status.idle": "2021-11-25T17:41:49.686910Z",
     "shell.execute_reply": "2021-11-25T17:41:49.686223Z"
    },
    "papermill": {
     "duration": 1.243982,
     "end_time": "2021-11-25T17:41:49.687044",
     "exception": false,
     "start_time": "2021-11-25T17:41:48.443062",
     "status": "completed"
    },
    "tags": []
   },
   "outputs": [],
   "source": [
    "import os\n",
    "import numpy as np\n",
    "import torch\n",
    "from torch import nn\n",
    "from torch.utils.data import DataLoader\n",
    "from torchtext.data.utils import get_tokenizer\n",
    "\n",
    "from genomic_benchmarks.dataset_getters.pytorch_datasets import get_dataset\n",
    "from genomic_benchmarks.models.torch import CNN\n",
    "from genomic_benchmarks.dataset_getters.utils import coll_factory, LetterTokenizer, build_vocab, check_seq_lengths, check_config, VARIABLE_LENGTH_DATASETS"
   ]
  },
  {
   "cell_type": "code",
   "execution_count": 5,
   "id": "9693ee3b",
   "metadata": {
    "execution": {
     "iopub.execute_input": "2021-11-25T17:41:49.760322Z",
     "iopub.status.busy": "2021-11-25T17:41:49.759650Z",
     "iopub.status.idle": "2021-11-25T17:41:49.762365Z",
     "shell.execute_reply": "2021-11-25T17:41:49.762804Z"
    },
    "papermill": {
     "duration": 0.042266,
     "end_time": "2021-11-25T17:41:49.762986",
     "exception": false,
     "start_time": "2021-11-25T17:41:49.720720",
     "status": "completed"
    },
    "tags": []
   },
   "outputs": [],
   "source": [
    "USE_PADDING = DATASET in VARIABLE_LENGTH_DATASETS\n",
    "    \n",
    "config = {\n",
    "    \"dataset\": DATASET,\n",
    "    \"dataset_version\": VERSION,\n",
    "    \"epochs\": EPOCHS,\n",
    "    \"batch_size\": BATCH_SIZE,\n",
    "    \"use_padding\": USE_PADDING,\n",
    "    \"force_download\": False,\n",
    "    \"run_on_gpu\": True,\n",
    "    \"number_of_classes\": 2,\n",
    "    \"embedding_dim\": 100,\n",
    "}\n",
    "check_config(config)"
   ]
  },
  {
   "cell_type": "markdown",
   "id": "19e239b6",
   "metadata": {
    "papermill": {
     "duration": 0.032926,
     "end_time": "2021-11-25T17:41:49.830739",
     "exception": false,
     "start_time": "2021-11-25T17:41:49.797813",
     "status": "completed"
    },
    "tags": []
   },
   "source": [
    "## Choose the dataset"
   ]
  },
  {
   "cell_type": "code",
   "execution_count": 6,
   "id": "714ae961",
   "metadata": {
    "execution": {
     "iopub.execute_input": "2021-11-25T17:41:49.901399Z",
     "iopub.status.busy": "2021-11-25T17:41:49.900785Z",
     "iopub.status.idle": "2021-11-25T17:41:49.962789Z",
     "shell.execute_reply": "2021-11-25T17:41:49.962173Z"
    },
    "papermill": {
     "duration": 0.099434,
     "end_time": "2021-11-25T17:41:49.962957",
     "exception": false,
     "start_time": "2021-11-25T17:41:49.863523",
     "status": "completed"
    },
    "tags": []
   },
   "outputs": [],
   "source": [
    "train_dset = get_dataset(config[\"dataset\"], 'train')"
   ]
  },
  {
   "cell_type": "markdown",
   "id": "0c47d844",
   "metadata": {
    "papermill": {
     "duration": 0.033599,
     "end_time": "2021-11-25T17:41:50.031067",
     "exception": false,
     "start_time": "2021-11-25T17:41:49.997468",
     "status": "completed"
    },
    "tags": []
   },
   "source": [
    "## Tokenizer and vocab"
   ]
  },
  {
   "cell_type": "code",
   "execution_count": 7,
   "id": "2258a4da",
   "metadata": {
    "execution": {
     "iopub.execute_input": "2021-11-25T17:41:50.103453Z",
     "iopub.status.busy": "2021-11-25T17:41:50.102049Z",
     "iopub.status.idle": "2021-11-25T17:42:26.283974Z",
     "shell.execute_reply": "2021-11-25T17:42:26.284499Z"
    },
    "papermill": {
     "duration": 36.220357,
     "end_time": "2021-11-25T17:42:26.284762",
     "exception": false,
     "start_time": "2021-11-25T17:41:50.064405",
     "status": "completed"
    },
    "tags": []
   },
   "outputs": [
    {
     "name": "stdout",
     "output_type": "stream",
     "text": [
      "vocab len: 7\n",
      "{'T': 4, '<eos>': 6, 'G': 3, 'C': 5, 'A': 2, '<bos>': 1, '<unk>': 0}\n"
     ]
    }
   ],
   "source": [
    "tokenizer = get_tokenizer(LetterTokenizer())\n",
    "vocabulary = build_vocab(train_dset, tokenizer, use_padding=config[\"use_padding\"])\n",
    "\n",
    "print(\"vocab len:\" ,vocabulary.__len__())\n",
    "print(vocabulary.get_stoi())"
   ]
  },
  {
   "cell_type": "markdown",
   "id": "6c98baf9",
   "metadata": {
    "papermill": {
     "duration": 0.038939,
     "end_time": "2021-11-25T17:42:26.357531",
     "exception": false,
     "start_time": "2021-11-25T17:42:26.318592",
     "status": "completed"
    },
    "tags": []
   },
   "source": [
    "## Dataloader and batch preparation"
   ]
  },
  {
   "cell_type": "code",
   "execution_count": 8,
   "id": "813b0af0",
   "metadata": {
    "execution": {
     "iopub.execute_input": "2021-11-25T17:42:26.442028Z",
     "iopub.status.busy": "2021-11-25T17:42:26.441433Z",
     "iopub.status.idle": "2021-11-25T17:42:27.786071Z",
     "shell.execute_reply": "2021-11-25T17:42:27.785488Z"
    },
    "papermill": {
     "duration": 1.393863,
     "end_time": "2021-11-25T17:42:27.786196",
     "exception": false,
     "start_time": "2021-11-25T17:42:26.392333",
     "status": "completed"
    },
    "tags": []
   },
   "outputs": [
    {
     "name": "stdout",
     "output_type": "stream",
     "text": [
      "Using cuda device\n"
     ]
    },
    {
     "name": "stdout",
     "output_type": "stream",
     "text": [
      "max_seq_len  251\n"
     ]
    }
   ],
   "source": [
    "# Run on GPU or CPU\n",
    "device = 'cuda' if config[\"run_on_gpu\"] and torch.cuda.is_available() else 'cpu'\n",
    "print('Using {} device'.format(device))\n",
    "\n",
    "max_seq_len, nn_input_len = check_seq_lengths(dataset=train_dset, config=config)\n",
    "\n",
    "# Data Loader\n",
    "if(config[\"use_padding\"]):\n",
    "    collate = coll_factory(vocabulary, tokenizer, device, pad_to_length = nn_input_len)\n",
    "else:\n",
    "    collate = coll_factory(vocabulary, tokenizer, device, pad_to_length = None)\n",
    "\n",
    "train_loader = DataLoader(train_dset, batch_size=config[\"batch_size\"], shuffle=True, collate_fn=collate)"
   ]
  },
  {
   "cell_type": "markdown",
   "id": "8221ffda",
   "metadata": {
    "papermill": {
     "duration": 0.035184,
     "end_time": "2021-11-25T17:42:27.857189",
     "exception": false,
     "start_time": "2021-11-25T17:42:27.822005",
     "status": "completed"
    },
    "tags": []
   },
   "source": [
    "## Model"
   ]
  },
  {
   "cell_type": "code",
   "execution_count": 9,
   "id": "2433173b",
   "metadata": {
    "execution": {
     "iopub.execute_input": "2021-11-25T17:42:27.933754Z",
     "iopub.status.busy": "2021-11-25T17:42:27.933090Z",
     "iopub.status.idle": "2021-11-25T17:42:29.590764Z",
     "shell.execute_reply": "2021-11-25T17:42:29.590186Z"
    },
    "papermill": {
     "duration": 1.698084,
     "end_time": "2021-11-25T17:42:29.590922",
     "exception": false,
     "start_time": "2021-11-25T17:42:27.892838",
     "status": "completed"
    },
    "tags": []
   },
   "outputs": [
    {
     "name": "stderr",
     "output_type": "stream",
     "text": [
      "/opt/conda/envs/bench_env/lib/python3.8/site-packages/torch/nn/functional.py:652: UserWarning: Named tensors and all their associated APIs are an experimental feature and subject to change. Please do not use them for anything important until they are released as stable. (Triggered internally at  /opt/conda/conda-bld/pytorch_1623448278899/work/c10/core/TensorImpl.h:1156.)\n",
      "  return torch.max_pool1d(input, kernel_size, stride, padding, dilation, ceil_mode)\n"
     ]
    }
   ],
   "source": [
    "model = CNN(\n",
    "    number_of_classes=config[\"number_of_classes\"],\n",
    "    vocab_size=vocabulary.__len__(),\n",
    "    embedding_dim=config[\"embedding_dim\"],\n",
    "    input_len=nn_input_len\n",
    ").to(device)"
   ]
  },
  {
   "cell_type": "markdown",
   "id": "8d432925",
   "metadata": {
    "papermill": {
     "duration": 0.036014,
     "end_time": "2021-11-25T17:42:29.664220",
     "exception": false,
     "start_time": "2021-11-25T17:42:29.628206",
     "status": "completed"
    },
    "tags": []
   },
   "source": [
    "## Training"
   ]
  },
  {
   "cell_type": "code",
   "execution_count": 10,
   "id": "b3775bbf",
   "metadata": {
    "execution": {
     "iopub.execute_input": "2021-11-25T17:42:29.741293Z",
     "iopub.status.busy": "2021-11-25T17:42:29.739765Z",
     "iopub.status.idle": "2021-11-25T17:45:30.346644Z",
     "shell.execute_reply": "2021-11-25T17:45:30.347105Z"
    },
    "papermill": {
     "duration": 180.647663,
     "end_time": "2021-11-25T17:45:30.347314",
     "exception": false,
     "start_time": "2021-11-25T17:42:29.699651",
     "status": "completed"
    },
    "tags": []
   },
   "outputs": [
    {
     "name": "stdout",
     "output_type": "stream",
     "text": [
      "Epoch 0\n"
     ]
    },
    {
     "name": "stdout",
     "output_type": "stream",
     "text": [
      "Train metrics: \n",
      " Accuracy: 80.7%, Avg loss: 0.614308 \n",
      "\n",
      "Epoch 1\n"
     ]
    },
    {
     "name": "stdout",
     "output_type": "stream",
     "text": [
      "Train metrics: \n",
      " Accuracy: 81.1%, Avg loss: 0.605598 \n",
      "\n",
      "Epoch 2\n"
     ]
    },
    {
     "name": "stdout",
     "output_type": "stream",
     "text": [
      "Train metrics: \n",
      " Accuracy: 83.3%, Avg loss: 0.605208 \n",
      "\n",
      "Epoch 3\n"
     ]
    },
    {
     "name": "stdout",
     "output_type": "stream",
     "text": [
      "Train metrics: \n",
      " Accuracy: 81.6%, Avg loss: 0.610705 \n",
      "\n",
      "Epoch 4\n"
     ]
    },
    {
     "name": "stdout",
     "output_type": "stream",
     "text": [
      "Train metrics: \n",
      " Accuracy: 84.1%, Avg loss: 0.599947 \n",
      "\n",
      "Epoch 5\n"
     ]
    },
    {
     "name": "stdout",
     "output_type": "stream",
     "text": [
      "Train metrics: \n",
      " Accuracy: 84.0%, Avg loss: 0.602489 \n",
      "\n",
      "Epoch 6\n"
     ]
    },
    {
     "name": "stdout",
     "output_type": "stream",
     "text": [
      "Train metrics: \n",
      " Accuracy: 84.4%, Avg loss: 0.599660 \n",
      "\n",
      "Epoch 7\n"
     ]
    },
    {
     "name": "stdout",
     "output_type": "stream",
     "text": [
      "Train metrics: \n",
      " Accuracy: 84.3%, Avg loss: 0.594696 \n",
      "\n",
      "Epoch 8\n"
     ]
    },
    {
     "name": "stdout",
     "output_type": "stream",
     "text": [
      "Train metrics: \n",
      " Accuracy: 85.3%, Avg loss: 0.592686 \n",
      "\n",
      "Epoch 9\n"
     ]
    },
    {
     "name": "stdout",
     "output_type": "stream",
     "text": [
      "Train metrics: \n",
      " Accuracy: 85.4%, Avg loss: 0.592321 \n",
      "\n"
     ]
    }
   ],
   "source": [
    "model.train(train_loader, epochs=config[\"epochs\"])"
   ]
  },
  {
   "cell_type": "markdown",
   "id": "15d5e30c",
   "metadata": {
    "papermill": {
     "duration": 0.044352,
     "end_time": "2021-11-25T17:45:30.438247",
     "exception": false,
     "start_time": "2021-11-25T17:45:30.393895",
     "status": "completed"
    },
    "tags": []
   },
   "source": [
    "## Testing"
   ]
  },
  {
   "cell_type": "code",
   "execution_count": 11,
   "id": "c3d39408",
   "metadata": {
    "execution": {
     "iopub.execute_input": "2021-11-25T17:45:30.536938Z",
     "iopub.status.busy": "2021-11-25T17:45:30.536295Z",
     "iopub.status.idle": "2021-11-25T17:45:40.903155Z",
     "shell.execute_reply": "2021-11-25T17:45:40.902681Z"
    },
    "papermill": {
     "duration": 10.418115,
     "end_time": "2021-11-25T17:45:40.903301",
     "exception": false,
     "start_time": "2021-11-25T17:45:30.485186",
     "status": "completed"
    },
    "tags": []
   },
   "outputs": [
    {
     "name": "stdout",
     "output_type": "stream",
     "text": [
      "p  4119 ; tp  3345.9705214500427 ; fp  767.6821579724144\n",
      "recall  0.8123259338310374 ; precision  0.813381873046172\n",
      "num_batches 283\n",
      "correct 7500\n",
      "size 9034\n",
      "Test metrics: \n",
      " Accuracy: 0.830197, F1 score: 0.812854, Avg loss: 0.603643 \n",
      "\n"
     ]
    },
    {
     "data": {
      "text/plain": [
       "(0.8301970334292672, 0.8128535605087064)"
      ]
     },
     "execution_count": 11,
     "metadata": {},
     "output_type": "execute_result"
    }
   ],
   "source": [
    "test_dset = get_dataset(config[\"dataset\"], 'test')\n",
    "test_loader = DataLoader(test_dset, batch_size=config[\"batch_size\"], shuffle=True, collate_fn=collate)\n",
    "\n",
    "acc, f1 = model.test(test_loader)\n",
    "acc, f1"
   ]
  }
 ],
 "metadata": {
  "environment": {
   "name": "pytorch-gpu.1-9.m75",
   "type": "gcloud",
   "uri": "gcr.io/deeplearning-platform-release/pytorch-gpu.1-9:m75"
  },
  "interpreter": {
   "hash": "9828b828580f1cac1b571b33de6cff8bacecc8916095e1bcbc967952ca7105b7"
  },
  "kernelspec": {
   "display_name": "conda-env-bench_env-py",
   "language": "python",
   "name": "bench_env"
  },
  "language_info": {
   "codemirror_mode": {
    "name": "ipython",
    "version": 3
   },
   "file_extension": ".py",
   "mimetype": "text/x-python",
   "name": "python",
   "nbconvert_exporter": "python",
   "pygments_lexer": "ipython3",
   "version": "3.8.10"
  },
  "papermill": {
   "default_parameters": {},
   "duration": 235.331411,
   "end_time": "2021-11-25T17:45:42.282864",
   "environment_variables": {},
   "exception": null,
   "input_path": "utils/torch_cnn_classifier.ipynb",
   "output_path": "torch_cnn_experiments/human_nontata_promoters.ipynb",
   "parameters": {
    "DATASET": "human_nontata_promoters",
    "EPOCHS": 10
   },
   "start_time": "2021-11-25T17:41:46.951453",
   "version": "2.3.3"
  }
 },
 "nbformat": 4,
 "nbformat_minor": 5
}