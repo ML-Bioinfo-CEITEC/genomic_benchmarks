{
 "cells": [
  {
   "cell_type": "code",
   "execution_count": 1,
   "id": "5a6960eb",
   "metadata": {
    "execution": {
     "iopub.execute_input": "2021-11-01T19:37:09.896339Z",
     "iopub.status.busy": "2021-11-01T19:37:09.895800Z",
     "iopub.status.idle": "2021-11-01T19:37:09.900931Z",
     "shell.execute_reply": "2021-11-01T19:37:09.900305Z"
    },
    "papermill": {
     "duration": 0.021163,
     "end_time": "2021-11-01T19:37:09.901126",
     "exception": false,
     "start_time": "2021-11-01T19:37:09.879963",
     "status": "completed"
    },
    "tags": [
     "parameters"
    ]
   },
   "outputs": [],
   "source": [
    "DATASET = 'no_dataset'\n",
    "VERSION = 0\n",
    "BATCH_SIZE = 32\n",
    "EPOCHS = 10"
   ]
  },
  {
   "cell_type": "code",
   "execution_count": 2,
   "id": "1f8907be",
   "metadata": {
    "execution": {
     "iopub.execute_input": "2021-11-01T19:37:09.927201Z",
     "iopub.status.busy": "2021-11-01T19:37:09.926367Z",
     "iopub.status.idle": "2021-11-01T19:37:09.929491Z",
     "shell.execute_reply": "2021-11-01T19:37:09.928927Z"
    },
    "papermill": {
     "duration": 0.017486,
     "end_time": "2021-11-01T19:37:09.929627",
     "exception": false,
     "start_time": "2021-11-01T19:37:09.912141",
     "status": "completed"
    },
    "tags": [
     "injected-parameters"
    ]
   },
   "outputs": [],
   "source": [
    "# Parameters\n",
    "DATASET = \"human_nontata_promoters\"\n"
   ]
  },
  {
   "cell_type": "code",
   "execution_count": 3,
   "id": "355156f1",
   "metadata": {
    "execution": {
     "iopub.execute_input": "2021-11-01T19:37:09.955627Z",
     "iopub.status.busy": "2021-11-01T19:37:09.954523Z",
     "iopub.status.idle": "2021-11-01T19:37:09.958396Z",
     "shell.execute_reply": "2021-11-01T19:37:09.959233Z"
    },
    "papermill": {
     "duration": 0.019781,
     "end_time": "2021-11-01T19:37:09.959472",
     "exception": false,
     "start_time": "2021-11-01T19:37:09.939691",
     "status": "completed"
    },
    "tags": []
   },
   "outputs": [
    {
     "name": "stdout",
     "output_type": "stream",
     "text": [
      "human_nontata_promoters 0 32 10\n"
     ]
    }
   ],
   "source": [
    "print(DATASET, VERSION, BATCH_SIZE, EPOCHS)"
   ]
  },
  {
   "cell_type": "markdown",
   "id": "1a11941c",
   "metadata": {
    "papermill": {
     "duration": 0.010371,
     "end_time": "2021-11-01T19:37:09.985563",
     "exception": false,
     "start_time": "2021-11-01T19:37:09.975192",
     "status": "completed"
    },
    "tags": []
   },
   "source": [
    "## Config"
   ]
  },
  {
   "cell_type": "code",
   "execution_count": 4,
   "id": "3c9555e7",
   "metadata": {
    "execution": {
     "iopub.execute_input": "2021-11-01T19:37:10.012638Z",
     "iopub.status.busy": "2021-11-01T19:37:10.011491Z",
     "iopub.status.idle": "2021-11-01T19:37:11.261905Z",
     "shell.execute_reply": "2021-11-01T19:37:11.261268Z"
    },
    "papermill": {
     "duration": 1.26618,
     "end_time": "2021-11-01T19:37:11.262078",
     "exception": false,
     "start_time": "2021-11-01T19:37:09.995898",
     "status": "completed"
    },
    "tags": []
   },
   "outputs": [],
   "source": [
    "import os\n",
    "import numpy as np\n",
    "import torch\n",
    "from torch import nn\n",
    "from torch.utils.data import DataLoader\n",
    "from torchtext.data.utils import get_tokenizer\n",
    "\n",
    "from genomic_benchmarks.dataset_getters.pytorch_datasets import get_dataset\n",
    "from genomic_benchmarks.models.torch_cnn import CNN\n",
    "from genomic_benchmarks.dataset_getters.utils import coll_factory, LetterTokenizer, build_vocab, check_seq_lengths, check_config, VARIABLE_LENGTH_DATASETS\n",
    "from genomic_benchmarks.data_check import list_datasets, info\n"
   ]
  },
  {
   "cell_type": "code",
   "execution_count": 5,
   "id": "d1075b54",
   "metadata": {
    "execution": {
     "iopub.execute_input": "2021-11-01T19:37:11.297234Z",
     "iopub.status.busy": "2021-11-01T19:37:11.296111Z",
     "iopub.status.idle": "2021-11-01T19:37:11.297822Z",
     "shell.execute_reply": "2021-11-01T19:37:11.296614Z"
    },
    "papermill": {
     "duration": 0.023969,
     "end_time": "2021-11-01T19:37:11.297937",
     "exception": false,
     "start_time": "2021-11-01T19:37:11.273968",
     "status": "completed"
    },
    "tags": []
   },
   "outputs": [],
   "source": [
    "if DATASET == \"human_nontata_promoters\":\n",
    "    VOCAB_TO_ADD = [\"N\"]\n",
    "else:\n",
    "    VOCAB_TO_ADD = []\n",
    "\n",
    "USE_PADDING = DATASET in VARIABLE_LENGTH_DATASETS\n",
    "    \n",
    "config = {\n",
    "    \"use_padding\": USE_PADDING,\n",
    "    \"run_on_gpu\": True,\n",
    "    \"dataset\": DATASET,\n",
    "    \"number_of_classes\": 2,\n",
    "    \"dataset_version\": VERSION,\n",
    "    \"force_download\": False,\n",
    "    \"epochs\": EPOCHS,\n",
    "    \"embedding_dim\": 100,\n",
    "    \"batch_size\": BATCH_SIZE,\n",
    "#   vocabulary that is not present in the training set but is present in the test set\n",
    "    \"vocab_to_add\": VOCAB_TO_ADD,\n",
    "}\n",
    "# check_config(config)"
   ]
  },
  {
   "cell_type": "markdown",
   "id": "022a9ce5",
   "metadata": {
    "papermill": {
     "duration": 0.012159,
     "end_time": "2021-11-01T19:37:11.320883",
     "exception": false,
     "start_time": "2021-11-01T19:37:11.308724",
     "status": "completed"
    },
    "tags": []
   },
   "source": [
    "## Choose the dataset"
   ]
  },
  {
   "cell_type": "code",
   "execution_count": 6,
   "id": "5d65c062",
   "metadata": {
    "execution": {
     "iopub.execute_input": "2021-11-01T19:37:11.349438Z",
     "iopub.status.busy": "2021-11-01T19:37:11.346449Z",
     "iopub.status.idle": "2021-11-01T19:37:38.666785Z",
     "shell.execute_reply": "2021-11-01T19:37:38.666175Z"
    },
    "papermill": {
     "duration": 27.334924,
     "end_time": "2021-11-01T19:37:38.666947",
     "exception": false,
     "start_time": "2021-11-01T19:37:11.332023",
     "status": "completed"
    },
    "tags": []
   },
   "outputs": [
    {
     "name": "stderr",
     "output_type": "stream",
     "text": [
      "/home/jupyter/genomic_benchmarks/src/genomic_benchmarks/loc2seq/with_biopython.py:96: UserWarning: No version specified. Using version 0.\n",
      "  warnings.warn(f\"No version specified. Using version {metadata['version']}.\")\n"
     ]
    },
    {
     "name": "stdout",
     "output_type": "stream",
     "text": [
      "Downloading 1VdUg0Zu8yfLS6QesBXwGz1PIQrTW3Ze4 into /home/jupyter/.genomic_benchmarks/translated_human_nontata_promoters/human_nontata_promoters.zip... "
     ]
    },
    {
     "name": "stdout",
     "output_type": "stream",
     "text": [
      "Done.\n",
      "Unzipping..."
     ]
    },
    {
     "name": "stdout",
     "output_type": "stream",
     "text": [
      "Done.\n"
     ]
    }
   ],
   "source": [
    "train_dset = get_dataset(config[\"dataset\"], 'train')"
   ]
  },
  {
   "cell_type": "markdown",
   "id": "ff02be9c",
   "metadata": {
    "papermill": {
     "duration": 0.011957,
     "end_time": "2021-11-01T19:37:38.691099",
     "exception": false,
     "start_time": "2021-11-01T19:37:38.679142",
     "status": "completed"
    },
    "tags": []
   },
   "source": [
    "## Tokenizer and vocab"
   ]
  },
  {
   "cell_type": "code",
   "execution_count": 7,
   "id": "308c5ffa",
   "metadata": {
    "execution": {
     "iopub.execute_input": "2021-11-01T19:37:38.719687Z",
     "iopub.status.busy": "2021-11-01T19:37:38.718774Z",
     "iopub.status.idle": "2021-11-01T19:37:40.129915Z",
     "shell.execute_reply": "2021-11-01T19:37:40.129437Z"
    },
    "papermill": {
     "duration": 1.427508,
     "end_time": "2021-11-01T19:37:40.130046",
     "exception": false,
     "start_time": "2021-11-01T19:37:38.702538",
     "status": "completed"
    },
    "tags": []
   },
   "outputs": [
    {
     "name": "stdout",
     "output_type": "stream",
     "text": [
      "vocab len: 7\n",
      "{'N': 6, 'T': 3, '<eos>': 5, 'G': 2, 'C': 4, 'A': 1, '<bos>': 0}\n"
     ]
    }
   ],
   "source": [
    "tokenizer = get_tokenizer(LetterTokenizer())\n",
    "vocabulary = build_vocab(train_dset, tokenizer, use_padding=config[\"use_padding\"])\n",
    "if(config[\"vocab_to_add\"]):\n",
    "    for token in config[\"vocab_to_add\"]:\n",
    "        vocabulary.append_token(token)\n",
    "\n",
    "print(\"vocab len:\" ,vocabulary.__len__())\n",
    "print(vocabulary.get_stoi())"
   ]
  },
  {
   "cell_type": "markdown",
   "id": "814fc09a",
   "metadata": {
    "papermill": {
     "duration": 0.012067,
     "end_time": "2021-11-01T19:37:40.154662",
     "exception": false,
     "start_time": "2021-11-01T19:37:40.142595",
     "status": "completed"
    },
    "tags": []
   },
   "source": [
    "## Dataloader and batch preparation"
   ]
  },
  {
   "cell_type": "code",
   "execution_count": 8,
   "id": "6cbc1e41",
   "metadata": {
    "execution": {
     "iopub.execute_input": "2021-11-01T19:37:42.202195Z",
     "iopub.status.busy": "2021-11-01T19:37:40.181145Z",
     "iopub.status.idle": "2021-11-01T19:37:43.559873Z",
     "shell.execute_reply": "2021-11-01T19:37:43.559372Z"
    },
    "papermill": {
     "duration": 3.39312,
     "end_time": "2021-11-01T19:37:43.560010",
     "exception": false,
     "start_time": "2021-11-01T19:37:40.166890",
     "status": "completed"
    },
    "tags": []
   },
   "outputs": [
    {
     "name": "stdout",
     "output_type": "stream",
     "text": [
      "Using cuda device\n"
     ]
    },
    {
     "name": "stdout",
     "output_type": "stream",
     "text": [
      "max_seq_len  251\n"
     ]
    }
   ],
   "source": [
    "# Run on GPU or CPU\n",
    "device = 'cuda' if config[\"run_on_gpu\"] and torch.cuda.is_available() else 'cpu'\n",
    "print('Using {} device'.format(device))\n",
    "\n",
    "max_seq_len, nn_input_len = check_seq_lengths(dataset=train_dset, config=config)\n",
    "\n",
    "# Data Loader\n",
    "if(config[\"use_padding\"]):\n",
    "    collate = coll_factory(vocabulary, tokenizer, device, pad_to_length = nn_input_len)\n",
    "else:\n",
    "    collate = coll_factory(vocabulary, tokenizer, device, pad_to_length = None)\n",
    "\n",
    "train_loader = DataLoader(train_dset, batch_size=config[\"batch_size\"], shuffle=True, collate_fn=collate)"
   ]
  },
  {
   "cell_type": "markdown",
   "id": "a228ea5b",
   "metadata": {
    "papermill": {
     "duration": 0.012555,
     "end_time": "2021-11-01T19:37:43.585994",
     "exception": false,
     "start_time": "2021-11-01T19:37:43.573439",
     "status": "completed"
    },
    "tags": []
   },
   "source": [
    "## Model"
   ]
  },
  {
   "cell_type": "code",
   "execution_count": 9,
   "id": "cabbab16",
   "metadata": {
    "execution": {
     "iopub.execute_input": "2021-11-01T19:37:43.617498Z",
     "iopub.status.busy": "2021-11-01T19:37:43.616857Z",
     "iopub.status.idle": "2021-11-01T19:37:45.249970Z",
     "shell.execute_reply": "2021-11-01T19:37:45.250409Z"
    },
    "papermill": {
     "duration": 1.651806,
     "end_time": "2021-11-01T19:37:45.250616",
     "exception": false,
     "start_time": "2021-11-01T19:37:43.598810",
     "status": "completed"
    },
    "tags": []
   },
   "outputs": [
    {
     "name": "stderr",
     "output_type": "stream",
     "text": [
      "/opt/conda/envs/bench_env/lib/python3.8/site-packages/torch/nn/functional.py:652: UserWarning: Named tensors and all their associated APIs are an experimental feature and subject to change. Please do not use them for anything important until they are released as stable. (Triggered internally at  /opt/conda/conda-bld/pytorch_1623448278899/work/c10/core/TensorImpl.h:1156.)\n",
      "  return torch.max_pool1d(input, kernel_size, stride, padding, dilation, ceil_mode)\n"
     ]
    }
   ],
   "source": [
    "model = CNN(\n",
    "    number_of_classes=config[\"number_of_classes\"],\n",
    "    vocab_size=vocabulary.__len__(),\n",
    "    embedding_dim=config[\"embedding_dim\"],\n",
    "    input_len=nn_input_len\n",
    ").to(device)"
   ]
  },
  {
   "cell_type": "markdown",
   "id": "3c9c959f",
   "metadata": {
    "papermill": {
     "duration": 0.013245,
     "end_time": "2021-11-01T19:37:45.278151",
     "exception": false,
     "start_time": "2021-11-01T19:37:45.264906",
     "status": "completed"
    },
    "tags": []
   },
   "source": [
    "## Training"
   ]
  },
  {
   "cell_type": "code",
   "execution_count": 10,
   "id": "f3f0c590",
   "metadata": {
    "execution": {
     "iopub.execute_input": "2021-11-01T19:37:45.310357Z",
     "iopub.status.busy": "2021-11-01T19:37:45.309686Z",
     "iopub.status.idle": "2021-11-01T19:40:44.740368Z",
     "shell.execute_reply": "2021-11-01T19:40:44.740992Z"
    },
    "papermill": {
     "duration": 179.449987,
     "end_time": "2021-11-01T19:40:44.741204",
     "exception": false,
     "start_time": "2021-11-01T19:37:45.291217",
     "status": "completed"
    },
    "tags": []
   },
   "outputs": [
    {
     "name": "stdout",
     "output_type": "stream",
     "text": [
      "Epoch 0\n"
     ]
    },
    {
     "name": "stdout",
     "output_type": "stream",
     "text": [
      "Train metrics: \n",
      " Accuracy: 80.3%, Avg loss: 0.617644 \n",
      "\n",
      "Epoch 1\n"
     ]
    },
    {
     "name": "stdout",
     "output_type": "stream",
     "text": [
      "Train metrics: \n",
      " Accuracy: 82.5%, Avg loss: 0.603673 \n",
      "\n",
      "Epoch 2\n"
     ]
    },
    {
     "name": "stdout",
     "output_type": "stream",
     "text": [
      "Train metrics: \n",
      " Accuracy: 82.2%, Avg loss: 0.600597 \n",
      "\n",
      "Epoch 3\n"
     ]
    },
    {
     "name": "stdout",
     "output_type": "stream",
     "text": [
      "Train metrics: \n",
      " Accuracy: 84.2%, Avg loss: 0.595580 \n",
      "\n",
      "Epoch 4\n"
     ]
    },
    {
     "name": "stdout",
     "output_type": "stream",
     "text": [
      "Train metrics: \n",
      " Accuracy: 82.5%, Avg loss: 0.597363 \n",
      "\n",
      "Epoch 5\n"
     ]
    },
    {
     "name": "stdout",
     "output_type": "stream",
     "text": [
      "Train metrics: \n",
      " Accuracy: 79.5%, Avg loss: 0.606323 \n",
      "\n",
      "Epoch 6\n"
     ]
    },
    {
     "name": "stdout",
     "output_type": "stream",
     "text": [
      "Train metrics: \n",
      " Accuracy: 82.5%, Avg loss: 0.597279 \n",
      "\n",
      "Epoch 7\n"
     ]
    },
    {
     "name": "stdout",
     "output_type": "stream",
     "text": [
      "Train metrics: \n",
      " Accuracy: 83.4%, Avg loss: 0.594507 \n",
      "\n",
      "Epoch 8\n"
     ]
    },
    {
     "name": "stdout",
     "output_type": "stream",
     "text": [
      "Train metrics: \n",
      " Accuracy: 84.8%, Avg loss: 0.592432 \n",
      "\n",
      "Epoch 9\n"
     ]
    },
    {
     "name": "stdout",
     "output_type": "stream",
     "text": [
      "Train metrics: \n",
      " Accuracy: 85.6%, Avg loss: 0.587404 \n",
      "\n"
     ]
    }
   ],
   "source": [
    "model.train(train_loader, epochs=config[\"epochs\"])"
   ]
  },
  {
   "cell_type": "markdown",
   "id": "4ceefc8d",
   "metadata": {
    "papermill": {
     "duration": 0.015725,
     "end_time": "2021-11-01T19:40:44.776762",
     "exception": false,
     "start_time": "2021-11-01T19:40:44.761037",
     "status": "completed"
    },
    "tags": []
   },
   "source": [
    "## Testing"
   ]
  },
  {
   "cell_type": "code",
   "execution_count": 11,
   "id": "195f87e1",
   "metadata": {
    "execution": {
     "iopub.execute_input": "2021-11-01T19:40:44.816951Z",
     "iopub.status.busy": "2021-11-01T19:40:44.816029Z",
     "iopub.status.idle": "2021-11-01T19:41:13.894725Z",
     "shell.execute_reply": "2021-11-01T19:41:13.894107Z"
    },
    "papermill": {
     "duration": 29.101331,
     "end_time": "2021-11-01T19:41:13.894851",
     "exception": false,
     "start_time": "2021-11-01T19:40:44.793520",
     "status": "completed"
    },
    "tags": []
   },
   "outputs": [
    {
     "name": "stdout",
     "output_type": "stream",
     "text": [
      "Downloading 1VdUg0Zu8yfLS6QesBXwGz1PIQrTW3Ze4 into /home/jupyter/.genomic_benchmarks/translated_human_nontata_promoters/human_nontata_promoters.zip... "
     ]
    },
    {
     "name": "stdout",
     "output_type": "stream",
     "text": [
      "Done.\n",
      "Unzipping..."
     ]
    },
    {
     "name": "stdout",
     "output_type": "stream",
     "text": [
      "Done.\n"
     ]
    },
    {
     "name": "stdout",
     "output_type": "stream",
     "text": [
      "test_loss  169.81652423739433\n",
      "num_batches 283\n",
      "correct 7498\n",
      "size 9034\n",
      "Test Error: \n",
      " Accuracy: 83.0%, Avg loss: 0.600058 \n",
      "\n"
     ]
    }
   ],
   "source": [
    "# test_dset = get_dataset_fn('test', force_download=config[\"force_download\"], version=config[\"dataset_version\"])\n",
    "test_dset = get_dataset(config[\"dataset\"], 'test')\n",
    "test_loader = DataLoader(test_dset, batch_size=config[\"batch_size\"], shuffle=True, collate_fn=collate)\n",
    "\n",
    "model.test(test_loader)"
   ]
  },
  {
   "cell_type": "code",
   "execution_count": null,
   "id": "8f901a1a",
   "metadata": {
    "papermill": {
     "duration": 0.017704,
     "end_time": "2021-11-01T19:41:13.930387",
     "exception": false,
     "start_time": "2021-11-01T19:41:13.912683",
     "status": "completed"
    },
    "tags": []
   },
   "outputs": [],
   "source": []
  }
 ],
 "metadata": {
  "environment": {
   "name": "pytorch-gpu.1-9.m75",
   "type": "gcloud",
   "uri": "gcr.io/deeplearning-platform-release/pytorch-gpu.1-9:m75"
  },
  "interpreter": {
   "hash": "9828b828580f1cac1b571b33de6cff8bacecc8916095e1bcbc967952ca7105b7"
  },
  "kernelspec": {
   "display_name": "Python [conda env:bench_env]",
   "language": "python",
   "name": "conda-env-bench_env-py"
  },
  "language_info": {
   "codemirror_mode": {
    "name": "ipython",
    "version": 3
   },
   "file_extension": ".py",
   "mimetype": "text/x-python",
   "name": "python",
   "nbconvert_exporter": "python",
   "pygments_lexer": "ipython3",
   "version": "3.8.10"
  },
  "papermill": {
   "default_parameters": {},
   "duration": 246.073229,
   "end_time": "2021-11-01T19:41:14.656295",
   "environment_variables": {},
   "exception": null,
   "input_path": "utils/torch_cnn_classifier.ipynb",
   "output_path": "torch_cnn_experiments/human_nontata_promoters.ipynb",
   "parameters": {
    "DATASET": "human_nontata_promoters"
   },
   "start_time": "2021-11-01T19:37:08.583066",
   "version": "2.3.3"
  }
 },
 "nbformat": 4,
 "nbformat_minor": 5
}