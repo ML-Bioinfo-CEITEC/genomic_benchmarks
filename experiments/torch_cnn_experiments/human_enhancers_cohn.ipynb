{
 "cells": [
  {
   "cell_type": "markdown",
   "id": "32566a1c",
   "metadata": {
    "papermill": {
     "duration": 0.03672,
     "end_time": "2021-11-25T17:15:41.931755",
     "exception": false,
     "start_time": "2021-11-25T17:15:41.895035",
     "status": "completed"
    },
    "tags": []
   },
   "source": [
    "# PYTORCH CNN Classifier\n",
    "\n",
    "To run this notebook on an another benchmark, use\n",
    "\n",
    "```\n",
    "papermill utils/torch_cnn_classifier.ipynb torch_cnn_experiments/[DATASET NAME].ipynb -p DATASET [DATASET NAME]\n",
    "```"
   ]
  },
  {
   "cell_type": "code",
   "execution_count": 1,
   "id": "3995e05d",
   "metadata": {
    "execution": {
     "iopub.execute_input": "2021-11-25T17:15:42.002311Z",
     "iopub.status.busy": "2021-11-25T17:15:42.001555Z",
     "iopub.status.idle": "2021-11-25T17:15:42.005939Z",
     "shell.execute_reply": "2021-11-25T17:15:42.005270Z"
    },
    "papermill": {
     "duration": 0.040771,
     "end_time": "2021-11-25T17:15:42.006073",
     "exception": false,
     "start_time": "2021-11-25T17:15:41.965302",
     "status": "completed"
    },
    "tags": [
     "parameters"
    ]
   },
   "outputs": [],
   "source": [
    "# DATASET = 'no_dataset'\n",
    "DATASET = 'demo_human_or_worm'\n",
    "VERSION = 0\n",
    "BATCH_SIZE = 32\n",
    "EPOCHS = 1"
   ]
  },
  {
   "cell_type": "code",
   "execution_count": 2,
   "id": "bac79f89",
   "metadata": {
    "execution": {
     "iopub.execute_input": "2021-11-25T17:15:42.075449Z",
     "iopub.status.busy": "2021-11-25T17:15:42.074873Z",
     "iopub.status.idle": "2021-11-25T17:15:42.077522Z",
     "shell.execute_reply": "2021-11-25T17:15:42.078027Z"
    },
    "papermill": {
     "duration": 0.038819,
     "end_time": "2021-11-25T17:15:42.078168",
     "exception": false,
     "start_time": "2021-11-25T17:15:42.039349",
     "status": "completed"
    },
    "tags": [
     "injected-parameters"
    ]
   },
   "outputs": [],
   "source": [
    "# Parameters\n",
    "DATASET = \"human_enhancers_cohn\"\n",
    "EPOCHS = 10\n"
   ]
  },
  {
   "cell_type": "code",
   "execution_count": 3,
   "id": "85199f66",
   "metadata": {
    "execution": {
     "iopub.execute_input": "2021-11-25T17:15:42.148390Z",
     "iopub.status.busy": "2021-11-25T17:15:42.147470Z",
     "iopub.status.idle": "2021-11-25T17:15:42.151767Z",
     "shell.execute_reply": "2021-11-25T17:15:42.151217Z"
    },
    "papermill": {
     "duration": 0.041021,
     "end_time": "2021-11-25T17:15:42.151889",
     "exception": false,
     "start_time": "2021-11-25T17:15:42.110868",
     "status": "completed"
    },
    "tags": []
   },
   "outputs": [
    {
     "name": "stdout",
     "output_type": "stream",
     "text": [
      "human_enhancers_cohn 0 32 10\n"
     ]
    }
   ],
   "source": [
    "print(DATASET, VERSION, BATCH_SIZE, EPOCHS)"
   ]
  },
  {
   "cell_type": "markdown",
   "id": "ebd8fe9c",
   "metadata": {
    "papermill": {
     "duration": 0.033317,
     "end_time": "2021-11-25T17:15:42.220239",
     "exception": false,
     "start_time": "2021-11-25T17:15:42.186922",
     "status": "completed"
    },
    "tags": []
   },
   "source": [
    "## Config"
   ]
  },
  {
   "cell_type": "code",
   "execution_count": 4,
   "id": "6d052779",
   "metadata": {
    "execution": {
     "iopub.execute_input": "2021-11-25T17:15:42.292087Z",
     "iopub.status.busy": "2021-11-25T17:15:42.291488Z",
     "iopub.status.idle": "2021-11-25T17:15:43.473708Z",
     "shell.execute_reply": "2021-11-25T17:15:43.473255Z"
    },
    "papermill": {
     "duration": 1.220418,
     "end_time": "2021-11-25T17:15:43.473833",
     "exception": false,
     "start_time": "2021-11-25T17:15:42.253415",
     "status": "completed"
    },
    "tags": []
   },
   "outputs": [],
   "source": [
    "import os\n",
    "import numpy as np\n",
    "import torch\n",
    "from torch import nn\n",
    "from torch.utils.data import DataLoader\n",
    "from torchtext.data.utils import get_tokenizer\n",
    "\n",
    "from genomic_benchmarks.dataset_getters.pytorch_datasets import get_dataset\n",
    "from genomic_benchmarks.models.torch import CNN\n",
    "from genomic_benchmarks.dataset_getters.utils import coll_factory, LetterTokenizer, build_vocab, check_seq_lengths, check_config, VARIABLE_LENGTH_DATASETS"
   ]
  },
  {
   "cell_type": "code",
   "execution_count": 5,
   "id": "29736d8b",
   "metadata": {
    "execution": {
     "iopub.execute_input": "2021-11-25T17:15:43.545771Z",
     "iopub.status.busy": "2021-11-25T17:15:43.545112Z",
     "iopub.status.idle": "2021-11-25T17:15:43.548513Z",
     "shell.execute_reply": "2021-11-25T17:15:43.547857Z"
    },
    "papermill": {
     "duration": 0.041694,
     "end_time": "2021-11-25T17:15:43.548666",
     "exception": false,
     "start_time": "2021-11-25T17:15:43.506972",
     "status": "completed"
    },
    "tags": []
   },
   "outputs": [],
   "source": [
    "USE_PADDING = DATASET in VARIABLE_LENGTH_DATASETS\n",
    "    \n",
    "config = {\n",
    "    \"dataset\": DATASET,\n",
    "    \"dataset_version\": VERSION,\n",
    "    \"epochs\": EPOCHS,\n",
    "    \"batch_size\": BATCH_SIZE,\n",
    "    \"use_padding\": USE_PADDING,\n",
    "    \"force_download\": False,\n",
    "    \"run_on_gpu\": True,\n",
    "    \"number_of_classes\": 2,\n",
    "    \"embedding_dim\": 100,\n",
    "}\n",
    "check_config(config)"
   ]
  },
  {
   "cell_type": "markdown",
   "id": "4bf4089a",
   "metadata": {
    "papermill": {
     "duration": 0.032227,
     "end_time": "2021-11-25T17:15:43.614455",
     "exception": false,
     "start_time": "2021-11-25T17:15:43.582228",
     "status": "completed"
    },
    "tags": []
   },
   "source": [
    "## Choose the dataset"
   ]
  },
  {
   "cell_type": "code",
   "execution_count": 6,
   "id": "edd30c47",
   "metadata": {
    "execution": {
     "iopub.execute_input": "2021-11-25T17:15:43.684726Z",
     "iopub.status.busy": "2021-11-25T17:15:43.684047Z",
     "iopub.status.idle": "2021-11-25T17:15:43.732914Z",
     "shell.execute_reply": "2021-11-25T17:15:43.733405Z"
    },
    "papermill": {
     "duration": 0.086168,
     "end_time": "2021-11-25T17:15:43.733571",
     "exception": false,
     "start_time": "2021-11-25T17:15:43.647403",
     "status": "completed"
    },
    "tags": []
   },
   "outputs": [],
   "source": [
    "train_dset = get_dataset(config[\"dataset\"], 'train')"
   ]
  },
  {
   "cell_type": "markdown",
   "id": "1470b55a",
   "metadata": {
    "papermill": {
     "duration": 0.033513,
     "end_time": "2021-11-25T17:15:43.800333",
     "exception": false,
     "start_time": "2021-11-25T17:15:43.766820",
     "status": "completed"
    },
    "tags": []
   },
   "source": [
    "## Tokenizer and vocab"
   ]
  },
  {
   "cell_type": "code",
   "execution_count": 7,
   "id": "eda9509d",
   "metadata": {
    "execution": {
     "iopub.execute_input": "2021-11-25T17:15:43.873868Z",
     "iopub.status.busy": "2021-11-25T17:15:43.872939Z",
     "iopub.status.idle": "2021-11-25T17:15:45.206085Z",
     "shell.execute_reply": "2021-11-25T17:15:45.205460Z"
    },
    "papermill": {
     "duration": 1.371878,
     "end_time": "2021-11-25T17:15:45.206216",
     "exception": false,
     "start_time": "2021-11-25T17:15:43.834338",
     "status": "completed"
    },
    "tags": []
   },
   "outputs": [
    {
     "name": "stdout",
     "output_type": "stream",
     "text": [
      "vocab len: 7\n",
      "{'<eos>': 6, 'G': 5, 'A': 4, 'C': 3, 'T': 2, '<bos>': 1, '<unk>': 0}\n"
     ]
    }
   ],
   "source": [
    "tokenizer = get_tokenizer(LetterTokenizer())\n",
    "vocabulary = build_vocab(train_dset, tokenizer, use_padding=config[\"use_padding\"])\n",
    "\n",
    "print(\"vocab len:\" ,vocabulary.__len__())\n",
    "print(vocabulary.get_stoi())"
   ]
  },
  {
   "cell_type": "markdown",
   "id": "221aecd7",
   "metadata": {
    "papermill": {
     "duration": 0.034197,
     "end_time": "2021-11-25T17:15:45.275211",
     "exception": false,
     "start_time": "2021-11-25T17:15:45.241014",
     "status": "completed"
    },
    "tags": []
   },
   "source": [
    "## Dataloader and batch preparation"
   ]
  },
  {
   "cell_type": "code",
   "execution_count": 8,
   "id": "609a3ad3",
   "metadata": {
    "execution": {
     "iopub.execute_input": "2021-11-25T17:15:45.357012Z",
     "iopub.status.busy": "2021-11-25T17:15:45.356424Z",
     "iopub.status.idle": "2021-11-25T17:15:46.407398Z",
     "shell.execute_reply": "2021-11-25T17:15:46.406880Z"
    },
    "papermill": {
     "duration": 1.098735,
     "end_time": "2021-11-25T17:15:46.407527",
     "exception": false,
     "start_time": "2021-11-25T17:15:45.308792",
     "status": "completed"
    },
    "tags": []
   },
   "outputs": [
    {
     "name": "stdout",
     "output_type": "stream",
     "text": [
      "Using cuda device\n"
     ]
    },
    {
     "name": "stdout",
     "output_type": "stream",
     "text": [
      "max_seq_len  500\n"
     ]
    }
   ],
   "source": [
    "# Run on GPU or CPU\n",
    "device = 'cuda' if config[\"run_on_gpu\"] and torch.cuda.is_available() else 'cpu'\n",
    "print('Using {} device'.format(device))\n",
    "\n",
    "max_seq_len, nn_input_len = check_seq_lengths(dataset=train_dset, config=config)\n",
    "\n",
    "# Data Loader\n",
    "if(config[\"use_padding\"]):\n",
    "    collate = coll_factory(vocabulary, tokenizer, device, pad_to_length = nn_input_len)\n",
    "else:\n",
    "    collate = coll_factory(vocabulary, tokenizer, device, pad_to_length = None)\n",
    "\n",
    "train_loader = DataLoader(train_dset, batch_size=config[\"batch_size\"], shuffle=True, collate_fn=collate)"
   ]
  },
  {
   "cell_type": "markdown",
   "id": "06e85529",
   "metadata": {
    "papermill": {
     "duration": 0.035179,
     "end_time": "2021-11-25T17:15:46.479617",
     "exception": false,
     "start_time": "2021-11-25T17:15:46.444438",
     "status": "completed"
    },
    "tags": []
   },
   "source": [
    "## Model"
   ]
  },
  {
   "cell_type": "code",
   "execution_count": 9,
   "id": "272be845",
   "metadata": {
    "execution": {
     "iopub.execute_input": "2021-11-25T17:15:46.556327Z",
     "iopub.status.busy": "2021-11-25T17:15:46.555313Z",
     "iopub.status.idle": "2021-11-25T17:15:48.217667Z",
     "shell.execute_reply": "2021-11-25T17:15:48.217088Z"
    },
    "papermill": {
     "duration": 1.70208,
     "end_time": "2021-11-25T17:15:48.217816",
     "exception": false,
     "start_time": "2021-11-25T17:15:46.515736",
     "status": "completed"
    },
    "tags": []
   },
   "outputs": [
    {
     "name": "stderr",
     "output_type": "stream",
     "text": [
      "/opt/conda/envs/bench_env/lib/python3.8/site-packages/torch/nn/functional.py:652: UserWarning: Named tensors and all their associated APIs are an experimental feature and subject to change. Please do not use them for anything important until they are released as stable. (Triggered internally at  /opt/conda/conda-bld/pytorch_1623448278899/work/c10/core/TensorImpl.h:1156.)\n",
      "  return torch.max_pool1d(input, kernel_size, stride, padding, dilation, ceil_mode)\n"
     ]
    }
   ],
   "source": [
    "model = CNN(\n",
    "    number_of_classes=config[\"number_of_classes\"],\n",
    "    vocab_size=vocabulary.__len__(),\n",
    "    embedding_dim=config[\"embedding_dim\"],\n",
    "    input_len=nn_input_len\n",
    ").to(device)"
   ]
  },
  {
   "cell_type": "markdown",
   "id": "d4e050b3",
   "metadata": {
    "papermill": {
     "duration": 0.036915,
     "end_time": "2021-11-25T17:15:48.291706",
     "exception": false,
     "start_time": "2021-11-25T17:15:48.254791",
     "status": "completed"
    },
    "tags": []
   },
   "source": [
    "## Training"
   ]
  },
  {
   "cell_type": "code",
   "execution_count": 10,
   "id": "39c452e0",
   "metadata": {
    "execution": {
     "iopub.execute_input": "2021-11-25T17:15:48.369942Z",
     "iopub.status.busy": "2021-11-25T17:15:48.369027Z",
     "iopub.status.idle": "2021-11-25T17:19:16.710116Z",
     "shell.execute_reply": "2021-11-25T17:19:16.710579Z"
    },
    "papermill": {
     "duration": 208.382839,
     "end_time": "2021-11-25T17:19:16.710788",
     "exception": false,
     "start_time": "2021-11-25T17:15:48.327949",
     "status": "completed"
    },
    "tags": []
   },
   "outputs": [
    {
     "name": "stdout",
     "output_type": "stream",
     "text": [
      "Epoch 0\n"
     ]
    },
    {
     "name": "stdout",
     "output_type": "stream",
     "text": [
      "Train metrics: \n",
      " Accuracy: 64.3%, Avg loss: 0.654528 \n",
      "\n",
      "Epoch 1\n"
     ]
    },
    {
     "name": "stdout",
     "output_type": "stream",
     "text": [
      "Train metrics: \n",
      " Accuracy: 66.4%, Avg loss: 0.649607 \n",
      "\n",
      "Epoch 2\n"
     ]
    },
    {
     "name": "stdout",
     "output_type": "stream",
     "text": [
      "Train metrics: \n",
      " Accuracy: 66.0%, Avg loss: 0.643945 \n",
      "\n",
      "Epoch 3\n"
     ]
    },
    {
     "name": "stdout",
     "output_type": "stream",
     "text": [
      "Train metrics: \n",
      " Accuracy: 68.1%, Avg loss: 0.638339 \n",
      "\n",
      "Epoch 4\n"
     ]
    },
    {
     "name": "stdout",
     "output_type": "stream",
     "text": [
      "Train metrics: \n",
      " Accuracy: 70.1%, Avg loss: 0.632499 \n",
      "\n",
      "Epoch 5\n"
     ]
    },
    {
     "name": "stdout",
     "output_type": "stream",
     "text": [
      "Train metrics: \n",
      " Accuracy: 71.1%, Avg loss: 0.631233 \n",
      "\n",
      "Epoch 6\n"
     ]
    },
    {
     "name": "stdout",
     "output_type": "stream",
     "text": [
      "Train metrics: \n",
      " Accuracy: 69.6%, Avg loss: 0.636350 \n",
      "\n",
      "Epoch 7\n"
     ]
    },
    {
     "name": "stdout",
     "output_type": "stream",
     "text": [
      "Train metrics: \n",
      " Accuracy: 69.9%, Avg loss: 0.628301 \n",
      "\n",
      "Epoch 8\n"
     ]
    },
    {
     "name": "stdout",
     "output_type": "stream",
     "text": [
      "Train metrics: \n",
      " Accuracy: 70.6%, Avg loss: 0.625448 \n",
      "\n",
      "Epoch 9\n"
     ]
    },
    {
     "name": "stdout",
     "output_type": "stream",
     "text": [
      "Train metrics: \n",
      " Accuracy: 72.7%, Avg loss: 0.624727 \n",
      "\n"
     ]
    }
   ],
   "source": [
    "model.train(train_loader, epochs=config[\"epochs\"])"
   ]
  },
  {
   "cell_type": "markdown",
   "id": "9f1e8b41",
   "metadata": {
    "papermill": {
     "duration": 0.043942,
     "end_time": "2021-11-25T17:19:16.799527",
     "exception": false,
     "start_time": "2021-11-25T17:19:16.755585",
     "status": "completed"
    },
    "tags": []
   },
   "source": [
    "## Testing"
   ]
  },
  {
   "cell_type": "code",
   "execution_count": 11,
   "id": "d8951424",
   "metadata": {
    "execution": {
     "iopub.execute_input": "2021-11-25T17:19:16.894009Z",
     "iopub.status.busy": "2021-11-25T17:19:16.893136Z",
     "iopub.status.idle": "2021-11-25T17:19:19.689087Z",
     "shell.execute_reply": "2021-11-25T17:19:19.689511Z"
    },
    "papermill": {
     "duration": 2.845667,
     "end_time": "2021-11-25T17:19:19.689657",
     "exception": false,
     "start_time": "2021-11-25T17:19:16.843990",
     "status": "completed"
    },
    "tags": []
   },
   "outputs": [
    {
     "name": "stdout",
     "output_type": "stream",
     "text": [
      "p  3474 ; tp  2013.220708588451 ; fp  667.0687082707882\n",
      "recall  0.5795108545159617 ; precision  0.7511206423922463\n",
      "num_batches 218\n",
      "correct 4828\n",
      "size 6948\n",
      "Test metrics: \n",
      " Accuracy: 0.694876, F1 score: 0.654250, Avg loss: 0.639993 \n",
      "\n"
     ]
    },
    {
     "data": {
      "text/plain": [
       "(0.6948762233736328, 0.6542496045354564)"
      ]
     },
     "execution_count": 11,
     "metadata": {},
     "output_type": "execute_result"
    }
   ],
   "source": [
    "test_dset = get_dataset(config[\"dataset\"], 'test')\n",
    "test_loader = DataLoader(test_dset, batch_size=config[\"batch_size\"], shuffle=True, collate_fn=collate)\n",
    "\n",
    "acc, f1 = model.test(test_loader)\n",
    "acc, f1"
   ]
  }
 ],
 "metadata": {
  "environment": {
   "name": "pytorch-gpu.1-9.m75",
   "type": "gcloud",
   "uri": "gcr.io/deeplearning-platform-release/pytorch-gpu.1-9:m75"
  },
  "interpreter": {
   "hash": "9828b828580f1cac1b571b33de6cff8bacecc8916095e1bcbc967952ca7105b7"
  },
  "kernelspec": {
   "display_name": "conda-env-bench_env-py",
   "language": "python",
   "name": "bench_env"
  },
  "language_info": {
   "codemirror_mode": {
    "name": "ipython",
    "version": 3
   },
   "file_extension": ".py",
   "mimetype": "text/x-python",
   "name": "python",
   "nbconvert_exporter": "python",
   "pygments_lexer": "ipython3",
   "version": "3.8.10"
  },
  "papermill": {
   "default_parameters": {},
   "duration": 220.321611,
   "end_time": "2021-11-25T17:19:21.090129",
   "environment_variables": {},
   "exception": null,
   "input_path": "utils/torch_cnn_classifier.ipynb",
   "output_path": "torch_cnn_experiments/human_enhancers_cohn.ipynb",
   "parameters": {
    "DATASET": "human_enhancers_cohn",
    "EPOCHS": 10
   },
   "start_time": "2021-11-25T17:15:40.768518",
   "version": "2.3.3"
  }
 },
 "nbformat": 4,
 "nbformat_minor": 5
}