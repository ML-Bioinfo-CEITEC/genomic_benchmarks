{
 "cells": [
  {
   "cell_type": "code",
   "execution_count": 1,
   "id": "00537d1f",
   "metadata": {
    "execution": {
     "iopub.execute_input": "2021-11-03T12:39:06.992558Z",
     "iopub.status.busy": "2021-11-03T12:39:06.991431Z",
     "iopub.status.idle": "2021-11-03T12:39:06.995296Z",
     "shell.execute_reply": "2021-11-03T12:39:06.995848Z"
    },
    "papermill": {
     "duration": 0.022889,
     "end_time": "2021-11-03T12:39:06.996177",
     "exception": false,
     "start_time": "2021-11-03T12:39:06.973288",
     "status": "completed"
    },
    "tags": [
     "parameters"
    ]
   },
   "outputs": [],
   "source": [
    "DATASET = 'no_dataset'\n",
    "VERSION = 0\n",
    "BATCH_SIZE = 32\n",
    "EPOCHS = 10"
   ]
  },
  {
   "cell_type": "code",
   "execution_count": 2,
   "id": "95d518d7",
   "metadata": {
    "execution": {
     "iopub.execute_input": "2021-11-03T12:39:07.023672Z",
     "iopub.status.busy": "2021-11-03T12:39:07.022942Z",
     "iopub.status.idle": "2021-11-03T12:39:07.027284Z",
     "shell.execute_reply": "2021-11-03T12:39:07.026286Z"
    },
    "papermill": {
     "duration": 0.019354,
     "end_time": "2021-11-03T12:39:07.027467",
     "exception": false,
     "start_time": "2021-11-03T12:39:07.008113",
     "status": "completed"
    },
    "tags": [
     "injected-parameters"
    ]
   },
   "outputs": [],
   "source": [
    "# Parameters\n",
    "DATASET = \"human_enhancers_cohn\"\n"
   ]
  },
  {
   "cell_type": "code",
   "execution_count": 3,
   "id": "79de9681",
   "metadata": {
    "execution": {
     "iopub.execute_input": "2021-11-03T12:39:07.055086Z",
     "iopub.status.busy": "2021-11-03T12:39:07.054534Z",
     "iopub.status.idle": "2021-11-03T12:39:07.062800Z",
     "shell.execute_reply": "2021-11-03T12:39:07.063454Z"
    },
    "papermill": {
     "duration": 0.023537,
     "end_time": "2021-11-03T12:39:07.063588",
     "exception": false,
     "start_time": "2021-11-03T12:39:07.040051",
     "status": "completed"
    },
    "tags": []
   },
   "outputs": [
    {
     "name": "stdout",
     "output_type": "stream",
     "text": [
      "human_enhancers_cohn 0 32 10\n"
     ]
    }
   ],
   "source": [
    "print(DATASET, VERSION, BATCH_SIZE, EPOCHS)"
   ]
  },
  {
   "cell_type": "markdown",
   "id": "655c34f1",
   "metadata": {
    "papermill": {
     "duration": 0.011446,
     "end_time": "2021-11-03T12:39:07.086734",
     "exception": false,
     "start_time": "2021-11-03T12:39:07.075288",
     "status": "completed"
    },
    "tags": []
   },
   "source": [
    "## Config"
   ]
  },
  {
   "cell_type": "code",
   "execution_count": 4,
   "id": "aa7c8b8a",
   "metadata": {
    "execution": {
     "iopub.execute_input": "2021-11-03T12:39:07.116235Z",
     "iopub.status.busy": "2021-11-03T12:39:07.115216Z",
     "iopub.status.idle": "2021-11-03T12:39:08.302785Z",
     "shell.execute_reply": "2021-11-03T12:39:08.303249Z"
    },
    "papermill": {
     "duration": 1.204892,
     "end_time": "2021-11-03T12:39:08.303418",
     "exception": false,
     "start_time": "2021-11-03T12:39:07.098526",
     "status": "completed"
    },
    "tags": []
   },
   "outputs": [],
   "source": [
    "import os\n",
    "import numpy as np\n",
    "import torch\n",
    "from torch import nn\n",
    "from torch.utils.data import DataLoader\n",
    "from torchtext.data.utils import get_tokenizer\n",
    "\n",
    "from genomic_benchmarks.dataset_getters.pytorch_datasets import get_dataset\n",
    "from genomic_benchmarks.models.torch_cnn import CNN\n",
    "from genomic_benchmarks.dataset_getters.utils import coll_factory, LetterTokenizer, build_vocab, check_seq_lengths, check_config, VARIABLE_LENGTH_DATASETS\n",
    "from genomic_benchmarks.data_check import list_datasets, info\n"
   ]
  },
  {
   "cell_type": "code",
   "execution_count": 6,
   "id": "0f749284",
   "metadata": {
    "execution": {
     "iopub.execute_input": "2021-11-03T12:39:08.373749Z",
     "iopub.status.busy": "2021-11-03T12:39:08.372983Z",
     "iopub.status.idle": "2021-11-03T12:39:08.375977Z",
     "shell.execute_reply": "2021-11-03T12:39:08.376586Z"
    },
    "papermill": {
     "duration": 0.020368,
     "end_time": "2021-11-03T12:39:08.376779",
     "exception": false,
     "start_time": "2021-11-03T12:39:08.356411",
     "status": "completed"
    },
    "tags": []
   },
   "outputs": [],
   "source": [
    "USE_PADDING = DATASET in VARIABLE_LENGTH_DATASETS\n",
    "    \n",
    "config = {\n",
    "    \"dataset\": DATASET,\n",
    "    \"dataset_version\": VERSION,\n",
    "    \"epochs\": EPOCHS,\n",
    "    \"batch_size\": BATCH_SIZE,\n",
    "    \"use_padding\": USE_PADDING,\n",
    "    \"force_download\": False,\n",
    "    \"run_on_gpu\": True,\n",
    "    \"number_of_classes\": 2,\n",
    "    \"embedding_dim\": 100,\n",
    "}\n",
    "check_config(config)"
   ]
  },
  {
   "cell_type": "markdown",
   "id": "161f68a6",
   "metadata": {
    "papermill": {
     "duration": 0.012309,
     "end_time": "2021-11-03T12:39:08.401679",
     "exception": false,
     "start_time": "2021-11-03T12:39:08.389370",
     "status": "completed"
    },
    "tags": []
   },
   "source": [
    "## Choose the dataset"
   ]
  },
  {
   "cell_type": "code",
   "execution_count": 7,
   "id": "b14f2e30",
   "metadata": {
    "execution": {
     "iopub.execute_input": "2021-11-03T12:39:08.433188Z",
     "iopub.status.busy": "2021-11-03T12:39:08.432027Z",
     "iopub.status.idle": "2021-11-03T12:39:34.426321Z",
     "shell.execute_reply": "2021-11-03T12:39:34.425623Z"
    },
    "papermill": {
     "duration": 26.012505,
     "end_time": "2021-11-03T12:39:34.426473",
     "exception": false,
     "start_time": "2021-11-03T12:39:08.413968",
     "status": "completed"
    },
    "tags": []
   },
   "outputs": [
    {
     "name": "stderr",
     "output_type": "stream",
     "text": [
      "/home/jupyter/genomic_benchmarks/src/genomic_benchmarks/loc2seq/with_biopython.py:96: UserWarning: No version specified. Using version 0.\n",
      "  warnings.warn(f\"No version specified. Using version {metadata['version']}.\")\n"
     ]
    },
    {
     "name": "stdout",
     "output_type": "stream",
     "text": [
      "Downloading 176563cDPQ5Y094WyoSBF02QjoVQhWuCh into /home/jupyter/.genomic_benchmarks/translated_human_enhancers_cohn/human_enhancers_cohn.zip... Done.\n",
      "Unzipping...Done.\n"
     ]
    }
   ],
   "source": [
    "train_dset = get_dataset(config[\"dataset\"], 'train')"
   ]
  },
  {
   "cell_type": "markdown",
   "id": "e38e672c",
   "metadata": {
    "papermill": {
     "duration": 0.013105,
     "end_time": "2021-11-03T12:39:34.453975",
     "exception": false,
     "start_time": "2021-11-03T12:39:34.440870",
     "status": "completed"
    },
    "tags": []
   },
   "source": [
    "## Tokenizer and vocab"
   ]
  },
  {
   "cell_type": "code",
   "execution_count": 8,
   "id": "e74fe0e8",
   "metadata": {
    "execution": {
     "iopub.execute_input": "2021-11-03T12:39:34.491298Z",
     "iopub.status.busy": "2021-11-03T12:39:34.490624Z",
     "iopub.status.idle": "2021-11-03T12:39:35.866379Z",
     "shell.execute_reply": "2021-11-03T12:39:35.866908Z"
    },
    "papermill": {
     "duration": 1.39975,
     "end_time": "2021-11-03T12:39:35.867100",
     "exception": false,
     "start_time": "2021-11-03T12:39:34.467350",
     "status": "completed"
    },
    "tags": []
   },
   "outputs": [
    {
     "name": "stdout",
     "output_type": "stream",
     "text": [
      "vocab len: 7\n",
      "{'<eos>': 6, 'G': 5, 'A': 4, 'C': 3, 'T': 2, '<bos>': 1, '<unk>': 0}\n"
     ]
    }
   ],
   "source": [
    "tokenizer = get_tokenizer(LetterTokenizer())\n",
    "vocabulary = build_vocab(train_dset, tokenizer, use_padding=config[\"use_padding\"])\n",
    "\n",
    "print(\"vocab len:\" ,vocabulary.__len__())\n",
    "print(vocabulary.get_stoi())"
   ]
  },
  {
   "cell_type": "markdown",
   "id": "a3f26dd9",
   "metadata": {
    "papermill": {
     "duration": 0.014617,
     "end_time": "2021-11-03T12:39:35.896548",
     "exception": false,
     "start_time": "2021-11-03T12:39:35.881931",
     "status": "completed"
    },
    "tags": []
   },
   "source": [
    "## Dataloader and batch preparation"
   ]
  },
  {
   "cell_type": "code",
   "execution_count": 9,
   "id": "627ec19e",
   "metadata": {
    "execution": {
     "iopub.execute_input": "2021-11-03T12:39:35.942043Z",
     "iopub.status.busy": "2021-11-03T12:39:35.941426Z",
     "iopub.status.idle": "2021-11-03T12:39:36.952512Z",
     "shell.execute_reply": "2021-11-03T12:39:36.951500Z"
    },
    "papermill": {
     "duration": 1.04214,
     "end_time": "2021-11-03T12:39:36.952737",
     "exception": false,
     "start_time": "2021-11-03T12:39:35.910597",
     "status": "completed"
    },
    "tags": []
   },
   "outputs": [
    {
     "name": "stdout",
     "output_type": "stream",
     "text": [
      "Using cuda device\n",
      "max_seq_len  500\n"
     ]
    }
   ],
   "source": [
    "# Run on GPU or CPU\n",
    "device = 'cuda' if config[\"run_on_gpu\"] and torch.cuda.is_available() else 'cpu'\n",
    "print('Using {} device'.format(device))\n",
    "\n",
    "max_seq_len, nn_input_len = check_seq_lengths(dataset=train_dset, config=config)\n",
    "\n",
    "# Data Loader\n",
    "if(config[\"use_padding\"]):\n",
    "    collate = coll_factory(vocabulary, tokenizer, device, pad_to_length = nn_input_len)\n",
    "else:\n",
    "    collate = coll_factory(vocabulary, tokenizer, device, pad_to_length = None)\n",
    "\n",
    "train_loader = DataLoader(train_dset, batch_size=config[\"batch_size\"], shuffle=True, collate_fn=collate)"
   ]
  },
  {
   "cell_type": "markdown",
   "id": "f866164d",
   "metadata": {
    "papermill": {
     "duration": 0.01392,
     "end_time": "2021-11-03T12:39:36.981683",
     "exception": false,
     "start_time": "2021-11-03T12:39:36.967763",
     "status": "completed"
    },
    "tags": []
   },
   "source": [
    "## Model"
   ]
  },
  {
   "cell_type": "code",
   "execution_count": 10,
   "id": "8f89dfb9",
   "metadata": {
    "execution": {
     "iopub.execute_input": "2021-11-03T12:39:37.016533Z",
     "iopub.status.busy": "2021-11-03T12:39:37.015900Z",
     "iopub.status.idle": "2021-11-03T12:39:38.697316Z",
     "shell.execute_reply": "2021-11-03T12:39:38.696800Z"
    },
    "papermill": {
     "duration": 1.70019,
     "end_time": "2021-11-03T12:39:38.697475",
     "exception": false,
     "start_time": "2021-11-03T12:39:36.997285",
     "status": "completed"
    },
    "tags": []
   },
   "outputs": [
    {
     "name": "stderr",
     "output_type": "stream",
     "text": [
      "/opt/conda/envs/bench_env/lib/python3.8/site-packages/torch/nn/functional.py:652: UserWarning: Named tensors and all their associated APIs are an experimental feature and subject to change. Please do not use them for anything important until they are released as stable. (Triggered internally at  /opt/conda/conda-bld/pytorch_1623448278899/work/c10/core/TensorImpl.h:1156.)\n",
      "  return torch.max_pool1d(input, kernel_size, stride, padding, dilation, ceil_mode)\n"
     ]
    }
   ],
   "source": [
    "model = CNN(\n",
    "    number_of_classes=config[\"number_of_classes\"],\n",
    "    vocab_size=vocabulary.__len__(),\n",
    "    embedding_dim=config[\"embedding_dim\"],\n",
    "    input_len=nn_input_len\n",
    ").to(device)"
   ]
  },
  {
   "cell_type": "markdown",
   "id": "ad4aafc5",
   "metadata": {
    "papermill": {
     "duration": 0.017718,
     "end_time": "2021-11-03T12:39:38.730615",
     "exception": false,
     "start_time": "2021-11-03T12:39:38.712897",
     "status": "completed"
    },
    "tags": []
   },
   "source": [
    "## Training"
   ]
  },
  {
   "cell_type": "code",
   "execution_count": 11,
   "id": "102970cf",
   "metadata": {
    "execution": {
     "iopub.execute_input": "2021-11-03T12:39:38.766079Z",
     "iopub.status.busy": "2021-11-03T12:39:38.765388Z",
     "iopub.status.idle": "2021-11-03T12:43:08.540776Z",
     "shell.execute_reply": "2021-11-03T12:43:08.541341Z"
    },
    "papermill": {
     "duration": 209.795923,
     "end_time": "2021-11-03T12:43:08.541668",
     "exception": false,
     "start_time": "2021-11-03T12:39:38.745745",
     "status": "completed"
    },
    "tags": []
   },
   "outputs": [
    {
     "name": "stdout",
     "output_type": "stream",
     "text": [
      "Epoch 0\n",
      "Train metrics: \n",
      " Accuracy: 65.6%, Avg loss: 0.655548 \n",
      "\n",
      "Epoch 1\n",
      "Train metrics: \n",
      " Accuracy: 65.7%, Avg loss: 0.649030 \n",
      "\n",
      "Epoch 2\n",
      "Train metrics: \n",
      " Accuracy: 67.2%, Avg loss: 0.642558 \n",
      "\n",
      "Epoch 3\n",
      "Train metrics: \n",
      " Accuracy: 68.4%, Avg loss: 0.637368 \n",
      "\n",
      "Epoch 4\n",
      "Train metrics: \n",
      " Accuracy: 69.7%, Avg loss: 0.637226 \n",
      "\n",
      "Epoch 5\n",
      "Train metrics: \n",
      " Accuracy: 69.9%, Avg loss: 0.638713 \n",
      "\n",
      "Epoch 6\n",
      "Train metrics: \n",
      " Accuracy: 71.3%, Avg loss: 0.627757 \n",
      "\n",
      "Epoch 7\n",
      "Train metrics: \n",
      " Accuracy: 71.1%, Avg loss: 0.628091 \n",
      "\n",
      "Epoch 8\n",
      "Train metrics: \n",
      " Accuracy: 73.0%, Avg loss: 0.626517 \n",
      "\n",
      "Epoch 9\n",
      "Train metrics: \n",
      " Accuracy: 69.9%, Avg loss: 0.628943 \n",
      "\n"
     ]
    }
   ],
   "source": [
    "model.train(train_loader, epochs=config[\"epochs\"])"
   ]
  },
  {
   "cell_type": "markdown",
   "id": "90c99955",
   "metadata": {
    "papermill": {
     "duration": 0.023634,
     "end_time": "2021-11-03T12:43:08.605124",
     "exception": false,
     "start_time": "2021-11-03T12:43:08.581490",
     "status": "completed"
    },
    "tags": []
   },
   "source": [
    "## Testing"
   ]
  },
  {
   "cell_type": "code",
   "execution_count": 12,
   "id": "f4b914dc",
   "metadata": {
    "execution": {
     "iopub.execute_input": "2021-11-03T12:43:08.655277Z",
     "iopub.status.busy": "2021-11-03T12:43:08.654623Z",
     "iopub.status.idle": "2021-11-03T12:43:37.286322Z",
     "shell.execute_reply": "2021-11-03T12:43:37.285867Z"
    },
    "papermill": {
     "duration": 28.655591,
     "end_time": "2021-11-03T12:43:37.286450",
     "exception": false,
     "start_time": "2021-11-03T12:43:08.630859",
     "status": "completed"
    },
    "tags": []
   },
   "outputs": [
    {
     "name": "stdout",
     "output_type": "stream",
     "text": [
      "Downloading 176563cDPQ5Y094WyoSBF02QjoVQhWuCh into /home/jupyter/.genomic_benchmarks/translated_human_enhancers_cohn/human_enhancers_cohn.zip... Done.\n",
      "Unzipping...Done.\n",
      "test_loss  140.03858423233032\n",
      "num_batches 218\n",
      "correct 4662\n",
      "size 6948\n",
      "Test Error: \n",
      " Accuracy: 67.1%, Avg loss: 0.642379 \n",
      "\n"
     ]
    }
   ],
   "source": [
    "# test_dset = get_dataset_fn('test', force_download=config[\"force_download\"], version=config[\"dataset_version\"])\n",
    "test_dset = get_dataset(config[\"dataset\"], 'test')\n",
    "test_loader = DataLoader(test_dset, batch_size=config[\"batch_size\"], shuffle=True, collate_fn=collate)\n",
    "\n",
    "model.test(test_loader)"
   ]
  },
  {
   "cell_type": "code",
   "execution_count": null,
   "id": "180e215a",
   "metadata": {
    "papermill": {
     "duration": 0.021944,
     "end_time": "2021-11-03T12:43:37.327588",
     "exception": false,
     "start_time": "2021-11-03T12:43:37.305644",
     "status": "completed"
    },
    "tags": []
   },
   "outputs": [],
   "source": []
  },
  {
   "cell_type": "code",
   "execution_count": null,
   "id": "25de6c71",
   "metadata": {
    "papermill": {
     "duration": 0.020537,
     "end_time": "2021-11-03T12:43:37.367382",
     "exception": false,
     "start_time": "2021-11-03T12:43:37.346845",
     "status": "completed"
    },
    "tags": []
   },
   "outputs": [],
   "source": []
  }
 ],
 "metadata": {
  "environment": {
   "name": "pytorch-gpu.1-9.m75",
   "type": "gcloud",
   "uri": "gcr.io/deeplearning-platform-release/pytorch-gpu.1-9:m75"
  },
  "interpreter": {
   "hash": "9828b828580f1cac1b571b33de6cff8bacecc8916095e1bcbc967952ca7105b7"
  },
  "kernelspec": {
   "display_name": "Python [conda env:bench_env]",
   "language": "python",
   "name": "conda-env-bench_env-py"
  },
  "language_info": {
   "codemirror_mode": {
    "name": "ipython",
    "version": 3
   },
   "file_extension": ".py",
   "mimetype": "text/x-python",
   "name": "python",
   "nbconvert_exporter": "python",
   "pygments_lexer": "ipython3",
   "version": "3.8.10"
  },
  "papermill": {
   "default_parameters": {},
   "duration": 272.060912,
   "end_time": "2021-11-03T12:43:37.795988",
   "environment_variables": {},
   "exception": null,
   "input_path": "utils/torch_cnn_classifier.ipynb",
   "output_path": "torch_cnn_experiments/human_enhancers_cohn.ipynb",
   "parameters": {
    "DATASET": "human_enhancers_cohn"
   },
   "start_time": "2021-11-03T12:39:05.735076",
   "version": "2.3.3"
  }
 },
 "nbformat": 4,
 "nbformat_minor": 5
}
