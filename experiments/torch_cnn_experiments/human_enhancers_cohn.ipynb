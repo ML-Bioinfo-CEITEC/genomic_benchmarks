{
 "cells": [
  {
   "cell_type": "markdown",
   "id": "49798a08",
   "metadata": {
    "papermill": {
     "duration": 0.004992,
     "end_time": "2022-06-04T11:42:08.828625",
     "exception": false,
     "start_time": "2022-06-04T11:42:08.823633",
     "status": "completed"
    },
    "tags": []
   },
   "source": [
    "# PYTORCH CNN Classifier\n",
    "\n",
    "To run this notebook on an another benchmark, use\n",
    "\n",
    "```\n",
    "papermill utils/torch_cnn_classifier.ipynb torch_cnn_experiments/[DATASET NAME].ipynb -p DATASET [DATASET NAME]\n",
    "```"
   ]
  },
  {
   "cell_type": "code",
   "execution_count": 1,
   "id": "f7e17f98",
   "metadata": {
    "execution": {
     "iopub.execute_input": "2022-06-04T11:42:08.837748Z",
     "iopub.status.busy": "2022-06-04T11:42:08.837313Z",
     "iopub.status.idle": "2022-06-04T11:42:08.842564Z",
     "shell.execute_reply": "2022-06-04T11:42:08.842088Z"
    },
    "papermill": {
     "duration": 0.010956,
     "end_time": "2022-06-04T11:42:08.843550",
     "exception": false,
     "start_time": "2022-06-04T11:42:08.832594",
     "status": "completed"
    },
    "tags": [
     "parameters"
    ]
   },
   "outputs": [],
   "source": [
    "# DATASET = 'no_dataset'\n",
    "DATASET = 'demo_human_or_worm'\n",
    "VERSION = 0\n",
    "BATCH_SIZE = 64\n",
    "EPOCHS = 1"
   ]
  },
  {
   "cell_type": "code",
   "execution_count": 2,
   "id": "460daccd",
   "metadata": {
    "execution": {
     "iopub.execute_input": "2022-06-04T11:42:08.852041Z",
     "iopub.status.busy": "2022-06-04T11:42:08.851876Z",
     "iopub.status.idle": "2022-06-04T11:42:08.854376Z",
     "shell.execute_reply": "2022-06-04T11:42:08.853913Z"
    },
    "papermill": {
     "duration": 0.007704,
     "end_time": "2022-06-04T11:42:08.855299",
     "exception": false,
     "start_time": "2022-06-04T11:42:08.847595",
     "status": "completed"
    },
    "tags": [
     "injected-parameters"
    ]
   },
   "outputs": [],
   "source": [
    "# Parameters\n",
    "DATASET = \"human_enhancers_cohn\"\n",
    "EPOCHS = 10\n"
   ]
  },
  {
   "cell_type": "code",
   "execution_count": 3,
   "id": "21d99382",
   "metadata": {
    "execution": {
     "iopub.execute_input": "2022-06-04T11:42:08.871914Z",
     "iopub.status.busy": "2022-06-04T11:42:08.871742Z",
     "iopub.status.idle": "2022-06-04T11:42:08.874903Z",
     "shell.execute_reply": "2022-06-04T11:42:08.874495Z"
    },
    "papermill": {
     "duration": 0.00951,
     "end_time": "2022-06-04T11:42:08.875825",
     "exception": false,
     "start_time": "2022-06-04T11:42:08.866315",
     "status": "completed"
    },
    "tags": []
   },
   "outputs": [
    {
     "name": "stdout",
     "output_type": "stream",
     "text": [
      "human_enhancers_cohn 0 64 10\n"
     ]
    }
   ],
   "source": [
    "print(DATASET, VERSION, BATCH_SIZE, EPOCHS)"
   ]
  },
  {
   "cell_type": "markdown",
   "id": "7d670e78",
   "metadata": {
    "papermill": {
     "duration": 0.003583,
     "end_time": "2022-06-04T11:42:08.883513",
     "exception": false,
     "start_time": "2022-06-04T11:42:08.879930",
     "status": "completed"
    },
    "tags": []
   },
   "source": [
    "## Config"
   ]
  },
  {
   "cell_type": "code",
   "execution_count": 4,
   "id": "29510733",
   "metadata": {
    "execution": {
     "iopub.execute_input": "2022-06-04T11:42:08.891884Z",
     "iopub.status.busy": "2022-06-04T11:42:08.891634Z",
     "iopub.status.idle": "2022-06-04T11:42:10.178957Z",
     "shell.execute_reply": "2022-06-04T11:42:10.177947Z"
    },
    "papermill": {
     "duration": 1.292907,
     "end_time": "2022-06-04T11:42:10.180211",
     "exception": false,
     "start_time": "2022-06-04T11:42:08.887304",
     "status": "completed"
    },
    "tags": []
   },
   "outputs": [
    {
     "name": "stderr",
     "output_type": "stream",
     "text": [
      "/opt/conda/envs/bench_env/lib/python3.8/site-packages/tqdm/auto.py:22: TqdmWarning: IProgress not found. Please update jupyter and ipywidgets. See https://ipywidgets.readthedocs.io/en/stable/user_install.html\n",
      "  from .autonotebook import tqdm as notebook_tqdm\n"
     ]
    }
   ],
   "source": [
    "import os\n",
    "import numpy as np\n",
    "import torch\n",
    "from torch import nn\n",
    "from torch.utils.data import DataLoader\n",
    "from torchtext.data.utils import get_tokenizer\n",
    "\n",
    "from genomic_benchmarks.data_check import is_downloaded, info\n",
    "from genomic_benchmarks.dataset_getters.pytorch_datasets import get_dataset\n",
    "from genomic_benchmarks.loc2seq import download_dataset\n",
    "from genomic_benchmarks.models.torch import CNN\n",
    "from genomic_benchmarks.dataset_getters.utils import coll_factory, LetterTokenizer, build_vocab, check_seq_lengths, check_config, VARIABLE_LENGTH_DATASETS"
   ]
  },
  {
   "cell_type": "code",
   "execution_count": 5,
   "id": "56c8ed2e",
   "metadata": {
    "execution": {
     "iopub.execute_input": "2022-06-04T11:42:10.192019Z",
     "iopub.status.busy": "2022-06-04T11:42:10.191250Z",
     "iopub.status.idle": "2022-06-04T11:42:10.194573Z",
     "shell.execute_reply": "2022-06-04T11:42:10.194006Z"
    },
    "papermill": {
     "duration": 0.009437,
     "end_time": "2022-06-04T11:42:10.195532",
     "exception": false,
     "start_time": "2022-06-04T11:42:10.186095",
     "status": "completed"
    },
    "tags": []
   },
   "outputs": [],
   "source": [
    "USE_PADDING = DATASET in VARIABLE_LENGTH_DATASETS"
   ]
  },
  {
   "cell_type": "markdown",
   "id": "312f2174",
   "metadata": {
    "papermill": {
     "duration": 0.004349,
     "end_time": "2022-06-04T11:42:10.203797",
     "exception": false,
     "start_time": "2022-06-04T11:42:10.199448",
     "status": "completed"
    },
    "tags": []
   },
   "source": [
    "## Choose the dataset"
   ]
  },
  {
   "cell_type": "code",
   "execution_count": 6,
   "id": "11023554",
   "metadata": {
    "execution": {
     "iopub.execute_input": "2022-06-04T11:42:10.212187Z",
     "iopub.status.busy": "2022-06-04T11:42:10.212032Z",
     "iopub.status.idle": "2022-06-04T11:43:26.218044Z",
     "shell.execute_reply": "2022-06-04T11:43:26.215709Z"
    },
    "papermill": {
     "duration": 76.012448,
     "end_time": "2022-06-04T11:43:26.220239",
     "exception": false,
     "start_time": "2022-06-04T11:42:10.207791",
     "status": "completed"
    },
    "tags": []
   },
   "outputs": [
    {
     "name": "stderr",
     "output_type": "stream",
     "text": [
      "/home/jovyan/genomic_benchmarks/src/genomic_benchmarks/utils/datasets.py:50: UserWarning: No version specified. Using version 0.\n",
      "  warnings.warn(f\"No version specified. Using version {metadata['version']}.\")\n",
      "Downloading...\n",
      "From: https://drive.google.com/uc?id=176563cDPQ5Y094WyoSBF02QjoVQhWuCh\n",
      "To: /home/jovyan/.genomic_benchmarks/human_enhancers_cohn.zip\n",
      "100%|███████████████████████████████████████████████████████████████████████████████████████████████████████████████████████████████████████████████████████████████████████| 11.9M/11.9M [00:00<00:00, 44.9MB/s]\n"
     ]
    }
   ],
   "source": [
    "if not is_downloaded(DATASET):\n",
    "    download_dataset(DATASET, local_repo=True)"
   ]
  },
  {
   "cell_type": "code",
   "execution_count": 7,
   "id": "77bc636d",
   "metadata": {
    "execution": {
     "iopub.execute_input": "2022-06-04T11:43:26.232730Z",
     "iopub.status.busy": "2022-06-04T11:43:26.232484Z",
     "iopub.status.idle": "2022-06-04T11:43:26.277230Z",
     "shell.execute_reply": "2022-06-04T11:43:26.276600Z"
    },
    "papermill": {
     "duration": 0.05198,
     "end_time": "2022-06-04T11:43:26.278309",
     "exception": false,
     "start_time": "2022-06-04T11:43:26.226329",
     "status": "completed"
    },
    "tags": []
   },
   "outputs": [
    {
     "name": "stdout",
     "output_type": "stream",
     "text": [
      "Dataset `human_enhancers_cohn` has 2 classes: negative, positive.\n",
      "\n",
      "All lengths of genomic intervals equals 500.\n",
      "\n",
      "Totally 27791 sequences have been found, 20843 for training and 6948 for testing.\n"
     ]
    },
    {
     "data": {
      "text/html": [
       "<div>\n",
       "<style scoped>\n",
       "    .dataframe tbody tr th:only-of-type {\n",
       "        vertical-align: middle;\n",
       "    }\n",
       "\n",
       "    .dataframe tbody tr th {\n",
       "        vertical-align: top;\n",
       "    }\n",
       "\n",
       "    .dataframe thead th {\n",
       "        text-align: right;\n",
       "    }\n",
       "</style>\n",
       "<table border=\"1\" class=\"dataframe\">\n",
       "  <thead>\n",
       "    <tr style=\"text-align: right;\">\n",
       "      <th></th>\n",
       "      <th>train</th>\n",
       "      <th>test</th>\n",
       "    </tr>\n",
       "  </thead>\n",
       "  <tbody>\n",
       "    <tr>\n",
       "      <th>negative</th>\n",
       "      <td>10422</td>\n",
       "      <td>3474</td>\n",
       "    </tr>\n",
       "    <tr>\n",
       "      <th>positive</th>\n",
       "      <td>10421</td>\n",
       "      <td>3474</td>\n",
       "    </tr>\n",
       "  </tbody>\n",
       "</table>\n",
       "</div>"
      ],
      "text/plain": [
       "          train  test\n",
       "negative  10422  3474\n",
       "positive  10421  3474"
      ]
     },
     "execution_count": 7,
     "metadata": {},
     "output_type": "execute_result"
    }
   ],
   "source": [
    "info(DATASET, local_repo=True)"
   ]
  },
  {
   "cell_type": "code",
   "execution_count": 8,
   "id": "9a5f6dea",
   "metadata": {
    "execution": {
     "iopub.execute_input": "2022-06-04T11:43:26.289095Z",
     "iopub.status.busy": "2022-06-04T11:43:26.288592Z",
     "iopub.status.idle": "2022-06-04T11:43:26.943935Z",
     "shell.execute_reply": "2022-06-04T11:43:26.942964Z"
    },
    "papermill": {
     "duration": 0.662301,
     "end_time": "2022-06-04T11:43:26.945520",
     "exception": false,
     "start_time": "2022-06-04T11:43:26.283219",
     "status": "completed"
    },
    "tags": []
   },
   "outputs": [],
   "source": [
    "train_dset = get_dataset(DATASET, 'train')"
   ]
  },
  {
   "cell_type": "code",
   "execution_count": 9,
   "id": "6d93b6b6",
   "metadata": {
    "execution": {
     "iopub.execute_input": "2022-06-04T11:43:26.955839Z",
     "iopub.status.busy": "2022-06-04T11:43:26.955665Z",
     "iopub.status.idle": "2022-06-04T11:43:31.836518Z",
     "shell.execute_reply": "2022-06-04T11:43:31.835743Z"
    },
    "papermill": {
     "duration": 4.887649,
     "end_time": "2022-06-04T11:43:31.837678",
     "exception": false,
     "start_time": "2022-06-04T11:43:26.950029",
     "status": "completed"
    },
    "tags": []
   },
   "outputs": [
    {
     "data": {
      "text/plain": [
       "2"
      ]
     },
     "execution_count": 9,
     "metadata": {},
     "output_type": "execute_result"
    }
   ],
   "source": [
    "NUM_CLASSES = len(set([train_dset[i][1] for i in range(len(train_dset))]))\n",
    "NUM_CLASSES"
   ]
  },
  {
   "cell_type": "markdown",
   "id": "4a6bf1a2",
   "metadata": {
    "papermill": {
     "duration": 0.004546,
     "end_time": "2022-06-04T11:43:31.847417",
     "exception": false,
     "start_time": "2022-06-04T11:43:31.842871",
     "status": "completed"
    },
    "tags": []
   },
   "source": [
    "## Tokenizer and vocab"
   ]
  },
  {
   "cell_type": "code",
   "execution_count": 10,
   "id": "f0f9b94a",
   "metadata": {
    "execution": {
     "iopub.execute_input": "2022-06-04T11:43:31.856743Z",
     "iopub.status.busy": "2022-06-04T11:43:31.856584Z",
     "iopub.status.idle": "2022-06-04T11:43:34.894889Z",
     "shell.execute_reply": "2022-06-04T11:43:34.893717Z"
    },
    "papermill": {
     "duration": 3.044455,
     "end_time": "2022-06-04T11:43:34.895982",
     "exception": false,
     "start_time": "2022-06-04T11:43:31.851527",
     "status": "completed"
    },
    "tags": []
   },
   "outputs": [
    {
     "name": "stdout",
     "output_type": "stream",
     "text": [
      "vocab len: 7\n",
      "{'<eos>': 6, 'G': 5, 'A': 4, 'C': 3, 'T': 2, '<bos>': 1, '<unk>': 0}\n"
     ]
    }
   ],
   "source": [
    "tokenizer = get_tokenizer(LetterTokenizer())\n",
    "vocabulary = build_vocab(train_dset, tokenizer, use_padding=USE_PADDING)\n",
    "\n",
    "print(\"vocab len:\" ,vocabulary.__len__())\n",
    "print(vocabulary.get_stoi())"
   ]
  },
  {
   "cell_type": "markdown",
   "id": "95e90b81",
   "metadata": {
    "papermill": {
     "duration": 0.00458,
     "end_time": "2022-06-04T11:43:34.905657",
     "exception": false,
     "start_time": "2022-06-04T11:43:34.901077",
     "status": "completed"
    },
    "tags": []
   },
   "source": [
    "## Dataloader and batch preparation"
   ]
  },
  {
   "cell_type": "code",
   "execution_count": 11,
   "id": "2fcd2c7d",
   "metadata": {
    "execution": {
     "iopub.execute_input": "2022-06-04T11:43:34.915572Z",
     "iopub.status.busy": "2022-06-04T11:43:34.915400Z",
     "iopub.status.idle": "2022-06-04T11:43:39.842237Z",
     "shell.execute_reply": "2022-06-04T11:43:39.841208Z"
    },
    "papermill": {
     "duration": 4.933998,
     "end_time": "2022-06-04T11:43:39.844089",
     "exception": false,
     "start_time": "2022-06-04T11:43:34.910091",
     "status": "completed"
    },
    "tags": []
   },
   "outputs": [
    {
     "name": "stdout",
     "output_type": "stream",
     "text": [
      "Using cuda device\n",
      "max_seq_len  500\n"
     ]
    }
   ],
   "source": [
    "# Run on GPU or CPU\n",
    "device = 'cuda' if torch.cuda.is_available() else 'cpu'\n",
    "print('Using {} device'.format(device))\n",
    "\n",
    "max_seq_len, nn_input_len = check_seq_lengths(dataset=train_dset, use_padding=USE_PADDING)\n",
    "\n",
    "# Data Loader\n",
    "if(USE_PADDING):\n",
    "    collate = coll_factory(vocabulary, tokenizer, device, pad_to_length = nn_input_len)\n",
    "else:\n",
    "    collate = coll_factory(vocabulary, tokenizer, device, pad_to_length = None)\n",
    "\n",
    "train_loader = DataLoader(train_dset, batch_size=BATCH_SIZE, shuffle=True, collate_fn=collate)"
   ]
  },
  {
   "cell_type": "markdown",
   "id": "d7db8951",
   "metadata": {
    "papermill": {
     "duration": 0.00446,
     "end_time": "2022-06-04T11:43:39.853574",
     "exception": false,
     "start_time": "2022-06-04T11:43:39.849114",
     "status": "completed"
    },
    "tags": []
   },
   "source": [
    "## Model"
   ]
  },
  {
   "cell_type": "code",
   "execution_count": 12,
   "id": "df839422",
   "metadata": {
    "execution": {
     "iopub.execute_input": "2022-06-04T11:43:39.863612Z",
     "iopub.status.busy": "2022-06-04T11:43:39.863195Z",
     "iopub.status.idle": "2022-06-04T11:43:46.380076Z",
     "shell.execute_reply": "2022-06-04T11:43:46.378763Z"
    },
    "papermill": {
     "duration": 6.524208,
     "end_time": "2022-06-04T11:43:46.382105",
     "exception": false,
     "start_time": "2022-06-04T11:43:39.857897",
     "status": "completed"
    },
    "tags": []
   },
   "outputs": [],
   "source": [
    "model = CNN(\n",
    "    number_of_classes=NUM_CLASSES,\n",
    "    vocab_size=vocabulary.__len__(),\n",
    "    embedding_dim=100,\n",
    "    input_len=nn_input_len,\n",
    "    device=device\n",
    ").to(device)"
   ]
  },
  {
   "cell_type": "markdown",
   "id": "917e25ca",
   "metadata": {
    "papermill": {
     "duration": 0.004623,
     "end_time": "2022-06-04T11:43:46.391816",
     "exception": false,
     "start_time": "2022-06-04T11:43:46.387193",
     "status": "completed"
    },
    "tags": []
   },
   "source": [
    "## Training"
   ]
  },
  {
   "cell_type": "code",
   "execution_count": 13,
   "id": "564ef91b",
   "metadata": {
    "execution": {
     "iopub.execute_input": "2022-06-04T11:43:46.402444Z",
     "iopub.status.busy": "2022-06-04T11:43:46.402005Z",
     "iopub.status.idle": "2022-06-04T11:45:04.950098Z",
     "shell.execute_reply": "2022-06-04T11:45:04.949064Z"
    },
    "papermill": {
     "duration": 78.555023,
     "end_time": "2022-06-04T11:45:04.951319",
     "exception": false,
     "start_time": "2022-06-04T11:43:46.396296",
     "status": "completed"
    },
    "tags": []
   },
   "outputs": [
    {
     "name": "stdout",
     "output_type": "stream",
     "text": [
      "Epoch 0\n",
      "Train metrics: \n",
      " Accuracy: 64.6%, Avg loss: 0.653962 \n",
      "\n",
      "Epoch 1\n",
      "Train metrics: \n",
      " Accuracy: 67.5%, Avg loss: 0.643216 \n",
      "\n",
      "Epoch 2\n",
      "Train metrics: \n",
      " Accuracy: 68.7%, Avg loss: 0.639047 \n",
      "\n",
      "Epoch 3\n",
      "Train metrics: \n",
      " Accuracy: 68.9%, Avg loss: 0.637780 \n",
      "\n",
      "Epoch 4\n",
      "Train metrics: \n",
      " Accuracy: 69.6%, Avg loss: 0.635052 \n",
      "\n",
      "Epoch 5\n",
      "Train metrics: \n",
      " Accuracy: 70.1%, Avg loss: 0.632791 \n",
      "\n",
      "Epoch 6\n",
      "Train metrics: \n",
      " Accuracy: 70.8%, Avg loss: 0.631207 \n",
      "\n",
      "Epoch 7\n",
      "Train metrics: \n",
      " Accuracy: 70.5%, Avg loss: 0.630917 \n",
      "\n",
      "Epoch 8\n",
      "Train metrics: \n",
      " Accuracy: 70.9%, Avg loss: 0.629024 \n",
      "\n",
      "Epoch 9\n",
      "Train metrics: \n",
      " Accuracy: 71.6%, Avg loss: 0.626794 \n",
      "\n"
     ]
    }
   ],
   "source": [
    "model.fit(train_loader, epochs=EPOCHS)"
   ]
  },
  {
   "cell_type": "markdown",
   "id": "c2e60ae5",
   "metadata": {
    "papermill": {
     "duration": 0.005084,
     "end_time": "2022-06-04T11:45:04.962259",
     "exception": false,
     "start_time": "2022-06-04T11:45:04.957175",
     "status": "completed"
    },
    "tags": []
   },
   "source": [
    "## Testing"
   ]
  },
  {
   "cell_type": "code",
   "execution_count": 14,
   "id": "41db1a7d",
   "metadata": {
    "execution": {
     "iopub.execute_input": "2022-06-04T11:45:04.974659Z",
     "iopub.status.busy": "2022-06-04T11:45:04.974487Z",
     "iopub.status.idle": "2022-06-04T11:45:08.271096Z",
     "shell.execute_reply": "2022-06-04T11:45:08.270045Z"
    },
    "papermill": {
     "duration": 3.305429,
     "end_time": "2022-06-04T11:45:08.272533",
     "exception": false,
     "start_time": "2022-06-04T11:45:04.967104",
     "status": "completed"
    },
    "tags": []
   },
   "outputs": [
    {
     "name": "stdout",
     "output_type": "stream",
     "text": [
      "Test metrics: \n",
      " Accuracy: 0.694588, F1 score: 0.670804, Avg loss: 0.644409 \n",
      "\n"
     ]
    },
    {
     "data": {
      "text/plain": [
       "(0.6945883707541739, 0.6708035991312443)"
      ]
     },
     "execution_count": 14,
     "metadata": {},
     "output_type": "execute_result"
    }
   ],
   "source": [
    "test_dset = get_dataset(DATASET, 'test')\n",
    "test_loader = DataLoader(test_dset, batch_size=BATCH_SIZE, shuffle=True, collate_fn=collate)\n",
    "\n",
    "acc, f1 = model.test(test_loader)\n",
    "acc, f1"
   ]
  }
 ],
 "metadata": {
  "environment": {
   "name": "pytorch-gpu.1-9.m75",
   "type": "gcloud",
   "uri": "gcr.io/deeplearning-platform-release/pytorch-gpu.1-9:m75"
  },
  "interpreter": {
   "hash": "5fb5174addf958ec7b3e9e5d35a565dfd5bab1ae69383cd521f52756e68c7fc3"
  },
  "kernelspec": {
   "display_name": "Python 3 (ipykernel)",
   "language": "python",
   "name": "python3"
  },
  "language_info": {
   "codemirror_mode": {
    "name": "ipython",
    "version": 3
   },
   "file_extension": ".py",
   "mimetype": "text/x-python",
   "name": "python",
   "nbconvert_exporter": "python",
   "pygments_lexer": "ipython3",
   "version": "3.9.10"
  },
  "papermill": {
   "default_parameters": {},
   "duration": 181.282086,
   "end_time": "2022-06-04T11:45:09.197964",
   "environment_variables": {},
   "exception": null,
   "input_path": "utils/torch_cnn_classifier.ipynb",
   "output_path": "torch_cnn_experiments/human_enhancers_cohn.ipynb",
   "parameters": {
    "DATASET": "human_enhancers_cohn",
    "EPOCHS": 10
   },
   "start_time": "2022-06-04T11:42:07.915878",
   "version": "2.3.4"
  }
 },
 "nbformat": 4,
 "nbformat_minor": 5
}
