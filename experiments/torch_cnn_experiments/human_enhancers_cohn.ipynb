{
 "cells": [
  {
   "cell_type": "markdown",
   "id": "c9e4138f",
   "metadata": {
    "papermill": {
     "duration": 0.048038,
     "end_time": "2022-06-03T17:51:25.846889",
     "exception": false,
     "start_time": "2022-06-03T17:51:25.798851",
     "status": "completed"
    },
    "tags": []
   },
   "source": [
    "# PYTORCH CNN Classifier\n",
    "\n",
    "To run this notebook on an another benchmark, use\n",
    "\n",
    "```\n",
    "papermill utils/torch_cnn_classifier.ipynb torch_cnn_experiments/[DATASET NAME].ipynb -p DATASET [DATASET NAME]\n",
    "```"
   ]
  },
  {
   "cell_type": "code",
   "execution_count": 1,
   "id": "5e3af5e6",
   "metadata": {
    "execution": {
     "iopub.execute_input": "2022-06-03T17:51:25.873607Z",
     "iopub.status.busy": "2022-06-03T17:51:25.873327Z",
     "iopub.status.idle": "2022-06-03T17:51:25.874614Z",
     "shell.execute_reply": "2022-06-03T17:51:25.874848Z"
    },
    "papermill": {
     "duration": 0.01971,
     "end_time": "2022-06-03T17:51:25.875004",
     "exception": false,
     "start_time": "2022-06-03T17:51:25.855294",
     "status": "completed"
    },
    "tags": [
     "parameters"
    ]
   },
   "outputs": [],
   "source": [
    "# DATASET = 'no_dataset'\n",
    "DATASET = 'demo_human_or_worm'\n",
    "VERSION = 0\n",
    "BATCH_SIZE = 64\n",
    "EPOCHS = 1"
   ]
  },
  {
   "cell_type": "code",
   "execution_count": 2,
   "id": "80b7898f",
   "metadata": {
    "execution": {
     "iopub.execute_input": "2022-06-03T17:51:25.895079Z",
     "iopub.status.busy": "2022-06-03T17:51:25.894742Z",
     "iopub.status.idle": "2022-06-03T17:51:25.896236Z",
     "shell.execute_reply": "2022-06-03T17:51:25.896500Z"
    },
    "papermill": {
     "duration": 0.013496,
     "end_time": "2022-06-03T17:51:25.896595",
     "exception": false,
     "start_time": "2022-06-03T17:51:25.883099",
     "status": "completed"
    },
    "tags": [
     "injected-parameters"
    ]
   },
   "outputs": [],
   "source": [
    "# Parameters\n",
    "DATASET = \"human_enhancers_cohn\"\n"
   ]
  },
  {
   "cell_type": "code",
   "execution_count": 3,
   "id": "93ca3762",
   "metadata": {
    "execution": {
     "iopub.execute_input": "2022-06-03T17:51:25.915242Z",
     "iopub.status.busy": "2022-06-03T17:51:25.914960Z",
     "iopub.status.idle": "2022-06-03T17:51:25.917579Z",
     "shell.execute_reply": "2022-06-03T17:51:25.917805Z"
    },
    "papermill": {
     "duration": 0.01333,
     "end_time": "2022-06-03T17:51:25.917895",
     "exception": false,
     "start_time": "2022-06-03T17:51:25.904565",
     "status": "completed"
    },
    "tags": []
   },
   "outputs": [
    {
     "name": "stdout",
     "output_type": "stream",
     "text": [
      "human_enhancers_cohn 0 64 1\n"
     ]
    }
   ],
   "source": [
    "print(DATASET, VERSION, BATCH_SIZE, EPOCHS)"
   ]
  },
  {
   "cell_type": "markdown",
   "id": "c1741692",
   "metadata": {
    "papermill": {
     "duration": 0.00871,
     "end_time": "2022-06-03T17:51:25.935651",
     "exception": false,
     "start_time": "2022-06-03T17:51:25.926941",
     "status": "completed"
    },
    "tags": []
   },
   "source": [
    "## Config"
   ]
  },
  {
   "cell_type": "code",
   "execution_count": 4,
   "id": "54efdc28",
   "metadata": {
    "execution": {
     "iopub.execute_input": "2022-06-03T17:51:25.965789Z",
     "iopub.status.busy": "2022-06-03T17:51:25.965440Z",
     "iopub.status.idle": "2022-06-03T17:51:26.838627Z",
     "shell.execute_reply": "2022-06-03T17:51:26.838848Z"
    },
    "papermill": {
     "duration": 0.894192,
     "end_time": "2022-06-03T17:51:26.838933",
     "exception": false,
     "start_time": "2022-06-03T17:51:25.944741",
     "status": "completed"
    },
    "tags": []
   },
   "outputs": [],
   "source": [
    "import os\n",
    "import numpy as np\n",
    "import torch\n",
    "from torch import nn\n",
    "from torch.utils.data import DataLoader\n",
    "from torchtext.data.utils import get_tokenizer\n",
    "\n",
    "from genomic_benchmarks.data_check import is_downloaded, info\n",
    "from genomic_benchmarks.dataset_getters.pytorch_datasets import get_dataset\n",
    "from genomic_benchmarks.loc2seq import download_dataset\n",
    "from genomic_benchmarks.models.torch import CNN\n",
    "from genomic_benchmarks.dataset_getters.utils import coll_factory, LetterTokenizer, build_vocab, check_seq_lengths, check_config, VARIABLE_LENGTH_DATASETS"
   ]
  },
  {
   "cell_type": "code",
   "execution_count": 5,
   "id": "1f9d8d77",
   "metadata": {
    "execution": {
     "iopub.execute_input": "2022-06-03T17:51:26.860686Z",
     "iopub.status.busy": "2022-06-03T17:51:26.859863Z",
     "iopub.status.idle": "2022-06-03T17:51:26.864464Z",
     "shell.execute_reply": "2022-06-03T17:51:26.863774Z"
    },
    "papermill": {
     "duration": 0.016663,
     "end_time": "2022-06-03T17:51:26.864599",
     "exception": false,
     "start_time": "2022-06-03T17:51:26.847936",
     "status": "completed"
    },
    "tags": []
   },
   "outputs": [],
   "source": [
    "USE_PADDING = DATASET in VARIABLE_LENGTH_DATASETS"
   ]
  },
  {
   "cell_type": "markdown",
   "id": "ea62347e",
   "metadata": {
    "papermill": {
     "duration": 0.008883,
     "end_time": "2022-06-03T17:51:26.887487",
     "exception": false,
     "start_time": "2022-06-03T17:51:26.878604",
     "status": "completed"
    },
    "tags": []
   },
   "source": [
    "## Choose the dataset"
   ]
  },
  {
   "cell_type": "code",
   "execution_count": 6,
   "id": "c11c9cc4",
   "metadata": {
    "execution": {
     "iopub.execute_input": "2022-06-03T17:51:26.909040Z",
     "iopub.status.busy": "2022-06-03T17:51:26.908647Z",
     "iopub.status.idle": "2022-06-03T17:51:52.381986Z",
     "shell.execute_reply": "2022-06-03T17:51:52.381467Z"
    },
    "papermill": {
     "duration": 25.486115,
     "end_time": "2022-06-03T17:51:52.382106",
     "exception": false,
     "start_time": "2022-06-03T17:51:26.895991",
     "status": "completed"
    },
    "tags": []
   },
   "outputs": [
    {
     "name": "stderr",
     "output_type": "stream",
     "text": [
      "/home/katarina/git/genomic_benchmarks/src/genomic_benchmarks/utils/datasets.py:50: UserWarning: No version specified. Using version 0.\n",
      "  warnings.warn(f\"No version specified. Using version {metadata['version']}.\")\n"
     ]
    },
    {
     "name": "stderr",
     "output_type": "stream",
     "text": [
      "Downloading...\n",
      "From: https://drive.google.com/uc?id=176563cDPQ5Y094WyoSBF02QjoVQhWuCh\n",
      "To: /home/katarina/.genomic_benchmarks/human_enhancers_cohn.zip\n"
     ]
    },
    {
     "name": "stderr",
     "output_type": "stream",
     "text": [
      "\r\n",
      "  0%|                                                                                                                                                       | 0.00/11.9M [00:00<?, ?B/s]"
     ]
    },
    {
     "name": "stderr",
     "output_type": "stream",
     "text": [
      "\r\n",
      " 13%|██████████████████▊                                                                                                                           | 1.57M/11.9M [00:00<00:00, 15.4MB/s]"
     ]
    },
    {
     "name": "stderr",
     "output_type": "stream",
     "text": [
      "\r\n",
      " 40%|████████████████████████████████████████████████████████▍                                                                                     | 4.72M/11.9M [00:00<00:00, 21.3MB/s]"
     ]
    },
    {
     "name": "stderr",
     "output_type": "stream",
     "text": [
      "\r\n",
      "100%|██████████████████████████████████████████████████████████████████████████████████████████████████████████████████████████████████████████████| 11.9M/11.9M [00:00<00:00, 40.8MB/s]"
     ]
    },
    {
     "name": "stderr",
     "output_type": "stream",
     "text": [
      "\n"
     ]
    }
   ],
   "source": [
    "if not is_downloaded(DATASET):\n",
    "    download_dataset(DATASET, local_repo=True)"
   ]
  },
  {
   "cell_type": "code",
   "execution_count": 7,
   "id": "ad0aa845",
   "metadata": {
    "execution": {
     "iopub.execute_input": "2022-06-03T17:51:52.419274Z",
     "iopub.status.busy": "2022-06-03T17:51:52.418635Z",
     "iopub.status.idle": "2022-06-03T17:51:52.455729Z",
     "shell.execute_reply": "2022-06-03T17:51:52.456008Z"
    },
    "papermill": {
     "duration": 0.054448,
     "end_time": "2022-06-03T17:51:52.456096",
     "exception": false,
     "start_time": "2022-06-03T17:51:52.401648",
     "status": "completed"
    },
    "tags": []
   },
   "outputs": [
    {
     "name": "stdout",
     "output_type": "stream",
     "text": [
      "Dataset `human_enhancers_cohn` has 2 classes: negative, positive.\n",
      "\n",
      "All lengths of genomic intervals equals 500.\n",
      "\n",
      "Totally 27791 sequences have been found, 20843 for training and 6948 for testing.\n"
     ]
    },
    {
     "data": {
      "text/html": [
       "<div>\n",
       "<style scoped>\n",
       "    .dataframe tbody tr th:only-of-type {\n",
       "        vertical-align: middle;\n",
       "    }\n",
       "\n",
       "    .dataframe tbody tr th {\n",
       "        vertical-align: top;\n",
       "    }\n",
       "\n",
       "    .dataframe thead th {\n",
       "        text-align: right;\n",
       "    }\n",
       "</style>\n",
       "<table border=\"1\" class=\"dataframe\">\n",
       "  <thead>\n",
       "    <tr style=\"text-align: right;\">\n",
       "      <th></th>\n",
       "      <th>train</th>\n",
       "      <th>test</th>\n",
       "    </tr>\n",
       "  </thead>\n",
       "  <tbody>\n",
       "    <tr>\n",
       "      <th>negative</th>\n",
       "      <td>10422</td>\n",
       "      <td>3474</td>\n",
       "    </tr>\n",
       "    <tr>\n",
       "      <th>positive</th>\n",
       "      <td>10421</td>\n",
       "      <td>3474</td>\n",
       "    </tr>\n",
       "  </tbody>\n",
       "</table>\n",
       "</div>"
      ],
      "text/plain": [
       "          train  test\n",
       "negative  10422  3474\n",
       "positive  10421  3474"
      ]
     },
     "execution_count": 7,
     "metadata": {},
     "output_type": "execute_result"
    }
   ],
   "source": [
    "info(DATASET, local_repo=True)"
   ]
  },
  {
   "cell_type": "code",
   "execution_count": 8,
   "id": "9c340714",
   "metadata": {
    "execution": {
     "iopub.execute_input": "2022-06-03T17:51:52.482684Z",
     "iopub.status.busy": "2022-06-03T17:51:52.482052Z",
     "iopub.status.idle": "2022-06-03T17:51:52.584061Z",
     "shell.execute_reply": "2022-06-03T17:51:52.584725Z"
    },
    "papermill": {
     "duration": 0.118246,
     "end_time": "2022-06-03T17:51:52.584938",
     "exception": false,
     "start_time": "2022-06-03T17:51:52.466692",
     "status": "completed"
    },
    "tags": []
   },
   "outputs": [],
   "source": [
    "train_dset = get_dataset(DATASET, 'train')"
   ]
  },
  {
   "cell_type": "code",
   "execution_count": 9,
   "id": "e8ff1e78",
   "metadata": {
    "execution": {
     "iopub.execute_input": "2022-06-03T17:51:52.617977Z",
     "iopub.status.busy": "2022-06-03T17:51:52.617689Z",
     "iopub.status.idle": "2022-06-03T17:51:52.909545Z",
     "shell.execute_reply": "2022-06-03T17:51:52.910082Z"
    },
    "papermill": {
     "duration": 0.307084,
     "end_time": "2022-06-03T17:51:52.910234",
     "exception": false,
     "start_time": "2022-06-03T17:51:52.603150",
     "status": "completed"
    },
    "tags": []
   },
   "outputs": [
    {
     "data": {
      "text/plain": [
       "2"
      ]
     },
     "execution_count": 9,
     "metadata": {},
     "output_type": "execute_result"
    }
   ],
   "source": [
    "NUM_CLASSES = len(set([train_dset[i][1] for i in range(len(train_dset))]))\n",
    "NUM_CLASSES"
   ]
  },
  {
   "cell_type": "markdown",
   "id": "f7148d78",
   "metadata": {
    "papermill": {
     "duration": 0.011412,
     "end_time": "2022-06-03T17:51:52.939523",
     "exception": false,
     "start_time": "2022-06-03T17:51:52.928111",
     "status": "completed"
    },
    "tags": []
   },
   "source": [
    "## Tokenizer and vocab"
   ]
  },
  {
   "cell_type": "code",
   "execution_count": 10,
   "id": "6ccc8d88",
   "metadata": {
    "execution": {
     "iopub.execute_input": "2022-06-03T17:51:52.966237Z",
     "iopub.status.busy": "2022-06-03T17:51:52.965926Z",
     "iopub.status.idle": "2022-06-03T17:51:53.604082Z",
     "shell.execute_reply": "2022-06-03T17:51:53.603829Z"
    },
    "papermill": {
     "duration": 0.653689,
     "end_time": "2022-06-03T17:51:53.604151",
     "exception": false,
     "start_time": "2022-06-03T17:51:52.950462",
     "status": "completed"
    },
    "tags": []
   },
   "outputs": [
    {
     "name": "stdout",
     "output_type": "stream",
     "text": [
      "vocab len: 7\n",
      "{'<eos>': 6, 'G': 5, 'T': 4, 'C': 3, 'A': 2, '<bos>': 1, '<unk>': 0}\n"
     ]
    }
   ],
   "source": [
    "tokenizer = get_tokenizer(LetterTokenizer())\n",
    "vocabulary = build_vocab(train_dset, tokenizer, use_padding=USE_PADDING)\n",
    "\n",
    "print(\"vocab len:\" ,vocabulary.__len__())\n",
    "print(vocabulary.get_stoi())"
   ]
  },
  {
   "cell_type": "markdown",
   "id": "dbbc94ff",
   "metadata": {
    "papermill": {
     "duration": 0.011103,
     "end_time": "2022-06-03T17:51:53.627434",
     "exception": false,
     "start_time": "2022-06-03T17:51:53.616331",
     "status": "completed"
    },
    "tags": []
   },
   "source": [
    "## Dataloader and batch preparation"
   ]
  },
  {
   "cell_type": "code",
   "execution_count": 11,
   "id": "443005b1",
   "metadata": {
    "execution": {
     "iopub.execute_input": "2022-06-03T17:51:53.653661Z",
     "iopub.status.busy": "2022-06-03T17:51:53.653351Z",
     "iopub.status.idle": "2022-06-03T17:51:54.135189Z",
     "shell.execute_reply": "2022-06-03T17:51:54.134708Z"
    },
    "papermill": {
     "duration": 0.496656,
     "end_time": "2022-06-03T17:51:54.135312",
     "exception": false,
     "start_time": "2022-06-03T17:51:53.638656",
     "status": "completed"
    },
    "tags": []
   },
   "outputs": [
    {
     "name": "stdout",
     "output_type": "stream",
     "text": [
      "Using cpu device\n"
     ]
    },
    {
     "name": "stdout",
     "output_type": "stream",
     "text": [
      "max_seq_len  500\n"
     ]
    }
   ],
   "source": [
    "# Run on GPU or CPU\n",
    "device = 'cuda' if torch.cuda.is_available() else 'cpu'\n",
    "print('Using {} device'.format(device))\n",
    "\n",
    "max_seq_len, nn_input_len = check_seq_lengths(dataset=train_dset, use_padding=USE_PADDING)\n",
    "\n",
    "# Data Loader\n",
    "if(USE_PADDING):\n",
    "    collate = coll_factory(vocabulary, tokenizer, device, pad_to_length = nn_input_len)\n",
    "else:\n",
    "    collate = coll_factory(vocabulary, tokenizer, device, pad_to_length = None)\n",
    "\n",
    "train_loader = DataLoader(train_dset, batch_size=BATCH_SIZE, shuffle=True, collate_fn=collate)"
   ]
  },
  {
   "cell_type": "markdown",
   "id": "465a37ee",
   "metadata": {
    "papermill": {
     "duration": 0.013611,
     "end_time": "2022-06-03T17:51:54.167098",
     "exception": false,
     "start_time": "2022-06-03T17:51:54.153487",
     "status": "completed"
    },
    "tags": []
   },
   "source": [
    "## Model"
   ]
  },
  {
   "cell_type": "code",
   "execution_count": 12,
   "id": "51713b28",
   "metadata": {
    "execution": {
     "iopub.execute_input": "2022-06-03T17:51:54.196465Z",
     "iopub.status.busy": "2022-06-03T17:51:54.196099Z",
     "iopub.status.idle": "2022-06-03T17:51:54.263558Z",
     "shell.execute_reply": "2022-06-03T17:51:54.263844Z"
    },
    "papermill": {
     "duration": 0.085001,
     "end_time": "2022-06-03T17:51:54.263936",
     "exception": false,
     "start_time": "2022-06-03T17:51:54.178935",
     "status": "completed"
    },
    "tags": []
   },
   "outputs": [],
   "source": [
    "model = CNN(\n",
    "    number_of_classes=NUM_CLASSES,\n",
    "    vocab_size=vocabulary.__len__(),\n",
    "    embedding_dim=100,\n",
    "    input_len=nn_input_len,\n",
    "    device=device\n",
    ").to(device)"
   ]
  },
  {
   "cell_type": "markdown",
   "id": "2f5e0aed",
   "metadata": {
    "papermill": {
     "duration": 0.011762,
     "end_time": "2022-06-03T17:51:54.288064",
     "exception": false,
     "start_time": "2022-06-03T17:51:54.276302",
     "status": "completed"
    },
    "tags": []
   },
   "source": [
    "## Training"
   ]
  },
  {
   "cell_type": "code",
   "execution_count": 13,
   "id": "9b3988ce",
   "metadata": {
    "execution": {
     "iopub.execute_input": "2022-06-03T17:51:54.317201Z",
     "iopub.status.busy": "2022-06-03T17:51:54.316185Z",
     "iopub.status.idle": "2022-06-03T17:52:16.982371Z",
     "shell.execute_reply": "2022-06-03T17:52:16.982082Z"
    },
    "papermill": {
     "duration": 22.682116,
     "end_time": "2022-06-03T17:52:16.982445",
     "exception": false,
     "start_time": "2022-06-03T17:51:54.300329",
     "status": "completed"
    },
    "tags": []
   },
   "outputs": [
    {
     "name": "stdout",
     "output_type": "stream",
     "text": [
      "Epoch 0\n"
     ]
    },
    {
     "name": "stdout",
     "output_type": "stream",
     "text": [
      "Train metrics: \n",
      " Accuracy: 65.0%, Avg loss: 0.650667 \n",
      "\n"
     ]
    }
   ],
   "source": [
    "model.fit(train_loader, epochs=EPOCHS)"
   ]
  },
  {
   "cell_type": "markdown",
   "id": "fd7bb7b1",
   "metadata": {
    "papermill": {
     "duration": 0.01288,
     "end_time": "2022-06-03T17:52:17.009023",
     "exception": false,
     "start_time": "2022-06-03T17:52:16.996143",
     "status": "completed"
    },
    "tags": []
   },
   "source": [
    "## Testing"
   ]
  },
  {
   "cell_type": "code",
   "execution_count": 14,
   "id": "8bc8a3ba",
   "metadata": {
    "execution": {
     "iopub.execute_input": "2022-06-03T17:52:17.040208Z",
     "iopub.status.busy": "2022-06-03T17:52:17.039842Z",
     "iopub.status.idle": "2022-06-03T17:52:20.537197Z",
     "shell.execute_reply": "2022-06-03T17:52:20.536507Z"
    },
    "papermill": {
     "duration": 3.515017,
     "end_time": "2022-06-03T17:52:20.537386",
     "exception": false,
     "start_time": "2022-06-03T17:52:17.022369",
     "status": "completed"
    },
    "tags": []
   },
   "outputs": [
    {
     "name": "stdout",
     "output_type": "stream",
     "text": [
      "Test metrics: \n",
      " Accuracy: 0.651267, F1 score: 0.543089, Avg loss: 0.647512 \n",
      "\n"
     ]
    },
    {
     "data": {
      "text/plain": [
       "(0.6512665515256189, 0.5430888176503865)"
      ]
     },
     "execution_count": 14,
     "metadata": {},
     "output_type": "execute_result"
    }
   ],
   "source": [
    "test_dset = get_dataset(DATASET, 'test')\n",
    "test_loader = DataLoader(test_dset, batch_size=BATCH_SIZE, shuffle=True, collate_fn=collate)\n",
    "\n",
    "acc, f1 = model.test(test_loader)\n",
    "acc, f1"
   ]
  }
 ],
 "metadata": {
  "environment": {
   "name": "pytorch-gpu.1-9.m75",
   "type": "gcloud",
   "uri": "gcr.io/deeplearning-platform-release/pytorch-gpu.1-9:m75"
  },
  "interpreter": {
   "hash": "c04b2f0a582fe344c639614558637ebf7e4dac1d2bb51a42ce655750946697ae"
  },
  "kernelspec": {
   "display_name": "Python 3.8.10 ('venv': venv)",
   "language": "python",
   "name": "python3"
  },
  "language_info": {
   "codemirror_mode": {
    "name": "ipython",
    "version": 3
   },
   "file_extension": ".py",
   "mimetype": "text/x-python",
   "name": "python",
   "nbconvert_exporter": "python",
   "pygments_lexer": "ipython3",
   "version": "3.8.10"
  },
  "papermill": {
   "default_parameters": {},
   "duration": 56.27868,
   "end_time": "2022-06-03T17:52:20.973243",
   "environment_variables": {},
   "exception": null,
   "input_path": "utils/torch_cnn_classifier.ipynb",
   "output_path": "torch_cnn_experiments/human_enhancers_cohn.ipynb",
   "parameters": {
    "DATASET": "human_enhancers_cohn"
   },
   "start_time": "2022-06-03T17:51:24.694563",
   "version": "2.3.4"
  }
 },
 "nbformat": 4,
 "nbformat_minor": 5
}
