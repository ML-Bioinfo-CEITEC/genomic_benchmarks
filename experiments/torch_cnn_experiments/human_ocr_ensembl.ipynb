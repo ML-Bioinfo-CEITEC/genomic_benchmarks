{
 "cells": [
  {
   "cell_type": "markdown",
   "id": "a6305e07",
   "metadata": {
    "papermill": {
     "duration": 0.005046,
     "end_time": "2022-06-04T12:31:03.526572",
     "exception": false,
     "start_time": "2022-06-04T12:31:03.521526",
     "status": "completed"
    },
    "tags": []
   },
   "source": [
    "# PYTORCH CNN Classifier\n",
    "\n",
    "To run this notebook on an another benchmark, use\n",
    "\n",
    "```\n",
    "papermill utils/torch_cnn_classifier.ipynb torch_cnn_experiments/[DATASET NAME].ipynb -p DATASET [DATASET NAME]\n",
    "```"
   ]
  },
  {
   "cell_type": "code",
   "execution_count": 1,
   "id": "40eee9a2",
   "metadata": {
    "execution": {
     "iopub.execute_input": "2022-06-04T12:31:03.535454Z",
     "iopub.status.busy": "2022-06-04T12:31:03.534947Z",
     "iopub.status.idle": "2022-06-04T12:31:03.539702Z",
     "shell.execute_reply": "2022-06-04T12:31:03.539402Z"
    },
    "papermill": {
     "duration": 0.009858,
     "end_time": "2022-06-04T12:31:03.540547",
     "exception": false,
     "start_time": "2022-06-04T12:31:03.530689",
     "status": "completed"
    },
    "tags": [
     "parameters"
    ]
   },
   "outputs": [],
   "source": [
    "# DATASET = 'no_dataset'\n",
    "DATASET = 'demo_human_or_worm'\n",
    "VERSION = 0\n",
    "BATCH_SIZE = 64\n",
    "EPOCHS = 1"
   ]
  },
  {
   "cell_type": "code",
   "execution_count": 2,
   "id": "6523cbc9",
   "metadata": {
    "execution": {
     "iopub.execute_input": "2022-06-04T12:31:03.549136Z",
     "iopub.status.busy": "2022-06-04T12:31:03.548836Z",
     "iopub.status.idle": "2022-06-04T12:31:03.550847Z",
     "shell.execute_reply": "2022-06-04T12:31:03.550548Z"
    },
    "papermill": {
     "duration": 0.006948,
     "end_time": "2022-06-04T12:31:03.551659",
     "exception": false,
     "start_time": "2022-06-04T12:31:03.544711",
     "status": "completed"
    },
    "tags": [
     "injected-parameters"
    ]
   },
   "outputs": [],
   "source": [
    "# Parameters\n",
    "DATASET = \"human_ocr_ensembl\"\n",
    "EPOCHS = 10\n"
   ]
  },
  {
   "cell_type": "code",
   "execution_count": 3,
   "id": "01d3b321",
   "metadata": {
    "execution": {
     "iopub.execute_input": "2022-06-04T12:31:03.559905Z",
     "iopub.status.busy": "2022-06-04T12:31:03.559588Z",
     "iopub.status.idle": "2022-06-04T12:31:03.561943Z",
     "shell.execute_reply": "2022-06-04T12:31:03.561650Z"
    },
    "papermill": {
     "duration": 0.007434,
     "end_time": "2022-06-04T12:31:03.562752",
     "exception": false,
     "start_time": "2022-06-04T12:31:03.555318",
     "status": "completed"
    },
    "tags": []
   },
   "outputs": [
    {
     "name": "stdout",
     "output_type": "stream",
     "text": [
      "human_ocr_ensembl 0 64 10\n"
     ]
    }
   ],
   "source": [
    "print(DATASET, VERSION, BATCH_SIZE, EPOCHS)"
   ]
  },
  {
   "cell_type": "markdown",
   "id": "053c5adf",
   "metadata": {
    "papermill": {
     "duration": 0.003878,
     "end_time": "2022-06-04T12:31:03.570597",
     "exception": false,
     "start_time": "2022-06-04T12:31:03.566719",
     "status": "completed"
    },
    "tags": []
   },
   "source": [
    "## Config"
   ]
  },
  {
   "cell_type": "code",
   "execution_count": 4,
   "id": "d259c735",
   "metadata": {
    "execution": {
     "iopub.execute_input": "2022-06-04T12:31:03.579028Z",
     "iopub.status.busy": "2022-06-04T12:31:03.578675Z",
     "iopub.status.idle": "2022-06-04T12:31:04.806886Z",
     "shell.execute_reply": "2022-06-04T12:31:04.806376Z"
    },
    "papermill": {
     "duration": 1.23368,
     "end_time": "2022-06-04T12:31:04.808094",
     "exception": false,
     "start_time": "2022-06-04T12:31:03.574414",
     "status": "completed"
    },
    "tags": []
   },
   "outputs": [
    {
     "name": "stderr",
     "output_type": "stream",
     "text": [
      "/opt/conda/envs/bench_env/lib/python3.8/site-packages/tqdm/auto.py:22: TqdmWarning: IProgress not found. Please update jupyter and ipywidgets. See https://ipywidgets.readthedocs.io/en/stable/user_install.html\n",
      "  from .autonotebook import tqdm as notebook_tqdm\n"
     ]
    }
   ],
   "source": [
    "import os\n",
    "import numpy as np\n",
    "import torch\n",
    "from torch import nn\n",
    "from torch.utils.data import DataLoader\n",
    "from torchtext.data.utils import get_tokenizer\n",
    "\n",
    "from genomic_benchmarks.data_check import is_downloaded, info\n",
    "from genomic_benchmarks.dataset_getters.pytorch_datasets import get_dataset\n",
    "from genomic_benchmarks.loc2seq import download_dataset\n",
    "from genomic_benchmarks.models.torch import CNN\n",
    "from genomic_benchmarks.dataset_getters.utils import coll_factory, LetterTokenizer, build_vocab, check_seq_lengths, check_config, VARIABLE_LENGTH_DATASETS"
   ]
  },
  {
   "cell_type": "code",
   "execution_count": 5,
   "id": "fef7e869",
   "metadata": {
    "execution": {
     "iopub.execute_input": "2022-06-04T12:31:04.818393Z",
     "iopub.status.busy": "2022-06-04T12:31:04.818142Z",
     "iopub.status.idle": "2022-06-04T12:31:04.820448Z",
     "shell.execute_reply": "2022-06-04T12:31:04.820094Z"
    },
    "papermill": {
     "duration": 0.007882,
     "end_time": "2022-06-04T12:31:04.821262",
     "exception": false,
     "start_time": "2022-06-04T12:31:04.813380",
     "status": "completed"
    },
    "tags": []
   },
   "outputs": [],
   "source": [
    "USE_PADDING = DATASET in VARIABLE_LENGTH_DATASETS"
   ]
  },
  {
   "cell_type": "markdown",
   "id": "7b130684",
   "metadata": {
    "papermill": {
     "duration": 0.003628,
     "end_time": "2022-06-04T12:31:04.828701",
     "exception": false,
     "start_time": "2022-06-04T12:31:04.825073",
     "status": "completed"
    },
    "tags": []
   },
   "source": [
    "## Choose the dataset"
   ]
  },
  {
   "cell_type": "code",
   "execution_count": 6,
   "id": "ddef8971",
   "metadata": {
    "execution": {
     "iopub.execute_input": "2022-06-04T12:31:04.836759Z",
     "iopub.status.busy": "2022-06-04T12:31:04.836496Z",
     "iopub.status.idle": "2022-06-04T12:36:34.346848Z",
     "shell.execute_reply": "2022-06-04T12:36:34.346110Z"
    },
    "papermill": {
     "duration": 329.515799,
     "end_time": "2022-06-04T12:36:34.348271",
     "exception": false,
     "start_time": "2022-06-04T12:31:04.832472",
     "status": "completed"
    },
    "tags": []
   },
   "outputs": [
    {
     "name": "stderr",
     "output_type": "stream",
     "text": [
      "/home/jovyan/genomic_benchmarks/src/genomic_benchmarks/utils/datasets.py:50: UserWarning: No version specified. Using version 0.\n",
      "  warnings.warn(f\"No version specified. Using version {metadata['version']}.\")\n",
      "Downloading...\n",
      "From: https://drive.google.com/uc?id=1y_LInRF2aRXysigpwv_oU3Q67VVxfk18\n",
      "To: /home/jovyan/.genomic_benchmarks/human_ocr_ensembl.zip\n",
      "100%|████████████████████████████████████████████████████████████████████████████████████████████████████████████████████████████████████████████████████████████████████████| 59.0M/59.0M [00:00<00:00, 114MB/s]\n"
     ]
    }
   ],
   "source": [
    "if not is_downloaded(DATASET):\n",
    "    download_dataset(DATASET, local_repo=True)"
   ]
  },
  {
   "cell_type": "code",
   "execution_count": 7,
   "id": "92113686",
   "metadata": {
    "execution": {
     "iopub.execute_input": "2022-06-04T12:36:34.359982Z",
     "iopub.status.busy": "2022-06-04T12:36:34.359803Z",
     "iopub.status.idle": "2022-06-04T12:36:34.462554Z",
     "shell.execute_reply": "2022-06-04T12:36:34.462137Z"
    },
    "papermill": {
     "duration": 0.10914,
     "end_time": "2022-06-04T12:36:34.463407",
     "exception": false,
     "start_time": "2022-06-04T12:36:34.354267",
     "status": "completed"
    },
    "tags": []
   },
   "outputs": [
    {
     "name": "stdout",
     "output_type": "stream",
     "text": [
      "Dataset `human_ocr_ensembl` has 2 classes: negative, positive.\n",
      "\n",
      "The length of genomic intervals ranges from 71 to 593, with average 326.3452470873675 and median 315.0.\n",
      "\n",
      "Totally 174756 sequences have been found, 139804 for training and 34952 for testing.\n"
     ]
    },
    {
     "data": {
      "text/html": [
       "<div>\n",
       "<style scoped>\n",
       "    .dataframe tbody tr th:only-of-type {\n",
       "        vertical-align: middle;\n",
       "    }\n",
       "\n",
       "    .dataframe tbody tr th {\n",
       "        vertical-align: top;\n",
       "    }\n",
       "\n",
       "    .dataframe thead th {\n",
       "        text-align: right;\n",
       "    }\n",
       "</style>\n",
       "<table border=\"1\" class=\"dataframe\">\n",
       "  <thead>\n",
       "    <tr style=\"text-align: right;\">\n",
       "      <th></th>\n",
       "      <th>train</th>\n",
       "      <th>test</th>\n",
       "    </tr>\n",
       "  </thead>\n",
       "  <tbody>\n",
       "    <tr>\n",
       "      <th>negative</th>\n",
       "      <td>69902</td>\n",
       "      <td>17476</td>\n",
       "    </tr>\n",
       "    <tr>\n",
       "      <th>positive</th>\n",
       "      <td>69902</td>\n",
       "      <td>17476</td>\n",
       "    </tr>\n",
       "  </tbody>\n",
       "</table>\n",
       "</div>"
      ],
      "text/plain": [
       "          train   test\n",
       "negative  69902  17476\n",
       "positive  69902  17476"
      ]
     },
     "execution_count": 7,
     "metadata": {},
     "output_type": "execute_result"
    }
   ],
   "source": [
    "info(DATASET, local_repo=True)"
   ]
  },
  {
   "cell_type": "code",
   "execution_count": 8,
   "id": "f02929e6",
   "metadata": {
    "execution": {
     "iopub.execute_input": "2022-06-04T12:36:34.474224Z",
     "iopub.status.busy": "2022-06-04T12:36:34.474024Z",
     "iopub.status.idle": "2022-06-04T12:36:38.330155Z",
     "shell.execute_reply": "2022-06-04T12:36:38.329663Z"
    },
    "papermill": {
     "duration": 3.86317,
     "end_time": "2022-06-04T12:36:38.331743",
     "exception": false,
     "start_time": "2022-06-04T12:36:34.468573",
     "status": "completed"
    },
    "tags": []
   },
   "outputs": [],
   "source": [
    "train_dset = get_dataset(DATASET, 'train')"
   ]
  },
  {
   "cell_type": "code",
   "execution_count": 9,
   "id": "a6de356f",
   "metadata": {
    "execution": {
     "iopub.execute_input": "2022-06-04T12:36:38.344830Z",
     "iopub.status.busy": "2022-06-04T12:36:38.344329Z",
     "iopub.status.idle": "2022-06-04T12:37:10.432501Z",
     "shell.execute_reply": "2022-06-04T12:37:10.432012Z"
    },
    "papermill": {
     "duration": 32.099513,
     "end_time": "2022-06-04T12:37:10.437917",
     "exception": false,
     "start_time": "2022-06-04T12:36:38.338404",
     "status": "completed"
    },
    "tags": []
   },
   "outputs": [
    {
     "data": {
      "text/plain": [
       "2"
      ]
     },
     "execution_count": 9,
     "metadata": {},
     "output_type": "execute_result"
    }
   ],
   "source": [
    "NUM_CLASSES = len(set([train_dset[i][1] for i in range(len(train_dset))]))\n",
    "NUM_CLASSES"
   ]
  },
  {
   "cell_type": "markdown",
   "id": "2ae86f3f",
   "metadata": {
    "papermill": {
     "duration": 0.004401,
     "end_time": "2022-06-04T12:37:10.446927",
     "exception": false,
     "start_time": "2022-06-04T12:37:10.442526",
     "status": "completed"
    },
    "tags": []
   },
   "source": [
    "## Tokenizer and vocab"
   ]
  },
  {
   "cell_type": "code",
   "execution_count": 10,
   "id": "b39b79c8",
   "metadata": {
    "execution": {
     "iopub.execute_input": "2022-06-04T12:37:10.456394Z",
     "iopub.status.busy": "2022-06-04T12:37:10.456229Z",
     "iopub.status.idle": "2022-06-04T12:37:29.759613Z",
     "shell.execute_reply": "2022-06-04T12:37:29.758869Z"
    },
    "papermill": {
     "duration": 19.309546,
     "end_time": "2022-06-04T12:37:29.760730",
     "exception": false,
     "start_time": "2022-06-04T12:37:10.451184",
     "status": "completed"
    },
    "tags": []
   },
   "outputs": [
    {
     "name": "stdout",
     "output_type": "stream",
     "text": [
      "vocab len: 9\n",
      "{'<eos>': 6, 'G': 5, 'C': 4, 'A': 3, '<pad>': 8, 'T': 2, '<bos>': 1, 'N': 7, '<unk>': 0}\n"
     ]
    }
   ],
   "source": [
    "tokenizer = get_tokenizer(LetterTokenizer())\n",
    "vocabulary = build_vocab(train_dset, tokenizer, use_padding=USE_PADDING)\n",
    "\n",
    "print(\"vocab len:\" ,vocabulary.__len__())\n",
    "print(vocabulary.get_stoi())"
   ]
  },
  {
   "cell_type": "markdown",
   "id": "9029c0c5",
   "metadata": {
    "papermill": {
     "duration": 0.006063,
     "end_time": "2022-06-04T12:37:29.772009",
     "exception": false,
     "start_time": "2022-06-04T12:37:29.765946",
     "status": "completed"
    },
    "tags": []
   },
   "source": [
    "## Dataloader and batch preparation"
   ]
  },
  {
   "cell_type": "code",
   "execution_count": 11,
   "id": "72feafbd",
   "metadata": {
    "execution": {
     "iopub.execute_input": "2022-06-04T12:37:29.781769Z",
     "iopub.status.busy": "2022-06-04T12:37:29.781540Z",
     "iopub.status.idle": "2022-06-04T12:38:02.792528Z",
     "shell.execute_reply": "2022-06-04T12:38:02.791935Z"
    },
    "papermill": {
     "duration": 33.021387,
     "end_time": "2022-06-04T12:38:02.797851",
     "exception": false,
     "start_time": "2022-06-04T12:37:29.776464",
     "status": "completed"
    },
    "tags": []
   },
   "outputs": [
    {
     "name": "stdout",
     "output_type": "stream",
     "text": [
      "Using cuda device\n",
      "max_seq_len  593\n",
      "not all sequences are of the same length\n"
     ]
    }
   ],
   "source": [
    "# Run on GPU or CPU\n",
    "device = 'cuda' if torch.cuda.is_available() else 'cpu'\n",
    "print('Using {} device'.format(device))\n",
    "\n",
    "max_seq_len, nn_input_len = check_seq_lengths(dataset=train_dset, use_padding=USE_PADDING)\n",
    "\n",
    "# Data Loader\n",
    "if(USE_PADDING):\n",
    "    collate = coll_factory(vocabulary, tokenizer, device, pad_to_length = nn_input_len)\n",
    "else:\n",
    "    collate = coll_factory(vocabulary, tokenizer, device, pad_to_length = None)\n",
    "\n",
    "train_loader = DataLoader(train_dset, batch_size=BATCH_SIZE, shuffle=True, collate_fn=collate)"
   ]
  },
  {
   "cell_type": "markdown",
   "id": "3ef29e6c",
   "metadata": {
    "papermill": {
     "duration": 0.004437,
     "end_time": "2022-06-04T12:38:02.807160",
     "exception": false,
     "start_time": "2022-06-04T12:38:02.802723",
     "status": "completed"
    },
    "tags": []
   },
   "source": [
    "## Model"
   ]
  },
  {
   "cell_type": "code",
   "execution_count": 12,
   "id": "bb84a53d",
   "metadata": {
    "execution": {
     "iopub.execute_input": "2022-06-04T12:38:02.816840Z",
     "iopub.status.busy": "2022-06-04T12:38:02.816599Z",
     "iopub.status.idle": "2022-06-04T12:38:07.828857Z",
     "shell.execute_reply": "2022-06-04T12:38:07.828195Z"
    },
    "papermill": {
     "duration": 5.019451,
     "end_time": "2022-06-04T12:38:07.830993",
     "exception": false,
     "start_time": "2022-06-04T12:38:02.811542",
     "status": "completed"
    },
    "tags": []
   },
   "outputs": [],
   "source": [
    "model = CNN(\n",
    "    number_of_classes=NUM_CLASSES,\n",
    "    vocab_size=vocabulary.__len__(),\n",
    "    embedding_dim=100,\n",
    "    input_len=nn_input_len,\n",
    "    device=device\n",
    ").to(device)"
   ]
  },
  {
   "cell_type": "markdown",
   "id": "6d6c7f7d",
   "metadata": {
    "papermill": {
     "duration": 0.005084,
     "end_time": "2022-06-04T12:38:07.842041",
     "exception": false,
     "start_time": "2022-06-04T12:38:07.836957",
     "status": "completed"
    },
    "tags": []
   },
   "source": [
    "## Training"
   ]
  },
  {
   "cell_type": "code",
   "execution_count": 13,
   "id": "0fa61f93",
   "metadata": {
    "execution": {
     "iopub.execute_input": "2022-06-04T12:38:07.852855Z",
     "iopub.status.busy": "2022-06-04T12:38:07.852586Z",
     "iopub.status.idle": "2022-06-04T12:46:44.731853Z",
     "shell.execute_reply": "2022-06-04T12:46:44.731153Z"
    },
    "papermill": {
     "duration": 516.893208,
     "end_time": "2022-06-04T12:46:44.740295",
     "exception": false,
     "start_time": "2022-06-04T12:38:07.847087",
     "status": "completed"
    },
    "tags": []
   },
   "outputs": [
    {
     "name": "stdout",
     "output_type": "stream",
     "text": [
      "Epoch 0\n"
     ]
    },
    {
     "name": "stderr",
     "output_type": "stream",
     "text": [
      "/home/jovyan/genomic_benchmarks/src/genomic_benchmarks/dataset_getters/utils.py:27: UserWarning: To copy construct from a tensor, it is recommended to use sourceTensor.clone().detach() or sourceTensor.clone().detach().requires_grad_(True), rather than torch.tensor(sourceTensor).\n",
      "  x = torch.tensor(pad(x), dtype=torch.long)\n"
     ]
    },
    {
     "name": "stdout",
     "output_type": "stream",
     "text": [
      "Train metrics: \n",
      " Accuracy: 58.1%, Avg loss: 0.672040 \n",
      "\n",
      "Epoch 1\n",
      "Train metrics: \n",
      " Accuracy: 61.7%, Avg loss: 0.661188 \n",
      "\n",
      "Epoch 2\n",
      "Train metrics: \n",
      " Accuracy: 64.5%, Avg loss: 0.652899 \n",
      "\n",
      "Epoch 3\n",
      "Train metrics: \n",
      " Accuracy: 65.8%, Avg loss: 0.648177 \n",
      "\n",
      "Epoch 4\n",
      "Train metrics: \n",
      " Accuracy: 66.2%, Avg loss: 0.646738 \n",
      "\n",
      "Epoch 5\n",
      "Train metrics: \n",
      " Accuracy: 66.4%, Avg loss: 0.645585 \n",
      "\n",
      "Epoch 6\n",
      "Train metrics: \n",
      " Accuracy: 67.0%, Avg loss: 0.643431 \n",
      "\n",
      "Epoch 7\n",
      "Train metrics: \n",
      " Accuracy: 67.1%, Avg loss: 0.643377 \n",
      "\n",
      "Epoch 8\n",
      "Train metrics: \n",
      " Accuracy: 67.6%, Avg loss: 0.641787 \n",
      "\n",
      "Epoch 9\n",
      "Train metrics: \n",
      " Accuracy: 67.8%, Avg loss: 0.641161 \n",
      "\n"
     ]
    }
   ],
   "source": [
    "model.fit(train_loader, epochs=EPOCHS)"
   ]
  },
  {
   "cell_type": "markdown",
   "id": "92b104e2",
   "metadata": {
    "papermill": {
     "duration": 0.00487,
     "end_time": "2022-06-04T12:46:44.750385",
     "exception": false,
     "start_time": "2022-06-04T12:46:44.745515",
     "status": "completed"
    },
    "tags": []
   },
   "source": [
    "## Testing"
   ]
  },
  {
   "cell_type": "code",
   "execution_count": 14,
   "id": "aec0c54a",
   "metadata": {
    "execution": {
     "iopub.execute_input": "2022-06-04T12:46:44.761526Z",
     "iopub.status.busy": "2022-06-04T12:46:44.761311Z",
     "iopub.status.idle": "2022-06-04T12:47:01.598594Z",
     "shell.execute_reply": "2022-06-04T12:47:01.598200Z"
    },
    "papermill": {
     "duration": 16.84446,
     "end_time": "2022-06-04T12:47:01.599715",
     "exception": false,
     "start_time": "2022-06-04T12:46:44.755255",
     "status": "completed"
    },
    "tags": []
   },
   "outputs": [
    {
     "name": "stdout",
     "output_type": "stream",
     "text": [
      "Test metrics: \n",
      " Accuracy: 0.679789, F1 score: 0.661218, Avg loss: 0.655001 \n",
      "\n"
     ]
    },
    {
     "data": {
      "text/plain": [
       "(0.6797894254978256, 0.6612180651410583)"
      ]
     },
     "execution_count": 14,
     "metadata": {},
     "output_type": "execute_result"
    }
   ],
   "source": [
    "test_dset = get_dataset(DATASET, 'test')\n",
    "test_loader = DataLoader(test_dset, batch_size=BATCH_SIZE, shuffle=True, collate_fn=collate)\n",
    "\n",
    "acc, f1 = model.test(test_loader)\n",
    "acc, f1"
   ]
  }
 ],
 "metadata": {
  "environment": {
   "name": "pytorch-gpu.1-9.m75",
   "type": "gcloud",
   "uri": "gcr.io/deeplearning-platform-release/pytorch-gpu.1-9:m75"
  },
  "interpreter": {
   "hash": "5fb5174addf958ec7b3e9e5d35a565dfd5bab1ae69383cd521f52756e68c7fc3"
  },
  "kernelspec": {
   "display_name": "Python 3 (ipykernel)",
   "language": "python",
   "name": "python3"
  },
  "language_info": {
   "codemirror_mode": {
    "name": "ipython",
    "version": 3
   },
   "file_extension": ".py",
   "mimetype": "text/x-python",
   "name": "python",
   "nbconvert_exporter": "python",
   "pygments_lexer": "ipython3",
   "version": "3.9.10"
  },
  "papermill": {
   "default_parameters": {},
   "duration": 959.809956,
   "end_time": "2022-06-04T12:47:02.423749",
   "environment_variables": {},
   "exception": null,
   "input_path": "utils/torch_cnn_classifier.ipynb",
   "output_path": "torch_cnn_experiments/human_ocr_ensembl.ipynb",
   "parameters": {
    "DATASET": "human_ocr_ensembl",
    "EPOCHS": 10
   },
   "start_time": "2022-06-04T12:31:02.613793",
   "version": "2.3.4"
  }
 },
 "nbformat": 4,
 "nbformat_minor": 5
}
