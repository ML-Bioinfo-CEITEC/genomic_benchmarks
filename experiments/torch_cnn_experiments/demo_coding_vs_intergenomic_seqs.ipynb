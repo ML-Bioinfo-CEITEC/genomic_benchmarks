{
 "cells": [
  {
   "cell_type": "code",
   "execution_count": 1,
   "id": "44eb8ca5",
   "metadata": {
    "execution": {
     "iopub.execute_input": "2021-11-03T12:15:45.642006Z",
     "iopub.status.busy": "2021-11-03T12:15:45.641047Z",
     "iopub.status.idle": "2021-11-03T12:15:45.644953Z",
     "shell.execute_reply": "2021-11-03T12:15:45.645600Z"
    },
    "papermill": {
     "duration": 0.02241,
     "end_time": "2021-11-03T12:15:45.645882",
     "exception": false,
     "start_time": "2021-11-03T12:15:45.623472",
     "status": "completed"
    },
    "tags": [
     "parameters"
    ]
   },
   "outputs": [],
   "source": [
    "DATASET = 'no_dataset'\n",
    "VERSION = 0\n",
    "BATCH_SIZE = 32\n",
    "EPOCHS = 10"
   ]
  },
  {
   "cell_type": "code",
   "execution_count": 2,
   "id": "d002073c",
   "metadata": {
    "execution": {
     "iopub.execute_input": "2021-11-03T12:15:45.672983Z",
     "iopub.status.busy": "2021-11-03T12:15:45.671768Z",
     "iopub.status.idle": "2021-11-03T12:15:45.675237Z",
     "shell.execute_reply": "2021-11-03T12:15:45.674630Z"
    },
    "papermill": {
     "duration": 0.018124,
     "end_time": "2021-11-03T12:15:45.675422",
     "exception": false,
     "start_time": "2021-11-03T12:15:45.657298",
     "status": "completed"
    },
    "tags": [
     "injected-parameters"
    ]
   },
   "outputs": [],
   "source": [
    "# Parameters\n",
    "DATASET = \"demo_coding_vs_intergenomic_seqs\"\n"
   ]
  },
  {
   "cell_type": "code",
   "execution_count": 3,
   "id": "188bdc01",
   "metadata": {
    "execution": {
     "iopub.execute_input": "2021-11-03T12:15:45.702370Z",
     "iopub.status.busy": "2021-11-03T12:15:45.701642Z",
     "iopub.status.idle": "2021-11-03T12:15:45.705461Z",
     "shell.execute_reply": "2021-11-03T12:15:45.706014Z"
    },
    "papermill": {
     "duration": 0.01951,
     "end_time": "2021-11-03T12:15:45.706151",
     "exception": false,
     "start_time": "2021-11-03T12:15:45.686641",
     "status": "completed"
    },
    "tags": []
   },
   "outputs": [
    {
     "name": "stdout",
     "output_type": "stream",
     "text": [
      "demo_coding_vs_intergenomic_seqs 0 32 10\n"
     ]
    }
   ],
   "source": [
    "print(DATASET, VERSION, BATCH_SIZE, EPOCHS)"
   ]
  },
  {
   "cell_type": "markdown",
   "id": "7ad9a398",
   "metadata": {
    "papermill": {
     "duration": 0.011735,
     "end_time": "2021-11-03T12:15:45.729757",
     "exception": false,
     "start_time": "2021-11-03T12:15:45.718022",
     "status": "completed"
    },
    "tags": []
   },
   "source": [
    "## Config"
   ]
  },
  {
   "cell_type": "code",
   "execution_count": 4,
   "id": "80e0d8fd",
   "metadata": {
    "execution": {
     "iopub.execute_input": "2021-11-03T12:15:45.758217Z",
     "iopub.status.busy": "2021-11-03T12:15:45.756994Z",
     "iopub.status.idle": "2021-11-03T12:15:46.957955Z",
     "shell.execute_reply": "2021-11-03T12:15:46.957458Z"
    },
    "papermill": {
     "duration": 1.217009,
     "end_time": "2021-11-03T12:15:46.958095",
     "exception": false,
     "start_time": "2021-11-03T12:15:45.741086",
     "status": "completed"
    },
    "tags": []
   },
   "outputs": [],
   "source": [
    "import os\n",
    "import numpy as np\n",
    "import torch\n",
    "from torch import nn\n",
    "from torch.utils.data import DataLoader\n",
    "from torchtext.data.utils import get_tokenizer\n",
    "\n",
    "from genomic_benchmarks.dataset_getters.pytorch_datasets import get_dataset\n",
    "from genomic_benchmarks.models.torch_cnn import CNN\n",
    "from genomic_benchmarks.dataset_getters.utils import coll_factory, LetterTokenizer, build_vocab, check_seq_lengths, check_config, VARIABLE_LENGTH_DATASETS\n",
    "from genomic_benchmarks.data_check import list_datasets, info\n"
   ]
  },
  {
   "cell_type": "code",
   "execution_count": 5,
   "id": "7b59adfa",
   "metadata": {
    "execution": {
     "iopub.execute_input": "2021-11-03T12:15:46.987792Z",
     "iopub.status.busy": "2021-11-03T12:15:46.987211Z",
     "iopub.status.idle": "2021-11-03T12:15:46.997658Z",
     "shell.execute_reply": "2021-11-03T12:15:46.998185Z"
    },
    "papermill": {
     "duration": 0.027111,
     "end_time": "2021-11-03T12:15:46.998330",
     "exception": false,
     "start_time": "2021-11-03T12:15:46.971219",
     "status": "completed"
    },
    "tags": []
   },
   "outputs": [
    {
     "data": {
      "text/plain": [
       "['human_enhancers_cohn',\n",
       " 'demo_mouse_enhancers',\n",
       " 'human_nontata_promoters',\n",
       " 'translated_demo_mouse_enhancers',\n",
       " 'human_enhancers_ensembl',\n",
       " 'demo_human_or_worm',\n",
       " 'demo_coding_vs_intergenomic_seqs']"
      ]
     },
     "execution_count": 5,
     "metadata": {},
     "output_type": "execute_result"
    }
   ],
   "source": [
    "list_datasets()"
   ]
  },
  {
   "cell_type": "code",
   "execution_count": 6,
   "id": "20ad041f",
   "metadata": {
    "execution": {
     "iopub.execute_input": "2021-11-03T12:15:47.028300Z",
     "iopub.status.busy": "2021-11-03T12:15:47.027390Z",
     "iopub.status.idle": "2021-11-03T12:15:47.030130Z",
     "shell.execute_reply": "2021-11-03T12:15:47.030658Z"
    },
    "papermill": {
     "duration": 0.020468,
     "end_time": "2021-11-03T12:15:47.030858",
     "exception": false,
     "start_time": "2021-11-03T12:15:47.010390",
     "status": "completed"
    },
    "tags": []
   },
   "outputs": [],
   "source": [
    "USE_PADDING = DATASET in VARIABLE_LENGTH_DATASETS\n",
    "    \n",
    "config = {\n",
    "    \"dataset\": DATASET,\n",
    "    \"dataset_version\": VERSION,\n",
    "    \"epochs\": EPOCHS,\n",
    "    \"batch_size\": BATCH_SIZE,\n",
    "    \"use_padding\": USE_PADDING,\n",
    "    \"force_download\": False,\n",
    "    \"run_on_gpu\": True,\n",
    "    \"number_of_classes\": 2,\n",
    "    \"embedding_dim\": 100,\n",
    "}\n",
    "check_config(config)"
   ]
  },
  {
   "cell_type": "markdown",
   "id": "6efbed02",
   "metadata": {
    "papermill": {
     "duration": 0.012399,
     "end_time": "2021-11-03T12:15:47.056300",
     "exception": false,
     "start_time": "2021-11-03T12:15:47.043901",
     "status": "completed"
    },
    "tags": []
   },
   "source": [
    "## Choose the dataset"
   ]
  },
  {
   "cell_type": "code",
   "execution_count": 7,
   "id": "0afc6f3b",
   "metadata": {
    "execution": {
     "iopub.execute_input": "2021-11-03T12:15:47.085953Z",
     "iopub.status.busy": "2021-11-03T12:15:47.084129Z",
     "iopub.status.idle": "2021-11-03T12:16:03.443005Z",
     "shell.execute_reply": "2021-11-03T12:16:03.443579Z"
    },
    "papermill": {
     "duration": 16.375301,
     "end_time": "2021-11-03T12:16:03.443747",
     "exception": false,
     "start_time": "2021-11-03T12:15:47.068446",
     "status": "completed"
    },
    "tags": []
   },
   "outputs": [
    {
     "name": "stderr",
     "output_type": "stream",
     "text": [
      "/home/jupyter/genomic_benchmarks/src/genomic_benchmarks/loc2seq/with_biopython.py:96: UserWarning: No version specified. Using version 0.\n",
      "  warnings.warn(f\"No version specified. Using version {metadata['version']}.\")\n"
     ]
    },
    {
     "name": "stdout",
     "output_type": "stream",
     "text": [
      "Downloading 1cpXg0ULuTGF7h1_HTYvc6p8M-ee43t-v into /home/jupyter/.genomic_benchmarks/translated_demo_coding_vs_intergenomic_seqs/demo_coding_vs_intergenomic_seqs.zip... "
     ]
    },
    {
     "name": "stdout",
     "output_type": "stream",
     "text": [
      "Done.\n",
      "Unzipping..."
     ]
    },
    {
     "name": "stdout",
     "output_type": "stream",
     "text": [
      "Done.\n"
     ]
    }
   ],
   "source": [
    "train_dset = get_dataset(config[\"dataset\"], 'train')"
   ]
  },
  {
   "cell_type": "markdown",
   "id": "c206152b",
   "metadata": {
    "papermill": {
     "duration": 0.013247,
     "end_time": "2021-11-03T12:16:03.470147",
     "exception": false,
     "start_time": "2021-11-03T12:16:03.456900",
     "status": "completed"
    },
    "tags": []
   },
   "source": [
    "## Tokenizer and vocab"
   ]
  },
  {
   "cell_type": "code",
   "execution_count": 8,
   "id": "3c893bb1",
   "metadata": {
    "execution": {
     "iopub.execute_input": "2021-11-03T12:16:03.500637Z",
     "iopub.status.busy": "2021-11-03T12:16:03.499720Z",
     "iopub.status.idle": "2021-11-03T12:16:07.295896Z",
     "shell.execute_reply": "2021-11-03T12:16:07.295281Z"
    },
    "papermill": {
     "duration": 3.813274,
     "end_time": "2021-11-03T12:16:07.296022",
     "exception": false,
     "start_time": "2021-11-03T12:16:03.482748",
     "status": "completed"
    },
    "tags": []
   },
   "outputs": [
    {
     "name": "stdout",
     "output_type": "stream",
     "text": [
      "vocab len: 7\n",
      "{'C': 5, 'A': 4, '<eos>': 6, 'G': 3, 'T': 2, '<bos>': 1, '<unk>': 0}\n"
     ]
    }
   ],
   "source": [
    "tokenizer = get_tokenizer(LetterTokenizer())\n",
    "vocabulary = build_vocab(train_dset, tokenizer, use_padding=config[\"use_padding\"])\n",
    "\n",
    "print(\"vocab len:\" ,vocabulary.__len__())\n",
    "print(vocabulary.get_stoi())"
   ]
  },
  {
   "cell_type": "markdown",
   "id": "c123ef5c",
   "metadata": {
    "papermill": {
     "duration": 0.013554,
     "end_time": "2021-11-03T12:16:07.323981",
     "exception": false,
     "start_time": "2021-11-03T12:16:07.310427",
     "status": "completed"
    },
    "tags": []
   },
   "source": [
    "## Dataloader and batch preparation"
   ]
  },
  {
   "cell_type": "code",
   "execution_count": 9,
   "id": "c4abc9ca",
   "metadata": {
    "execution": {
     "iopub.execute_input": "2021-11-03T12:16:07.366114Z",
     "iopub.status.busy": "2021-11-03T12:16:07.365490Z",
     "iopub.status.idle": "2021-11-03T12:16:10.955691Z",
     "shell.execute_reply": "2021-11-03T12:16:10.955168Z"
    },
    "papermill": {
     "duration": 3.618364,
     "end_time": "2021-11-03T12:16:10.955845",
     "exception": false,
     "start_time": "2021-11-03T12:16:07.337481",
     "status": "completed"
    },
    "tags": []
   },
   "outputs": [
    {
     "name": "stdout",
     "output_type": "stream",
     "text": [
      "Using cuda device\n"
     ]
    },
    {
     "name": "stdout",
     "output_type": "stream",
     "text": [
      "max_seq_len  200\n"
     ]
    }
   ],
   "source": [
    "# Run on GPU or CPU\n",
    "device = 'cuda' if config[\"run_on_gpu\"] and torch.cuda.is_available() else 'cpu'\n",
    "print('Using {} device'.format(device))\n",
    "\n",
    "max_seq_len, nn_input_len = check_seq_lengths(dataset=train_dset, config=config)\n",
    "\n",
    "# Data Loader\n",
    "if(config[\"use_padding\"]):\n",
    "    collate = coll_factory(vocabulary, tokenizer, device, pad_to_length = nn_input_len)\n",
    "else:\n",
    "    collate = coll_factory(vocabulary, tokenizer, device, pad_to_length = None)\n",
    "\n",
    "train_loader = DataLoader(train_dset, batch_size=config[\"batch_size\"], shuffle=True, collate_fn=collate)"
   ]
  },
  {
   "cell_type": "markdown",
   "id": "25b90d5b",
   "metadata": {
    "papermill": {
     "duration": 0.015063,
     "end_time": "2021-11-03T12:16:10.986528",
     "exception": false,
     "start_time": "2021-11-03T12:16:10.971465",
     "status": "completed"
    },
    "tags": []
   },
   "source": [
    "## Model"
   ]
  },
  {
   "cell_type": "code",
   "execution_count": 10,
   "id": "07c54c0b",
   "metadata": {
    "execution": {
     "iopub.execute_input": "2021-11-03T12:16:11.023085Z",
     "iopub.status.busy": "2021-11-03T12:16:11.022363Z",
     "iopub.status.idle": "2021-11-03T12:16:12.665144Z",
     "shell.execute_reply": "2021-11-03T12:16:12.664592Z"
    },
    "papermill": {
     "duration": 1.664353,
     "end_time": "2021-11-03T12:16:12.665353",
     "exception": false,
     "start_time": "2021-11-03T12:16:11.001000",
     "status": "completed"
    },
    "tags": []
   },
   "outputs": [
    {
     "name": "stderr",
     "output_type": "stream",
     "text": [
      "/opt/conda/envs/bench_env/lib/python3.8/site-packages/torch/nn/functional.py:652: UserWarning: Named tensors and all their associated APIs are an experimental feature and subject to change. Please do not use them for anything important until they are released as stable. (Triggered internally at  /opt/conda/conda-bld/pytorch_1623448278899/work/c10/core/TensorImpl.h:1156.)\n",
      "  return torch.max_pool1d(input, kernel_size, stride, padding, dilation, ceil_mode)\n"
     ]
    }
   ],
   "source": [
    "model = CNN(\n",
    "    number_of_classes=config[\"number_of_classes\"],\n",
    "    vocab_size=vocabulary.__len__(),\n",
    "    embedding_dim=config[\"embedding_dim\"],\n",
    "    input_len=nn_input_len\n",
    ").to(device)"
   ]
  },
  {
   "cell_type": "markdown",
   "id": "30bb50e6",
   "metadata": {
    "papermill": {
     "duration": 0.017145,
     "end_time": "2021-11-03T12:16:12.698605",
     "exception": false,
     "start_time": "2021-11-03T12:16:12.681460",
     "status": "completed"
    },
    "tags": []
   },
   "source": [
    "## Training"
   ]
  },
  {
   "cell_type": "code",
   "execution_count": 11,
   "id": "2b14ec81",
   "metadata": {
    "execution": {
     "iopub.execute_input": "2021-11-03T12:16:12.738839Z",
     "iopub.status.busy": "2021-11-03T12:16:12.737939Z",
     "iopub.status.idle": "2021-11-03T12:23:24.527627Z",
     "shell.execute_reply": "2021-11-03T12:23:24.528172Z"
    },
    "papermill": {
     "duration": 431.813435,
     "end_time": "2021-11-03T12:23:24.528331",
     "exception": false,
     "start_time": "2021-11-03T12:16:12.714896",
     "status": "completed"
    },
    "tags": []
   },
   "outputs": [
    {
     "name": "stdout",
     "output_type": "stream",
     "text": [
      "Epoch 0\n"
     ]
    },
    {
     "name": "stdout",
     "output_type": "stream",
     "text": [
      "Train metrics: \n",
      " Accuracy: 83.4%, Avg loss: 0.572224 \n",
      "\n",
      "Epoch 1\n"
     ]
    },
    {
     "name": "stdout",
     "output_type": "stream",
     "text": [
      "Train metrics: \n",
      " Accuracy: 84.0%, Avg loss: 0.576272 \n",
      "\n",
      "Epoch 2\n"
     ]
    },
    {
     "name": "stdout",
     "output_type": "stream",
     "text": [
      "Train metrics: \n",
      " Accuracy: 86.9%, Avg loss: 0.562691 \n",
      "\n",
      "Epoch 3\n"
     ]
    },
    {
     "name": "stdout",
     "output_type": "stream",
     "text": [
      "Train metrics: \n",
      " Accuracy: 86.4%, Avg loss: 0.562914 \n",
      "\n",
      "Epoch 4\n"
     ]
    },
    {
     "name": "stdout",
     "output_type": "stream",
     "text": [
      "Train metrics: \n",
      " Accuracy: 86.6%, Avg loss: 0.560576 \n",
      "\n",
      "Epoch 5\n"
     ]
    },
    {
     "name": "stdout",
     "output_type": "stream",
     "text": [
      "Train metrics: \n",
      " Accuracy: 87.4%, Avg loss: 0.561990 \n",
      "\n",
      "Epoch 6\n"
     ]
    },
    {
     "name": "stdout",
     "output_type": "stream",
     "text": [
      "Train metrics: \n",
      " Accuracy: 87.2%, Avg loss: 0.559616 \n",
      "\n",
      "Epoch 7\n"
     ]
    },
    {
     "name": "stdout",
     "output_type": "stream",
     "text": [
      "Train metrics: \n",
      " Accuracy: 86.8%, Avg loss: 0.560811 \n",
      "\n",
      "Epoch 8\n"
     ]
    },
    {
     "name": "stdout",
     "output_type": "stream",
     "text": [
      "Train metrics: \n",
      " Accuracy: 88.4%, Avg loss: 0.556270 \n",
      "\n",
      "Epoch 9\n"
     ]
    },
    {
     "name": "stdout",
     "output_type": "stream",
     "text": [
      "Train metrics: \n",
      " Accuracy: 88.4%, Avg loss: 0.555818 \n",
      "\n"
     ]
    }
   ],
   "source": [
    "model.train(train_loader, epochs=config[\"epochs\"])"
   ]
  },
  {
   "cell_type": "markdown",
   "id": "2aaaa002",
   "metadata": {
    "papermill": {
     "duration": 0.021872,
     "end_time": "2021-11-03T12:23:24.568143",
     "exception": false,
     "start_time": "2021-11-03T12:23:24.546271",
     "status": "completed"
    },
    "tags": []
   },
   "source": [
    "## Testing"
   ]
  },
  {
   "cell_type": "code",
   "execution_count": 12,
   "id": "7eab13c5",
   "metadata": {
    "execution": {
     "iopub.execute_input": "2021-11-03T12:23:24.610577Z",
     "iopub.status.busy": "2021-11-03T12:23:24.609523Z",
     "iopub.status.idle": "2021-11-03T12:23:46.083703Z",
     "shell.execute_reply": "2021-11-03T12:23:46.083139Z"
    },
    "papermill": {
     "duration": 21.498569,
     "end_time": "2021-11-03T12:23:46.083847",
     "exception": false,
     "start_time": "2021-11-03T12:23:24.585278",
     "status": "completed"
    },
    "tags": []
   },
   "outputs": [
    {
     "name": "stdout",
     "output_type": "stream",
     "text": [
      "Downloading 1cpXg0ULuTGF7h1_HTYvc6p8M-ee43t-v into /home/jupyter/.genomic_benchmarks/translated_demo_coding_vs_intergenomic_seqs/demo_coding_vs_intergenomic_seqs.zip... "
     ]
    },
    {
     "name": "stdout",
     "output_type": "stream",
     "text": [
      "Done.\n",
      "Unzipping..."
     ]
    },
    {
     "name": "stdout",
     "output_type": "stream",
     "text": [
      "Done.\n"
     ]
    },
    {
     "name": "stdout",
     "output_type": "stream",
     "text": [
      "test_loss  438.64260801672935\n",
      "num_batches 782\n",
      "correct 21830\n",
      "size 25000\n",
      "Test Error: \n",
      " Accuracy: 87.3%, Avg loss: 0.560924 \n",
      "\n"
     ]
    }
   ],
   "source": [
    "# test_dset = get_dataset_fn('test', force_download=config[\"force_download\"], version=config[\"dataset_version\"])\n",
    "test_dset = get_dataset(config[\"dataset\"], 'test')\n",
    "test_loader = DataLoader(test_dset, batch_size=config[\"batch_size\"], shuffle=True, collate_fn=collate)\n",
    "\n",
    "model.test(test_loader)"
   ]
  },
  {
   "cell_type": "code",
   "execution_count": null,
   "id": "319c1b88",
   "metadata": {
    "papermill": {
     "duration": 0.018676,
     "end_time": "2021-11-03T12:23:46.122045",
     "exception": false,
     "start_time": "2021-11-03T12:23:46.103369",
     "status": "completed"
    },
    "tags": []
   },
   "outputs": [],
   "source": []
  },
  {
   "cell_type": "code",
   "execution_count": null,
   "id": "d9fa7630",
   "metadata": {
    "papermill": {
     "duration": 0.018527,
     "end_time": "2021-11-03T12:23:46.158886",
     "exception": false,
     "start_time": "2021-11-03T12:23:46.140359",
     "status": "completed"
    },
    "tags": []
   },
   "outputs": [],
   "source": []
  }
 ],
 "metadata": {
  "environment": {
   "name": "pytorch-gpu.1-9.m75",
   "type": "gcloud",
   "uri": "gcr.io/deeplearning-platform-release/pytorch-gpu.1-9:m75"
  },
  "interpreter": {
   "hash": "9828b828580f1cac1b571b33de6cff8bacecc8916095e1bcbc967952ca7105b7"
  },
  "kernelspec": {
   "display_name": "Python [conda env:bench_env]",
   "language": "python",
   "name": "conda-env-bench_env-py"
  },
  "language_info": {
   "codemirror_mode": {
    "name": "ipython",
    "version": 3
   },
   "file_extension": ".py",
   "mimetype": "text/x-python",
   "name": "python",
   "nbconvert_exporter": "python",
   "pygments_lexer": "ipython3",
   "version": "3.8.10"
  },
  "papermill": {
   "default_parameters": {},
   "duration": 482.285875,
   "end_time": "2021-11-03T12:23:46.688226",
   "environment_variables": {},
   "exception": null,
   "input_path": "utils/torch_cnn_classifier.ipynb",
   "output_path": "torch_cnn_experiments/demo_coding_vs_intergenomic_seqs.ipynb",
   "parameters": {
    "DATASET": "demo_coding_vs_intergenomic_seqs"
   },
   "start_time": "2021-11-03T12:15:44.402351",
   "version": "2.3.3"
  }
 },
 "nbformat": 4,
 "nbformat_minor": 5
}