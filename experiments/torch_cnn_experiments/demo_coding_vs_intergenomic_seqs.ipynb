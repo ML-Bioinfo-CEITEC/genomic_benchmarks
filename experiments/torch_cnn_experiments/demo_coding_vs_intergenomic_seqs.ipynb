{
 "cells": [
  {
   "cell_type": "markdown",
   "id": "02017cc0",
   "metadata": {
    "papermill": {
     "duration": 0.004823,
     "end_time": "2022-06-04T11:33:21.421737",
     "exception": false,
     "start_time": "2022-06-04T11:33:21.416914",
     "status": "completed"
    },
    "tags": []
   },
   "source": [
    "# PYTORCH CNN Classifier\n",
    "\n",
    "To run this notebook on an another benchmark, use\n",
    "\n",
    "```\n",
    "papermill utils/torch_cnn_classifier.ipynb torch_cnn_experiments/[DATASET NAME].ipynb -p DATASET [DATASET NAME]\n",
    "```"
   ]
  },
  {
   "cell_type": "code",
   "execution_count": 1,
   "id": "a5b61ad6",
   "metadata": {
    "execution": {
     "iopub.execute_input": "2022-06-04T11:33:21.430569Z",
     "iopub.status.busy": "2022-06-04T11:33:21.430407Z",
     "iopub.status.idle": "2022-06-04T11:33:21.435071Z",
     "shell.execute_reply": "2022-06-04T11:33:21.434706Z"
    },
    "papermill": {
     "duration": 0.010514,
     "end_time": "2022-06-04T11:33:21.436077",
     "exception": false,
     "start_time": "2022-06-04T11:33:21.425563",
     "status": "completed"
    },
    "tags": [
     "parameters"
    ]
   },
   "outputs": [],
   "source": [
    "# DATASET = 'no_dataset'\n",
    "DATASET = 'demo_human_or_worm'\n",
    "VERSION = 0\n",
    "BATCH_SIZE = 64\n",
    "EPOCHS = 1"
   ]
  },
  {
   "cell_type": "code",
   "execution_count": 2,
   "id": "09cc6bdb",
   "metadata": {
    "execution": {
     "iopub.execute_input": "2022-06-04T11:33:21.444676Z",
     "iopub.status.busy": "2022-06-04T11:33:21.444387Z",
     "iopub.status.idle": "2022-06-04T11:33:21.446552Z",
     "shell.execute_reply": "2022-06-04T11:33:21.446199Z"
    },
    "papermill": {
     "duration": 0.007717,
     "end_time": "2022-06-04T11:33:21.447462",
     "exception": false,
     "start_time": "2022-06-04T11:33:21.439745",
     "status": "completed"
    },
    "tags": [
     "injected-parameters"
    ]
   },
   "outputs": [],
   "source": [
    "# Parameters\n",
    "DATASET = \"demo_coding_vs_intergenomic_seqs\"\n",
    "EPOCHS = 10\n"
   ]
  },
  {
   "cell_type": "code",
   "execution_count": 3,
   "id": "70a0a4a2",
   "metadata": {
    "execution": {
     "iopub.execute_input": "2022-06-04T11:33:21.455959Z",
     "iopub.status.busy": "2022-06-04T11:33:21.455661Z",
     "iopub.status.idle": "2022-06-04T11:33:21.458203Z",
     "shell.execute_reply": "2022-06-04T11:33:21.457812Z"
    },
    "papermill": {
     "duration": 0.007806,
     "end_time": "2022-06-04T11:33:21.459160",
     "exception": false,
     "start_time": "2022-06-04T11:33:21.451354",
     "status": "completed"
    },
    "tags": []
   },
   "outputs": [
    {
     "name": "stdout",
     "output_type": "stream",
     "text": [
      "demo_coding_vs_intergenomic_seqs 0 64 10\n"
     ]
    }
   ],
   "source": [
    "print(DATASET, VERSION, BATCH_SIZE, EPOCHS)"
   ]
  },
  {
   "cell_type": "markdown",
   "id": "e75c8b3d",
   "metadata": {
    "papermill": {
     "duration": 0.003988,
     "end_time": "2022-06-04T11:33:21.467299",
     "exception": false,
     "start_time": "2022-06-04T11:33:21.463311",
     "status": "completed"
    },
    "tags": []
   },
   "source": [
    "## Config"
   ]
  },
  {
   "cell_type": "code",
   "execution_count": 4,
   "id": "33d542f1",
   "metadata": {
    "execution": {
     "iopub.execute_input": "2022-06-04T11:33:21.476049Z",
     "iopub.status.busy": "2022-06-04T11:33:21.475887Z",
     "iopub.status.idle": "2022-06-04T11:33:23.019730Z",
     "shell.execute_reply": "2022-06-04T11:33:23.018753Z"
    },
    "papermill": {
     "duration": 1.550153,
     "end_time": "2022-06-04T11:33:23.021649",
     "exception": false,
     "start_time": "2022-06-04T11:33:21.471496",
     "status": "completed"
    },
    "tags": []
   },
   "outputs": [
    {
     "name": "stderr",
     "output_type": "stream",
     "text": [
      "/opt/conda/envs/bench_env/lib/python3.8/site-packages/tqdm/auto.py:22: TqdmWarning: IProgress not found. Please update jupyter and ipywidgets. See https://ipywidgets.readthedocs.io/en/stable/user_install.html\n",
      "  from .autonotebook import tqdm as notebook_tqdm\n"
     ]
    }
   ],
   "source": [
    "import os\n",
    "import numpy as np\n",
    "import torch\n",
    "from torch import nn\n",
    "from torch.utils.data import DataLoader\n",
    "from torchtext.data.utils import get_tokenizer\n",
    "\n",
    "from genomic_benchmarks.data_check import is_downloaded, info\n",
    "from genomic_benchmarks.dataset_getters.pytorch_datasets import get_dataset\n",
    "from genomic_benchmarks.loc2seq import download_dataset\n",
    "from genomic_benchmarks.models.torch import CNN\n",
    "from genomic_benchmarks.dataset_getters.utils import coll_factory, LetterTokenizer, build_vocab, check_seq_lengths, check_config, VARIABLE_LENGTH_DATASETS"
   ]
  },
  {
   "cell_type": "code",
   "execution_count": 5,
   "id": "d214ad7b",
   "metadata": {
    "execution": {
     "iopub.execute_input": "2022-06-04T11:33:23.034419Z",
     "iopub.status.busy": "2022-06-04T11:33:23.033970Z",
     "iopub.status.idle": "2022-06-04T11:33:23.037672Z",
     "shell.execute_reply": "2022-06-04T11:33:23.037085Z"
    },
    "papermill": {
     "duration": 0.009949,
     "end_time": "2022-06-04T11:33:23.038620",
     "exception": false,
     "start_time": "2022-06-04T11:33:23.028671",
     "status": "completed"
    },
    "tags": []
   },
   "outputs": [],
   "source": [
    "USE_PADDING = DATASET in VARIABLE_LENGTH_DATASETS"
   ]
  },
  {
   "cell_type": "markdown",
   "id": "c5cca8f7",
   "metadata": {
    "papermill": {
     "duration": 0.003928,
     "end_time": "2022-06-04T11:33:23.046758",
     "exception": false,
     "start_time": "2022-06-04T11:33:23.042830",
     "status": "completed"
    },
    "tags": []
   },
   "source": [
    "## Choose the dataset"
   ]
  },
  {
   "cell_type": "code",
   "execution_count": 6,
   "id": "88a54942",
   "metadata": {
    "execution": {
     "iopub.execute_input": "2022-06-04T11:33:23.055253Z",
     "iopub.status.busy": "2022-06-04T11:33:23.054961Z",
     "iopub.status.idle": "2022-06-04T11:36:33.752808Z",
     "shell.execute_reply": "2022-06-04T11:36:33.751482Z"
    },
    "papermill": {
     "duration": 190.704382,
     "end_time": "2022-06-04T11:36:33.754736",
     "exception": false,
     "start_time": "2022-06-04T11:33:23.050354",
     "status": "completed"
    },
    "tags": []
   },
   "outputs": [
    {
     "name": "stderr",
     "output_type": "stream",
     "text": [
      "/home/jovyan/genomic_benchmarks/src/genomic_benchmarks/utils/datasets.py:50: UserWarning: No version specified. Using version 0.\n",
      "  warnings.warn(f\"No version specified. Using version {metadata['version']}.\")\n",
      "Downloading...\n",
      "From: https://drive.google.com/uc?id=1cpXg0ULuTGF7h1_HTYvc6p8M-ee43t-v\n",
      "To: /home/jovyan/.genomic_benchmarks/demo_coding_vs_intergenomic_seqs.zip\n",
      "100%|███████████████████████████████████████████████████████████████████████████████████████████████████████████████████████████████████████████████████████████████████████| 33.9M/33.9M [00:00<00:00, 83.2MB/s]\n"
     ]
    }
   ],
   "source": [
    "if not is_downloaded(DATASET):\n",
    "    download_dataset(DATASET, local_repo=True)"
   ]
  },
  {
   "cell_type": "code",
   "execution_count": 7,
   "id": "b3b2d7ae",
   "metadata": {
    "execution": {
     "iopub.execute_input": "2022-06-04T11:36:33.765468Z",
     "iopub.status.busy": "2022-06-04T11:36:33.765257Z",
     "iopub.status.idle": "2022-06-04T11:36:33.837763Z",
     "shell.execute_reply": "2022-06-04T11:36:33.837086Z"
    },
    "papermill": {
     "duration": 0.07912,
     "end_time": "2022-06-04T11:36:33.838897",
     "exception": false,
     "start_time": "2022-06-04T11:36:33.759777",
     "status": "completed"
    },
    "tags": []
   },
   "outputs": [
    {
     "name": "stdout",
     "output_type": "stream",
     "text": [
      "Dataset `demo_coding_vs_intergenomic_seqs` has 2 classes: coding_seqs, intergenomic_seqs.\n",
      "\n",
      "All lengths of genomic intervals equals 200.\n",
      "\n",
      "Totally 100000 sequences have been found, 75000 for training and 25000 for testing.\n"
     ]
    },
    {
     "data": {
      "text/html": [
       "<div>\n",
       "<style scoped>\n",
       "    .dataframe tbody tr th:only-of-type {\n",
       "        vertical-align: middle;\n",
       "    }\n",
       "\n",
       "    .dataframe tbody tr th {\n",
       "        vertical-align: top;\n",
       "    }\n",
       "\n",
       "    .dataframe thead th {\n",
       "        text-align: right;\n",
       "    }\n",
       "</style>\n",
       "<table border=\"1\" class=\"dataframe\">\n",
       "  <thead>\n",
       "    <tr style=\"text-align: right;\">\n",
       "      <th></th>\n",
       "      <th>train</th>\n",
       "      <th>test</th>\n",
       "    </tr>\n",
       "  </thead>\n",
       "  <tbody>\n",
       "    <tr>\n",
       "      <th>coding_seqs</th>\n",
       "      <td>37500</td>\n",
       "      <td>12500</td>\n",
       "    </tr>\n",
       "    <tr>\n",
       "      <th>intergenomic_seqs</th>\n",
       "      <td>37500</td>\n",
       "      <td>12500</td>\n",
       "    </tr>\n",
       "  </tbody>\n",
       "</table>\n",
       "</div>"
      ],
      "text/plain": [
       "                   train   test\n",
       "coding_seqs        37500  12500\n",
       "intergenomic_seqs  37500  12500"
      ]
     },
     "execution_count": 7,
     "metadata": {},
     "output_type": "execute_result"
    }
   ],
   "source": [
    "info(DATASET, local_repo=True)"
   ]
  },
  {
   "cell_type": "code",
   "execution_count": 8,
   "id": "09f1e02a",
   "metadata": {
    "execution": {
     "iopub.execute_input": "2022-06-04T11:36:33.849343Z",
     "iopub.status.busy": "2022-06-04T11:36:33.849185Z",
     "iopub.status.idle": "2022-06-04T11:36:36.018195Z",
     "shell.execute_reply": "2022-06-04T11:36:36.017252Z"
    },
    "papermill": {
     "duration": 2.176008,
     "end_time": "2022-06-04T11:36:36.019952",
     "exception": false,
     "start_time": "2022-06-04T11:36:33.843944",
     "status": "completed"
    },
    "tags": []
   },
   "outputs": [],
   "source": [
    "train_dset = get_dataset(DATASET, 'train')"
   ]
  },
  {
   "cell_type": "code",
   "execution_count": 9,
   "id": "d022d103",
   "metadata": {
    "execution": {
     "iopub.execute_input": "2022-06-04T11:36:36.032298Z",
     "iopub.status.busy": "2022-06-04T11:36:36.032127Z",
     "iopub.status.idle": "2022-06-04T11:36:56.517310Z",
     "shell.execute_reply": "2022-06-04T11:36:56.516266Z"
    },
    "papermill": {
     "duration": 20.492444,
     "end_time": "2022-06-04T11:36:56.518556",
     "exception": false,
     "start_time": "2022-06-04T11:36:36.026112",
     "status": "completed"
    },
    "tags": []
   },
   "outputs": [
    {
     "data": {
      "text/plain": [
       "2"
      ]
     },
     "execution_count": 9,
     "metadata": {},
     "output_type": "execute_result"
    }
   ],
   "source": [
    "NUM_CLASSES = len(set([train_dset[i][1] for i in range(len(train_dset))]))\n",
    "NUM_CLASSES"
   ]
  },
  {
   "cell_type": "markdown",
   "id": "bae0a0a4",
   "metadata": {
    "papermill": {
     "duration": 0.004076,
     "end_time": "2022-06-04T11:36:56.527556",
     "exception": false,
     "start_time": "2022-06-04T11:36:56.523480",
     "status": "completed"
    },
    "tags": []
   },
   "source": [
    "## Tokenizer and vocab"
   ]
  },
  {
   "cell_type": "code",
   "execution_count": 10,
   "id": "bd4a2dd5",
   "metadata": {
    "execution": {
     "iopub.execute_input": "2022-06-04T11:36:56.537816Z",
     "iopub.status.busy": "2022-06-04T11:36:56.537593Z",
     "iopub.status.idle": "2022-06-04T11:37:08.148693Z",
     "shell.execute_reply": "2022-06-04T11:37:08.147551Z"
    },
    "papermill": {
     "duration": 11.617847,
     "end_time": "2022-06-04T11:37:08.149979",
     "exception": false,
     "start_time": "2022-06-04T11:36:56.532132",
     "status": "completed"
    },
    "tags": []
   },
   "outputs": [
    {
     "name": "stdout",
     "output_type": "stream",
     "text": [
      "vocab len: 7\n",
      "{'C': 5, 'A': 4, '<eos>': 6, 'G': 3, 'T': 2, '<bos>': 1, '<unk>': 0}\n"
     ]
    }
   ],
   "source": [
    "tokenizer = get_tokenizer(LetterTokenizer())\n",
    "vocabulary = build_vocab(train_dset, tokenizer, use_padding=USE_PADDING)\n",
    "\n",
    "print(\"vocab len:\" ,vocabulary.__len__())\n",
    "print(vocabulary.get_stoi())"
   ]
  },
  {
   "cell_type": "markdown",
   "id": "67bb6591",
   "metadata": {
    "papermill": {
     "duration": 0.004608,
     "end_time": "2022-06-04T11:37:08.159714",
     "exception": false,
     "start_time": "2022-06-04T11:37:08.155106",
     "status": "completed"
    },
    "tags": []
   },
   "source": [
    "## Dataloader and batch preparation"
   ]
  },
  {
   "cell_type": "code",
   "execution_count": 11,
   "id": "cd105cb5",
   "metadata": {
    "execution": {
     "iopub.execute_input": "2022-06-04T11:37:08.170914Z",
     "iopub.status.busy": "2022-06-04T11:37:08.170578Z",
     "iopub.status.idle": "2022-06-04T11:37:27.078712Z",
     "shell.execute_reply": "2022-06-04T11:37:27.077582Z"
    },
    "papermill": {
     "duration": 18.91544,
     "end_time": "2022-06-04T11:37:27.080450",
     "exception": false,
     "start_time": "2022-06-04T11:37:08.165010",
     "status": "completed"
    },
    "tags": []
   },
   "outputs": [
    {
     "name": "stdout",
     "output_type": "stream",
     "text": [
      "Using cuda device\n",
      "max_seq_len  200\n"
     ]
    }
   ],
   "source": [
    "# Run on GPU or CPU\n",
    "device = 'cuda' if torch.cuda.is_available() else 'cpu'\n",
    "print('Using {} device'.format(device))\n",
    "\n",
    "max_seq_len, nn_input_len = check_seq_lengths(dataset=train_dset, use_padding=USE_PADDING)\n",
    "\n",
    "# Data Loader\n",
    "if(USE_PADDING):\n",
    "    collate = coll_factory(vocabulary, tokenizer, device, pad_to_length = nn_input_len)\n",
    "else:\n",
    "    collate = coll_factory(vocabulary, tokenizer, device, pad_to_length = None)\n",
    "\n",
    "train_loader = DataLoader(train_dset, batch_size=BATCH_SIZE, shuffle=True, collate_fn=collate)"
   ]
  },
  {
   "cell_type": "markdown",
   "id": "acbdf74b",
   "metadata": {
    "papermill": {
     "duration": 0.004691,
     "end_time": "2022-06-04T11:37:27.090220",
     "exception": false,
     "start_time": "2022-06-04T11:37:27.085529",
     "status": "completed"
    },
    "tags": []
   },
   "source": [
    "## Model"
   ]
  },
  {
   "cell_type": "code",
   "execution_count": 12,
   "id": "fd892253",
   "metadata": {
    "execution": {
     "iopub.execute_input": "2022-06-04T11:37:27.099811Z",
     "iopub.status.busy": "2022-06-04T11:37:27.099578Z",
     "iopub.status.idle": "2022-06-04T11:37:31.862824Z",
     "shell.execute_reply": "2022-06-04T11:37:31.861652Z"
    },
    "papermill": {
     "duration": 4.770235,
     "end_time": "2022-06-04T11:37:31.864636",
     "exception": false,
     "start_time": "2022-06-04T11:37:27.094401",
     "status": "completed"
    },
    "tags": []
   },
   "outputs": [],
   "source": [
    "model = CNN(\n",
    "    number_of_classes=NUM_CLASSES,\n",
    "    vocab_size=vocabulary.__len__(),\n",
    "    embedding_dim=100,\n",
    "    input_len=nn_input_len,\n",
    "    device=device\n",
    ").to(device)"
   ]
  },
  {
   "cell_type": "markdown",
   "id": "c2cb768b",
   "metadata": {
    "papermill": {
     "duration": 0.004562,
     "end_time": "2022-06-04T11:37:31.874417",
     "exception": false,
     "start_time": "2022-06-04T11:37:31.869855",
     "status": "completed"
    },
    "tags": []
   },
   "source": [
    "## Training"
   ]
  },
  {
   "cell_type": "code",
   "execution_count": 13,
   "id": "6e2f1e72",
   "metadata": {
    "execution": {
     "iopub.execute_input": "2022-06-04T11:37:31.884520Z",
     "iopub.status.busy": "2022-06-04T11:37:31.884340Z",
     "iopub.status.idle": "2022-06-04T11:41:20.425764Z",
     "shell.execute_reply": "2022-06-04T11:41:20.424903Z"
    },
    "papermill": {
     "duration": 228.551765,
     "end_time": "2022-06-04T11:41:20.430591",
     "exception": false,
     "start_time": "2022-06-04T11:37:31.878826",
     "status": "completed"
    },
    "tags": []
   },
   "outputs": [
    {
     "name": "stdout",
     "output_type": "stream",
     "text": [
      "Epoch 0\n",
      "Train metrics: \n",
      " Accuracy: 83.4%, Avg loss: 0.578588 \n",
      "\n",
      "Epoch 1\n",
      "Train metrics: \n",
      " Accuracy: 85.5%, Avg loss: 0.569645 \n",
      "\n",
      "Epoch 2\n",
      "Train metrics: \n",
      " Accuracy: 86.3%, Avg loss: 0.565860 \n",
      "\n",
      "Epoch 3\n",
      "Train metrics: \n",
      " Accuracy: 86.7%, Avg loss: 0.563689 \n",
      "\n",
      "Epoch 4\n",
      "Train metrics: \n",
      " Accuracy: 87.1%, Avg loss: 0.562416 \n",
      "\n",
      "Epoch 5\n",
      "Train metrics: \n",
      " Accuracy: 87.5%, Avg loss: 0.560535 \n",
      "\n",
      "Epoch 6\n",
      "Train metrics: \n",
      " Accuracy: 87.8%, Avg loss: 0.559567 \n",
      "\n",
      "Epoch 7\n",
      "Train metrics: \n",
      " Accuracy: 87.8%, Avg loss: 0.558704 \n",
      "\n",
      "Epoch 8\n",
      "Train metrics: \n",
      " Accuracy: 88.1%, Avg loss: 0.557666 \n",
      "\n",
      "Epoch 9\n",
      "Train metrics: \n",
      " Accuracy: 88.2%, Avg loss: 0.557089 \n",
      "\n"
     ]
    }
   ],
   "source": [
    "model.fit(train_loader, epochs=EPOCHS)"
   ]
  },
  {
   "cell_type": "markdown",
   "id": "1589ec9d",
   "metadata": {
    "papermill": {
     "duration": 0.005079,
     "end_time": "2022-06-04T11:41:20.560477",
     "exception": false,
     "start_time": "2022-06-04T11:41:20.555398",
     "status": "completed"
    },
    "tags": []
   },
   "source": [
    "## Testing"
   ]
  },
  {
   "cell_type": "code",
   "execution_count": 14,
   "id": "dc133d17",
   "metadata": {
    "execution": {
     "iopub.execute_input": "2022-06-04T11:41:20.571861Z",
     "iopub.status.busy": "2022-06-04T11:41:20.571646Z",
     "iopub.status.idle": "2022-06-04T11:41:30.754239Z",
     "shell.execute_reply": "2022-06-04T11:41:30.753636Z"
    },
    "papermill": {
     "duration": 10.190013,
     "end_time": "2022-06-04T11:41:30.755474",
     "exception": false,
     "start_time": "2022-06-04T11:41:20.565461",
     "status": "completed"
    },
    "tags": []
   },
   "outputs": [
    {
     "name": "stdout",
     "output_type": "stream",
     "text": [
      "Test metrics: \n",
      " Accuracy: 0.875600, F1 score: 0.867929, Avg loss: 0.557660 \n",
      "\n"
     ]
    },
    {
     "data": {
      "text/plain": [
       "(0.8756, 0.8679293358246986)"
      ]
     },
     "execution_count": 14,
     "metadata": {},
     "output_type": "execute_result"
    }
   ],
   "source": [
    "test_dset = get_dataset(DATASET, 'test')\n",
    "test_loader = DataLoader(test_dset, batch_size=BATCH_SIZE, shuffle=True, collate_fn=collate)\n",
    "\n",
    "acc, f1 = model.test(test_loader)\n",
    "acc, f1"
   ]
  }
 ],
 "metadata": {
  "environment": {
   "name": "pytorch-gpu.1-9.m75",
   "type": "gcloud",
   "uri": "gcr.io/deeplearning-platform-release/pytorch-gpu.1-9:m75"
  },
  "interpreter": {
   "hash": "5fb5174addf958ec7b3e9e5d35a565dfd5bab1ae69383cd521f52756e68c7fc3"
  },
  "kernelspec": {
   "display_name": "Python 3 (ipykernel)",
   "language": "python",
   "name": "python3"
  },
  "language_info": {
   "codemirror_mode": {
    "name": "ipython",
    "version": 3
   },
   "file_extension": ".py",
   "mimetype": "text/x-python",
   "name": "python",
   "nbconvert_exporter": "python",
   "pygments_lexer": "ipython3",
   "version": "3.9.10"
  },
  "papermill": {
   "default_parameters": {},
   "duration": 491.180042,
   "end_time": "2022-06-04T11:41:31.681323",
   "environment_variables": {},
   "exception": null,
   "input_path": "utils/torch_cnn_classifier.ipynb",
   "output_path": "torch_cnn_experiments/demo_coding_vs_intergenomic_seqs.ipynb",
   "parameters": {
    "DATASET": "demo_coding_vs_intergenomic_seqs",
    "EPOCHS": 10
   },
   "start_time": "2022-06-04T11:33:20.501281",
   "version": "2.3.4"
  }
 },
 "nbformat": 4,
 "nbformat_minor": 5
}
