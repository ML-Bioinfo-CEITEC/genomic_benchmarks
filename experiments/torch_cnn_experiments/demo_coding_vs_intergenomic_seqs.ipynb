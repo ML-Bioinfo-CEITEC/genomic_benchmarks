{
 "cells": [
  {
   "cell_type": "markdown",
   "id": "c519eda3",
   "metadata": {
    "papermill": {
     "duration": 0.043569,
     "end_time": "2022-06-03T17:58:37.660784",
     "exception": false,
     "start_time": "2022-06-03T17:58:37.617215",
     "status": "completed"
    },
    "tags": []
   },
   "source": [
    "# PYTORCH CNN Classifier\n",
    "\n",
    "To run this notebook on an another benchmark, use\n",
    "\n",
    "```\n",
    "papermill utils/torch_cnn_classifier.ipynb torch_cnn_experiments/[DATASET NAME].ipynb -p DATASET [DATASET NAME]\n",
    "```"
   ]
  },
  {
   "cell_type": "code",
   "execution_count": 1,
   "id": "2db84395",
   "metadata": {
    "execution": {
     "iopub.execute_input": "2022-06-03T17:58:37.683840Z",
     "iopub.status.busy": "2022-06-03T17:58:37.683510Z",
     "iopub.status.idle": "2022-06-03T17:58:37.684715Z",
     "shell.execute_reply": "2022-06-03T17:58:37.684425Z"
    },
    "papermill": {
     "duration": 0.015465,
     "end_time": "2022-06-03T17:58:37.684788",
     "exception": false,
     "start_time": "2022-06-03T17:58:37.669323",
     "status": "completed"
    },
    "tags": [
     "parameters"
    ]
   },
   "outputs": [],
   "source": [
    "# DATASET = 'no_dataset'\n",
    "DATASET = 'demo_human_or_worm'\n",
    "VERSION = 0\n",
    "BATCH_SIZE = 64\n",
    "EPOCHS = 1"
   ]
  },
  {
   "cell_type": "code",
   "execution_count": 2,
   "id": "d3737961",
   "metadata": {
    "execution": {
     "iopub.execute_input": "2022-06-03T17:58:37.706112Z",
     "iopub.status.busy": "2022-06-03T17:58:37.704476Z",
     "iopub.status.idle": "2022-06-03T17:58:37.707515Z",
     "shell.execute_reply": "2022-06-03T17:58:37.707733Z"
    },
    "papermill": {
     "duration": 0.013988,
     "end_time": "2022-06-03T17:58:37.707818",
     "exception": false,
     "start_time": "2022-06-03T17:58:37.693830",
     "status": "completed"
    },
    "tags": [
     "injected-parameters"
    ]
   },
   "outputs": [],
   "source": [
    "# Parameters\n",
    "DATASET = \"demo_coding_vs_intergenomic_seqs\"\n"
   ]
  },
  {
   "cell_type": "code",
   "execution_count": 3,
   "id": "0134820c",
   "metadata": {
    "execution": {
     "iopub.execute_input": "2022-06-03T17:58:37.727875Z",
     "iopub.status.busy": "2022-06-03T17:58:37.727556Z",
     "iopub.status.idle": "2022-06-03T17:58:37.729730Z",
     "shell.execute_reply": "2022-06-03T17:58:37.729475Z"
    },
    "papermill": {
     "duration": 0.013172,
     "end_time": "2022-06-03T17:58:37.729822",
     "exception": false,
     "start_time": "2022-06-03T17:58:37.716650",
     "status": "completed"
    },
    "tags": []
   },
   "outputs": [
    {
     "name": "stdout",
     "output_type": "stream",
     "text": [
      "demo_coding_vs_intergenomic_seqs 0 64 1\n"
     ]
    }
   ],
   "source": [
    "print(DATASET, VERSION, BATCH_SIZE, EPOCHS)"
   ]
  },
  {
   "cell_type": "markdown",
   "id": "bba61267",
   "metadata": {
    "papermill": {
     "duration": 0.00883,
     "end_time": "2022-06-03T17:58:37.747181",
     "exception": false,
     "start_time": "2022-06-03T17:58:37.738351",
     "status": "completed"
    },
    "tags": []
   },
   "source": [
    "## Config"
   ]
  },
  {
   "cell_type": "code",
   "execution_count": 4,
   "id": "a5a9c56e",
   "metadata": {
    "execution": {
     "iopub.execute_input": "2022-06-03T17:58:37.768144Z",
     "iopub.status.busy": "2022-06-03T17:58:37.767823Z",
     "iopub.status.idle": "2022-06-03T17:58:38.648999Z",
     "shell.execute_reply": "2022-06-03T17:58:38.648420Z"
    },
    "papermill": {
     "duration": 0.893229,
     "end_time": "2022-06-03T17:58:38.649161",
     "exception": false,
     "start_time": "2022-06-03T17:58:37.755932",
     "status": "completed"
    },
    "tags": []
   },
   "outputs": [],
   "source": [
    "import os\n",
    "import numpy as np\n",
    "import torch\n",
    "from torch import nn\n",
    "from torch.utils.data import DataLoader\n",
    "from torchtext.data.utils import get_tokenizer\n",
    "\n",
    "from genomic_benchmarks.data_check import is_downloaded, info\n",
    "from genomic_benchmarks.dataset_getters.pytorch_datasets import get_dataset\n",
    "from genomic_benchmarks.loc2seq import download_dataset\n",
    "from genomic_benchmarks.models.torch import CNN\n",
    "from genomic_benchmarks.dataset_getters.utils import coll_factory, LetterTokenizer, build_vocab, check_seq_lengths, check_config, VARIABLE_LENGTH_DATASETS"
   ]
  },
  {
   "cell_type": "code",
   "execution_count": 5,
   "id": "0d88f46d",
   "metadata": {
    "execution": {
     "iopub.execute_input": "2022-06-03T17:58:38.676693Z",
     "iopub.status.busy": "2022-06-03T17:58:38.676057Z",
     "iopub.status.idle": "2022-06-03T17:58:38.677612Z",
     "shell.execute_reply": "2022-06-03T17:58:38.678116Z"
    },
    "papermill": {
     "duration": 0.014787,
     "end_time": "2022-06-03T17:58:38.678317",
     "exception": false,
     "start_time": "2022-06-03T17:58:38.663530",
     "status": "completed"
    },
    "tags": []
   },
   "outputs": [],
   "source": [
    "USE_PADDING = DATASET in VARIABLE_LENGTH_DATASETS"
   ]
  },
  {
   "cell_type": "markdown",
   "id": "55568755",
   "metadata": {
    "papermill": {
     "duration": 0.008992,
     "end_time": "2022-06-03T17:58:38.705053",
     "exception": false,
     "start_time": "2022-06-03T17:58:38.696061",
     "status": "completed"
    },
    "tags": []
   },
   "source": [
    "## Choose the dataset"
   ]
  },
  {
   "cell_type": "code",
   "execution_count": 6,
   "id": "46a10af0",
   "metadata": {
    "execution": {
     "iopub.execute_input": "2022-06-03T17:58:38.725397Z",
     "iopub.status.busy": "2022-06-03T17:58:38.724793Z",
     "iopub.status.idle": "2022-06-03T17:58:46.198144Z",
     "shell.execute_reply": "2022-06-03T17:58:46.198593Z"
    },
    "papermill": {
     "duration": 7.48488,
     "end_time": "2022-06-03T17:58:46.198743",
     "exception": false,
     "start_time": "2022-06-03T17:58:38.713863",
     "status": "completed"
    },
    "tags": []
   },
   "outputs": [
    {
     "name": "stderr",
     "output_type": "stream",
     "text": [
      "/home/katarina/git/genomic_benchmarks/src/genomic_benchmarks/utils/datasets.py:50: UserWarning: No version specified. Using version 0.\n",
      "  warnings.warn(f\"No version specified. Using version {metadata['version']}.\")\n"
     ]
    },
    {
     "name": "stderr",
     "output_type": "stream",
     "text": [
      "Downloading...\n",
      "From: https://drive.google.com/uc?id=1cpXg0ULuTGF7h1_HTYvc6p8M-ee43t-v\n",
      "To: /home/katarina/.genomic_benchmarks/demo_coding_vs_intergenomic_seqs.zip\n"
     ]
    },
    {
     "name": "stderr",
     "output_type": "stream",
     "text": [
      "\r\n",
      "  0%|                                                                                                                                                       | 0.00/33.9M [00:00<?, ?B/s]"
     ]
    },
    {
     "name": "stderr",
     "output_type": "stream",
     "text": [
      "\r\n",
      "  5%|██████▌                                                                                                                                       | 1.57M/33.9M [00:00<00:02, 15.0MB/s]"
     ]
    },
    {
     "name": "stderr",
     "output_type": "stream",
     "text": [
      "\r\n",
      " 39%|██████████████████████████████████████████████████████▉                                                                                       | 13.1M/33.9M [00:00<00:00, 72.3MB/s]"
     ]
    },
    {
     "name": "stderr",
     "output_type": "stream",
     "text": [
      "\r\n",
      " 70%|██████████████████████████████████████████████████████████████████████████████████████████████████▉                                           | 23.6M/33.9M [00:00<00:00, 86.5MB/s]"
     ]
    },
    {
     "name": "stderr",
     "output_type": "stream",
     "text": [
      "\r\n",
      "100%|██████████████████████████████████████████████████████████████████████████████████████████████████████████████████████████████████████████████| 33.9M/33.9M [00:00<00:00, 84.8MB/s]"
     ]
    },
    {
     "name": "stderr",
     "output_type": "stream",
     "text": [
      "\n"
     ]
    }
   ],
   "source": [
    "if not is_downloaded(DATASET):\n",
    "    download_dataset(DATASET, local_repo=True)"
   ]
  },
  {
   "cell_type": "code",
   "execution_count": 7,
   "id": "ecb9d6a7",
   "metadata": {
    "execution": {
     "iopub.execute_input": "2022-06-03T17:58:46.235162Z",
     "iopub.status.busy": "2022-06-03T17:58:46.234850Z",
     "iopub.status.idle": "2022-06-03T17:58:46.317115Z",
     "shell.execute_reply": "2022-06-03T17:58:46.317626Z"
    },
    "papermill": {
     "duration": 0.096307,
     "end_time": "2022-06-03T17:58:46.317774",
     "exception": false,
     "start_time": "2022-06-03T17:58:46.221467",
     "status": "completed"
    },
    "tags": []
   },
   "outputs": [
    {
     "name": "stdout",
     "output_type": "stream",
     "text": [
      "Dataset `demo_coding_vs_intergenomic_seqs` has 2 classes: coding_seqs, intergenomic_seqs.\n",
      "\n",
      "All lengths of genomic intervals equals 200.\n",
      "\n",
      "Totally 100000 sequences have been found, 75000 for training and 25000 for testing.\n"
     ]
    },
    {
     "data": {
      "text/html": [
       "<div>\n",
       "<style scoped>\n",
       "    .dataframe tbody tr th:only-of-type {\n",
       "        vertical-align: middle;\n",
       "    }\n",
       "\n",
       "    .dataframe tbody tr th {\n",
       "        vertical-align: top;\n",
       "    }\n",
       "\n",
       "    .dataframe thead th {\n",
       "        text-align: right;\n",
       "    }\n",
       "</style>\n",
       "<table border=\"1\" class=\"dataframe\">\n",
       "  <thead>\n",
       "    <tr style=\"text-align: right;\">\n",
       "      <th></th>\n",
       "      <th>train</th>\n",
       "      <th>test</th>\n",
       "    </tr>\n",
       "  </thead>\n",
       "  <tbody>\n",
       "    <tr>\n",
       "      <th>coding_seqs</th>\n",
       "      <td>37500</td>\n",
       "      <td>12500</td>\n",
       "    </tr>\n",
       "    <tr>\n",
       "      <th>intergenomic_seqs</th>\n",
       "      <td>37500</td>\n",
       "      <td>12500</td>\n",
       "    </tr>\n",
       "  </tbody>\n",
       "</table>\n",
       "</div>"
      ],
      "text/plain": [
       "                   train   test\n",
       "coding_seqs        37500  12500\n",
       "intergenomic_seqs  37500  12500"
      ]
     },
     "execution_count": 7,
     "metadata": {},
     "output_type": "execute_result"
    }
   ],
   "source": [
    "info(DATASET, local_repo=True)"
   ]
  },
  {
   "cell_type": "code",
   "execution_count": 8,
   "id": "d979f3bf",
   "metadata": {
    "execution": {
     "iopub.execute_input": "2022-06-03T17:58:46.353599Z",
     "iopub.status.busy": "2022-06-03T17:58:46.353323Z",
     "iopub.status.idle": "2022-06-03T17:58:46.600471Z",
     "shell.execute_reply": "2022-06-03T17:58:46.600681Z"
    },
    "papermill": {
     "duration": 0.262394,
     "end_time": "2022-06-03T17:58:46.600769",
     "exception": false,
     "start_time": "2022-06-03T17:58:46.338375",
     "status": "completed"
    },
    "tags": []
   },
   "outputs": [],
   "source": [
    "train_dset = get_dataset(DATASET, 'train')"
   ]
  },
  {
   "cell_type": "code",
   "execution_count": 9,
   "id": "34b3d9d3",
   "metadata": {
    "execution": {
     "iopub.execute_input": "2022-06-03T17:58:46.629102Z",
     "iopub.status.busy": "2022-06-03T17:58:46.628806Z",
     "iopub.status.idle": "2022-06-03T17:58:47.657552Z",
     "shell.execute_reply": "2022-06-03T17:58:47.656693Z"
    },
    "papermill": {
     "duration": 1.041393,
     "end_time": "2022-06-03T17:58:47.657697",
     "exception": false,
     "start_time": "2022-06-03T17:58:46.616304",
     "status": "completed"
    },
    "tags": []
   },
   "outputs": [
    {
     "data": {
      "text/plain": [
       "2"
      ]
     },
     "execution_count": 9,
     "metadata": {},
     "output_type": "execute_result"
    }
   ],
   "source": [
    "NUM_CLASSES = len(set([train_dset[i][1] for i in range(len(train_dset))]))\n",
    "NUM_CLASSES"
   ]
  },
  {
   "cell_type": "markdown",
   "id": "7ac6aaab",
   "metadata": {
    "papermill": {
     "duration": 0.011174,
     "end_time": "2022-06-03T17:58:47.684405",
     "exception": false,
     "start_time": "2022-06-03T17:58:47.673231",
     "status": "completed"
    },
    "tags": []
   },
   "source": [
    "## Tokenizer and vocab"
   ]
  },
  {
   "cell_type": "code",
   "execution_count": 10,
   "id": "a4ff5343",
   "metadata": {
    "execution": {
     "iopub.execute_input": "2022-06-03T17:58:47.710665Z",
     "iopub.status.busy": "2022-06-03T17:58:47.710302Z",
     "iopub.status.idle": "2022-06-03T17:58:49.298185Z",
     "shell.execute_reply": "2022-06-03T17:58:49.298646Z"
    },
    "papermill": {
     "duration": 1.602947,
     "end_time": "2022-06-03T17:58:49.298791",
     "exception": false,
     "start_time": "2022-06-03T17:58:47.695844",
     "status": "completed"
    },
    "tags": []
   },
   "outputs": [
    {
     "name": "stdout",
     "output_type": "stream",
     "text": [
      "vocab len: 7\n",
      "{'T': 5, '<eos>': 6, 'G': 3, 'C': 4, 'A': 2, '<bos>': 1, '<unk>': 0}\n"
     ]
    }
   ],
   "source": [
    "tokenizer = get_tokenizer(LetterTokenizer())\n",
    "vocabulary = build_vocab(train_dset, tokenizer, use_padding=USE_PADDING)\n",
    "\n",
    "print(\"vocab len:\" ,vocabulary.__len__())\n",
    "print(vocabulary.get_stoi())"
   ]
  },
  {
   "cell_type": "markdown",
   "id": "74391272",
   "metadata": {
    "papermill": {
     "duration": 0.010958,
     "end_time": "2022-06-03T17:58:49.325487",
     "exception": false,
     "start_time": "2022-06-03T17:58:49.314529",
     "status": "completed"
    },
    "tags": []
   },
   "source": [
    "## Dataloader and batch preparation"
   ]
  },
  {
   "cell_type": "code",
   "execution_count": 11,
   "id": "bec1d679",
   "metadata": {
    "execution": {
     "iopub.execute_input": "2022-06-03T17:58:49.352022Z",
     "iopub.status.busy": "2022-06-03T17:58:49.349940Z",
     "iopub.status.idle": "2022-06-03T17:58:50.956886Z",
     "shell.execute_reply": "2022-06-03T17:58:50.956364Z"
    },
    "papermill": {
     "duration": 1.620091,
     "end_time": "2022-06-03T17:58:50.957058",
     "exception": false,
     "start_time": "2022-06-03T17:58:49.336967",
     "status": "completed"
    },
    "tags": []
   },
   "outputs": [
    {
     "name": "stdout",
     "output_type": "stream",
     "text": [
      "Using cpu device\n"
     ]
    },
    {
     "name": "stdout",
     "output_type": "stream",
     "text": [
      "max_seq_len  200\n"
     ]
    }
   ],
   "source": [
    "# Run on GPU or CPU\n",
    "device = 'cuda' if torch.cuda.is_available() else 'cpu'\n",
    "print('Using {} device'.format(device))\n",
    "\n",
    "max_seq_len, nn_input_len = check_seq_lengths(dataset=train_dset, use_padding=USE_PADDING)\n",
    "\n",
    "# Data Loader\n",
    "if(USE_PADDING):\n",
    "    collate = coll_factory(vocabulary, tokenizer, device, pad_to_length = nn_input_len)\n",
    "else:\n",
    "    collate = coll_factory(vocabulary, tokenizer, device, pad_to_length = None)\n",
    "\n",
    "train_loader = DataLoader(train_dset, batch_size=BATCH_SIZE, shuffle=True, collate_fn=collate)"
   ]
  },
  {
   "cell_type": "markdown",
   "id": "9a6157fb",
   "metadata": {
    "papermill": {
     "duration": 0.012127,
     "end_time": "2022-06-03T17:58:50.985864",
     "exception": false,
     "start_time": "2022-06-03T17:58:50.973737",
     "status": "completed"
    },
    "tags": []
   },
   "source": [
    "## Model"
   ]
  },
  {
   "cell_type": "code",
   "execution_count": 12,
   "id": "d03ac2ec",
   "metadata": {
    "execution": {
     "iopub.execute_input": "2022-06-03T17:58:51.012303Z",
     "iopub.status.busy": "2022-06-03T17:58:51.012027Z",
     "iopub.status.idle": "2022-06-03T17:58:51.046600Z",
     "shell.execute_reply": "2022-06-03T17:58:51.046843Z"
    },
    "papermill": {
     "duration": 0.049597,
     "end_time": "2022-06-03T17:58:51.046930",
     "exception": false,
     "start_time": "2022-06-03T17:58:50.997333",
     "status": "completed"
    },
    "tags": []
   },
   "outputs": [],
   "source": [
    "model = CNN(\n",
    "    number_of_classes=NUM_CLASSES,\n",
    "    vocab_size=vocabulary.__len__(),\n",
    "    embedding_dim=100,\n",
    "    input_len=nn_input_len,\n",
    "    device=device\n",
    ").to(device)"
   ]
  },
  {
   "cell_type": "markdown",
   "id": "e47c6398",
   "metadata": {
    "papermill": {
     "duration": 0.011504,
     "end_time": "2022-06-03T17:58:51.069759",
     "exception": false,
     "start_time": "2022-06-03T17:58:51.058255",
     "status": "completed"
    },
    "tags": []
   },
   "source": [
    "## Training"
   ]
  },
  {
   "cell_type": "code",
   "execution_count": 13,
   "id": "4dacab2b",
   "metadata": {
    "execution": {
     "iopub.execute_input": "2022-06-03T17:58:51.096582Z",
     "iopub.status.busy": "2022-06-03T17:58:51.096099Z",
     "iopub.status.idle": "2022-06-03T17:59:27.558403Z",
     "shell.execute_reply": "2022-06-03T17:59:27.558636Z"
    },
    "papermill": {
     "duration": 36.47637,
     "end_time": "2022-06-03T17:59:27.558723",
     "exception": false,
     "start_time": "2022-06-03T17:58:51.082353",
     "status": "completed"
    },
    "tags": []
   },
   "outputs": [
    {
     "name": "stdout",
     "output_type": "stream",
     "text": [
      "Epoch 0\n"
     ]
    },
    {
     "name": "stdout",
     "output_type": "stream",
     "text": [
      "Train metrics: \n",
      " Accuracy: 83.1%, Avg loss: 0.578395 \n",
      "\n"
     ]
    }
   ],
   "source": [
    "model.fit(train_loader, epochs=EPOCHS)"
   ]
  },
  {
   "cell_type": "markdown",
   "id": "a14c3a44",
   "metadata": {
    "papermill": {
     "duration": 0.012756,
     "end_time": "2022-06-03T17:59:27.584274",
     "exception": false,
     "start_time": "2022-06-03T17:59:27.571518",
     "status": "completed"
    },
    "tags": []
   },
   "source": [
    "## Testing"
   ]
  },
  {
   "cell_type": "code",
   "execution_count": 14,
   "id": "bbe23fbe",
   "metadata": {
    "execution": {
     "iopub.execute_input": "2022-06-03T17:59:27.616177Z",
     "iopub.status.busy": "2022-06-03T17:59:27.615762Z",
     "iopub.status.idle": "2022-06-03T17:59:33.035337Z",
     "shell.execute_reply": "2022-06-03T17:59:33.034493Z"
    },
    "papermill": {
     "duration": 5.438134,
     "end_time": "2022-06-03T17:59:33.035498",
     "exception": false,
     "start_time": "2022-06-03T17:59:27.597364",
     "status": "completed"
    },
    "tags": []
   },
   "outputs": [
    {
     "name": "stdout",
     "output_type": "stream",
     "text": [
      "Test metrics: \n",
      " Accuracy: 0.851520, F1 score: 0.854534, Avg loss: 0.578938 \n",
      "\n"
     ]
    },
    {
     "data": {
      "text/plain": [
       "(0.85152, 0.8545340543929776)"
      ]
     },
     "execution_count": 14,
     "metadata": {},
     "output_type": "execute_result"
    }
   ],
   "source": [
    "test_dset = get_dataset(DATASET, 'test')\n",
    "test_loader = DataLoader(test_dset, batch_size=BATCH_SIZE, shuffle=True, collate_fn=collate)\n",
    "\n",
    "acc, f1 = model.test(test_loader)\n",
    "acc, f1"
   ]
  }
 ],
 "metadata": {
  "environment": {
   "name": "pytorch-gpu.1-9.m75",
   "type": "gcloud",
   "uri": "gcr.io/deeplearning-platform-release/pytorch-gpu.1-9:m75"
  },
  "interpreter": {
   "hash": "c04b2f0a582fe344c639614558637ebf7e4dac1d2bb51a42ce655750946697ae"
  },
  "kernelspec": {
   "display_name": "Python 3.8.10 ('venv': venv)",
   "language": "python",
   "name": "python3"
  },
  "language_info": {
   "codemirror_mode": {
    "name": "ipython",
    "version": 3
   },
   "file_extension": ".py",
   "mimetype": "text/x-python",
   "name": "python",
   "nbconvert_exporter": "python",
   "pygments_lexer": "ipython3",
   "version": "3.8.10"
  },
  "papermill": {
   "default_parameters": {},
   "duration": 57.059411,
   "end_time": "2022-06-03T17:59:33.579331",
   "environment_variables": {},
   "exception": null,
   "input_path": "utils/torch_cnn_classifier.ipynb",
   "output_path": "torch_cnn_experiments/demo_coding_vs_intergenomic_seqs.ipynb",
   "parameters": {
    "DATASET": "demo_coding_vs_intergenomic_seqs"
   },
   "start_time": "2022-06-03T17:58:36.519920",
   "version": "2.3.4"
  }
 },
 "nbformat": 4,
 "nbformat_minor": 5
}
