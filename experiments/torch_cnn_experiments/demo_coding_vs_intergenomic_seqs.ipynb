{
 "cells": [
  {
   "cell_type": "markdown",
   "id": "914d7f47",
   "metadata": {
    "papermill": {
     "duration": 0.037776,
     "end_time": "2021-11-25T16:58:07.409640",
     "exception": false,
     "start_time": "2021-11-25T16:58:07.371864",
     "status": "completed"
    },
    "tags": []
   },
   "source": [
    "# PYTORCH CNN Classifier\n",
    "\n",
    "To run this notebook on an another benchmark, use\n",
    "\n",
    "```\n",
    "papermill utils/torch_cnn_classifier.ipynb torch_cnn_experiments/[DATASET NAME].ipynb -p DATASET [DATASET NAME]\n",
    "```"
   ]
  },
  {
   "cell_type": "code",
   "execution_count": 1,
   "id": "2207af56",
   "metadata": {
    "execution": {
     "iopub.execute_input": "2021-11-25T16:58:07.481088Z",
     "iopub.status.busy": "2021-11-25T16:58:07.480118Z",
     "iopub.status.idle": "2021-11-25T16:58:07.485057Z",
     "shell.execute_reply": "2021-11-25T16:58:07.484220Z"
    },
    "papermill": {
     "duration": 0.041069,
     "end_time": "2021-11-25T16:58:07.485255",
     "exception": false,
     "start_time": "2021-11-25T16:58:07.444186",
     "status": "completed"
    },
    "tags": [
     "parameters"
    ]
   },
   "outputs": [],
   "source": [
    "# DATASET = 'no_dataset'\n",
    "DATASET = 'demo_human_or_worm'\n",
    "VERSION = 0\n",
    "BATCH_SIZE = 32\n",
    "EPOCHS = 1"
   ]
  },
  {
   "cell_type": "code",
   "execution_count": 2,
   "id": "824d482b",
   "metadata": {
    "execution": {
     "iopub.execute_input": "2021-11-25T16:58:07.556926Z",
     "iopub.status.busy": "2021-11-25T16:58:07.556275Z",
     "iopub.status.idle": "2021-11-25T16:58:07.559068Z",
     "shell.execute_reply": "2021-11-25T16:58:07.558541Z"
    },
    "papermill": {
     "duration": 0.039982,
     "end_time": "2021-11-25T16:58:07.559210",
     "exception": false,
     "start_time": "2021-11-25T16:58:07.519228",
     "status": "completed"
    },
    "tags": [
     "injected-parameters"
    ]
   },
   "outputs": [],
   "source": [
    "# Parameters\n",
    "DATASET = \"demo_coding_vs_intergenomic_seqs\"\n",
    "EPOCHS = 10\n"
   ]
  },
  {
   "cell_type": "code",
   "execution_count": 3,
   "id": "86334184",
   "metadata": {
    "execution": {
     "iopub.execute_input": "2021-11-25T16:58:07.629132Z",
     "iopub.status.busy": "2021-11-25T16:58:07.627911Z",
     "iopub.status.idle": "2021-11-25T16:58:07.631853Z",
     "shell.execute_reply": "2021-11-25T16:58:07.632351Z"
    },
    "papermill": {
     "duration": 0.041069,
     "end_time": "2021-11-25T16:58:07.632476",
     "exception": false,
     "start_time": "2021-11-25T16:58:07.591407",
     "status": "completed"
    },
    "tags": []
   },
   "outputs": [
    {
     "name": "stdout",
     "output_type": "stream",
     "text": [
      "demo_coding_vs_intergenomic_seqs 0 32 10\n"
     ]
    }
   ],
   "source": [
    "print(DATASET, VERSION, BATCH_SIZE, EPOCHS)"
   ]
  },
  {
   "cell_type": "markdown",
   "id": "b5db5be7",
   "metadata": {
    "papermill": {
     "duration": 0.032158,
     "end_time": "2021-11-25T16:58:07.699938",
     "exception": false,
     "start_time": "2021-11-25T16:58:07.667780",
     "status": "completed"
    },
    "tags": []
   },
   "source": [
    "## Config"
   ]
  },
  {
   "cell_type": "code",
   "execution_count": 4,
   "id": "f691e154",
   "metadata": {
    "execution": {
     "iopub.execute_input": "2021-11-25T16:58:07.771942Z",
     "iopub.status.busy": "2021-11-25T16:58:07.771126Z",
     "iopub.status.idle": "2021-11-25T16:58:08.997801Z",
     "shell.execute_reply": "2021-11-25T16:58:08.997272Z"
    },
    "papermill": {
     "duration": 1.264534,
     "end_time": "2021-11-25T16:58:08.997936",
     "exception": false,
     "start_time": "2021-11-25T16:58:07.733402",
     "status": "completed"
    },
    "tags": []
   },
   "outputs": [],
   "source": [
    "import os\n",
    "import numpy as np\n",
    "import torch\n",
    "from torch import nn\n",
    "from torch.utils.data import DataLoader\n",
    "from torchtext.data.utils import get_tokenizer\n",
    "\n",
    "from genomic_benchmarks.dataset_getters.pytorch_datasets import get_dataset\n",
    "from genomic_benchmarks.models.torch import CNN\n",
    "from genomic_benchmarks.dataset_getters.utils import coll_factory, LetterTokenizer, build_vocab, check_seq_lengths, check_config, VARIABLE_LENGTH_DATASETS"
   ]
  },
  {
   "cell_type": "code",
   "execution_count": 5,
   "id": "edb39963",
   "metadata": {
    "execution": {
     "iopub.execute_input": "2021-11-25T16:58:09.069601Z",
     "iopub.status.busy": "2021-11-25T16:58:09.068892Z",
     "iopub.status.idle": "2021-11-25T16:58:09.071301Z",
     "shell.execute_reply": "2021-11-25T16:58:09.071806Z"
    },
    "papermill": {
     "duration": 0.041041,
     "end_time": "2021-11-25T16:58:09.071934",
     "exception": false,
     "start_time": "2021-11-25T16:58:09.030893",
     "status": "completed"
    },
    "tags": []
   },
   "outputs": [],
   "source": [
    "USE_PADDING = DATASET in VARIABLE_LENGTH_DATASETS\n",
    "    \n",
    "config = {\n",
    "    \"dataset\": DATASET,\n",
    "    \"dataset_version\": VERSION,\n",
    "    \"epochs\": EPOCHS,\n",
    "    \"batch_size\": BATCH_SIZE,\n",
    "    \"use_padding\": USE_PADDING,\n",
    "    \"force_download\": False,\n",
    "    \"run_on_gpu\": True,\n",
    "    \"number_of_classes\": 2,\n",
    "    \"embedding_dim\": 100,\n",
    "}\n",
    "check_config(config)"
   ]
  },
  {
   "cell_type": "markdown",
   "id": "96520249",
   "metadata": {
    "papermill": {
     "duration": 0.032261,
     "end_time": "2021-11-25T16:58:09.137980",
     "exception": false,
     "start_time": "2021-11-25T16:58:09.105719",
     "status": "completed"
    },
    "tags": []
   },
   "source": [
    "## Choose the dataset"
   ]
  },
  {
   "cell_type": "code",
   "execution_count": 6,
   "id": "aadb8f85",
   "metadata": {
    "execution": {
     "iopub.execute_input": "2021-11-25T16:58:09.208426Z",
     "iopub.status.busy": "2021-11-25T16:58:09.207880Z",
     "iopub.status.idle": "2021-11-25T16:58:09.416451Z",
     "shell.execute_reply": "2021-11-25T16:58:09.416919Z"
    },
    "papermill": {
     "duration": 0.246502,
     "end_time": "2021-11-25T16:58:09.417084",
     "exception": false,
     "start_time": "2021-11-25T16:58:09.170582",
     "status": "completed"
    },
    "tags": []
   },
   "outputs": [],
   "source": [
    "train_dset = get_dataset(config[\"dataset\"], 'train')"
   ]
  },
  {
   "cell_type": "markdown",
   "id": "f76ac18e",
   "metadata": {
    "papermill": {
     "duration": 0.032753,
     "end_time": "2021-11-25T16:58:09.483865",
     "exception": false,
     "start_time": "2021-11-25T16:58:09.451112",
     "status": "completed"
    },
    "tags": []
   },
   "source": [
    "## Tokenizer and vocab"
   ]
  },
  {
   "cell_type": "code",
   "execution_count": 7,
   "id": "6daa1ca9",
   "metadata": {
    "execution": {
     "iopub.execute_input": "2021-11-25T16:58:09.556989Z",
     "iopub.status.busy": "2021-11-25T16:58:09.556320Z",
     "iopub.status.idle": "2021-11-25T16:58:13.129007Z",
     "shell.execute_reply": "2021-11-25T16:58:13.129533Z"
    },
    "papermill": {
     "duration": 3.611226,
     "end_time": "2021-11-25T16:58:13.129773",
     "exception": false,
     "start_time": "2021-11-25T16:58:09.518547",
     "status": "completed"
    },
    "tags": []
   },
   "outputs": [
    {
     "name": "stdout",
     "output_type": "stream",
     "text": [
      "vocab len: 7\n",
      "{'C': 5, 'A': 4, '<eos>': 6, 'G': 3, 'T': 2, '<bos>': 1, '<unk>': 0}\n"
     ]
    }
   ],
   "source": [
    "tokenizer = get_tokenizer(LetterTokenizer())\n",
    "vocabulary = build_vocab(train_dset, tokenizer, use_padding=config[\"use_padding\"])\n",
    "\n",
    "print(\"vocab len:\" ,vocabulary.__len__())\n",
    "print(vocabulary.get_stoi())"
   ]
  },
  {
   "cell_type": "markdown",
   "id": "166a1cc2",
   "metadata": {
    "papermill": {
     "duration": 0.035336,
     "end_time": "2021-11-25T16:58:13.200940",
     "exception": false,
     "start_time": "2021-11-25T16:58:13.165604",
     "status": "completed"
    },
    "tags": []
   },
   "source": [
    "## Dataloader and batch preparation"
   ]
  },
  {
   "cell_type": "code",
   "execution_count": 8,
   "id": "92481197",
   "metadata": {
    "execution": {
     "iopub.execute_input": "2021-11-25T16:58:13.284510Z",
     "iopub.status.busy": "2021-11-25T16:58:13.283922Z",
     "iopub.status.idle": "2021-11-25T16:58:17.258449Z",
     "shell.execute_reply": "2021-11-25T16:58:17.257829Z"
    },
    "papermill": {
     "duration": 4.02318,
     "end_time": "2021-11-25T16:58:17.258580",
     "exception": false,
     "start_time": "2021-11-25T16:58:13.235400",
     "status": "completed"
    },
    "tags": []
   },
   "outputs": [
    {
     "name": "stdout",
     "output_type": "stream",
     "text": [
      "Using cuda device\n"
     ]
    },
    {
     "name": "stdout",
     "output_type": "stream",
     "text": [
      "max_seq_len  200\n"
     ]
    }
   ],
   "source": [
    "# Run on GPU or CPU\n",
    "device = 'cuda' if config[\"run_on_gpu\"] and torch.cuda.is_available() else 'cpu'\n",
    "print('Using {} device'.format(device))\n",
    "\n",
    "max_seq_len, nn_input_len = check_seq_lengths(dataset=train_dset, config=config)\n",
    "\n",
    "# Data Loader\n",
    "if(config[\"use_padding\"]):\n",
    "    collate = coll_factory(vocabulary, tokenizer, device, pad_to_length = nn_input_len)\n",
    "else:\n",
    "    collate = coll_factory(vocabulary, tokenizer, device, pad_to_length = None)\n",
    "\n",
    "train_loader = DataLoader(train_dset, batch_size=config[\"batch_size\"], shuffle=True, collate_fn=collate)"
   ]
  },
  {
   "cell_type": "markdown",
   "id": "37901519",
   "metadata": {
    "papermill": {
     "duration": 0.035844,
     "end_time": "2021-11-25T16:58:17.331970",
     "exception": false,
     "start_time": "2021-11-25T16:58:17.296126",
     "status": "completed"
    },
    "tags": []
   },
   "source": [
    "## Model"
   ]
  },
  {
   "cell_type": "code",
   "execution_count": 9,
   "id": "11ee18fd",
   "metadata": {
    "execution": {
     "iopub.execute_input": "2021-11-25T16:58:17.410230Z",
     "iopub.status.busy": "2021-11-25T16:58:17.409566Z",
     "iopub.status.idle": "2021-11-25T16:58:19.105452Z",
     "shell.execute_reply": "2021-11-25T16:58:19.104933Z"
    },
    "papermill": {
     "duration": 1.736535,
     "end_time": "2021-11-25T16:58:19.105663",
     "exception": false,
     "start_time": "2021-11-25T16:58:17.369128",
     "status": "completed"
    },
    "tags": []
   },
   "outputs": [
    {
     "name": "stderr",
     "output_type": "stream",
     "text": [
      "/opt/conda/envs/bench_env/lib/python3.8/site-packages/torch/nn/functional.py:652: UserWarning: Named tensors and all their associated APIs are an experimental feature and subject to change. Please do not use them for anything important until they are released as stable. (Triggered internally at  /opt/conda/conda-bld/pytorch_1623448278899/work/c10/core/TensorImpl.h:1156.)\n",
      "  return torch.max_pool1d(input, kernel_size, stride, padding, dilation, ceil_mode)\n"
     ]
    }
   ],
   "source": [
    "model = CNN(\n",
    "    number_of_classes=config[\"number_of_classes\"],\n",
    "    vocab_size=vocabulary.__len__(),\n",
    "    embedding_dim=config[\"embedding_dim\"],\n",
    "    input_len=nn_input_len\n",
    ").to(device)"
   ]
  },
  {
   "cell_type": "markdown",
   "id": "981907be",
   "metadata": {
    "papermill": {
     "duration": 0.036313,
     "end_time": "2021-11-25T16:58:19.179543",
     "exception": false,
     "start_time": "2021-11-25T16:58:19.143230",
     "status": "completed"
    },
    "tags": []
   },
   "source": [
    "## Training"
   ]
  },
  {
   "cell_type": "code",
   "execution_count": 10,
   "id": "5104c0b0",
   "metadata": {
    "execution": {
     "iopub.execute_input": "2021-11-25T16:58:19.258859Z",
     "iopub.status.busy": "2021-11-25T16:58:19.258125Z",
     "iopub.status.idle": "2021-11-25T17:05:30.157877Z",
     "shell.execute_reply": "2021-11-25T17:05:30.158334Z"
    },
    "papermill": {
     "duration": 430.941809,
     "end_time": "2021-11-25T17:05:30.158492",
     "exception": false,
     "start_time": "2021-11-25T16:58:19.216683",
     "status": "completed"
    },
    "tags": []
   },
   "outputs": [
    {
     "name": "stdout",
     "output_type": "stream",
     "text": [
      "Epoch 0\n"
     ]
    },
    {
     "name": "stdout",
     "output_type": "stream",
     "text": [
      "Train metrics: \n",
      " Accuracy: 84.3%, Avg loss: 0.572786 \n",
      "\n",
      "Epoch 1\n"
     ]
    },
    {
     "name": "stdout",
     "output_type": "stream",
     "text": [
      "Train metrics: \n",
      " Accuracy: 86.4%, Avg loss: 0.565774 \n",
      "\n",
      "Epoch 2\n"
     ]
    },
    {
     "name": "stdout",
     "output_type": "stream",
     "text": [
      "Train metrics: \n",
      " Accuracy: 86.6%, Avg loss: 0.565568 \n",
      "\n",
      "Epoch 3\n"
     ]
    },
    {
     "name": "stdout",
     "output_type": "stream",
     "text": [
      "Train metrics: \n",
      " Accuracy: 86.3%, Avg loss: 0.562990 \n",
      "\n",
      "Epoch 4\n"
     ]
    },
    {
     "name": "stdout",
     "output_type": "stream",
     "text": [
      "Train metrics: \n",
      " Accuracy: 86.5%, Avg loss: 0.565085 \n",
      "\n",
      "Epoch 5\n"
     ]
    },
    {
     "name": "stdout",
     "output_type": "stream",
     "text": [
      "Train metrics: \n",
      " Accuracy: 87.5%, Avg loss: 0.561160 \n",
      "\n",
      "Epoch 6\n"
     ]
    },
    {
     "name": "stdout",
     "output_type": "stream",
     "text": [
      "Train metrics: \n",
      " Accuracy: 88.1%, Avg loss: 0.559731 \n",
      "\n",
      "Epoch 7\n"
     ]
    },
    {
     "name": "stdout",
     "output_type": "stream",
     "text": [
      "Train metrics: \n",
      " Accuracy: 85.4%, Avg loss: 0.563307 \n",
      "\n",
      "Epoch 8\n"
     ]
    },
    {
     "name": "stdout",
     "output_type": "stream",
     "text": [
      "Train metrics: \n",
      " Accuracy: 88.5%, Avg loss: 0.555756 \n",
      "\n",
      "Epoch 9\n"
     ]
    },
    {
     "name": "stdout",
     "output_type": "stream",
     "text": [
      "Train metrics: \n",
      " Accuracy: 87.2%, Avg loss: 0.558417 \n",
      "\n"
     ]
    }
   ],
   "source": [
    "model.train(train_loader, epochs=config[\"epochs\"])"
   ]
  },
  {
   "cell_type": "markdown",
   "id": "aaa0dc9c",
   "metadata": {
    "papermill": {
     "duration": 0.044878,
     "end_time": "2021-11-25T17:05:30.248456",
     "exception": false,
     "start_time": "2021-11-25T17:05:30.203578",
     "status": "completed"
    },
    "tags": []
   },
   "source": [
    "## Testing"
   ]
  },
  {
   "cell_type": "code",
   "execution_count": 11,
   "id": "9c32deac",
   "metadata": {
    "execution": {
     "iopub.execute_input": "2021-11-25T17:05:30.344641Z",
     "iopub.status.busy": "2021-11-25T17:05:30.343764Z",
     "iopub.status.idle": "2021-11-25T17:05:35.644230Z",
     "shell.execute_reply": "2021-11-25T17:05:35.644712Z"
    },
    "papermill": {
     "duration": 5.351693,
     "end_time": "2021-11-25T17:05:35.644868",
     "exception": false,
     "start_time": "2021-11-25T17:05:30.293175",
     "status": "completed"
    },
    "tags": []
   },
   "outputs": [
    {
     "name": "stdout",
     "output_type": "stream",
     "text": [
      "p  12500 ; tp  9974.257062673569 ; fp  844.575411888984\n",
      "recall  0.7979405650138855 ; precision  0.9219346991577173\n",
      "num_batches 782\n",
      "correct 21645\n",
      "size 25000\n",
      "Test metrics: \n",
      " Accuracy: 0.865800, F1 score: 0.855468, Avg loss: 0.561725 \n",
      "\n"
     ]
    },
    {
     "data": {
      "text/plain": [
       "(0.8658, 0.855467963377157)"
      ]
     },
     "execution_count": 11,
     "metadata": {},
     "output_type": "execute_result"
    }
   ],
   "source": [
    "test_dset = get_dataset(config[\"dataset\"], 'test')\n",
    "test_loader = DataLoader(test_dset, batch_size=config[\"batch_size\"], shuffle=True, collate_fn=collate)\n",
    "\n",
    "acc, f1 = model.test(test_loader)\n",
    "acc, f1"
   ]
  }
 ],
 "metadata": {
  "environment": {
   "name": "pytorch-gpu.1-9.m75",
   "type": "gcloud",
   "uri": "gcr.io/deeplearning-platform-release/pytorch-gpu.1-9:m75"
  },
  "interpreter": {
   "hash": "9828b828580f1cac1b571b33de6cff8bacecc8916095e1bcbc967952ca7105b7"
  },
  "kernelspec": {
   "display_name": "conda-env-bench_env-py",
   "language": "python",
   "name": "bench_env"
  },
  "language_info": {
   "codemirror_mode": {
    "name": "ipython",
    "version": 3
   },
   "file_extension": ".py",
   "mimetype": "text/x-python",
   "name": "python",
   "nbconvert_exporter": "python",
   "pygments_lexer": "ipython3",
   "version": "3.8.10"
  },
  "papermill": {
   "default_parameters": {},
   "duration": 450.60929,
   "end_time": "2021-11-25T17:05:36.832308",
   "environment_variables": {},
   "exception": null,
   "input_path": "utils/torch_cnn_classifier.ipynb",
   "output_path": "torch_cnn_experiments/demo_coding_vs_intergenomic_seqs.ipynb",
   "parameters": {
    "DATASET": "demo_coding_vs_intergenomic_seqs",
    "EPOCHS": 10
   },
   "start_time": "2021-11-25T16:58:06.223018",
   "version": "2.3.3"
  }
 },
 "nbformat": 4,
 "nbformat_minor": 5
}