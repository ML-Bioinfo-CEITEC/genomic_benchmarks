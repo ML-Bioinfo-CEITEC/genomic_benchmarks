{
 "cells": [
  {
   "cell_type": "code",
   "execution_count": 1,
   "id": "41ec5c6d",
   "metadata": {
    "execution": {
     "iopub.execute_input": "2021-11-03T13:05:02.609703Z",
     "iopub.status.busy": "2021-11-03T13:05:02.608882Z",
     "iopub.status.idle": "2021-11-03T13:05:02.613011Z",
     "shell.execute_reply": "2021-11-03T13:05:02.613533Z"
    },
    "papermill": {
     "duration": 0.021886,
     "end_time": "2021-11-03T13:05:02.613788",
     "exception": false,
     "start_time": "2021-11-03T13:05:02.591902",
     "status": "completed"
    },
    "tags": [
     "parameters"
    ]
   },
   "outputs": [],
   "source": [
    "DATASET = 'no_dataset'\n",
    "VERSION = 0\n",
    "BATCH_SIZE = 32\n",
    "EPOCHS = 10"
   ]
  },
  {
   "cell_type": "code",
   "execution_count": 2,
   "id": "f9b91c9a",
   "metadata": {
    "execution": {
     "iopub.execute_input": "2021-11-03T13:05:02.641802Z",
     "iopub.status.busy": "2021-11-03T13:05:02.640913Z",
     "iopub.status.idle": "2021-11-03T13:05:02.643627Z",
     "shell.execute_reply": "2021-11-03T13:05:02.644102Z"
    },
    "papermill": {
     "duration": 0.017855,
     "end_time": "2021-11-03T13:05:02.644263",
     "exception": false,
     "start_time": "2021-11-03T13:05:02.626408",
     "status": "completed"
    },
    "tags": [
     "injected-parameters"
    ]
   },
   "outputs": [],
   "source": [
    "# Parameters\n",
    "DATASET = \"demo_mouse_enhancers\"\n"
   ]
  },
  {
   "cell_type": "code",
   "execution_count": 3,
   "id": "c4f00d4e",
   "metadata": {
    "execution": {
     "iopub.execute_input": "2021-11-03T13:05:02.672993Z",
     "iopub.status.busy": "2021-11-03T13:05:02.671994Z",
     "iopub.status.idle": "2021-11-03T13:05:02.675822Z",
     "shell.execute_reply": "2021-11-03T13:05:02.676350Z"
    },
    "papermill": {
     "duration": 0.020835,
     "end_time": "2021-11-03T13:05:02.676494",
     "exception": false,
     "start_time": "2021-11-03T13:05:02.655659",
     "status": "completed"
    },
    "tags": []
   },
   "outputs": [
    {
     "name": "stdout",
     "output_type": "stream",
     "text": [
      "demo_mouse_enhancers 0 32 10\n"
     ]
    }
   ],
   "source": [
    "print(DATASET, VERSION, BATCH_SIZE, EPOCHS)"
   ]
  },
  {
   "cell_type": "markdown",
   "id": "fc2b7d99",
   "metadata": {
    "papermill": {
     "duration": 0.011465,
     "end_time": "2021-11-03T13:05:02.703434",
     "exception": false,
     "start_time": "2021-11-03T13:05:02.691969",
     "status": "completed"
    },
    "tags": []
   },
   "source": [
    "## Config"
   ]
  },
  {
   "cell_type": "code",
   "execution_count": 4,
   "id": "d434ce86",
   "metadata": {
    "execution": {
     "iopub.execute_input": "2021-11-03T13:05:02.732828Z",
     "iopub.status.busy": "2021-11-03T13:05:02.732154Z",
     "iopub.status.idle": "2021-11-03T13:05:03.936884Z",
     "shell.execute_reply": "2021-11-03T13:05:03.936337Z"
    },
    "papermill": {
     "duration": 1.222106,
     "end_time": "2021-11-03T13:05:03.937060",
     "exception": false,
     "start_time": "2021-11-03T13:05:02.714954",
     "status": "completed"
    },
    "tags": []
   },
   "outputs": [],
   "source": [
    "import os\n",
    "import numpy as np\n",
    "import torch\n",
    "from torch import nn\n",
    "from torch.utils.data import DataLoader\n",
    "from torchtext.data.utils import get_tokenizer\n",
    "\n",
    "from genomic_benchmarks.dataset_getters.pytorch_datasets import get_dataset\n",
    "from genomic_benchmarks.models.torch_cnn import CNN\n",
    "from genomic_benchmarks.dataset_getters.utils import coll_factory, LetterTokenizer, build_vocab, check_seq_lengths, check_config, VARIABLE_LENGTH_DATASETS\n",
    "from genomic_benchmarks.data_check import list_datasets, info\n"
   ]
  },
  {
   "cell_type": "code",
   "execution_count": 5,
   "id": "2c5bf4eb",
   "metadata": {
    "execution": {
     "iopub.execute_input": "2021-11-03T13:05:03.973781Z",
     "iopub.status.busy": "2021-11-03T13:05:03.966460Z",
     "iopub.status.idle": "2021-11-03T13:05:03.976919Z",
     "shell.execute_reply": "2021-11-03T13:05:03.977439Z"
    },
    "papermill": {
     "duration": 0.027296,
     "end_time": "2021-11-03T13:05:03.977602",
     "exception": false,
     "start_time": "2021-11-03T13:05:03.950306",
     "status": "completed"
    },
    "tags": []
   },
   "outputs": [
    {
     "data": {
      "text/plain": [
       "['human_enhancers_cohn',\n",
       " 'demo_mouse_enhancers',\n",
       " 'human_nontata_promoters',\n",
       " 'translated_demo_mouse_enhancers',\n",
       " 'human_enhancers_ensembl',\n",
       " 'demo_human_or_worm',\n",
       " 'demo_coding_vs_intergenomic_seqs']"
      ]
     },
     "execution_count": 5,
     "metadata": {},
     "output_type": "execute_result"
    }
   ],
   "source": [
    "list_datasets()"
   ]
  },
  {
   "cell_type": "code",
   "execution_count": 6,
   "id": "3f149c21",
   "metadata": {
    "execution": {
     "iopub.execute_input": "2021-11-03T13:05:04.021090Z",
     "iopub.status.busy": "2021-11-03T13:05:04.020350Z",
     "iopub.status.idle": "2021-11-03T13:05:04.022466Z",
     "shell.execute_reply": "2021-11-03T13:05:04.022918Z"
    },
    "papermill": {
     "duration": 0.019799,
     "end_time": "2021-11-03T13:05:04.023057",
     "exception": false,
     "start_time": "2021-11-03T13:05:04.003258",
     "status": "completed"
    },
    "tags": []
   },
   "outputs": [],
   "source": [
    "USE_PADDING = DATASET in VARIABLE_LENGTH_DATASETS\n",
    "    \n",
    "config = {\n",
    "    \"dataset\": DATASET,\n",
    "    \"dataset_version\": VERSION,\n",
    "    \"epochs\": EPOCHS,\n",
    "    \"batch_size\": BATCH_SIZE,\n",
    "    \"use_padding\": USE_PADDING,\n",
    "    \"force_download\": False,\n",
    "    \"run_on_gpu\": True,\n",
    "    \"number_of_classes\": 2,\n",
    "    \"embedding_dim\": 100,\n",
    "}\n",
    "check_config(config)"
   ]
  },
  {
   "cell_type": "markdown",
   "id": "a08db757",
   "metadata": {
    "papermill": {
     "duration": 0.012403,
     "end_time": "2021-11-03T13:05:04.048387",
     "exception": false,
     "start_time": "2021-11-03T13:05:04.035984",
     "status": "completed"
    },
    "tags": []
   },
   "source": [
    "## Choose the dataset"
   ]
  },
  {
   "cell_type": "code",
   "execution_count": 7,
   "id": "ec1aa2b2",
   "metadata": {
    "execution": {
     "iopub.execute_input": "2021-11-03T13:05:04.080013Z",
     "iopub.status.busy": "2021-11-03T13:05:04.079298Z",
     "iopub.status.idle": "2021-11-03T13:05:13.828743Z",
     "shell.execute_reply": "2021-11-03T13:05:13.828240Z"
    },
    "papermill": {
     "duration": 9.768052,
     "end_time": "2021-11-03T13:05:13.828882",
     "exception": false,
     "start_time": "2021-11-03T13:05:04.060830",
     "status": "completed"
    },
    "tags": []
   },
   "outputs": [
    {
     "name": "stdout",
     "output_type": "stream",
     "text": [
      "Downloading 1u3pyaL8smQaJXeOx7YZkjj-Bdpb-jGCM into /home/jupyter/.genomic_benchmarks/translated_demo_mouse_enhancers/demo_mouse_enhancers.zip... "
     ]
    },
    {
     "name": "stderr",
     "output_type": "stream",
     "text": [
      "/home/jupyter/genomic_benchmarks/src/genomic_benchmarks/loc2seq/with_biopython.py:96: UserWarning: No version specified. Using version 0.\n",
      "  warnings.warn(f\"No version specified. Using version {metadata['version']}.\")\n"
     ]
    },
    {
     "name": "stdout",
     "output_type": "stream",
     "text": [
      "Done.\n",
      "Unzipping..."
     ]
    },
    {
     "name": "stdout",
     "output_type": "stream",
     "text": [
      "Done.\n"
     ]
    }
   ],
   "source": [
    "train_dset = get_dataset(config[\"dataset\"], 'train')"
   ]
  },
  {
   "cell_type": "markdown",
   "id": "f00b3e19",
   "metadata": {
    "papermill": {
     "duration": 0.014331,
     "end_time": "2021-11-03T13:05:13.857232",
     "exception": false,
     "start_time": "2021-11-03T13:05:13.842901",
     "status": "completed"
    },
    "tags": []
   },
   "source": [
    "## Tokenizer and vocab"
   ]
  },
  {
   "cell_type": "code",
   "execution_count": 8,
   "id": "a4fc235d",
   "metadata": {
    "execution": {
     "iopub.execute_input": "2021-11-03T13:05:13.889442Z",
     "iopub.status.busy": "2021-11-03T13:05:13.888749Z",
     "iopub.status.idle": "2021-11-03T13:05:14.133039Z",
     "shell.execute_reply": "2021-11-03T13:05:14.133580Z"
    },
    "papermill": {
     "duration": 0.262967,
     "end_time": "2021-11-03T13:05:14.133783",
     "exception": false,
     "start_time": "2021-11-03T13:05:13.870816",
     "status": "completed"
    },
    "tags": []
   },
   "outputs": [
    {
     "name": "stdout",
     "output_type": "stream",
     "text": [
      "vocab len: 9\n",
      "{'<pad>': 8, 'T': 4, 'C': 5, 'A': 3, '<eos>': 7, 'G': 2, '<bos>': 1, 'N': 6, '<unk>': 0}\n"
     ]
    }
   ],
   "source": [
    "tokenizer = get_tokenizer(LetterTokenizer())\n",
    "vocabulary = build_vocab(train_dset, tokenizer, use_padding=config[\"use_padding\"])\n",
    "\n",
    "print(\"vocab len:\" ,vocabulary.__len__())\n",
    "print(vocabulary.get_stoi())"
   ]
  },
  {
   "cell_type": "markdown",
   "id": "94c3c0cb",
   "metadata": {
    "papermill": {
     "duration": 0.014238,
     "end_time": "2021-11-03T13:05:14.162397",
     "exception": false,
     "start_time": "2021-11-03T13:05:14.148159",
     "status": "completed"
    },
    "tags": []
   },
   "source": [
    "## Dataloader and batch preparation"
   ]
  },
  {
   "cell_type": "code",
   "execution_count": 9,
   "id": "2cfd88ac",
   "metadata": {
    "execution": {
     "iopub.execute_input": "2021-11-03T13:05:14.205157Z",
     "iopub.status.busy": "2021-11-03T13:05:14.204461Z",
     "iopub.status.idle": "2021-11-03T13:05:14.282950Z",
     "shell.execute_reply": "2021-11-03T13:05:14.282356Z"
    },
    "papermill": {
     "duration": 0.107034,
     "end_time": "2021-11-03T13:05:14.283087",
     "exception": false,
     "start_time": "2021-11-03T13:05:14.176053",
     "status": "completed"
    },
    "tags": []
   },
   "outputs": [
    {
     "name": "stdout",
     "output_type": "stream",
     "text": [
      "Using cuda device\n",
      "max_seq_len  4707\n",
      "not all sequences are of the same length\n"
     ]
    }
   ],
   "source": [
    "# Run on GPU or CPU\n",
    "device = 'cuda' if config[\"run_on_gpu\"] and torch.cuda.is_available() else 'cpu'\n",
    "print('Using {} device'.format(device))\n",
    "\n",
    "max_seq_len, nn_input_len = check_seq_lengths(dataset=train_dset, config=config)\n",
    "\n",
    "# Data Loader\n",
    "if(config[\"use_padding\"]):\n",
    "    collate = coll_factory(vocabulary, tokenizer, device, pad_to_length = nn_input_len)\n",
    "else:\n",
    "    collate = coll_factory(vocabulary, tokenizer, device, pad_to_length = None)\n",
    "\n",
    "train_loader = DataLoader(train_dset, batch_size=config[\"batch_size\"], shuffle=True, collate_fn=collate)"
   ]
  },
  {
   "cell_type": "markdown",
   "id": "74bd4dd9",
   "metadata": {
    "papermill": {
     "duration": 0.015061,
     "end_time": "2021-11-03T13:05:14.313408",
     "exception": false,
     "start_time": "2021-11-03T13:05:14.298347",
     "status": "completed"
    },
    "tags": []
   },
   "source": [
    "## Model"
   ]
  },
  {
   "cell_type": "code",
   "execution_count": 10,
   "id": "db6aa959",
   "metadata": {
    "execution": {
     "iopub.execute_input": "2021-11-03T13:05:14.348030Z",
     "iopub.status.busy": "2021-11-03T13:05:14.346956Z",
     "iopub.status.idle": "2021-11-03T13:05:16.089347Z",
     "shell.execute_reply": "2021-11-03T13:05:16.088684Z"
    },
    "papermill": {
     "duration": 1.761711,
     "end_time": "2021-11-03T13:05:16.089483",
     "exception": false,
     "start_time": "2021-11-03T13:05:14.327772",
     "status": "completed"
    },
    "tags": []
   },
   "outputs": [
    {
     "name": "stderr",
     "output_type": "stream",
     "text": [
      "/opt/conda/envs/bench_env/lib/python3.8/site-packages/torch/nn/functional.py:652: UserWarning: Named tensors and all their associated APIs are an experimental feature and subject to change. Please do not use them for anything important until they are released as stable. (Triggered internally at  /opt/conda/conda-bld/pytorch_1623448278899/work/c10/core/TensorImpl.h:1156.)\n",
      "  return torch.max_pool1d(input, kernel_size, stride, padding, dilation, ceil_mode)\n"
     ]
    }
   ],
   "source": [
    "model = CNN(\n",
    "    number_of_classes=config[\"number_of_classes\"],\n",
    "    vocab_size=vocabulary.__len__(),\n",
    "    embedding_dim=config[\"embedding_dim\"],\n",
    "    input_len=nn_input_len\n",
    ").to(device)"
   ]
  },
  {
   "cell_type": "markdown",
   "id": "1e03cc42",
   "metadata": {
    "papermill": {
     "duration": 0.014306,
     "end_time": "2021-11-03T13:05:16.119343",
     "exception": false,
     "start_time": "2021-11-03T13:05:16.105037",
     "status": "completed"
    },
    "tags": []
   },
   "source": [
    "## Training"
   ]
  },
  {
   "cell_type": "code",
   "execution_count": 11,
   "id": "d77ccf69",
   "metadata": {
    "execution": {
     "iopub.execute_input": "2021-11-03T13:05:16.154870Z",
     "iopub.status.busy": "2021-11-03T13:05:16.153739Z",
     "iopub.status.idle": "2021-11-03T13:06:03.236312Z",
     "shell.execute_reply": "2021-11-03T13:06:03.235699Z"
    },
    "papermill": {
     "duration": 47.102912,
     "end_time": "2021-11-03T13:06:03.236449",
     "exception": false,
     "start_time": "2021-11-03T13:05:16.133537",
     "status": "completed"
    },
    "tags": []
   },
   "outputs": [
    {
     "name": "stdout",
     "output_type": "stream",
     "text": [
      "Epoch 0\n"
     ]
    },
    {
     "name": "stderr",
     "output_type": "stream",
     "text": [
      "/home/jupyter/genomic_benchmarks/src/genomic_benchmarks/dataset_getters/utils.py:26: UserWarning: To copy construct from a tensor, it is recommended to use sourceTensor.clone().detach() or sourceTensor.clone().detach().requires_grad_(True), rather than torch.tensor(sourceTensor).\n",
      "  x = torch.tensor(pad(x), dtype=torch.long)\n"
     ]
    },
    {
     "name": "stdout",
     "output_type": "stream",
     "text": [
      "Train metrics: \n",
      " Accuracy: 75.8%, Avg loss: 0.607622 \n",
      "\n",
      "Epoch 1\n"
     ]
    },
    {
     "name": "stdout",
     "output_type": "stream",
     "text": [
      "Train metrics: \n",
      " Accuracy: 78.3%, Avg loss: 0.594759 \n",
      "\n",
      "Epoch 2\n"
     ]
    },
    {
     "name": "stdout",
     "output_type": "stream",
     "text": [
      "Train metrics: \n",
      " Accuracy: 75.0%, Avg loss: 0.631732 \n",
      "\n",
      "Epoch 3\n"
     ]
    },
    {
     "name": "stdout",
     "output_type": "stream",
     "text": [
      "Train metrics: \n",
      " Accuracy: 80.3%, Avg loss: 0.589726 \n",
      "\n",
      "Epoch 4\n"
     ]
    },
    {
     "name": "stdout",
     "output_type": "stream",
     "text": [
      "Train metrics: \n",
      " Accuracy: 77.9%, Avg loss: 0.595483 \n",
      "\n",
      "Epoch 5\n"
     ]
    },
    {
     "name": "stdout",
     "output_type": "stream",
     "text": [
      "Train metrics: \n",
      " Accuracy: 74.4%, Avg loss: 0.602151 \n",
      "\n",
      "Epoch 6\n"
     ]
    },
    {
     "name": "stdout",
     "output_type": "stream",
     "text": [
      "Train metrics: \n",
      " Accuracy: 79.4%, Avg loss: 0.608401 \n",
      "\n",
      "Epoch 7\n"
     ]
    },
    {
     "name": "stdout",
     "output_type": "stream",
     "text": [
      "Train metrics: \n",
      " Accuracy: 78.4%, Avg loss: 0.590952 \n",
      "\n",
      "Epoch 8\n"
     ]
    },
    {
     "name": "stdout",
     "output_type": "stream",
     "text": [
      "Train metrics: \n",
      " Accuracy: 76.7%, Avg loss: 0.598589 \n",
      "\n",
      "Epoch 9\n"
     ]
    },
    {
     "name": "stdout",
     "output_type": "stream",
     "text": [
      "Train metrics: \n",
      " Accuracy: 81.9%, Avg loss: 0.586566 \n",
      "\n"
     ]
    }
   ],
   "source": [
    "model.train(train_loader, epochs=config[\"epochs\"])"
   ]
  },
  {
   "cell_type": "markdown",
   "id": "e4a344d9",
   "metadata": {
    "papermill": {
     "duration": 0.01756,
     "end_time": "2021-11-03T13:06:03.272217",
     "exception": false,
     "start_time": "2021-11-03T13:06:03.254657",
     "status": "completed"
    },
    "tags": []
   },
   "source": [
    "## Testing"
   ]
  },
  {
   "cell_type": "code",
   "execution_count": 12,
   "id": "ea97b378",
   "metadata": {
    "execution": {
     "iopub.execute_input": "2021-11-03T13:06:03.316622Z",
     "iopub.status.busy": "2021-11-03T13:06:03.313891Z",
     "iopub.status.idle": "2021-11-03T13:06:10.671652Z",
     "shell.execute_reply": "2021-11-03T13:06:10.671056Z"
    },
    "papermill": {
     "duration": 7.380886,
     "end_time": "2021-11-03T13:06:10.671818",
     "exception": false,
     "start_time": "2021-11-03T13:06:03.290932",
     "status": "completed"
    },
    "tags": []
   },
   "outputs": [
    {
     "name": "stdout",
     "output_type": "stream",
     "text": [
      "Downloading 1u3pyaL8smQaJXeOx7YZkjj-Bdpb-jGCM into /home/jupyter/.genomic_benchmarks/translated_demo_mouse_enhancers/demo_mouse_enhancers.zip... "
     ]
    },
    {
     "name": "stdout",
     "output_type": "stream",
     "text": [
      "Done.\n",
      "Unzipping..."
     ]
    },
    {
     "name": "stdout",
     "output_type": "stream",
     "text": [
      "Done.\n"
     ]
    },
    {
     "name": "stdout",
     "output_type": "stream",
     "text": [
      "test_loss  4.880778968334198\n",
      "num_batches 8\n",
      "correct 187\n",
      "size 242\n",
      "Test Error: \n",
      " Accuracy: 77.3%, Avg loss: 0.610097 \n",
      "\n"
     ]
    }
   ],
   "source": [
    "# test_dset = get_dataset_fn('test', force_download=config[\"force_download\"], version=config[\"dataset_version\"])\n",
    "test_dset = get_dataset(config[\"dataset\"], 'test')\n",
    "test_loader = DataLoader(test_dset, batch_size=config[\"batch_size\"], shuffle=True, collate_fn=collate)\n",
    "\n",
    "model.test(test_loader)"
   ]
  },
  {
   "cell_type": "code",
   "execution_count": null,
   "id": "0520233b",
   "metadata": {
    "papermill": {
     "duration": 0.019088,
     "end_time": "2021-11-03T13:06:10.710974",
     "exception": false,
     "start_time": "2021-11-03T13:06:10.691886",
     "status": "completed"
    },
    "tags": []
   },
   "outputs": [],
   "source": []
  },
  {
   "cell_type": "code",
   "execution_count": null,
   "id": "b607503a",
   "metadata": {
    "papermill": {
     "duration": 0.01939,
     "end_time": "2021-11-03T13:06:10.750117",
     "exception": false,
     "start_time": "2021-11-03T13:06:10.730727",
     "status": "completed"
    },
    "tags": []
   },
   "outputs": [],
   "source": []
  }
 ],
 "metadata": {
  "environment": {
   "name": "pytorch-gpu.1-9.m75",
   "type": "gcloud",
   "uri": "gcr.io/deeplearning-platform-release/pytorch-gpu.1-9:m75"
  },
  "interpreter": {
   "hash": "9828b828580f1cac1b571b33de6cff8bacecc8916095e1bcbc967952ca7105b7"
  },
  "kernelspec": {
   "display_name": "Python [conda env:bench_env]",
   "language": "python",
   "name": "conda-env-bench_env-py"
  },
  "language_info": {
   "codemirror_mode": {
    "name": "ipython",
    "version": 3
   },
   "file_extension": ".py",
   "mimetype": "text/x-python",
   "name": "python",
   "nbconvert_exporter": "python",
   "pygments_lexer": "ipython3",
   "version": "3.8.10"
  },
  "papermill": {
   "default_parameters": {},
   "duration": 69.931935,
   "end_time": "2021-11-03T13:06:11.177707",
   "environment_variables": {},
   "exception": null,
   "input_path": "utils/torch_cnn_classifier.ipynb",
   "output_path": "torch_cnn_experiments/demo_mouse_enhancers.ipynb",
   "parameters": {
    "DATASET": "demo_mouse_enhancers"
   },
   "start_time": "2021-11-03T13:05:01.245772",
   "version": "2.3.3"
  }
 },
 "nbformat": 4,
 "nbformat_minor": 5
}