{
 "cells": [
  {
   "cell_type": "markdown",
   "id": "a0f8e486",
   "metadata": {
    "papermill": {
     "duration": 0.008173,
     "end_time": "2022-02-14T09:41:50.854864",
     "exception": false,
     "start_time": "2022-02-14T09:41:50.846691",
     "status": "completed"
    },
    "tags": []
   },
   "source": [
    "# TF CNN Classifier\n",
    "\n",
    "To run this notebook on an another benchmark, use\n",
    "\n",
    "```\n",
    "papermill utils/tf_cnn_classifier.ipynb tf_cnn_experiments/[DATASET NAME].ipynb -p DATASET [DATASET NAME]\n",
    "```"
   ]
  },
  {
   "cell_type": "code",
   "execution_count": 26,
   "id": "afbb9431",
   "metadata": {
    "execution": {
     "iopub.execute_input": "2022-02-14T09:41:50.875601Z",
     "iopub.status.busy": "2022-02-14T09:41:50.875204Z",
     "iopub.status.idle": "2022-02-14T09:41:50.882111Z",
     "shell.execute_reply": "2022-02-14T09:41:50.882400Z"
    },
    "papermill": {
     "duration": 0.019582,
     "end_time": "2022-02-14T09:41:50.882562",
     "exception": false,
     "start_time": "2022-02-14T09:41:50.862980",
     "status": "completed"
    },
    "tags": [
     "parameters"
    ]
   },
   "outputs": [],
   "source": [
    "DATASET = 'demo_coding_vs_intergenomic_seqs'\n",
    "VERSION = 0\n",
    "BATCH_SIZE = 64\n",
    "EPOCHS = 10"
   ]
  },
  {
   "cell_type": "code",
   "execution_count": 27,
   "id": "b64d2af0",
   "metadata": {
    "execution": {
     "iopub.execute_input": "2022-02-14T09:41:50.901946Z",
     "iopub.status.busy": "2022-02-14T09:41:50.901542Z",
     "iopub.status.idle": "2022-02-14T09:41:50.902879Z",
     "shell.execute_reply": "2022-02-14T09:41:50.903157Z"
    },
    "papermill": {
     "duration": 0.01251,
     "end_time": "2022-02-14T09:41:50.903259",
     "exception": false,
     "start_time": "2022-02-14T09:41:50.890749",
     "status": "completed"
    },
    "tags": [
     "injected-parameters"
    ]
   },
   "outputs": [],
   "source": [
    "# Parameters\n",
    "DATASET = \"human_enhancers_ensembl_regulatory\"\n"
   ]
  },
  {
   "cell_type": "code",
   "execution_count": 28,
   "id": "982d14ab",
   "metadata": {
    "execution": {
     "iopub.execute_input": "2022-02-14T09:41:50.925519Z",
     "iopub.status.busy": "2022-02-14T09:41:50.925081Z",
     "iopub.status.idle": "2022-02-14T09:41:50.926690Z",
     "shell.execute_reply": "2022-02-14T09:41:50.926951Z"
    },
    "papermill": {
     "duration": 0.014287,
     "end_time": "2022-02-14T09:41:50.927054",
     "exception": false,
     "start_time": "2022-02-14T09:41:50.912767",
     "status": "completed"
    },
    "tags": []
   },
   "outputs": [
    {
     "name": "stdout",
     "output_type": "stream",
     "text": [
      "human_enhancers_ensembl_regulatory 0 64 10\n"
     ]
    }
   ],
   "source": [
    "print(DATASET, VERSION, BATCH_SIZE, EPOCHS)"
   ]
  },
  {
   "cell_type": "markdown",
   "id": "3a06a600",
   "metadata": {
    "papermill": {
     "duration": 0.008512,
     "end_time": "2022-02-14T09:41:50.948633",
     "exception": false,
     "start_time": "2022-02-14T09:41:50.940121",
     "status": "completed"
    },
    "tags": []
   },
   "source": [
    "# Data download"
   ]
  },
  {
   "cell_type": "code",
   "execution_count": 29,
   "id": "1a57e0d2",
   "metadata": {
    "execution": {
     "iopub.execute_input": "2022-02-14T09:41:50.974497Z",
     "iopub.status.busy": "2022-02-14T09:41:50.974113Z",
     "iopub.status.idle": "2022-02-14T09:41:52.744357Z",
     "shell.execute_reply": "2022-02-14T09:41:52.744615Z"
    },
    "papermill": {
     "duration": 1.78674,
     "end_time": "2022-02-14T09:41:52.744711",
     "exception": false,
     "start_time": "2022-02-14T09:41:50.957971",
     "status": "completed"
    },
    "tags": []
   },
   "outputs": [],
   "source": [
    "from pathlib import Path\n",
    "import tensorflow as tf\n",
    "\n",
    "import numpy as np\n",
    "from genomic_benchmarks.loc2seq import download_dataset\n",
    "from genomic_benchmarks.data_check import is_downloaded, info\n",
    "from genomic_benchmarks.models.tf import vectorize_layer, binary_f1_score\n",
    "from genomic_benchmarks.models.tf import basic_cnn_model_v0 as model\n",
    "\n",
    "if not is_downloaded(DATASET):\n",
    "    download_dataset(DATASET)"
   ]
  },
  {
   "cell_type": "code",
   "execution_count": 30,
   "id": "ef313c21",
   "metadata": {
    "execution": {
     "iopub.execute_input": "2022-02-14T09:41:52.797228Z",
     "iopub.status.busy": "2022-02-14T09:41:52.796868Z",
     "iopub.status.idle": "2022-02-14T09:41:53.719162Z",
     "shell.execute_reply": "2022-02-14T09:41:53.718688Z"
    },
    "papermill": {
     "duration": 0.936088,
     "end_time": "2022-02-14T09:41:53.719353",
     "exception": true,
     "start_time": "2022-02-14T09:41:52.783265",
     "status": "failed"
    },
    "tags": []
   },
   "outputs": [],
   "source": [
    "info(DATASET)"
   ]
  },
  {
   "cell_type": "markdown",
   "id": "f4ce24e0",
   "metadata": {
    "papermill": {
     "duration": null,
     "end_time": null,
     "exception": null,
     "start_time": null,
     "status": "pending"
    },
    "tags": []
   },
   "source": [
    "## TF Dataset object"
   ]
  },
  {
   "cell_type": "code",
   "execution_count": 31,
   "id": "409118c7",
   "metadata": {
    "papermill": {
     "duration": null,
     "end_time": null,
     "exception": null,
     "start_time": null,
     "status": "pending"
    },
    "tags": []
   },
   "outputs": [
    {
     "name": "stdout",
     "output_type": "stream",
     "text": [
      "Found 171024 files belonging to 2 classes.\n"
     ]
    }
   ],
   "source": [
    "SEQ_PATH = Path.home() / '.genomic_benchmarks' / DATASET\n",
    "CLASSES = [x.stem for x in (SEQ_PATH/'train').iterdir() if x.is_dir()]\n",
    "\n",
    "train_dset = tf.keras.preprocessing.text_dataset_from_directory(\n",
    "    SEQ_PATH / 'train',\n",
    "    batch_size=BATCH_SIZE,\n",
    "    class_names=CLASSES)"
   ]
  },
  {
   "cell_type": "markdown",
   "id": "ef9706c8",
   "metadata": {
    "papermill": {
     "duration": null,
     "end_time": null,
     "exception": null,
     "start_time": null,
     "status": "pending"
    },
    "tags": []
   },
   "source": [
    "## Text vectorization"
   ]
  },
  {
   "cell_type": "code",
   "execution_count": 32,
   "id": "60ac5547",
   "metadata": {
    "papermill": {
     "duration": null,
     "end_time": null,
     "exception": null,
     "start_time": null,
     "status": "pending"
    },
    "tags": []
   },
   "outputs": [
    {
     "data": {
      "text/plain": [
       "['', '[UNK]', 't', 'a', 'g', 'c', 'n']"
      ]
     },
     "execution_count": 32,
     "metadata": {},
     "output_type": "execute_result"
    }
   ],
   "source": [
    "vectorize_layer.adapt(train_dset.map(lambda x, y: x))\n",
    "# vectorize_layer.set_vocabulary(vocabulary=np.asarray(['a', 'c', 't', 'g', 'n']))\n",
    "vectorize_layer.get_vocabulary()"
   ]
  },
  {
   "cell_type": "code",
   "execution_count": 33,
   "id": "6a5c8a30",
   "metadata": {
    "papermill": {
     "duration": null,
     "end_time": null,
     "exception": null,
     "start_time": null,
     "status": "pending"
    },
    "tags": []
   },
   "outputs": [],
   "source": [
    "def vectorize_text(text, label):\n",
    "  text = tf.expand_dims(text, -1)\n",
    "  return vectorize_layer(text)-2, label\n",
    "\n",
    "train_ds = train_dset.map(vectorize_text)"
   ]
  },
  {
   "cell_type": "markdown",
   "id": "2216d2dd",
   "metadata": {
    "papermill": {
     "duration": null,
     "end_time": null,
     "exception": null,
     "start_time": null,
     "status": "pending"
    },
    "tags": []
   },
   "source": [
    "## Model training"
   ]
  },
  {
   "cell_type": "code",
   "execution_count": 34,
   "id": "2fbf777e",
   "metadata": {
    "papermill": {
     "duration": null,
     "end_time": null,
     "exception": null,
     "start_time": null,
     "status": "pending"
    },
    "tags": []
   },
   "outputs": [],
   "source": [
    "model.compile(loss=tf.keras.losses.BinaryCrossentropy(from_logits=True),\n",
    "              optimizer='adam',\n",
    "              metrics=[tf.metrics.BinaryAccuracy(threshold=0.0), binary_f1_score])"
   ]
  },
  {
   "cell_type": "code",
   "execution_count": 35,
   "id": "57ae2ebd",
   "metadata": {
    "papermill": {
     "duration": null,
     "end_time": null,
     "exception": null,
     "start_time": null,
     "status": "pending"
    },
    "tags": []
   },
   "outputs": [
    {
     "name": "stdout",
     "output_type": "stream",
     "text": [
      "Epoch 1/10\n",
      "2673/2673 [==============================] - 228s 85ms/step - loss: 0.6022 - binary_accuracy: 0.6707 - f1_score: 0.5326\n",
      "Epoch 2/10\n",
      "2673/2673 [==============================] - 215s 80ms/step - loss: 0.6007 - binary_accuracy: 0.6731 - f1_score: 0.5355\n",
      "Epoch 3/10\n",
      "2673/2673 [==============================] - 134s 50ms/step - loss: 0.5997 - binary_accuracy: 0.6731 - f1_score: 0.5371\n",
      "Epoch 4/10\n",
      "2673/2673 [==============================] - 134s 50ms/step - loss: 0.5991 - binary_accuracy: 0.6735 - f1_score: 0.5387\n",
      "Epoch 5/10\n",
      "2673/2673 [==============================] - 135s 50ms/step - loss: 0.5976 - binary_accuracy: 0.6738 - f1_score: 0.5407\n",
      "Epoch 6/10\n",
      "2673/2673 [==============================] - 133s 50ms/step - loss: 0.5968 - binary_accuracy: 0.6747 - f1_score: 0.5438\n",
      "Epoch 7/10\n",
      "2673/2673 [==============================] - 133s 50ms/step - loss: 0.5955 - binary_accuracy: 0.6755 - f1_score: 0.5472\n",
      "Epoch 8/10\n",
      "2673/2673 [==============================] - 133s 50ms/step - loss: 0.5953 - binary_accuracy: 0.6764 - f1_score: 0.5473\n",
      "Epoch 9/10\n",
      "2673/2673 [==============================] - 133s 50ms/step - loss: 0.5940 - binary_accuracy: 0.6778 - f1_score: 0.5482\n",
      "Epoch 10/10\n",
      "2673/2673 [==============================] - 133s 50ms/step - loss: 0.5935 - binary_accuracy: 0.6774 - f1_score: 0.5512\n"
     ]
    }
   ],
   "source": [
    "history = model.fit(\n",
    "    train_ds,\n",
    "    epochs=EPOCHS)"
   ]
  },
  {
   "cell_type": "markdown",
   "id": "5bae33fa",
   "metadata": {
    "papermill": {
     "duration": null,
     "end_time": null,
     "exception": null,
     "start_time": null,
     "status": "pending"
    },
    "tags": []
   },
   "source": [
    "## Evaluation on the test set"
   ]
  },
  {
   "cell_type": "code",
   "execution_count": 36,
   "id": "38e009a1",
   "metadata": {
    "papermill": {
     "duration": null,
     "end_time": null,
     "exception": null,
     "start_time": null,
     "status": "pending"
    },
    "tags": []
   },
   "outputs": [
    {
     "name": "stdout",
     "output_type": "stream",
     "text": [
      "Found 42756 files belonging to 2 classes.\n"
     ]
    }
   ],
   "source": [
    "test_dset = tf.keras.preprocessing.text_dataset_from_directory(\n",
    "    SEQ_PATH / 'test',\n",
    "    batch_size=BATCH_SIZE,\n",
    "    class_names=CLASSES)\n",
    "\n",
    "test_ds =  test_dset.map(vectorize_text)"
   ]
  },
  {
   "cell_type": "code",
   "execution_count": 37,
   "id": "4543bcf7",
   "metadata": {
    "papermill": {
     "duration": null,
     "end_time": null,
     "exception": null,
     "start_time": null,
     "status": "pending"
    },
    "tags": []
   },
   "outputs": [
    {
     "name": "stdout",
     "output_type": "stream",
     "text": [
      "669/669 [==============================] - 10s 15ms/step - loss: 0.6510 - binary_accuracy: 0.6304 - f1_score: 0.3425\n"
     ]
    },
    {
     "data": {
      "text/plain": [
       "[0.6510307192802429, 0.6304378509521484, 0.3424831032752991]"
      ]
     },
     "execution_count": 37,
     "metadata": {},
     "output_type": "execute_result"
    }
   ],
   "source": [
    "model.evaluate(test_ds)"
   ]
  }
 ],
 "metadata": {
  "celltoolbar": "Tags",
  "kernelspec": {
   "display_name": "Python 3 (ipykernel)",
   "language": "python",
   "name": "python3"
  },
  "language_info": {
   "codemirror_mode": {
    "name": "ipython",
    "version": 3
   },
   "file_extension": ".py",
   "mimetype": "text/x-python",
   "name": "python",
   "nbconvert_exporter": "python",
   "pygments_lexer": "ipython3",
   "version": "3.8.10"
  },
  "papermill": {
   "default_parameters": {},
   "duration": 7.320102,
   "end_time": "2022-02-14T09:41:57.209649",
   "environment_variables": {},
   "exception": true,
   "input_path": "utils/tf_cnn_classifier.ipynb",
   "output_path": "tf_cnn_experiments/human_enhancers_ensembl_regulatory.ipynb",
   "parameters": {
    "DATASET": "human_enhancers_ensembl_regulatory"
   },
   "start_time": "2022-02-14T09:41:49.889547",
   "version": "2.3.4"
  }
 },
 "nbformat": 4,
 "nbformat_minor": 5
}
