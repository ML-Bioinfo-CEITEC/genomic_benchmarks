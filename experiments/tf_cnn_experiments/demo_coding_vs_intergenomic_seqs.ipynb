{
 "cells": [
  {
   "cell_type": "markdown",
   "id": "a0f8e486",
   "metadata": {
    "papermill": {
     "duration": 0.00469,
     "end_time": "2022-06-02T23:04:57.809055",
     "exception": false,
     "start_time": "2022-06-02T23:04:57.804365",
     "status": "completed"
    },
    "tags": []
   },
   "source": [
    "# TF CNN Classifier\n",
    "\n",
    "To run this notebook on an another benchmark, use\n",
    "\n",
    "```\n",
    "papermill utils/tf_cnn_classifier.ipynb tf_cnn_experiments/[DATASET NAME].ipynb -p DATASET [DATASET NAME]\n",
    "```"
   ]
  },
  {
   "cell_type": "code",
   "execution_count": 1,
   "id": "afbb9431",
   "metadata": {
    "papermill": {
     "duration": 0.010666,
     "end_time": "2022-06-02T23:04:57.824159",
     "exception": false,
     "start_time": "2022-06-02T23:04:57.813493",
     "status": "completed"
    },
    "tags": [
     "parameters"
    ]
   },
   "outputs": [],
   "source": [
    "DATASET = 'demo_coding_vs_intergenomic_seqs'\n",
    "VERSION = 0\n",
    "BATCH_SIZE = 64\n",
    "EPOCHS = 10"
   ]
  },
  {
   "cell_type": "code",
   "execution_count": 2,
   "id": "bb8481d0",
   "metadata": {
    "papermill": {
     "duration": 0.006998,
     "end_time": "2022-06-02T23:04:57.834936",
     "exception": false,
     "start_time": "2022-06-02T23:04:57.827938",
     "status": "completed"
    },
    "tags": [
     "injected-parameters"
    ]
   },
   "outputs": [],
   "source": [
    "# Parameters\n",
    "DATASET = \"demo_coding_vs_intergenomic_seqs\"\n"
   ]
  },
  {
   "cell_type": "code",
   "execution_count": 3,
   "id": "982d14ab",
   "metadata": {
    "papermill": {
     "duration": 0.008168,
     "end_time": "2022-06-02T23:04:57.846693",
     "exception": false,
     "start_time": "2022-06-02T23:04:57.838525",
     "status": "completed"
    },
    "tags": []
   },
   "outputs": [
    {
     "name": "stdout",
     "output_type": "stream",
     "text": [
      "demo_coding_vs_intergenomic_seqs 0 64 10\n"
     ]
    }
   ],
   "source": [
    "print(DATASET, VERSION, BATCH_SIZE, EPOCHS)"
   ]
  },
  {
   "cell_type": "markdown",
   "id": "3a06a600",
   "metadata": {
    "papermill": {
     "duration": 0.00381,
     "end_time": "2022-06-02T23:04:57.854810",
     "exception": false,
     "start_time": "2022-06-02T23:04:57.851000",
     "status": "completed"
    },
    "tags": []
   },
   "source": [
    "# Data download"
   ]
  },
  {
   "cell_type": "code",
   "execution_count": 4,
   "id": "1a57e0d2",
   "metadata": {
    "papermill": {
     "duration": 2.24683,
     "end_time": "2022-06-02T23:05:00.105557",
     "exception": false,
     "start_time": "2022-06-02T23:04:57.858727",
     "status": "completed"
    },
    "tags": []
   },
   "outputs": [
    {
     "name": "stderr",
     "output_type": "stream",
     "text": [
      "/home/jovyan/genomic_benchmarks/src/genomic_benchmarks/utils/datasets.py:11: TqdmWarning: IProgress not found. Please update jupyter and ipywidgets. See https://ipywidgets.readthedocs.io/en/stable/user_install.html\n",
      "  from tqdm.autonotebook import tqdm\n",
      "2022-06-02 23:13:55.552490: I tensorflow/core/platform/cpu_feature_guard.cc:193] This TensorFlow binary is optimized with oneAPI Deep Neural Network Library (oneDNN) to use the following CPU instructions in performance-critical operations:  AVX2 FMA\n",
      "To enable them in other operations, rebuild TensorFlow with the appropriate compiler flags.\n",
      "2022-06-02 23:13:55.942375: I tensorflow/core/common_runtime/gpu/gpu_device.cc:1532] Created device /job:localhost/replica:0/task:0/device:GPU:0 with 43670 MB memory:  -> device: 0, name: NVIDIA A40, pci bus id: 0000:a3:00.0, compute capability: 8.6\n",
      "/home/jovyan/genomic_benchmarks/src/genomic_benchmarks/utils/datasets.py:50: UserWarning: No version specified. Using version 0.\n",
      "  warnings.warn(f\"No version specified. Using version {metadata['version']}.\")\n"
     ]
    },
    {
     "name": "stdout",
     "output_type": "stream",
     "text": [
      "Reference /home/jovyan/.genomic_benchmarks/fasta/Homo_sapiens.GRCh38.cdna.all.fa.gz already exists. Skipping.\n",
      "Reference /home/jovyan/.genomic_benchmarks/fasta/Homo_sapiens.GRCh38.dna.toplevel.fa.gz already exists. Skipping.\n"
     ]
    },
    {
     "name": "stderr",
     "output_type": "stream",
     "text": [
      "100%|█████████▉| 189154/190000 [00:03<00:00, 47949.96it/s]\n",
      "100%|██████████| 24/24 [00:26<00:00,  1.11s/it]\n"
     ]
    }
   ],
   "source": [
    "from pathlib import Path\n",
    "import tensorflow as tf\n",
    "import tensorflow_addons as tfa\n",
    "\n",
    "import numpy as np\n",
    "from genomic_benchmarks.loc2seq import download_dataset\n",
    "from genomic_benchmarks.data_check import is_downloaded, info\n",
    "from genomic_benchmarks.models.tf import vectorize_layer\n",
    "from genomic_benchmarks.models.tf import get_basic_cnn_model_v0 as get_model\n",
    "\n",
    "if not is_downloaded(DATASET):\n",
    "    download_dataset(DATASET)"
   ]
  },
  {
   "cell_type": "code",
   "execution_count": 5,
   "id": "ef313c21",
   "metadata": {
    "papermill": {
     "duration": 1.196231,
     "end_time": "2022-06-02T23:05:01.306230",
     "exception": false,
     "start_time": "2022-06-02T23:05:00.109999",
     "status": "completed"
    },
    "tags": []
   },
   "outputs": [
    {
     "name": "stderr",
     "output_type": "stream",
     "text": [
      "/home/jovyan/genomic_benchmarks/src/genomic_benchmarks/utils/datasets.py:50: UserWarning: No version specified. Using version 0.\n",
      "  warnings.warn(f\"No version specified. Using version {metadata['version']}.\")\n"
     ]
    },
    {
     "name": "stdout",
     "output_type": "stream",
     "text": [
      "Dataset `demo_coding_vs_intergenomic_seqs` has 2 classes: coding_seqs, intergenomic_seqs.\n",
      "\n",
      "All lengths of genomic intervals equals 200.\n",
      "\n",
      "Totally 100000 sequences have been found, 75000 for training and 25000 for testing.\n"
     ]
    },
    {
     "data": {
      "text/html": [
       "<div>\n",
       "<style scoped>\n",
       "    .dataframe tbody tr th:only-of-type {\n",
       "        vertical-align: middle;\n",
       "    }\n",
       "\n",
       "    .dataframe tbody tr th {\n",
       "        vertical-align: top;\n",
       "    }\n",
       "\n",
       "    .dataframe thead th {\n",
       "        text-align: right;\n",
       "    }\n",
       "</style>\n",
       "<table border=\"1\" class=\"dataframe\">\n",
       "  <thead>\n",
       "    <tr style=\"text-align: right;\">\n",
       "      <th></th>\n",
       "      <th>train</th>\n",
       "      <th>test</th>\n",
       "    </tr>\n",
       "  </thead>\n",
       "  <tbody>\n",
       "    <tr>\n",
       "      <th>coding_seqs</th>\n",
       "      <td>37500</td>\n",
       "      <td>12500</td>\n",
       "    </tr>\n",
       "    <tr>\n",
       "      <th>intergenomic_seqs</th>\n",
       "      <td>37500</td>\n",
       "      <td>12500</td>\n",
       "    </tr>\n",
       "  </tbody>\n",
       "</table>\n",
       "</div>"
      ],
      "text/plain": [
       "                   train   test\n",
       "coding_seqs        37500  12500\n",
       "intergenomic_seqs  37500  12500"
      ]
     },
     "execution_count": 5,
     "metadata": {},
     "output_type": "execute_result"
    }
   ],
   "source": [
    "info(DATASET)"
   ]
  },
  {
   "cell_type": "markdown",
   "id": "f4ce24e0",
   "metadata": {
    "papermill": {
     "duration": 0.004368,
     "end_time": "2022-06-02T23:05:01.315166",
     "exception": false,
     "start_time": "2022-06-02T23:05:01.310798",
     "status": "completed"
    },
    "tags": []
   },
   "source": [
    "## TF Dataset object"
   ]
  },
  {
   "cell_type": "code",
   "execution_count": 6,
   "id": "409118c7",
   "metadata": {
    "papermill": {
     "duration": 2.438709,
     "end_time": "2022-06-02T23:05:03.758864",
     "exception": false,
     "start_time": "2022-06-02T23:05:01.320155",
     "status": "completed"
    },
    "tags": []
   },
   "outputs": [
    {
     "name": "stdout",
     "output_type": "stream",
     "text": [
      "Found 75000 files belonging to 2 classes.\n"
     ]
    }
   ],
   "source": [
    "SEQ_PATH = Path.home() / '.genomic_benchmarks' / DATASET\n",
    "CLASSES = [x.stem for x in (SEQ_PATH/'train').iterdir() if x.is_dir()]\n",
    "NUM_CLASSES = len(CLASSES)\n",
    "\n",
    "train_dset = tf.keras.preprocessing.text_dataset_from_directory(\n",
    "    SEQ_PATH / 'train',\n",
    "    batch_size=BATCH_SIZE,\n",
    "    class_names=CLASSES)"
   ]
  },
  {
   "cell_type": "code",
   "execution_count": 7,
   "id": "fa20a786",
   "metadata": {
    "papermill": {
     "duration": 0.009764,
     "end_time": "2022-06-02T23:05:03.774254",
     "exception": false,
     "start_time": "2022-06-02T23:05:03.764490",
     "status": "completed"
    },
    "tags": []
   },
   "outputs": [],
   "source": [
    "if NUM_CLASSES > 2:\n",
    "    train_dset = train_dset.map(lambda x, y: (x, tf.one_hot(y, depth=NUM_CLASSES)))"
   ]
  },
  {
   "cell_type": "markdown",
   "id": "ef9706c8",
   "metadata": {
    "papermill": {
     "duration": 0.004799,
     "end_time": "2022-06-02T23:05:03.785073",
     "exception": false,
     "start_time": "2022-06-02T23:05:03.780274",
     "status": "completed"
    },
    "tags": []
   },
   "source": [
    "## Text vectorization"
   ]
  },
  {
   "cell_type": "code",
   "execution_count": 8,
   "id": "60ac5547",
   "metadata": {
    "papermill": {
     "duration": 12.460352,
     "end_time": "2022-06-02T23:05:16.250209",
     "exception": false,
     "start_time": "2022-06-02T23:05:03.789857",
     "status": "completed"
    },
    "tags": []
   },
   "outputs": [
    {
     "data": {
      "text/plain": [
       "['', '[UNK]', 'a', 't', 'g', 'c']"
      ]
     },
     "execution_count": 8,
     "metadata": {},
     "output_type": "execute_result"
    }
   ],
   "source": [
    "vectorize_layer.adapt(train_dset.map(lambda x, y: x))\n",
    "VOCAB_SIZE = len(vectorize_layer.get_vocabulary())\n",
    "vectorize_layer.get_vocabulary()"
   ]
  },
  {
   "cell_type": "code",
   "execution_count": 9,
   "id": "6a5c8a30",
   "metadata": {
    "papermill": {
     "duration": 0.110262,
     "end_time": "2022-06-02T23:05:16.371114",
     "exception": false,
     "start_time": "2022-06-02T23:05:16.260852",
     "status": "completed"
    },
    "tags": []
   },
   "outputs": [],
   "source": [
    "def vectorize_text(text, label):\n",
    "  text = tf.expand_dims(text, -1)\n",
    "  return vectorize_layer(text)-2, label\n",
    "\n",
    "train_ds = train_dset.map(vectorize_text)"
   ]
  },
  {
   "cell_type": "markdown",
   "id": "2216d2dd",
   "metadata": {
    "papermill": {
     "duration": 0.004771,
     "end_time": "2022-06-02T23:05:16.380716",
     "exception": false,
     "start_time": "2022-06-02T23:05:16.375945",
     "status": "completed"
    },
    "tags": []
   },
   "source": [
    "## Model training"
   ]
  },
  {
   "cell_type": "code",
   "execution_count": 10,
   "id": "2fbf777e",
   "metadata": {
    "papermill": {
     "duration": 0.118602,
     "end_time": "2022-06-02T23:05:16.503625",
     "exception": false,
     "start_time": "2022-06-02T23:05:16.385023",
     "status": "completed"
    },
    "tags": []
   },
   "outputs": [],
   "source": [
    "model = get_model(NUM_CLASSES, VOCAB_SIZE)"
   ]
  },
  {
   "cell_type": "code",
   "execution_count": 11,
   "id": "57ae2ebd",
   "metadata": {
    "papermill": {
     "duration": 129.92293,
     "end_time": "2022-06-02T23:07:26.431289",
     "exception": false,
     "start_time": "2022-06-02T23:05:16.508359",
     "status": "completed"
    },
    "tags": []
   },
   "outputs": [
    {
     "name": "stdout",
     "output_type": "stream",
     "text": [
      "Epoch 1/10\n"
     ]
    },
    {
     "name": "stderr",
     "output_type": "stream",
     "text": [
      "2022-06-02 23:18:00.896593: I tensorflow/stream_executor/cuda/cuda_dnn.cc:384] Loaded cuDNN version 8204\n",
      "2022-06-02 23:18:02.262349: I tensorflow/stream_executor/cuda/cuda_blas.cc:1786] TensorFloat-32 will be used for the matrix multiplication. This will only be logged once.\n"
     ]
    },
    {
     "name": "stdout",
     "output_type": "stream",
     "text": [
      "1172/1172 [==============================] - 23s 17ms/step - loss: 0.3406 - binary_accuracy: 0.8535 - f1_score: 0.8304\n",
      "Epoch 2/10\n",
      "1172/1172 [==============================] - 18s 15ms/step - loss: 0.2835 - binary_accuracy: 0.8821 - f1_score: 0.8723\n",
      "Epoch 3/10\n",
      "1172/1172 [==============================] - 18s 16ms/step - loss: 0.2715 - binary_accuracy: 0.8886 - f1_score: 0.8783\n",
      "Epoch 4/10\n",
      "1172/1172 [==============================] - 19s 16ms/step - loss: 0.2624 - binary_accuracy: 0.8909 - f1_score: 0.8827\n",
      "Epoch 5/10\n",
      "1172/1172 [==============================] - 19s 16ms/step - loss: 0.2559 - binary_accuracy: 0.8952 - f1_score: 0.8864\n",
      "Epoch 6/10\n",
      "1172/1172 [==============================] - 18s 15ms/step - loss: 0.2490 - binary_accuracy: 0.8989 - f1_score: 0.8902\n",
      "Epoch 7/10\n",
      "1172/1172 [==============================] - 18s 16ms/step - loss: 0.2457 - binary_accuracy: 0.8999 - f1_score: 0.8923\n",
      "Epoch 8/10\n",
      "1172/1172 [==============================] - 18s 15ms/step - loss: 0.2411 - binary_accuracy: 0.9021 - f1_score: 0.8931\n",
      "Epoch 9/10\n",
      "1172/1172 [==============================] - 18s 16ms/step - loss: 0.2377 - binary_accuracy: 0.9037 - f1_score: 0.8957\n",
      "Epoch 10/10\n",
      "1172/1172 [==============================] - 19s 16ms/step - loss: 0.2339 - binary_accuracy: 0.9058 - f1_score: 0.8975\n"
     ]
    }
   ],
   "source": [
    "history = model.fit(\n",
    "    train_ds,\n",
    "    epochs=EPOCHS)"
   ]
  },
  {
   "cell_type": "markdown",
   "id": "5bae33fa",
   "metadata": {
    "papermill": {
     "duration": 0.061157,
     "end_time": "2022-06-02T23:07:26.535981",
     "exception": false,
     "start_time": "2022-06-02T23:07:26.474824",
     "status": "completed"
    },
    "tags": []
   },
   "source": [
    "## Evaluation on the test set"
   ]
  },
  {
   "cell_type": "code",
   "execution_count": 12,
   "id": "38e009a1",
   "metadata": {
    "papermill": {
     "duration": 0.45707,
     "end_time": "2022-06-02T23:07:27.032222",
     "exception": true,
     "start_time": "2022-06-02T23:07:26.575152",
     "status": "failed"
    },
    "tags": []
   },
   "outputs": [
    {
     "name": "stdout",
     "output_type": "stream",
     "text": [
      "Found 25000 files belonging to 2 classes.\n"
     ]
    }
   ],
   "source": [
    "test_dset = tf.keras.preprocessing.text_dataset_from_directory(\n",
    "    SEQ_PATH / 'test',\n",
    "    batch_size=BATCH_SIZE,\n",
    "    class_names=CLASSES)\n",
    "\n",
    "if NUM_CLASSES > 2:\n",
    "    test_dset = test_dset.map(lambda x, y: (x, tf.one_hot(y, depth=NUM_CLASSES)))\n",
    "test_ds =  test_dset.map(vectorize_text)"
   ]
  },
  {
   "cell_type": "code",
   "execution_count": 13,
   "id": "4543bcf7",
   "metadata": {
    "papermill": {
     "duration": null,
     "end_time": null,
     "exception": null,
     "start_time": null,
     "status": "pending"
    },
    "tags": []
   },
   "outputs": [
    {
     "name": "stdout",
     "output_type": "stream",
     "text": [
      "391/391 [==============================] - 6s 15ms/step - loss: 0.2580 - binary_accuracy: 0.8961 - f1_score: 0.8944\n"
     ]
    },
    {
     "data": {
      "text/plain": [
       "[0.2579881250858307, 0.8960800170898438, 0.8944406509399414]"
      ]
     },
     "execution_count": 13,
     "metadata": {},
     "output_type": "execute_result"
    }
   ],
   "source": [
    "model.evaluate(test_ds)"
   ]
  }
 ],
 "metadata": {
  "celltoolbar": "Tags",
  "interpreter": {
   "hash": "6aefa309fdc551cffdb69c1b229c63cc8afbc3d2cc6c7acf643414f933d1f738"
  },
  "kernelspec": {
   "display_name": "Python [conda env:bench_env]",
   "language": "python",
   "name": "conda-env-bench_env-py"
  },
  "language_info": {
   "codemirror_mode": {
    "name": "ipython",
    "version": 3
   },
   "file_extension": ".py",
   "mimetype": "text/x-python",
   "name": "python",
   "nbconvert_exporter": "python",
   "pygments_lexer": "ipython3",
   "version": "3.8.13"
  },
  "papermill": {
   "default_parameters": {},
   "duration": 153.43188,
   "end_time": "2022-06-02T23:07:30.338921",
   "environment_variables": {},
   "exception": true,
   "input_path": "utils/tf_cnn_classifier.ipynb",
   "output_path": "tf_cnn_experiments/demo_coding_vs_intergenomic_seqs.ipynb",
   "parameters": {
    "DATASET": "demo_coding_vs_intergenomic_seqs"
   },
   "start_time": "2022-06-02T23:04:56.907041",
   "version": "2.3.4"
  }
 },
 "nbformat": 4,
 "nbformat_minor": 5
}
