{
 "cells": [
  {
   "cell_type": "markdown",
   "id": "a0f8e486",
   "metadata": {
    "papermill": {
     "duration": 0.004512,
     "end_time": "2022-06-03T06:39:33.039912",
     "exception": false,
     "start_time": "2022-06-03T06:39:33.035400",
     "status": "completed"
    },
    "tags": []
   },
   "source": [
    "# TF CNN Classifier\n",
    "\n",
    "To run this notebook on an another benchmark, use\n",
    "\n",
    "```\n",
    "papermill utils/tf_cnn_classifier.ipynb tf_cnn_experiments/[DATASET NAME].ipynb -p DATASET [DATASET NAME]\n",
    "```"
   ]
  },
  {
   "cell_type": "code",
   "execution_count": 1,
   "id": "afbb9431",
   "metadata": {
    "papermill": {
     "duration": 0.00985,
     "end_time": "2022-06-03T06:39:33.053747",
     "exception": false,
     "start_time": "2022-06-03T06:39:33.043897",
     "status": "completed"
    },
    "tags": [
     "parameters"
    ]
   },
   "outputs": [],
   "source": [
    "DATASET = 'demo_coding_vs_intergenomic_seqs'\n",
    "VERSION = 0\n",
    "BATCH_SIZE = 64\n",
    "EPOCHS = 10"
   ]
  },
  {
   "cell_type": "code",
   "execution_count": 2,
   "id": "62e315a7",
   "metadata": {
    "papermill": {
     "duration": 0.007098,
     "end_time": "2022-06-03T06:39:33.064952",
     "exception": false,
     "start_time": "2022-06-03T06:39:33.057854",
     "status": "completed"
    },
    "tags": [
     "injected-parameters"
    ]
   },
   "outputs": [],
   "source": [
    "# Parameters\n",
    "DATASET = \"dummy_mouse_enhancers_ensembl\"\n"
   ]
  },
  {
   "cell_type": "code",
   "execution_count": 3,
   "id": "982d14ab",
   "metadata": {
    "papermill": {
     "duration": 0.007035,
     "end_time": "2022-06-03T06:39:33.075724",
     "exception": false,
     "start_time": "2022-06-03T06:39:33.068689",
     "status": "completed"
    },
    "tags": []
   },
   "outputs": [
    {
     "name": "stdout",
     "output_type": "stream",
     "text": [
      "dummy_mouse_enhancers_ensembl 0 64 10\n"
     ]
    }
   ],
   "source": [
    "print(DATASET, VERSION, BATCH_SIZE, EPOCHS)"
   ]
  },
  {
   "cell_type": "markdown",
   "id": "3a06a600",
   "metadata": {
    "papermill": {
     "duration": 0.003598,
     "end_time": "2022-06-03T06:39:33.083081",
     "exception": false,
     "start_time": "2022-06-03T06:39:33.079483",
     "status": "completed"
    },
    "tags": []
   },
   "source": [
    "# Data download"
   ]
  },
  {
   "cell_type": "code",
   "execution_count": 4,
   "id": "1a57e0d2",
   "metadata": {
    "papermill": {
     "duration": 33.956082,
     "end_time": "2022-06-03T06:40:07.042749",
     "exception": false,
     "start_time": "2022-06-03T06:39:33.086667",
     "status": "completed"
    },
    "tags": []
   },
   "outputs": [
    {
     "name": "stderr",
     "output_type": "stream",
     "text": [
      "/home/jovyan/genomic_benchmarks/src/genomic_benchmarks/utils/datasets.py:11: TqdmWarning: IProgress not found. Please update jupyter and ipywidgets. See https://ipywidgets.readthedocs.io/en/stable/user_install.html\n",
      "  from tqdm.autonotebook import tqdm\n",
      "2022-06-03 06:40:51.327168: I tensorflow/core/platform/cpu_feature_guard.cc:193] This TensorFlow binary is optimized with oneAPI Deep Neural Network Library (oneDNN) to use the following CPU instructions in performance-critical operations:  AVX2 FMA\n",
      "To enable them in other operations, rebuild TensorFlow with the appropriate compiler flags.\n",
      "2022-06-03 06:40:51.701886: I tensorflow/core/common_runtime/gpu/gpu_device.cc:1532] Created device /job:localhost/replica:0/task:0/device:GPU:0 with 43369 MB memory:  -> device: 0, name: NVIDIA A40, pci bus id: 0000:a3:00.0, compute capability: 8.6\n"
     ]
    }
   ],
   "source": [
    "from pathlib import Path\n",
    "import tensorflow as tf\n",
    "import tensorflow_addons as tfa\n",
    "\n",
    "import numpy as np\n",
    "from genomic_benchmarks.loc2seq import download_dataset\n",
    "from genomic_benchmarks.data_check import is_downloaded, info\n",
    "from genomic_benchmarks.models.tf import vectorize_layer\n",
    "from genomic_benchmarks.models.tf import get_basic_cnn_model_v0 as get_model\n",
    "\n",
    "if not is_downloaded(DATASET):\n",
    "    download_dataset(DATASET)"
   ]
  },
  {
   "cell_type": "code",
   "execution_count": 5,
   "id": "ef313c21",
   "metadata": {
    "papermill": {
     "duration": null,
     "end_time": null,
     "exception": null,
     "start_time": null,
     "status": "completed"
    },
    "tags": []
   },
   "outputs": [
    {
     "name": "stderr",
     "output_type": "stream",
     "text": [
      "/home/jovyan/genomic_benchmarks/src/genomic_benchmarks/utils/datasets.py:50: UserWarning: No version specified. Using version 0.\n",
      "  warnings.warn(f\"No version specified. Using version {metadata['version']}.\")\n"
     ]
    },
    {
     "name": "stdout",
     "output_type": "stream",
     "text": [
      "Dataset `dummy_mouse_enhancers_ensembl` has 2 classes: negative, positive.\n",
      "\n",
      "The length of genomic intervals ranges from 331 to 4776, with average 2369.5768595041322 and median 2381.0.\n",
      "\n",
      "Totally 1210 sequences have been found, 968 for training and 242 for testing.\n"
     ]
    },
    {
     "data": {
      "text/html": [
       "<div>\n",
       "<style scoped>\n",
       "    .dataframe tbody tr th:only-of-type {\n",
       "        vertical-align: middle;\n",
       "    }\n",
       "\n",
       "    .dataframe tbody tr th {\n",
       "        vertical-align: top;\n",
       "    }\n",
       "\n",
       "    .dataframe thead th {\n",
       "        text-align: right;\n",
       "    }\n",
       "</style>\n",
       "<table border=\"1\" class=\"dataframe\">\n",
       "  <thead>\n",
       "    <tr style=\"text-align: right;\">\n",
       "      <th></th>\n",
       "      <th>train</th>\n",
       "      <th>test</th>\n",
       "    </tr>\n",
       "  </thead>\n",
       "  <tbody>\n",
       "    <tr>\n",
       "      <th>negative</th>\n",
       "      <td>484</td>\n",
       "      <td>121</td>\n",
       "    </tr>\n",
       "    <tr>\n",
       "      <th>positive</th>\n",
       "      <td>484</td>\n",
       "      <td>121</td>\n",
       "    </tr>\n",
       "  </tbody>\n",
       "</table>\n",
       "</div>"
      ],
      "text/plain": [
       "          train  test\n",
       "negative    484   121\n",
       "positive    484   121"
      ]
     },
     "execution_count": 5,
     "metadata": {},
     "output_type": "execute_result"
    }
   ],
   "source": [
    "info(DATASET)"
   ]
  },
  {
   "cell_type": "markdown",
   "id": "f4ce24e0",
   "metadata": {
    "papermill": {
     "duration": null,
     "end_time": null,
     "exception": null,
     "start_time": null,
     "status": "completed"
    },
    "tags": []
   },
   "source": [
    "## TF Dataset object"
   ]
  },
  {
   "cell_type": "code",
   "execution_count": 6,
   "id": "409118c7",
   "metadata": {
    "papermill": {
     "duration": null,
     "end_time": null,
     "exception": null,
     "start_time": null,
     "status": "completed"
    },
    "tags": []
   },
   "outputs": [
    {
     "name": "stdout",
     "output_type": "stream",
     "text": [
      "Found 968 files belonging to 2 classes.\n"
     ]
    }
   ],
   "source": [
    "SEQ_PATH = Path.home() / '.genomic_benchmarks' / DATASET\n",
    "CLASSES = [x.stem for x in (SEQ_PATH/'train').iterdir() if x.is_dir()]\n",
    "NUM_CLASSES = len(CLASSES)\n",
    "\n",
    "train_dset = tf.keras.preprocessing.text_dataset_from_directory(\n",
    "    SEQ_PATH / 'train',\n",
    "    batch_size=BATCH_SIZE,\n",
    "    class_names=CLASSES)"
   ]
  },
  {
   "cell_type": "code",
   "execution_count": 7,
   "id": "fa20a786",
   "metadata": {
    "papermill": {
     "duration": null,
     "end_time": null,
     "exception": null,
     "start_time": null,
     "status": "completed"
    },
    "tags": []
   },
   "outputs": [],
   "source": [
    "if NUM_CLASSES > 2:\n",
    "    train_dset = train_dset.map(lambda x, y: (x, tf.one_hot(y, depth=NUM_CLASSES)))"
   ]
  },
  {
   "cell_type": "markdown",
   "id": "ef9706c8",
   "metadata": {
    "papermill": {
     "duration": null,
     "end_time": null,
     "exception": null,
     "start_time": null,
     "status": "completed"
    },
    "tags": []
   },
   "source": [
    "## Text vectorization"
   ]
  },
  {
   "cell_type": "code",
   "execution_count": 8,
   "id": "60ac5547",
   "metadata": {
    "papermill": {
     "duration": null,
     "end_time": null,
     "exception": null,
     "start_time": null,
     "status": "completed"
    },
    "tags": []
   },
   "outputs": [
    {
     "data": {
      "text/plain": [
       "['', '[UNK]', 't', 'a', 'c', 'g']"
      ]
     },
     "execution_count": 8,
     "metadata": {},
     "output_type": "execute_result"
    }
   ],
   "source": [
    "vectorize_layer.adapt(train_dset.map(lambda x, y: x))\n",
    "VOCAB_SIZE = len(vectorize_layer.get_vocabulary())\n",
    "vectorize_layer.get_vocabulary()"
   ]
  },
  {
   "cell_type": "code",
   "execution_count": 9,
   "id": "6a5c8a30",
   "metadata": {
    "papermill": {
     "duration": null,
     "end_time": null,
     "exception": null,
     "start_time": null,
     "status": "completed"
    },
    "tags": []
   },
   "outputs": [],
   "source": [
    "def vectorize_text(text, label):\n",
    "  text = tf.expand_dims(text, -1)\n",
    "  return vectorize_layer(text)-2, label\n",
    "\n",
    "train_ds = train_dset.map(vectorize_text)"
   ]
  },
  {
   "cell_type": "markdown",
   "id": "2216d2dd",
   "metadata": {
    "papermill": {
     "duration": null,
     "end_time": null,
     "exception": null,
     "start_time": null,
     "status": "completed"
    },
    "tags": []
   },
   "source": [
    "## Model training"
   ]
  },
  {
   "cell_type": "code",
   "execution_count": 10,
   "id": "2fbf777e",
   "metadata": {
    "papermill": {
     "duration": null,
     "end_time": null,
     "exception": null,
     "start_time": null,
     "status": "completed"
    },
    "tags": []
   },
   "outputs": [],
   "source": [
    "model = get_model(NUM_CLASSES, VOCAB_SIZE)"
   ]
  },
  {
   "cell_type": "code",
   "execution_count": 11,
   "id": "57ae2ebd",
   "metadata": {
    "papermill": {
     "duration": null,
     "end_time": null,
     "exception": null,
     "start_time": null,
     "status": "completed"
    },
    "tags": []
   },
   "outputs": [
    {
     "name": "stdout",
     "output_type": "stream",
     "text": [
      "Epoch 1/10\n"
     ]
    },
    {
     "name": "stderr",
     "output_type": "stream",
     "text": [
      "2022-06-03 06:40:56.192542: I tensorflow/stream_executor/cuda/cuda_dnn.cc:384] Loaded cuDNN version 8204\n"
     ]
    },
    {
     "name": "stdout",
     "output_type": "stream",
     "text": [
      " 1/16 [>.............................] - ETA: 49s - loss: 0.7422 - binary_accuracy: 0.5625 - f1_score: 0.6842"
     ]
    },
    {
     "name": "stderr",
     "output_type": "stream",
     "text": [
      "2022-06-03 06:40:57.617399: I tensorflow/stream_executor/cuda/cuda_blas.cc:1786] TensorFloat-32 will be used for the matrix multiplication. This will only be logged once.\n"
     ]
    },
    {
     "name": "stdout",
     "output_type": "stream",
     "text": [
      "16/16 [==============================] - 4s 47ms/step - loss: 0.6846 - binary_accuracy: 0.5558 - f1_score: 0.6172\n",
      "Epoch 2/10\n",
      "16/16 [==============================] - 1s 33ms/step - loss: 0.6150 - binary_accuracy: 0.6715 - f1_score: 0.5379\n",
      "Epoch 3/10\n",
      "16/16 [==============================] - 1s 31ms/step - loss: 0.6064 - binary_accuracy: 0.6911 - f1_score: 0.5079\n",
      "Epoch 4/10\n",
      "16/16 [==============================] - 1s 37ms/step - loss: 0.6030 - binary_accuracy: 0.6818 - f1_score: 0.5100\n",
      "Epoch 5/10\n",
      "16/16 [==============================] - 1s 34ms/step - loss: 0.5987 - binary_accuracy: 0.7014 - f1_score: 0.5376\n",
      "Epoch 6/10\n",
      "16/16 [==============================] - 0s 28ms/step - loss: 0.5935 - binary_accuracy: 0.7076 - f1_score: 0.5676\n",
      "Epoch 7/10\n",
      "16/16 [==============================] - 1s 29ms/step - loss: 0.5879 - binary_accuracy: 0.7211 - f1_score: 0.5460\n",
      "Epoch 8/10\n",
      "16/16 [==============================] - 0s 25ms/step - loss: 0.5775 - binary_accuracy: 0.7097 - f1_score: 0.5798\n",
      "Epoch 9/10\n",
      "16/16 [==============================] - 1s 52ms/step - loss: 0.5737 - binary_accuracy: 0.7087 - f1_score: 0.6142\n",
      "Epoch 10/10\n",
      "16/16 [==============================] - 1s 36ms/step - loss: 0.5626 - binary_accuracy: 0.7169 - f1_score: 0.6408\n"
     ]
    }
   ],
   "source": [
    "history = model.fit(\n",
    "    train_ds,\n",
    "    epochs=EPOCHS)"
   ]
  },
  {
   "cell_type": "markdown",
   "id": "5bae33fa",
   "metadata": {
    "papermill": {
     "duration": null,
     "end_time": null,
     "exception": null,
     "start_time": null,
     "status": "completed"
    },
    "tags": []
   },
   "source": [
    "## Evaluation on the test set"
   ]
  },
  {
   "cell_type": "code",
   "execution_count": 12,
   "id": "38e009a1",
   "metadata": {
    "papermill": {
     "duration": null,
     "end_time": null,
     "exception": null,
     "start_time": null,
     "status": "completed"
    },
    "tags": []
   },
   "outputs": [
    {
     "name": "stdout",
     "output_type": "stream",
     "text": [
      "Found 242 files belonging to 2 classes.\n"
     ]
    }
   ],
   "source": [
    "test_dset = tf.keras.preprocessing.text_dataset_from_directory(\n",
    "    SEQ_PATH / 'test',\n",
    "    batch_size=BATCH_SIZE,\n",
    "    class_names=CLASSES)\n",
    "\n",
    "if NUM_CLASSES > 2:\n",
    "    test_dset = test_dset.map(lambda x, y: (x, tf.one_hot(y, depth=NUM_CLASSES)))\n",
    "test_ds =  test_dset.map(vectorize_text)"
   ]
  },
  {
   "cell_type": "code",
   "execution_count": 13,
   "id": "4543bcf7",
   "metadata": {
    "papermill": {
     "duration": null,
     "end_time": null,
     "exception": null,
     "start_time": null,
     "status": "completed"
    },
    "tags": []
   },
   "outputs": [
    {
     "name": "stdout",
     "output_type": "stream",
     "text": [
      "4/4 [==============================] - 0s 33ms/step - loss: 0.8968 - binary_accuracy: 0.5000 - f1_score: 0.0000e+00\n"
     ]
    },
    {
     "data": {
      "text/plain": [
       "[0.896836519241333, 0.5, 0.0]"
      ]
     },
     "execution_count": 13,
     "metadata": {},
     "output_type": "execute_result"
    }
   ],
   "source": [
    "model.evaluate(test_ds)"
   ]
  }
 ],
 "metadata": {
  "celltoolbar": "Tags",
  "interpreter": {
   "hash": "6aefa309fdc551cffdb69c1b229c63cc8afbc3d2cc6c7acf643414f933d1f738"
  },
  "kernelspec": {
   "display_name": "Python [conda env:bench_env]",
   "language": "python",
   "name": "conda-env-bench_env-py"
  },
  "language_info": {
   "codemirror_mode": {
    "name": "ipython",
    "version": 3
   },
   "file_extension": ".py",
   "mimetype": "text/x-python",
   "name": "python",
   "nbconvert_exporter": "python",
   "pygments_lexer": "ipython3",
   "version": "3.8.13"
  },
  "papermill": {
   "default_parameters": {},
   "duration": 35.626847,
   "end_time": "2022-06-03T06:40:07.757414",
   "environment_variables": {},
   "exception": null,
   "input_path": "utils/tf_cnn_classifier.ipynb",
   "output_path": "tf_cnn_experiments/dummy_mouse_enhancers_ensembl.ipynb",
   "parameters": {
    "DATASET": "dummy_mouse_enhancers_ensembl"
   },
   "start_time": "2022-06-03T06:39:32.130567",
   "version": "2.3.4"
  }
 },
 "nbformat": 4,
 "nbformat_minor": 5
}
