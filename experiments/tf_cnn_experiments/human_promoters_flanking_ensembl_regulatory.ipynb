{
 "cells": [
  {
   "cell_type": "markdown",
   "id": "a0f8e486",
   "metadata": {
    "papermill": {
     "duration": 0.014866,
     "end_time": "2022-02-14T11:17:48.326360",
     "exception": false,
     "start_time": "2022-02-14T11:17:48.311494",
     "status": "completed"
    },
    "tags": []
   },
   "source": [
    "# TF CNN Classifier\n",
    "\n",
    "To run this notebook on an another benchmark, use\n",
    "\n",
    "```\n",
    "papermill utils/tf_cnn_classifier.ipynb tf_cnn_experiments/[DATASET NAME].ipynb -p DATASET [DATASET NAME]\n",
    "```"
   ]
  },
  {
   "cell_type": "code",
   "execution_count": 1,
   "id": "afbb9431",
   "metadata": {
    "execution": {
     "iopub.execute_input": "2022-02-14T11:17:48.350442Z",
     "iopub.status.busy": "2022-02-14T11:17:48.350033Z",
     "iopub.status.idle": "2022-02-14T11:17:48.353189Z",
     "shell.execute_reply": "2022-02-14T11:17:48.353898Z"
    },
    "papermill": {
     "duration": 0.020519,
     "end_time": "2022-02-14T11:17:48.354523",
     "exception": false,
     "start_time": "2022-02-14T11:17:48.334004",
     "status": "completed"
    },
    "tags": [
     "parameters"
    ]
   },
   "outputs": [],
   "source": [
    "DATASET = 'demo_coding_vs_intergenomic_seqs'\n",
    "VERSION = 0\n",
    "BATCH_SIZE = 64\n",
    "EPOCHS = 10"
   ]
  },
  {
   "cell_type": "code",
   "execution_count": 2,
   "id": "a9e24d6f",
   "metadata": {
    "execution": {
     "iopub.execute_input": "2022-02-14T11:17:48.374685Z",
     "iopub.status.busy": "2022-02-14T11:17:48.374409Z",
     "iopub.status.idle": "2022-02-14T11:17:48.376351Z",
     "shell.execute_reply": "2022-02-14T11:17:48.376087Z"
    },
    "papermill": {
     "duration": 0.012134,
     "end_time": "2022-02-14T11:17:48.376412",
     "exception": false,
     "start_time": "2022-02-14T11:17:48.364278",
     "status": "completed"
    },
    "tags": [
     "injected-parameters"
    ]
   },
   "outputs": [],
   "source": [
    "# Parameters\n",
    "DATASET = \"human_promoters_flanking_ensembl_regulatory\"\n"
   ]
  },
  {
   "cell_type": "code",
   "execution_count": 3,
   "id": "982d14ab",
   "metadata": {
    "execution": {
     "iopub.execute_input": "2022-02-14T11:17:48.396597Z",
     "iopub.status.busy": "2022-02-14T11:17:48.396325Z",
     "iopub.status.idle": "2022-02-14T11:17:48.400018Z",
     "shell.execute_reply": "2022-02-14T11:17:48.400539Z"
    },
    "papermill": {
     "duration": 0.016439,
     "end_time": "2022-02-14T11:17:48.400704",
     "exception": false,
     "start_time": "2022-02-14T11:17:48.384265",
     "status": "completed"
    },
    "tags": []
   },
   "outputs": [
    {
     "name": "stdout",
     "output_type": "stream",
     "text": [
      "human_promoters_flanking_ensembl_regulatory 0 64 10\n"
     ]
    }
   ],
   "source": [
    "print(DATASET, VERSION, BATCH_SIZE, EPOCHS)"
   ]
  },
  {
   "cell_type": "markdown",
   "id": "3a06a600",
   "metadata": {
    "papermill": {
     "duration": 0.007982,
     "end_time": "2022-02-14T11:17:48.422209",
     "exception": false,
     "start_time": "2022-02-14T11:17:48.414227",
     "status": "completed"
    },
    "tags": []
   },
   "source": [
    "# Data download"
   ]
  },
  {
   "cell_type": "code",
   "execution_count": 4,
   "id": "1a57e0d2",
   "metadata": {
    "execution": {
     "iopub.execute_input": "2022-02-14T11:17:48.441646Z",
     "iopub.status.busy": "2022-02-14T11:17:48.441347Z",
     "iopub.status.idle": "2022-02-14T11:17:50.039067Z",
     "shell.execute_reply": "2022-02-14T11:17:50.038828Z"
    },
    "papermill": {
     "duration": 1.609663,
     "end_time": "2022-02-14T11:17:50.039134",
     "exception": false,
     "start_time": "2022-02-14T11:17:48.429471",
     "status": "completed"
    },
    "tags": []
   },
   "outputs": [
    {
     "name": "stderr",
     "output_type": "stream",
     "text": [
      "2022-02-14 12:18:14.111293: W tensorflow/stream_executor/platform/default/dso_loader.cc:64] Could not load dynamic library 'libcudart.so.11.0'; dlerror: libcudart.so.11.0: cannot open shared object file: No such file or directory\n",
      "2022-02-14 12:18:14.111326: I tensorflow/stream_executor/cuda/cudart_stub.cc:29] Ignore above cudart dlerror if you do not have a GPU set up on your machine.\n",
      "2022-02-14 12:18:15.673711: W tensorflow/stream_executor/platform/default/dso_loader.cc:64] Could not load dynamic library 'libcuda.so.1'; dlerror: libcuda.so.1: cannot open shared object file: No such file or directory\n",
      "2022-02-14 12:18:15.673762: W tensorflow/stream_executor/cuda/cuda_driver.cc:269] failed call to cuInit: UNKNOWN ERROR (303)\n",
      "2022-02-14 12:18:15.673778: I tensorflow/stream_executor/cuda/cuda_diagnostics.cc:156] kernel driver does not appear to be running on this host (katarina-lenovo): /proc/driver/nvidia/version does not exist\n",
      "2022-02-14 12:18:15.674012: I tensorflow/core/platform/cpu_feature_guard.cc:151] This TensorFlow binary is optimized with oneAPI Deep Neural Network Library (oneDNN) to use the following CPU instructions in performance-critical operations:  AVX2 FMA\n",
      "To enable them in other operations, rebuild TensorFlow with the appropriate compiler flags.\n"
     ]
    }
   ],
   "source": [
    "from pathlib import Path\n",
    "import tensorflow as tf\n",
    "\n",
    "import numpy as np\n",
    "from genomic_benchmarks.loc2seq import download_dataset\n",
    "from genomic_benchmarks.data_check import is_downloaded, info\n",
    "from genomic_benchmarks.models.tf import vectorize_layer, binary_f1_score\n",
    "from genomic_benchmarks.models.tf import basic_cnn_model_v0 as model\n",
    "\n",
    "if not is_downloaded(DATASET):\n",
    "    download_dataset(DATASET)"
   ]
  },
  {
   "cell_type": "code",
   "execution_count": 5,
   "id": "ef313c21",
   "metadata": {
    "execution": {
     "iopub.execute_input": "2022-02-14T11:17:50.087534Z",
     "iopub.status.busy": "2022-02-14T11:17:50.086805Z",
     "iopub.status.idle": "2022-02-14T11:17:50.932331Z",
     "shell.execute_reply": "2022-02-14T11:17:50.930388Z"
    },
    "papermill": {
     "duration": 0.856742,
     "end_time": "2022-02-14T11:17:50.932486",
     "exception": true,
     "start_time": "2022-02-14T11:17:50.075744",
     "status": "failed"
    },
    "tags": []
   },
   "outputs": [],
   "source": [
    "info(DATASET)"
   ]
  },
  {
   "cell_type": "markdown",
   "id": "f4ce24e0",
   "metadata": {
    "papermill": {
     "duration": null,
     "end_time": null,
     "exception": null,
     "start_time": null,
     "status": "pending"
    },
    "tags": []
   },
   "source": [
    "## TF Dataset object"
   ]
  },
  {
   "cell_type": "code",
   "execution_count": 6,
   "id": "409118c7",
   "metadata": {
    "papermill": {
     "duration": null,
     "end_time": null,
     "exception": null,
     "start_time": null,
     "status": "pending"
    },
    "tags": []
   },
   "outputs": [
    {
     "name": "stdout",
     "output_type": "stream",
     "text": [
      "Found 198254 files belonging to 2 classes.\n"
     ]
    }
   ],
   "source": [
    "SEQ_PATH = Path.home() / '.genomic_benchmarks' / DATASET\n",
    "CLASSES = [x.stem for x in (SEQ_PATH/'train').iterdir() if x.is_dir()]\n",
    "\n",
    "train_dset = tf.keras.preprocessing.text_dataset_from_directory(\n",
    "    SEQ_PATH / 'train',\n",
    "    batch_size=BATCH_SIZE,\n",
    "    class_names=CLASSES)"
   ]
  },
  {
   "cell_type": "markdown",
   "id": "ef9706c8",
   "metadata": {
    "papermill": {
     "duration": null,
     "end_time": null,
     "exception": null,
     "start_time": null,
     "status": "pending"
    },
    "tags": []
   },
   "source": [
    "## Text vectorization"
   ]
  },
  {
   "cell_type": "code",
   "execution_count": 7,
   "id": "60ac5547",
   "metadata": {
    "papermill": {
     "duration": null,
     "end_time": null,
     "exception": null,
     "start_time": null,
     "status": "pending"
    },
    "tags": []
   },
   "outputs": [
    {
     "data": {
      "text/plain": [
       "['', '[UNK]', 't', 'a', 'g', 'c', 'n']"
      ]
     },
     "execution_count": 7,
     "metadata": {},
     "output_type": "execute_result"
    }
   ],
   "source": [
    "vectorize_layer.adapt(train_dset.map(lambda x, y: x))\n",
    "# vectorize_layer.set_vocabulary(vocabulary=np.asarray(['a', 'c', 't', 'g', 'n']))\n",
    "vectorize_layer.get_vocabulary()"
   ]
  },
  {
   "cell_type": "code",
   "execution_count": 8,
   "id": "6a5c8a30",
   "metadata": {
    "papermill": {
     "duration": null,
     "end_time": null,
     "exception": null,
     "start_time": null,
     "status": "pending"
    },
    "tags": []
   },
   "outputs": [],
   "source": [
    "def vectorize_text(text, label):\n",
    "  text = tf.expand_dims(text, -1)\n",
    "  return vectorize_layer(text)-2, label\n",
    "\n",
    "train_ds = train_dset.map(vectorize_text)"
   ]
  },
  {
   "cell_type": "markdown",
   "id": "2216d2dd",
   "metadata": {
    "papermill": {
     "duration": null,
     "end_time": null,
     "exception": null,
     "start_time": null,
     "status": "pending"
    },
    "tags": []
   },
   "source": [
    "## Model training"
   ]
  },
  {
   "cell_type": "code",
   "execution_count": 9,
   "id": "2fbf777e",
   "metadata": {
    "papermill": {
     "duration": null,
     "end_time": null,
     "exception": null,
     "start_time": null,
     "status": "pending"
    },
    "tags": []
   },
   "outputs": [],
   "source": [
    "model.compile(loss=tf.keras.losses.BinaryCrossentropy(from_logits=True),\n",
    "              optimizer='adam',\n",
    "              metrics=[tf.metrics.BinaryAccuracy(threshold=0.0), binary_f1_score])"
   ]
  },
  {
   "cell_type": "code",
   "execution_count": 10,
   "id": "57ae2ebd",
   "metadata": {
    "papermill": {
     "duration": null,
     "end_time": null,
     "exception": null,
     "start_time": null,
     "status": "pending"
    },
    "tags": []
   },
   "outputs": [
    {
     "name": "stdout",
     "output_type": "stream",
     "text": [
      "Epoch 1/10\n",
      "3098/3098 [==============================] - 505s 162ms/step - loss: 0.6257 - binary_accuracy: 0.6544 - f1_score: 0.4091\n",
      "Epoch 2/10\n",
      "3098/3098 [==============================] - 525s 169ms/step - loss: 0.6040 - binary_accuracy: 0.6728 - f1_score: 0.5035\n",
      "Epoch 3/10\n",
      "3098/3098 [==============================] - 496s 160ms/step - loss: 0.5926 - binary_accuracy: 0.6836 - f1_score: 0.5336\n",
      "Epoch 4/10\n",
      "3098/3098 [==============================] - 493s 159ms/step - loss: 0.5874 - binary_accuracy: 0.6880 - f1_score: 0.5480\n",
      "Epoch 5/10\n",
      "3098/3098 [==============================] - 495s 160ms/step - loss: 0.5836 - binary_accuracy: 0.6914 - f1_score: 0.5562\n",
      "Epoch 6/10\n",
      "3098/3098 [==============================] - 491s 159ms/step - loss: 0.5804 - binary_accuracy: 0.6935 - f1_score: 0.5630\n",
      "Epoch 7/10\n",
      "3098/3098 [==============================] - 489s 158ms/step - loss: 0.5785 - binary_accuracy: 0.6959 - f1_score: 0.5663\n",
      "Epoch 8/10\n",
      "3098/3098 [==============================] - 491s 158ms/step - loss: 0.5766 - binary_accuracy: 0.6976 - f1_score: 0.5705\n",
      "Epoch 9/10\n",
      "3098/3098 [==============================] - 490s 158ms/step - loss: 0.5743 - binary_accuracy: 0.6984 - f1_score: 0.5740\n",
      "Epoch 10/10\n",
      "3098/3098 [==============================] - 492s 159ms/step - loss: 0.5729 - binary_accuracy: 0.7007 - f1_score: 0.5763\n"
     ]
    }
   ],
   "source": [
    "history = model.fit(\n",
    "    train_ds,\n",
    "    epochs=EPOCHS)"
   ]
  },
  {
   "cell_type": "markdown",
   "id": "5bae33fa",
   "metadata": {
    "papermill": {
     "duration": null,
     "end_time": null,
     "exception": null,
     "start_time": null,
     "status": "pending"
    },
    "tags": []
   },
   "source": [
    "## Evaluation on the test set"
   ]
  },
  {
   "cell_type": "code",
   "execution_count": 11,
   "id": "38e009a1",
   "metadata": {
    "papermill": {
     "duration": null,
     "end_time": null,
     "exception": null,
     "start_time": null,
     "status": "pending"
    },
    "tags": []
   },
   "outputs": [
    {
     "name": "stdout",
     "output_type": "stream",
     "text": [
      "Found 49564 files belonging to 2 classes.\n"
     ]
    }
   ],
   "source": [
    "test_dset = tf.keras.preprocessing.text_dataset_from_directory(\n",
    "    SEQ_PATH / 'test',\n",
    "    batch_size=BATCH_SIZE,\n",
    "    class_names=CLASSES)\n",
    "\n",
    "test_ds =  test_dset.map(vectorize_text)"
   ]
  },
  {
   "cell_type": "code",
   "execution_count": 12,
   "id": "4543bcf7",
   "metadata": {
    "papermill": {
     "duration": null,
     "end_time": null,
     "exception": null,
     "start_time": null,
     "status": "pending"
    },
    "tags": []
   },
   "outputs": [
    {
     "name": "stdout",
     "output_type": "stream",
     "text": [
      "775/775 [==============================] - 28s 36ms/step - loss: 0.6275 - binary_accuracy: 0.6641 - f1_score: 0.4395\n"
     ]
    },
    {
     "data": {
      "text/plain": [
       "[0.627495288848877, 0.6640908718109131, 0.439519464969635]"
      ]
     },
     "execution_count": 12,
     "metadata": {},
     "output_type": "execute_result"
    }
   ],
   "source": [
    "model.evaluate(test_ds)"
   ]
  },
  {
   "cell_type": "code",
   "execution_count": null,
   "id": "7d6b771a",
   "metadata": {
    "papermill": {
     "duration": null,
     "end_time": null,
     "exception": null,
     "start_time": null,
     "status": "pending"
    },
    "tags": []
   },
   "outputs": [],
   "source": []
  }
 ],
 "metadata": {
  "celltoolbar": "Tags",
  "kernelspec": {
   "display_name": "Python 3 (ipykernel)",
   "language": "python",
   "name": "python3"
  },
  "language_info": {
   "codemirror_mode": {
    "name": "ipython",
    "version": 3
   },
   "file_extension": ".py",
   "mimetype": "text/x-python",
   "name": "python",
   "nbconvert_exporter": "python",
   "pygments_lexer": "ipython3",
   "version": "3.8.10"
  },
  "papermill": {
   "default_parameters": {},
   "duration": 6.300636,
   "end_time": "2022-02-14T11:17:53.676683",
   "environment_variables": {},
   "exception": true,
   "input_path": "utils/tf_cnn_classifier.ipynb",
   "output_path": "tf_cnn_experiments/human_promoters_flanking_ensembl_regulatory.ipynb",
   "parameters": {
    "DATASET": "human_promoters_flanking_ensembl_regulatory"
   },
   "start_time": "2022-02-14T11:17:47.376047",
   "version": "2.3.4"
  }
 },
 "nbformat": 4,
 "nbformat_minor": 5
}
