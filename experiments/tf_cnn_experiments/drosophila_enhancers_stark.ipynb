{
 "cells": [
  {
   "cell_type": "markdown",
   "id": "a0f8e486",
   "metadata": {
    "papermill": {
     "duration": 0.015392,
     "end_time": "2022-06-29T13:36:49.645282",
     "exception": false,
     "start_time": "2022-06-29T13:36:49.629890",
     "status": "completed"
    },
    "tags": []
   },
   "source": [
    "# TF CNN Classifier\n",
    "\n",
    "To run this notebook on an another benchmark, use\n",
    "\n",
    "```\n",
    "papermill utils/tf_cnn_classifier.ipynb tf_cnn_experiments/[DATASET NAME].ipynb -p DATASET [DATASET NAME]\n",
    "```"
   ]
  },
  {
   "cell_type": "code",
   "execution_count": 1,
   "id": "afbb9431",
   "metadata": {
    "execution": {
     "iopub.execute_input": "2022-06-29T13:36:49.668074Z",
     "iopub.status.busy": "2022-06-29T13:36:49.662417Z",
     "iopub.status.idle": "2022-06-29T13:36:49.671911Z",
     "shell.execute_reply": "2022-06-29T13:36:49.672161Z"
    },
    "papermill": {
     "duration": 0.019396,
     "end_time": "2022-06-29T13:36:49.672378",
     "exception": false,
     "start_time": "2022-06-29T13:36:49.652982",
     "status": "completed"
    },
    "tags": [
     "parameters"
    ]
   },
   "outputs": [],
   "source": [
    "DATASET = 'demo_coding_vs_intergenomic_seqs'\n",
    "VERSION = 0\n",
    "BATCH_SIZE = 64\n",
    "EPOCHS = 10"
   ]
  },
  {
   "cell_type": "code",
   "execution_count": 2,
   "id": "438e776a",
   "metadata": {
    "execution": {
     "iopub.execute_input": "2022-06-29T13:36:49.690996Z",
     "iopub.status.busy": "2022-06-29T13:36:49.690644Z",
     "iopub.status.idle": "2022-06-29T13:36:49.691488Z",
     "shell.execute_reply": "2022-06-29T13:36:49.691243Z"
    },
    "papermill": {
     "duration": 0.011586,
     "end_time": "2022-06-29T13:36:49.691562",
     "exception": false,
     "start_time": "2022-06-29T13:36:49.679976",
     "status": "completed"
    },
    "tags": [
     "injected-parameters"
    ]
   },
   "outputs": [],
   "source": [
    "# Parameters\n",
    "DATASET = \"drosophila_enhancers_stark\"\n"
   ]
  },
  {
   "cell_type": "code",
   "execution_count": 3,
   "id": "982d14ab",
   "metadata": {
    "execution": {
     "iopub.execute_input": "2022-06-29T13:36:49.744089Z",
     "iopub.status.busy": "2022-06-29T13:36:49.743808Z",
     "iopub.status.idle": "2022-06-29T13:36:49.746846Z",
     "shell.execute_reply": "2022-06-29T13:36:49.747059Z"
    },
    "papermill": {
     "duration": 0.015203,
     "end_time": "2022-06-29T13:36:49.747143",
     "exception": false,
     "start_time": "2022-06-29T13:36:49.731940",
     "status": "completed"
    },
    "tags": []
   },
   "outputs": [
    {
     "name": "stdout",
     "output_type": "stream",
     "text": [
      "drosophila_enhancers_stark 0 64 10\n"
     ]
    }
   ],
   "source": [
    "print(DATASET, VERSION, BATCH_SIZE, EPOCHS)"
   ]
  },
  {
   "cell_type": "markdown",
   "id": "3a06a600",
   "metadata": {
    "papermill": {
     "duration": 0.007605,
     "end_time": "2022-06-29T13:36:49.762442",
     "exception": false,
     "start_time": "2022-06-29T13:36:49.754837",
     "status": "completed"
    },
    "tags": []
   },
   "source": [
    "# Data download"
   ]
  },
  {
   "cell_type": "code",
   "execution_count": 4,
   "id": "1a57e0d2",
   "metadata": {
    "execution": {
     "iopub.execute_input": "2022-06-29T13:36:49.781107Z",
     "iopub.status.busy": "2022-06-29T13:36:49.780843Z",
     "iopub.status.idle": "2022-06-29T13:36:52.853452Z",
     "shell.execute_reply": "2022-06-29T13:36:52.854168Z"
    },
    "papermill": {
     "duration": 3.084043,
     "end_time": "2022-06-29T13:36:52.854354",
     "exception": false,
     "start_time": "2022-06-29T13:36:49.770311",
     "status": "completed"
    },
    "tags": []
   },
   "outputs": [
    {
     "name": "stderr",
     "output_type": "stream",
     "text": [
      "2022-06-29 15:39:28.461432: W tensorflow/stream_executor/platform/default/dso_loader.cc:64] Could not load dynamic library 'libcudart.so.11.0'; dlerror: libcudart.so.11.0: cannot open shared object file: No such file or directory\n",
      "2022-06-29 15:39:28.461456: I tensorflow/stream_executor/cuda/cudart_stub.cc:29] Ignore above cudart dlerror if you do not have a GPU set up on your machine.\n",
      "/home/katarina/git/genomic_benchmarks/venv/lib/python3.8/site-packages/tensorflow_addons/utils/ensure_tf_install.py:53: UserWarning: Tensorflow Addons supports using Python ops for all Tensorflow versions above or equal to 2.5.0 and strictly below 2.8.0 (nightly versions are not supported). \n",
      " The versions of TensorFlow you are currently using is 2.8.0 and is not supported. \n",
      "Some things might work, some things might not.\n",
      "If you were to encounter a bug, do not file an issue.\n",
      "If you want to make sure you're using a tested and supported configuration, either change the TensorFlow version or the TensorFlow Addons's version. \n",
      "You can find the compatibility matrix in TensorFlow Addon's readme:\n",
      "https://github.com/tensorflow/addons\n",
      "  warnings.warn(\n",
      "2022-06-29 15:39:29.916467: W tensorflow/stream_executor/platform/default/dso_loader.cc:64] Could not load dynamic library 'libcuda.so.1'; dlerror: libcuda.so.1: cannot open shared object file: No such file or directory\n",
      "2022-06-29 15:39:29.916494: W tensorflow/stream_executor/cuda/cuda_driver.cc:269] failed call to cuInit: UNKNOWN ERROR (303)\n",
      "2022-06-29 15:39:29.916508: I tensorflow/stream_executor/cuda/cuda_diagnostics.cc:156] kernel driver does not appear to be running on this host (katarina-lenovo): /proc/driver/nvidia/version does not exist\n",
      "2022-06-29 15:39:29.916754: I tensorflow/core/platform/cpu_feature_guard.cc:151] This TensorFlow binary is optimized with oneAPI Deep Neural Network Library (oneDNN) to use the following CPU instructions in performance-critical operations:  AVX2 FMA\n",
      "To enable them in other operations, rebuild TensorFlow with the appropriate compiler flags.\n"
     ]
    }
   ],
   "source": [
    "from pathlib import Path\n",
    "import tensorflow as tf\n",
    "import tensorflow_addons as tfa\n",
    "\n",
    "import numpy as np\n",
    "from genomic_benchmarks.loc2seq import download_dataset\n",
    "from genomic_benchmarks.data_check import is_downloaded, info\n",
    "from genomic_benchmarks.models.tf import vectorize_layer\n",
    "from genomic_benchmarks.models.tf import get_basic_cnn_model_v0 as get_model\n",
    "\n",
    "if not is_downloaded(DATASET):\n",
    "    download_dataset(DATASET)"
   ]
  },
  {
   "cell_type": "code",
   "execution_count": 5,
   "id": "ef313c21",
   "metadata": {
    "execution": {
     "iopub.execute_input": "2022-06-29T13:36:52.888612Z",
     "iopub.status.busy": "2022-06-29T13:36:52.888311Z",
     "iopub.status.idle": "2022-06-29T13:36:54.467242Z",
     "shell.execute_reply": "2022-06-29T13:36:54.467991Z"
    },
    "papermill": {
     "duration": 1.595404,
     "end_time": "2022-06-29T13:36:54.468214",
     "exception": false,
     "start_time": "2022-06-29T13:36:52.872810",
     "status": "completed"
    },
    "tags": []
   },
   "outputs": [
    {
     "name": "stderr",
     "output_type": "stream",
     "text": [
      "/home/katarina/git/genomic_benchmarks/src/genomic_benchmarks/utils/datasets.py:50: UserWarning: No version specified. Using version 0.\n",
      "  warnings.warn(f\"No version specified. Using version {metadata['version']}.\")\n"
     ]
    },
    {
     "name": "stdout",
     "output_type": "stream",
     "text": [
      "Dataset `drosophila_enhancers_stark` has 2 classes: negative, positive.\n",
      "\n",
      "The length of genomic intervals ranges from 236 to 3237, with average 2118.1238067688746 and median 2142.0.\n",
      "\n",
      "Totally 6914 sequences have been found, 5184 for training and 1730 for testing.\n"
     ]
    },
    {
     "data": {
      "text/html": [
       "<div>\n",
       "<style scoped>\n",
       "    .dataframe tbody tr th:only-of-type {\n",
       "        vertical-align: middle;\n",
       "    }\n",
       "\n",
       "    .dataframe tbody tr th {\n",
       "        vertical-align: top;\n",
       "    }\n",
       "\n",
       "    .dataframe thead th {\n",
       "        text-align: right;\n",
       "    }\n",
       "</style>\n",
       "<table border=\"1\" class=\"dataframe\">\n",
       "  <thead>\n",
       "    <tr style=\"text-align: right;\">\n",
       "      <th></th>\n",
       "      <th>train</th>\n",
       "      <th>test</th>\n",
       "    </tr>\n",
       "  </thead>\n",
       "  <tbody>\n",
       "    <tr>\n",
       "      <th>negative</th>\n",
       "      <td>2592</td>\n",
       "      <td>865</td>\n",
       "    </tr>\n",
       "    <tr>\n",
       "      <th>positive</th>\n",
       "      <td>2592</td>\n",
       "      <td>865</td>\n",
       "    </tr>\n",
       "  </tbody>\n",
       "</table>\n",
       "</div>"
      ],
      "text/plain": [
       "          train  test\n",
       "negative   2592   865\n",
       "positive   2592   865"
      ]
     },
     "execution_count": 5,
     "metadata": {},
     "output_type": "execute_result"
    }
   ],
   "source": [
    "info(DATASET)"
   ]
  },
  {
   "cell_type": "markdown",
   "id": "f4ce24e0",
   "metadata": {
    "papermill": {
     "duration": 0.008837,
     "end_time": "2022-06-29T13:36:54.488778",
     "exception": false,
     "start_time": "2022-06-29T13:36:54.479941",
     "status": "completed"
    },
    "tags": []
   },
   "source": [
    "## TF Dataset object"
   ]
  },
  {
   "cell_type": "code",
   "execution_count": 6,
   "id": "409118c7",
   "metadata": {
    "execution": {
     "iopub.execute_input": "2022-06-29T13:36:54.511686Z",
     "iopub.status.busy": "2022-06-29T13:36:54.511407Z",
     "iopub.status.idle": "2022-06-29T13:36:54.649518Z",
     "shell.execute_reply": "2022-06-29T13:36:54.648602Z"
    },
    "papermill": {
     "duration": 0.151592,
     "end_time": "2022-06-29T13:36:54.649719",
     "exception": false,
     "start_time": "2022-06-29T13:36:54.498127",
     "status": "completed"
    },
    "tags": []
   },
   "outputs": [
    {
     "name": "stdout",
     "output_type": "stream",
     "text": [
      "Found 5184 files belonging to 2 classes.\n"
     ]
    }
   ],
   "source": [
    "SEQ_PATH = Path.home() / '.genomic_benchmarks' / DATASET\n",
    "CLASSES = [x.stem for x in (SEQ_PATH/'train').iterdir() if x.is_dir()]\n",
    "NUM_CLASSES = len(CLASSES)\n",
    "\n",
    "train_dset = tf.keras.preprocessing.text_dataset_from_directory(\n",
    "    SEQ_PATH / 'train',\n",
    "    batch_size=BATCH_SIZE,\n",
    "    class_names=CLASSES)"
   ]
  },
  {
   "cell_type": "code",
   "execution_count": 7,
   "id": "fa20a786",
   "metadata": {
    "execution": {
     "iopub.execute_input": "2022-06-29T13:36:54.678711Z",
     "iopub.status.busy": "2022-06-29T13:36:54.677929Z",
     "iopub.status.idle": "2022-06-29T13:36:54.681824Z",
     "shell.execute_reply": "2022-06-29T13:36:54.681167Z"
    },
    "papermill": {
     "duration": 0.017135,
     "end_time": "2022-06-29T13:36:54.682094",
     "exception": false,
     "start_time": "2022-06-29T13:36:54.664959",
     "status": "completed"
    },
    "tags": []
   },
   "outputs": [],
   "source": [
    "if NUM_CLASSES > 2:\n",
    "    train_dset = train_dset.map(lambda x, y: (x, tf.one_hot(y, depth=NUM_CLASSES)))"
   ]
  },
  {
   "cell_type": "markdown",
   "id": "ef9706c8",
   "metadata": {
    "papermill": {
     "duration": 0.009203,
     "end_time": "2022-06-29T13:36:54.704211",
     "exception": false,
     "start_time": "2022-06-29T13:36:54.695008",
     "status": "completed"
    },
    "tags": []
   },
   "source": [
    "## Text vectorization"
   ]
  },
  {
   "cell_type": "code",
   "execution_count": 8,
   "id": "60ac5547",
   "metadata": {
    "execution": {
     "iopub.execute_input": "2022-06-29T13:36:54.729187Z",
     "iopub.status.busy": "2022-06-29T13:36:54.728757Z",
     "iopub.status.idle": "2022-06-29T13:36:56.566849Z",
     "shell.execute_reply": "2022-06-29T13:36:56.566174Z"
    },
    "papermill": {
     "duration": 1.853398,
     "end_time": "2022-06-29T13:36:56.567078",
     "exception": false,
     "start_time": "2022-06-29T13:36:54.713680",
     "status": "completed"
    },
    "tags": []
   },
   "outputs": [
    {
     "data": {
      "text/plain": [
       "['', '[UNK]', 't', 'a', 'c', 'g']"
      ]
     },
     "execution_count": 8,
     "metadata": {},
     "output_type": "execute_result"
    }
   ],
   "source": [
    "vectorize_layer.adapt(train_dset.map(lambda x, y: x))\n",
    "VOCAB_SIZE = len(vectorize_layer.get_vocabulary())\n",
    "vectorize_layer.get_vocabulary()"
   ]
  },
  {
   "cell_type": "code",
   "execution_count": 9,
   "id": "6a5c8a30",
   "metadata": {
    "execution": {
     "iopub.execute_input": "2022-06-29T13:36:56.600702Z",
     "iopub.status.busy": "2022-06-29T13:36:56.596720Z",
     "iopub.status.idle": "2022-06-29T13:36:56.660820Z",
     "shell.execute_reply": "2022-06-29T13:36:56.659927Z"
    },
    "papermill": {
     "duration": 0.076849,
     "end_time": "2022-06-29T13:36:56.661001",
     "exception": false,
     "start_time": "2022-06-29T13:36:56.584152",
     "status": "completed"
    },
    "tags": []
   },
   "outputs": [],
   "source": [
    "def vectorize_text(text, label):\n",
    "  text = tf.expand_dims(text, -1)\n",
    "  return vectorize_layer(text)-2, label\n",
    "\n",
    "train_ds = train_dset.map(vectorize_text)"
   ]
  },
  {
   "cell_type": "markdown",
   "id": "2216d2dd",
   "metadata": {
    "papermill": {
     "duration": 0.009678,
     "end_time": "2022-06-29T13:36:56.691679",
     "exception": false,
     "start_time": "2022-06-29T13:36:56.682001",
     "status": "completed"
    },
    "tags": []
   },
   "source": [
    "## Model training"
   ]
  },
  {
   "cell_type": "code",
   "execution_count": 10,
   "id": "2fbf777e",
   "metadata": {
    "execution": {
     "iopub.execute_input": "2022-06-29T13:36:56.722771Z",
     "iopub.status.busy": "2022-06-29T13:36:56.721994Z",
     "iopub.status.idle": "2022-06-29T13:36:56.758256Z",
     "shell.execute_reply": "2022-06-29T13:36:56.757234Z"
    },
    "papermill": {
     "duration": 0.056768,
     "end_time": "2022-06-29T13:36:56.758419",
     "exception": false,
     "start_time": "2022-06-29T13:36:56.701651",
     "status": "completed"
    },
    "tags": []
   },
   "outputs": [],
   "source": [
    "model = get_model(NUM_CLASSES, VOCAB_SIZE)"
   ]
  },
  {
   "cell_type": "code",
   "execution_count": 11,
   "id": "57ae2ebd",
   "metadata": {
    "execution": {
     "iopub.execute_input": "2022-06-29T13:36:56.790053Z",
     "iopub.status.busy": "2022-06-29T13:36:56.789757Z",
     "iopub.status.idle": "2022-06-29T13:38:56.599894Z",
     "shell.execute_reply": "2022-06-29T13:38:56.600318Z"
    },
    "papermill": {
     "duration": 119.825671,
     "end_time": "2022-06-29T13:38:56.600472",
     "exception": false,
     "start_time": "2022-06-29T13:36:56.774801",
     "status": "completed"
    },
    "tags": []
   },
   "outputs": [
    {
     "name": "stdout",
     "output_type": "stream",
     "text": [
      "Epoch 1/10\n",
      "81/81 [==============================] - 14s 155ms/step - loss: 0.7013 - binary_accuracy: 0.5446 - f1_score: 0.0211\n",
      "Epoch 2/10\n",
      "81/81 [==============================] - 13s 161ms/step - loss: 0.6690 - binary_accuracy: 0.6391 - f1_score: 0.0603\n",
      "Epoch 3/10\n",
      "81/81 [==============================] - 12s 149ms/step - loss: 0.6464 - binary_accuracy: 0.6649 - f1_score: 0.1292\n",
      "Epoch 4/10\n",
      "81/81 [==============================] - 13s 159ms/step - loss: 0.6115 - binary_accuracy: 0.6667 - f1_score: 0.3482\n",
      "Epoch 5/10\n",
      "81/81 [==============================] - 12s 147ms/step - loss: 0.5905 - binary_accuracy: 0.6844 - f1_score: 0.4537\n",
      "Epoch 6/10\n",
      "81/81 [==============================] - 13s 156ms/step - loss: 0.5773 - binary_accuracy: 0.7049 - f1_score: 0.4870\n",
      "Epoch 7/10\n",
      "81/81 [==============================] - 13s 156ms/step - loss: 0.5677 - binary_accuracy: 0.7024 - f1_score: 0.5455\n",
      "Epoch 8/10\n",
      "81/81 [==============================] - 13s 156ms/step - loss: 0.5586 - binary_accuracy: 0.7051 - f1_score: 0.5509\n",
      "Epoch 9/10\n",
      "81/81 [==============================] - 13s 159ms/step - loss: 0.5458 - binary_accuracy: 0.7220 - f1_score: 0.5985\n",
      "Epoch 10/10\n",
      "81/81 [==============================] - 13s 158ms/step - loss: 0.5326 - binary_accuracy: 0.7311 - f1_score: 0.6302\n"
     ]
    }
   ],
   "source": [
    "history = model.fit(\n",
    "    train_ds,\n",
    "    epochs=EPOCHS)"
   ]
  },
  {
   "cell_type": "markdown",
   "id": "5bae33fa",
   "metadata": {
    "papermill": {
     "duration": 0.171216,
     "end_time": "2022-06-29T13:38:56.941419",
     "exception": false,
     "start_time": "2022-06-29T13:38:56.770203",
     "status": "completed"
    },
    "tags": []
   },
   "source": [
    "## Evaluation on the test set"
   ]
  },
  {
   "cell_type": "code",
   "execution_count": 12,
   "id": "38e009a1",
   "metadata": {
    "execution": {
     "iopub.execute_input": "2022-06-29T13:38:57.298041Z",
     "iopub.status.busy": "2022-06-29T13:38:57.297340Z",
     "iopub.status.idle": "2022-06-29T13:38:57.388947Z",
     "shell.execute_reply": "2022-06-29T13:38:57.388077Z"
    },
    "papermill": {
     "duration": 0.271875,
     "end_time": "2022-06-29T13:38:57.389098",
     "exception": false,
     "start_time": "2022-06-29T13:38:57.117223",
     "status": "completed"
    },
    "tags": []
   },
   "outputs": [
    {
     "name": "stdout",
     "output_type": "stream",
     "text": [
      "Found 1730 files belonging to 2 classes.\n"
     ]
    }
   ],
   "source": [
    "test_dset = tf.keras.preprocessing.text_dataset_from_directory(\n",
    "    SEQ_PATH / 'test',\n",
    "    batch_size=BATCH_SIZE,\n",
    "    class_names=CLASSES)\n",
    "\n",
    "if NUM_CLASSES > 2:\n",
    "    test_dset = test_dset.map(lambda x, y: (x, tf.one_hot(y, depth=NUM_CLASSES)))\n",
    "test_ds =  test_dset.map(vectorize_text)"
   ]
  },
  {
   "cell_type": "code",
   "execution_count": 13,
   "id": "4543bcf7",
   "metadata": {
    "execution": {
     "iopub.execute_input": "2022-06-29T13:38:57.779555Z",
     "iopub.status.busy": "2022-06-29T13:38:57.774169Z",
     "iopub.status.idle": "2022-06-29T13:38:59.446192Z",
     "shell.execute_reply": "2022-06-29T13:38:59.445613Z"
    },
    "papermill": {
     "duration": 1.866012,
     "end_time": "2022-06-29T13:38:59.446339",
     "exception": false,
     "start_time": "2022-06-29T13:38:57.580327",
     "status": "completed"
    },
    "tags": []
   },
   "outputs": [
    {
     "name": "stdout",
     "output_type": "stream",
     "text": [
      "28/28 [==============================] - 1s 40ms/step - loss: 0.9590 - binary_accuracy: 0.5237 - f1_score: 0.6909\n"
     ]
    },
    {
     "data": {
      "text/plain": [
       "[0.9589601159095764, 0.5236994028091431, 0.6909236311912537]"
      ]
     },
     "execution_count": 13,
     "metadata": {},
     "output_type": "execute_result"
    }
   ],
   "source": [
    "model.evaluate(test_ds)"
   ]
  }
 ],
 "metadata": {
  "celltoolbar": "Tags",
  "kernelspec": {
   "display_name": "Python 3.8.10 ('venv': venv)",
   "language": "python",
   "name": "python3"
  },
  "language_info": {
   "codemirror_mode": {
    "name": "ipython",
    "version": 3
   },
   "file_extension": ".py",
   "mimetype": "text/x-python",
   "name": "python",
   "nbconvert_exporter": "python",
   "pygments_lexer": "ipython3",
   "version": "3.8.10"
  },
  "papermill": {
   "default_parameters": {},
   "duration": 134.400076,
   "end_time": "2022-06-29T13:39:02.898682",
   "environment_variables": {},
   "exception": null,
   "input_path": "utils/tf_cnn_classifier.ipynb",
   "output_path": "tf_cnn_experiments/drosophila_enhancers_stark.ipynb",
   "parameters": {
    "DATASET": "drosophila_enhancers_stark"
   },
   "start_time": "2022-06-29T13:36:48.498606",
   "version": "2.3.4"
  },
  "vscode": {
   "interpreter": {
    "hash": "5fb5174addf958ec7b3e9e5d35a565dfd5bab1ae69383cd521f52756e68c7fc3"
   }
  }
 },
 "nbformat": 4,
 "nbformat_minor": 5
}
