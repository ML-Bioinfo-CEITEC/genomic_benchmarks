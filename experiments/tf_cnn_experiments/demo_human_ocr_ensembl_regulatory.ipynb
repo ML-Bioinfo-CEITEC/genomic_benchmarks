{
 "cells": [
  {
   "cell_type": "markdown",
   "id": "a0f8e486",
   "metadata": {
    "papermill": {
     "duration": 0.014178,
     "end_time": "2022-02-14T10:44:59.663085",
     "exception": false,
     "start_time": "2022-02-14T10:44:59.648907",
     "status": "completed"
    },
    "tags": []
   },
   "source": [
    "# TF CNN Classifier\n",
    "\n",
    "To run this notebook on an another benchmark, use\n",
    "\n",
    "```\n",
    "papermill utils/tf_cnn_classifier.ipynb tf_cnn_experiments/[DATASET NAME].ipynb -p DATASET [DATASET NAME]\n",
    "```"
   ]
  },
  {
   "cell_type": "code",
   "execution_count": 1,
   "id": "afbb9431",
   "metadata": {
    "execution": {
     "iopub.execute_input": "2022-02-14T10:44:59.687121Z",
     "iopub.status.busy": "2022-02-14T10:44:59.686488Z",
     "iopub.status.idle": "2022-02-14T10:44:59.688963Z",
     "shell.execute_reply": "2022-02-14T10:44:59.689446Z"
    },
    "papermill": {
     "duration": 0.018784,
     "end_time": "2022-02-14T10:44:59.689668",
     "exception": false,
     "start_time": "2022-02-14T10:44:59.670884",
     "status": "completed"
    },
    "tags": [
     "parameters"
    ]
   },
   "outputs": [],
   "source": [
    "DATASET = 'demo_coding_vs_intergenomic_seqs'\n",
    "VERSION = 0\n",
    "BATCH_SIZE = 64\n",
    "EPOCHS = 10"
   ]
  },
  {
   "cell_type": "code",
   "execution_count": 2,
   "id": "13a56b32",
   "metadata": {
    "execution": {
     "iopub.execute_input": "2022-02-14T10:44:59.710426Z",
     "iopub.status.busy": "2022-02-14T10:44:59.710152Z",
     "iopub.status.idle": "2022-02-14T10:44:59.712513Z",
     "shell.execute_reply": "2022-02-14T10:44:59.712003Z"
    },
    "papermill": {
     "duration": 0.01266,
     "end_time": "2022-02-14T10:44:59.712634",
     "exception": false,
     "start_time": "2022-02-14T10:44:59.699974",
     "status": "completed"
    },
    "tags": [
     "injected-parameters"
    ]
   },
   "outputs": [],
   "source": [
    "# Parameters\n",
    "DATASET = \"demo_human_ocr_ensembl_regulatory\"\n"
   ]
  },
  {
   "cell_type": "code",
   "execution_count": 3,
   "id": "982d14ab",
   "metadata": {
    "execution": {
     "iopub.execute_input": "2022-02-14T10:44:59.739099Z",
     "iopub.status.busy": "2022-02-14T10:44:59.738490Z",
     "iopub.status.idle": "2022-02-14T10:44:59.741853Z",
     "shell.execute_reply": "2022-02-14T10:44:59.741289Z"
    },
    "papermill": {
     "duration": 0.013632,
     "end_time": "2022-02-14T10:44:59.741982",
     "exception": false,
     "start_time": "2022-02-14T10:44:59.728350",
     "status": "completed"
    },
    "tags": []
   },
   "outputs": [
    {
     "name": "stdout",
     "output_type": "stream",
     "text": [
      "demo_human_ocr_ensembl_regulatory 0 64 10\n"
     ]
    }
   ],
   "source": [
    "print(DATASET, VERSION, BATCH_SIZE, EPOCHS)"
   ]
  },
  {
   "cell_type": "markdown",
   "id": "3a06a600",
   "metadata": {
    "papermill": {
     "duration": 0.007792,
     "end_time": "2022-02-14T10:44:59.759992",
     "exception": false,
     "start_time": "2022-02-14T10:44:59.752200",
     "status": "completed"
    },
    "tags": []
   },
   "source": [
    "# Data download"
   ]
  },
  {
   "cell_type": "code",
   "execution_count": 4,
   "id": "1a57e0d2",
   "metadata": {
    "execution": {
     "iopub.execute_input": "2022-02-14T10:44:59.782467Z",
     "iopub.status.busy": "2022-02-14T10:44:59.782041Z",
     "iopub.status.idle": "2022-02-14T10:45:01.269963Z",
     "shell.execute_reply": "2022-02-14T10:45:01.270432Z"
    },
    "papermill": {
     "duration": 1.502744,
     "end_time": "2022-02-14T10:45:01.270572",
     "exception": false,
     "start_time": "2022-02-14T10:44:59.767828",
     "status": "completed"
    },
    "tags": []
   },
   "outputs": [
    {
     "name": "stderr",
     "output_type": "stream",
     "text": [
      "2022-02-14 11:45:36.960963: W tensorflow/stream_executor/platform/default/dso_loader.cc:64] Could not load dynamic library 'libcudart.so.11.0'; dlerror: libcudart.so.11.0: cannot open shared object file: No such file or directory\n",
      "2022-02-14 11:45:36.961011: I tensorflow/stream_executor/cuda/cudart_stub.cc:29] Ignore above cudart dlerror if you do not have a GPU set up on your machine.\n",
      "2022-02-14 11:45:38.567021: W tensorflow/stream_executor/platform/default/dso_loader.cc:64] Could not load dynamic library 'libcuda.so.1'; dlerror: libcuda.so.1: cannot open shared object file: No such file or directory\n",
      "2022-02-14 11:45:38.567058: W tensorflow/stream_executor/cuda/cuda_driver.cc:269] failed call to cuInit: UNKNOWN ERROR (303)\n",
      "2022-02-14 11:45:38.567079: I tensorflow/stream_executor/cuda/cuda_diagnostics.cc:156] kernel driver does not appear to be running on this host (katarina-lenovo): /proc/driver/nvidia/version does not exist\n",
      "2022-02-14 11:45:38.567337: I tensorflow/core/platform/cpu_feature_guard.cc:151] This TensorFlow binary is optimized with oneAPI Deep Neural Network Library (oneDNN) to use the following CPU instructions in performance-critical operations:  AVX2 FMA\n",
      "To enable them in other operations, rebuild TensorFlow with the appropriate compiler flags.\n"
     ]
    }
   ],
   "source": [
    "from pathlib import Path\n",
    "import tensorflow as tf\n",
    "\n",
    "import numpy as np\n",
    "from genomic_benchmarks.loc2seq import download_dataset\n",
    "from genomic_benchmarks.data_check import is_downloaded, info\n",
    "from genomic_benchmarks.models.tf import vectorize_layer, binary_f1_score\n",
    "from genomic_benchmarks.models.tf import basic_cnn_model_v0 as model\n",
    "\n",
    "if not is_downloaded(DATASET):\n",
    "    download_dataset(DATASET)"
   ]
  },
  {
   "cell_type": "code",
   "execution_count": 5,
   "id": "ef313c21",
   "metadata": {
    "execution": {
     "iopub.execute_input": "2022-02-14T10:45:01.321083Z",
     "iopub.status.busy": "2022-02-14T10:45:01.320436Z",
     "iopub.status.idle": "2022-02-14T10:45:02.230653Z",
     "shell.execute_reply": "2022-02-14T10:45:02.229171Z"
    },
    "papermill": {
     "duration": 0.92294,
     "end_time": "2022-02-14T10:45:02.230964",
     "exception": true,
     "start_time": "2022-02-14T10:45:01.308024",
     "status": "failed"
    },
    "tags": []
   },
   "outputs": [],
   "source": [
    "info(DATASET)"
   ]
  },
  {
   "cell_type": "markdown",
   "id": "f4ce24e0",
   "metadata": {
    "papermill": {
     "duration": null,
     "end_time": null,
     "exception": null,
     "start_time": null,
     "status": "pending"
    },
    "tags": []
   },
   "source": [
    "## TF Dataset object"
   ]
  },
  {
   "cell_type": "code",
   "execution_count": 6,
   "id": "409118c7",
   "metadata": {
    "papermill": {
     "duration": null,
     "end_time": null,
     "exception": null,
     "start_time": null,
     "status": "pending"
    },
    "tags": []
   },
   "outputs": [
    {
     "name": "stdout",
     "output_type": "stream",
     "text": [
      "Found 139804 files belonging to 2 classes.\n"
     ]
    }
   ],
   "source": [
    "SEQ_PATH = Path.home() / '.genomic_benchmarks' / DATASET\n",
    "CLASSES = [x.stem for x in (SEQ_PATH/'train').iterdir() if x.is_dir()]\n",
    "\n",
    "train_dset = tf.keras.preprocessing.text_dataset_from_directory(\n",
    "    SEQ_PATH / 'train',\n",
    "    batch_size=BATCH_SIZE,\n",
    "    class_names=CLASSES)"
   ]
  },
  {
   "cell_type": "markdown",
   "id": "ef9706c8",
   "metadata": {
    "papermill": {
     "duration": null,
     "end_time": null,
     "exception": null,
     "start_time": null,
     "status": "pending"
    },
    "tags": []
   },
   "source": [
    "## Text vectorization"
   ]
  },
  {
   "cell_type": "code",
   "execution_count": 7,
   "id": "60ac5547",
   "metadata": {
    "papermill": {
     "duration": null,
     "end_time": null,
     "exception": null,
     "start_time": null,
     "status": "pending"
    },
    "tags": []
   },
   "outputs": [
    {
     "data": {
      "text/plain": [
       "['', '[UNK]', 't', 'a', 'g', 'c', 'n']"
      ]
     },
     "execution_count": 7,
     "metadata": {},
     "output_type": "execute_result"
    }
   ],
   "source": [
    "vectorize_layer.adapt(train_dset.map(lambda x, y: x))\n",
    "# vectorize_layer.set_vocabulary(vocabulary=np.asarray(['a', 'c', 't', 'g', 'n']))\n",
    "vectorize_layer.get_vocabulary()"
   ]
  },
  {
   "cell_type": "code",
   "execution_count": 8,
   "id": "6a5c8a30",
   "metadata": {
    "papermill": {
     "duration": null,
     "end_time": null,
     "exception": null,
     "start_time": null,
     "status": "pending"
    },
    "tags": []
   },
   "outputs": [],
   "source": [
    "def vectorize_text(text, label):\n",
    "  text = tf.expand_dims(text, -1)\n",
    "  return vectorize_layer(text)-2, label\n",
    "\n",
    "train_ds = train_dset.map(vectorize_text)"
   ]
  },
  {
   "cell_type": "markdown",
   "id": "2216d2dd",
   "metadata": {
    "papermill": {
     "duration": null,
     "end_time": null,
     "exception": null,
     "start_time": null,
     "status": "pending"
    },
    "tags": []
   },
   "source": [
    "## Model training"
   ]
  },
  {
   "cell_type": "code",
   "execution_count": 9,
   "id": "2fbf777e",
   "metadata": {
    "papermill": {
     "duration": null,
     "end_time": null,
     "exception": null,
     "start_time": null,
     "status": "pending"
    },
    "tags": []
   },
   "outputs": [],
   "source": [
    "model.compile(loss=tf.keras.losses.BinaryCrossentropy(from_logits=True),\n",
    "              optimizer='adam',\n",
    "              metrics=[tf.metrics.BinaryAccuracy(threshold=0.0), binary_f1_score])"
   ]
  },
  {
   "cell_type": "code",
   "execution_count": 10,
   "id": "57ae2ebd",
   "metadata": {
    "papermill": {
     "duration": null,
     "end_time": null,
     "exception": null,
     "start_time": null,
     "status": "pending"
    },
    "tags": []
   },
   "outputs": [
    {
     "name": "stdout",
     "output_type": "stream",
     "text": [
      "Epoch 1/10\n",
      "2185/2185 [==============================] - 77s 34ms/step - loss: 0.6270 - binary_accuracy: 0.6497 - f1_score: 0.4504\n",
      "Epoch 2/10\n",
      "2185/2185 [==============================] - 75s 34ms/step - loss: 0.5871 - binary_accuracy: 0.6901 - f1_score: 0.5716\n",
      "Epoch 3/10\n",
      "2185/2185 [==============================] - 75s 34ms/step - loss: 0.5669 - binary_accuracy: 0.7065 - f1_score: 0.6122\n",
      "Epoch 4/10\n",
      "2185/2185 [==============================] - 75s 34ms/step - loss: 0.5567 - binary_accuracy: 0.7174 - f1_score: 0.6305\n",
      "Epoch 5/10\n",
      "2185/2185 [==============================] - 74s 34ms/step - loss: 0.5490 - binary_accuracy: 0.7241 - f1_score: 0.6418\n",
      "Epoch 6/10\n",
      "2185/2185 [==============================] - 75s 34ms/step - loss: 0.5435 - binary_accuracy: 0.7281 - f1_score: 0.6498\n",
      "Epoch 7/10\n",
      "2185/2185 [==============================] - 75s 34ms/step - loss: 0.5385 - binary_accuracy: 0.7314 - f1_score: 0.6554\n",
      "Epoch 8/10\n",
      "2185/2185 [==============================] - 75s 35ms/step - loss: 0.5348 - binary_accuracy: 0.7339 - f1_score: 0.6603\n",
      "Epoch 9/10\n",
      "2185/2185 [==============================] - 76s 35ms/step - loss: 0.5325 - binary_accuracy: 0.7344 - f1_score: 0.6651\n",
      "Epoch 10/10\n",
      "2185/2185 [==============================] - 75s 34ms/step - loss: 0.5305 - binary_accuracy: 0.7375 - f1_score: 0.6664\n"
     ]
    }
   ],
   "source": [
    "history = model.fit(\n",
    "    train_ds,\n",
    "    epochs=EPOCHS)"
   ]
  },
  {
   "cell_type": "markdown",
   "id": "5bae33fa",
   "metadata": {
    "papermill": {
     "duration": null,
     "end_time": null,
     "exception": null,
     "start_time": null,
     "status": "pending"
    },
    "tags": []
   },
   "source": [
    "## Evaluation on the test set"
   ]
  },
  {
   "cell_type": "code",
   "execution_count": 11,
   "id": "38e009a1",
   "metadata": {
    "papermill": {
     "duration": null,
     "end_time": null,
     "exception": null,
     "start_time": null,
     "status": "pending"
    },
    "tags": []
   },
   "outputs": [
    {
     "name": "stdout",
     "output_type": "stream",
     "text": [
      "Found 34952 files belonging to 2 classes.\n"
     ]
    }
   ],
   "source": [
    "test_dset = tf.keras.preprocessing.text_dataset_from_directory(\n",
    "    SEQ_PATH / 'test',\n",
    "    batch_size=BATCH_SIZE,\n",
    "    class_names=CLASSES)\n",
    "\n",
    "test_ds =  test_dset.map(vectorize_text)"
   ]
  },
  {
   "cell_type": "code",
   "execution_count": 12,
   "id": "4543bcf7",
   "metadata": {
    "papermill": {
     "duration": null,
     "end_time": null,
     "exception": null,
     "start_time": null,
     "status": "pending"
    },
    "tags": []
   },
   "outputs": [
    {
     "name": "stdout",
     "output_type": "stream",
     "text": [
      "547/547 [==============================] - 7s 13ms/step - loss: 0.5403 - binary_accuracy: 0.7309 - f1_score: 0.6825\n"
     ]
    },
    {
     "data": {
      "text/plain": [
       "[0.5403114557266235, 0.7309166789054871, 0.6824724078178406]"
      ]
     },
     "execution_count": 12,
     "metadata": {},
     "output_type": "execute_result"
    }
   ],
   "source": [
    "model.evaluate(test_ds)"
   ]
  },
  {
   "cell_type": "code",
   "execution_count": null,
   "id": "7d6b771a",
   "metadata": {
    "papermill": {
     "duration": null,
     "end_time": null,
     "exception": null,
     "start_time": null,
     "status": "pending"
    },
    "tags": []
   },
   "outputs": [],
   "source": []
  }
 ],
 "metadata": {
  "celltoolbar": "Tags",
  "kernelspec": {
   "display_name": "Python 3 (ipykernel)",
   "language": "python",
   "name": "python3"
  },
  "language_info": {
   "codemirror_mode": {
    "name": "ipython",
    "version": 3
   },
   "file_extension": ".py",
   "mimetype": "text/x-python",
   "name": "python",
   "nbconvert_exporter": "python",
   "pygments_lexer": "ipython3",
   "version": "3.8.10"
  },
  "papermill": {
   "default_parameters": {},
   "duration": 7.307057,
   "end_time": "2022-02-14T10:45:05.844113",
   "environment_variables": {},
   "exception": true,
   "input_path": "utils/tf_cnn_classifier.ipynb",
   "output_path": "tf_cnn_experiments/human_ocr_ensembl_regulatory.ipynb",
   "parameters": {
    "DATASET": "human_ocr_ensembl_regulatory"
   },
   "start_time": "2022-02-14T10:44:58.537056",
   "version": "2.3.4"
  }
 },
 "nbformat": 4,
 "nbformat_minor": 5
}
