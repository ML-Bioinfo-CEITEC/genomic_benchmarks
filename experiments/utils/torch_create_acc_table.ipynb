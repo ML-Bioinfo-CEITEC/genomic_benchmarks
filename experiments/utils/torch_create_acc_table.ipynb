{
 "cells": [
  {
   "cell_type": "code",
   "execution_count": 1,
   "id": "c5b13615",
   "metadata": {},
   "outputs": [],
   "source": [
    "import json\n",
    "from pathlib import Path\n",
    "import pandas as pd\n",
    "import re"
   ]
  },
  {
   "cell_type": "code",
   "execution_count": 2,
   "id": "3029335a",
   "metadata": {},
   "outputs": [
    {
     "data": {
      "text/plain": [
       "[('demo_mouse_enhancers', 77.3),\n",
       " ('demo_human_or_worm', 92.6),\n",
       " ('demo_coding_vs_intergenomic_seqs', 87.3),\n",
       " ('human_nontata_promoters', 81.9),\n",
       " ('human_enhancers_cohn', 67.1),\n",
       " ('human_enhancers_ensembl', 80.4)]"
      ]
     },
     "execution_count": 2,
     "metadata": {},
     "output_type": "execute_result"
    }
   ],
   "source": [
    "pattern = re.compile(\"Accuracy: (\\d*[.]\\d*)%,.*\")\n",
    "\n",
    "metrics = []\n",
    "\n",
    "for nb_file in Path(\"../torch_cnn_experiments/\").glob(\"*.ipynb\"):\n",
    "    with open(nb_file, \"r\") as fr:\n",
    "        nb_json = json.load(fr)\n",
    "        acc = float(\n",
    "            pattern.search(\n",
    "                nb_json['cells'][-3]['outputs'][-1]['text'][-2]\n",
    "            ).group(1)\n",
    "        )\n",
    "\n",
    "        metrics.append((str(nb_file.stem), round(acc,1)))\n",
    "\n",
    "metrics"
   ]
  },
  {
   "cell_type": "code",
   "execution_count": 3,
   "id": "dac3ec20",
   "metadata": {},
   "outputs": [
    {
     "data": {
      "text/html": [
       "<div>\n",
       "<style scoped>\n",
       "    .dataframe tbody tr th:only-of-type {\n",
       "        vertical-align: middle;\n",
       "    }\n",
       "\n",
       "    .dataframe tbody tr th {\n",
       "        vertical-align: top;\n",
       "    }\n",
       "\n",
       "    .dataframe thead th {\n",
       "        text-align: right;\n",
       "    }\n",
       "</style>\n",
       "<table border=\"1\" class=\"dataframe\">\n",
       "  <thead>\n",
       "    <tr style=\"text-align: right;\">\n",
       "      <th></th>\n",
       "      <th>Dataset</th>\n",
       "      <th>Accuracy</th>\n",
       "    </tr>\n",
       "  </thead>\n",
       "  <tbody>\n",
       "    <tr>\n",
       "      <th>2</th>\n",
       "      <td>demo_coding_vs_intergenomic_seqs</td>\n",
       "      <td>87.3</td>\n",
       "    </tr>\n",
       "    <tr>\n",
       "      <th>1</th>\n",
       "      <td>demo_human_or_worm</td>\n",
       "      <td>92.6</td>\n",
       "    </tr>\n",
       "    <tr>\n",
       "      <th>0</th>\n",
       "      <td>demo_mouse_enhancers</td>\n",
       "      <td>77.3</td>\n",
       "    </tr>\n",
       "    <tr>\n",
       "      <th>4</th>\n",
       "      <td>human_enhancers_cohn</td>\n",
       "      <td>67.1</td>\n",
       "    </tr>\n",
       "    <tr>\n",
       "      <th>5</th>\n",
       "      <td>human_enhancers_ensembl</td>\n",
       "      <td>80.4</td>\n",
       "    </tr>\n",
       "    <tr>\n",
       "      <th>3</th>\n",
       "      <td>human_nontata_promoters</td>\n",
       "      <td>81.9</td>\n",
       "    </tr>\n",
       "  </tbody>\n",
       "</table>\n",
       "</div>"
      ],
      "text/plain": [
       "                            Dataset  Accuracy\n",
       "2  demo_coding_vs_intergenomic_seqs      87.3\n",
       "1                demo_human_or_worm      92.6\n",
       "0              demo_mouse_enhancers      77.3\n",
       "4              human_enhancers_cohn      67.1\n",
       "5           human_enhancers_ensembl      80.4\n",
       "3           human_nontata_promoters      81.9"
      ]
     },
     "execution_count": 3,
     "metadata": {},
     "output_type": "execute_result"
    }
   ],
   "source": [
    "tab = pd.DataFrame.from_records(metrics, columns = [\"Dataset\", \"Accuracy\"])\n",
    "tab = tab.sort_values(['Dataset'])\n",
    "tab"
   ]
  },
  {
   "cell_type": "code",
   "execution_count": 4,
   "id": "7776aacc",
   "metadata": {},
   "outputs": [
    {
     "name": "stdout",
     "output_type": "stream",
     "text": [
      "| Dataset                          |   Accuracy |\n",
      "|:---------------------------------|-----------:|\n",
      "| demo_coding_vs_intergenomic_seqs |       87.3 |\n",
      "| demo_human_or_worm               |       92.6 |\n",
      "| demo_mouse_enhancers             |       77.3 |\n",
      "| human_enhancers_cohn             |       67.1 |\n",
      "| human_enhancers_ensembl          |       80.4 |\n",
      "| human_nontata_promoters          |       81.9 |\n"
     ]
    }
   ],
   "source": [
    "print(tab.to_markdown(index=False, ))"
   ]
  },
  {
   "cell_type": "code",
   "execution_count": null,
   "id": "55d499ef",
   "metadata": {},
   "outputs": [],
   "source": []
  }
 ],
 "metadata": {
  "environment": {
   "name": "pytorch-gpu.1-9.m75",
   "type": "gcloud",
   "uri": "gcr.io/deeplearning-platform-release/pytorch-gpu.1-9:m75"
  },
  "kernelspec": {
   "display_name": "conda-env-bench_env-py",
   "language": "python",
   "name": "bench_env"
  },
  "language_info": {
   "codemirror_mode": {
    "name": "ipython",
    "version": 3
   },
   "file_extension": ".py",
   "mimetype": "text/x-python",
   "name": "python",
   "nbconvert_exporter": "python",
   "pygments_lexer": "ipython3",
   "version": "3.8.10"
  }
 },
 "nbformat": 4,
 "nbformat_minor": 5
}
