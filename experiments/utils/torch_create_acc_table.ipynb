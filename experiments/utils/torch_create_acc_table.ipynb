{
 "cells": [
  {
   "cell_type": "code",
   "execution_count": 1,
   "id": "52065753",
   "metadata": {},
   "outputs": [],
   "source": [
    "import json\n",
    "from pathlib import Path\n",
    "import pandas as pd\n",
    "import re"
   ]
  },
  {
   "cell_type": "code",
   "execution_count": 44,
   "id": "4dc86126",
   "metadata": {},
   "outputs": [
    {
     "name": "stdout",
     "output_type": "stream",
     "text": [
      " Accuracy: 0.764463, F1 score: 0.715885, Avg loss: 0.595003 \n",
      "\n",
      " Accuracy: 0.926880, F1 score: 0.925092, Avg loss: 0.536891 \n",
      "\n",
      " Accuracy: 0.865800, F1 score: 0.855468, Avg loss: 0.561725 \n",
      "\n",
      " Accuracy: 0.830197, F1 score: 0.812854, Avg loss: 0.603643 \n",
      "\n",
      " Accuracy: 0.694876, F1 score: 0.654250, Avg loss: 0.639993 \n",
      "\n",
      " Accuracy: 0.814853, F1 score: 0.805237, Avg loss: 0.589856 \n",
      "\n"
     ]
    },
    {
     "data": {
      "text/plain": [
       "[('demo_mouse_enhancers', 76.4, 71.6),\n",
       " ('demo_human_or_worm', 92.7, 92.5),\n",
       " ('demo_coding_vs_intergenomic_seqs', 86.6, 85.5),\n",
       " ('human_nontata_promoters', 83.0, 81.3),\n",
       " ('human_enhancers_cohn', 69.5, 65.4),\n",
       " ('human_enhancers_ensembl', 81.5, 80.5)]"
      ]
     },
     "execution_count": 44,
     "metadata": {},
     "output_type": "execute_result"
    }
   ],
   "source": [
    "acc_pattern = re.compile(\": (\\d*[.]\\d*).*\")\n",
    "f1_pattern = re.compile(\"F1 score: (\\d*[.]\\d*).*\")\n",
    "\n",
    "metrics = []\n",
    "\n",
    "for nb_file in Path(\"../torch_cnn_experiments/\").glob(\"*.ipynb\"):\n",
    "    with open(nb_file, \"r\") as fr:\n",
    "        nb_json = json.load(fr)\n",
    "        print(nb_json['cells'][-1]['outputs'][-2]['text'][-2])\n",
    "        \n",
    "        acc_text = acc_pattern.search(\n",
    "                nb_json['cells'][-1]['outputs'][-2]['text'][-2]\n",
    "            ).group(1)\n",
    "        acc = float(acc_text)\n",
    "\n",
    "        f1_text = f1_pattern.search(\n",
    "                nb_json['cells'][-1]['outputs'][-2]['text'][-2]\n",
    "            ).group(1)\n",
    "        f1 = float(f1_text)\n",
    "\n",
    "        metrics.append((str(nb_file.stem), round(acc*100,1), round(f1*100,1)))\n",
    "\n",
    "metrics"
   ]
  },
  {
   "cell_type": "code",
   "execution_count": 46,
   "id": "f081b35d",
   "metadata": {},
   "outputs": [
    {
     "data": {
      "text/html": [
       "<div>\n",
       "<style scoped>\n",
       "    .dataframe tbody tr th:only-of-type {\n",
       "        vertical-align: middle;\n",
       "    }\n",
       "\n",
       "    .dataframe tbody tr th {\n",
       "        vertical-align: top;\n",
       "    }\n",
       "\n",
       "    .dataframe thead th {\n",
       "        text-align: right;\n",
       "    }\n",
       "</style>\n",
       "<table border=\"1\" class=\"dataframe\">\n",
       "  <thead>\n",
       "    <tr style=\"text-align: right;\">\n",
       "      <th></th>\n",
       "      <th>Dataset</th>\n",
       "      <th>Accuracy</th>\n",
       "      <th>F1 score</th>\n",
       "    </tr>\n",
       "  </thead>\n",
       "  <tbody>\n",
       "    <tr>\n",
       "      <th>2</th>\n",
       "      <td>demo_coding_vs_intergenomic_seqs</td>\n",
       "      <td>86.6</td>\n",
       "      <td>85.5</td>\n",
       "    </tr>\n",
       "    <tr>\n",
       "      <th>1</th>\n",
       "      <td>demo_human_or_worm</td>\n",
       "      <td>92.7</td>\n",
       "      <td>92.5</td>\n",
       "    </tr>\n",
       "    <tr>\n",
       "      <th>0</th>\n",
       "      <td>demo_mouse_enhancers</td>\n",
       "      <td>76.4</td>\n",
       "      <td>71.6</td>\n",
       "    </tr>\n",
       "    <tr>\n",
       "      <th>4</th>\n",
       "      <td>human_enhancers_cohn</td>\n",
       "      <td>69.5</td>\n",
       "      <td>65.4</td>\n",
       "    </tr>\n",
       "    <tr>\n",
       "      <th>5</th>\n",
       "      <td>human_enhancers_ensembl</td>\n",
       "      <td>81.5</td>\n",
       "      <td>80.5</td>\n",
       "    </tr>\n",
       "    <tr>\n",
       "      <th>3</th>\n",
       "      <td>human_nontata_promoters</td>\n",
       "      <td>83.0</td>\n",
       "      <td>81.3</td>\n",
       "    </tr>\n",
       "  </tbody>\n",
       "</table>\n",
       "</div>"
      ],
      "text/plain": [
       "                            Dataset  Accuracy  F1 score\n",
       "2  demo_coding_vs_intergenomic_seqs      86.6      85.5\n",
       "1                demo_human_or_worm      92.7      92.5\n",
       "0              demo_mouse_enhancers      76.4      71.6\n",
       "4              human_enhancers_cohn      69.5      65.4\n",
       "5           human_enhancers_ensembl      81.5      80.5\n",
       "3           human_nontata_promoters      83.0      81.3"
      ]
     },
     "execution_count": 46,
     "metadata": {},
     "output_type": "execute_result"
    }
   ],
   "source": [
    "tab = pd.DataFrame.from_records(metrics, columns = [\"Dataset\", \"Accuracy\", \"F1 score\"])\n",
    "tab = tab.sort_values(['Dataset'])\n",
    "tab"
   ]
  },
  {
   "cell_type": "code",
   "execution_count": 47,
   "id": "0eda23f6",
   "metadata": {},
   "outputs": [
    {
     "name": "stdout",
     "output_type": "stream",
     "text": [
      "| Dataset                          |   Accuracy |   F1 score |\n",
      "|:---------------------------------|-----------:|-----------:|\n",
      "| demo_coding_vs_intergenomic_seqs |       86.6 |       85.5 |\n",
      "| demo_human_or_worm               |       92.7 |       92.5 |\n",
      "| demo_mouse_enhancers             |       76.4 |       71.6 |\n",
      "| human_enhancers_cohn             |       69.5 |       65.4 |\n",
      "| human_enhancers_ensembl          |       81.5 |       80.5 |\n",
      "| human_nontata_promoters          |       83   |       81.3 |\n"
     ]
    }
   ],
   "source": [
    "print(tab.to_markdown(index=False, ))"
   ]
  },
  {
   "cell_type": "code",
   "execution_count": null,
   "id": "8e496226",
   "metadata": {},
   "outputs": [],
   "source": []
  }
 ],
 "metadata": {
  "environment": {
   "name": "pytorch-gpu.1-9.m75",
   "type": "gcloud",
   "uri": "gcr.io/deeplearning-platform-release/pytorch-gpu.1-9:m75"
  },
  "kernelspec": {
   "display_name": "conda-env-bench_env-py",
   "language": "python",
   "name": "bench_env"
  },
  "language_info": {
   "codemirror_mode": {
    "name": "ipython",
    "version": 3
   },
   "file_extension": ".py",
   "mimetype": "text/x-python",
   "name": "python",
   "nbconvert_exporter": "python",
   "pygments_lexer": "ipython3",
   "version": "3.8.10"
  }
 },
 "nbformat": 4,
 "nbformat_minor": 5
}
