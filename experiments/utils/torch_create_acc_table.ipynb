{
    "cells": [
        {
            "cell_type": "code",
            "execution_count": 1,
            "id": "52065753",
            "metadata": {},
            "outputs": [],
            "source": [
                "import json\n",
                "from pathlib import Path\n",
                "import pandas as pd\n",
                "import re"
            ]
        },
        {
            "cell_type": "code",
            "execution_count": 2,
            "id": "4dc86126",
            "metadata": {},
            "outputs": [
                {
                    "name": "stdout",
                    "output_type": "stream",
                    "text": [
                        " Accuracy: 0.933395, F1 score: 0.933395, Avg loss: 0.163150 \n",
                        "\n",
                        " Accuracy: 0.875600, F1 score: 0.867929, Avg loss: 0.557660 \n",
                        "\n",
                        " Accuracy: 0.690083, F1 score: 0.703557, Avg loss: 0.663699 \n",
                        "\n",
                        " Accuracy: 0.694588, F1 score: 0.670804, Avg loss: 0.644409 \n",
                        "\n",
                        " Accuracy: 0.845694, F1 score: 0.837302, Avg loss: 0.599782 \n",
                        "\n",
                        " Accuracy: 0.929520, F1 score: 0.927728, Avg loss: 0.535120 \n",
                        "\n",
                        " Accuracy: 0.679789, F1 score: 0.661218, Avg loss: 0.655001 \n",
                        "\n",
                        " Accuracy: 0.688828, F1 score: 0.564587, Avg loss: 0.623609 \n",
                        "\n",
                        " Accuracy: 0.585549, F1 score: 0.444617, Avg loss: 0.680789 \n",
                        "\n"
                    ]
                },
                {
                    "data": {
                        "text/plain": [
                            "[('human_ensembl_regulatory', 93.3, 93.3),\n",
                            " ('demo_coding_vs_intergenomic_seqs', 87.6, 86.8),\n",
                            " ('dummy_mouse_enhancers_ensembl', 69.0, 70.4),\n",
                            " ('human_enhancers_cohn', 69.5, 67.1),\n",
                            " ('human_nontata_promoters', 84.6, 83.7),\n",
                            " ('demo_human_or_worm', 93.0, 92.8),\n",
                            " ('human_ocr_ensembl', 68.0, 66.1),\n",
                            " ('human_enhancers_ensembl', 68.9, 56.5),\n",
                            " ('drosophila_enhancers_stark', 58.6, 44.5)]"
                        ]
                    },
                    "execution_count": 2,
                    "metadata": {},
                    "output_type": "execute_result"
                }
            ],
            "source": [
                "acc_pattern = re.compile(\": (\\d*[.]\\d*).*\")\n",
                "f1_pattern = re.compile(\"F1 score: (\\d*[.]\\d*).*\")\n",
                "\n",
                "metrics = []\n",
                "\n",
                "for nb_file in Path(\"../torch_cnn_experiments/\").glob(\"*.ipynb\"):\n",
                "    with open(nb_file, \"r\") as fr:\n",
                "        nb_json = json.load(fr)\n",
                "        print(nb_json['cells'][-1]['outputs'][-2]['text'][-2])\n",
                "        \n",
                "        acc_text = acc_pattern.search(\n",
                "                nb_json['cells'][-1]['outputs'][-2]['text'][-2]\n",
                "            ).group(1)\n",
                "        acc = float(acc_text)\n",
                "\n",
                "        f1_text = f1_pattern.search(\n",
                "                nb_json['cells'][-1]['outputs'][-2]['text'][-2]\n",
                "            ).group(1)\n",
                "        f1 = float(f1_text)\n",
                "\n",
                "        metrics.append((str(nb_file.stem), round(acc*100,1), round(f1*100,1)))\n",
                "\n",
                "metrics"
            ]
        },
        {
            "cell_type": "code",
            "execution_count": 3,
            "id": "f081b35d",
            "metadata": {},
            "outputs": [
                {
                    "data": {
                        "text/html": [
                            "<div>\n",
                            "<style scoped>\n",
                            "    .dataframe tbody tr th:only-of-type {\n",
                            "        vertical-align: middle;\n",
                            "    }\n",
                            "\n",
                            "    .dataframe tbody tr th {\n",
                            "        vertical-align: top;\n",
                            "    }\n",
                            "\n",
                            "    .dataframe thead th {\n",
                            "        text-align: right;\n",
                            "    }\n",
                            "</style>\n",
                            "<table border=\"1\" class=\"dataframe\">\n",
                            "  <thead>\n",
                            "    <tr style=\"text-align: right;\">\n",
                            "      <th></th>\n",
                            "      <th>Dataset</th>\n",
                            "      <th>Accuracy</th>\n",
                            "      <th>F1 score</th>\n",
                            "    </tr>\n",
                            "  </thead>\n",
                            "  <tbody>\n",
                            "    <tr>\n",
                            "      <th>1</th>\n",
                            "      <td>demo_coding_vs_intergenomic_seqs</td>\n",
                            "      <td>87.6</td>\n",
                            "      <td>86.8</td>\n",
                            "    </tr>\n",
                            "    <tr>\n",
                            "      <th>5</th>\n",
                            "      <td>demo_human_or_worm</td>\n",
                            "      <td>93.0</td>\n",
                            "      <td>92.8</td>\n",
                            "    </tr>\n",
                            "    <tr>\n",
                            "      <th>8</th>\n",
                            "      <td>drosophila_enhancers_stark</td>\n",
                            "      <td>58.6</td>\n",
                            "      <td>44.5</td>\n",
                            "    </tr>\n",
                            "    <tr>\n",
                            "      <th>2</th>\n",
                            "      <td>dummy_mouse_enhancers_ensembl</td>\n",
                            "      <td>69.0</td>\n",
                            "      <td>70.4</td>\n",
                            "    </tr>\n",
                            "    <tr>\n",
                            "      <th>3</th>\n",
                            "      <td>human_enhancers_cohn</td>\n",
                            "      <td>69.5</td>\n",
                            "      <td>67.1</td>\n",
                            "    </tr>\n",
                            "    <tr>\n",
                            "      <th>7</th>\n",
                            "      <td>human_enhancers_ensembl</td>\n",
                            "      <td>68.9</td>\n",
                            "      <td>56.5</td>\n",
                            "    </tr>\n",
                            "    <tr>\n",
                            "      <th>0</th>\n",
                            "      <td>human_ensembl_regulatory</td>\n",
                            "      <td>93.3</td>\n",
                            "      <td>93.3</td>\n",
                            "    </tr>\n",
                            "    <tr>\n",
                            "      <th>4</th>\n",
                            "      <td>human_nontata_promoters</td>\n",
                            "      <td>84.6</td>\n",
                            "      <td>83.7</td>\n",
                            "    </tr>\n",
                            "    <tr>\n",
                            "      <th>6</th>\n",
                            "      <td>human_ocr_ensembl</td>\n",
                            "      <td>68.0</td>\n",
                            "      <td>66.1</td>\n",
                            "    </tr>\n",
                            "  </tbody>\n",
                            "</table>\n",
                            "</div>"
                        ],
                        "text/plain": [
                            "                            Dataset  Accuracy  F1 score\n",
                            "1  demo_coding_vs_intergenomic_seqs      87.6      86.8\n",
                            "5                demo_human_or_worm      93.0      92.8\n",
                            "8        drosophila_enhancers_stark      58.6      44.5\n",
                            "2     dummy_mouse_enhancers_ensembl      69.0      70.4\n",
                            "3              human_enhancers_cohn      69.5      67.1\n",
                            "7           human_enhancers_ensembl      68.9      56.5\n",
                            "0          human_ensembl_regulatory      93.3      93.3\n",
                            "4           human_nontata_promoters      84.6      83.7\n",
                            "6                 human_ocr_ensembl      68.0      66.1"
                        ]
                    },
                    "execution_count": 3,
                    "metadata": {},
                    "output_type": "execute_result"
                }
            ],
            "source": [
                "tab = pd.DataFrame.from_records(metrics, columns = [\"Dataset\", \"Accuracy\", \"F1 score\"])\n",
                "tab = tab.sort_values(['Dataset'])\n",
                "tab"
            ]
        },
        {
            "cell_type": "code",
            "execution_count": 4,
            "id": "0eda23f6",
            "metadata": {},
            "outputs": [
                {
                    "name": "stdout",
                    "output_type": "stream",
                    "text": [
                        "| Dataset                          |   Accuracy |   F1 score |\n",
                        "|:---------------------------------|-----------:|-----------:|\n",
                        "| demo_coding_vs_intergenomic_seqs |       87.6 |       86.8 |\n",
                        "| demo_human_or_worm               |       93   |       92.8 |\n",
                        "| drosophila_enhancers_stark       |       58.6 |       44.5 |\n",
                        "| dummy_mouse_enhancers_ensembl    |       69   |       70.4 |\n",
                        "| human_enhancers_cohn             |       69.5 |       67.1 |\n",
                        "| human_enhancers_ensembl          |       68.9 |       56.5 |\n",
                        "| human_ensembl_regulatory         |       93.3 |       93.3 |\n",
                        "| human_nontata_promoters          |       84.6 |       83.7 |\n",
                        "| human_ocr_ensembl                |       68   |       66.1 |\n"
                    ]
                }
            ],
            "source": [
                "print(tab.to_markdown(index=False, ))"
            ]
        },
        {
            "cell_type": "code",
            "execution_count": null,
            "id": "8e496226",
            "metadata": {},
            "outputs": [],
            "source": []
        }
    ],
    "metadata": {
        "environment": {
            "name": "pytorch-gpu.1-9.m75",
            "type": "gcloud",
            "uri": "gcr.io/deeplearning-platform-release/pytorch-gpu.1-9:m75"
        },
        "kernelspec": {
            "display_name": "venv",
            "language": "python",
            "name": "python3"
        },
        "language_info": {
            "codemirror_mode": {
                "name": "ipython",
                "version": 3
            },
            "file_extension": ".py",
            "mimetype": "text/x-python",
            "name": "python",
            "nbconvert_exporter": "python",
            "pygments_lexer": "ipython3",
            "version": "3.11.2"
        },
        "vscode": {
            "interpreter": {
                "hash": "8758140544eed55e4a4a04c923f6b20841e620382d82e98ef80a9291caf86ca2"
            }
        }
    },
    "nbformat": 4,
    "nbformat_minor": 5
}
