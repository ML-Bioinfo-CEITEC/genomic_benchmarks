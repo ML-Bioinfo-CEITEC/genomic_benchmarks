{
    "cells": [
        {
            "cell_type": "code",
            "execution_count": 1,
            "id": "c05a79c9",
            "metadata": {},
            "outputs": [],
            "source": [
                "import json\n",
                "from pathlib import Path\n",
                "import pandas as pd"
            ]
        },
        {
            "cell_type": "code",
            "execution_count": 11,
            "id": "8b12216f",
            "metadata": {},
            "outputs": [
                {
                    "data": {
                        "text/plain": [
                            "[('human_ensembl_regulatory', 0.505, 79.3, 79.3),\n",
                            " ('demo_coding_vs_intergenomic_seqs', 0.258, 89.6, 89.4),\n",
                            " ('dummy_mouse_enhancers_ensembl', 0.919, 50.0, 66.9),\n",
                            " ('human_enhancers_cohn', 0.589, 68.9, 71.3),\n",
                            " ('human_nontata_promoters', 0.319, 86.5, 84.4),\n",
                            " ('demo_human_or_worm', 0.148, 94.2, 93.2),\n",
                            " ('human_ocr_ensembl', 0.585, 68.8, 72.0),\n",
                            " ('human_enhancers_ensembl', 0.421, 81.1, 74.6),\n",
                            " ('drosophila_enhancers_stark', 0.959, 52.4, 69.1)]"
                        ]
                    },
                    "execution_count": 11,
                    "metadata": {},
                    "output_type": "execute_result"
                }
            ],
            "source": [
                "metrics = []\n",
                "\n",
                "for nb_file in Path(\"../tf_cnn_experiments/\").glob(\"*.ipynb\"):\n",
                "    with open(nb_file, \"r\") as fr:\n",
                "        nb_json = json.load(fr)\n",
                "        loss = float(nb_json['cells'][-1]['outputs'][-1]['data']['text/plain'][0].split(\", \")[0][1:])\n",
                "        acc = float(nb_json['cells'][-1]['outputs'][-1]['data']['text/plain'][0].split(\", \")[1])\n",
                "        f1 = float(nb_json['cells'][-1]['outputs'][-1]['data']['text/plain'][0].split(\", \")[2][:-1])\n",
                "        metrics.append((str(nb_file.stem), round(loss,3), round(acc*100,1), round(f1*100,1)))\n",
                "\n",
                "metrics"
            ]
        },
        {
            "cell_type": "code",
            "execution_count": 12,
            "id": "7620c805",
            "metadata": {},
            "outputs": [
                {
                    "data": {
                        "text/html": [
                            "<div>\n",
                            "<style scoped>\n",
                            "    .dataframe tbody tr th:only-of-type {\n",
                            "        vertical-align: middle;\n",
                            "    }\n",
                            "\n",
                            "    .dataframe tbody tr th {\n",
                            "        vertical-align: top;\n",
                            "    }\n",
                            "\n",
                            "    .dataframe thead th {\n",
                            "        text-align: right;\n",
                            "    }\n",
                            "</style>\n",
                            "<table border=\"1\" class=\"dataframe\">\n",
                            "  <thead>\n",
                            "    <tr style=\"text-align: right;\">\n",
                            "      <th></th>\n",
                            "      <th>Dataset</th>\n",
                            "      <th>Loss</th>\n",
                            "      <th>Accuracy</th>\n",
                            "      <th>F1</th>\n",
                            "    </tr>\n",
                            "  </thead>\n",
                            "  <tbody>\n",
                            "    <tr>\n",
                            "      <th>1</th>\n",
                            "      <td>demo_coding_vs_intergenomic_seqs</td>\n",
                            "      <td>0.258</td>\n",
                            "      <td>89.6</td>\n",
                            "      <td>89.4</td>\n",
                            "    </tr>\n",
                            "    <tr>\n",
                            "      <th>5</th>\n",
                            "      <td>demo_human_or_worm</td>\n",
                            "      <td>0.148</td>\n",
                            "      <td>94.2</td>\n",
                            "      <td>93.2</td>\n",
                            "    </tr>\n",
                            "    <tr>\n",
                            "      <th>8</th>\n",
                            "      <td>drosophila_enhancers_stark</td>\n",
                            "      <td>0.959</td>\n",
                            "      <td>52.4</td>\n",
                            "      <td>69.1</td>\n",
                            "    </tr>\n",
                            "    <tr>\n",
                            "      <th>2</th>\n",
                            "      <td>dummy_mouse_enhancers_ensembl</td>\n",
                            "      <td>0.919</td>\n",
                            "      <td>50.0</td>\n",
                            "      <td>66.9</td>\n",
                            "    </tr>\n",
                            "    <tr>\n",
                            "      <th>3</th>\n",
                            "      <td>human_enhancers_cohn</td>\n",
                            "      <td>0.589</td>\n",
                            "      <td>68.9</td>\n",
                            "      <td>71.3</td>\n",
                            "    </tr>\n",
                            "    <tr>\n",
                            "      <th>7</th>\n",
                            "      <td>human_enhancers_ensembl</td>\n",
                            "      <td>0.421</td>\n",
                            "      <td>81.1</td>\n",
                            "      <td>74.6</td>\n",
                            "    </tr>\n",
                            "    <tr>\n",
                            "      <th>0</th>\n",
                            "      <td>human_ensembl_regulatory</td>\n",
                            "      <td>0.505</td>\n",
                            "      <td>79.3</td>\n",
                            "      <td>79.3</td>\n",
                            "    </tr>\n",
                            "    <tr>\n",
                            "      <th>4</th>\n",
                            "      <td>human_nontata_promoters</td>\n",
                            "      <td>0.319</td>\n",
                            "      <td>86.5</td>\n",
                            "      <td>84.4</td>\n",
                            "    </tr>\n",
                            "    <tr>\n",
                            "      <th>6</th>\n",
                            "      <td>human_ocr_ensembl</td>\n",
                            "      <td>0.585</td>\n",
                            "      <td>68.8</td>\n",
                            "      <td>72.0</td>\n",
                            "    </tr>\n",
                            "  </tbody>\n",
                            "</table>\n",
                            "</div>"
                        ],
                        "text/plain": [
                            "                            Dataset   Loss  Accuracy    F1\n",
                            "1  demo_coding_vs_intergenomic_seqs  0.258      89.6  89.4\n",
                            "5                demo_human_or_worm  0.148      94.2  93.2\n",
                            "8        drosophila_enhancers_stark  0.959      52.4  69.1\n",
                            "2     dummy_mouse_enhancers_ensembl  0.919      50.0  66.9\n",
                            "3              human_enhancers_cohn  0.589      68.9  71.3\n",
                            "7           human_enhancers_ensembl  0.421      81.1  74.6\n",
                            "0          human_ensembl_regulatory  0.505      79.3  79.3\n",
                            "4           human_nontata_promoters  0.319      86.5  84.4\n",
                            "6                 human_ocr_ensembl  0.585      68.8  72.0"
                        ]
                    },
                    "execution_count": 12,
                    "metadata": {},
                    "output_type": "execute_result"
                }
            ],
            "source": [
                "tab = pd.DataFrame.from_records(metrics, columns = [\"Dataset\", \"Loss\", \"Accuracy\", \"F1\"])\n",
                "tab = tab.sort_values(['Dataset'])\n",
                "tab"
            ]
        },
        {
            "cell_type": "code",
            "execution_count": 15,
            "id": "93076d66",
            "metadata": {},
            "outputs": [
                {
                    "name": "stdout",
                    "output_type": "stream",
                    "text": [
                        "| Dataset                          |   Loss |   Accuracy |   F1 |\n",
                        "|:---------------------------------|-------:|-----------:|-----:|\n",
                        "| demo_coding_vs_intergenomic_seqs |  0.258 |       89.6 | 89.4 |\n",
                        "| demo_human_or_worm               |  0.148 |       94.2 | 93.2 |\n",
                        "| drosophila_enhancers_stark       |  0.959 |       52.4 | 69.1 |\n",
                        "| dummy_mouse_enhancers_ensembl    |  0.919 |       50   | 66.9 |\n",
                        "| human_enhancers_cohn             |  0.589 |       68.9 | 71.3 |\n",
                        "| human_enhancers_ensembl          |  0.421 |       81.1 | 74.6 |\n",
                        "| human_ensembl_regulatory         |  0.505 |       79.3 | 79.3 |\n",
                        "| human_nontata_promoters          |  0.319 |       86.5 | 84.4 |\n",
                        "| human_ocr_ensembl                |  0.585 |       68.8 | 72   |\n"
                    ]
                }
            ],
            "source": [
                "print(tab.to_markdown(index=False, ))"
            ]
        },
        {
            "cell_type": "code",
            "execution_count": null,
            "id": "91b2e60d",
            "metadata": {},
            "outputs": [],
            "source": []
        }
    ],
    "metadata": {
        "kernelspec": {
            "display_name": "venv",
            "language": "python",
            "name": "python3"
        },
        "language_info": {
            "codemirror_mode": {
                "name": "ipython",
                "version": 3
            },
            "file_extension": ".py",
            "mimetype": "text/x-python",
            "name": "python",
            "nbconvert_exporter": "python",
            "pygments_lexer": "ipython3",
            "version": "3.11.2"
        },
        "vscode": {
            "interpreter": {
                "hash": "8758140544eed55e4a4a04c923f6b20841e620382d82e98ef80a9291caf86ca2"
            }
        }
    },
    "nbformat": 4,
    "nbformat_minor": 5
}
