{
 "cells": [
  {
   "cell_type": "code",
   "execution_count": 1,
   "id": "c05a79c9",
   "metadata": {},
   "outputs": [],
   "source": [
    "import json\n",
    "from pathlib import Path\n",
    "import pandas as pd"
   ]
  },
  {
   "cell_type": "code",
   "execution_count": 2,
   "id": "8b12216f",
   "metadata": {},
   "outputs": [
    {
     "data": {
      "text/plain": [
       "[('human_nontata_promoters', 0.513, 79.5, 73.3),\n",
       " ('demo_human_or_worm', 0.168, 93.5, 91.7),\n",
       " ('demo_coding_vs_intergenomic_seqs', 0.264, 89.5, 89.3),\n",
       " ('human_enhancers_ensembl', 0.428, 80.9, 80.2),\n",
       " ('demo_mouse_enhancers', 0.614, 73.6, 21.7),\n",
       " ('human_enhancers_cohn', 0.763, 66.6, 74.3)]"
      ]
     },
     "execution_count": 2,
     "metadata": {},
     "output_type": "execute_result"
    }
   ],
   "source": [
    "metrics = []\n",
    "\n",
    "for nb_file in Path(\"../tf_cnn_experiments/\").glob(\"*.ipynb\"):\n",
    "    with open(nb_file, \"r\") as fr:\n",
    "        nb_json = json.load(fr)\n",
    "        loss = float(nb_json['cells'][-2]['outputs'][-1]['data']['text/plain'][0].split(\", \")[0][1:])\n",
    "        acc = float(nb_json['cells'][-2]['outputs'][-1]['data']['text/plain'][0].split(\", \")[1])\n",
    "        f1 = float(nb_json['cells'][-2]['outputs'][-1]['data']['text/plain'][0].split(\", \")[2][:-1])\n",
    "        metrics.append((str(nb_file.stem), round(loss,3), round(acc*100,1), round(f1*100,1)))\n",
    "\n",
    "metrics"
   ]
  },
  {
   "cell_type": "code",
   "execution_count": 3,
   "id": "7620c805",
   "metadata": {},
   "outputs": [
    {
     "data": {
      "text/html": [
       "<div>\n",
       "<style scoped>\n",
       "    .dataframe tbody tr th:only-of-type {\n",
       "        vertical-align: middle;\n",
       "    }\n",
       "\n",
       "    .dataframe tbody tr th {\n",
       "        vertical-align: top;\n",
       "    }\n",
       "\n",
       "    .dataframe thead th {\n",
       "        text-align: right;\n",
       "    }\n",
       "</style>\n",
       "<table border=\"1\" class=\"dataframe\">\n",
       "  <thead>\n",
       "    <tr style=\"text-align: right;\">\n",
       "      <th></th>\n",
       "      <th>Dataset</th>\n",
       "      <th>Loss</th>\n",
       "      <th>Accuracy</th>\n",
       "      <th>F1</th>\n",
       "    </tr>\n",
       "  </thead>\n",
       "  <tbody>\n",
       "    <tr>\n",
       "      <th>2</th>\n",
       "      <td>demo_coding_vs_intergenomic_seqs</td>\n",
       "      <td>0.264</td>\n",
       "      <td>89.5</td>\n",
       "      <td>89.3</td>\n",
       "    </tr>\n",
       "    <tr>\n",
       "      <th>1</th>\n",
       "      <td>demo_human_or_worm</td>\n",
       "      <td>0.168</td>\n",
       "      <td>93.5</td>\n",
       "      <td>91.7</td>\n",
       "    </tr>\n",
       "    <tr>\n",
       "      <th>4</th>\n",
       "      <td>demo_mouse_enhancers</td>\n",
       "      <td>0.614</td>\n",
       "      <td>73.6</td>\n",
       "      <td>21.7</td>\n",
       "    </tr>\n",
       "    <tr>\n",
       "      <th>5</th>\n",
       "      <td>human_enhancers_cohn</td>\n",
       "      <td>0.763</td>\n",
       "      <td>66.6</td>\n",
       "      <td>74.3</td>\n",
       "    </tr>\n",
       "    <tr>\n",
       "      <th>3</th>\n",
       "      <td>human_enhancers_ensembl</td>\n",
       "      <td>0.428</td>\n",
       "      <td>80.9</td>\n",
       "      <td>80.2</td>\n",
       "    </tr>\n",
       "    <tr>\n",
       "      <th>0</th>\n",
       "      <td>human_nontata_promoters</td>\n",
       "      <td>0.513</td>\n",
       "      <td>79.5</td>\n",
       "      <td>73.3</td>\n",
       "    </tr>\n",
       "  </tbody>\n",
       "</table>\n",
       "</div>"
      ],
      "text/plain": [
       "                            Dataset   Loss  Accuracy    F1\n",
       "2  demo_coding_vs_intergenomic_seqs  0.264      89.5  89.3\n",
       "1                demo_human_or_worm  0.168      93.5  91.7\n",
       "4              demo_mouse_enhancers  0.614      73.6  21.7\n",
       "5              human_enhancers_cohn  0.763      66.6  74.3\n",
       "3           human_enhancers_ensembl  0.428      80.9  80.2\n",
       "0           human_nontata_promoters  0.513      79.5  73.3"
      ]
     },
     "execution_count": 3,
     "metadata": {},
     "output_type": "execute_result"
    }
   ],
   "source": [
    "tab = pd.DataFrame.from_records(metrics, columns = [\"Dataset\", \"Loss\", \"Accuracy\", \"F1\"])\n",
    "tab = tab.sort_values(['Dataset'])\n",
    "tab"
   ]
  },
  {
   "cell_type": "code",
   "execution_count": 4,
   "id": "93076d66",
   "metadata": {},
   "outputs": [
    {
     "name": "stdout",
     "output_type": "stream",
     "text": [
      "| Dataset                          |   Loss |   Accuracy |   F1 |\n",
      "|:---------------------------------|-------:|-----------:|-----:|\n",
      "| demo_coding_vs_intergenomic_seqs |  0.264 |       89.5 | 89.3 |\n",
      "| demo_human_or_worm               |  0.168 |       93.5 | 91.7 |\n",
      "| demo_mouse_enhancers             |  0.614 |       73.6 | 21.7 |\n",
      "| human_enhancers_cohn             |  0.763 |       66.6 | 74.3 |\n",
      "| human_enhancers_ensembl          |  0.428 |       80.9 | 80.2 |\n",
      "| human_nontata_promoters          |  0.513 |       79.5 | 73.3 |\n"
     ]
    }
   ],
   "source": [
    "print(tab.to_markdown(index=False, ))"
   ]
  },
  {
   "cell_type": "code",
   "execution_count": null,
   "id": "91b2e60d",
   "metadata": {},
   "outputs": [],
   "source": []
  }
 ],
 "metadata": {
  "kernelspec": {
   "display_name": "Python 3 (ipykernel)",
   "language": "python",
   "name": "python3"
  },
  "language_info": {
   "codemirror_mode": {
    "name": "ipython",
    "version": 3
   },
   "file_extension": ".py",
   "mimetype": "text/x-python",
   "name": "python",
   "nbconvert_exporter": "python",
   "pygments_lexer": "ipython3",
   "version": "3.8.9"
  }
 },
 "nbformat": 4,
 "nbformat_minor": 5
}
