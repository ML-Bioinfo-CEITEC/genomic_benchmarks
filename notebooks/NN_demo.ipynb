{
 "cells": [
  {
   "cell_type": "code",
   "execution_count": 3,
   "metadata": {},
   "outputs": [],
   "source": [
    "%load_ext autoreload\n",
    "%autoreload 2"
   ]
  },
  {
   "cell_type": "code",
   "execution_count": 2,
   "metadata": {},
   "outputs": [],
   "source": [
    "# conda list --export > requirements_conda.txt"
   ]
  },
  {
   "cell_type": "code",
   "execution_count": 1,
   "metadata": {},
   "outputs": [],
   "source": [
    "import os\n",
    "import numpy as np\n",
    "import torch\n",
    "from torch import nn\n",
    "from torch.utils.data import DataLoader\n",
    "\n",
    "from utils import coll\n",
    "from genomic_benchmarks.dset_getters import demo_coding_vs_intergenomic_seqs_dset, demo_mouse_enhancers_dset\n",
    "from genomic_benchmarks.notebooks.basic_model import NeuralNetwork"
   ]
  },
  {
   "cell_type": "code",
   "execution_count": 8,
   "metadata": {},
   "outputs": [
    {
     "name": "stdout",
     "output_type": "stream",
     "text": [
      "Using cuda device\n",
      "Extracting gzip\n",
      "Extracting gzip\n",
      "Extracting gzip\n",
      "Extracting gzip\n",
      "Downloading http://ftp.ensembl.org/pub/release-97/fasta/homo_sapiens/dna/Homo_sapiens.GRCh38.dna.toplevel.fa.gz\n"
     ]
    },
    {
     "data": {
      "application/vnd.jupyter.widget-view+json": {
       "model_id": "71d2412977274fe0a60e5d580a56b4ed",
       "version_major": 2,
       "version_minor": 0
      },
      "text/plain": [
       "/home/martinekvlastimil95/.genomic_benchmarks/fasta/Homo_sapiens.GRCh38.dna.toplevel.fa.gz: 0.00B [00:00, ?B/s…"
      ]
     },
     "metadata": {},
     "output_type": "display_data"
    },
    {
     "name": "stdout",
     "output_type": "stream",
     "text": [
      "Downloading http://ftp.ensembl.org/pub/release-97/fasta/homo_sapiens/cdna/Homo_sapiens.GRCh38.cdna.all.fa.gz\n"
     ]
    },
    {
     "data": {
      "application/vnd.jupyter.widget-view+json": {
       "model_id": "665b4a7d8fe94e7b9cdab9db25522722",
       "version_major": 2,
       "version_minor": 0
      },
      "text/plain": [
       "/home/martinekvlastimil95/.genomic_benchmarks/fasta/Homo_sapiens.GRCh38.cdna.all.fa.gz: 0.00B [00:00, ?B/s]"
      ]
     },
     "metadata": {},
     "output_type": "display_data"
    },
    {
     "data": {
      "application/vnd.jupyter.widget-view+json": {
       "model_id": "23275e6c2b7d475481afd77efe393bbe",
       "version_major": 2,
       "version_minor": 0
      },
      "text/plain": [
       "  0%|          | 0/24 [00:00<?, ?it/s]"
      ]
     },
     "metadata": {},
     "output_type": "display_data"
    },
    {
     "data": {
      "application/vnd.jupyter.widget-view+json": {
       "model_id": "233bdc82792e408bac521934b23ee8d1",
       "version_major": 2,
       "version_minor": 0
      },
      "text/plain": [
       "  0%|          | 0/190000 [00:00<?, ?it/s]"
      ]
     },
     "metadata": {},
     "output_type": "display_data"
    }
   ],
   "source": [
    "device = 'cuda' if torch.cuda.is_available() else 'cpu'\n",
    "print('Using {} device'.format(device))\n",
    "\n",
    "get_dataset_fn = demo_coding_vs_intergenomic_seqs_dset\n",
    "train_dset = get_dataset_fn('train', force_download=False)\n",
    "train_loader = DataLoader(train_dset, batch_size=32, shuffle=True, collate_fn=coll)\n"
   ]
  },
  {
   "cell_type": "code",
   "execution_count": 9,
   "metadata": {},
   "outputs": [
    {
     "data": {
      "text/plain": [
       "('CGCTGTTAAACATGCCCATCCAATCTTTGTCTTTAGAGAAGCTCAGTAGAATTATGAAGAGAAACCAGTGTTCACTGTGATAGTGTAAAGCTGGTTTTATAGTCTTTAGAAGCGGTTCGCTAGGGCTCTGAGCCTCCTCTCCTAACACATGGTGCAGTGGGTACTGCTGTGTTGGTGAGTTGGCGGGACAATTTAAATGG',\n",
       " 0)"
      ]
     },
     "execution_count": 9,
     "metadata": {},
     "output_type": "execute_result"
    }
   ],
   "source": [
    "train_dset[0]"
   ]
  },
  {
   "cell_type": "code",
   "execution_count": 5,
   "metadata": {},
   "outputs": [],
   "source": [
    "# from genomic_benchmarks.loc2seq import download_dataset\n",
    "# download_dataset('demo_mouse_enhancers')"
   ]
  },
  {
   "cell_type": "code",
   "execution_count": 15,
   "metadata": {},
   "outputs": [],
   "source": [
    "\n",
    "# a dummy model with an adjustable number of classes\n",
    "class NeuralNetwork(nn.Module):\n",
    "    def __init__(self, number_of_classes):\n",
    "        super(NeuralNetwork, self).__init__()\n",
    "        # self.flatten = nn.Flatten()\n",
    "        self.lin1 = nn.Linear(200,512)\n",
    "        self.relu = nn.ReLU()\n",
    "        self.lin2 = nn.Linear(512, number_of_classes)\n",
    "        self.softmax = nn.Softmax(dim=0)\n",
    "        self.loss = torch.nn.functional.binary_cross_entropy_with_logits\n",
    "\n",
    "    def forward(self, x):\n",
    "        x = self.lin1(x)\n",
    "        x = self.relu(x)\n",
    "        x = self.lin2(x)\n",
    "        x = self.softmax(x)\n",
    "\n",
    "        return x\n",
    "        \n",
    "    def train_loop(self, dataloader, optimizer):\n",
    "        for x, y in dataloader:\n",
    "            pred = model(x)\n",
    "            loss = self.loss(pred, y)\n",
    "\n",
    "            optimizer.zero_grad()\n",
    "            loss.backward()\n",
    "            optimizer.step()\n",
    "            \n",
    "    def train(self, dataloader, epochs):\n",
    "        learning_rate = 1e-3\n",
    "        optimizer = torch.optim.SGD(model.parameters(), lr=learning_rate)\n",
    "        for t in range(epochs):\n",
    "            print(f\"Epoch {t}\")\n",
    "            model.train_loop(dataloader, optimizer)\n",
    "\n",
    "    def test(self, dataloader):\n",
    "        size = dataloader.dataset.__len__()\n",
    "        num_batches = len(dataloader)\n",
    "        test_loss, correct = 0, 0\n",
    "\n",
    "        with torch.no_grad():\n",
    "            for X, y in dataloader:\n",
    "                pred = model(X)\n",
    "                test_loss += self.loss(pred, y).item()\n",
    "                correct += (torch.round(pred) == y).sum().item()\n",
    "\n",
    "        print('test_loss ', test_loss)\n",
    "        print('num_batches', num_batches)\n",
    "        print('correct', correct)\n",
    "        print('size', size)\n",
    "\n",
    "        test_loss /= num_batches\n",
    "        correct /= size\n",
    "        print(f\"Test Error: \\n Accuracy: {(100*correct):>0.1f}%, Avg loss: {test_loss:>8f} \\n\")\n"
   ]
  },
  {
   "cell_type": "code",
   "execution_count": 11,
   "metadata": {},
   "outputs": [
    {
     "name": "stdout",
     "output_type": "stream",
     "text": [
      "200\n"
     ]
    }
   ],
   "source": [
    "max_len = -1\n",
    "for i in range(len(train_dset)):\n",
    "    current = len(train_dset[i][0])\n",
    "    if max_len < current: max_len = current\n",
    "    \n",
    "print(max_len)"
   ]
  },
  {
   "cell_type": "code",
   "execution_count": null,
   "metadata": {},
   "outputs": [],
   "source": [
    "# print(next(iter(train_loader))[0][0])\n",
    "# print(next(iter(train_loader))[1][0])"
   ]
  },
  {
   "cell_type": "code",
   "execution_count": 18,
   "metadata": {},
   "outputs": [
    {
     "name": "stdout",
     "output_type": "stream",
     "text": [
      "Epoch 0\n",
      "Epoch 1\n",
      "Epoch 2\n",
      "Epoch 3\n",
      "Epoch 4\n"
     ]
    }
   ],
   "source": [
    "model = NeuralNetwork(number_of_classes=1).cuda()\n",
    "model.train(train_loader, epochs=5)"
   ]
  },
  {
   "cell_type": "code",
   "execution_count": 19,
   "metadata": {},
   "outputs": [
    {
     "name": "stdout",
     "output_type": "stream",
     "text": [
      "Reference /home/martinekvlastimil95/.genomic_benchmarks/fasta/Homo_sapiens.GRCh38.dna.toplevel.fa.gz already exists. Skipping.\n",
      "Reference /home/martinekvlastimil95/.genomic_benchmarks/fasta/Homo_sapiens.GRCh38.cdna.all.fa.gz already exists. Skipping.\n"
     ]
    },
    {
     "name": "stderr",
     "output_type": "stream",
     "text": [
      "/home/martinekvlastimil95/repos/genomic_benchmarks/src/genomic_benchmarks/loc2seq/with_biopython.py:87: UserWarning: No version specified. Using version 0.\n",
      "  warnings.warn(f\"No version specified. Using version {metadata['version']}.\")\n"
     ]
    },
    {
     "data": {
      "application/vnd.jupyter.widget-view+json": {
       "model_id": "92874f9b15c848ea935133268da21fe3",
       "version_major": 2,
       "version_minor": 0
      },
      "text/plain": [
       "  0%|          | 0/24 [00:00<?, ?it/s]"
      ]
     },
     "metadata": {},
     "output_type": "display_data"
    },
    {
     "data": {
      "application/vnd.jupyter.widget-view+json": {
       "model_id": "8d60d2f954a34c3aaedc68af382485d8",
       "version_major": 2,
       "version_minor": 0
      },
      "text/plain": [
       "  0%|          | 0/190000 [00:00<?, ?it/s]"
      ]
     },
     "metadata": {},
     "output_type": "display_data"
    }
   ],
   "source": [
    "test_dset = get_dataset_fn('test', force_download=False)\n",
    "test_loader = DataLoader(test_dset, batch_size=32, shuffle=True, collate_fn=coll)\n",
    "model.test(test_loader)"
   ]
  },
  {
   "cell_type": "code",
   "execution_count": null,
   "metadata": {},
   "outputs": [],
   "source": []
  },
  {
   "cell_type": "code",
   "execution_count": null,
   "metadata": {},
   "outputs": [],
   "source": []
  }
 ],
 "metadata": {
  "environment": {
   "name": "pytorch-gpu.1-9.m75",
   "type": "gcloud",
   "uri": "gcr.io/deeplearning-platform-release/pytorch-gpu.1-9:m75"
  },
  "interpreter": {
   "hash": "2223b3d6c1f07b7eb0c5454f24b1253839434c1cd4ca3fc7d48d892ce989c008"
  },
  "kernelspec": {
   "display_name": "Python 3.8.10 64-bit ('bench_env': conda)",
   "name": "python3"
  },
  "language_info": {
   "codemirror_mode": {
    "name": "ipython",
    "version": 3
   },
   "file_extension": ".py",
   "mimetype": "text/x-python",
   "name": "python",
   "nbconvert_exporter": "python",
   "pygments_lexer": "ipython3",
   "version": "3.8.10"
  }
 },
 "nbformat": 4,
 "nbformat_minor": 4
}
