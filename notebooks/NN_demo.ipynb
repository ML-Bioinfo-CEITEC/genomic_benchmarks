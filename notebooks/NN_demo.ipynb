{
 "cells": [
  {
   "cell_type": "code",
   "execution_count": 1,
   "metadata": {},
   "outputs": [],
   "source": [
    "# conda list --export > requirements_conda.txt"
   ]
  },
  {
   "cell_type": "code",
   "execution_count": 2,
   "metadata": {},
   "outputs": [],
   "source": [
    "import os\n",
    "import numpy as np\n",
    "import torch\n",
    "from torch import nn\n",
    "from torch.utils.data import DataLoader\n",
    "from tools.dset_getters import cvsi_dset, me_dset\n",
    "from tools.utils import simple_coll, padding_coll_factory\n",
    "# from tools.basic_model import NeuralNetwork"
   ]
  },
  {
   "cell_type": "code",
   "execution_count": 3,
   "metadata": {},
   "outputs": [],
   "source": [
    "# a dummy model with an adjustable number of classes\n",
    "class NeuralNetwork(nn.Module):\n",
    "        \n",
    "    def __init__(self, number_of_classes, vocab_size, embedding_dim, context_size):\n",
    "        super(NeuralNetwork, self).__init__()\n",
    "        self.embeddings = nn.Embedding(vocab_size, embedding_dim)\n",
    "        self.conv1 = nn.Conv1d(in_channels=embedding_dim, out_channels=16, kernel_size=8, bias=False)\n",
    "        self.norm1 = nn.BatchNorm1d(16)\n",
    "        self.relu = nn.ReLU()\n",
    "        self.pool1 = nn.MaxPool1d(2)\n",
    "        \n",
    "        self.conv2 = nn.Conv1d(in_channels=16, out_channels=8, kernel_size=8, bias=False)\n",
    "        self.norm2 = nn.BatchNorm1d(8)\n",
    "        self.pool2 = nn.MaxPool1d(2)\n",
    "\n",
    "        self.conv3 = nn.Conv1d(in_channels=8, out_channels=4, kernel_size=8, bias=False)\n",
    "        self.norm3 = nn.BatchNorm1d(4)\n",
    "        self.pool3 = nn.MaxPool1d(2)\n",
    "\n",
    "        self.conv4 = nn.Conv1d(in_channels=4, out_channels=3, kernel_size=8, bias=False)\n",
    "        self.norm4 = nn.BatchNorm1d(3)\n",
    "        self.pool4 = nn.MaxPool1d(2)\n",
    "        \n",
    "        self.flatten = nn.Flatten()\n",
    "        self.lin1 = nn.Linear(861, 512)\n",
    "        self.lin2 = nn.Linear(512, number_of_classes)\n",
    "        self.softmax = nn.Softmax(dim=0)\n",
    "        self.loss = torch.nn.functional.binary_cross_entropy_with_logits\n",
    "\n",
    "\n",
    "        \n",
    "#         self.linear1 = nn.Linear(context_size * embedding_dim, 128)\n",
    "#         self.linear2 = nn.Linear(128, number_of_classes)\n",
    "#         self.softmax = nn.Softmax(dim=0)\n",
    "#         self.loss = torch.nn.functional.binary_cross_entropy_with_logits\n",
    "        \n",
    "#         self.conv1 = nn.Conv1d(in_channels=input_len, out_channels=n_hidden, kernel_size=kernel_size, bias=False),\n",
    "#             nn.BatchNorm1d(n_hidden),\n",
    "#             nn.ReLU(inplace=True),\n",
    "\n",
    "    def forward(self, x):\n",
    "#         print(\"start \", x.size())\n",
    "        x = self.embeddings(x)\n",
    "#         print(\"emb \", x.size())\n",
    "        x = x.transpose(1, 2)\n",
    "#         print(\"trans \", x.size())\n",
    "        x = self.conv1(x)\n",
    "#         print(\"conv \", x.size())\n",
    "        x = self.norm1(x)\n",
    "        x = self.relu(x)\n",
    "        x = self.pool1(x)\n",
    "        \n",
    "        x = self.conv2(x)\n",
    "        x = self.norm2(x)\n",
    "        x = self.relu(x)\n",
    "        x = self.pool2(x)\n",
    "        \n",
    "        x = self.conv3(x)\n",
    "        x = self.norm3(x)\n",
    "        x = self.relu(x)\n",
    "        x = self.pool3(x)\n",
    "        \n",
    "        x = self.conv4(x)\n",
    "        x = self.norm4(x) \n",
    "        x = self.relu(x)\n",
    "        x = self.pool4(x)\n",
    "        \n",
    "        x = self.flatten(x)\n",
    "        x = self.lin1(x) \n",
    "        x = self.lin2(x) \n",
    "        x = self.softmax(x)\n",
    "        return x\n",
    "        \n",
    "#         print(\"start \", x.size())\n",
    "# #         x = self.embeddings(x).view((1, -1))\n",
    "#         x = self.embeddings(x)\n",
    "#         print(\"emb \", x.size())\n",
    "#         x = self.linear1(x)\n",
    "#         print(\"lin1 \", x.size())\n",
    "#         x = self.relu(x)\n",
    "#         print(\"relu \", x.size())\n",
    "#         x = self.linear2(x)\n",
    "#         print(\"lin2 \", x)\n",
    "#         x = self.softmax(x)\n",
    "#         print(\"soft \", x.size())\n",
    "#         return x\n",
    "        \n",
    "    def train_loop(self, dataloader, optimizer):\n",
    "        for x, y in dataloader:\n",
    "            pred = model(x)\n",
    "#             print('pred: ', pred)\n",
    "#             print('y: ', y)\n",
    "            loss = self.loss(pred, y)\n",
    "\n",
    "            optimizer.zero_grad()\n",
    "            loss.backward()\n",
    "            optimizer.step()\n",
    "            \n",
    "    def train(self, dataloader, epochs):\n",
    "        learning_rate = 1e-3\n",
    "        optimizer = torch.optim.SGD(model.parameters(), lr=learning_rate)\n",
    "        for t in range(epochs):\n",
    "            print(f\"Epoch {t}\")\n",
    "            model.train_loop(dataloader, optimizer)\n",
    "\n",
    "    def test(self, dataloader):\n",
    "        size = dataloader.dataset.__len__()\n",
    "        num_batches = len(dataloader)\n",
    "        test_loss, correct = 0, 0\n",
    "\n",
    "        with torch.no_grad():\n",
    "            for X, y in dataloader:\n",
    "                pred = model(X)\n",
    "                test_loss += self.loss(pred, y).item()\n",
    "                correct += (torch.round(pred) == y).sum().item()\n",
    "\n",
    "        print('test_loss ', test_loss)\n",
    "        print('num_batches', num_batches)\n",
    "        print('correct', correct)\n",
    "        print('size', size)\n",
    "\n",
    "        test_loss /= num_batches\n",
    "        correct /= size\n",
    "        print(f\"Test Error: \\n Accuracy: {(100*correct):>0.1f}%, Avg loss: {test_loss:>8f} \\n\")\n"
   ]
  },
  {
   "cell_type": "code",
   "execution_count": 4,
   "metadata": {},
   "outputs": [
    {
     "name": "stdout",
     "output_type": "stream",
     "text": [
      "Using cuda device\n",
      "Reference fasta_cache/Mus_musculus.GRCm38.dna_rm.toplevel.fa.gz already exists. Skipping.\n"
     ]
    },
    {
     "name": "stderr",
     "output_type": "stream",
     "text": [
      "/home/jupyter/genomic_benchmarks/tools/loc2seq/with_biopython.py:77: UserWarning: No version specified. Using version 0.\n",
      "  warnings.warn(f\"No version specified. Using version {metadata['version']}.\")\n"
     ]
    },
    {
     "data": {
      "application/vnd.jupyter.widget-view+json": {
       "model_id": "a527f5acfb9d44fa83218529bcbdc6c7",
       "version_major": 2,
       "version_minor": 0
      },
      "text/plain": [
       "  0%|          | 0/21 [00:00<?, ?it/s]"
      ]
     },
     "metadata": {},
     "output_type": "display_data"
    }
   ],
   "source": [
    "device = 'cuda' if torch.cuda.is_available() else 'cpu'\n",
    "print('Using {} device'.format(device))\n",
    "\n",
    "get_dataset_fn = me_dset\n",
    "train_dset = get_dataset_fn('train', force_download=False)\n"
   ]
  },
  {
   "cell_type": "markdown",
   "metadata": {},
   "source": [
    "## Tokenizer and vocab"
   ]
  },
  {
   "cell_type": "code",
   "execution_count": 5,
   "metadata": {},
   "outputs": [
    {
     "name": "stdout",
     "output_type": "stream",
     "text": [
      "[('N', 694058), ('T', 429929), ('A', 429509), ('C', 356462), ('G', 352072), ('<bos>', 968), ('<eos>', 968)]\n",
      "vocab len: 8\n",
      "{'N': 5, '<pad>': 7, 'T': 3, 'C': 4, 'A': 2, '<eos>': 6, 'G': 1, '<bos>': 0}\n"
     ]
    }
   ],
   "source": [
    "from torchtext.data.utils import get_tokenizer\n",
    "from torchtext.vocab import vocab, build_vocab_from_iterator\n",
    "from collections import Counter \n",
    "\n",
    "class LetterTokenizer():\n",
    "    def __init__(self, **kwargs):\n",
    "        pass\n",
    "    def __call__(self, items):\n",
    "        if isinstance(items, str):\n",
    "            return self.__tokenize_str(items)\n",
    "        else:\n",
    "            return (self.__tokenize_str(t) for t in items)\n",
    "    def __tokenize_str(self, t):\n",
    "        tokenized = list(t.replace(\"\\n\",\"\"))\n",
    "        tokenized.append('<eos>')\n",
    "        tokenized.insert(0,'<bos>')\n",
    "        return tokenized\n",
    "\n",
    "tokenizer = get_tokenizer(LetterTokenizer())\n",
    "# (xx, yy) = zip(*train_dset)\n",
    "\n",
    "def build_vocab(dataset, tokenizer):\n",
    "    counter = Counter()\n",
    "    for i in range(len(dataset)):\n",
    "        counter.update(tokenizer(dataset[i][0]))\n",
    "    print(counter.most_common())\n",
    "    builded_voc = vocab(counter)\n",
    "    builded_voc.append_token('<pad>')\n",
    "    return builded_voc\n",
    "\n",
    "# todo: why build fn does not work as expected (iterator argument)\n",
    "#     return build_vocab_from_iterator(\n",
    "#         iterator = counter, \n",
    "#         specials = ['<unk>', '<pad>', '<bos>', '<eos>'],\n",
    "#         special_first = True)\n",
    "\n",
    "vocabulary = build_vocab(train_dset, tokenizer)\n",
    "print(\"vocab len:\" ,vocabulary.__len__())\n",
    "print(vocabulary.get_stoi())"
   ]
  },
  {
   "cell_type": "code",
   "execution_count": 6,
   "metadata": {},
   "outputs": [],
   "source": [
    "# tokenizer(train_dset[0][0])\n",
    "# train_dset[0][0]"
   ]
  },
  {
   "cell_type": "code",
   "execution_count": 7,
   "metadata": {},
   "outputs": [
    {
     "name": "stdout",
     "output_type": "stream",
     "text": [
      "4707\n"
     ]
    }
   ],
   "source": [
    "# create padding collate \n",
    "input_len = max([len(train_dset[i][0]) for i in range(len(train_dset))])\n",
    "print(input_len)\n",
    "# padding_coll_factory(longest_length, vocab, tokenizer):\n",
    "collate = padding_coll_factory(input_len, vocabulary, tokenizer)\n",
    "\n",
    "train_loader = DataLoader(train_dset, batch_size=32, shuffle=True, collate_fn=collate)\n"
   ]
  },
  {
   "cell_type": "code",
   "execution_count": 8,
   "metadata": {},
   "outputs": [],
   "source": [
    "# print(next(iter(train_loader))[0][0])\n",
    "# print(next(iter(train_loader))[1][0])"
   ]
  },
  {
   "cell_type": "code",
   "execution_count": 9,
   "metadata": {},
   "outputs": [
    {
     "name": "stdout",
     "output_type": "stream",
     "text": [
      "Epoch 0\n"
     ]
    },
    {
     "name": "stderr",
     "output_type": "stream",
     "text": [
      "/home/jupyter/genomic_benchmarks/tools/utils.py:51: UserWarning: To copy construct from a tensor, it is recommended to use sourceTensor.clone().detach() or sourceTensor.clone().detach().requires_grad_(True), rather than torch.tensor(sourceTensor).\n",
      "  x = torch.tensor(tmp, dtype=torch.long)\n",
      "/opt/conda/envs/bench_env/lib/python3.8/site-packages/torch/nn/functional.py:652: UserWarning: Named tensors and all their associated APIs are an experimental feature and subject to change. Please do not use them for anything important until they are released as stable. (Triggered internally at  /opt/conda/conda-bld/pytorch_1623448278899/work/c10/core/TensorImpl.h:1156.)\n",
      "  return torch.max_pool1d(input, kernel_size, stride, padding, dilation, ceil_mode)\n"
     ]
    },
    {
     "name": "stdout",
     "output_type": "stream",
     "text": [
      "Epoch 1\n",
      "Epoch 2\n",
      "Epoch 3\n",
      "Epoch 4\n",
      "Epoch 5\n",
      "Epoch 6\n",
      "Epoch 7\n",
      "Epoch 8\n",
      "Epoch 9\n",
      "Epoch 10\n",
      "Epoch 11\n",
      "Epoch 12\n",
      "Epoch 13\n",
      "Epoch 14\n",
      "Epoch 15\n",
      "Epoch 16\n",
      "Epoch 17\n",
      "Epoch 18\n",
      "Epoch 19\n",
      "Epoch 20\n",
      "Epoch 21\n",
      "Epoch 22\n",
      "Epoch 23\n",
      "Epoch 24\n",
      "Epoch 25\n",
      "Epoch 26\n",
      "Epoch 27\n",
      "Epoch 28\n",
      "Epoch 29\n",
      "Epoch 30\n",
      "Epoch 31\n",
      "Epoch 32\n",
      "Epoch 33\n",
      "Epoch 34\n",
      "Epoch 35\n",
      "Epoch 36\n",
      "Epoch 37\n",
      "Epoch 38\n",
      "Epoch 39\n",
      "Epoch 40\n",
      "Epoch 41\n",
      "Epoch 42\n",
      "Epoch 43\n",
      "Epoch 44\n",
      "Epoch 45\n",
      "Epoch 46\n",
      "Epoch 47\n",
      "Epoch 48\n",
      "Epoch 49\n"
     ]
    }
   ],
   "source": [
    "# __init__(self, number_of_classes, vocab_size, embedding_dim, context_size):\n",
    "model = NeuralNetwork(\n",
    "    number_of_classes=1, \n",
    "    vocab_size=vocabulary.__len__(),\n",
    "    embedding_dim=5,\n",
    "    context_size=input_len\n",
    ").cuda()\n",
    "model.train(train_loader, epochs=50)"
   ]
  },
  {
   "cell_type": "code",
   "execution_count": 10,
   "metadata": {},
   "outputs": [
    {
     "name": "stdout",
     "output_type": "stream",
     "text": [
      "Reference fasta_cache/Mus_musculus.GRCm38.dna_rm.toplevel.fa.gz already exists. Skipping.\n"
     ]
    },
    {
     "data": {
      "application/vnd.jupyter.widget-view+json": {
       "model_id": "a138524e854f4e3eab79a7df45ce3d0f",
       "version_major": 2,
       "version_minor": 0
      },
      "text/plain": [
       "  0%|          | 0/21 [00:00<?, ?it/s]"
      ]
     },
     "metadata": {},
     "output_type": "display_data"
    },
    {
     "name": "stdout",
     "output_type": "stream",
     "text": [
      "test_loss  5.510492742061615\n",
      "num_batches 8\n",
      "correct 121\n",
      "size 242\n",
      "Test Error: \n",
      " Accuracy: 50.0%, Avg loss: 0.688812 \n",
      "\n"
     ]
    }
   ],
   "source": [
    "test_dset = get_dataset_fn('test', force_download=False)\n",
    "test_loader = DataLoader(test_dset, batch_size=32, shuffle=True, collate_fn=collate)\n",
    "model.test(test_loader)"
   ]
  },
  {
   "cell_type": "code",
   "execution_count": 12,
   "metadata": {},
   "outputs": [
    {
     "name": "stdout",
     "output_type": "stream",
     "text": [
      "embeddings.weight True\n",
      "conv1.weight True\n",
      "norm1.weight True\n",
      "norm1.bias True\n",
      "conv2.weight True\n",
      "norm2.weight True\n",
      "norm2.bias True\n",
      "conv3.weight True\n",
      "norm3.weight True\n",
      "norm3.bias True\n",
      "conv4.weight True\n",
      "norm4.weight True\n",
      "norm4.bias True\n",
      "lin1.weight True\n",
      "lin1.bias True\n",
      "lin2.weight True\n",
      "lin2.bias True\n"
     ]
    }
   ],
   "source": [
    "for name, param in model.named_parameters():\n",
    "    print(name, param.requires_grad)"
   ]
  },
  {
   "cell_type": "code",
   "execution_count": null,
   "metadata": {},
   "outputs": [],
   "source": []
  },
  {
   "cell_type": "code",
   "execution_count": null,
   "metadata": {},
   "outputs": [],
   "source": []
  }
 ],
 "metadata": {
  "environment": {
   "name": "pytorch-gpu.1-9.m75",
   "type": "gcloud",
   "uri": "gcr.io/deeplearning-platform-release/pytorch-gpu.1-9:m75"
  },
  "interpreter": {
   "hash": "9828b828580f1cac1b571b33de6cff8bacecc8916095e1bcbc967952ca7105b7"
  },
  "kernelspec": {
   "display_name": "Python [conda env:bench_env]",
   "language": "python",
   "name": "conda-env-bench_env-py"
  },
  "language_info": {
   "codemirror_mode": {
    "name": "ipython",
    "version": 3
   },
   "file_extension": ".py",
   "mimetype": "text/x-python",
   "name": "python",
   "nbconvert_exporter": "python",
   "pygments_lexer": "ipython3",
   "version": "3.8.10"
  }
 },
 "nbformat": 4,
 "nbformat_minor": 4
}
