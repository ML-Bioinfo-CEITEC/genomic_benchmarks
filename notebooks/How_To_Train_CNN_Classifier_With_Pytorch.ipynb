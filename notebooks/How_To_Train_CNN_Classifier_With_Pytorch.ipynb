{
  "nbformat": 4,
  "nbformat_minor": 0,
  "metadata": {
    "environment": {
      "name": "pytorch-gpu.1-9.m75",
      "type": "gcloud",
      "uri": "gcr.io/deeplearning-platform-release/pytorch-gpu.1-9:m75"
    },
    "interpreter": {
      "hash": "c0ce2704b40e8f5ab266e985c6dfdf52dff618cf568b21da2fc16697057ae39e"
    },
    "kernelspec": {
      "display_name": "Python 3 (ipykernel)",
      "language": "python",
      "name": "python3"
    },
    "language_info": {
      "codemirror_mode": {
        "name": "ipython",
        "version": 3
      },
      "file_extension": ".py",
      "mimetype": "text/x-python",
      "name": "python",
      "nbconvert_exporter": "python",
      "pygments_lexer": "ipython3",
      "version": "3.8.9"
    },
    "colab": {
      "name": "How_To_Train_CNN_Classifier_With_Pytorch.ipynb",
      "provenance": [],
      "collapsed_sections": [],
      "include_colab_link": true
    },
    "accelerator": "GPU"
  },
  "cells": [
    {
      "cell_type": "markdown",
      "metadata": {
        "id": "view-in-github",
        "colab_type": "text"
      },
      "source": [
        "<a href=\"https://colab.research.google.com/github/ML-Bioinfo-CEITEC/genomic_benchmarks/blob/main/notebooks/How_To_Train_CNN_Classifier_With_Pytorch.ipynb\" target=\"_parent\"><img src=\"https://colab.research.google.com/assets/colab-badge.svg\" alt=\"Open In Colab\"/></a>"
      ]
    },
    {
      "cell_type": "markdown",
      "metadata": {
        "id": "XyJNsvSFac3K"
      },
      "source": [
        "# How To Train CNN Classifier With Pytorch\n",
        "\n",
        "This notebook demonstrates how to use `genomic_benchmarks` to train a neural network classifier on one of its benchmark datasets [human_nontata_promoters](https://github.com/ML-Bioinfo-CEITEC/genomic_benchmarks/tree/main/docs/human_nontata_promoters)."
      ]
    },
    {
      "cell_type": "code",
      "metadata": {
        "colab": {
          "base_uri": "https://localhost:8080/"
        },
        "id": "uuhcuLhWapla",
        "outputId": "c823ee67-6737-45c3-be7e-653b1e402f06"
      },
      "source": [
        "pip install genomic-benchmarks"
      ],
      "execution_count": 1,
      "outputs": [
        {
          "output_type": "stream",
          "name": "stdout",
          "text": [
            "Collecting genomic-benchmarks\n",
            "  Downloading genomic_benchmarks-0.0.3.tar.gz (16 kB)\n",
            "Collecting biopython>=1.79\n",
            "  Downloading biopython-1.79-cp37-cp37m-manylinux_2_5_x86_64.manylinux1_x86_64.whl (2.3 MB)\n",
            "\u001b[K     |████████████████████████████████| 2.3 MB 5.7 MB/s \n",
            "\u001b[?25hRequirement already satisfied: requests>=2.23.0 in /usr/local/lib/python3.7/dist-packages (from genomic-benchmarks) (2.23.0)\n",
            "Requirement already satisfied: pip>=20.0.1 in /usr/local/lib/python3.7/dist-packages (from genomic-benchmarks) (21.1.3)\n",
            "Requirement already satisfied: numpy>=1.17.0 in /usr/local/lib/python3.7/dist-packages (from genomic-benchmarks) (1.19.5)\n",
            "Requirement already satisfied: pandas>=1.1.4 in /usr/local/lib/python3.7/dist-packages (from genomic-benchmarks) (1.1.5)\n",
            "Requirement already satisfied: tqdm>=4.41.1 in /usr/local/lib/python3.7/dist-packages (from genomic-benchmarks) (4.62.3)\n",
            "Collecting pyyaml>=5.3.1\n",
            "  Downloading PyYAML-6.0-cp37-cp37m-manylinux_2_5_x86_64.manylinux1_x86_64.manylinux_2_12_x86_64.manylinux2010_x86_64.whl (596 kB)\n",
            "\u001b[K     |████████████████████████████████| 596 kB 25.4 MB/s \n",
            "\u001b[?25hRequirement already satisfied: googledrivedownloader>=0.4 in /usr/local/lib/python3.7/dist-packages (from genomic-benchmarks) (0.4)\n",
            "Collecting yarl\n",
            "  Downloading yarl-1.7.2-cp37-cp37m-manylinux_2_5_x86_64.manylinux1_x86_64.manylinux_2_12_x86_64.manylinux2010_x86_64.whl (271 kB)\n",
            "\u001b[K     |████████████████████████████████| 271 kB 43.7 MB/s \n",
            "\u001b[?25hRequirement already satisfied: pytz>=2017.2 in /usr/local/lib/python3.7/dist-packages (from pandas>=1.1.4->genomic-benchmarks) (2018.9)\n",
            "Requirement already satisfied: python-dateutil>=2.7.3 in /usr/local/lib/python3.7/dist-packages (from pandas>=1.1.4->genomic-benchmarks) (2.8.2)\n",
            "Requirement already satisfied: six>=1.5 in /usr/local/lib/python3.7/dist-packages (from python-dateutil>=2.7.3->pandas>=1.1.4->genomic-benchmarks) (1.15.0)\n",
            "Requirement already satisfied: chardet<4,>=3.0.2 in /usr/local/lib/python3.7/dist-packages (from requests>=2.23.0->genomic-benchmarks) (3.0.4)\n",
            "Requirement already satisfied: idna<3,>=2.5 in /usr/local/lib/python3.7/dist-packages (from requests>=2.23.0->genomic-benchmarks) (2.10)\n",
            "Requirement already satisfied: urllib3!=1.25.0,!=1.25.1,<1.26,>=1.21.1 in /usr/local/lib/python3.7/dist-packages (from requests>=2.23.0->genomic-benchmarks) (1.24.3)\n",
            "Requirement already satisfied: certifi>=2017.4.17 in /usr/local/lib/python3.7/dist-packages (from requests>=2.23.0->genomic-benchmarks) (2021.10.8)\n",
            "Requirement already satisfied: typing-extensions>=3.7.4 in /usr/local/lib/python3.7/dist-packages (from yarl->genomic-benchmarks) (3.10.0.2)\n",
            "Collecting multidict>=4.0\n",
            "  Downloading multidict-5.2.0-cp37-cp37m-manylinux_2_5_x86_64.manylinux1_x86_64.manylinux_2_12_x86_64.manylinux2010_x86_64.whl (160 kB)\n",
            "\u001b[K     |████████████████████████████████| 160 kB 47.7 MB/s \n",
            "\u001b[?25hBuilding wheels for collected packages: genomic-benchmarks\n",
            "  Building wheel for genomic-benchmarks (setup.py) ... \u001b[?25l\u001b[?25hdone\n",
            "  Created wheel for genomic-benchmarks: filename=genomic_benchmarks-0.0.3-py3-none-any.whl size=17311 sha256=e61a257d48d8bf21a9c04afc2628e18cd8b68e50d79003f3018ce004d9190358\n",
            "  Stored in directory: /root/.cache/pip/wheels/34/4f/f6/401d087f70557375a949ecbd3cf43e9cf9dcfc971ea77c12db\n",
            "Successfully built genomic-benchmarks\n",
            "Installing collected packages: multidict, yarl, pyyaml, biopython, genomic-benchmarks\n",
            "  Attempting uninstall: pyyaml\n",
            "    Found existing installation: PyYAML 3.13\n",
            "    Uninstalling PyYAML-3.13:\n",
            "      Successfully uninstalled PyYAML-3.13\n",
            "Successfully installed biopython-1.79 genomic-benchmarks-0.0.3 multidict-5.2.0 pyyaml-6.0 yarl-1.7.2\n"
          ]
        }
      ]
    },
    {
      "cell_type": "code",
      "metadata": {
        "id": "mmKgWPNvac3W"
      },
      "source": [
        "import torch\n",
        "from torch.utils.data import DataLoader\n",
        "from torchtext.data.utils import get_tokenizer\n",
        "\n",
        "from genomic_benchmarks.dataset_getters.pytorch_datasets import HumanEnhancersCohn\n",
        "from genomic_benchmarks.models.torch import CNN\n",
        "from genomic_benchmarks.dataset_getters.utils import coll_factory, LetterTokenizer, build_vocab\n",
        "from genomic_benchmarks.data_check import info\n"
      ],
      "execution_count": 2,
      "outputs": []
    },
    {
      "cell_type": "markdown",
      "metadata": {
        "id": "1Ekph6Vqac3X"
      },
      "source": [
        "# Choose the dataset\n",
        "\n",
        "Create pytorch dataset object"
      ]
    },
    {
      "cell_type": "code",
      "metadata": {
        "colab": {
          "base_uri": "https://localhost:8080/"
        },
        "id": "9O1p1rMbac3X",
        "outputId": "235292b1-1843-48f7-e45a-33df91c85759"
      },
      "source": [
        "train_dset =  HumanEnhancersCohn('train', version=0)"
      ],
      "execution_count": 3,
      "outputs": [
        {
          "output_type": "stream",
          "name": "stdout",
          "text": [
            "Downloading 176563cDPQ5Y094WyoSBF02QjoVQhWuCh into /root/.genomic_benchmarks/human_enhancers_cohn.zip... Done.\n",
            "Unzipping...Done.\n"
          ]
        }
      ]
    },
    {
      "cell_type": "markdown",
      "metadata": {
        "id": "JACj9LGQac3Y"
      },
      "source": [
        "# Print out information about the dataset"
      ]
    },
    {
      "cell_type": "code",
      "metadata": {
        "colab": {
          "base_uri": "https://localhost:8080/",
          "height": 196
        },
        "id": "Vkg8YbBtac3Z",
        "outputId": "a2322191-7b8e-4f86-a722-de0cec910526"
      },
      "source": [
        "info(\"human_enhancers_cohn\", 0)"
      ],
      "execution_count": 4,
      "outputs": [
        {
          "output_type": "stream",
          "name": "stdout",
          "text": [
            "Dataset `human_enhancers_cohn` has 2 classes: negative, positive.\n",
            "\n",
            "All lenghts of genomic intervals equals 500.\n",
            "\n",
            "Totally 27791 sequences have been found, 20843 for training and 6948 for testing.\n"
          ]
        },
        {
          "output_type": "execute_result",
          "data": {
            "text/html": [
              "<div>\n",
              "<style scoped>\n",
              "    .dataframe tbody tr th:only-of-type {\n",
              "        vertical-align: middle;\n",
              "    }\n",
              "\n",
              "    .dataframe tbody tr th {\n",
              "        vertical-align: top;\n",
              "    }\n",
              "\n",
              "    .dataframe thead th {\n",
              "        text-align: right;\n",
              "    }\n",
              "</style>\n",
              "<table border=\"1\" class=\"dataframe\">\n",
              "  <thead>\n",
              "    <tr style=\"text-align: right;\">\n",
              "      <th></th>\n",
              "      <th>train</th>\n",
              "      <th>test</th>\n",
              "    </tr>\n",
              "  </thead>\n",
              "  <tbody>\n",
              "    <tr>\n",
              "      <th>negative</th>\n",
              "      <td>10422</td>\n",
              "      <td>3474</td>\n",
              "    </tr>\n",
              "    <tr>\n",
              "      <th>positive</th>\n",
              "      <td>10421</td>\n",
              "      <td>3474</td>\n",
              "    </tr>\n",
              "  </tbody>\n",
              "</table>\n",
              "</div>"
            ],
            "text/plain": [
              "          train  test\n",
              "negative  10422  3474\n",
              "positive  10421  3474"
            ]
          },
          "metadata": {},
          "execution_count": 4
        }
      ]
    },
    {
      "cell_type": "markdown",
      "metadata": {
        "id": "tO9Gs2tFac3a"
      },
      "source": [
        "# Tokenizer and vocab\n",
        "\n",
        "Create tokenizer for the dataset, so we can numericalize the data and feed them to neural network. \n",
        "From the dataset info we can notice that all sequences are of the same length, hence we will use no padding.\n"
      ]
    },
    {
      "cell_type": "code",
      "metadata": {
        "colab": {
          "base_uri": "https://localhost:8080/"
        },
        "id": "FRY9_1NRac3b",
        "outputId": "a065b89b-14c3-4fc2-91a3-8203ac2299ef"
      },
      "source": [
        "tokenizer = get_tokenizer(LetterTokenizer())\n",
        "vocabulary = build_vocab(train_dset, tokenizer, use_padding=False)\n",
        "\n",
        "print(\"vocab len:\" ,vocabulary.__len__())\n",
        "print(vocabulary.get_stoi())"
      ],
      "execution_count": 5,
      "outputs": [
        {
          "output_type": "stream",
          "name": "stdout",
          "text": [
            "vocab len: 7\n",
            "{'<eos>': 6, '<bos>': 1, '<unk>': 0, 'C': 2, 'A': 3, 'T': 4, 'G': 5}\n"
          ]
        }
      ]
    },
    {
      "cell_type": "markdown",
      "metadata": {
        "id": "tD8_bIg2ac3c"
      },
      "source": [
        "# Dataloader and batch preparation\n",
        "\n",
        "We will create pytorch data loader, which will preprocess and batch the data for the neural network."
      ]
    },
    {
      "cell_type": "code",
      "metadata": {
        "colab": {
          "base_uri": "https://localhost:8080/"
        },
        "id": "SVjAMp9Qac3d",
        "outputId": "0a0657b0-a2be-47c5-9e9e-f8591e07e782"
      },
      "source": [
        "device = 'cuda' if torch.cuda.is_available() else 'cpu'\n",
        "print('Using {} device'.format(device))\n",
        "\n",
        "collate = coll_factory(vocabulary, tokenizer, device, pad_to_length = None)\n",
        "train_loader = DataLoader(train_dset, batch_size=32, shuffle=True, collate_fn=collate)"
      ],
      "execution_count": 6,
      "outputs": [
        {
          "output_type": "stream",
          "name": "stdout",
          "text": [
            "Using cuda device\n"
          ]
        }
      ]
    },
    {
      "cell_type": "markdown",
      "metadata": {
        "id": "KfVIba63ac3d"
      },
      "source": [
        "# Model\n",
        "We will initialize our model.\n",
        "From the dataset info, we know that all inputs are 500 characters long, and the number of classes is 2."
      ]
    },
    {
      "cell_type": "code",
      "metadata": {
        "id": "KXHLGdMsac3e"
      },
      "source": [
        "model = CNN(\n",
        "    number_of_classes=2,\n",
        "    vocab_size=vocabulary.__len__(),\n",
        "    embedding_dim=100,\n",
        "    input_len=500\n",
        ").to(device)"
      ],
      "execution_count": 7,
      "outputs": []
    },
    {
      "cell_type": "markdown",
      "metadata": {
        "id": "rXSfvH6bac3e"
      },
      "source": [
        "## Training"
      ]
    },
    {
      "cell_type": "code",
      "metadata": {
        "colab": {
          "base_uri": "https://localhost:8080/"
        },
        "id": "FThlj7Y6ac3e",
        "outputId": "46f09464-8de3-4b0d-d479-3e1360253d45"
      },
      "source": [
        "model.train(train_loader, epochs=15)"
      ],
      "execution_count": 8,
      "outputs": [
        {
          "output_type": "stream",
          "name": "stdout",
          "text": [
            "Epoch 0\n",
            "Train metrics: \n",
            " Accuracy: 66.6%, Avg loss: 0.642394 \n",
            "\n",
            "Epoch 1\n",
            "Train metrics: \n",
            " Accuracy: 68.3%, Avg loss: 0.639536 \n",
            "\n",
            "Epoch 2\n",
            "Train metrics: \n",
            " Accuracy: 69.2%, Avg loss: 0.635860 \n",
            "\n",
            "Epoch 3\n",
            "Train metrics: \n",
            " Accuracy: 69.9%, Avg loss: 0.633593 \n",
            "\n",
            "Epoch 4\n",
            "Train metrics: \n",
            " Accuracy: 70.2%, Avg loss: 0.631239 \n",
            "\n",
            "Epoch 5\n",
            "Train metrics: \n",
            " Accuracy: 69.6%, Avg loss: 0.629804 \n",
            "\n",
            "Epoch 6\n",
            "Train metrics: \n",
            " Accuracy: 70.6%, Avg loss: 0.628481 \n",
            "\n",
            "Epoch 7\n",
            "Train metrics: \n",
            " Accuracy: 68.7%, Avg loss: 0.630534 \n",
            "\n",
            "Epoch 8\n",
            "Train metrics: \n",
            " Accuracy: 71.4%, Avg loss: 0.627743 \n",
            "\n",
            "Epoch 9\n",
            "Train metrics: \n",
            " Accuracy: 72.7%, Avg loss: 0.623673 \n",
            "\n",
            "Epoch 10\n",
            "Train metrics: \n",
            " Accuracy: 72.1%, Avg loss: 0.621493 \n",
            "\n",
            "Epoch 11\n",
            "Train metrics: \n",
            " Accuracy: 72.3%, Avg loss: 0.622850 \n",
            "\n",
            "Epoch 12\n",
            "Train metrics: \n",
            " Accuracy: 72.6%, Avg loss: 0.620830 \n",
            "\n",
            "Epoch 13\n",
            "Train metrics: \n",
            " Accuracy: 74.1%, Avg loss: 0.620416 \n",
            "\n",
            "Epoch 14\n",
            "Train metrics: \n",
            " Accuracy: 73.3%, Avg loss: 0.620259 \n",
            "\n"
          ]
        }
      ]
    },
    {
      "cell_type": "markdown",
      "metadata": {
        "id": "srzADCTJac3f"
      },
      "source": [
        "## Testing"
      ]
    },
    {
      "cell_type": "code",
      "metadata": {
        "colab": {
          "base_uri": "https://localhost:8080/"
        },
        "id": "akWdmV6nac3f",
        "outputId": "72824bae-4863-4541-8e10-bc4ee8a31193"
      },
      "source": [
        "test_dset = HumanEnhancersCohn('test', version=0)\n",
        "test_loader = DataLoader(test_dset, batch_size=32, shuffle=True, collate_fn=collate)\n",
        "\n",
        "model.test(test_loader)"
      ],
      "execution_count": 9,
      "outputs": [
        {
          "output_type": "stream",
          "name": "stdout",
          "text": [
            "test_loss  140.02356469631195\n",
            "num_batches 218\n",
            "correct 4789\n",
            "size 6948\n",
            "Test Error: \n",
            " Accuracy: 68.9%, Avg loss: 0.642310 \n",
            "\n"
          ]
        }
      ]
    }
  ]
}