{
  "nbformat": 4,
  "nbformat_minor": 5,
  "metadata": {
    "kernelspec": {
      "display_name": "Python 3 (ipykernel)",
      "language": "python",
      "name": "python3"
    },
    "language_info": {
      "codemirror_mode": {
        "name": "ipython",
        "version": 3
      },
      "file_extension": ".py",
      "mimetype": "text/x-python",
      "name": "python",
      "nbconvert_exporter": "python",
      "pygments_lexer": "ipython3",
      "version": "3.8.9"
    },
    "colab": {
      "name": "How_To_Train_CNN_Classifier_With_TF.ipynb",
      "provenance": [],
      "collapsed_sections": [],
      "include_colab_link": true
    },
    "accelerator": "GPU"
  },
  "cells": [
    {
      "cell_type": "markdown",
      "metadata": {
        "id": "view-in-github",
        "colab_type": "text"
      },
      "source": [
        "<a href=\"https://colab.research.google.com/github/ML-Bioinfo-CEITEC/genomic_benchmarks/blob/main/notebooks/How_To_Train_CNN_Classifier_With_TF.ipynb\" target=\"_parent\"><img src=\"https://colab.research.google.com/assets/colab-badge.svg\" alt=\"Open In Colab\"/></a>"
      ]
    },
    {
      "cell_type": "markdown",
      "metadata": {
        "id": "a0f8e486"
      },
      "source": [
        "# How To Train CNN Classifier With TF\n",
        "\n",
        "This notebook demonstrates how to use `genomic_benchmarks` to train a neural network classifier on one of its benchmark datasets [human_nontata_promoters](https://github.com/ML-Bioinfo-CEITEC/genomic_benchmarks/tree/main/docs/human_nontata_promoters)."
      ],
      "id": "a0f8e486"
    },
    {
      "cell_type": "code",
      "metadata": {
        "colab": {
          "base_uri": "https://localhost:8080/"
        },
        "id": "akPONjEhhr9m",
        "outputId": "5b9c5ccc-5fe7-4c5f-d554-543deadededd"
      },
      "source": [
        "pip install genomic-benchmarks"
      ],
      "id": "akPONjEhhr9m",
      "execution_count": 2,
      "outputs": [
        {
          "output_type": "stream",
          "name": "stdout",
          "text": [
            "Collecting git+https://github.com/ML-Bioinfo-CEITEC/genomic_benchmarks.git\n",
            "  Cloning https://github.com/ML-Bioinfo-CEITEC/genomic_benchmarks.git to /tmp/pip-req-build-ib04l8_s\n",
            "  Running command git clone -q https://github.com/ML-Bioinfo-CEITEC/genomic_benchmarks.git /tmp/pip-req-build-ib04l8_s\n",
            "Collecting biopython>=1.79\n",
            "  Downloading biopython-1.79-cp37-cp37m-manylinux_2_5_x86_64.manylinux1_x86_64.whl (2.3 MB)\n",
            "\u001b[K     |████████████████████████████████| 2.3 MB 5.3 MB/s \n",
            "\u001b[?25hRequirement already satisfied: requests>=2.23.0 in /usr/local/lib/python3.7/dist-packages (from genomic-benchmarks==0.0.3) (2.23.0)\n",
            "Requirement already satisfied: pip>=20.0.1 in /usr/local/lib/python3.7/dist-packages (from genomic-benchmarks==0.0.3) (21.1.3)\n",
            "Requirement already satisfied: numpy>=1.17.0 in /usr/local/lib/python3.7/dist-packages (from genomic-benchmarks==0.0.3) (1.19.5)\n",
            "Requirement already satisfied: pandas>=1.1.4 in /usr/local/lib/python3.7/dist-packages (from genomic-benchmarks==0.0.3) (1.1.5)\n",
            "Requirement already satisfied: tqdm>=4.41.1 in /usr/local/lib/python3.7/dist-packages (from genomic-benchmarks==0.0.3) (4.62.3)\n",
            "Collecting pyyaml>=5.3.1\n",
            "  Downloading PyYAML-6.0-cp37-cp37m-manylinux_2_5_x86_64.manylinux1_x86_64.manylinux_2_12_x86_64.manylinux2010_x86_64.whl (596 kB)\n",
            "\u001b[K     |████████████████████████████████| 596 kB 40.5 MB/s \n",
            "\u001b[?25hRequirement already satisfied: googledrivedownloader>=0.4 in /usr/local/lib/python3.7/dist-packages (from genomic-benchmarks==0.0.3) (0.4)\n",
            "Collecting yarl\n",
            "  Downloading yarl-1.7.2-cp37-cp37m-manylinux_2_5_x86_64.manylinux1_x86_64.manylinux_2_12_x86_64.manylinux2010_x86_64.whl (271 kB)\n",
            "\u001b[K     |████████████████████████████████| 271 kB 52.3 MB/s \n",
            "\u001b[?25hRequirement already satisfied: pytz>=2017.2 in /usr/local/lib/python3.7/dist-packages (from pandas>=1.1.4->genomic-benchmarks==0.0.3) (2018.9)\n",
            "Requirement already satisfied: python-dateutil>=2.7.3 in /usr/local/lib/python3.7/dist-packages (from pandas>=1.1.4->genomic-benchmarks==0.0.3) (2.8.2)\n",
            "Requirement already satisfied: six>=1.5 in /usr/local/lib/python3.7/dist-packages (from python-dateutil>=2.7.3->pandas>=1.1.4->genomic-benchmarks==0.0.3) (1.15.0)\n",
            "Requirement already satisfied: urllib3!=1.25.0,!=1.25.1,<1.26,>=1.21.1 in /usr/local/lib/python3.7/dist-packages (from requests>=2.23.0->genomic-benchmarks==0.0.3) (1.24.3)\n",
            "Requirement already satisfied: certifi>=2017.4.17 in /usr/local/lib/python3.7/dist-packages (from requests>=2.23.0->genomic-benchmarks==0.0.3) (2021.10.8)\n",
            "Requirement already satisfied: chardet<4,>=3.0.2 in /usr/local/lib/python3.7/dist-packages (from requests>=2.23.0->genomic-benchmarks==0.0.3) (3.0.4)\n",
            "Requirement already satisfied: idna<3,>=2.5 in /usr/local/lib/python3.7/dist-packages (from requests>=2.23.0->genomic-benchmarks==0.0.3) (2.10)\n",
            "Collecting multidict>=4.0\n",
            "  Downloading multidict-5.2.0-cp37-cp37m-manylinux_2_5_x86_64.manylinux1_x86_64.manylinux_2_12_x86_64.manylinux2010_x86_64.whl (160 kB)\n",
            "\u001b[K     |████████████████████████████████| 160 kB 47.7 MB/s \n",
            "\u001b[?25hRequirement already satisfied: typing-extensions>=3.7.4 in /usr/local/lib/python3.7/dist-packages (from yarl->genomic-benchmarks==0.0.3) (3.10.0.2)\n",
            "Building wheels for collected packages: genomic-benchmarks\n",
            "  Building wheel for genomic-benchmarks (setup.py) ... \u001b[?25l\u001b[?25hdone\n",
            "  Created wheel for genomic-benchmarks: filename=genomic_benchmarks-0.0.3-py3-none-any.whl size=25944 sha256=411bd9a709acbb5ed831116bc1a83e92ad16e4b014cd0b6d9a5759774af2fb96\n",
            "  Stored in directory: /tmp/pip-ephem-wheel-cache-5itcmaud/wheels/b2/22/e4/91b7bd669628972e32032ea3c61a4bf5d0d33bb752fe8674d5\n",
            "Successfully built genomic-benchmarks\n",
            "Installing collected packages: multidict, yarl, pyyaml, biopython, genomic-benchmarks\n",
            "  Attempting uninstall: pyyaml\n",
            "    Found existing installation: PyYAML 3.13\n",
            "    Uninstalling PyYAML-3.13:\n",
            "      Successfully uninstalled PyYAML-3.13\n",
            "Successfully installed biopython-1.79 genomic-benchmarks-0.0.3 multidict-5.2.0 pyyaml-6.0 yarl-1.7.2\n"
          ]
        }
      ]
    },
    {
      "cell_type": "markdown",
      "metadata": {
        "id": "3a06a600"
      },
      "source": [
        "# Data download\n",
        "\n",
        "With the function `download_dataset` downloads, we can download full-sequence form of the benchmark, splitted into train and test sets, one folder for each class."
      ],
      "id": "3a06a600"
    },
    {
      "cell_type": "code",
      "metadata": {
        "colab": {
          "base_uri": "https://localhost:8080/"
        },
        "id": "1a57e0d2",
        "outputId": "70c1d7ba-5995-4573-ec54-a2c22d20f09c"
      },
      "source": [
        "from pathlib import Path\n",
        "import tensorflow as tf\n",
        "\n",
        "from genomic_benchmarks.loc2seq import download_dataset\n",
        "from genomic_benchmarks.data_check import is_downloaded, info\n",
        "from genomic_benchmarks.models.tf import vectorize_layer\n",
        "from genomic_benchmarks.models.tf import basic_cnn_model_v0 as model\n",
        "\n",
        "if not is_downloaded('human_nontata_promoters'):\n",
        "    download_dataset('human_nontata_promoters')"
      ],
      "id": "1a57e0d2",
      "execution_count": 3,
      "outputs": [
        {
          "output_type": "stream",
          "name": "stderr",
          "text": [
            "/usr/local/lib/python3.7/dist-packages/genomic_benchmarks/utils/datasets.py:11: TqdmExperimentalWarning: Using `tqdm.autonotebook.tqdm` in notebook mode. Use `tqdm.tqdm` instead to force console mode (e.g. in jupyter console)\n",
            "  from tqdm.autonotebook import tqdm\n"
          ]
        },
        {
          "output_type": "stream",
          "name": "stdout",
          "text": [
            "Downloading 1VdUg0Zu8yfLS6QesBXwGz1PIQrTW3Ze4 into /root/.genomic_benchmarks/human_nontata_promoters.zip... "
          ]
        },
        {
          "output_type": "stream",
          "name": "stderr",
          "text": [
            "/usr/local/lib/python3.7/dist-packages/genomic_benchmarks/utils/datasets.py:50: UserWarning: No version specified. Using version 0.\n",
            "  warnings.warn(f\"No version specified. Using version {metadata['version']}.\")\n"
          ]
        },
        {
          "output_type": "stream",
          "name": "stdout",
          "text": [
            "Done.\n",
            "Unzipping...Done.\n"
          ]
        }
      ]
    },
    {
      "cell_type": "code",
      "metadata": {
        "colab": {
          "base_uri": "https://localhost:8080/",
          "height": 196
        },
        "id": "ef313c21",
        "outputId": "059cb8ee-cd74-441e-a33b-1b10e4b687a4"
      },
      "source": [
        "info('human_nontata_promoters', 0)"
      ],
      "id": "ef313c21",
      "execution_count": 4,
      "outputs": [
        {
          "output_type": "stream",
          "name": "stdout",
          "text": [
            "Dataset `human_nontata_promoters` has 2 classes: negative, positive.\n",
            "\n",
            "All lenghts of genomic intervals equals 251.\n",
            "\n",
            "Totally 36131 sequences have been found, 27097 for training and 9034 for testing.\n"
          ]
        },
        {
          "output_type": "execute_result",
          "data": {
            "text/html": [
              "<div>\n",
              "<style scoped>\n",
              "    .dataframe tbody tr th:only-of-type {\n",
              "        vertical-align: middle;\n",
              "    }\n",
              "\n",
              "    .dataframe tbody tr th {\n",
              "        vertical-align: top;\n",
              "    }\n",
              "\n",
              "    .dataframe thead th {\n",
              "        text-align: right;\n",
              "    }\n",
              "</style>\n",
              "<table border=\"1\" class=\"dataframe\">\n",
              "  <thead>\n",
              "    <tr style=\"text-align: right;\">\n",
              "      <th></th>\n",
              "      <th>train</th>\n",
              "      <th>test</th>\n",
              "    </tr>\n",
              "  </thead>\n",
              "  <tbody>\n",
              "    <tr>\n",
              "      <th>negative</th>\n",
              "      <td>12355</td>\n",
              "      <td>4119</td>\n",
              "    </tr>\n",
              "    <tr>\n",
              "      <th>positive</th>\n",
              "      <td>14742</td>\n",
              "      <td>4915</td>\n",
              "    </tr>\n",
              "  </tbody>\n",
              "</table>\n",
              "</div>"
            ],
            "text/plain": [
              "          train  test\n",
              "negative  12355  4119\n",
              "positive  14742  4915"
            ]
          },
          "metadata": {},
          "execution_count": 4
        }
      ]
    },
    {
      "cell_type": "markdown",
      "metadata": {
        "id": "f4ce24e0"
      },
      "source": [
        "## TF Dataset object\n",
        "\n",
        "To train the model with TensorFlow, we must create a TF Dataset. Because the directory structure of our benchmarks is ready for training, we can just call `tf.keras.preprocessing.text_dataset_from_directory` function as follows."
      ],
      "id": "f4ce24e0"
    },
    {
      "cell_type": "code",
      "metadata": {
        "colab": {
          "base_uri": "https://localhost:8080/"
        },
        "id": "409118c7",
        "outputId": "7ff1886f-a615-48b6-ead5-948d270722a0"
      },
      "source": [
        "BATCH_SIZE = 64\n",
        "SEQ_PATH = Path.home() / '.genomic_benchmarks' / 'human_nontata_promoters'\n",
        "CLASSES = [x.stem for x in (SEQ_PATH/'train').iterdir() if x.is_dir()]\n",
        "\n",
        "train_dset = tf.keras.preprocessing.text_dataset_from_directory(\n",
        "    SEQ_PATH / 'train',\n",
        "    batch_size=BATCH_SIZE,\n",
        "    class_names=CLASSES)"
      ],
      "id": "409118c7",
      "execution_count": 5,
      "outputs": [
        {
          "output_type": "stream",
          "name": "stdout",
          "text": [
            "Found 27097 files belonging to 2 classes.\n"
          ]
        }
      ]
    },
    {
      "cell_type": "markdown",
      "metadata": {
        "id": "ef9706c8"
      },
      "source": [
        "## Text vectorization\n",
        "\n",
        "To convert the strings to tensors, we internally use TF `TextVectorization` layer and splitting to characters."
      ],
      "id": "ef9706c8"
    },
    {
      "cell_type": "code",
      "metadata": {
        "colab": {
          "base_uri": "https://localhost:8080/"
        },
        "id": "60ac5547",
        "outputId": "38251e46-7a0b-4e4a-d071-2e1eabea8e34"
      },
      "source": [
        "vectorize_layer.adapt(train_dset.map(lambda x, y: x))\n",
        "#vectorize_layer.set_vocabulary(vocab=np.asarray(['a', 'c', 't', 'g', 'n']))\n",
        "vectorize_layer.get_vocabulary()"
      ],
      "id": "60ac5547",
      "execution_count": 6,
      "outputs": [
        {
          "output_type": "execute_result",
          "data": {
            "text/plain": [
              "['', '[UNK]', 'g', 'c', 't', 'a']"
            ]
          },
          "metadata": {},
          "execution_count": 6
        }
      ]
    },
    {
      "cell_type": "code",
      "metadata": {
        "id": "6a5c8a30"
      },
      "source": [
        "def vectorize_text(text, label):\n",
        "  text = tf.expand_dims(text, -1)\n",
        "  return vectorize_layer(text)-2, label\n",
        "\n",
        "train_ds = train_dset.map(vectorize_text)"
      ],
      "id": "6a5c8a30",
      "execution_count": 7,
      "outputs": []
    },
    {
      "cell_type": "markdown",
      "metadata": {
        "id": "2216d2dd"
      },
      "source": [
        "## Model training\n",
        "\n",
        "To get a baseline (other models can be compared to) we ship a package with [a simple CNN model](https://github.com/ML-Bioinfo-CEITEC/genomic_benchmarks/blob/main/src/genomic_benchmarks/models/tf.py). We have vectorized the dataset before training the model to speed up the process."
      ],
      "id": "2216d2dd"
    },
    {
      "cell_type": "code",
      "metadata": {
        "id": "2fbf777e"
      },
      "source": [
        "model.compile(loss=tf.keras.losses.BinaryCrossentropy(from_logits=True),\n",
        "              optimizer='adam',\n",
        "              metrics=tf.metrics.BinaryAccuracy(threshold=0.0))"
      ],
      "id": "2fbf777e",
      "execution_count": 8,
      "outputs": []
    },
    {
      "cell_type": "code",
      "metadata": {
        "colab": {
          "base_uri": "https://localhost:8080/"
        },
        "id": "57ae2ebd",
        "outputId": "95fb0586-76e7-4bee-e3ee-a8c775760a2d"
      },
      "source": [
        "EPOCHS = 10\n",
        "\n",
        "history = model.fit(\n",
        "    train_ds,\n",
        "    epochs=EPOCHS)"
      ],
      "id": "57ae2ebd",
      "execution_count": 9,
      "outputs": [
        {
          "output_type": "stream",
          "name": "stdout",
          "text": [
            "Epoch 1/10\n",
            "424/424 [==============================] - 43s 26ms/step - loss: 0.4436 - binary_accuracy: 0.7975\n",
            "Epoch 2/10\n",
            "424/424 [==============================] - 11s 26ms/step - loss: 0.3861 - binary_accuracy: 0.8257\n",
            "Epoch 3/10\n",
            "424/424 [==============================] - 11s 25ms/step - loss: 0.3606 - binary_accuracy: 0.8403\n",
            "Epoch 4/10\n",
            "424/424 [==============================] - 11s 25ms/step - loss: 0.3402 - binary_accuracy: 0.8509\n",
            "Epoch 5/10\n",
            "424/424 [==============================] - 11s 26ms/step - loss: 0.3198 - binary_accuracy: 0.8589\n",
            "Epoch 6/10\n",
            "424/424 [==============================] - 11s 25ms/step - loss: 0.3058 - binary_accuracy: 0.8653\n",
            "Epoch 7/10\n",
            "424/424 [==============================] - 11s 25ms/step - loss: 0.2954 - binary_accuracy: 0.8716\n",
            "Epoch 8/10\n",
            "424/424 [==============================] - 11s 25ms/step - loss: 0.2816 - binary_accuracy: 0.8803\n",
            "Epoch 9/10\n",
            "424/424 [==============================] - 11s 26ms/step - loss: 0.2699 - binary_accuracy: 0.8847\n",
            "Epoch 10/10\n",
            "424/424 [==============================] - 11s 26ms/step - loss: 0.2618 - binary_accuracy: 0.8894\n"
          ]
        }
      ]
    },
    {
      "cell_type": "markdown",
      "metadata": {
        "id": "5bae33fa"
      },
      "source": [
        "## Evaluation on the test set\n",
        "\n",
        "Finally, we can do the same pre-processing for the test set and evaluate the F1 score of our model."
      ],
      "id": "5bae33fa"
    },
    {
      "cell_type": "code",
      "metadata": {
        "colab": {
          "base_uri": "https://localhost:8080/"
        },
        "id": "38e009a1",
        "outputId": "60fc6e58-383f-4fc8-e2b7-66f18efbeaff"
      },
      "source": [
        "test_dset = tf.keras.preprocessing.text_dataset_from_directory(\n",
        "    SEQ_PATH / 'test',\n",
        "    batch_size=BATCH_SIZE,\n",
        "    class_names=CLASSES,\n",
        "    shuffle=False)\n",
        "\n",
        "test_ds =  test_dset.map(vectorize_text)"
      ],
      "id": "38e009a1",
      "execution_count": 10,
      "outputs": [
        {
          "output_type": "stream",
          "name": "stdout",
          "text": [
            "Found 9034 files belonging to 2 classes.\n"
          ]
        }
      ]
    },
    {
      "cell_type": "code",
      "metadata": {
        "id": "ZHwflvhN9Jia",
        "outputId": "0edbc2e7-91e0-495f-d702-41983847a973",
        "colab": {
          "base_uri": "https://localhost:8080/"
        }
      },
      "source": [
        "from sklearn.metrics import f1_score\n",
        "from genomic_benchmarks.data_check.info import labels_in_order\n",
        "\n",
        "predictions = [int(x[0] > 0) for x in model.predict(test_ds)]\n",
        "labels = labels_in_order(dset_name='human_nontata_promoters')\n",
        "f1_score(labels, predictions)\n"
      ],
      "id": "ZHwflvhN9Jia",
      "execution_count": 11,
      "outputs": [
        {
          "output_type": "execute_result",
          "data": {
            "text/plain": [
              "0.8238763713577917"
            ]
          },
          "metadata": {},
          "execution_count": 11
        }
      ]
    }
  ]
}