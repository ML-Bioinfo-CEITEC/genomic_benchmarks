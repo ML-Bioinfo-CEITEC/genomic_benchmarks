{
 "cells": [
  {
   "cell_type": "code",
   "execution_count": 1,
   "metadata": {},
   "outputs": [],
   "source": [
    "%load_ext autoreload\n",
    "%autoreload 2"
   ]
  },
  {
   "cell_type": "code",
   "execution_count": 2,
   "metadata": {},
   "outputs": [
    {
     "name": "stderr",
     "output_type": "stream",
     "text": [
      "/home/petr/projects/genomic_benchmarks/src/genomic_benchmarks/loc2seq/with_biopython.py:8: TqdmExperimentalWarning: Using `tqdm.autonotebook.tqdm` in notebook mode. Use `tqdm.tqdm` instead to force console mode (e.g. in jupyter console)\n",
      "  from tqdm.autonotebook import tqdm\n"
     ]
    }
   ],
   "source": [
    "from genomic_benchmarks.loc2seq import download_dataset"
   ]
  },
  {
   "cell_type": "markdown",
   "metadata": {},
   "source": [
    "## Transforming demo datasets"
   ]
  },
  {
   "cell_type": "code",
   "execution_count": 4,
   "metadata": {},
   "outputs": [
    {
     "name": "stdout",
     "output_type": "stream",
     "text": [
      "Reference /home/petr/.genomic_benchmarks/fasta/Homo_sapiens.GRCh38.dna.toplevel.fa.gz already exists. Skipping.\n",
      "Reference /home/petr/.genomic_benchmarks/fasta/Homo_sapiens.GRCh38.cdna.all.fa.gz already exists. Skipping.\n"
     ]
    },
    {
     "name": "stderr",
     "output_type": "stream",
     "text": [
      "/home/petr/projects/genomic_benchmarks/src/genomic_benchmarks/loc2seq/with_biopython.py:87: UserWarning: No version specified. Using version 0.\n",
      "  warnings.warn(f\"No version specified. Using version {metadata['version']}.\")\n"
     ]
    },
    {
     "data": {
      "application/vnd.jupyter.widget-view+json": {
       "model_id": "aecfa4c98b9440b6892add113f1a9f5a",
       "version_major": 2,
       "version_minor": 0
      },
      "text/plain": [
       "  0%|          | 0/24 [00:00<?, ?it/s]"
      ]
     },
     "metadata": {},
     "output_type": "display_data"
    },
    {
     "data": {
      "application/vnd.jupyter.widget-view+json": {
       "model_id": "7ada099fd5cc47369c23cf7282df698c",
       "version_major": 2,
       "version_minor": 0
      },
      "text/plain": [
       "  0%|          | 0/190000 [00:00<?, ?it/s]"
      ]
     },
     "metadata": {},
     "output_type": "display_data"
    },
    {
     "data": {
      "text/plain": [
       "PosixPath('/home/petr/.genomic_benchmarks/demo_coding_vs_intergenomic_seqs')"
      ]
     },
     "execution_count": 4,
     "metadata": {},
     "output_type": "execute_result"
    }
   ],
   "source": [
    "download_dataset(\"demo_coding_vs_intergenomic_seqs\")"
   ]
  },
  {
   "cell_type": "code",
   "execution_count": 5,
   "metadata": {},
   "outputs": [
    {
     "name": "stdout",
     "output_type": "stream",
     "text": [
      "Reference /home/petr/.genomic_benchmarks/fasta/Mus_musculus.GRCm38.dna_rm.toplevel.fa.gz already exists. Skipping.\n"
     ]
    },
    {
     "data": {
      "application/vnd.jupyter.widget-view+json": {
       "model_id": "1d53dc5311494178b3ff8c6a8e5fbc11",
       "version_major": 2,
       "version_minor": 0
      },
      "text/plain": [
       "  0%|          | 0/21 [00:00<?, ?it/s]"
      ]
     },
     "metadata": {},
     "output_type": "display_data"
    },
    {
     "data": {
      "text/plain": [
       "PosixPath('/home/petr/.genomic_benchmarks/demo_mouse_enhancers')"
      ]
     },
     "execution_count": 5,
     "metadata": {},
     "output_type": "execute_result"
    }
   ],
   "source": [
    "download_dataset(\"demo_mouse_enhancers\", version=0)"
   ]
  },
  {
   "cell_type": "markdown",
   "metadata": {},
   "source": [
    "## Checking the output"
   ]
  },
  {
   "cell_type": "code",
   "execution_count": 6,
   "metadata": {},
   "outputs": [
    {
     "name": "stdout",
     "output_type": "stream",
     "text": [
      "demo_coding_vs_intergenomic_seqs  fasta\r\n",
      "demo_mouse_enhancers\t\t  human_nontata_promoters\r\n"
     ]
    }
   ],
   "source": [
    "!ls ~/.genomic_benchmarks/"
   ]
  },
  {
   "cell_type": "code",
   "execution_count": 7,
   "metadata": {},
   "outputs": [
    {
     "name": "stdout",
     "output_type": "stream",
     "text": [
      "test  train\r\n"
     ]
    }
   ],
   "source": [
    "!ls ~/.genomic_benchmarks/demo_mouse_enhancers"
   ]
  },
  {
   "cell_type": "code",
   "execution_count": 8,
   "metadata": {},
   "outputs": [
    {
     "name": "stdout",
     "output_type": "stream",
     "text": [
      "negative  positive\r\n"
     ]
    }
   ],
   "source": [
    "!ls ~/.genomic_benchmarks/demo_mouse_enhancers/test"
   ]
  },
  {
   "cell_type": "code",
   "execution_count": 9,
   "metadata": {},
   "outputs": [
    {
     "name": "stdout",
     "output_type": "stream",
     "text": [
      "0.txt\t 112.txt  16.txt  29.txt  41.txt  54.txt  67.txt  7.txt   92.txt\r\n",
      "100.txt  113.txt  17.txt  2.txt   42.txt  55.txt  68.txt  80.txt  93.txt\r\n",
      "101.txt  114.txt  18.txt  30.txt  43.txt  56.txt  69.txt  81.txt  94.txt\r\n",
      "102.txt  115.txt  19.txt  31.txt  44.txt  57.txt  6.txt   82.txt  95.txt\r\n",
      "103.txt  116.txt  1.txt   32.txt  45.txt  58.txt  70.txt  83.txt  96.txt\r\n",
      "104.txt  117.txt  20.txt  33.txt  46.txt  59.txt  71.txt  84.txt  97.txt\r\n",
      "105.txt  118.txt  21.txt  34.txt  47.txt  5.txt   72.txt  85.txt  98.txt\r\n",
      "106.txt  119.txt  22.txt  35.txt  48.txt  60.txt  73.txt  86.txt  99.txt\r\n",
      "107.txt  11.txt   23.txt  36.txt  49.txt  61.txt  74.txt  87.txt  9.txt\r\n",
      "108.txt  120.txt  24.txt  37.txt  4.txt   62.txt  75.txt  88.txt\r\n",
      "109.txt  12.txt   25.txt  38.txt  50.txt  63.txt  76.txt  89.txt\r\n",
      "10.txt\t 13.txt   26.txt  39.txt  51.txt  64.txt  77.txt  8.txt\r\n",
      "110.txt  14.txt   27.txt  3.txt   52.txt  65.txt  78.txt  90.txt\r\n",
      "111.txt  15.txt   28.txt  40.txt  53.txt  66.txt  79.txt  91.txt\r\n"
     ]
    }
   ],
   "source": [
    "!ls ~/.genomic_benchmarks/demo_mouse_enhancers/test/negative"
   ]
  },
  {
   "cell_type": "code",
   "execution_count": 10,
   "metadata": {},
   "outputs": [
    {
     "name": "stdout",
     "output_type": "stream",
     "text": [
      "NNNNNNNNNNNNNNNNNNNNNNNNNNNNNNNNNNNNNNNNNNNNNNNNNNNNGTCACACATACAGAATCATTTCATAAGTGGAGAGATACTTACCATGGTAGATAGACCCTCAATTGTAACTATAATTATATATGGCAAACACAAGGGCACTATCCTTTGAAGTTTAGACTTGGAAAAACACTTTTCTACGGNNNNNNNNNNNNNNNNNNNNNNNNNNNNNNNNNNNNNNNNNNNNNNNNNNNNNNNNNNNNNNNNNNNNNNNNNNNNNNNNNNNNNNNNNNNNNNNNNNNNNNNNNNNNNNNNNNNNNNNNNNNNNNNNNNNNNNNNNNNNNNNNNNNNNNNNNNNNNNNNNNNNNNNNNNNNNNNNNNNNNNNNNNNNNNNNNNNNNNNNNNNNNNNNNNNNNNNNNNNNNNNNNNNNNNNNNNNNNNNNNNNNNNNNNNNNNNNNNNNNNNNNNNNNNNNNNNNNNNNNNNNNNNNNNNNNNNNNNNNNNNNNNNNNGACAGCCTGTCAACCAGAGAAAAAAATTTTTCAAACTTTACGTGATAGCCAGCTTGTAAATTTGGCAGCCTATGCAATCTGCACAGGAAAGGCAACTTCACACATACTCCAAAAGAACAAGAAATCATATATCTTTTTTACCCTCTAAAGACTGGGTCTTGAAACAGAGGCCTCTTGGACAGCACACTAGACTCATGTAA"
     ]
    }
   ],
   "source": [
    "!cat ~/.genomic_benchmarks/demo_mouse_enhancers/test/negative/0.txt"
   ]
  },
  {
   "cell_type": "code",
   "execution_count": null,
   "metadata": {},
   "outputs": [],
   "source": []
  }
 ],
 "metadata": {
  "kernelspec": {
   "display_name": "Python 3 (ipykernel)",
   "language": "python",
   "name": "python3"
  },
  "language_info": {
   "codemirror_mode": {
    "name": "ipython",
    "version": 3
   },
   "file_extension": ".py",
   "mimetype": "text/x-python",
   "name": "python",
   "nbconvert_exporter": "python",
   "pygments_lexer": "ipython3",
   "version": "3.8.9"
  }
 },
 "nbformat": 4,
 "nbformat_minor": 4
}
