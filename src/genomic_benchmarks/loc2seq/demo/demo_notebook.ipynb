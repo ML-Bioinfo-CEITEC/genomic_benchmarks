{
 "cells": [
  {
   "cell_type": "code",
   "execution_count": 7,
   "metadata": {},
   "outputs": [
    {
     "name": "stdout",
     "output_type": "stream",
     "text": [
      "The autoreload extension is already loaded. To reload it, use:\n",
      "  %reload_ext autoreload\n"
     ]
    }
   ],
   "source": [
    "%load_ext autoreload\n",
    "%autoreload 2"
   ]
  },
  {
   "cell_type": "code",
   "execution_count": 8,
   "metadata": {},
   "outputs": [],
   "source": [
    "from genomic_benchmarks.loc2seq import download_dataset"
   ]
  },
  {
   "cell_type": "markdown",
   "metadata": {},
   "source": [
    "## Transforming demo datasets"
   ]
  },
  {
   "cell_type": "code",
   "execution_count": 9,
   "metadata": {},
   "outputs": [
    {
     "name": "stdout",
     "output_type": "stream",
     "text": [
      "Reference /Users/katarina/.genomic_benchmarks/fasta/Homo_sapiens.GRCh38.cdna.all.fa.gz already exists. Skipping.\n",
      "Reference /Users/katarina/.genomic_benchmarks/fasta/Homo_sapiens.GRCh38.dna.toplevel.fa.gz already exists. Skipping.\n"
     ]
    },
    {
     "name": "stderr",
     "output_type": "stream",
     "text": [
      "/Users/katarina/Documents/repositories/GitHub/genomic_benchmarks/src/genomic_benchmarks/loc2seq/with_biopython.py:87: UserWarning: No version specified. Using version 0.\n",
      "  warnings.warn(f\"No version specified. Using version {metadata['version']}.\")\n"
     ]
    },
    {
     "data": {
      "text/plain": "  0%|          | 0/190000 [00:00<?, ?it/s]",
      "application/vnd.jupyter.widget-view+json": {
       "version_major": 2,
       "version_minor": 0,
       "model_id": "4fd0c6c83e624433a524d1d31e8596bb"
      }
     },
     "metadata": {},
     "output_type": "display_data"
    },
    {
     "data": {
      "text/plain": "  0%|          | 0/24 [00:00<?, ?it/s]",
      "application/vnd.jupyter.widget-view+json": {
       "version_major": 2,
       "version_minor": 0,
       "model_id": "24e9787afa17492b9843a09cb40132da"
      }
     },
     "metadata": {},
     "output_type": "display_data"
    },
    {
     "data": {
      "text/plain": "PosixPath('/Users/katarina/.genomic_benchmarks/demo_coding_vs_intergenomic_seqs')"
     },
     "execution_count": 9,
     "metadata": {},
     "output_type": "execute_result"
    }
   ],
   "source": [
    "download_dataset(\"demo_coding_vs_intergenomic_seqs\")"
   ]
  },
  {
   "cell_type": "code",
   "execution_count": 10,
   "metadata": {},
   "outputs": [
    {
     "name": "stdout",
     "output_type": "stream",
     "text": [
      "Reference /Users/katarina/.genomic_benchmarks/fasta/Mus_musculus.GRCm38.dna_rm.toplevel.fa.gz already exists. Skipping.\n"
     ]
    },
    {
     "data": {
      "text/plain": "  0%|          | 0/21 [00:00<?, ?it/s]",
      "application/vnd.jupyter.widget-view+json": {
       "version_major": 2,
       "version_minor": 0,
       "model_id": "c9c819a16fe048319b2e02c7692e2130"
      }
     },
     "metadata": {},
     "output_type": "display_data"
    },
    {
     "data": {
      "text/plain": "PosixPath('/Users/katarina/.genomic_benchmarks/demo_mouse_enhancers')"
     },
     "execution_count": 10,
     "metadata": {},
     "output_type": "execute_result"
    }
   ],
   "source": [
    "download_dataset(\"demo_mouse_enhancers\", version=0)"
   ]
  },
  {
   "cell_type": "markdown",
   "metadata": {},
   "source": [
    "## Checking the output"
   ]
  },
  {
   "cell_type": "code",
   "execution_count": 11,
   "metadata": {},
   "outputs": [
    {
     "name": "stdout",
     "output_type": "stream",
     "text": [
      "\u001B[34mdemo_coding_vs_intergenomic_seqs\u001B[m\u001B[m \u001B[34mfasta\u001B[m\u001B[m\r\n",
      "\u001B[34mdemo_mouse_enhancers\u001B[m\u001B[m\r\n"
     ]
    }
   ],
   "source": [
    "!ls ~/.genomic_benchmarks/"
   ]
  },
  {
   "cell_type": "code",
   "execution_count": 12,
   "metadata": {},
   "outputs": [
    {
     "name": "stdout",
     "output_type": "stream",
     "text": [
      "\u001B[34mtest\u001B[m\u001B[m  \u001B[34mtrain\u001B[m\u001B[m\r\n"
     ]
    }
   ],
   "source": [
    "!ls ~/.genomic_benchmarks/demo_mouse_enhancers"
   ]
  },
  {
   "cell_type": "code",
   "execution_count": 13,
   "metadata": {},
   "outputs": [
    {
     "name": "stdout",
     "output_type": "stream",
     "text": [
      "\u001B[34mnegative\u001B[m\u001B[m \u001B[34mpositive\u001B[m\u001B[m\r\n"
     ]
    }
   ],
   "source": [
    "!ls ~/.genomic_benchmarks/demo_mouse_enhancers/test"
   ]
  },
  {
   "cell_type": "code",
   "execution_count": 14,
   "metadata": {},
   "outputs": [
    {
     "name": "stdout",
     "output_type": "stream",
     "text": [
      "0.txt   11.txt  13.txt  25.txt  37.txt  49.txt  60.txt  72.txt  84.txt  96.txt\r\n",
      "1.txt   110.txt 14.txt  26.txt  38.txt  5.txt   61.txt  73.txt  85.txt  97.txt\r\n",
      "10.txt  111.txt 15.txt  27.txt  39.txt  50.txt  62.txt  74.txt  86.txt  98.txt\r\n",
      "100.txt 112.txt 16.txt  28.txt  4.txt   51.txt  63.txt  75.txt  87.txt  99.txt\r\n",
      "101.txt 113.txt 17.txt  29.txt  40.txt  52.txt  64.txt  76.txt  88.txt\r\n",
      "102.txt 114.txt 18.txt  3.txt   41.txt  53.txt  65.txt  77.txt  89.txt\r\n",
      "103.txt 115.txt 19.txt  30.txt  42.txt  54.txt  66.txt  78.txt  9.txt\r\n",
      "104.txt 116.txt 2.txt   31.txt  43.txt  55.txt  67.txt  79.txt  90.txt\r\n",
      "105.txt 117.txt 20.txt  32.txt  44.txt  56.txt  68.txt  8.txt   91.txt\r\n",
      "106.txt 118.txt 21.txt  33.txt  45.txt  57.txt  69.txt  80.txt  92.txt\r\n",
      "107.txt 119.txt 22.txt  34.txt  46.txt  58.txt  7.txt   81.txt  93.txt\r\n",
      "108.txt 12.txt  23.txt  35.txt  47.txt  59.txt  70.txt  82.txt  94.txt\r\n",
      "109.txt 120.txt 24.txt  36.txt  48.txt  6.txt   71.txt  83.txt  95.txt\r\n"
     ]
    }
   ],
   "source": [
    "!ls ~/.genomic_benchmarks/demo_mouse_enhancers/test/negative"
   ]
  },
  {
   "cell_type": "code",
   "execution_count": 15,
   "metadata": {},
   "outputs": [
    {
     "name": "stdout",
     "output_type": "stream",
     "text": [
      "NNNNNNNNNNNNNNNNNNNNNNNNNNNNNNNNNNNNNNNNNNNNNNNNNNNNGTCACACATACAGAATCATTTCATAAGTGGAGAGATACTTACCATGGTAGATAGACCCTCAATTGTAACTATAATTATATATGGCAAACACAAGGGCACTATCCTTTGAAGTTTAGACTTGGAAAAACACTTTTCTACGGNNNNNNNNNNNNNNNNNNNNNNNNNNNNNNNNNNNNNNNNNNNNNNNNNNNNNNNNNNNNNNNNNNNNNNNNNNNNNNNNNNNNNNNNNNNNNNNNNNNNNNNNNNNNNNNNNNNNNNNNNNNNNNNNNNNNNNNNNNNNNNNNNNNNNNNNNNNNNNNNNNNNNNNNNNNNNNNNNNNNNNNNNNNNNNNNNNNNNNNNNNNNNNNNNNNNNNNNNNNNNNNNNNNNNNNNNNNNNNNNNNNNNNNNNNNNNNNNNNNNNNNNNNNNNNNNNNNNNNNNNNNNNNNNNNNNNNNNNNNNNNNNNNNNGACAGCCTGTCAACCAGAGAAAAAAATTTTTCAAACTTTACGTGATAGCCAGCTTGTAAATTTGGCAGCCTATGCAATCTGCACAGGAAAGGCAACTTCACACATACTCCAAAAGAACAAGAAATCATATATCTTTTTTACCCTCTAAAGACTGGGTCTTGAAACAGAGGCCTCTTGGACAGCACACTAGACTCATGTAA"
     ]
    }
   ],
   "source": [
    "!cat ~/.genomic_benchmarks/demo_mouse_enhancers/test/negative/0.txt"
   ]
  },
  {
   "cell_type": "code",
   "execution_count": null,
   "metadata": {},
   "outputs": [],
   "source": []
  }
 ],
 "metadata": {
  "kernelspec": {
   "display_name": "Python 3 (ipykernel)",
   "language": "python",
   "name": "python3"
  },
  "language_info": {
   "codemirror_mode": {
    "name": "ipython",
    "version": 3
   },
   "file_extension": ".py",
   "mimetype": "text/x-python",
   "name": "python",
   "nbconvert_exporter": "python",
   "pygments_lexer": "ipython3",
   "version": "3.8.9"
  }
 },
 "nbformat": 4,
 "nbformat_minor": 4
}