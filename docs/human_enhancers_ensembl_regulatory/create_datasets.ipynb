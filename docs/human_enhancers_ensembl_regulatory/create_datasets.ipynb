{
 "cells": [
  {
   "cell_type": "markdown",
   "metadata": {},
   "source": [
    "# Prepare environment"
   ]
  },
  {
   "cell_type": "code",
   "execution_count": 1,
   "metadata": {},
   "outputs": [
    {
     "name": "stdout",
     "output_type": "stream",
     "text": [
      "Collecting git+https://github.com/katarinagresova/ensembl_scraper.git\n",
      "  Cloning https://github.com/katarinagresova/ensembl_scraper.git to /tmp/pip-req-build-h9vs0asx\n",
      "  Running command git clone --filter=blob:none -q https://github.com/katarinagresova/ensembl_scraper.git /tmp/pip-req-build-h9vs0asx\n",
      "  Resolved https://github.com/katarinagresova/ensembl_scraper.git to commit 6d3bba8e6be7f5ead58a3bbaed6a4e8cd35e62fd\n",
      "  Preparing metadata (setup.py) ... \u001b[?25ldone\n",
      "\u001b[?25hRequirement already satisfied: bio in /home/katarina/git/genomic_benchmarks/venv/lib/python3.8/site-packages (from scraper==0.0.1) (1.3.3)\n",
      "Requirement already satisfied: biopython in /home/katarina/git/genomic_benchmarks/venv/lib/python3.8/site-packages (from scraper==0.0.1) (1.79)\n",
      "Requirement already satisfied: certifi in /home/katarina/git/genomic_benchmarks/venv/lib/python3.8/site-packages (from scraper==0.0.1) (2021.10.8)\n",
      "Requirement already satisfied: charset-normalizer in /home/katarina/git/genomic_benchmarks/venv/lib/python3.8/site-packages (from scraper==0.0.1) (2.0.11)\n",
      "Requirement already satisfied: idna in /home/katarina/git/genomic_benchmarks/venv/lib/python3.8/site-packages (from scraper==0.0.1) (3.3)\n",
      "Requirement already satisfied: joblib in /home/katarina/git/genomic_benchmarks/venv/lib/python3.8/site-packages (from scraper==0.0.1) (1.1.0)\n",
      "Requirement already satisfied: numpy in /home/katarina/git/genomic_benchmarks/venv/lib/python3.8/site-packages (from scraper==0.0.1) (1.22.2)\n",
      "Requirement already satisfied: pandas in /home/katarina/git/genomic_benchmarks/venv/lib/python3.8/site-packages (from scraper==0.0.1) (1.4.0)\n",
      "Requirement already satisfied: plac in /home/katarina/git/genomic_benchmarks/venv/lib/python3.8/site-packages (from scraper==0.0.1) (1.3.4)\n",
      "Requirement already satisfied: pyfiglet in /home/katarina/git/genomic_benchmarks/venv/lib/python3.8/site-packages (from scraper==0.0.1) (0.8.post1)\n",
      "Requirement already satisfied: python-dateutil in /home/katarina/git/genomic_benchmarks/venv/lib/python3.8/site-packages (from scraper==0.0.1) (2.8.2)\n",
      "Requirement already satisfied: pytz in /home/katarina/git/genomic_benchmarks/venv/lib/python3.8/site-packages (from scraper==0.0.1) (2021.3)\n",
      "Requirement already satisfied: PyYAML>=5.4.1 in /home/katarina/git/genomic_benchmarks/venv/lib/python3.8/site-packages (from scraper==0.0.1) (6.0)\n",
      "Requirement already satisfied: requests in /home/katarina/git/genomic_benchmarks/venv/lib/python3.8/site-packages (from scraper==0.0.1) (2.27.1)\n",
      "Requirement already satisfied: scikit-learn in /home/katarina/git/genomic_benchmarks/venv/lib/python3.8/site-packages (from scraper==0.0.1) (1.0.2)\n",
      "Requirement already satisfied: scipy in /home/katarina/git/genomic_benchmarks/venv/lib/python3.8/site-packages (from scraper==0.0.1) (1.8.0)\n",
      "Requirement already satisfied: six in /home/katarina/git/genomic_benchmarks/venv/lib/python3.8/site-packages (from scraper==0.0.1) (1.16.0)\n",
      "Requirement already satisfied: threadpoolctl in /home/katarina/git/genomic_benchmarks/venv/lib/python3.8/site-packages (from scraper==0.0.1) (3.1.0)\n",
      "Requirement already satisfied: tqdm in /home/katarina/git/genomic_benchmarks/venv/lib/python3.8/site-packages (from scraper==0.0.1) (4.62.3)\n",
      "Requirement already satisfied: twobitreader in /home/katarina/git/genomic_benchmarks/venv/lib/python3.8/site-packages (from scraper==0.0.1) (3.1.7)\n",
      "Requirement already satisfied: urllib3 in /home/katarina/git/genomic_benchmarks/venv/lib/python3.8/site-packages (from scraper==0.0.1) (1.26.8)\n",
      "Requirement already satisfied: mygene in /home/katarina/git/genomic_benchmarks/venv/lib/python3.8/site-packages (from bio->scraper==0.0.1) (3.2.2)\n",
      "Requirement already satisfied: biothings-client>=0.2.6 in /home/katarina/git/genomic_benchmarks/venv/lib/python3.8/site-packages (from mygene->bio->scraper==0.0.1) (0.2.6)\n",
      "\u001b[33mWARNING: You are using pip version 21.3.1; however, version 22.0.3 is available.\n",
      "You should consider upgrading via the '/home/katarina/git/genomic_benchmarks/venv/bin/python -m pip install --upgrade pip' command.\u001b[0m\n"
     ]
    }
   ],
   "source": [
    "!pip install git+https://github.com/katarinagresova/ensembl_scraper.git"
   ]
  },
  {
   "cell_type": "markdown",
   "metadata": {},
   "source": [
    "# Create config file"
   ]
  },
  {
   "cell_type": "code",
   "execution_count": 2,
   "metadata": {},
   "outputs": [],
   "source": [
    "import yaml\n",
    "\n",
    "config = {\n",
    "    \"root_dir\": \"../../datasets/\",\n",
    "    \"organisms\": {\n",
    "        \"homo_sapiens\": {\n",
    "            \"regulatory_feature\"\n",
    "        }\n",
    "    }\n",
    "}\n",
    "\n",
    "user_config = 'user_config.yaml'\n",
    "with open(user_config, 'w') as handle:\n",
    "  yaml.dump(config, handle)"
   ]
  },
  {
   "cell_type": "markdown",
   "metadata": {},
   "source": [
    "# Prepare directories"
   ]
  },
  {
   "cell_type": "code",
   "execution_count": 3,
   "metadata": {},
   "outputs": [],
   "source": [
    "from pathlib import Path\n",
    "\n",
    "BASE_FILE_PATH = Path(\"../../datasets/human_enhancers_ensembl_regulatory/\")\n",
    "\n",
    "# copied from https://stackoverflow.com/a/57892171\n",
    "def rm_tree(pth: Path):\n",
    "    for child in pth.iterdir():\n",
    "        if child.is_file():\n",
    "            child.unlink()\n",
    "        else:\n",
    "            rm_tree(child)\n",
    "    pth.rmdir()\n",
    "\n",
    "if BASE_FILE_PATH.exists():\n",
    "    rm_tree(BASE_FILE_PATH)"
   ]
  },
  {
   "cell_type": "markdown",
   "metadata": {},
   "source": [
    "# Run tool"
   ]
  },
  {
   "cell_type": "code",
   "execution_count": 4,
   "metadata": {},
   "outputs": [
    {
     "name": "stdout",
     "output_type": "stream",
     "text": [
      "Processing organisms:   0%|                               | 0/1 [00:00<?, ?it/s]\n",
      "Processing feature files:   0%|                           | 0/1 [00:00<?, ?it/s]\u001b[AINFO:root:download_file(): Going to download file from path ftp://ftp.ensembl.org/pub/release-100/mysql/regulation_mart_100/hsapiens_regulatory_feature__regulatory_feature__main.txt.gz\n",
      "INFO:root:download_file(): File downloaded to path ../../datasets//tmp//homo_sapiens_regulatory_feature.txt.gz.\n",
      "INFO:root:parse_feature_file(): Going to parse file ../../datasets//tmp//homo_sapiens_regulatory_feature.txt.gz\n",
      "INFO:root:parse_feature_file(): Done parsing file ../../datasets//tmp//homo_sapiens_regulatory_feature.txt.gz\n",
      "\n",
      "\n",
      "Processing feature types:   0%|                           | 0/6 [00:00<?, ?it/s]\u001b[A\u001b[AINFO:root:find_sequences(): Going to find sequences based on genomic loci.\n",
      "INFO:root:download_2bit_file(): Going to download 2bit file hg38\n",
      "INFO:root:download_2bit_file(): File for hg38 downloaded to path ../../datasets//tmp/hg38.2bit.\n",
      "INFO:root:find_sequences(): Done finding sequences.\n",
      "INFO:root:remove_low_quality(): Going to preprocess sequences.\n",
      "INFO:root:remove_low_quality(): Original number of sequences: 141250\n",
      "INFO:root:remove_low_quality(): Number of sequences after contigs rejection: 141250\n",
      "INFO:root:remove_low_quality(): Number of sequences after outlier rejection: 123915\n",
      "INFO:root:remove_low_quality(): Number of sequences after Ns rejection: 123909\n",
      "INFO:root:remove_low_quality(): Done preprocessing sequences.\n",
      "INFO:root:download_2bit_file(): Going to download 2bit file hg38\n",
      "INFO:root:download_2bit_file(): File for hg38 already exists. Not going to download.\n",
      "INFO:root:download_2bit_file(): Going to download 2bit file hg38\n",
      "INFO:root:download_2bit_file(): File for hg38 already exists. Not going to download.\n",
      "\n",
      "\n",
      "Processing feature types:  17%|██▌            | 1/6 [35:25<2:57:07, 2125.54s/it]\u001b[A\u001b[AINFO:root:find_sequences(): Going to find sequences based on genomic loci.\n",
      "INFO:root:download_2bit_file(): Going to download 2bit file hg38\n",
      "INFO:root:download_2bit_file(): File for hg38 already exists. Not going to download.\n",
      "INFO:root:find_sequences(): Done finding sequences.\n",
      "INFO:root:remove_low_quality(): Going to preprocess sequences.\n",
      "INFO:root:remove_low_quality(): Original number of sequences: 177376\n",
      "INFO:root:remove_low_quality(): Number of sequences after contigs rejection: 177376\n",
      "INFO:root:remove_low_quality(): Number of sequences after outlier rejection: 152129\n",
      "INFO:root:remove_low_quality(): Number of sequences after Ns rejection: 152106\n",
      "INFO:root:remove_low_quality(): Done preprocessing sequences.\n",
      "INFO:root:download_2bit_file(): Going to download 2bit file hg38\n",
      "INFO:root:download_2bit_file(): File for hg38 already exists. Not going to download.\n",
      "INFO:root:download_2bit_file(): Going to download 2bit file hg38\n",
      "INFO:root:download_2bit_file(): File for hg38 already exists. Not going to download.\n",
      "\n",
      "\n",
      "Processing feature types:  33%|████▎        | 2/6 [1:18:56<2:40:44, 2411.03s/it]\u001b[A\u001b[AINFO:root:find_sequences(): Going to find sequences based on genomic loci.\n",
      "INFO:root:download_2bit_file(): Going to download 2bit file hg38\n",
      "INFO:root:download_2bit_file(): File for hg38 already exists. Not going to download.\n",
      "INFO:root:find_sequences(): Done finding sequences.\n",
      "INFO:root:remove_low_quality(): Going to preprocess sequences.\n",
      "INFO:root:remove_low_quality(): Original number of sequences: 132592\n",
      "INFO:root:remove_low_quality(): Number of sequences after contigs rejection: 132592\n",
      "INFO:root:remove_low_quality(): Number of sequences after outlier rejection: 106894\n",
      "INFO:root:remove_low_quality(): Number of sequences after Ns rejection: 106890\n",
      "INFO:root:remove_low_quality(): Done preprocessing sequences.\n",
      "INFO:root:download_2bit_file(): Going to download 2bit file hg38\n",
      "INFO:root:download_2bit_file(): File for hg38 already exists. Not going to download.\n",
      "INFO:root:download_2bit_file(): Going to download 2bit file hg38\n",
      "INFO:root:download_2bit_file(): File for hg38 already exists. Not going to download.\n",
      "\n",
      "\n",
      "Processing feature types:  50%|██████▌      | 3/6 [1:42:26<1:37:41, 1953.77s/it]\u001b[A\u001b[AINFO:root:find_sequences(): Going to find sequences based on genomic loci.\n",
      "INFO:root:download_2bit_file(): Going to download 2bit file hg38\n",
      "INFO:root:download_2bit_file(): File for hg38 already exists. Not going to download.\n",
      "INFO:root:find_sequences(): Done finding sequences.\n",
      "INFO:root:remove_low_quality(): Going to preprocess sequences.\n",
      "INFO:root:remove_low_quality(): Original number of sequences: 97099\n",
      "INFO:root:remove_low_quality(): Number of sequences after contigs rejection: 96572\n",
      "INFO:root:remove_low_quality(): Number of sequences after outlier rejection: 87381\n",
      "INFO:root:remove_low_quality(): Number of sequences after Ns rejection: 87378\n",
      "INFO:root:remove_low_quality(): Done preprocessing sequences.\n",
      "INFO:root:download_2bit_file(): Going to download 2bit file hg38\n",
      "INFO:root:download_2bit_file(): File for hg38 already exists. Not going to download.\n",
      "INFO:root:download_2bit_file(): Going to download 2bit file hg38\n",
      "INFO:root:download_2bit_file(): File for hg38 already exists. Not going to download.\n",
      "\n",
      "\n",
      "Processing feature types:  67%|██████████     | 4/6 [2:00:00<53:17, 1598.64s/it]\u001b[A\u001b[AINFO:root:find_sequences(): Going to find sequences based on genomic loci.\n",
      "INFO:root:download_2bit_file(): Going to download 2bit file hg38\n",
      "INFO:root:download_2bit_file(): File for hg38 already exists. Not going to download.\n",
      "INFO:root:find_sequences(): Done finding sequences.\n",
      "INFO:root:remove_low_quality(): Going to preprocess sequences.\n",
      "INFO:root:remove_low_quality(): Original number of sequences: 35191\n",
      "INFO:root:remove_low_quality(): Number of sequences after contigs rejection: 35191\n",
      "INFO:root:remove_low_quality(): Number of sequences after outlier rejection: 32260\n",
      "INFO:root:remove_low_quality(): Number of sequences after Ns rejection: 32258\n",
      "INFO:root:remove_low_quality(): Done preprocessing sequences.\n",
      "INFO:root:download_2bit_file(): Going to download 2bit file hg38\n",
      "INFO:root:download_2bit_file(): File for hg38 already exists. Not going to download.\n",
      "INFO:root:download_2bit_file(): Going to download 2bit file hg38\n",
      "INFO:root:download_2bit_file(): File for hg38 already exists. Not going to download.\n",
      "\n",
      "\n",
      "Processing feature types:  83%|████████████▌  | 5/6 [2:04:19<18:35, 1115.69s/it]\u001b[A\u001b[AINFO:root:find_sequences(): Going to find sequences based on genomic loci.\n",
      "INFO:root:download_2bit_file(): Going to download 2bit file hg38\n",
      "INFO:root:download_2bit_file(): File for hg38 already exists. Not going to download.\n",
      "INFO:root:find_sequences(): Done finding sequences.\n",
      "INFO:root:remove_low_quality(): Going to preprocess sequences.\n",
      "INFO:root:remove_low_quality(): Original number of sequences: 30436\n",
      "INFO:root:remove_low_quality(): Number of sequences after contigs rejection: 29820\n",
      "INFO:root:remove_low_quality(): Number of sequences after outlier rejection: 25816\n",
      "INFO:root:remove_low_quality(): Number of sequences after Ns rejection: 25816\n",
      "INFO:root:remove_low_quality(): Done preprocessing sequences.\n",
      "INFO:root:download_2bit_file(): Going to download 2bit file hg38\n",
      "INFO:root:download_2bit_file(): File for hg38 already exists. Not going to download.\n",
      "INFO:root:download_2bit_file(): Going to download 2bit file hg38\n",
      "INFO:root:download_2bit_file(): File for hg38 already exists. Not going to download.\n",
      "\n",
      "\n",
      "Processing feature types: 100%|███████████████| 6/6 [2:06:47<00:00, 1267.88s/it]\n",
      "\n",
      "Processing feature files: 100%|███████████████| 1/1 [2:07:04<00:00, 7624.87s/it]\n",
      "Processing organisms: 100%|███████████████████| 1/1 [2:07:04<00:00, 7624.87s/it]\n"
     ]
    }
   ],
   "source": [
    "!python -m scraper.ensembl_scraper -c user_config.yaml"
   ]
  },
  {
   "cell_type": "markdown",
   "metadata": {},
   "source": [
    "# Cleaning"
   ]
  },
  {
   "cell_type": "code",
   "execution_count": 4,
   "metadata": {},
   "outputs": [],
   "source": [
    "!mv ../../datasets/homo_sapiens_regulatory_feature_enhancer ../../datasets/human_enhancers_ensembl_regulatory/"
   ]
  },
  {
   "cell_type": "code",
   "execution_count": 5,
   "metadata": {},
   "outputs": [],
   "source": [
    "!rm user_config.yaml"
   ]
  },
  {
   "cell_type": "code",
   "execution_count": 8,
   "metadata": {},
   "outputs": [],
   "source": [
    "!rm -rf ../../datasets/tmp/"
   ]
  },
  {
   "cell_type": "code",
   "execution_count": 12,
   "metadata": {},
   "outputs": [],
   "source": [
    "!rm -rf ../../datasets/homo_sapiens_regulatory_feature_CTCF_binding_site\n",
    "!rm -rf ../../datasets/homo_sapiens_regulatory_feature_open_chromatin_region\n",
    "!rm -rf ../../datasets/homo_sapiens_regulatory_feature_promoter\n",
    "!rm -rf ../../datasets/homo_sapiens_regulatory_feature_promoter_flanking_region\n",
    "!rm -rf ../../datasets/homo_sapiens_regulatory_feature_TF_binding_site"
   ]
  },
  {
   "cell_type": "markdown",
   "metadata": {},
   "source": [
    "# Final reformating\n",
    "\n",
    "  * gzip all CSV files\n",
    "  * add extra formatting to yaml config file"
   ]
  },
  {
   "cell_type": "code",
   "execution_count": 6,
   "metadata": {},
   "outputs": [],
   "source": [
    "!find ../../datasets/human_enhancers_ensembl_regulatory/ -type f -name \"*.csv\" -exec gzip {} \\;"
   ]
  },
  {
   "cell_type": "code",
   "execution_count": 7,
   "metadata": {},
   "outputs": [
    {
     "data": {
      "text/plain": [
       "{'classes': {'negative': {'type': 'fa.gz',\n",
       "   'url': 'ftp://ftp.ensembl.org/pub/release-100/fasta/homo_sapiens/dna/Homo_sapiens.GRCh38.dna.toplevel.fa.gz'},\n",
       "  'positive': {'type': 'fa.gz',\n",
       "   'url': 'ftp://ftp.ensembl.org/pub/release-100/fasta/homo_sapiens/dna/Homo_sapiens.GRCh38.dna.toplevel.fa.gz'}},\n",
       " 'version': 0}"
      ]
     },
     "execution_count": 7,
     "metadata": {},
     "output_type": "execute_result"
    }
   ],
   "source": [
    "with open(\"../../datasets/human_enhancers_ensembl_regulatory/metadata.yaml\", \"r\") as stream:\n",
    "    try:\n",
    "        config = yaml.safe_load(stream)\n",
    "    except yaml.YAMLError as exc:\n",
    "        print(exc)\n",
    "\n",
    "config"
   ]
  },
  {
   "cell_type": "code",
   "execution_count": 8,
   "metadata": {},
   "outputs": [
    {
     "data": {
      "text/plain": [
       "{'classes': {'negative': {'type': 'fa.gz',\n",
       "   'url': 'ftp://ftp.ensembl.org/pub/release-100/fasta/homo_sapiens/dna/Homo_sapiens.GRCh38.dna.toplevel.fa.gz',\n",
       "   'extra_processing': 'ENSEMBL_HUMAN_GENOME'},\n",
       "  'positive': {'type': 'fa.gz',\n",
       "   'url': 'ftp://ftp.ensembl.org/pub/release-100/fasta/homo_sapiens/dna/Homo_sapiens.GRCh38.dna.toplevel.fa.gz',\n",
       "   'extra_processing': 'ENSEMBL_HUMAN_GENOME'}},\n",
       " 'version': 0}"
      ]
     },
     "execution_count": 8,
     "metadata": {},
     "output_type": "execute_result"
    }
   ],
   "source": [
    "config['classes']['positive']['extra_processing'] = 'ENSEMBL_HUMAN_GENOME' \n",
    "config['classes']['negative']['extra_processing'] = 'ENSEMBL_HUMAN_GENOME' \n",
    "\n",
    "config"
   ]
  },
  {
   "cell_type": "code",
   "execution_count": 9,
   "metadata": {},
   "outputs": [],
   "source": [
    "with open(\"../../datasets/human_enhancers_ensembl_regulatory/metadata.yaml\", 'w') as handle:\n",
    "  yaml.dump(config, handle)"
   ]
  },
  {
   "cell_type": "markdown",
   "metadata": {},
   "source": [
    "# Testing"
   ]
  },
  {
   "cell_type": "code",
   "execution_count": 12,
   "metadata": {},
   "outputs": [
    {
     "name": "stdout",
     "output_type": "stream",
     "text": [
      "Reference /home/katarina/.genomic_benchmarks/fasta/Homo_sapiens.GRCh38.dna.toplevel.fa.gz already exists. Skipping.\n"
     ]
    },
    {
     "name": "stderr",
     "output_type": "stream",
     "text": [
      "100%|██████████| 24/24 [00:30<00:00,  1.28s/it]\n"
     ]
    },
    {
     "data": {
      "text/plain": [
       "PosixPath('/home/katarina/.genomic_benchmarks/human_enhancers_ensembl_regulatory')"
      ]
     },
     "execution_count": 12,
     "metadata": {},
     "output_type": "execute_result"
    }
   ],
   "source": [
    "from genomic_benchmarks.loc2seq import download_dataset\n",
    "\n",
    "download_dataset(\"human_enhancers_ensembl_regulatory\")"
   ]
  },
  {
   "cell_type": "code",
   "execution_count": 14,
   "metadata": {},
   "outputs": [
    {
     "name": "stdout",
     "output_type": "stream",
     "text": [
      "Dataset `human_enhancers_ensembl_regulatory` has 2 classes: negative, positive.\n",
      "\n",
      "The length of genomic intervals ranges from 200 to 802, with average 394.7244176255964 and median 400.0.\n",
      "\n",
      "Totally 213780 sequences have been found, 171024 for training and 42756 for testing.\n"
     ]
    },
    {
     "data": {
      "text/html": [
       "<div>\n",
       "<style scoped>\n",
       "    .dataframe tbody tr th:only-of-type {\n",
       "        vertical-align: middle;\n",
       "    }\n",
       "\n",
       "    .dataframe tbody tr th {\n",
       "        vertical-align: top;\n",
       "    }\n",
       "\n",
       "    .dataframe thead th {\n",
       "        text-align: right;\n",
       "    }\n",
       "</style>\n",
       "<table border=\"1\" class=\"dataframe\">\n",
       "  <thead>\n",
       "    <tr style=\"text-align: right;\">\n",
       "      <th></th>\n",
       "      <th>train</th>\n",
       "      <th>test</th>\n",
       "    </tr>\n",
       "  </thead>\n",
       "  <tbody>\n",
       "    <tr>\n",
       "      <th>negative</th>\n",
       "      <td>85512</td>\n",
       "      <td>21378</td>\n",
       "    </tr>\n",
       "    <tr>\n",
       "      <th>positive</th>\n",
       "      <td>85512</td>\n",
       "      <td>21378</td>\n",
       "    </tr>\n",
       "  </tbody>\n",
       "</table>\n",
       "</div>"
      ],
      "text/plain": [
       "          train   test\n",
       "negative  85512  21378\n",
       "positive  85512  21378"
      ]
     },
     "execution_count": 14,
     "metadata": {},
     "output_type": "execute_result"
    }
   ],
   "source": [
    "from genomic_benchmarks.data_check import info\n",
    "\n",
    "info(\"human_enhancers_ensembl_regulatory\", 0)"
   ]
  }
 ],
 "metadata": {
  "interpreter": {
   "hash": "6aefa309fdc551cffdb69c1b229c63cc8afbc3d2cc6c7acf643414f933d1f738"
  },
  "kernelspec": {
   "display_name": "Python 3.8.2 64-bit ('venv': venv)",
   "name": "python3"
  },
  "language_info": {
   "codemirror_mode": {
    "name": "ipython",
    "version": 3
   },
   "file_extension": ".py",
   "mimetype": "text/x-python",
   "name": "python",
   "nbconvert_exporter": "python",
   "pygments_lexer": "ipython3",
   "version": "3.8.10"
  },
  "orig_nbformat": 4
 },
 "nbformat": 4,
 "nbformat_minor": 2
}
