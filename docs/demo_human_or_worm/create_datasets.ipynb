{
 "cells": [
  {
   "cell_type": "code",
   "execution_count": 1,
   "id": "eee3c3ee",
   "metadata": {},
   "outputs": [],
   "source": [
    "%load_ext autoreload\n",
    "%autoreload 2"
   ]
  },
  {
   "cell_type": "code",
   "execution_count": 2,
   "id": "a381d940",
   "metadata": {},
   "outputs": [
    {
     "name": "stderr",
     "output_type": "stream",
     "text": [
      "/home/petr/projects/genomic_benchmarks/src/genomic_benchmarks/loc2seq/with_biopython.py:8: TqdmExperimentalWarning: Using `tqdm.autonotebook.tqdm` in notebook mode. Use `tqdm.tqdm` instead to force console mode (e.g. in jupyter console)\n",
      "  from tqdm.autonotebook import tqdm\n"
     ]
    }
   ],
   "source": [
    "from genomic_benchmarks.loc2seq.with_biopython import _fastagz2dict\n",
    "from genomic_benchmarks.seq2loc import fasta2loc\n",
    "from sklearn.model_selection import train_test_split\n",
    "import numpy as np\n",
    "import pandas as pd\n",
    "from tqdm.notebook import tqdm, trange\n",
    "from pathlib import Path\n",
    "import yaml\n",
    "import tarfile\n",
    "\n",
    "np.random.seed(42)"
   ]
  },
  {
   "cell_type": "markdown",
   "id": "386ad9fd",
   "metadata": {},
   "source": [
    "## Load genomic references"
   ]
  },
  {
   "cell_type": "code",
   "execution_count": 3,
   "id": "d3bd760b",
   "metadata": {
    "scrolled": true
   },
   "outputs": [
    {
     "data": {
      "application/vnd.jupyter.widget-view+json": {
       "model_id": "a65bc018ebb647a18eb63499f4c5b013",
       "version_major": 2,
       "version_minor": 0
      },
      "text/plain": [
       "  0%|          | 0/24 [00:00<?, ?it/s]"
      ]
     },
     "metadata": {},
     "output_type": "display_data"
    },
    {
     "data": {
      "text/plain": [
       "dict_keys(['1', '2', '3', '4', '5', '6', '7', '8', '9', '10', '11', '12', '13', '14', '15', '16', '17', '18', '19', '20', '21', '22', 'X', 'Y', 'MT'])"
      ]
     },
     "execution_count": 3,
     "metadata": {},
     "output_type": "execute_result"
    }
   ],
   "source": [
    "human = _fastagz2dict(Path.home() / \".genomic_benchmarks/fasta/Homo_sapiens.GRCh38.dna.toplevel.fa.gz\",\n",
    "                      24, 'MT')\n",
    "human.keys()"
   ]
  },
  {
   "cell_type": "code",
   "execution_count": 4,
   "id": "4598f8ba",
   "metadata": {},
   "outputs": [
    {
     "data": {
      "application/vnd.jupyter.widget-view+json": {
       "model_id": "044b0dcbfef342b38bc0ad94ef49a62c",
       "version_major": 2,
       "version_minor": 0
      },
      "text/plain": [
       "  0%|          | 0/6 [00:00<?, ?it/s]"
      ]
     },
     "metadata": {},
     "output_type": "display_data"
    },
    {
     "data": {
      "text/plain": [
       "dict_keys(['I', 'II', 'III', 'IV', 'V', 'X', 'MtDNA'])"
      ]
     },
     "execution_count": 4,
     "metadata": {},
     "output_type": "execute_result"
    }
   ],
   "source": [
    "worm = _fastagz2dict(Path.home() / \".genomic_benchmarks/fasta/Caenorhabditis_elegans.WBcel235.dna.toplevel.fa.gz\", 6)\n",
    "worm.keys()"
   ]
  },
  {
   "cell_type": "code",
   "execution_count": 5,
   "id": "1088e703",
   "metadata": {},
   "outputs": [
    {
     "data": {
      "text/plain": [
       "(1     248956422\n",
       " 2     242193529\n",
       " 3     198295559\n",
       " 4     190214555\n",
       " 5     181538259\n",
       " 6     170805979\n",
       " 7     159345973\n",
       " 8     145138636\n",
       " 9     138394717\n",
       " 10    133797422\n",
       " 11    135086622\n",
       " 12    133275309\n",
       " 13    114364328\n",
       " 14    107043718\n",
       " 15    101991189\n",
       " 16     90338345\n",
       " 17     83257441\n",
       " 18     80373285\n",
       " 19     58617616\n",
       " 20     64444167\n",
       " 21     46709983\n",
       " 22     50818468\n",
       " X     156040895\n",
       " Y      57227415\n",
       " MT        16569\n",
       " dtype: int64,\n",
       " I        15072434\n",
       " II       15279421\n",
       " III      13783801\n",
       " IV       17493829\n",
       " V        20924180\n",
       " X        17718942\n",
       " MtDNA       13794\n",
       " dtype: int64)"
      ]
     },
     "execution_count": 5,
     "metadata": {},
     "output_type": "execute_result"
    }
   ],
   "source": [
    "human_chr_lengths = pd.Series({chr: len(human[chr]) for chr in human})\n",
    "worm_chr_lengths = pd.Series({chr: len(worm[chr]) for chr in worm})\n",
    "human_chr_lengths, worm_chr_lengths"
   ]
  },
  {
   "cell_type": "markdown",
   "id": "504979c9",
   "metadata": {},
   "source": [
    "## Utils for random generation"
   ]
  },
  {
   "cell_type": "code",
   "execution_count": 6,
   "id": "de663043",
   "metadata": {},
   "outputs": [],
   "source": [
    "def get_random_chr(chr_lengths: pd.Series):\n",
    "    chr_probs = chr_lengths / chr_lengths.sum()\n",
    "    chrs = chr_lengths.index.to_list()\n",
    "    return chrs[np.argwhere(np.random.multinomial(1, chr_probs))[0][0]]\n",
    "\n",
    "def get_random_int(int_len, chr_lengths: pd.Series):\n",
    "    c = get_random_chr(chr_lengths)\n",
    "    c_len = chr_lengths[c]\n",
    "    pos = np.random.randint(c_len)-int_len+1\n",
    "    strand = ['+', '-'][np.random.randint(2)]\n",
    "    return c, pos, pos+int_len, strand"
   ]
  },
  {
   "cell_type": "code",
   "execution_count": 7,
   "id": "ba59a12f",
   "metadata": {},
   "outputs": [
    {
     "data": {
      "text/plain": [
       "('2', 191099811, 191100011, '-')"
      ]
     },
     "execution_count": 7,
     "metadata": {},
     "output_type": "execute_result"
    }
   ],
   "source": [
    "get_random_int(200, human_chr_lengths)"
   ]
  },
  {
   "cell_type": "markdown",
   "id": "3706ec8a",
   "metadata": {},
   "source": [
    "## Data generation"
   ]
  },
  {
   "cell_type": "code",
   "execution_count": 8,
   "id": "e6a4e624",
   "metadata": {},
   "outputs": [
    {
     "data": {
      "application/vnd.jupyter.widget-view+json": {
       "model_id": "45b473c0e5ce47c9a9c3cba6d247943f",
       "version_major": 2,
       "version_minor": 0
      },
      "text/plain": [
       "  0%|          | 0/50000 [00:00<?, ?it/s]"
      ]
     },
     "metadata": {},
     "output_type": "display_data"
    },
    {
     "data": {
      "text/html": [
       "<div>\n",
       "<style scoped>\n",
       "    .dataframe tbody tr th:only-of-type {\n",
       "        vertical-align: middle;\n",
       "    }\n",
       "\n",
       "    .dataframe tbody tr th {\n",
       "        vertical-align: top;\n",
       "    }\n",
       "\n",
       "    .dataframe thead th {\n",
       "        text-align: right;\n",
       "    }\n",
       "</style>\n",
       "<table border=\"1\" class=\"dataframe\">\n",
       "  <thead>\n",
       "    <tr style=\"text-align: right;\">\n",
       "      <th></th>\n",
       "      <th>region</th>\n",
       "      <th>start</th>\n",
       "      <th>end</th>\n",
       "      <th>strand</th>\n",
       "    </tr>\n",
       "    <tr>\n",
       "      <th>id</th>\n",
       "      <th></th>\n",
       "      <th></th>\n",
       "      <th></th>\n",
       "      <th></th>\n",
       "    </tr>\n",
       "  </thead>\n",
       "  <tbody>\n",
       "    <tr>\n",
       "      <th>0</th>\n",
       "      <td>chr9</td>\n",
       "      <td>85652772</td>\n",
       "      <td>85652972</td>\n",
       "      <td>-</td>\n",
       "    </tr>\n",
       "    <tr>\n",
       "      <th>1</th>\n",
       "      <td>chr21</td>\n",
       "      <td>3385158</td>\n",
       "      <td>3385358</td>\n",
       "      <td>-</td>\n",
       "    </tr>\n",
       "    <tr>\n",
       "      <th>2</th>\n",
       "      <td>chr19</td>\n",
       "      <td>36601495</td>\n",
       "      <td>36601695</td>\n",
       "      <td>-</td>\n",
       "    </tr>\n",
       "    <tr>\n",
       "      <th>3</th>\n",
       "      <td>chr4</td>\n",
       "      <td>137584141</td>\n",
       "      <td>137584341</td>\n",
       "      <td>-</td>\n",
       "    </tr>\n",
       "    <tr>\n",
       "      <th>4</th>\n",
       "      <td>chr4</td>\n",
       "      <td>183378100</td>\n",
       "      <td>183378300</td>\n",
       "      <td>+</td>\n",
       "    </tr>\n",
       "  </tbody>\n",
       "</table>\n",
       "</div>"
      ],
      "text/plain": [
       "   region      start        end strand\n",
       "id                                    \n",
       "0    chr9   85652772   85652972      -\n",
       "1   chr21    3385158    3385358      -\n",
       "2   chr19   36601495   36601695      -\n",
       "3    chr4  137584141  137584341      -\n",
       "4    chr4  183378100  183378300      +"
      ]
     },
     "execution_count": 8,
     "metadata": {},
     "output_type": "execute_result"
    }
   ],
   "source": [
    "human_df = pd.DataFrame.from_records([get_random_int(200, human_chr_lengths) for i in trange(50_000)], \n",
    "                                     columns = [\"region\", \"start\", \"end\", \"strand\"])\n",
    "human_df[\"region\"] = \"chr\" + human_df[\"region\"]\n",
    "human_df.index.name = \"id\"\n",
    "human_df.head()"
   ]
  },
  {
   "cell_type": "code",
   "execution_count": 9,
   "id": "27066865",
   "metadata": {},
   "outputs": [
    {
     "data": {
      "application/vnd.jupyter.widget-view+json": {
       "model_id": "f728dbce46bd4ce5acaebae8da198cc5",
       "version_major": 2,
       "version_minor": 0
      },
      "text/plain": [
       "  0%|          | 0/50000 [00:00<?, ?it/s]"
      ]
     },
     "metadata": {},
     "output_type": "display_data"
    },
    {
     "data": {
      "text/html": [
       "<div>\n",
       "<style scoped>\n",
       "    .dataframe tbody tr th:only-of-type {\n",
       "        vertical-align: middle;\n",
       "    }\n",
       "\n",
       "    .dataframe tbody tr th {\n",
       "        vertical-align: top;\n",
       "    }\n",
       "\n",
       "    .dataframe thead th {\n",
       "        text-align: right;\n",
       "    }\n",
       "</style>\n",
       "<table border=\"1\" class=\"dataframe\">\n",
       "  <thead>\n",
       "    <tr style=\"text-align: right;\">\n",
       "      <th></th>\n",
       "      <th>region</th>\n",
       "      <th>start</th>\n",
       "      <th>end</th>\n",
       "      <th>strand</th>\n",
       "    </tr>\n",
       "    <tr>\n",
       "      <th>id</th>\n",
       "      <th></th>\n",
       "      <th></th>\n",
       "      <th></th>\n",
       "      <th></th>\n",
       "    </tr>\n",
       "  </thead>\n",
       "  <tbody>\n",
       "    <tr>\n",
       "      <th>0</th>\n",
       "      <td>X</td>\n",
       "      <td>1014719</td>\n",
       "      <td>1014919</td>\n",
       "      <td>+</td>\n",
       "    </tr>\n",
       "    <tr>\n",
       "      <th>1</th>\n",
       "      <td>V</td>\n",
       "      <td>5305780</td>\n",
       "      <td>5305980</td>\n",
       "      <td>+</td>\n",
       "    </tr>\n",
       "    <tr>\n",
       "      <th>2</th>\n",
       "      <td>II</td>\n",
       "      <td>5680456</td>\n",
       "      <td>5680656</td>\n",
       "      <td>+</td>\n",
       "    </tr>\n",
       "    <tr>\n",
       "      <th>3</th>\n",
       "      <td>V</td>\n",
       "      <td>2118470</td>\n",
       "      <td>2118670</td>\n",
       "      <td>+</td>\n",
       "    </tr>\n",
       "    <tr>\n",
       "      <th>4</th>\n",
       "      <td>V</td>\n",
       "      <td>9614692</td>\n",
       "      <td>9614892</td>\n",
       "      <td>-</td>\n",
       "    </tr>\n",
       "  </tbody>\n",
       "</table>\n",
       "</div>"
      ],
      "text/plain": [
       "   region    start      end strand\n",
       "id                                \n",
       "0       X  1014719  1014919      +\n",
       "1       V  5305780  5305980      +\n",
       "2      II  5680456  5680656      +\n",
       "3       V  2118470  2118670      +\n",
       "4       V  9614692  9614892      -"
      ]
     },
     "execution_count": 9,
     "metadata": {},
     "output_type": "execute_result"
    }
   ],
   "source": [
    "worm_df = pd.DataFrame.from_records([get_random_int(200, worm_chr_lengths) for i in trange(50_000)],\n",
    "                                    columns = [\"region\", \"start\", \"end\", \"strand\"])\n",
    "worm_df.index.name = \"id\"\n",
    "worm_df.head()"
   ]
  },
  {
   "cell_type": "markdown",
   "id": "c0496e67",
   "metadata": {},
   "source": [
    "## Train/test split"
   ]
  },
  {
   "cell_type": "code",
   "execution_count": 10,
   "id": "2f27f8d0",
   "metadata": {},
   "outputs": [
    {
     "data": {
      "text/plain": [
       "((37500, 4), (12500, 4))"
      ]
     },
     "execution_count": 10,
     "metadata": {},
     "output_type": "execute_result"
    }
   ],
   "source": [
    "train_human, test_human = train_test_split(human_df, shuffle=True, random_state=42)\n",
    "train_human.shape, test_human.shape"
   ]
  },
  {
   "cell_type": "code",
   "execution_count": 11,
   "id": "9ef9b7a4",
   "metadata": {},
   "outputs": [
    {
     "data": {
      "text/plain": [
       "((37500, 4), (12500, 4))"
      ]
     },
     "execution_count": 11,
     "metadata": {},
     "output_type": "execute_result"
    }
   ],
   "source": [
    "train_worm, test_worm = train_test_split(worm_df, shuffle=True, random_state=42)\n",
    "train_worm.shape, test_worm.shape"
   ]
  },
  {
   "cell_type": "markdown",
   "id": "757f1dbc",
   "metadata": {},
   "source": [
    "## YAML file"
   ]
  },
  {
   "cell_type": "code",
   "execution_count": 12,
   "id": "851f592d",
   "metadata": {},
   "outputs": [],
   "source": [
    "BASE_FILE_PATH = Path(\"../../datasets/demo_human_or_worm/\")\n",
    "\n",
    "# copied from https://stackoverflow.com/a/57892171\n",
    "def rm_tree(pth: Path):\n",
    "    for child in pth.iterdir():\n",
    "        if child.is_file():\n",
    "            child.unlink()\n",
    "        else:\n",
    "            rm_tree(child)\n",
    "    pth.rmdir()\n",
    "\n",
    "if BASE_FILE_PATH.exists():\n",
    "    rm_tree(BASE_FILE_PATH)\n",
    "    \n",
    "BASE_FILE_PATH.mkdir()\n",
    "(BASE_FILE_PATH / 'train').mkdir()\n",
    "(BASE_FILE_PATH / 'test').mkdir()"
   ]
  },
  {
   "cell_type": "code",
   "execution_count": 13,
   "id": "c30679b8",
   "metadata": {},
   "outputs": [
    {
     "data": {
      "text/plain": [
       "{'version': 0,\n",
       " 'classes': {'human': {'type': 'fa.gz',\n",
       "   'url': 'http://ftp.ensembl.org/pub/release-97/fasta/homo_sapiens/dna/Homo_sapiens.GRCh38.dna.toplevel.fa.gz',\n",
       "   'extra_processing': 'ENSEMBL_HUMAN_GENOME'},\n",
       "  'worm': {'type': 'fa.gz',\n",
       "   'url': 'http://ftp.ensembl.org/pub/release-104/fasta/caenorhabditis_elegans/dna/Caenorhabditis_elegans.WBcel235.dna.toplevel.fa.gz'}}}"
      ]
     },
     "execution_count": 13,
     "metadata": {},
     "output_type": "execute_result"
    }
   ],
   "source": [
    "with open(BASE_FILE_PATH / 'metadata.yaml', 'w') as fw:\n",
    "    desc = {\n",
    "        'version': 0,\n",
    "        'classes': {\n",
    "            'human': {\n",
    "                'type': 'fa.gz',\n",
    "                'url': 'http://ftp.ensembl.org/pub/release-97/fasta/homo_sapiens/dna/Homo_sapiens.GRCh38.dna.toplevel.fa.gz',\n",
    "                'extra_processing': 'ENSEMBL_HUMAN_GENOME' \n",
    "            },    \n",
    "            'worm': {\n",
    "                'type': 'fa.gz',\n",
    "                'url': 'http://ftp.ensembl.org/pub/release-104/fasta/caenorhabditis_elegans/dna/Caenorhabditis_elegans.WBcel235.dna.toplevel.fa.gz'\n",
    "            }\n",
    "        }\n",
    "    }\n",
    "    \n",
    "    yaml.dump(desc, fw)\n",
    "\n",
    "desc"
   ]
  },
  {
   "cell_type": "markdown",
   "id": "0388ef76",
   "metadata": {},
   "source": [
    "## CSV files"
   ]
  },
  {
   "cell_type": "code",
   "execution_count": 14,
   "id": "daefc3c6",
   "metadata": {},
   "outputs": [],
   "source": [
    "train_human.to_csv(BASE_FILE_PATH / 'train' / 'human.csv.gz', index=True, compression='gzip')\n",
    "train_worm.to_csv(BASE_FILE_PATH / 'train' / 'worm.csv.gz', index=True, compression='gzip')\n",
    "test_human.to_csv(BASE_FILE_PATH / 'test' / 'human.csv.gz', index=True, compression='gzip')\n",
    "test_worm.to_csv(BASE_FILE_PATH / 'test' / 'worm.csv.gz', index=True, compression='gzip')"
   ]
  },
  {
   "cell_type": "markdown",
   "id": "fb251a45",
   "metadata": {},
   "source": [
    "## Test that it can be downloaded"
   ]
  },
  {
   "cell_type": "code",
   "execution_count": 16,
   "id": "945f8192",
   "metadata": {},
   "outputs": [
    {
     "name": "stdout",
     "output_type": "stream",
     "text": [
      "Reference /home/petr/.genomic_benchmarks/fasta/Homo_sapiens.GRCh38.dna.toplevel.fa.gz already exists. Skipping.\n",
      "Reference /home/petr/.genomic_benchmarks/fasta/Caenorhabditis_elegans.WBcel235.dna.toplevel.fa.gz already exists. Skipping.\n"
     ]
    },
    {
     "name": "stderr",
     "output_type": "stream",
     "text": [
      "/home/petr/projects/genomic_benchmarks/src/genomic_benchmarks/loc2seq/with_biopython.py:87: UserWarning: No version specified. Using version 0.\n",
      "  warnings.warn(f\"No version specified. Using version {metadata['version']}.\")\n"
     ]
    },
    {
     "data": {
      "application/vnd.jupyter.widget-view+json": {
       "model_id": "27705aa4c16d4661a4a1019dfc56e37f",
       "version_major": 2,
       "version_minor": 0
      },
      "text/plain": [
       "  0%|          | 0/24 [00:00<?, ?it/s]"
      ]
     },
     "metadata": {},
     "output_type": "display_data"
    },
    {
     "data": {
      "application/vnd.jupyter.widget-view+json": {
       "model_id": "f2e5e6615da74e46b96665b9f8639c52",
       "version_major": 2,
       "version_minor": 0
      },
      "text/plain": [
       "0it [00:00, ?it/s]"
      ]
     },
     "metadata": {},
     "output_type": "display_data"
    },
    {
     "data": {
      "text/plain": [
       "PosixPath('/home/petr/.genomic_benchmarks/demo_human_or_worm')"
      ]
     },
     "execution_count": 16,
     "metadata": {},
     "output_type": "execute_result"
    }
   ],
   "source": [
    "from genomic_benchmarks.loc2seq import download_dataset\n",
    "\n",
    "download_dataset(\"demo_human_or_worm\")"
   ]
  },
  {
   "cell_type": "code",
   "execution_count": 18,
   "id": "08089ba8",
   "metadata": {},
   "outputs": [
    {
     "name": "stdout",
     "output_type": "stream",
     "text": [
      "Dataset `demo_human_or_worm` has 2 classes: human, worm.\n",
      "\n",
      "All lenghts of genomic intervals equals 200.\n",
      "\n",
      "Totally 100000 sequences have been found, 75000 for training and 25000 for testing.\n"
     ]
    },
    {
     "data": {
      "text/html": [
       "<div>\n",
       "<style scoped>\n",
       "    .dataframe tbody tr th:only-of-type {\n",
       "        vertical-align: middle;\n",
       "    }\n",
       "\n",
       "    .dataframe tbody tr th {\n",
       "        vertical-align: top;\n",
       "    }\n",
       "\n",
       "    .dataframe thead th {\n",
       "        text-align: right;\n",
       "    }\n",
       "</style>\n",
       "<table border=\"1\" class=\"dataframe\">\n",
       "  <thead>\n",
       "    <tr style=\"text-align: right;\">\n",
       "      <th></th>\n",
       "      <th>train</th>\n",
       "      <th>test</th>\n",
       "    </tr>\n",
       "  </thead>\n",
       "  <tbody>\n",
       "    <tr>\n",
       "      <th>human</th>\n",
       "      <td>37500</td>\n",
       "      <td>12500</td>\n",
       "    </tr>\n",
       "    <tr>\n",
       "      <th>worm</th>\n",
       "      <td>37500</td>\n",
       "      <td>12500</td>\n",
       "    </tr>\n",
       "  </tbody>\n",
       "</table>\n",
       "</div>"
      ],
      "text/plain": [
       "       train   test\n",
       "human  37500  12500\n",
       "worm   37500  12500"
      ]
     },
     "execution_count": 18,
     "metadata": {},
     "output_type": "execute_result"
    }
   ],
   "source": [
    "from genomic_benchmarks.data_check import info\n",
    "\n",
    "info(\"demo_human_or_worm\", 0)"
   ]
  },
  {
   "cell_type": "code",
   "execution_count": null,
   "id": "f06e371b",
   "metadata": {},
   "outputs": [],
   "source": []
  }
 ],
 "metadata": {
  "kernelspec": {
   "display_name": "Python 3 (ipykernel)",
   "language": "python",
   "name": "python3"
  },
  "language_info": {
   "codemirror_mode": {
    "name": "ipython",
    "version": 3
   },
   "file_extension": ".py",
   "mimetype": "text/x-python",
   "name": "python",
   "nbconvert_exporter": "python",
   "pygments_lexer": "ipython3",
   "version": "3.8.9"
  }
 },
 "nbformat": 4,
 "nbformat_minor": 5
}
