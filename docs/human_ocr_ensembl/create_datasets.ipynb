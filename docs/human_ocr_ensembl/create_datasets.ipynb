{
    "cells": [
        {
            "cell_type": "markdown",
            "metadata": {},
            "source": [
                "# Prepare environment"
            ]
        },
        {
            "cell_type": "code",
            "execution_count": 1,
            "metadata": {},
            "outputs": [
                {
                    "name": "stdout",
                    "output_type": "stream",
                    "text": [
                        "Collecting git+https://github.com/katarinagresova/ensembl_scraper.git@6d3bba8e6be7f5ead58a3bbaed6a4e8cd35e62fd\n",
                        "  Cloning https://github.com/katarinagresova/ensembl_scraper.git (to revision 6d3bba8e6be7f5ead58a3bbaed6a4e8cd35e62fd) to /tmp/pip-req-build-balwl2li\n",
                        "  Running command git clone --filter=blob:none -q https://github.com/katarinagresova/ensembl_scraper.git /tmp/pip-req-build-balwl2li\n",
                        "  Running command git rev-parse -q --verify 'sha^6d3bba8e6be7f5ead58a3bbaed6a4e8cd35e62fd'\n",
                        "  Running command git fetch -q https://github.com/katarinagresova/ensembl_scraper.git 6d3bba8e6be7f5ead58a3bbaed6a4e8cd35e62fd\n",
                        "  Resolved https://github.com/katarinagresova/ensembl_scraper.git to commit 6d3bba8e6be7f5ead58a3bbaed6a4e8cd35e62fd\n",
                        "  Preparing metadata (setup.py) ... \u001b[?25ldone\n",
                        "\u001b[?25hCollecting bio\n",
                        "  Downloading bio-1.3.3-py3-none-any.whl (271 kB)\n",
                        "     |████████████████████████████████| 271 kB 1.0 MB/s            \n",
                        "\u001b[?25hRequirement already satisfied: biopython in /home/katarina/git/genomic_benchmarks/venv/lib/python3.8/site-packages (from scraper==0.0.1) (1.79)\n",
                        "Requirement already satisfied: certifi in /home/katarina/git/genomic_benchmarks/venv/lib/python3.8/site-packages (from scraper==0.0.1) (2021.10.8)\n",
                        "Requirement already satisfied: charset-normalizer in /home/katarina/git/genomic_benchmarks/venv/lib/python3.8/site-packages (from scraper==0.0.1) (2.0.11)\n",
                        "Requirement already satisfied: idna in /home/katarina/git/genomic_benchmarks/venv/lib/python3.8/site-packages (from scraper==0.0.1) (3.3)\n",
                        "Collecting joblib\n",
                        "  Using cached joblib-1.1.0-py2.py3-none-any.whl (306 kB)\n",
                        "Requirement already satisfied: numpy in /home/katarina/git/genomic_benchmarks/venv/lib/python3.8/site-packages (from scraper==0.0.1) (1.22.2)\n",
                        "Requirement already satisfied: pandas in /home/katarina/git/genomic_benchmarks/venv/lib/python3.8/site-packages (from scraper==0.0.1) (1.4.0)\n",
                        "Collecting plac\n",
                        "  Downloading plac-1.3.4-py2.py3-none-any.whl (22 kB)\n",
                        "Collecting pyfiglet\n",
                        "  Downloading pyfiglet-0.8.post1-py2.py3-none-any.whl (865 kB)\n",
                        "     |████████████████████████████████| 865 kB 827 kB/s            \n",
                        "\u001b[?25hRequirement already satisfied: python-dateutil in /home/katarina/git/genomic_benchmarks/venv/lib/python3.8/site-packages (from scraper==0.0.1) (2.8.2)\n",
                        "Requirement already satisfied: pytz in /home/katarina/git/genomic_benchmarks/venv/lib/python3.8/site-packages (from scraper==0.0.1) (2021.3)\n",
                        "Requirement already satisfied: PyYAML>=5.4.1 in /home/katarina/git/genomic_benchmarks/venv/lib/python3.8/site-packages (from scraper==0.0.1) (6.0)\n",
                        "Requirement already satisfied: requests in /home/katarina/git/genomic_benchmarks/venv/lib/python3.8/site-packages (from scraper==0.0.1) (2.27.1)\n",
                        "Collecting scikit-learn\n",
                        "  Using cached scikit_learn-1.0.2-cp38-cp38-manylinux_2_17_x86_64.manylinux2014_x86_64.whl (26.7 MB)\n",
                        "Collecting scipy\n",
                        "  Using cached scipy-1.8.0-cp38-cp38-manylinux_2_17_x86_64.manylinux2014_x86_64.whl (41.6 MB)\n",
                        "Requirement already satisfied: six in /home/katarina/git/genomic_benchmarks/venv/lib/python3.8/site-packages (from scraper==0.0.1) (1.16.0)\n",
                        "Collecting threadpoolctl\n",
                        "  Using cached threadpoolctl-3.1.0-py3-none-any.whl (14 kB)\n",
                        "Requirement already satisfied: tqdm in /home/katarina/git/genomic_benchmarks/venv/lib/python3.8/site-packages (from scraper==0.0.1) (4.62.3)\n",
                        "Collecting twobitreader\n",
                        "  Downloading twobitreader-3.1.7.tar.gz (9.2 kB)\n",
                        "  Preparing metadata (setup.py) ... \u001b[?25ldone\n",
                        "\u001b[?25hRequirement already satisfied: urllib3 in /home/katarina/git/genomic_benchmarks/venv/lib/python3.8/site-packages (from scraper==0.0.1) (1.26.8)\n",
                        "Collecting mygene\n",
                        "  Downloading mygene-3.2.2-py2.py3-none-any.whl (5.4 kB)\n",
                        "Collecting biothings-client>=0.2.6\n",
                        "  Downloading biothings_client-0.2.6-py2.py3-none-any.whl (37 kB)\n",
                        "Building wheels for collected packages: scraper, twobitreader\n",
                        "  Building wheel for scraper (setup.py) ... \u001b[?25ldone\n",
                        "\u001b[?25h  Created wheel for scraper: filename=scraper-0.0.1-py3-none-any.whl size=23338 sha256=50bb2f6a4f9b0702711b6540cf3f65a1b4ebfc2b63d8e2e2047429197fbf689d\n",
                        "  Stored in directory: /home/katarina/.cache/pip/wheels/3c/52/75/1904ae3a9f4b4a10bacad98bea8e26dbb1a2811b79dd469e45\n",
                        "  Building wheel for twobitreader (setup.py) ... \u001b[?25ldone\n",
                        "\u001b[?25h  Created wheel for twobitreader: filename=twobitreader-3.1.7-py3-none-any.whl size=9602 sha256=d0444fe508bf85408da541bf0b61e4bb2f7e8230e49966161a9667573e45f44a\n",
                        "  Stored in directory: /home/katarina/.cache/pip/wheels/56/1b/18/8121ce5fbc96e925f225156c5ee2f2495090ff931984c11bd4\n",
                        "Successfully built scraper twobitreader\n",
                        "Installing collected packages: biothings-client, threadpoolctl, scipy, mygene, joblib, twobitreader, scikit-learn, pyfiglet, plac, bio, scraper\n",
                        "Successfully installed bio-1.3.3 biothings-client-0.2.6 joblib-1.1.0 mygene-3.2.2 plac-1.3.4 pyfiglet-0.8.post1 scikit-learn-1.0.2 scipy-1.8.0 scraper-0.0.1 threadpoolctl-3.1.0 twobitreader-3.1.7\n",
                        "\u001b[33mWARNING: You are using pip version 21.3.1; however, version 22.0.3 is available.\n",
                        "You should consider upgrading via the '/home/katarina/git/genomic_benchmarks/venv/bin/python -m pip install --upgrade pip' command.\u001b[0m\n"
                    ]
                }
            ],
            "source": [
                "!pip install git+https://github.com/katarinagresova/ensembl_scraper.git@6d3bba8e6be7f5ead58a3bbaed6a4e8cd35e62fd"
            ]
        },
        {
            "cell_type": "markdown",
            "metadata": {},
            "source": [
                "# Create config file"
            ]
        },
        {
            "cell_type": "code",
            "execution_count": 2,
            "metadata": {},
            "outputs": [],
            "source": [
                "import yaml\n",
                "\n",
                "config = {\n",
                "    \"root_dir\": \"../../datasets/\",\n",
                "    \"organisms\": {\n",
                "        \"homo_sapiens\": {\n",
                "            \"regulatory_feature\"\n",
                "        }\n",
                "    }\n",
                "}\n",
                "\n",
                "user_config = 'user_config.yaml'\n",
                "with open(user_config, 'w') as handle:\n",
                "  yaml.dump(config, handle)"
            ]
        },
        {
            "cell_type": "markdown",
            "metadata": {},
            "source": [
                "# Prepare directories"
            ]
        },
        {
            "cell_type": "code",
            "execution_count": 3,
            "metadata": {},
            "outputs": [],
            "source": [
                "from pathlib import Path\n",
                "\n",
                "BASE_FILE_PATH = Path(\"../../datasets/human_ocr_ensembl/\")\n",
                "\n",
                "# copied from https://stackoverflow.com/a/57892171\n",
                "def rm_tree(pth: Path):\n",
                "    for child in pth.iterdir():\n",
                "        if child.is_file():\n",
                "            child.unlink()\n",
                "        else:\n",
                "            rm_tree(child)\n",
                "    pth.rmdir()\n",
                "\n",
                "if BASE_FILE_PATH.exists():\n",
                "    rm_tree(BASE_FILE_PATH)"
            ]
        },
        {
            "cell_type": "markdown",
            "metadata": {},
            "source": [
                "# Run tool"
            ]
        },
        {
            "cell_type": "code",
            "execution_count": 4,
            "metadata": {},
            "outputs": [
                {
                    "name": "stdout",
                    "output_type": "stream",
                    "text": [
                        "Processing organisms:   0%|                               | 0/1 [00:00<?, ?it/s]\n",
                        "Processing feature files:   0%|                           | 0/1 [00:00<?, ?it/s]\u001b[AINFO:root:download_file(): Going to download file from path ftp://ftp.ensembl.org/pub/release-100/mysql/regulation_mart_100/hsapiens_regulatory_feature__regulatory_feature__main.txt.gz\n",
                        "INFO:root:download_file(): File downloaded to path ../../datasets//tmp//homo_sapiens_regulatory_feature.txt.gz.\n",
                        "INFO:root:parse_feature_file(): Going to parse file ../../datasets//tmp//homo_sapiens_regulatory_feature.txt.gz\n",
                        "INFO:root:parse_feature_file(): Done parsing file ../../datasets//tmp//homo_sapiens_regulatory_feature.txt.gz\n",
                        "\n",
                        "\n",
                        "Processing feature types:   0%|                           | 0/6 [00:00<?, ?it/s]\u001b[A\u001b[AINFO:root:find_sequences(): Going to find sequences based on genomic loci.\n",
                        "INFO:root:download_2bit_file(): Going to download 2bit file hg38\n",
                        "INFO:root:download_2bit_file(): File for hg38 downloaded to path ../../datasets//tmp/hg38.2bit.\n",
                        "INFO:root:find_sequences(): Done finding sequences.\n",
                        "INFO:root:remove_low_quality(): Going to preprocess sequences.\n",
                        "INFO:root:remove_low_quality(): Original number of sequences: 141250\n",
                        "INFO:root:remove_low_quality(): Number of sequences after contigs rejection: 141250\n",
                        "INFO:root:remove_low_quality(): Number of sequences after outlier rejection: 123915\n",
                        "INFO:root:remove_low_quality(): Number of sequences after Ns rejection: 123909\n",
                        "INFO:root:remove_low_quality(): Done preprocessing sequences.\n",
                        "INFO:root:download_2bit_file(): Going to download 2bit file hg38\n",
                        "INFO:root:download_2bit_file(): File for hg38 already exists. Not going to download.\n",
                        "INFO:root:download_2bit_file(): Going to download 2bit file hg38\n",
                        "INFO:root:download_2bit_file(): File for hg38 already exists. Not going to download.\n",
                        "\n",
                        "\n",
                        "Processing feature types:  17%|██▌            | 1/6 [39:11<3:15:57, 2351.46s/it]\u001b[A\u001b[AINFO:root:find_sequences(): Going to find sequences based on genomic loci.\n",
                        "INFO:root:download_2bit_file(): Going to download 2bit file hg38\n",
                        "INFO:root:download_2bit_file(): File for hg38 already exists. Not going to download.\n",
                        "INFO:root:find_sequences(): Done finding sequences.\n",
                        "INFO:root:remove_low_quality(): Going to preprocess sequences.\n",
                        "INFO:root:remove_low_quality(): Original number of sequences: 177376\n",
                        "INFO:root:remove_low_quality(): Number of sequences after contigs rejection: 177376\n",
                        "INFO:root:remove_low_quality(): Number of sequences after outlier rejection: 152129\n",
                        "INFO:root:remove_low_quality(): Number of sequences after Ns rejection: 152106\n",
                        "INFO:root:remove_low_quality(): Done preprocessing sequences.\n",
                        "INFO:root:download_2bit_file(): Going to download 2bit file hg38\n",
                        "INFO:root:download_2bit_file(): File for hg38 already exists. Not going to download.\n",
                        "INFO:root:download_2bit_file(): Going to download 2bit file hg38\n",
                        "INFO:root:download_2bit_file(): File for hg38 already exists. Not going to download.\n",
                        "\n",
                        "\n",
                        "Processing feature types:  33%|████▎        | 2/6 [1:10:01<2:17:05, 2056.41s/it]\u001b[A\u001b[AINFO:root:find_sequences(): Going to find sequences based on genomic loci.\n",
                        "INFO:root:download_2bit_file(): Going to download 2bit file hg38\n",
                        "INFO:root:download_2bit_file(): File for hg38 already exists. Not going to download.\n",
                        "INFO:root:find_sequences(): Done finding sequences.\n",
                        "INFO:root:remove_low_quality(): Going to preprocess sequences.\n",
                        "INFO:root:remove_low_quality(): Original number of sequences: 132592\n",
                        "INFO:root:remove_low_quality(): Number of sequences after contigs rejection: 132592\n",
                        "INFO:root:remove_low_quality(): Number of sequences after outlier rejection: 106894\n",
                        "INFO:root:remove_low_quality(): Number of sequences after Ns rejection: 106890\n",
                        "INFO:root:remove_low_quality(): Done preprocessing sequences.\n",
                        "INFO:root:download_2bit_file(): Going to download 2bit file hg38\n",
                        "INFO:root:download_2bit_file(): File for hg38 already exists. Not going to download.\n",
                        "INFO:root:download_2bit_file(): Going to download 2bit file hg38\n",
                        "INFO:root:download_2bit_file(): File for hg38 already exists. Not going to download.\n",
                        "\n",
                        "\n",
                        "Processing feature types:  50%|██████▌      | 3/6 [1:29:24<1:22:25, 1648.49s/it]\u001b[A\u001b[AINFO:root:find_sequences(): Going to find sequences based on genomic loci.\n",
                        "INFO:root:download_2bit_file(): Going to download 2bit file hg38\n",
                        "INFO:root:download_2bit_file(): File for hg38 already exists. Not going to download.\n",
                        "INFO:root:find_sequences(): Done finding sequences.\n",
                        "INFO:root:remove_low_quality(): Going to preprocess sequences.\n",
                        "INFO:root:remove_low_quality(): Original number of sequences: 97099\n",
                        "INFO:root:remove_low_quality(): Number of sequences after contigs rejection: 96572\n",
                        "INFO:root:remove_low_quality(): Number of sequences after outlier rejection: 87381\n",
                        "INFO:root:remove_low_quality(): Number of sequences after Ns rejection: 87378\n",
                        "INFO:root:remove_low_quality(): Done preprocessing sequences.\n",
                        "INFO:root:download_2bit_file(): Going to download 2bit file hg38\n",
                        "INFO:root:download_2bit_file(): File for hg38 already exists. Not going to download.\n",
                        "INFO:root:download_2bit_file(): Going to download 2bit file hg38\n",
                        "INFO:root:download_2bit_file(): File for hg38 already exists. Not going to download.\n",
                        "\n",
                        "\n",
                        "Processing feature types:  67%|██████████     | 4/6 [1:43:39<44:30, 1335.32s/it]\u001b[A\u001b[AINFO:root:find_sequences(): Going to find sequences based on genomic loci.\n",
                        "INFO:root:download_2bit_file(): Going to download 2bit file hg38\n",
                        "INFO:root:download_2bit_file(): File for hg38 already exists. Not going to download.\n",
                        "INFO:root:find_sequences(): Done finding sequences.\n",
                        "INFO:root:remove_low_quality(): Going to preprocess sequences.\n",
                        "INFO:root:remove_low_quality(): Original number of sequences: 35191\n",
                        "INFO:root:remove_low_quality(): Number of sequences after contigs rejection: 35191\n",
                        "INFO:root:remove_low_quality(): Number of sequences after outlier rejection: 32260\n",
                        "INFO:root:remove_low_quality(): Number of sequences after Ns rejection: 32258\n",
                        "INFO:root:remove_low_quality(): Done preprocessing sequences.\n",
                        "INFO:root:download_2bit_file(): Going to download 2bit file hg38\n",
                        "INFO:root:download_2bit_file(): File for hg38 already exists. Not going to download.\n",
                        "INFO:root:download_2bit_file(): Going to download 2bit file hg38\n",
                        "INFO:root:download_2bit_file(): File for hg38 already exists. Not going to download.\n",
                        "\n",
                        "\n",
                        "Processing feature types:  83%|█████████████▎  | 5/6 [1:46:46<15:21, 921.30s/it]\u001b[A\u001b[AINFO:root:find_sequences(): Going to find sequences based on genomic loci.\n",
                        "INFO:root:download_2bit_file(): Going to download 2bit file hg38\n",
                        "INFO:root:download_2bit_file(): File for hg38 already exists. Not going to download.\n",
                        "INFO:root:find_sequences(): Done finding sequences.\n",
                        "INFO:root:remove_low_quality(): Going to preprocess sequences.\n",
                        "INFO:root:remove_low_quality(): Original number of sequences: 30436\n",
                        "INFO:root:remove_low_quality(): Number of sequences after contigs rejection: 29820\n",
                        "INFO:root:remove_low_quality(): Number of sequences after outlier rejection: 25816\n",
                        "INFO:root:remove_low_quality(): Number of sequences after Ns rejection: 25816\n",
                        "INFO:root:remove_low_quality(): Done preprocessing sequences.\n",
                        "INFO:root:download_2bit_file(): Going to download 2bit file hg38\n",
                        "INFO:root:download_2bit_file(): File for hg38 already exists. Not going to download.\n",
                        "INFO:root:download_2bit_file(): Going to download 2bit file hg38\n",
                        "INFO:root:download_2bit_file(): File for hg38 already exists. Not going to download.\n",
                        "\n",
                        "\n",
                        "Processing feature types: 100%|███████████████| 6/6 [1:48:47<00:00, 1087.97s/it]\u001b[A\u001b[A\n",
                        "\n",
                        "Processing feature files: 100%|███████████████| 1/1 [1:49:23<00:00, 6563.80s/it]\u001b[A\n",
                        "Processing organisms: 100%|███████████████████| 1/1 [1:49:23<00:00, 6563.80s/it]\n"
                    ]
                }
            ],
            "source": [
                "!python -m scraper.ensembl_scraper -c user_config.yaml"
            ]
        },
        {
            "cell_type": "markdown",
            "metadata": {},
            "source": [
                "# Cleaning"
            ]
        },
        {
            "cell_type": "code",
            "execution_count": 5,
            "metadata": {},
            "outputs": [],
            "source": [
                "!mv ../../datasets/homo_sapiens_regulatory_feature_open_chromatin_region ../../datasets/human_ocr_ensembl/"
            ]
        },
        {
            "cell_type": "code",
            "execution_count": 6,
            "metadata": {},
            "outputs": [],
            "source": [
                "!rm user_config.yaml"
            ]
        },
        {
            "cell_type": "code",
            "execution_count": 8,
            "metadata": {},
            "outputs": [],
            "source": [
                "!rm -rf ../../datasets/tmp/"
            ]
        },
        {
            "cell_type": "code",
            "execution_count": 12,
            "metadata": {},
            "outputs": [],
            "source": [
                "!rm -rf ../../datasets/homo_sapiens_regulatory_feature_CTCF_binding_site\n",
                "!rm -rf ../../datasets/homo_sapiens_regulatory_feature_enhancer\n",
                "!rm -rf ../../datasets/homo_sapiens_regulatory_feature_promoter\n",
                "!rm -rf ../../datasets/homo_sapiens_regulatory_feature_promoter_flanking_region\n",
                "!rm -rf ../../datasets/homo_sapiens_regulatory_feature_TF_binding_site"
            ]
        },
        {
            "cell_type": "markdown",
            "metadata": {},
            "source": [
                "# Final reformating\n",
                "\n",
                "  * gzip all CSV files\n",
                "  * add extra formatting to yaml config file"
            ]
        },
        {
            "cell_type": "code",
            "execution_count": 7,
            "metadata": {},
            "outputs": [],
            "source": [
                "!find ../../datasets/human_ocr_ensembl/ -type f -name \"*.csv\" -exec gzip {} \\;"
            ]
        },
        {
            "cell_type": "code",
            "execution_count": 8,
            "metadata": {},
            "outputs": [
                {
                    "data": {
                        "text/plain": [
                            "{'classes': {'negative': {'type': 'fa.gz',\n",
                            "   'url': 'ftp://ftp.ensembl.org/pub/release-100/fasta/homo_sapiens/dna/Homo_sapiens.GRCh38.dna.toplevel.fa.gz'},\n",
                            "  'positive': {'type': 'fa.gz',\n",
                            "   'url': 'ftp://ftp.ensembl.org/pub/release-100/fasta/homo_sapiens/dna/Homo_sapiens.GRCh38.dna.toplevel.fa.gz'}},\n",
                            " 'version': 0}"
                        ]
                    },
                    "execution_count": 8,
                    "metadata": {},
                    "output_type": "execute_result"
                }
            ],
            "source": [
                "with open(\"../../datasets/human_ocr_ensembl/metadata.yaml\", \"r\") as stream:\n",
                "    try:\n",
                "        config = yaml.safe_load(stream)\n",
                "    except yaml.YAMLError as exc:\n",
                "        print(exc)\n",
                "\n",
                "config"
            ]
        },
        {
            "cell_type": "code",
            "execution_count": 9,
            "metadata": {},
            "outputs": [
                {
                    "data": {
                        "text/plain": [
                            "{'classes': {'negative': {'type': 'fa.gz',\n",
                            "   'url': 'ftp://ftp.ensembl.org/pub/release-100/fasta/homo_sapiens/dna/Homo_sapiens.GRCh38.dna.toplevel.fa.gz',\n",
                            "   'extra_processing': 'ENSEMBL_HUMAN_GENOME'},\n",
                            "  'positive': {'type': 'fa.gz',\n",
                            "   'url': 'ftp://ftp.ensembl.org/pub/release-100/fasta/homo_sapiens/dna/Homo_sapiens.GRCh38.dna.toplevel.fa.gz',\n",
                            "   'extra_processing': 'ENSEMBL_HUMAN_GENOME'}},\n",
                            " 'version': 0}"
                        ]
                    },
                    "execution_count": 9,
                    "metadata": {},
                    "output_type": "execute_result"
                }
            ],
            "source": [
                "config['classes']['positive']['extra_processing'] = 'ENSEMBL_HUMAN_GENOME' \n",
                "config['classes']['negative']['extra_processing'] = 'ENSEMBL_HUMAN_GENOME' \n",
                "\n",
                "config"
            ]
        },
        {
            "cell_type": "code",
            "execution_count": 10,
            "metadata": {},
            "outputs": [],
            "source": [
                "with open(\"../../datasets/human_ocr_ensembl/metadata.yaml\", 'w') as handle:\n",
                "  yaml.dump(config, handle)"
            ]
        },
        {
            "cell_type": "markdown",
            "metadata": {},
            "source": [
                "# Testing"
            ]
        },
        {
            "cell_type": "code",
            "execution_count": 11,
            "metadata": {},
            "outputs": [
                {
                    "name": "stdout",
                    "output_type": "stream",
                    "text": [
                        "Downloading ftp://ftp.ensembl.org/pub/release-100/fasta/homo_sapiens/dna/Homo_sapiens.GRCh38.dna.toplevel.fa.gz\n"
                    ]
                },
                {
                    "name": "stderr",
                    "output_type": "stream",
                    "text": [
                        "/home/katarina/.genomic_benchmarks/fasta/Homo_sapiens.GRCh38.dna.toplevel.fa.gz: 1.11GB [04:49, 3.82MB/s]                               \n",
                        "100%|██████████| 24/24 [00:30<00:00,  1.27s/it]\n"
                    ]
                },
                {
                    "data": {
                        "text/plain": [
                            "PosixPath('/home/katarina/.genomic_benchmarks/human_ocr_ensembl_regulatory')"
                        ]
                    },
                    "execution_count": 11,
                    "metadata": {},
                    "output_type": "execute_result"
                }
            ],
            "source": [
                "from genomic_benchmarks.loc2seq import download_dataset\n",
                "\n",
                "download_dataset(\"human_ocr_ensembl\")"
            ]
        },
        {
            "cell_type": "code",
            "execution_count": 12,
            "metadata": {},
            "outputs": [
                {
                    "name": "stdout",
                    "output_type": "stream",
                    "text": [
                        "Dataset `human_ocr_ensembl_regulatory` has 2 classes: negative, positive.\n",
                        "\n",
                        "The lenght of genomic intervals ranges from 71 to 593, with average 326.3452470873675 and median 315.0.\n",
                        "\n",
                        "Totally 174756 sequences have been found, 139804 for training and 34952 for testing.\n"
                    ]
                },
                {
                    "data": {
                        "text/html": [
                            "<div>\n",
                            "<style scoped>\n",
                            "    .dataframe tbody tr th:only-of-type {\n",
                            "        vertical-align: middle;\n",
                            "    }\n",
                            "\n",
                            "    .dataframe tbody tr th {\n",
                            "        vertical-align: top;\n",
                            "    }\n",
                            "\n",
                            "    .dataframe thead th {\n",
                            "        text-align: right;\n",
                            "    }\n",
                            "</style>\n",
                            "<table border=\"1\" class=\"dataframe\">\n",
                            "  <thead>\n",
                            "    <tr style=\"text-align: right;\">\n",
                            "      <th></th>\n",
                            "      <th>train</th>\n",
                            "      <th>test</th>\n",
                            "    </tr>\n",
                            "  </thead>\n",
                            "  <tbody>\n",
                            "    <tr>\n",
                            "      <th>negative</th>\n",
                            "      <td>69902</td>\n",
                            "      <td>17476</td>\n",
                            "    </tr>\n",
                            "    <tr>\n",
                            "      <th>positive</th>\n",
                            "      <td>69902</td>\n",
                            "      <td>17476</td>\n",
                            "    </tr>\n",
                            "  </tbody>\n",
                            "</table>\n",
                            "</div>"
                        ],
                        "text/plain": [
                            "          train   test\n",
                            "negative  69902  17476\n",
                            "positive  69902  17476"
                        ]
                    },
                    "execution_count": 12,
                    "metadata": {},
                    "output_type": "execute_result"
                }
            ],
            "source": [
                "from genomic_benchmarks.data_check import info\n",
                "\n",
                "info(\"human_ocr_ensembl\", 0)"
            ]
        }
    ],
    "metadata": {
        "interpreter": {
            "hash": "6aefa309fdc551cffdb69c1b229c63cc8afbc3d2cc6c7acf643414f933d1f738"
        },
        "kernelspec": {
            "display_name": "Python 3.8.2 64-bit ('venv': venv)",
            "name": "python3"
        },
        "language_info": {
            "codemirror_mode": {
                "name": "ipython",
                "version": 3
            },
            "file_extension": ".py",
            "mimetype": "text/x-python",
            "name": "python",
            "nbconvert_exporter": "python",
            "pygments_lexer": "ipython3",
            "version": "3.8.10"
        },
        "orig_nbformat": 4
    },
    "nbformat": 4,
    "nbformat_minor": 2
}