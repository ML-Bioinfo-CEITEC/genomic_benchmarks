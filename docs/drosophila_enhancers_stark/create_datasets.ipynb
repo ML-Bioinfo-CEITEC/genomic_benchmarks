{
 "cells": [
  {
   "cell_type": "code",
   "execution_count": 38,
   "metadata": {},
   "outputs": [
    {
     "name": "stdout",
     "output_type": "stream",
     "text": [
      "The autoreload extension is already loaded. To reload it, use:\n",
      "  %reload_ext autoreload\n"
     ]
    }
   ],
   "source": [
    "%load_ext autoreload\n",
    "%autoreload 2"
   ]
  },
  {
   "cell_type": "code",
   "execution_count": 39,
   "metadata": {},
   "outputs": [],
   "source": [
    "from pathlib import Path\n",
    "import pandas as pd\n",
    "import numpy as np\n",
    "from sklearn.model_selection import train_test_split\n",
    "import yaml"
   ]
  },
  {
   "cell_type": "markdown",
   "metadata": {},
   "source": [
    "# Prepare directories"
   ]
  },
  {
   "cell_type": "code",
   "execution_count": 40,
   "metadata": {},
   "outputs": [],
   "source": [
    "BASE_FILE_PATH = Path(\"../../datasets/drosophila_enhancers_stark/\")\n",
    "\n",
    "# copied from https://stackoverflow.com/a/57892171\n",
    "def rm_tree(pth: Path):\n",
    "    for child in pth.iterdir():\n",
    "        if child.is_file():\n",
    "            child.unlink()\n",
    "        else:\n",
    "            rm_tree(child)\n",
    "    pth.rmdir()\n",
    "\n",
    "if BASE_FILE_PATH.exists():\n",
    "    rm_tree(BASE_FILE_PATH)\n",
    "    \n",
    "BASE_FILE_PATH.mkdir()\n",
    "(BASE_FILE_PATH / 'train').mkdir()\n",
    "(BASE_FILE_PATH / 'test').mkdir()"
   ]
  },
  {
   "cell_type": "markdown",
   "metadata": {},
   "source": [
    "# Positive samples"
   ]
  },
  {
   "cell_type": "markdown",
   "metadata": {},
   "source": [
    "## Download enhancers"
   ]
  },
  {
   "cell_type": "code",
   "execution_count": 41,
   "metadata": {},
   "outputs": [
    {
     "name": "stdout",
     "output_type": "stream",
     "text": [
      "--2022-06-29 15:03:23--  https://enhancers.starklab.org/download/tiles/all\n",
      "Resolving enhancers.starklab.org (enhancers.starklab.org)... 193.171.188.109\n",
      "Connecting to enhancers.starklab.org (enhancers.starklab.org)|193.171.188.109|:443... connected.\n",
      "HTTP request sent, awaiting response... 200 OK\n",
      "Length: 957907 (935K) [text/csv]\n",
      "Saving to: ‘tiles.csv’\n",
      "\n",
      "tiles.csv           100%[===================>] 935,46K   854KB/s    in 1,1s    \n",
      "\n",
      "2022-06-29 15:03:24 (854 KB/s) - ‘tiles.csv’ saved [957907/957907]\n",
      "\n"
     ]
    }
   ],
   "source": [
    "!wget https://enhancers.starklab.org/download/tiles/all -O tiles.csv"
   ]
  },
  {
   "cell_type": "markdown",
   "metadata": {},
   "source": [
    "## Filter only verified enhancers"
   ]
  },
  {
   "cell_type": "code",
   "execution_count": 42,
   "metadata": {},
   "outputs": [
    {
     "data": {
      "text/html": [
       "<div>\n",
       "<style scoped>\n",
       "    .dataframe tbody tr th:only-of-type {\n",
       "        vertical-align: middle;\n",
       "    }\n",
       "\n",
       "    .dataframe tbody tr th {\n",
       "        vertical-align: top;\n",
       "    }\n",
       "\n",
       "    .dataframe thead th {\n",
       "        text-align: right;\n",
       "    }\n",
       "</style>\n",
       "<table border=\"1\" class=\"dataframe\">\n",
       "  <thead>\n",
       "    <tr style=\"text-align: right;\">\n",
       "      <th></th>\n",
       "      <th>VTID</th>\n",
       "      <th>Chrosome</th>\n",
       "      <th>Start</th>\n",
       "      <th>End</th>\n",
       "      <th>Length</th>\n",
       "      <th>Verification Status</th>\n",
       "      <th>Positive</th>\n",
       "      <th>stg4_6</th>\n",
       "      <th>stg7_8</th>\n",
       "      <th>stg9_10</th>\n",
       "      <th>stg11_12</th>\n",
       "      <th>stg13_14</th>\n",
       "      <th>stg15_16</th>\n",
       "    </tr>\n",
       "  </thead>\n",
       "  <tbody>\n",
       "    <tr>\n",
       "      <th>0</th>\n",
       "      <td>VT0002</td>\n",
       "      <td>chr2L</td>\n",
       "      <td>9410</td>\n",
       "      <td>10052</td>\n",
       "      <td>642</td>\n",
       "      <td>correct</td>\n",
       "      <td>0</td>\n",
       "      <td>NaN</td>\n",
       "      <td>NaN</td>\n",
       "      <td>NaN</td>\n",
       "      <td>NaN</td>\n",
       "      <td>NaN</td>\n",
       "      <td>NaN</td>\n",
       "    </tr>\n",
       "    <tr>\n",
       "      <th>1</th>\n",
       "      <td>VT0003</td>\n",
       "      <td>chr2L</td>\n",
       "      <td>11245</td>\n",
       "      <td>11850</td>\n",
       "      <td>605</td>\n",
       "      <td>correct</td>\n",
       "      <td>1</td>\n",
       "      <td>NaN</td>\n",
       "      <td>NaN</td>\n",
       "      <td>NaN</td>\n",
       "      <td>NaN</td>\n",
       "      <td>NaN</td>\n",
       "      <td>hindgut;2|posterior_hindgut;3</td>\n",
       "    </tr>\n",
       "    <tr>\n",
       "      <th>2</th>\n",
       "      <td>VT0004</td>\n",
       "      <td>chr2L</td>\n",
       "      <td>12730</td>\n",
       "      <td>13724</td>\n",
       "      <td>994</td>\n",
       "      <td>correct</td>\n",
       "      <td>0</td>\n",
       "      <td>NaN</td>\n",
       "      <td>NaN</td>\n",
       "      <td>NaN</td>\n",
       "      <td>NaN</td>\n",
       "      <td>NaN</td>\n",
       "      <td>NaN</td>\n",
       "    </tr>\n",
       "    <tr>\n",
       "      <th>3</th>\n",
       "      <td>VT0005</td>\n",
       "      <td>chr2L</td>\n",
       "      <td>15507</td>\n",
       "      <td>17836</td>\n",
       "      <td>2329</td>\n",
       "      <td>correct</td>\n",
       "      <td>0</td>\n",
       "      <td>NaN</td>\n",
       "      <td>NaN</td>\n",
       "      <td>NaN</td>\n",
       "      <td>NaN</td>\n",
       "      <td>dorsal_epidermis_subset;1</td>\n",
       "      <td>dorsal_epidermis_subset;1</td>\n",
       "    </tr>\n",
       "    <tr>\n",
       "      <th>4</th>\n",
       "      <td>VT0006</td>\n",
       "      <td>chr2L</td>\n",
       "      <td>16836</td>\n",
       "      <td>18924</td>\n",
       "      <td>2088</td>\n",
       "      <td>correct</td>\n",
       "      <td>1</td>\n",
       "      <td>ubiquitous;4</td>\n",
       "      <td>ubiquitous;4</td>\n",
       "      <td>ubiquitous;4</td>\n",
       "      <td>ubiquitous;4</td>\n",
       "      <td>ubiquitous;3</td>\n",
       "      <td>brain_broad;3|ubiquitous;3|ventral_nerve_cord_...</td>\n",
       "    </tr>\n",
       "    <tr>\n",
       "      <th>...</th>\n",
       "      <td>...</td>\n",
       "      <td>...</td>\n",
       "      <td>...</td>\n",
       "      <td>...</td>\n",
       "      <td>...</td>\n",
       "      <td>...</td>\n",
       "      <td>...</td>\n",
       "      <td>...</td>\n",
       "      <td>...</td>\n",
       "      <td>...</td>\n",
       "      <td>...</td>\n",
       "      <td>...</td>\n",
       "      <td>...</td>\n",
       "    </tr>\n",
       "    <tr>\n",
       "      <th>7788</th>\n",
       "      <td>VT9951</td>\n",
       "      <td>chr2L</td>\n",
       "      <td>19419622</td>\n",
       "      <td>19421726</td>\n",
       "      <td>2104</td>\n",
       "      <td>correct</td>\n",
       "      <td>1</td>\n",
       "      <td>NaN</td>\n",
       "      <td>NaN</td>\n",
       "      <td>NaN</td>\n",
       "      <td>NaN</td>\n",
       "      <td>lateral_epidermis_subset;3|ventral_epidermis_s...</td>\n",
       "      <td>head_epidermis_ventral_subset;3|lateral_epider...</td>\n",
       "    </tr>\n",
       "    <tr>\n",
       "      <th>7789</th>\n",
       "      <td>VT9978</td>\n",
       "      <td>chr2L</td>\n",
       "      <td>19469452</td>\n",
       "      <td>19471821</td>\n",
       "      <td>2369</td>\n",
       "      <td>correct</td>\n",
       "      <td>1</td>\n",
       "      <td>NaN</td>\n",
       "      <td>NaN</td>\n",
       "      <td>NaN</td>\n",
       "      <td>NaN</td>\n",
       "      <td>ventral_nerve_cord_subset;2|brain_subset;2</td>\n",
       "      <td>ventral_nerve_cord_subset;2|brain_subset;2</td>\n",
       "    </tr>\n",
       "    <tr>\n",
       "      <th>7790</th>\n",
       "      <td>VT9983</td>\n",
       "      <td>chr2L</td>\n",
       "      <td>19477513</td>\n",
       "      <td>19479654</td>\n",
       "      <td>2141</td>\n",
       "      <td>correct</td>\n",
       "      <td>1</td>\n",
       "      <td>NaN</td>\n",
       "      <td>NaN</td>\n",
       "      <td>NaN</td>\n",
       "      <td>NaN</td>\n",
       "      <td>ventral_nerve_cord_subset;1|brain_subset;1</td>\n",
       "      <td>ventral_nerve_cord_subset;1|midgut_chamber;2|b...</td>\n",
       "    </tr>\n",
       "    <tr>\n",
       "      <th>7791</th>\n",
       "      <td>VT9998</td>\n",
       "      <td>chr2L</td>\n",
       "      <td>19510549</td>\n",
       "      <td>19511569</td>\n",
       "      <td>1020</td>\n",
       "      <td>correct</td>\n",
       "      <td>0</td>\n",
       "      <td>NaN</td>\n",
       "      <td>NaN</td>\n",
       "      <td>NaN</td>\n",
       "      <td>NaN</td>\n",
       "      <td>NaN</td>\n",
       "      <td>NaN</td>\n",
       "    </tr>\n",
       "    <tr>\n",
       "      <th>7792</th>\n",
       "      <td>VT9999</td>\n",
       "      <td>chr2L</td>\n",
       "      <td>19512948</td>\n",
       "      <td>19513429</td>\n",
       "      <td>481</td>\n",
       "      <td>correct</td>\n",
       "      <td>0</td>\n",
       "      <td>NaN</td>\n",
       "      <td>NaN</td>\n",
       "      <td>NaN</td>\n",
       "      <td>NaN</td>\n",
       "      <td>NaN</td>\n",
       "      <td>NaN</td>\n",
       "    </tr>\n",
       "  </tbody>\n",
       "</table>\n",
       "<p>7793 rows × 13 columns</p>\n",
       "</div>"
      ],
      "text/plain": [
       "        VTID Chrosome     Start       End  Length Verification Status  \\\n",
       "0     VT0002    chr2L      9410     10052     642             correct   \n",
       "1     VT0003    chr2L     11245     11850     605             correct   \n",
       "2     VT0004    chr2L     12730     13724     994             correct   \n",
       "3     VT0005    chr2L     15507     17836    2329             correct   \n",
       "4     VT0006    chr2L     16836     18924    2088             correct   \n",
       "...      ...      ...       ...       ...     ...                 ...   \n",
       "7788  VT9951    chr2L  19419622  19421726    2104             correct   \n",
       "7789  VT9978    chr2L  19469452  19471821    2369             correct   \n",
       "7790  VT9983    chr2L  19477513  19479654    2141             correct   \n",
       "7791  VT9998    chr2L  19510549  19511569    1020             correct   \n",
       "7792  VT9999    chr2L  19512948  19513429     481             correct   \n",
       "\n",
       "      Positive        stg4_6        stg7_8       stg9_10      stg11_12  \\\n",
       "0            0           NaN           NaN           NaN           NaN   \n",
       "1            1           NaN           NaN           NaN           NaN   \n",
       "2            0           NaN           NaN           NaN           NaN   \n",
       "3            0           NaN           NaN           NaN           NaN   \n",
       "4            1  ubiquitous;4  ubiquitous;4  ubiquitous;4  ubiquitous;4   \n",
       "...        ...           ...           ...           ...           ...   \n",
       "7788         1           NaN           NaN           NaN           NaN   \n",
       "7789         1           NaN           NaN           NaN           NaN   \n",
       "7790         1           NaN           NaN           NaN           NaN   \n",
       "7791         0           NaN           NaN           NaN           NaN   \n",
       "7792         0           NaN           NaN           NaN           NaN   \n",
       "\n",
       "                                               stg13_14  \\\n",
       "0                                                   NaN   \n",
       "1                                                   NaN   \n",
       "2                                                   NaN   \n",
       "3                             dorsal_epidermis_subset;1   \n",
       "4                                          ubiquitous;3   \n",
       "...                                                 ...   \n",
       "7788  lateral_epidermis_subset;3|ventral_epidermis_s...   \n",
       "7789         ventral_nerve_cord_subset;2|brain_subset;2   \n",
       "7790         ventral_nerve_cord_subset;1|brain_subset;1   \n",
       "7791                                                NaN   \n",
       "7792                                                NaN   \n",
       "\n",
       "                                               stg15_16  \n",
       "0                                                   NaN  \n",
       "1                         hindgut;2|posterior_hindgut;3  \n",
       "2                                                   NaN  \n",
       "3                             dorsal_epidermis_subset;1  \n",
       "4     brain_broad;3|ubiquitous;3|ventral_nerve_cord_...  \n",
       "...                                                 ...  \n",
       "7788  head_epidermis_ventral_subset;3|lateral_epider...  \n",
       "7789         ventral_nerve_cord_subset;2|brain_subset;2  \n",
       "7790  ventral_nerve_cord_subset;1|midgut_chamber;2|b...  \n",
       "7791                                                NaN  \n",
       "7792                                                NaN  \n",
       "\n",
       "[7793 rows x 13 columns]"
      ]
     },
     "execution_count": 42,
     "metadata": {},
     "output_type": "execute_result"
    }
   ],
   "source": [
    "df = pd.read_csv('tiles.csv')\n",
    "df"
   ]
  },
  {
   "cell_type": "markdown",
   "metadata": {},
   "source": [
    "### Verification status\n",
    "\n",
    "From https://enhancers.starklab.org/methods: \"The identity of 7478 lines (96%) was confirmed using PCR of genomic DNA isolated from transgenic flies followed by Sanger sequencing (the remaining 4% were either not tested or failed).\""
   ]
  },
  {
   "cell_type": "code",
   "execution_count": 43,
   "metadata": {},
   "outputs": [
    {
     "data": {
      "text/plain": [
       "correct         7478\n",
       "not_verified     315\n",
       "Name: Verification Status, dtype: int64"
      ]
     },
     "execution_count": 43,
     "metadata": {},
     "output_type": "execute_result"
    }
   ],
   "source": [
    "df['Verification Status'].value_counts()"
   ]
  },
  {
   "cell_type": "markdown",
   "metadata": {},
   "source": [
    "### Positive\n",
    "\n",
    "From https://www.nature.com/articles/nature13395: We also manually annotated the strength of the signal for each annotation term semiquantitatively from 1 (very weak) to 5 (very strong). A line was considered as positive if it contained at least one annotation term with strength >1 (excluding enhancers with only very weak (1) activities). This resulted in 3,557 positively annotated VT strains (4,480 (58.1%) if also considering very weak signals).\n"
   ]
  },
  {
   "cell_type": "code",
   "execution_count": 44,
   "metadata": {},
   "outputs": [
    {
     "data": {
      "text/plain": [
       "0    4189\n",
       "1    3604\n",
       "Name: Positive, dtype: int64"
      ]
     },
     "execution_count": 44,
     "metadata": {},
     "output_type": "execute_result"
    }
   ],
   "source": [
    "df['Positive'].value_counts()"
   ]
  },
  {
   "cell_type": "code",
   "execution_count": 45,
   "metadata": {},
   "outputs": [
    {
     "data": {
      "text/html": [
       "<div>\n",
       "<style scoped>\n",
       "    .dataframe tbody tr th:only-of-type {\n",
       "        vertical-align: middle;\n",
       "    }\n",
       "\n",
       "    .dataframe tbody tr th {\n",
       "        vertical-align: top;\n",
       "    }\n",
       "\n",
       "    .dataframe thead th {\n",
       "        text-align: right;\n",
       "    }\n",
       "</style>\n",
       "<table border=\"1\" class=\"dataframe\">\n",
       "  <thead>\n",
       "    <tr style=\"text-align: right;\">\n",
       "      <th></th>\n",
       "      <th>index</th>\n",
       "      <th>VTID</th>\n",
       "      <th>Chrosome</th>\n",
       "      <th>Start</th>\n",
       "      <th>End</th>\n",
       "      <th>Length</th>\n",
       "      <th>Verification Status</th>\n",
       "      <th>Positive</th>\n",
       "      <th>stg4_6</th>\n",
       "      <th>stg7_8</th>\n",
       "      <th>stg9_10</th>\n",
       "      <th>stg11_12</th>\n",
       "      <th>stg13_14</th>\n",
       "      <th>stg15_16</th>\n",
       "    </tr>\n",
       "  </thead>\n",
       "  <tbody>\n",
       "    <tr>\n",
       "      <th>0</th>\n",
       "      <td>1</td>\n",
       "      <td>VT0003</td>\n",
       "      <td>chr2L</td>\n",
       "      <td>11245</td>\n",
       "      <td>11850</td>\n",
       "      <td>605</td>\n",
       "      <td>correct</td>\n",
       "      <td>1</td>\n",
       "      <td>NaN</td>\n",
       "      <td>NaN</td>\n",
       "      <td>NaN</td>\n",
       "      <td>NaN</td>\n",
       "      <td>NaN</td>\n",
       "      <td>hindgut;2|posterior_hindgut;3</td>\n",
       "    </tr>\n",
       "    <tr>\n",
       "      <th>1</th>\n",
       "      <td>4</td>\n",
       "      <td>VT0006</td>\n",
       "      <td>chr2L</td>\n",
       "      <td>16836</td>\n",
       "      <td>18924</td>\n",
       "      <td>2088</td>\n",
       "      <td>correct</td>\n",
       "      <td>1</td>\n",
       "      <td>ubiquitous;4</td>\n",
       "      <td>ubiquitous;4</td>\n",
       "      <td>ubiquitous;4</td>\n",
       "      <td>ubiquitous;4</td>\n",
       "      <td>ubiquitous;3</td>\n",
       "      <td>brain_broad;3|ubiquitous;3|ventral_nerve_cord_...</td>\n",
       "    </tr>\n",
       "    <tr>\n",
       "      <th>2</th>\n",
       "      <td>5</td>\n",
       "      <td>VT0007</td>\n",
       "      <td>chr2L</td>\n",
       "      <td>18031</td>\n",
       "      <td>20238</td>\n",
       "      <td>2207</td>\n",
       "      <td>correct</td>\n",
       "      <td>1</td>\n",
       "      <td>ubiquitous;3</td>\n",
       "      <td>ubiquitous;4</td>\n",
       "      <td>ubiquitous;4</td>\n",
       "      <td>ubiquitous;4</td>\n",
       "      <td>ubiquitous;4</td>\n",
       "      <td>midgut_chamber;4|ubiquitous;4</td>\n",
       "    </tr>\n",
       "    <tr>\n",
       "      <th>3</th>\n",
       "      <td>10</td>\n",
       "      <td>VT0013</td>\n",
       "      <td>chr2L</td>\n",
       "      <td>26520</td>\n",
       "      <td>27246</td>\n",
       "      <td>726</td>\n",
       "      <td>correct</td>\n",
       "      <td>1</td>\n",
       "      <td>procephalic_ectoderm_AISN;4</td>\n",
       "      <td>procephalic_ectoderm_anlage;3|head_mesoderm_an...</td>\n",
       "      <td>NaN</td>\n",
       "      <td>NaN</td>\n",
       "      <td>NaN</td>\n",
       "      <td>NaN</td>\n",
       "    </tr>\n",
       "    <tr>\n",
       "      <th>4</th>\n",
       "      <td>19</td>\n",
       "      <td>VT0025</td>\n",
       "      <td>chr2L</td>\n",
       "      <td>54047</td>\n",
       "      <td>56104</td>\n",
       "      <td>2057</td>\n",
       "      <td>correct</td>\n",
       "      <td>1</td>\n",
       "      <td>NaN</td>\n",
       "      <td>NaN</td>\n",
       "      <td>NaN</td>\n",
       "      <td>NaN</td>\n",
       "      <td>NaN</td>\n",
       "      <td>antenno-maxillary-labial_complex;4|ventral_epi...</td>\n",
       "    </tr>\n",
       "    <tr>\n",
       "      <th>...</th>\n",
       "      <td>...</td>\n",
       "      <td>...</td>\n",
       "      <td>...</td>\n",
       "      <td>...</td>\n",
       "      <td>...</td>\n",
       "      <td>...</td>\n",
       "      <td>...</td>\n",
       "      <td>...</td>\n",
       "      <td>...</td>\n",
       "      <td>...</td>\n",
       "      <td>...</td>\n",
       "      <td>...</td>\n",
       "      <td>...</td>\n",
       "      <td>...</td>\n",
       "    </tr>\n",
       "    <tr>\n",
       "      <th>3452</th>\n",
       "      <td>7784</td>\n",
       "      <td>VT9946</td>\n",
       "      <td>chr2L</td>\n",
       "      <td>19410749</td>\n",
       "      <td>19412957</td>\n",
       "      <td>2208</td>\n",
       "      <td>correct</td>\n",
       "      <td>1</td>\n",
       "      <td>NaN</td>\n",
       "      <td>NaN</td>\n",
       "      <td>NaN</td>\n",
       "      <td>amnioserosa;2</td>\n",
       "      <td>amnioserosa;3</td>\n",
       "      <td>amnioserosa;3</td>\n",
       "    </tr>\n",
       "    <tr>\n",
       "      <th>3453</th>\n",
       "      <td>7786</td>\n",
       "      <td>VT9949</td>\n",
       "      <td>chr2L</td>\n",
       "      <td>19415569</td>\n",
       "      <td>19417675</td>\n",
       "      <td>2106</td>\n",
       "      <td>correct</td>\n",
       "      <td>1</td>\n",
       "      <td>NaN</td>\n",
       "      <td>NaN</td>\n",
       "      <td>NaN</td>\n",
       "      <td>hindgut_proper_primordium;1|posterior_midgut_p...</td>\n",
       "      <td>hindgut;2|midgut_subset;2</td>\n",
       "      <td>head_subset;3|midgut_broad;3|hindgut;3|salivar...</td>\n",
       "    </tr>\n",
       "    <tr>\n",
       "      <th>3454</th>\n",
       "      <td>7788</td>\n",
       "      <td>VT9951</td>\n",
       "      <td>chr2L</td>\n",
       "      <td>19419622</td>\n",
       "      <td>19421726</td>\n",
       "      <td>2104</td>\n",
       "      <td>correct</td>\n",
       "      <td>1</td>\n",
       "      <td>NaN</td>\n",
       "      <td>NaN</td>\n",
       "      <td>NaN</td>\n",
       "      <td>NaN</td>\n",
       "      <td>lateral_epidermis_subset;3|ventral_epidermis_s...</td>\n",
       "      <td>head_epidermis_ventral_subset;3|lateral_epider...</td>\n",
       "    </tr>\n",
       "    <tr>\n",
       "      <th>3455</th>\n",
       "      <td>7789</td>\n",
       "      <td>VT9978</td>\n",
       "      <td>chr2L</td>\n",
       "      <td>19469452</td>\n",
       "      <td>19471821</td>\n",
       "      <td>2369</td>\n",
       "      <td>correct</td>\n",
       "      <td>1</td>\n",
       "      <td>NaN</td>\n",
       "      <td>NaN</td>\n",
       "      <td>NaN</td>\n",
       "      <td>NaN</td>\n",
       "      <td>ventral_nerve_cord_subset;2|brain_subset;2</td>\n",
       "      <td>ventral_nerve_cord_subset;2|brain_subset;2</td>\n",
       "    </tr>\n",
       "    <tr>\n",
       "      <th>3456</th>\n",
       "      <td>7790</td>\n",
       "      <td>VT9983</td>\n",
       "      <td>chr2L</td>\n",
       "      <td>19477513</td>\n",
       "      <td>19479654</td>\n",
       "      <td>2141</td>\n",
       "      <td>correct</td>\n",
       "      <td>1</td>\n",
       "      <td>NaN</td>\n",
       "      <td>NaN</td>\n",
       "      <td>NaN</td>\n",
       "      <td>NaN</td>\n",
       "      <td>ventral_nerve_cord_subset;1|brain_subset;1</td>\n",
       "      <td>ventral_nerve_cord_subset;1|midgut_chamber;2|b...</td>\n",
       "    </tr>\n",
       "  </tbody>\n",
       "</table>\n",
       "<p>3457 rows × 14 columns</p>\n",
       "</div>"
      ],
      "text/plain": [
       "      index    VTID Chrosome     Start       End  Length Verification Status  \\\n",
       "0         1  VT0003    chr2L     11245     11850     605             correct   \n",
       "1         4  VT0006    chr2L     16836     18924    2088             correct   \n",
       "2         5  VT0007    chr2L     18031     20238    2207             correct   \n",
       "3        10  VT0013    chr2L     26520     27246     726             correct   \n",
       "4        19  VT0025    chr2L     54047     56104    2057             correct   \n",
       "...     ...     ...      ...       ...       ...     ...                 ...   \n",
       "3452   7784  VT9946    chr2L  19410749  19412957    2208             correct   \n",
       "3453   7786  VT9949    chr2L  19415569  19417675    2106             correct   \n",
       "3454   7788  VT9951    chr2L  19419622  19421726    2104             correct   \n",
       "3455   7789  VT9978    chr2L  19469452  19471821    2369             correct   \n",
       "3456   7790  VT9983    chr2L  19477513  19479654    2141             correct   \n",
       "\n",
       "      Positive                       stg4_6  \\\n",
       "0            1                          NaN   \n",
       "1            1                 ubiquitous;4   \n",
       "2            1                 ubiquitous;3   \n",
       "3            1  procephalic_ectoderm_AISN;4   \n",
       "4            1                          NaN   \n",
       "...        ...                          ...   \n",
       "3452         1                          NaN   \n",
       "3453         1                          NaN   \n",
       "3454         1                          NaN   \n",
       "3455         1                          NaN   \n",
       "3456         1                          NaN   \n",
       "\n",
       "                                                 stg7_8       stg9_10  \\\n",
       "0                                                   NaN           NaN   \n",
       "1                                          ubiquitous;4  ubiquitous;4   \n",
       "2                                          ubiquitous;4  ubiquitous;4   \n",
       "3     procephalic_ectoderm_anlage;3|head_mesoderm_an...           NaN   \n",
       "4                                                   NaN           NaN   \n",
       "...                                                 ...           ...   \n",
       "3452                                                NaN           NaN   \n",
       "3453                                                NaN           NaN   \n",
       "3454                                                NaN           NaN   \n",
       "3455                                                NaN           NaN   \n",
       "3456                                                NaN           NaN   \n",
       "\n",
       "                                               stg11_12  \\\n",
       "0                                                   NaN   \n",
       "1                                          ubiquitous;4   \n",
       "2                                          ubiquitous;4   \n",
       "3                                                   NaN   \n",
       "4                                                   NaN   \n",
       "...                                                 ...   \n",
       "3452                                      amnioserosa;2   \n",
       "3453  hindgut_proper_primordium;1|posterior_midgut_p...   \n",
       "3454                                                NaN   \n",
       "3455                                                NaN   \n",
       "3456                                                NaN   \n",
       "\n",
       "                                               stg13_14  \\\n",
       "0                                                   NaN   \n",
       "1                                          ubiquitous;3   \n",
       "2                                          ubiquitous;4   \n",
       "3                                                   NaN   \n",
       "4                                                   NaN   \n",
       "...                                                 ...   \n",
       "3452                                      amnioserosa;3   \n",
       "3453                          hindgut;2|midgut_subset;2   \n",
       "3454  lateral_epidermis_subset;3|ventral_epidermis_s...   \n",
       "3455         ventral_nerve_cord_subset;2|brain_subset;2   \n",
       "3456         ventral_nerve_cord_subset;1|brain_subset;1   \n",
       "\n",
       "                                               stg15_16  \n",
       "0                         hindgut;2|posterior_hindgut;3  \n",
       "1     brain_broad;3|ubiquitous;3|ventral_nerve_cord_...  \n",
       "2                         midgut_chamber;4|ubiquitous;4  \n",
       "3                                                   NaN  \n",
       "4     antenno-maxillary-labial_complex;4|ventral_epi...  \n",
       "...                                                 ...  \n",
       "3452                                      amnioserosa;3  \n",
       "3453  head_subset;3|midgut_broad;3|hindgut;3|salivar...  \n",
       "3454  head_epidermis_ventral_subset;3|lateral_epider...  \n",
       "3455         ventral_nerve_cord_subset;2|brain_subset;2  \n",
       "3456  ventral_nerve_cord_subset;1|midgut_chamber;2|b...  \n",
       "\n",
       "[3457 rows x 14 columns]"
      ]
     },
     "execution_count": 45,
     "metadata": {},
     "output_type": "execute_result"
    }
   ],
   "source": [
    "df = df[(df['Verification Status'] == 'correct') & (df['Positive'] == 1)]\n",
    "df = df.reset_index()\n",
    "df"
   ]
  },
  {
   "cell_type": "code",
   "execution_count": 46,
   "metadata": {},
   "outputs": [
    {
     "name": "stderr",
     "output_type": "stream",
     "text": [
      "/tmp/ipykernel_381321/3624373002.py:3: SettingWithCopyWarning: \n",
      "A value is trying to be set on a copy of a slice from a DataFrame.\n",
      "Try using .loc[row_indexer,col_indexer] = value instead\n",
      "\n",
      "See the caveats in the documentation: https://pandas.pydata.org/pandas-docs/stable/user_guide/indexing.html#returning-a-view-versus-a-copy\n",
      "  df['strand'] = '+'\n"
     ]
    },
    {
     "data": {
      "text/html": [
       "<div>\n",
       "<style scoped>\n",
       "    .dataframe tbody tr th:only-of-type {\n",
       "        vertical-align: middle;\n",
       "    }\n",
       "\n",
       "    .dataframe tbody tr th {\n",
       "        vertical-align: top;\n",
       "    }\n",
       "\n",
       "    .dataframe thead th {\n",
       "        text-align: right;\n",
       "    }\n",
       "</style>\n",
       "<table border=\"1\" class=\"dataframe\">\n",
       "  <thead>\n",
       "    <tr style=\"text-align: right;\">\n",
       "      <th></th>\n",
       "      <th>region</th>\n",
       "      <th>start</th>\n",
       "      <th>end</th>\n",
       "      <th>strand</th>\n",
       "    </tr>\n",
       "  </thead>\n",
       "  <tbody>\n",
       "    <tr>\n",
       "      <th>0</th>\n",
       "      <td>chr2L</td>\n",
       "      <td>11245</td>\n",
       "      <td>11850</td>\n",
       "      <td>+</td>\n",
       "    </tr>\n",
       "    <tr>\n",
       "      <th>1</th>\n",
       "      <td>chr2L</td>\n",
       "      <td>16836</td>\n",
       "      <td>18924</td>\n",
       "      <td>+</td>\n",
       "    </tr>\n",
       "    <tr>\n",
       "      <th>2</th>\n",
       "      <td>chr2L</td>\n",
       "      <td>18031</td>\n",
       "      <td>20238</td>\n",
       "      <td>+</td>\n",
       "    </tr>\n",
       "    <tr>\n",
       "      <th>3</th>\n",
       "      <td>chr2L</td>\n",
       "      <td>26520</td>\n",
       "      <td>27246</td>\n",
       "      <td>+</td>\n",
       "    </tr>\n",
       "    <tr>\n",
       "      <th>4</th>\n",
       "      <td>chr2L</td>\n",
       "      <td>54047</td>\n",
       "      <td>56104</td>\n",
       "      <td>+</td>\n",
       "    </tr>\n",
       "    <tr>\n",
       "      <th>...</th>\n",
       "      <td>...</td>\n",
       "      <td>...</td>\n",
       "      <td>...</td>\n",
       "      <td>...</td>\n",
       "    </tr>\n",
       "    <tr>\n",
       "      <th>3452</th>\n",
       "      <td>chr2L</td>\n",
       "      <td>19410749</td>\n",
       "      <td>19412957</td>\n",
       "      <td>+</td>\n",
       "    </tr>\n",
       "    <tr>\n",
       "      <th>3453</th>\n",
       "      <td>chr2L</td>\n",
       "      <td>19415569</td>\n",
       "      <td>19417675</td>\n",
       "      <td>+</td>\n",
       "    </tr>\n",
       "    <tr>\n",
       "      <th>3454</th>\n",
       "      <td>chr2L</td>\n",
       "      <td>19419622</td>\n",
       "      <td>19421726</td>\n",
       "      <td>+</td>\n",
       "    </tr>\n",
       "    <tr>\n",
       "      <th>3455</th>\n",
       "      <td>chr2L</td>\n",
       "      <td>19469452</td>\n",
       "      <td>19471821</td>\n",
       "      <td>+</td>\n",
       "    </tr>\n",
       "    <tr>\n",
       "      <th>3456</th>\n",
       "      <td>chr2L</td>\n",
       "      <td>19477513</td>\n",
       "      <td>19479654</td>\n",
       "      <td>+</td>\n",
       "    </tr>\n",
       "  </tbody>\n",
       "</table>\n",
       "<p>3457 rows × 4 columns</p>\n",
       "</div>"
      ],
      "text/plain": [
       "     region     start       end strand\n",
       "0     chr2L     11245     11850      +\n",
       "1     chr2L     16836     18924      +\n",
       "2     chr2L     18031     20238      +\n",
       "3     chr2L     26520     27246      +\n",
       "4     chr2L     54047     56104      +\n",
       "...     ...       ...       ...    ...\n",
       "3452  chr2L  19410749  19412957      +\n",
       "3453  chr2L  19415569  19417675      +\n",
       "3454  chr2L  19419622  19421726      +\n",
       "3455  chr2L  19469452  19471821      +\n",
       "3456  chr2L  19477513  19479654      +\n",
       "\n",
       "[3457 rows x 4 columns]"
      ]
     },
     "execution_count": 46,
     "metadata": {},
     "output_type": "execute_result"
    }
   ],
   "source": [
    "df = df[['Chrosome', 'Start', 'End']]\n",
    "df.columns = ['region', 'start', 'end']\n",
    "df['strand'] = '+'\n",
    "df"
   ]
  },
  {
   "cell_type": "markdown",
   "metadata": {},
   "source": [
    "## Lift to dm6 genome assembly"
   ]
  },
  {
   "cell_type": "code",
   "execution_count": 47,
   "metadata": {},
   "outputs": [
    {
     "name": "stdout",
     "output_type": "stream",
     "text": [
      "Requirement already satisfied: pyliftover in /home/katarina/git/genomic_benchmarks/venv/lib/python3.8/site-packages (0.4)\n",
      "\u001b[33mWARNING: You are using pip version 21.3.1; however, version 22.1.2 is available.\n",
      "You should consider upgrading via the '/home/katarina/git/genomic_benchmarks/venv/bin/python -m pip install --upgrade pip' command.\u001b[0m\n"
     ]
    }
   ],
   "source": [
    "!pip install pyliftover"
   ]
  },
  {
   "cell_type": "code",
   "execution_count": 48,
   "metadata": {},
   "outputs": [],
   "source": [
    "from pyliftover import LiftOver\n",
    "lo = LiftOver('dm3', 'dm6')"
   ]
  },
  {
   "cell_type": "code",
   "execution_count": 49,
   "metadata": {},
   "outputs": [],
   "source": [
    "def convert_coordinate(region, start, end, strand):\n",
    "    results = lo.convert_coordinate(region, start, strand)\n",
    "    if results is None:\n",
    "        return []\n",
    "    else:\n",
    "        reg, sta, str, _ = results[0]\n",
    "        en = sta + (end - start)\n",
    "        return [reg, sta, en, str]"
   ]
  },
  {
   "cell_type": "code",
   "execution_count": 50,
   "metadata": {},
   "outputs": [
    {
     "data": {
      "text/plain": [
       "chr3R       1004\n",
       "chr2L        658\n",
       "chr2R        636\n",
       "chr3L        618\n",
       "chrX         526\n",
       "chr4          14\n",
       "chr3LHet       1\n",
       "Name: region, dtype: int64"
      ]
     },
     "execution_count": 50,
     "metadata": {},
     "output_type": "execute_result"
    }
   ],
   "source": [
    "df['region'].value_counts()"
   ]
  },
  {
   "cell_type": "code",
   "execution_count": 51,
   "metadata": {},
   "outputs": [
    {
     "data": {
      "text/html": [
       "<div>\n",
       "<style scoped>\n",
       "    .dataframe tbody tr th:only-of-type {\n",
       "        vertical-align: middle;\n",
       "    }\n",
       "\n",
       "    .dataframe tbody tr th {\n",
       "        vertical-align: top;\n",
       "    }\n",
       "\n",
       "    .dataframe thead th {\n",
       "        text-align: right;\n",
       "    }\n",
       "</style>\n",
       "<table border=\"1\" class=\"dataframe\">\n",
       "  <thead>\n",
       "    <tr style=\"text-align: right;\">\n",
       "      <th></th>\n",
       "      <th>region</th>\n",
       "      <th>start</th>\n",
       "      <th>end</th>\n",
       "      <th>strand</th>\n",
       "    </tr>\n",
       "  </thead>\n",
       "  <tbody>\n",
       "    <tr>\n",
       "      <th>0</th>\n",
       "      <td>chr2L</td>\n",
       "      <td>11245</td>\n",
       "      <td>11850</td>\n",
       "      <td>+</td>\n",
       "    </tr>\n",
       "    <tr>\n",
       "      <th>1</th>\n",
       "      <td>chr2L</td>\n",
       "      <td>16836</td>\n",
       "      <td>18924</td>\n",
       "      <td>+</td>\n",
       "    </tr>\n",
       "    <tr>\n",
       "      <th>2</th>\n",
       "      <td>chr2L</td>\n",
       "      <td>18031</td>\n",
       "      <td>20238</td>\n",
       "      <td>+</td>\n",
       "    </tr>\n",
       "    <tr>\n",
       "      <th>3</th>\n",
       "      <td>chr2L</td>\n",
       "      <td>26520</td>\n",
       "      <td>27246</td>\n",
       "      <td>+</td>\n",
       "    </tr>\n",
       "    <tr>\n",
       "      <th>4</th>\n",
       "      <td>chr2L</td>\n",
       "      <td>54047</td>\n",
       "      <td>56104</td>\n",
       "      <td>+</td>\n",
       "    </tr>\n",
       "    <tr>\n",
       "      <th>...</th>\n",
       "      <td>...</td>\n",
       "      <td>...</td>\n",
       "      <td>...</td>\n",
       "      <td>...</td>\n",
       "    </tr>\n",
       "    <tr>\n",
       "      <th>3452</th>\n",
       "      <td>chr2L</td>\n",
       "      <td>19410749</td>\n",
       "      <td>19412957</td>\n",
       "      <td>+</td>\n",
       "    </tr>\n",
       "    <tr>\n",
       "      <th>3453</th>\n",
       "      <td>chr2L</td>\n",
       "      <td>19415569</td>\n",
       "      <td>19417675</td>\n",
       "      <td>+</td>\n",
       "    </tr>\n",
       "    <tr>\n",
       "      <th>3454</th>\n",
       "      <td>chr2L</td>\n",
       "      <td>19419622</td>\n",
       "      <td>19421726</td>\n",
       "      <td>+</td>\n",
       "    </tr>\n",
       "    <tr>\n",
       "      <th>3455</th>\n",
       "      <td>chr2L</td>\n",
       "      <td>19469452</td>\n",
       "      <td>19471821</td>\n",
       "      <td>+</td>\n",
       "    </tr>\n",
       "    <tr>\n",
       "      <th>3456</th>\n",
       "      <td>chr2L</td>\n",
       "      <td>19477513</td>\n",
       "      <td>19479654</td>\n",
       "      <td>+</td>\n",
       "    </tr>\n",
       "  </tbody>\n",
       "</table>\n",
       "<p>3457 rows × 4 columns</p>\n",
       "</div>"
      ],
      "text/plain": [
       "     region     start       end strand\n",
       "0     chr2L     11245     11850      +\n",
       "1     chr2L     16836     18924      +\n",
       "2     chr2L     18031     20238      +\n",
       "3     chr2L     26520     27246      +\n",
       "4     chr2L     54047     56104      +\n",
       "...     ...       ...       ...    ...\n",
       "3452  chr2L  19410749  19412957      +\n",
       "3453  chr2L  19415569  19417675      +\n",
       "3454  chr2L  19419622  19421726      +\n",
       "3455  chr2L  19469452  19471821      +\n",
       "3456  chr2L  19477513  19479654      +\n",
       "\n",
       "[3457 rows x 4 columns]"
      ]
     },
     "execution_count": 51,
     "metadata": {},
     "output_type": "execute_result"
    }
   ],
   "source": [
    "df = pd.DataFrame(df.apply(lambda x:\n",
    "    convert_coordinate(x['region'], x['start'], x['end'], x['strand']),\n",
    "    axis=1\n",
    ").tolist(), columns=['region', 'start', 'end', 'strand'])\n",
    "df"
   ]
  },
  {
   "cell_type": "code",
   "execution_count": 52,
   "metadata": {},
   "outputs": [
    {
     "data": {
      "text/plain": [
       "chr3R    1004\n",
       "chr2L     658\n",
       "chr2R     636\n",
       "chr3L     619\n",
       "chrX      526\n",
       "chr4       14\n",
       "Name: region, dtype: int64"
      ]
     },
     "execution_count": 52,
     "metadata": {},
     "output_type": "execute_result"
    }
   ],
   "source": [
    "df['region'].value_counts()"
   ]
  },
  {
   "cell_type": "markdown",
   "metadata": {},
   "source": [
    "## Filtering chromosomes\n",
    "\n"
   ]
  },
  {
   "cell_type": "code",
   "execution_count": 53,
   "metadata": {},
   "outputs": [],
   "source": [
    "CHROMOSOMES = ['chr2L', 'chr2R', 'chr3L', 'chr3R', 'chr4', 'chrX', 'chrY', 'chrM']"
   ]
  },
  {
   "cell_type": "code",
   "execution_count": 54,
   "metadata": {},
   "outputs": [
    {
     "data": {
      "text/plain": [
       "chr3R    1004\n",
       "chr2L     658\n",
       "chr2R     636\n",
       "chr3L     619\n",
       "chrX      526\n",
       "chr4       14\n",
       "Name: region, dtype: int64"
      ]
     },
     "execution_count": 54,
     "metadata": {},
     "output_type": "execute_result"
    }
   ],
   "source": [
    "df['region'].value_counts()"
   ]
  },
  {
   "cell_type": "code",
   "execution_count": 55,
   "metadata": {},
   "outputs": [],
   "source": [
    "df = df[df['region'].isin(CHROMOSOMES)]\n",
    "df = df.reset_index(drop=True)"
   ]
  },
  {
   "cell_type": "code",
   "execution_count": 56,
   "metadata": {},
   "outputs": [
    {
     "data": {
      "text/plain": [
       "chr3R    1004\n",
       "chr2L     658\n",
       "chr2R     636\n",
       "chr3L     619\n",
       "chrX      526\n",
       "chr4       14\n",
       "Name: region, dtype: int64"
      ]
     },
     "execution_count": 56,
     "metadata": {},
     "output_type": "execute_result"
    }
   ],
   "source": [
    "df['region'].value_counts()"
   ]
  },
  {
   "cell_type": "markdown",
   "metadata": {},
   "source": [
    "## Train-test split"
   ]
  },
  {
   "cell_type": "code",
   "execution_count": 57,
   "metadata": {},
   "outputs": [
    {
     "data": {
      "text/plain": [
       "((2592, 4), (865, 4))"
      ]
     },
     "execution_count": 57,
     "metadata": {},
     "output_type": "execute_result"
    }
   ],
   "source": [
    "df.index.name = \"id\"\n",
    "train_pos_seqs, test_pos_seqs = train_test_split(df, shuffle=True, random_state=42)\n",
    "train_pos_seqs.shape, test_pos_seqs.shape"
   ]
  },
  {
   "cell_type": "markdown",
   "metadata": {},
   "source": [
    "# Generating negative samples"
   ]
  },
  {
   "cell_type": "code",
   "execution_count": 58,
   "metadata": {},
   "outputs": [],
   "source": [
    "import os\n",
    "from twobitreader.download import save_genome\n",
    "from twobitreader import TwoBitFile\n",
    "\n",
    "def get_2bit_genome_file(genome_name, local_dir):\n",
    "    save_genome(genome_name, destdir=local_dir, mode='http')\n",
    "    twobit_path = os.path.join(local_dir, genome_name + '.2bit')\n",
    "    return TwoBitFile(twobit_path)"
   ]
  },
  {
   "cell_type": "code",
   "execution_count": 59,
   "metadata": {},
   "outputs": [],
   "source": [
    "def get_chr_names_and_lengths():\n",
    "\n",
    "    chr_lengths = {}\n",
    "    genome = get_2bit_genome_file('dm6', './')\n",
    "    for chromosome in genome.keys():\n",
    "        if chromosome in CHROMOSOMES:\n",
    "            chr_lengths[chromosome] = len(genome[chromosome])\n",
    "\n",
    "    # check that all lengths are different from 0\n",
    "    assert all(x != 0 for x in chr_lengths.values())\n",
    "\n",
    "    return chr_lengths"
   ]
  },
  {
   "cell_type": "code",
   "execution_count": 60,
   "metadata": {},
   "outputs": [],
   "source": [
    "def get_random_chr(chr_names_and_lengths):\n",
    "    chr_lengths = pd.Series(chr_names_and_lengths.values())\n",
    "    chr_probs = chr_lengths / chr_lengths.sum()\n",
    "    chr_names = list(chr_names_and_lengths.keys())\n",
    "    return chr_names[np.argwhere(np.random.multinomial(1, chr_probs))[0][0]]\n",
    "\n",
    "\n",
    "def is_intersecting(c, pos, df_forbidden):\n",
    "    intersecting = (df_forbidden['region'] == c) & (df_forbidden['start'].astype(int) <= pos) & (\n",
    "                df_forbidden['end'].astype(int) >= pos)\n",
    "    return intersecting.any()\n",
    "\n",
    "\n",
    "def get_random_pos(df_forbidden: pd.DataFrame, chr_names_and_lengths, offset_from_end):\n",
    "    c = get_random_chr(chr_names_and_lengths)\n",
    "    c_len = chr_names_and_lengths[c]\n",
    "    pos = np.random.randint(c_len - offset_from_end) + 1\n",
    "\n",
    "    while is_intersecting(c, pos, df_forbidden):\n",
    "        pos = np.random.randint(c_len) + 1\n",
    "\n",
    "    return c, pos"
   ]
  },
  {
   "cell_type": "code",
   "execution_count": 61,
   "metadata": {},
   "outputs": [
    {
     "data": {
      "text/plain": [
       "{'chr2L': 23513712,\n",
       " 'chr2R': 25286936,\n",
       " 'chr3L': 28110227,\n",
       " 'chr3R': 32079331,\n",
       " 'chr4': 1348131,\n",
       " 'chrM': 19524,\n",
       " 'chrX': 23542271,\n",
       " 'chrY': 3667352}"
      ]
     },
     "execution_count": 61,
     "metadata": {},
     "output_type": "execute_result"
    }
   ],
   "source": [
    "chr_names_and_lengths = get_chr_names_and_lengths()\n",
    "chr_names_and_lengths"
   ]
  },
  {
   "cell_type": "code",
   "execution_count": 62,
   "metadata": {},
   "outputs": [
    {
     "data": {
      "text/plain": [
       "('chr2R', 17364976)"
      ]
     },
     "execution_count": 62,
     "metadata": {},
     "output_type": "execute_result"
    }
   ],
   "source": [
    "get_random_pos(df, chr_names_and_lengths, 0)"
   ]
  },
  {
   "cell_type": "code",
   "execution_count": 63,
   "metadata": {},
   "outputs": [
    {
     "data": {
      "text/html": [
       "<div>\n",
       "<style scoped>\n",
       "    .dataframe tbody tr th:only-of-type {\n",
       "        vertical-align: middle;\n",
       "    }\n",
       "\n",
       "    .dataframe tbody tr th {\n",
       "        vertical-align: top;\n",
       "    }\n",
       "\n",
       "    .dataframe thead th {\n",
       "        text-align: right;\n",
       "    }\n",
       "</style>\n",
       "<table border=\"1\" class=\"dataframe\">\n",
       "  <thead>\n",
       "    <tr style=\"text-align: right;\">\n",
       "      <th></th>\n",
       "      <th>region</th>\n",
       "      <th>start</th>\n",
       "      <th>end</th>\n",
       "      <th>strand</th>\n",
       "    </tr>\n",
       "  </thead>\n",
       "  <tbody>\n",
       "    <tr>\n",
       "      <th>0</th>\n",
       "      <td>chr2R</td>\n",
       "      <td>2580688</td>\n",
       "      <td>2581293</td>\n",
       "      <td>+</td>\n",
       "    </tr>\n",
       "    <tr>\n",
       "      <th>1</th>\n",
       "      <td>chr3R</td>\n",
       "      <td>20787763</td>\n",
       "      <td>20789851</td>\n",
       "      <td>+</td>\n",
       "    </tr>\n",
       "    <tr>\n",
       "      <th>2</th>\n",
       "      <td>chr2R</td>\n",
       "      <td>13029315</td>\n",
       "      <td>13031522</td>\n",
       "      <td>+</td>\n",
       "    </tr>\n",
       "    <tr>\n",
       "      <th>3</th>\n",
       "      <td>chrX</td>\n",
       "      <td>18148359</td>\n",
       "      <td>18149085</td>\n",
       "      <td>+</td>\n",
       "    </tr>\n",
       "    <tr>\n",
       "      <th>4</th>\n",
       "      <td>chr2R</td>\n",
       "      <td>9553093</td>\n",
       "      <td>9555150</td>\n",
       "      <td>+</td>\n",
       "    </tr>\n",
       "    <tr>\n",
       "      <th>...</th>\n",
       "      <td>...</td>\n",
       "      <td>...</td>\n",
       "      <td>...</td>\n",
       "      <td>...</td>\n",
       "    </tr>\n",
       "    <tr>\n",
       "      <th>3452</th>\n",
       "      <td>chr2R</td>\n",
       "      <td>11505900</td>\n",
       "      <td>11508108</td>\n",
       "      <td>+</td>\n",
       "    </tr>\n",
       "    <tr>\n",
       "      <th>3453</th>\n",
       "      <td>chr3L</td>\n",
       "      <td>505843</td>\n",
       "      <td>507949</td>\n",
       "      <td>+</td>\n",
       "    </tr>\n",
       "    <tr>\n",
       "      <th>3454</th>\n",
       "      <td>chr2R</td>\n",
       "      <td>3437488</td>\n",
       "      <td>3439592</td>\n",
       "      <td>+</td>\n",
       "    </tr>\n",
       "    <tr>\n",
       "      <th>3455</th>\n",
       "      <td>chr3R</td>\n",
       "      <td>28857544</td>\n",
       "      <td>28859913</td>\n",
       "      <td>+</td>\n",
       "    </tr>\n",
       "    <tr>\n",
       "      <th>3456</th>\n",
       "      <td>chrX</td>\n",
       "      <td>9133831</td>\n",
       "      <td>9135972</td>\n",
       "      <td>+</td>\n",
       "    </tr>\n",
       "  </tbody>\n",
       "</table>\n",
       "<p>3457 rows × 4 columns</p>\n",
       "</div>"
      ],
      "text/plain": [
       "     region     start       end strand\n",
       "0     chr2R   2580688   2581293      +\n",
       "1     chr3R  20787763  20789851      +\n",
       "2     chr2R  13029315  13031522      +\n",
       "3      chrX  18148359  18149085      +\n",
       "4     chr2R   9553093   9555150      +\n",
       "...     ...       ...       ...    ...\n",
       "3452  chr2R  11505900  11508108      +\n",
       "3453  chr3L    505843    507949      +\n",
       "3454  chr2R   3437488   3439592      +\n",
       "3455  chr3R  28857544  28859913      +\n",
       "3456   chrX   9133831   9135972      +\n",
       "\n",
       "[3457 rows x 4 columns]"
      ]
     },
     "execution_count": 63,
     "metadata": {},
     "output_type": "execute_result"
    }
   ],
   "source": [
    "num_seqs = len(df)\n",
    "negative_samples = [None] * num_seqs\n",
    "genome = get_2bit_genome_file('dm6', './')\n",
    "#seqs = [None] * num_seqs\n",
    "for i in range(num_seqs):\n",
    "    while True:\n",
    "        seq_length = int(df['end'][i]) - int(df['start'][i])\n",
    "        chrom, start = get_random_pos(df, chr_names_and_lengths, seq_length)\n",
    "        end = start + seq_length\n",
    "        seq = genome[chrom][start:end]\n",
    "        if 'N' not in seq.upper():\n",
    "            negative_samples[i] = [chrom, start, end, '+']\n",
    "            break\n",
    "df = pd.DataFrame(negative_samples, columns=['region', 'start', 'end', 'strand'])\n",
    "df"
   ]
  },
  {
   "cell_type": "markdown",
   "metadata": {},
   "source": [
    "## Train-test split"
   ]
  },
  {
   "cell_type": "code",
   "execution_count": 64,
   "metadata": {},
   "outputs": [
    {
     "data": {
      "text/plain": [
       "((2592, 4), (865, 4))"
      ]
     },
     "execution_count": 64,
     "metadata": {},
     "output_type": "execute_result"
    }
   ],
   "source": [
    "df.index.name = \"id\"\n",
    "train_neg_seqs, test_neg_seqs = train_test_split(df, shuffle=True, random_state=42)\n",
    "train_neg_seqs.shape, test_neg_seqs.shape"
   ]
  },
  {
   "cell_type": "markdown",
   "metadata": {},
   "source": [
    "# YAML file"
   ]
  },
  {
   "cell_type": "code",
   "execution_count": 65,
   "metadata": {},
   "outputs": [
    {
     "data": {
      "text/plain": [
       "{'version': 0,\n",
       " 'classes': {'positive': {'type': 'fa.gz',\n",
       "   'url': 'http://ftp.ensembl.org/pub/release-100/fasta/drosophila_melanogaster/dna/Drosophila_melanogaster.BDGP6.28.dna.toplevel.fa.gz',\n",
       "   'extra_processing': 'ENSEMBL_DROSOPHILA_GENOME'},\n",
       "  'negative': {'type': 'fa.gz',\n",
       "   'url': 'http://ftp.ensembl.org/pub/release-100/fasta/drosophila_melanogaster/dna/Drosophila_melanogaster.BDGP6.28.dna.toplevel.fa.gz'}}}"
      ]
     },
     "execution_count": 65,
     "metadata": {},
     "output_type": "execute_result"
    }
   ],
   "source": [
    "with open(BASE_FILE_PATH / 'metadata.yaml', 'w') as fw:\n",
    "    desc = {\n",
    "        'version': 0,\n",
    "        'classes': {\n",
    "            'positive': {\n",
    "                'type': 'fa.gz',\n",
    "                'url': 'http://ftp.ensembl.org/pub/release-100/fasta/drosophila_melanogaster/dna/Drosophila_melanogaster.BDGP6.28.dna.toplevel.fa.gz',\n",
    "                'extra_processing': 'ENSEMBL_DROSOPHILA_GENOME' \n",
    "            },    \n",
    "            'negative': {\n",
    "                'type': 'fa.gz',\n",
    "                'url': 'http://ftp.ensembl.org/pub/release-100/fasta/drosophila_melanogaster/dna/Drosophila_melanogaster.BDGP6.28.dna.toplevel.fa.gz'\n",
    "            }\n",
    "        }\n",
    "    }\n",
    "    \n",
    "    yaml.dump(desc, fw)\n",
    "\n",
    "desc"
   ]
  },
  {
   "cell_type": "markdown",
   "metadata": {},
   "source": [
    "# CSV files"
   ]
  },
  {
   "cell_type": "code",
   "execution_count": 66,
   "metadata": {},
   "outputs": [],
   "source": [
    "train_pos_seqs.to_csv(BASE_FILE_PATH / 'train' / 'positive.csv.gz', index=True, compression='gzip')\n",
    "train_neg_seqs.to_csv(BASE_FILE_PATH / 'train' / 'negative.csv.gz', index=True, compression='gzip')\n",
    "test_pos_seqs.to_csv(BASE_FILE_PATH / 'test' / 'positive.csv.gz', index=True, compression='gzip')\n",
    "test_neg_seqs.to_csv(BASE_FILE_PATH / 'test' / 'negative.csv.gz', index=True, compression='gzip')"
   ]
  },
  {
   "cell_type": "markdown",
   "metadata": {},
   "source": [
    "# Cleanup"
   ]
  },
  {
   "cell_type": "code",
   "execution_count": 70,
   "metadata": {},
   "outputs": [],
   "source": [
    "!rm ./dm6.2bit\n",
    "!rm tiles.csv"
   ]
  },
  {
   "cell_type": "markdown",
   "metadata": {},
   "source": [
    "# Test that it can be downloaded"
   ]
  },
  {
   "cell_type": "code",
   "execution_count": 74,
   "metadata": {},
   "outputs": [
    {
     "name": "stderr",
     "output_type": "stream",
     "text": [
      "/home/katarina/git/genomic_benchmarks/src/genomic_benchmarks/utils/datasets.py:50: UserWarning: No version specified. Using version 0.\n",
      "  warnings.warn(f\"No version specified. Using version {metadata['version']}.\")\n"
     ]
    },
    {
     "name": "stdout",
     "output_type": "stream",
     "text": [
      "Downloading http://ftp.ensembl.org/pub/release-100/fasta/drosophila_melanogaster/dna/Drosophila_melanogaster.BDGP6.28.dna.toplevel.fa.gz\n"
     ]
    },
    {
     "name": "stderr",
     "output_type": "stream",
     "text": [
      "/home/katarina/.genomic_benchmarks/fasta/Drosophila_melanogaster.BDGP6.28.dna.toplevel.fa.gz: 43.3MB [00:10, 4.12MB/s]                            \n"
     ]
    },
    {
     "name": "stdout",
     "output_type": "stream",
     "text": [
      "Downloading http://ftp.ensembl.org/pub/release-100/fasta/drosophila_melanogaster/dna/Drosophila_melanogaster.BDGP6.28.dna.toplevel.fa.gz\n"
     ]
    },
    {
     "name": "stderr",
     "output_type": "stream",
     "text": [
      "/home/katarina/.genomic_benchmarks/fasta/Drosophila_melanogaster.BDGP6.28.dna.toplevel.fa.gz: 43.3MB [00:10, 4.14MB/s]                            \n",
      "1870it [00:01, 1300.62it/s]\n",
      "  0%|          | 7/1870 [00:01<06:08,  5.05it/s]\n"
     ]
    },
    {
     "data": {
      "text/plain": [
       "PosixPath('/home/katarina/.genomic_benchmarks/drosophila_enhancers_stark')"
      ]
     },
     "execution_count": 74,
     "metadata": {},
     "output_type": "execute_result"
    }
   ],
   "source": [
    "from genomic_benchmarks.loc2seq import download_dataset\n",
    "\n",
    "download_dataset(\"drosophila_enhancers_stark\", use_cloud_cache=False, force_download=True, local_repo=True)"
   ]
  },
  {
   "cell_type": "code",
   "execution_count": 69,
   "metadata": {},
   "outputs": [
    {
     "name": "stdout",
     "output_type": "stream",
     "text": [
      "Dataset `drosophila_enhancers_stark` has 2 classes: negative, positive.\n",
      "\n",
      "The length of genomic intervals ranges from 236 to 3237, with average 2118.1238067688746 and median 2142.0.\n",
      "\n",
      "Totally 6914 sequences have been found, 5184 for training and 1730 for testing.\n"
     ]
    },
    {
     "data": {
      "text/html": [
       "<div>\n",
       "<style scoped>\n",
       "    .dataframe tbody tr th:only-of-type {\n",
       "        vertical-align: middle;\n",
       "    }\n",
       "\n",
       "    .dataframe tbody tr th {\n",
       "        vertical-align: top;\n",
       "    }\n",
       "\n",
       "    .dataframe thead th {\n",
       "        text-align: right;\n",
       "    }\n",
       "</style>\n",
       "<table border=\"1\" class=\"dataframe\">\n",
       "  <thead>\n",
       "    <tr style=\"text-align: right;\">\n",
       "      <th></th>\n",
       "      <th>train</th>\n",
       "      <th>test</th>\n",
       "    </tr>\n",
       "  </thead>\n",
       "  <tbody>\n",
       "    <tr>\n",
       "      <th>negative</th>\n",
       "      <td>2592</td>\n",
       "      <td>865</td>\n",
       "    </tr>\n",
       "    <tr>\n",
       "      <th>positive</th>\n",
       "      <td>2592</td>\n",
       "      <td>865</td>\n",
       "    </tr>\n",
       "  </tbody>\n",
       "</table>\n",
       "</div>"
      ],
      "text/plain": [
       "          train  test\n",
       "negative   2592   865\n",
       "positive   2592   865"
      ]
     },
     "execution_count": 69,
     "metadata": {},
     "output_type": "execute_result"
    }
   ],
   "source": [
    "from genomic_benchmarks.data_check import info\n",
    "\n",
    "info(\"drosophila_enhancers_stark\", 0, local_repo=True)"
   ]
  }
 ],
 "metadata": {
  "kernelspec": {
   "display_name": "Python 3.8.10 ('venv': venv)",
   "language": "python",
   "name": "python3"
  },
  "language_info": {
   "codemirror_mode": {
    "name": "ipython",
    "version": 3
   },
   "file_extension": ".py",
   "mimetype": "text/x-python",
   "name": "python",
   "nbconvert_exporter": "python",
   "pygments_lexer": "ipython3",
   "version": "3.8.10"
  },
  "orig_nbformat": 4,
  "vscode": {
   "interpreter": {
    "hash": "5fb5174addf958ec7b3e9e5d35a565dfd5bab1ae69383cd521f52756e68c7fc3"
   }
  }
 },
 "nbformat": 4,
 "nbformat_minor": 2
}
