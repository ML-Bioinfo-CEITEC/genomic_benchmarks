{
  "nbformat": 4,
  "nbformat_minor": 0,
  "metadata": {
    "colab": {
      "name": "create_datasets.ipynb",
      "provenance": [],
      "authorship_tag": "ABX9TyPVuJo+RW1Iu3Uw8FQ894/8"
    },
    "kernelspec": {
      "name": "python3",
      "display_name": "Python 3"
    },
    "language_info": {
      "name": "python"
    }
  },
  "cells": [
    {
      "cell_type": "markdown",
      "metadata": {
        "id": "Ovb0gcusfZoB"
      },
      "source": [
        "## Prepare environment"
      ]
    },
    {
      "cell_type": "code",
      "metadata": {
        "id": "hy19muZc69oS"
      },
      "source": [
        "!pip install git+https://github.com/katarinagresova/ensembl_scraper.git"
      ],
      "execution_count": null,
      "outputs": []
    },
    {
      "cell_type": "code",
      "metadata": {
        "id": "e3B68s8GkzYn"
      },
      "source": [
        "!wget https://raw.githubusercontent.com/katarinagresova/ensembl_scraper/main/requirements.txt"
      ],
      "execution_count": null,
      "outputs": []
    },
    {
      "cell_type": "code",
      "metadata": {
        "id": "qI-R7RsBmyDD"
      },
      "source": [
        "!pip install -r requirements.txt"
      ],
      "execution_count": null,
      "outputs": []
    },
    {
      "cell_type": "markdown",
      "metadata": {
        "id": "v22_DrTgYDOh"
      },
      "source": [
        "## Create config file"
      ]
    },
    {
      "cell_type": "code",
      "metadata": {
        "id": "2nEuX47IX8Yj"
      },
      "source": [
        "import yaml\n",
        "\n",
        "config = {\n",
        "    \"root_dir\": \"../../datasets/\",\n",
        "    \"organisms\": {\n",
        "        \"mus_musculus\": {\n",
        "            \"external_feature\"\n",
        "        }\n",
        "    }\n",
        "}\n",
        "\n",
        "user_config = 'user_config.yaml'\n",
        "with open(user_config, 'w') as handle:\n",
        "  yaml.dump(config, handle)"
      ],
      "execution_count": 10,
      "outputs": []
    },
    {
      "cell_type": "markdown",
      "metadata": {
        "id": "qfPKn57BaaaF"
      },
      "source": [
        "## Prepare directories"
      ]
    },
    {
      "cell_type": "code",
      "metadata": {
        "id": "ETRuSt1jaT4C"
      },
      "source": [
        "from pathlib import Path\n",
        "\n",
        "BASE_FILE_PATH = Path(\"../../datasets/demo_mouse_enhancers/\")\n",
        "\n",
        "# copied from https://stackoverflow.com/a/57892171\n",
        "def rm_tree(pth: Path):\n",
        "    for child in pth.iterdir():\n",
        "        if child.is_file():\n",
        "            child.unlink()\n",
        "        else:\n",
        "            rm_tree(child)\n",
        "    pth.rmdir()\n",
        "\n",
        "if BASE_FILE_PATH.exists():\n",
        "    rm_tree(BASE_FILE_PATH)\n",
        "    \n",
        "BASE_FILE_PATH.mkdir()\n",
        "(BASE_FILE_PATH / 'train').mkdir()\n",
        "(BASE_FILE_PATH / 'test').mkdir()"
      ],
      "execution_count": 8,
      "outputs": []
    },
    {
      "cell_type": "markdown",
      "metadata": {
        "id": "PVFl4NtwffLK"
      },
      "source": [
        "## Run tool"
      ]
    },
    {
      "cell_type": "code",
      "metadata": {
        "id": "nsjaflkOSUVS"
      },
      "source": [
        "!python -m scraper.ensembl_scraper -c user_config.yaml"
      ],
      "execution_count": null,
      "outputs": []
    }
  ]
}