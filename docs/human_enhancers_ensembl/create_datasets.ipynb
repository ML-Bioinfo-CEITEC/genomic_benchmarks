{
 "cells": [
  {
   "cell_type": "markdown",
   "metadata": {},
   "source": [
    "# Prepare environment"
   ]
  },
  {
   "cell_type": "code",
   "execution_count": 1,
   "metadata": {},
   "outputs": [
    {
     "name": "stdout",
     "output_type": "stream",
     "text": [
      "Collecting git+https://github.com/katarinagresova/ensembl_scraper.git\n",
      "  Cloning https://github.com/katarinagresova/ensembl_scraper.git to /private/var/folders/q7/pcbd1fnn22l233m3cmvvx1nm0000gn/T/pip-req-build-p2yyoi4a\n",
      "  Running command git clone --filter=blob:none -q https://github.com/katarinagresova/ensembl_scraper.git /private/var/folders/q7/pcbd1fnn22l233m3cmvvx1nm0000gn/T/pip-req-build-p2yyoi4a\n",
      "  Resolved https://github.com/katarinagresova/ensembl_scraper.git to commit 8239db77fd3f0374300cd4d1efac319fb28f3535\n",
      "  Preparing metadata (setup.py) ... \u001b[?25ldone\n",
      "\u001b[?25hRequirement already satisfied: bio in /Users/katarina/Documents/repositories/GitHub/genomic_benchmarks/venv/lib/python3.8/site-packages (from scraper==0.0.1) (1.2.0)\n",
      "Requirement already satisfied: biopython in /Users/katarina/Documents/repositories/GitHub/genomic_benchmarks/venv/lib/python3.8/site-packages (from scraper==0.0.1) (1.79)\n",
      "Requirement already satisfied: certifi in /Users/katarina/Documents/repositories/GitHub/genomic_benchmarks/venv/lib/python3.8/site-packages (from scraper==0.0.1) (2021.5.30)\n",
      "Requirement already satisfied: charset-normalizer in /Users/katarina/Documents/repositories/GitHub/genomic_benchmarks/venv/lib/python3.8/site-packages (from scraper==0.0.1) (2.0.4)\n",
      "Requirement already satisfied: idna in /Users/katarina/Documents/repositories/GitHub/genomic_benchmarks/venv/lib/python3.8/site-packages (from scraper==0.0.1) (3.2)\n",
      "Requirement already satisfied: joblib in /Users/katarina/Documents/repositories/GitHub/genomic_benchmarks/venv/lib/python3.8/site-packages (from scraper==0.0.1) (1.0.1)\n",
      "Requirement already satisfied: numpy in /Users/katarina/Documents/repositories/GitHub/genomic_benchmarks/venv/lib/python3.8/site-packages (from scraper==0.0.1) (1.21.2)\n",
      "Requirement already satisfied: pandas in /Users/katarina/Documents/repositories/GitHub/genomic_benchmarks/venv/lib/python3.8/site-packages (from scraper==0.0.1) (1.3.2)\n",
      "Requirement already satisfied: plac in /Users/katarina/Documents/repositories/GitHub/genomic_benchmarks/venv/lib/python3.8/site-packages (from scraper==0.0.1) (1.3.3)\n",
      "Requirement already satisfied: pyfiglet in /Users/katarina/Documents/repositories/GitHub/genomic_benchmarks/venv/lib/python3.8/site-packages (from scraper==0.0.1) (0.8.post1)\n",
      "Requirement already satisfied: python-dateutil in /Users/katarina/Documents/repositories/GitHub/genomic_benchmarks/venv/lib/python3.8/site-packages (from scraper==0.0.1) (2.8.2)\n",
      "Requirement already satisfied: pytz in /Users/katarina/Documents/repositories/GitHub/genomic_benchmarks/venv/lib/python3.8/site-packages (from scraper==0.0.1) (2021.1)\n",
      "Requirement already satisfied: PyYAML>=5.4.1 in /Users/katarina/Documents/repositories/GitHub/genomic_benchmarks/venv/lib/python3.8/site-packages (from scraper==0.0.1) (5.4.1)\n",
      "Requirement already satisfied: requests in /Users/katarina/Documents/repositories/GitHub/genomic_benchmarks/venv/lib/python3.8/site-packages (from scraper==0.0.1) (2.26.0)\n",
      "Requirement already satisfied: scikit-learn in /Users/katarina/Documents/repositories/GitHub/genomic_benchmarks/venv/lib/python3.8/site-packages (from scraper==0.0.1) (0.24.2)\n",
      "Requirement already satisfied: scipy in /Users/katarina/Documents/repositories/GitHub/genomic_benchmarks/venv/lib/python3.8/site-packages (from scraper==0.0.1) (1.7.1)\n",
      "Requirement already satisfied: six in /Users/katarina/Documents/repositories/GitHub/genomic_benchmarks/venv/lib/python3.8/site-packages (from scraper==0.0.1) (1.16.0)\n",
      "Requirement already satisfied: threadpoolctl in /Users/katarina/Documents/repositories/GitHub/genomic_benchmarks/venv/lib/python3.8/site-packages (from scraper==0.0.1) (2.2.0)\n",
      "Requirement already satisfied: tqdm in /Users/katarina/Documents/repositories/GitHub/genomic_benchmarks/venv/lib/python3.8/site-packages (from scraper==0.0.1) (4.62.2)\n",
      "Requirement already satisfied: twobitreader in /Users/katarina/Documents/repositories/GitHub/genomic_benchmarks/venv/lib/python3.8/site-packages (from scraper==0.0.1) (3.1.7)\n",
      "Requirement already satisfied: urllib3 in /Users/katarina/Documents/repositories/GitHub/genomic_benchmarks/venv/lib/python3.8/site-packages (from scraper==0.0.1) (1.26.6)\n",
      "Requirement already satisfied: mygene in /Users/katarina/Documents/repositories/GitHub/genomic_benchmarks/venv/lib/python3.8/site-packages (from bio->scraper==0.0.1) (3.2.2)\n",
      "Requirement already satisfied: biothings-client>=0.2.6 in /Users/katarina/Documents/repositories/GitHub/genomic_benchmarks/venv/lib/python3.8/site-packages (from mygene->bio->scraper==0.0.1) (0.2.6)\n",
      "Using legacy 'setup.py install' for scraper, since package 'wheel' is not installed.\n",
      "Installing collected packages: scraper\n",
      "  Attempting uninstall: scraper\n",
      "    Found existing installation: scraper 0.0.1\n",
      "    Uninstalling scraper-0.0.1:\n",
      "      Successfully uninstalled scraper-0.0.1\n",
      "    Running setup.py install for scraper ... \u001b[?25ldone\n",
      "\u001b[?25hSuccessfully installed scraper-0.0.1\n"
     ]
    }
   ],
   "source": [
    "# TODO: current dataset contains sequences of length 2: remove them\n",
    "\n",
    "!pip install git+https://github.com/katarinagresova/ensembl_scraper.git"
   ]
  },
  {
   "cell_type": "code",
   "execution_count": 2,
   "metadata": {},
   "outputs": [
    {
     "name": "stdout",
     "output_type": "stream",
     "text": [
      "--2021-10-18 16:58:53--  https://raw.githubusercontent.com/katarinagresova/ensembl_scraper/main/requirements.txt\n",
      "Prevádza sa raw.githubusercontent.com (raw.githubusercontent.com) na IP adresu... 185.199.108.133, 185.199.109.133, 185.199.110.133, ...\n",
      "Pripájanie k raw.githubusercontent.com (raw.githubusercontent.com)|185.199.108.133|:443... pripojené.\n",
      "HTTP požiadavka odoslaná, čakám na odpoveď... 200 OK\n",
      "Dĺžka:  337 [text/plain]\n",
      "Ukladá sa do: `requirements.txt.1'\n",
      "\n",
      "requirements.txt.1  100%[===================>]     337  --.-KB/s    za 0s      \n",
      "\n",
      "2021-10-18 16:58:53 (11,9 MB/s) - `requirements.txt.1' uložené [337/337]\n",
      "\n"
     ]
    }
   ],
   "source": [
    "!wget https://raw.githubusercontent.com/katarinagresova/ensembl_scraper/main/requirements.txt"
   ]
  },
  {
   "cell_type": "code",
   "execution_count": 3,
   "metadata": {},
   "outputs": [
    {
     "name": "stdout",
     "output_type": "stream",
     "text": [
      "Requirement already satisfied: bio==1.2 in /Users/katarina/Documents/repositories/GitHub/genomic_benchmarks/venv/lib/python3.8/site-packages (from -r requirements.txt (line 1)) (1.2.0)\n",
      "Requirement already satisfied: biopython==1.79 in /Users/katarina/Documents/repositories/GitHub/genomic_benchmarks/venv/lib/python3.8/site-packages (from -r requirements.txt (line 2)) (1.79)\n",
      "Requirement already satisfied: certifi==2021.5.30 in /Users/katarina/Documents/repositories/GitHub/genomic_benchmarks/venv/lib/python3.8/site-packages (from -r requirements.txt (line 3)) (2021.5.30)\n",
      "Requirement already satisfied: charset-normalizer==2.0.4 in /Users/katarina/Documents/repositories/GitHub/genomic_benchmarks/venv/lib/python3.8/site-packages (from -r requirements.txt (line 4)) (2.0.4)\n",
      "Requirement already satisfied: idna==3.2 in /Users/katarina/Documents/repositories/GitHub/genomic_benchmarks/venv/lib/python3.8/site-packages (from -r requirements.txt (line 5)) (3.2)\n",
      "Requirement already satisfied: joblib==1.0.1 in /Users/katarina/Documents/repositories/GitHub/genomic_benchmarks/venv/lib/python3.8/site-packages (from -r requirements.txt (line 6)) (1.0.1)\n",
      "Requirement already satisfied: numpy==1.21.2 in /Users/katarina/Documents/repositories/GitHub/genomic_benchmarks/venv/lib/python3.8/site-packages (from -r requirements.txt (line 7)) (1.21.2)\n",
      "Requirement already satisfied: pandas==1.3.2 in /Users/katarina/Documents/repositories/GitHub/genomic_benchmarks/venv/lib/python3.8/site-packages (from -r requirements.txt (line 8)) (1.3.2)\n",
      "Requirement already satisfied: plac==1.3.3 in /Users/katarina/Documents/repositories/GitHub/genomic_benchmarks/venv/lib/python3.8/site-packages (from -r requirements.txt (line 9)) (1.3.3)\n",
      "Requirement already satisfied: pyfiglet==0.8.post1 in /Users/katarina/Documents/repositories/GitHub/genomic_benchmarks/venv/lib/python3.8/site-packages (from -r requirements.txt (line 10)) (0.8.post1)\n",
      "Requirement already satisfied: python-dateutil==2.8.2 in /Users/katarina/Documents/repositories/GitHub/genomic_benchmarks/venv/lib/python3.8/site-packages (from -r requirements.txt (line 11)) (2.8.2)\n",
      "Requirement already satisfied: pytz==2021.1 in /Users/katarina/Documents/repositories/GitHub/genomic_benchmarks/venv/lib/python3.8/site-packages (from -r requirements.txt (line 12)) (2021.1)\n",
      "Requirement already satisfied: PyYAML==5.4.1 in /Users/katarina/Documents/repositories/GitHub/genomic_benchmarks/venv/lib/python3.8/site-packages (from -r requirements.txt (line 13)) (5.4.1)\n",
      "Requirement already satisfied: requests==2.26.0 in /Users/katarina/Documents/repositories/GitHub/genomic_benchmarks/venv/lib/python3.8/site-packages (from -r requirements.txt (line 14)) (2.26.0)\n",
      "Requirement already satisfied: scikit-learn==0.24.2 in /Users/katarina/Documents/repositories/GitHub/genomic_benchmarks/venv/lib/python3.8/site-packages (from -r requirements.txt (line 15)) (0.24.2)\n",
      "Requirement already satisfied: scipy==1.7.1 in /Users/katarina/Documents/repositories/GitHub/genomic_benchmarks/venv/lib/python3.8/site-packages (from -r requirements.txt (line 16)) (1.7.1)\n",
      "Requirement already satisfied: six==1.16.0 in /Users/katarina/Documents/repositories/GitHub/genomic_benchmarks/venv/lib/python3.8/site-packages (from -r requirements.txt (line 17)) (1.16.0)\n",
      "Requirement already satisfied: threadpoolctl==2.2.0 in /Users/katarina/Documents/repositories/GitHub/genomic_benchmarks/venv/lib/python3.8/site-packages (from -r requirements.txt (line 18)) (2.2.0)\n",
      "Requirement already satisfied: tqdm==4.62.2 in /Users/katarina/Documents/repositories/GitHub/genomic_benchmarks/venv/lib/python3.8/site-packages (from -r requirements.txt (line 19)) (4.62.2)\n",
      "Requirement already satisfied: twobitreader==3.1.7 in /Users/katarina/Documents/repositories/GitHub/genomic_benchmarks/venv/lib/python3.8/site-packages (from -r requirements.txt (line 20)) (3.1.7)\n",
      "Requirement already satisfied: urllib3==1.26.6 in /Users/katarina/Documents/repositories/GitHub/genomic_benchmarks/venv/lib/python3.8/site-packages (from -r requirements.txt (line 21)) (1.26.6)\n",
      "Requirement already satisfied: mygene in /Users/katarina/Documents/repositories/GitHub/genomic_benchmarks/venv/lib/python3.8/site-packages (from bio==1.2->-r requirements.txt (line 1)) (3.2.2)\n",
      "Requirement already satisfied: biothings-client>=0.2.6 in /Users/katarina/Documents/repositories/GitHub/genomic_benchmarks/venv/lib/python3.8/site-packages (from mygene->bio==1.2->-r requirements.txt (line 1)) (0.2.6)\n"
     ]
    }
   ],
   "source": [
    "!pip install -r requirements.txt"
   ]
  },
  {
   "cell_type": "markdown",
   "metadata": {},
   "source": [
    "# Create config file"
   ]
  },
  {
   "cell_type": "code",
   "execution_count": 4,
   "metadata": {},
   "outputs": [],
   "source": [
    "import yaml\n",
    "\n",
    "config = {\n",
    "    \"root_dir\": \"../../datasets/\",\n",
    "    \"organisms\": {\n",
    "        \"homo_sapiens\": {\n",
    "            \"external_feature\"\n",
    "        }\n",
    "    }\n",
    "}\n",
    "\n",
    "user_config = 'user_config.yaml'\n",
    "with open(user_config, 'w') as handle:\n",
    "  yaml.dump(config, handle)"
   ]
  },
  {
   "cell_type": "markdown",
   "metadata": {},
   "source": [
    "# Prepare directories"
   ]
  },
  {
   "cell_type": "code",
   "execution_count": 5,
   "metadata": {},
   "outputs": [],
   "source": [
    "from pathlib import Path\n",
    "\n",
    "BASE_FILE_PATH = Path(\"../../datasets/human_enhancers_ensembl/\")\n",
    "\n",
    "# copied from https://stackoverflow.com/a/57892171\n",
    "def rm_tree(pth: Path):\n",
    "    for child in pth.iterdir():\n",
    "        if child.is_file():\n",
    "            child.unlink()\n",
    "        else:\n",
    "            rm_tree(child)\n",
    "    pth.rmdir()\n",
    "\n",
    "if BASE_FILE_PATH.exists():\n",
    "    rm_tree(BASE_FILE_PATH)"
   ]
  },
  {
   "cell_type": "markdown",
   "metadata": {},
   "source": [
    "# Run tool"
   ]
  },
  {
   "cell_type": "code",
   "execution_count": 6,
   "metadata": {},
   "outputs": [
    {
     "name": "stdout",
     "output_type": "stream",
     "text": [
      "Processing organisms:   0%|                               | 0/1 [00:00<?, ?it/s]\n",
      "Processing feature files:   0%|                           | 0/1 [00:00<?, ?it/s]\u001b[AINFO:root:download_file(): Going to download file from path ftp://ftp.ensembl.org/pub/release-100/mysql/regulation_mart_100/hsapiens_external_feature__external_feature__main.txt.gz\n",
      "INFO:root:download_file(): File downloaded to path ../../datasets//tmp//homo_sapiens_external_feature.txt.gz.\n",
      "INFO:root:parse_feature_file(): Going to parse file ../../datasets//tmp//homo_sapiens_external_feature.txt.gz\n",
      "INFO:root:parse_feature_file(): Done parsing file ../../datasets//tmp//homo_sapiens_external_feature.txt.gz\n",
      "\n",
      "\n",
      "Processing feature types:   0%|                           | 0/2 [00:00<?, ?it/s]\u001b[A\u001b[AINFO:root:find_sequences(): Going to find sequences based on genomic loci.\n",
      "INFO:root:download_2bit_file(): Going to download 2bit file hg38\n",
      "INFO:root:download_2bit_file(): File for hg38 downloaded to path ../../datasets//tmp/hg38.2bit.\n",
      "INFO:root:find_sequences(): Done finding sequences.\n",
      "INFO:root:remove_low_quality(): Going to preprocess sequences.\n",
      "INFO:root:remove_low_quality(): Original number of sequences: 82370\n",
      "INFO:root:remove_low_quality(): Number of sequences after contigs rejection: 82370\n",
      "INFO:root:remove_low_quality(): Number of sequences after outlier rejection: 77421\n",
      "INFO:root:remove_low_quality(): Number of sequences after Ns rejection: 77421\n",
      "INFO:root:remove_low_quality(): Done preprocessing sequences.\n",
      "INFO:root:download_2bit_file(): Going to download 2bit file hg38\n",
      "INFO:root:download_2bit_file(): File for hg38 already exists. Not going to download.\n",
      "INFO:root:download_2bit_file(): Going to download 2bit file hg38\n",
      "INFO:root:download_2bit_file(): File for hg38 already exists. Not going to download.\n",
      "\n",
      "\n",
      "Processing feature types:  50%|████████▌        | 1/2 [21:56<21:56, 1316.00s/it]\u001b[A\u001b[AINFO:root:find_sequences(): Going to find sequences based on genomic loci.\n",
      "INFO:root:download_2bit_file(): Going to download 2bit file hg38\n",
      "INFO:root:download_2bit_file(): File for hg38 already exists. Not going to download.\n",
      "INFO:root:find_sequences(): Done finding sequences.\n",
      "INFO:root:remove_low_quality(): Going to preprocess sequences.\n",
      "INFO:root:remove_low_quality(): Original number of sequences: 388825\n",
      "INFO:root:remove_low_quality(): Number of sequences after contigs rejection: 388825\n",
      "INFO:root:remove_low_quality(): Number of sequences after outlier rejection: 332646\n",
      "INFO:root:remove_low_quality(): Number of sequences after Ns rejection: 332495\n",
      "INFO:root:remove_low_quality(): Done preprocessing sequences.\n",
      "INFO:root:download_2bit_file(): Going to download 2bit file hg38\n",
      "INFO:root:download_2bit_file(): File for hg38 already exists. Not going to download.\n",
      "INFO:root:download_2bit_file(): Going to download 2bit file hg38\n",
      "INFO:root:download_2bit_file(): File for hg38 already exists. Not going to download.\n",
      "^C\n",
      "Processing feature types:  50%|█████     | 1/2 [15:48:33<15:48:33, 56913.45s/it]\n",
      "Processing feature files:   0%|                        | 0/1 [15:48:36<?, ?it/s]\n",
      "Processing organisms:   0%|                            | 0/1 [15:48:36<?, ?it/s]\n",
      "Traceback (most recent call last):\n",
      "  File \"/Library/Developer/CommandLineTools/Library/Frameworks/Python3.framework/Versions/3.8/lib/python3.8/runpy.py\", line 193, in _run_module_as_main\n",
      "    return _run_code(code, main_globals, None,\n",
      "  File \"/Library/Developer/CommandLineTools/Library/Frameworks/Python3.framework/Versions/3.8/lib/python3.8/runpy.py\", line 86, in _run_code\n",
      "    exec(code, run_globals)\n",
      "  File \"/Users/katarina/Documents/repositories/GitHub/genomic_benchmarks/venv/lib/python3.8/site-packages/scraper/ensembl_scraper.py\", line 199, in <module>\n",
      "    main()\n",
      "  File \"/Users/katarina/Documents/repositories/GitHub/genomic_benchmarks/venv/lib/python3.8/site-packages/scraper/ensembl_scraper.py\", line 195, in main\n",
      "    make_feature_dataset_for_organism(o, f, root_dir)\n",
      "  File \"/Users/katarina/Documents/repositories/GitHub/genomic_benchmarks/venv/lib/python3.8/site-packages/scraper/ensembl_scraper.py\", line 186, in make_feature_dataset_for_organism\n",
      "    make_dataset_from_loci(feature_loci, organism, out_dir, temp_dir)\n",
      "  File \"/Users/katarina/Documents/repositories/GitHub/genomic_benchmarks/venv/lib/python3.8/site-packages/scraper/ensembl_scraper.py\", line 120, in make_dataset_from_loci\n",
      "    negative_seqs = generate_negatives(organism, preprocessed_positive_seqs, temp_file)\n",
      "  File \"/Users/katarina/Documents/repositories/GitHub/genomic_benchmarks/venv/lib/python3.8/site-packages/scraper/random_negatives.py\", line 62, in generate_negatives\n",
      "    seq = genome[chrom][start:end]\n",
      "  File \"/Users/katarina/Documents/repositories/GitHub/genomic_benchmarks/venv/lib/python3.8/site-packages/twobitreader/__init__.py\", line 432, in __getitem__\n",
      "    return self.get_slice(min_=slice_or_key.start, max_=slice_or_key.stop)\n",
      "  File \"/Users/katarina/Documents/repositories/GitHub/genomic_benchmarks/venv/lib/python3.8/site-packages/twobitreader/__init__.py\", line 511, in get_slice\n",
      "    fourbyte_dna.fromfile(file_handle, blocks_to_read)\n",
      "KeyboardInterrupt\n"
     ]
    }
   ],
   "source": [
    "!python -m scraper.ensembl_scraper -c user_config.yaml"
   ]
  },
  {
   "cell_type": "markdown",
   "metadata": {},
   "source": [
    "# Cleaning"
   ]
  },
  {
   "cell_type": "code",
   "execution_count": 7,
   "metadata": {},
   "outputs": [],
   "source": [
    "!mv ../../datasets/homo_sapiens_external_feature_enhancer ../../datasets/human_enhancers_ensembl/"
   ]
  },
  {
   "cell_type": "code",
   "execution_count": 8,
   "metadata": {},
   "outputs": [],
   "source": [
    "!rm requirements.txt user_config.yaml"
   ]
  },
  {
   "cell_type": "code",
   "execution_count": 9,
   "metadata": {},
   "outputs": [],
   "source": [
    "!rm -rf ../../datasets/tmp/"
   ]
  },
  {
   "cell_type": "code",
   "execution_count": 16,
   "metadata": {},
   "outputs": [],
   "source": [
    "!rm -rf ../../datasets/homo_sapiens_external_feature_transcription_start_site"
   ]
  },
  {
   "cell_type": "markdown",
   "metadata": {},
   "source": [
    "# Final reformating\n",
    "\n",
    "  * gzip all CSV files\n",
    "  * add extra formatting to yaml config file"
   ]
  },
  {
   "cell_type": "code",
   "execution_count": 11,
   "metadata": {},
   "outputs": [],
   "source": [
    "!find ../../datasets/human_enhancers_ensembl/ -type f -name \"*.csv\" -exec gzip {} \\;"
   ]
  },
  {
   "cell_type": "code",
   "execution_count": 12,
   "metadata": {},
   "outputs": [
    {
     "data": {
      "text/plain": [
       "{'classes': {'negative': {'type': 'fa.gz',\n",
       "   'url': 'ftp://ftp.ensembl.org/pub/release-100/fasta/homo_sapiens/dna/Homo_sapiens.GRCh38.dna.primary_assembly.fa.gz'},\n",
       "  'positive': {'type': 'fa.gz',\n",
       "   'url': 'ftp://ftp.ensembl.org/pub/release-100/fasta/homo_sapiens/dna/Homo_sapiens.GRCh38.dna.primary_assembly.fa.gz'}},\n",
       " 'version': 0}"
      ]
     },
     "execution_count": 12,
     "metadata": {},
     "output_type": "execute_result"
    }
   ],
   "source": [
    "with open(\"../../datasets/human_enhancers_ensembl/metadata.yaml\", \"r\") as stream:\n",
    "    try:\n",
    "        config = yaml.safe_load(stream)\n",
    "    except yaml.YAMLError as exc:\n",
    "        print(exc)\n",
    "\n",
    "config"
   ]
  },
  {
   "cell_type": "code",
   "execution_count": 13,
   "metadata": {},
   "outputs": [
    {
     "data": {
      "text/plain": [
       "{'classes': {'negative': {'type': 'fa.gz',\n",
       "   'url': 'ftp://ftp.ensembl.org/pub/release-100/fasta/homo_sapiens/dna/Homo_sapiens.GRCh38.dna.primary_assembly.fa.gz',\n",
       "   'extra_processing': 'ENSEMBL_HUMAN_GENOME'},\n",
       "  'positive': {'type': 'fa.gz',\n",
       "   'url': 'ftp://ftp.ensembl.org/pub/release-100/fasta/homo_sapiens/dna/Homo_sapiens.GRCh38.dna.primary_assembly.fa.gz',\n",
       "   'extra_processing': 'ENSEMBL_HUMAN_GENOME'}},\n",
       " 'version': 0}"
      ]
     },
     "execution_count": 13,
     "metadata": {},
     "output_type": "execute_result"
    }
   ],
   "source": [
    "config['classes']['positive']['extra_processing'] = 'ENSEMBL_HUMAN_GENOME' \n",
    "config['classes']['negative']['extra_processing'] = 'ENSEMBL_HUMAN_GENOME' \n",
    "\n",
    "config"
   ]
  },
  {
   "cell_type": "code",
   "execution_count": 14,
   "metadata": {},
   "outputs": [],
   "source": [
    "with open(\"../../datasets/human_enhancers_ensembl/metadata.yaml\", 'w') as handle:\n",
    "  yaml.dump(config, handle)"
   ]
  }
 ],
 "metadata": {
  "interpreter": {
   "hash": "6aefa309fdc551cffdb69c1b229c63cc8afbc3d2cc6c7acf643414f933d1f738"
  },
  "kernelspec": {
   "display_name": "Python 3.8.2 64-bit ('venv': venv)",
   "name": "python3"
  },
  "language_info": {
   "codemirror_mode": {
    "name": "ipython",
    "version": 3
   },
   "file_extension": ".py",
   "mimetype": "text/x-python",
   "name": "python",
   "nbconvert_exporter": "python",
   "pygments_lexer": "ipython3",
   "version": "3.8.2"
  },
  "orig_nbformat": 4
 },
 "nbformat": 4,
 "nbformat_minor": 2
}
