{
 "cells": [
  {
   "cell_type": "markdown",
   "metadata": {},
   "source": [
    "# Prepare environment"
   ]
  },
  {
   "cell_type": "code",
   "execution_count": 1,
   "metadata": {},
   "outputs": [
    {
     "name": "stdout",
     "output_type": "stream",
     "text": [
      "Collecting git+https://github.com/katarinagresova/ensembl_scraper.git\n",
      "  Cloning https://github.com/katarinagresova/ensembl_scraper.git to /private/var/folders/q7/pcbd1fnn22l233m3cmvvx1nm0000gn/T/pip-req-build-0px4w0y7\n",
      "  Running command git clone --filter=blob:none -q https://github.com/katarinagresova/ensembl_scraper.git /private/var/folders/q7/pcbd1fnn22l233m3cmvvx1nm0000gn/T/pip-req-build-0px4w0y7\n",
      "  Resolved https://github.com/katarinagresova/ensembl_scraper.git to commit 8239db77fd3f0374300cd4d1efac319fb28f3535\n",
      "  Preparing metadata (setup.py) ... \u001b[?25ldone\n",
      "\u001b[?25hRequirement already satisfied: bio in /Users/katarina/Documents/repositories/GitHub/genomic_benchmarks/venv/lib/python3.8/site-packages (from scraper==0.0.1) (1.2.0)\n",
      "Requirement already satisfied: biopython in /Users/katarina/Documents/repositories/GitHub/genomic_benchmarks/venv/lib/python3.8/site-packages (from scraper==0.0.1) (1.79)\n",
      "Requirement already satisfied: certifi in /Users/katarina/Documents/repositories/GitHub/genomic_benchmarks/venv/lib/python3.8/site-packages (from scraper==0.0.1) (2021.5.30)\n",
      "Requirement already satisfied: charset-normalizer in /Users/katarina/Documents/repositories/GitHub/genomic_benchmarks/venv/lib/python3.8/site-packages (from scraper==0.0.1) (2.0.4)\n",
      "Requirement already satisfied: idna in /Users/katarina/Documents/repositories/GitHub/genomic_benchmarks/venv/lib/python3.8/site-packages (from scraper==0.0.1) (3.2)\n",
      "Requirement already satisfied: joblib in /Users/katarina/Documents/repositories/GitHub/genomic_benchmarks/venv/lib/python3.8/site-packages (from scraper==0.0.1) (1.0.1)\n",
      "Requirement already satisfied: numpy in /Users/katarina/Documents/repositories/GitHub/genomic_benchmarks/venv/lib/python3.8/site-packages (from scraper==0.0.1) (1.21.2)\n",
      "Requirement already satisfied: pandas in /Users/katarina/Documents/repositories/GitHub/genomic_benchmarks/venv/lib/python3.8/site-packages (from scraper==0.0.1) (1.3.2)\n",
      "Requirement already satisfied: plac in /Users/katarina/Documents/repositories/GitHub/genomic_benchmarks/venv/lib/python3.8/site-packages (from scraper==0.0.1) (1.3.3)\n",
      "Requirement already satisfied: pyfiglet in /Users/katarina/Documents/repositories/GitHub/genomic_benchmarks/venv/lib/python3.8/site-packages (from scraper==0.0.1) (0.8.post1)\n",
      "Requirement already satisfied: python-dateutil in /Users/katarina/Documents/repositories/GitHub/genomic_benchmarks/venv/lib/python3.8/site-packages (from scraper==0.0.1) (2.8.2)\n",
      "Requirement already satisfied: pytz in /Users/katarina/Documents/repositories/GitHub/genomic_benchmarks/venv/lib/python3.8/site-packages (from scraper==0.0.1) (2021.1)\n",
      "Requirement already satisfied: PyYAML>=5.4.1 in /Users/katarina/Documents/repositories/GitHub/genomic_benchmarks/venv/lib/python3.8/site-packages (from scraper==0.0.1) (5.4.1)\n",
      "Requirement already satisfied: requests in /Users/katarina/Documents/repositories/GitHub/genomic_benchmarks/venv/lib/python3.8/site-packages (from scraper==0.0.1) (2.26.0)\n",
      "Requirement already satisfied: scikit-learn in /Users/katarina/Documents/repositories/GitHub/genomic_benchmarks/venv/lib/python3.8/site-packages (from scraper==0.0.1) (0.24.2)\n",
      "Requirement already satisfied: scipy in /Users/katarina/Documents/repositories/GitHub/genomic_benchmarks/venv/lib/python3.8/site-packages (from scraper==0.0.1) (1.7.1)\n",
      "Requirement already satisfied: six in /Users/katarina/Documents/repositories/GitHub/genomic_benchmarks/venv/lib/python3.8/site-packages (from scraper==0.0.1) (1.16.0)\n",
      "Requirement already satisfied: threadpoolctl in /Users/katarina/Documents/repositories/GitHub/genomic_benchmarks/venv/lib/python3.8/site-packages (from scraper==0.0.1) (2.2.0)\n",
      "Requirement already satisfied: tqdm in /Users/katarina/Documents/repositories/GitHub/genomic_benchmarks/venv/lib/python3.8/site-packages (from scraper==0.0.1) (4.62.2)\n",
      "Requirement already satisfied: twobitreader in /Users/katarina/Documents/repositories/GitHub/genomic_benchmarks/venv/lib/python3.8/site-packages (from scraper==0.0.1) (3.1.7)\n",
      "Requirement already satisfied: urllib3 in /Users/katarina/Documents/repositories/GitHub/genomic_benchmarks/venv/lib/python3.8/site-packages (from scraper==0.0.1) (1.26.6)\n",
      "Requirement already satisfied: mygene in /Users/katarina/Documents/repositories/GitHub/genomic_benchmarks/venv/lib/python3.8/site-packages (from bio->scraper==0.0.1) (3.2.2)\n",
      "Requirement already satisfied: biothings-client>=0.2.6 in /Users/katarina/Documents/repositories/GitHub/genomic_benchmarks/venv/lib/python3.8/site-packages (from mygene->bio->scraper==0.0.1) (0.2.6)\n",
      "Using legacy 'setup.py install' for scraper, since package 'wheel' is not installed.\n",
      "Installing collected packages: scraper\n",
      "  Attempting uninstall: scraper\n",
      "    Found existing installation: scraper 0.0.1\n",
      "    Uninstalling scraper-0.0.1:\n",
      "      Successfully uninstalled scraper-0.0.1\n",
      "    Running setup.py install for scraper ... \u001b[?25ldone\n",
      "\u001b[?25hSuccessfully installed scraper-0.0.1\n"
     ]
    }
   ],
   "source": [
    "!pip install git+https://github.com/katarinagresova/ensembl_scraper.git"
   ]
  },
  {
   "cell_type": "code",
   "execution_count": 2,
   "metadata": {},
   "outputs": [
    {
     "name": "stdout",
     "output_type": "stream",
     "text": [
      "--2021-10-18 15:16:42--  https://raw.githubusercontent.com/katarinagresova/ensembl_scraper/main/requirements.txt\n",
      "Prevádza sa raw.githubusercontent.com (raw.githubusercontent.com) na IP adresu... 185.199.109.133, 185.199.111.133, 185.199.110.133, ...\n",
      "Pripájanie k raw.githubusercontent.com (raw.githubusercontent.com)|185.199.109.133|:443... pripojené.\n",
      "HTTP požiadavka odoslaná, čakám na odpoveď... 200 OK\n",
      "Dĺžka:  337 [text/plain]\n",
      "Ukladá sa do: `requirements.txt'\n",
      "\n",
      "requirements.txt    100%[===================>]     337  --.-KB/s    za 0s      \n",
      "\n",
      "2021-10-18 15:16:43 (10,0 MB/s) - `requirements.txt' uložené [337/337]\n",
      "\n"
     ]
    }
   ],
   "source": [
    "!wget https://raw.githubusercontent.com/katarinagresova/ensembl_scraper/main/requirements.txt"
   ]
  },
  {
   "cell_type": "code",
   "execution_count": 3,
   "metadata": {},
   "outputs": [
    {
     "name": "stdout",
     "output_type": "stream",
     "text": [
      "Requirement already satisfied: bio==1.2 in /Users/katarina/Documents/repositories/GitHub/genomic_benchmarks/venv/lib/python3.8/site-packages (from -r requirements.txt (line 1)) (1.2.0)\n",
      "Requirement already satisfied: biopython==1.79 in /Users/katarina/Documents/repositories/GitHub/genomic_benchmarks/venv/lib/python3.8/site-packages (from -r requirements.txt (line 2)) (1.79)\n",
      "Requirement already satisfied: certifi==2021.5.30 in /Users/katarina/Documents/repositories/GitHub/genomic_benchmarks/venv/lib/python3.8/site-packages (from -r requirements.txt (line 3)) (2021.5.30)\n",
      "Requirement already satisfied: charset-normalizer==2.0.4 in /Users/katarina/Documents/repositories/GitHub/genomic_benchmarks/venv/lib/python3.8/site-packages (from -r requirements.txt (line 4)) (2.0.4)\n",
      "Requirement already satisfied: idna==3.2 in /Users/katarina/Documents/repositories/GitHub/genomic_benchmarks/venv/lib/python3.8/site-packages (from -r requirements.txt (line 5)) (3.2)\n",
      "Requirement already satisfied: joblib==1.0.1 in /Users/katarina/Documents/repositories/GitHub/genomic_benchmarks/venv/lib/python3.8/site-packages (from -r requirements.txt (line 6)) (1.0.1)\n",
      "Requirement already satisfied: numpy==1.21.2 in /Users/katarina/Documents/repositories/GitHub/genomic_benchmarks/venv/lib/python3.8/site-packages (from -r requirements.txt (line 7)) (1.21.2)\n",
      "Requirement already satisfied: pandas==1.3.2 in /Users/katarina/Documents/repositories/GitHub/genomic_benchmarks/venv/lib/python3.8/site-packages (from -r requirements.txt (line 8)) (1.3.2)\n",
      "Requirement already satisfied: plac==1.3.3 in /Users/katarina/Documents/repositories/GitHub/genomic_benchmarks/venv/lib/python3.8/site-packages (from -r requirements.txt (line 9)) (1.3.3)\n",
      "Requirement already satisfied: pyfiglet==0.8.post1 in /Users/katarina/Documents/repositories/GitHub/genomic_benchmarks/venv/lib/python3.8/site-packages (from -r requirements.txt (line 10)) (0.8.post1)\n",
      "Requirement already satisfied: python-dateutil==2.8.2 in /Users/katarina/Documents/repositories/GitHub/genomic_benchmarks/venv/lib/python3.8/site-packages (from -r requirements.txt (line 11)) (2.8.2)\n",
      "Requirement already satisfied: pytz==2021.1 in /Users/katarina/Documents/repositories/GitHub/genomic_benchmarks/venv/lib/python3.8/site-packages (from -r requirements.txt (line 12)) (2021.1)\n",
      "Requirement already satisfied: PyYAML==5.4.1 in /Users/katarina/Documents/repositories/GitHub/genomic_benchmarks/venv/lib/python3.8/site-packages (from -r requirements.txt (line 13)) (5.4.1)\n",
      "Requirement already satisfied: requests==2.26.0 in /Users/katarina/Documents/repositories/GitHub/genomic_benchmarks/venv/lib/python3.8/site-packages (from -r requirements.txt (line 14)) (2.26.0)\n",
      "Requirement already satisfied: scikit-learn==0.24.2 in /Users/katarina/Documents/repositories/GitHub/genomic_benchmarks/venv/lib/python3.8/site-packages (from -r requirements.txt (line 15)) (0.24.2)\n",
      "Requirement already satisfied: scipy==1.7.1 in /Users/katarina/Documents/repositories/GitHub/genomic_benchmarks/venv/lib/python3.8/site-packages (from -r requirements.txt (line 16)) (1.7.1)\n",
      "Requirement already satisfied: six==1.16.0 in /Users/katarina/Documents/repositories/GitHub/genomic_benchmarks/venv/lib/python3.8/site-packages (from -r requirements.txt (line 17)) (1.16.0)\n",
      "Requirement already satisfied: threadpoolctl==2.2.0 in /Users/katarina/Documents/repositories/GitHub/genomic_benchmarks/venv/lib/python3.8/site-packages (from -r requirements.txt (line 18)) (2.2.0)\n",
      "Requirement already satisfied: tqdm==4.62.2 in /Users/katarina/Documents/repositories/GitHub/genomic_benchmarks/venv/lib/python3.8/site-packages (from -r requirements.txt (line 19)) (4.62.2)\n",
      "Requirement already satisfied: twobitreader==3.1.7 in /Users/katarina/Documents/repositories/GitHub/genomic_benchmarks/venv/lib/python3.8/site-packages (from -r requirements.txt (line 20)) (3.1.7)\n",
      "Requirement already satisfied: urllib3==1.26.6 in /Users/katarina/Documents/repositories/GitHub/genomic_benchmarks/venv/lib/python3.8/site-packages (from -r requirements.txt (line 21)) (1.26.6)\n",
      "Requirement already satisfied: mygene in /Users/katarina/Documents/repositories/GitHub/genomic_benchmarks/venv/lib/python3.8/site-packages (from bio==1.2->-r requirements.txt (line 1)) (3.2.2)\n",
      "Requirement already satisfied: biothings-client>=0.2.6 in /Users/katarina/Documents/repositories/GitHub/genomic_benchmarks/venv/lib/python3.8/site-packages (from mygene->bio==1.2->-r requirements.txt (line 1)) (0.2.6)\n"
     ]
    }
   ],
   "source": [
    "!pip install -r requirements.txt"
   ]
  },
  {
   "cell_type": "markdown",
   "metadata": {},
   "source": [
    "# Create config file"
   ]
  },
  {
   "cell_type": "code",
   "execution_count": 4,
   "metadata": {},
   "outputs": [],
   "source": [
    "import yaml\n",
    "\n",
    "config = {\n",
    "    \"root_dir\": \"../../datasets/\",\n",
    "    \"organisms\": {\n",
    "        \"homo_sapiens\": {\n",
    "            \"external_feature\"\n",
    "        }\n",
    "    }\n",
    "}\n",
    "\n",
    "user_config = 'user_config.yaml'\n",
    "with open(user_config, 'w') as handle:\n",
    "  yaml.dump(config, handle)"
   ]
  },
  {
   "cell_type": "markdown",
   "metadata": {},
   "source": [
    "# Prepare directories"
   ]
  },
  {
   "cell_type": "code",
   "execution_count": 5,
   "metadata": {},
   "outputs": [],
   "source": [
    "from pathlib import Path\n",
    "\n",
    "BASE_FILE_PATH = Path(\"../../datasets/human_enhancers_ensembl/\")\n",
    "\n",
    "# copied from https://stackoverflow.com/a/57892171\n",
    "def rm_tree(pth: Path):\n",
    "    for child in pth.iterdir():\n",
    "        if child.is_file():\n",
    "            child.unlink()\n",
    "        else:\n",
    "            rm_tree(child)\n",
    "    pth.rmdir()\n",
    "\n",
    "if BASE_FILE_PATH.exists():\n",
    "    rm_tree(BASE_FILE_PATH)"
   ]
  },
  {
   "cell_type": "markdown",
   "metadata": {},
   "source": [
    "# Run tool"
   ]
  },
  {
   "cell_type": "code",
   "execution_count": null,
   "metadata": {},
   "outputs": [],
   "source": [
    "!python -m scraper.ensembl_scraper -c user_config.yaml"
   ]
  },
  {
   "cell_type": "markdown",
   "metadata": {},
   "source": [
    "# Cleaning"
   ]
  },
  {
   "cell_type": "code",
   "execution_count": 39,
   "metadata": {},
   "outputs": [],
   "source": [
    "!mv ../../datasets/homo_sapiens_external_feature_enhancer ../../datasets/human_enhancers_ensembl/"
   ]
  },
  {
   "cell_type": "code",
   "execution_count": null,
   "metadata": {},
   "outputs": [],
   "source": [
    "!rm requirements.txt user_config.yaml"
   ]
  },
  {
   "cell_type": "markdown",
   "metadata": {},
   "source": [
    "# Final reformating\n",
    "\n",
    "  * gzip all CSV files\n",
    "  * add extra formatting to yaml config file"
   ]
  },
  {
   "cell_type": "code",
   "execution_count": 44,
   "metadata": {},
   "outputs": [],
   "source": [
    "!find ../../datasets/human_enhancers_ensembl/ -type f -name \"*.csv\" -exec gzip {} \\;"
   ]
  },
  {
   "cell_type": "code",
   "execution_count": null,
   "metadata": {},
   "outputs": [],
   "source": [
    "with open(\"../../datasets/human_enhancers_ensembl/metadata.yaml\", \"r\") as stream:\n",
    "    try:\n",
    "        config = yaml.safe_load(stream)\n",
    "    except yaml.YAMLError as exc:\n",
    "        print(exc)\n",
    "\n",
    "config"
   ]
  },
  {
   "cell_type": "code",
   "execution_count": null,
   "metadata": {},
   "outputs": [],
   "source": [
    "config['classes']['positive']['extra_processing'] = 'ENSEMBL_HUMAN_GENOME' \n",
    "config['classes']['negative']['extra_processing'] = 'ENSEMBL_HUMAN_GENOME' \n",
    "\n",
    "config"
   ]
  },
  {
   "cell_type": "code",
   "execution_count": 43,
   "metadata": {},
   "outputs": [],
   "source": [
    "with open(\"../../datasets/human_enhancers_ensembl/metadata.yaml\", 'w') as handle:\n",
    "  yaml.dump(config, handle)"
   ]
  }
 ],
 "metadata": {
  "interpreter": {
   "hash": "6aefa309fdc551cffdb69c1b229c63cc8afbc3d2cc6c7acf643414f933d1f738"
  },
  "kernelspec": {
   "display_name": "Python 3.8.2 64-bit ('venv': venv)",
   "name": "python3"
  },
  "language_info": {
   "codemirror_mode": {
    "name": "ipython",
    "version": 3
   },
   "file_extension": ".py",
   "mimetype": "text/x-python",
   "name": "python",
   "nbconvert_exporter": "python",
   "pygments_lexer": "ipython3",
   "version": "3.8.2"
  },
  "orig_nbformat": 4
 },
 "nbformat": 4,
 "nbformat_minor": 2
}
