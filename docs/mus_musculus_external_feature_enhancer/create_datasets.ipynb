{
  "nbformat": 4,
  "nbformat_minor": 0,
  "metadata": {
    "colab": {
      "name": "create_datasets.ipynb",
      "provenance": [],
      "authorship_tag": "ABX9TyMF5gpJwKbZ0umNVMfqRVZA"
    },
    "kernelspec": {
      "name": "python3",
      "display_name": "Python 3"
    },
    "language_info": {
      "name": "python"
    }
  },
  "cells": [
    {
      "cell_type": "markdown",
      "metadata": {
        "id": "Ovb0gcusfZoB"
      },
      "source": [
        "## Prepare environment"
      ]
    },
    {
      "cell_type": "code",
      "metadata": {
        "colab": {
          "base_uri": "https://localhost:8080/"
        },
        "id": "18uHqMhfXWyu",
        "outputId": "3113fa1c-c271-45ec-a7c3-2ad55cf90066"
      },
      "source": [
        "!mkdir ../../datasets/"
      ],
      "execution_count": 3,
      "outputs": [
        {
          "output_type": "stream",
          "name": "stdout",
          "text": [
            "mkdir: cannot create directory ‘../../datasets/’: File exists\n"
          ]
        }
      ]
    },
    {
      "cell_type": "code",
      "metadata": {
        "colab": {
          "base_uri": "https://localhost:8080/"
        },
        "id": "e3B68s8GkzYn",
        "outputId": "7a6515f6-06ae-4d5b-b4da-6ac5a8f124da"
      },
      "source": [
        "!git clone https://github.com/katarinagresova/ensembl_scraper.git"
      ],
      "execution_count": 4,
      "outputs": [
        {
          "output_type": "stream",
          "name": "stdout",
          "text": [
            "Cloning into 'ensembl_scraper'...\n",
            "remote: Enumerating objects: 185, done.\u001b[K\n",
            "remote: Counting objects: 100% (185/185), done.\u001b[K\n",
            "remote: Compressing objects: 100% (127/127), done.\u001b[K\n",
            "remote: Total 185 (delta 116), reused 119 (delta 56), pack-reused 0\u001b[K\n",
            "Receiving objects: 100% (185/185), 47.62 KiB | 2.16 MiB/s, done.\n",
            "Resolving deltas: 100% (116/116), done.\n"
          ]
        }
      ]
    },
    {
      "cell_type": "code",
      "metadata": {
        "colab": {
          "base_uri": "https://localhost:8080/"
        },
        "id": "-eqi2c_zqBJg",
        "outputId": "75a9b8ad-c342-4aa7-e358-eb4e22554700"
      },
      "source": [
        "%cd ensembl_scraper/"
      ],
      "execution_count": 5,
      "outputs": [
        {
          "output_type": "stream",
          "name": "stdout",
          "text": [
            "/content/ensembl_scraper\n"
          ]
        }
      ]
    },
    {
      "cell_type": "code",
      "metadata": {
        "colab": {
          "base_uri": "https://localhost:8080/"
        },
        "id": "qI-R7RsBmyDD",
        "outputId": "0b1a4a3d-7414-451c-f473-76c7b7669e18"
      },
      "source": [
        "!python -m pip install -r requirements.txt"
      ],
      "execution_count": 6,
      "outputs": [
        {
          "output_type": "stream",
          "name": "stdout",
          "text": [
            "Requirement already satisfied: bio==0.7.7 in /usr/local/lib/python3.7/dist-packages (from -r requirements.txt (line 1)) (0.7.7)\n",
            "Requirement already satisfied: biopython==1.79 in /usr/local/lib/python3.7/dist-packages (from -r requirements.txt (line 2)) (1.79)\n",
            "Requirement already satisfied: certifi==2021.5.30 in /usr/local/lib/python3.7/dist-packages (from -r requirements.txt (line 3)) (2021.5.30)\n",
            "Requirement already satisfied: charset-normalizer==2.0.4 in /usr/local/lib/python3.7/dist-packages (from -r requirements.txt (line 4)) (2.0.4)\n",
            "Requirement already satisfied: idna==3.2 in /usr/local/lib/python3.7/dist-packages (from -r requirements.txt (line 5)) (3.2)\n",
            "Requirement already satisfied: joblib==1.0.1 in /usr/local/lib/python3.7/dist-packages (from -r requirements.txt (line 6)) (1.0.1)\n",
            "Requirement already satisfied: numpy==1.21.2 in /usr/local/lib/python3.7/dist-packages (from -r requirements.txt (line 7)) (1.21.2)\n",
            "Requirement already satisfied: pandas==1.3.2 in /usr/local/lib/python3.7/dist-packages (from -r requirements.txt (line 8)) (1.3.2)\n",
            "Requirement already satisfied: plac==1.3.3 in /usr/local/lib/python3.7/dist-packages (from -r requirements.txt (line 9)) (1.3.3)\n",
            "Requirement already satisfied: pyfiglet==0.8.post1 in /usr/local/lib/python3.7/dist-packages (from -r requirements.txt (line 10)) (0.8.post1)\n",
            "Requirement already satisfied: python-dateutil==2.8.2 in /usr/local/lib/python3.7/dist-packages (from -r requirements.txt (line 11)) (2.8.2)\n",
            "Requirement already satisfied: pytz==2021.1 in /usr/local/lib/python3.7/dist-packages (from -r requirements.txt (line 12)) (2021.1)\n",
            "Requirement already satisfied: PyYAML==5.4.1 in /usr/local/lib/python3.7/dist-packages (from -r requirements.txt (line 13)) (5.4.1)\n",
            "Requirement already satisfied: requests==2.26.0 in /usr/local/lib/python3.7/dist-packages (from -r requirements.txt (line 14)) (2.26.0)\n",
            "Requirement already satisfied: scikit-learn==0.24.2 in /usr/local/lib/python3.7/dist-packages (from -r requirements.txt (line 15)) (0.24.2)\n",
            "Requirement already satisfied: scipy==1.7.1 in /usr/local/lib/python3.7/dist-packages (from -r requirements.txt (line 16)) (1.7.1)\n",
            "Requirement already satisfied: six==1.16.0 in /usr/local/lib/python3.7/dist-packages (from -r requirements.txt (line 17)) (1.16.0)\n",
            "Requirement already satisfied: threadpoolctl==2.2.0 in /usr/local/lib/python3.7/dist-packages (from -r requirements.txt (line 18)) (2.2.0)\n",
            "Requirement already satisfied: tqdm==4.62.2 in /usr/local/lib/python3.7/dist-packages (from -r requirements.txt (line 19)) (4.62.2)\n",
            "Requirement already satisfied: twobitreader==3.1.7 in /usr/local/lib/python3.7/dist-packages (from -r requirements.txt (line 20)) (3.1.7)\n",
            "Requirement already satisfied: urllib3==1.26.6 in /usr/local/lib/python3.7/dist-packages (from -r requirements.txt (line 21)) (1.26.6)\n"
          ]
        }
      ]
    },
    {
      "cell_type": "markdown",
      "metadata": {
        "id": "v22_DrTgYDOh"
      },
      "source": [
        "## Create config file"
      ]
    },
    {
      "cell_type": "code",
      "metadata": {
        "id": "2nEuX47IX8Yj"
      },
      "source": [
        "import yaml\n",
        "\n",
        "config = {\n",
        "    \"root_dir\": \"../../datasets/\",\n",
        "    \"organisms\": {\n",
        "        \"mus_musculus\": {\n",
        "            \"external_feature\"\n",
        "        }\n",
        "    }\n",
        "}\n",
        "\n",
        "user_config = 'user_config.yaml'\n",
        "with open(user_config, 'w') as handle:\n",
        "  yaml.dump(config, handle)"
      ],
      "execution_count": 8,
      "outputs": []
    },
    {
      "cell_type": "markdown",
      "metadata": {
        "id": "PVFl4NtwffLK"
      },
      "source": [
        "## Run tool"
      ]
    },
    {
      "cell_type": "code",
      "metadata": {
        "colab": {
          "base_uri": "https://localhost:8080/"
        },
        "id": "nsjaflkOSUVS",
        "outputId": "069bb511-3783-4fc8-9584-eb7886c8e423"
      },
      "source": [
        "!python scraper/ensembl_scraper.py -c user_config.yaml"
      ],
      "execution_count": 9,
      "outputs": [
        {
          "output_type": "stream",
          "name": "stdout",
          "text": [
            "\rProcessing organisms:   0% 0/1 [00:00<?, ?it/s]\n",
            "\rProcessing feature files:   0% 0/1 [00:00<?, ?it/s]\u001b[AINFO:root:download_file(): Going to download file from path ftp://ftp.ensembl.org/pub/release-100/mysql/regulation_mart_100/mmusculus_external_feature__external_feature__main.txt.gz\n",
            "INFO:root:download_file(): File ../../datasets//tmp//mus_musculus_external_feature.txt.gz already exists. Not going to download.\n",
            "INFO:root:parse_feature_file(): Going to parse file ../../datasets//tmp//mus_musculus_external_feature.txt.gz\n",
            "INFO:root:parse_feature_file(): Done parsing file ../../datasets//tmp//mus_musculus_external_feature.txt.gz\n",
            "\n",
            "\n",
            "\rProcessing feature types:   0% 0/1 [00:00<?, ?it/s]\u001b[A\u001b[AINFO:root:find_sequences_and_save_to_fasta(): Going to find sequences based on genomic loci.\n",
            "INFO:root:download_2bit_file(): Going to download 2bit file mm10\n",
            "INFO:root:download_2bit_file(): File for mm10 already exists. Not going to download.\n",
            "INFO:root:find_sequences_and_save_to_fasta(): Done finding sequences.\n",
            "INFO:root:remove_low_quality(): Going to preprocess sequences.\n",
            "INFO:root:remove_low_quality(): Original number of sequences: 619\n",
            "INFO:root:remove_low_quality(): Number of sequences after outlier rejection: 605\n",
            "INFO:root:remove_low_quality(): Number of sequences after Ns rejection: 605\n",
            "INFO:root:remove_low_quality(): Done preprocessing sequences.\n",
            "INFO:root:download_2bit_file(): Going to download 2bit file mm10\n",
            "INFO:root:download_2bit_file(): File for mm10 already exists. Not going to download.\n",
            "INFO:root:download_2bit_file(): Going to download 2bit file mm10\n",
            "INFO:root:download_2bit_file(): File for mm10 already exists. Not going to download.\n",
            "\n",
            "\n",
            "Processing feature types: 100% 1/1 [00:02<00:00,  2.40s/it]\n",
            "\n",
            "Processing feature files: 100% 1/1 [00:02<00:00,  2.49s/it]\n",
            "Processing organisms: 100% 1/1 [00:02<00:00,  2.49s/it]\n"
          ]
        }
      ]
    }
  ]
}