{
 "cells": [
  {
   "cell_type": "code",
   "execution_count": 1,
   "metadata": {},
   "outputs": [],
   "source": [
    "import pandas as pd\n",
    "import yaml\n",
    "from pathlib import Path\n",
    "from sklearn.model_selection import train_test_split"
   ]
  },
  {
   "cell_type": "markdown",
   "metadata": {},
   "source": [
    "## Download data from ECCB2020 workshop"
   ]
  },
  {
   "cell_type": "code",
   "execution_count": 2,
   "metadata": {},
   "outputs": [
    {
     "name": "stdout",
     "output_type": "stream",
     "text": [
      "(50000, 4)\n"
     ]
    },
    {
     "data": {
      "text/html": [
       "<div>\n",
       "<style scoped>\n",
       "    .dataframe tbody tr th:only-of-type {\n",
       "        vertical-align: middle;\n",
       "    }\n",
       "\n",
       "    .dataframe tbody tr th {\n",
       "        vertical-align: top;\n",
       "    }\n",
       "\n",
       "    .dataframe thead th {\n",
       "        text-align: right;\n",
       "    }\n",
       "</style>\n",
       "<table border=\"1\" class=\"dataframe\">\n",
       "  <thead>\n",
       "    <tr style=\"text-align: right;\">\n",
       "      <th></th>\n",
       "      <th>chr</th>\n",
       "      <th>start</th>\n",
       "      <th>end</th>\n",
       "      <th>seq</th>\n",
       "    </tr>\n",
       "  </thead>\n",
       "  <tbody>\n",
       "    <tr>\n",
       "      <th>0</th>\n",
       "      <td>17</td>\n",
       "      <td>14239397</td>\n",
       "      <td>14239596</td>\n",
       "      <td>AACTGGGATTCACAGGAGCTTAATGGAGCACATGATGTTAAGTGAA...</td>\n",
       "    </tr>\n",
       "    <tr>\n",
       "      <th>1</th>\n",
       "      <td>X</td>\n",
       "      <td>90928374</td>\n",
       "      <td>90928573</td>\n",
       "      <td>GCTAGTTGTATGGTTAGCAGCAAGATATTTTTTCTCTCTGATCTTT...</td>\n",
       "    </tr>\n",
       "    <tr>\n",
       "      <th>2</th>\n",
       "      <td>3</td>\n",
       "      <td>104278717</td>\n",
       "      <td>104278916</td>\n",
       "      <td>GACTTTGTAGACTTGTGTGACCTGTGTGCCTCCCTCTCCCCCCAAA...</td>\n",
       "    </tr>\n",
       "    <tr>\n",
       "      <th>3</th>\n",
       "      <td>4</td>\n",
       "      <td>187089054</td>\n",
       "      <td>187089253</td>\n",
       "      <td>ATGTTAACACCAAATCAGTCCATCCTAATTATCACTCAAAAATCAA...</td>\n",
       "    </tr>\n",
       "    <tr>\n",
       "      <th>4</th>\n",
       "      <td>2</td>\n",
       "      <td>137742849</td>\n",
       "      <td>137743048</td>\n",
       "      <td>GCAGGAGCTCTATCTGTTTGGACTAGTTCAGCCCCATCTCTTTTGG...</td>\n",
       "    </tr>\n",
       "  </tbody>\n",
       "</table>\n",
       "</div>"
      ],
      "text/plain": [
       "  chr      start        end                                                seq\n",
       "0  17   14239397   14239596  AACTGGGATTCACAGGAGCTTAATGGAGCACATGATGTTAAGTGAA...\n",
       "1   X   90928374   90928573  GCTAGTTGTATGGTTAGCAGCAAGATATTTTTTCTCTCTGATCTTT...\n",
       "2   3  104278717  104278916  GACTTTGTAGACTTGTGTGACCTGTGTGCCTCCCTCTCCCCCCAAA...\n",
       "3   4  187089054  187089253  ATGTTAACACCAAATCAGTCCATCCTAATTATCACTCAAAAATCAA...\n",
       "4   2  137742849  137743048  GCAGGAGCTCTATCTGTTTGGACTAGTTCAGCCCCATCTCTTTTGG..."
      ]
     },
     "execution_count": 2,
     "metadata": {},
     "output_type": "execute_result"
    }
   ],
   "source": [
    "intergenomic_seqs_raw = pd.read_csv(\"http://raw.githubusercontent.com/ML-Bioinfo-CEITEC/ECCB2020/master/data/intergenomic_seqs_50k.csv\")\n",
    "print(intergenomic_seqs_raw.shape)\n",
    "intergenomic_seqs_raw.head()"
   ]
  },
  {
   "cell_type": "code",
   "execution_count": 3,
   "metadata": {},
   "outputs": [
    {
     "name": "stdout",
     "output_type": "stream",
     "text": [
      "(50000, 5)\n"
     ]
    },
    {
     "data": {
      "text/html": [
       "<div>\n",
       "<style scoped>\n",
       "    .dataframe tbody tr th:only-of-type {\n",
       "        vertical-align: middle;\n",
       "    }\n",
       "\n",
       "    .dataframe tbody tr th {\n",
       "        vertical-align: top;\n",
       "    }\n",
       "\n",
       "    .dataframe thead th {\n",
       "        text-align: right;\n",
       "    }\n",
       "</style>\n",
       "<table border=\"1\" class=\"dataframe\">\n",
       "  <thead>\n",
       "    <tr style=\"text-align: right;\">\n",
       "      <th></th>\n",
       "      <th>id</th>\n",
       "      <th>chr</th>\n",
       "      <th>random_start</th>\n",
       "      <th>random_end</th>\n",
       "      <th>seq</th>\n",
       "    </tr>\n",
       "  </thead>\n",
       "  <tbody>\n",
       "    <tr>\n",
       "      <th>0</th>\n",
       "      <td>ENST00000443659</td>\n",
       "      <td>3</td>\n",
       "      <td>294</td>\n",
       "      <td>493</td>\n",
       "      <td>CTTCTGAAGAAAGAAATCGATAAGTTCAAAGACAAAAAAGAGGTAG...</td>\n",
       "    </tr>\n",
       "    <tr>\n",
       "      <th>1</th>\n",
       "      <td>ENST00000458477</td>\n",
       "      <td>12</td>\n",
       "      <td>647</td>\n",
       "      <td>846</td>\n",
       "      <td>CTGCACCCACTGCCAGGAGGAGATCGGATCCCGGAACTTCTTCGAG...</td>\n",
       "    </tr>\n",
       "    <tr>\n",
       "      <th>2</th>\n",
       "      <td>ENST00000610355</td>\n",
       "      <td>4</td>\n",
       "      <td>1042</td>\n",
       "      <td>1241</td>\n",
       "      <td>GTAGTCAATGTGAACCAATTACATTGGAACTCTGCATGAATTTGCC...</td>\n",
       "    </tr>\n",
       "    <tr>\n",
       "      <th>3</th>\n",
       "      <td>ENST00000536187</td>\n",
       "      <td>12</td>\n",
       "      <td>1055</td>\n",
       "      <td>1254</td>\n",
       "      <td>GGAGGTTTACTGGCGGGCCACGCACCACCCAGCCCCTGGCCCCGGA...</td>\n",
       "    </tr>\n",
       "    <tr>\n",
       "      <th>4</th>\n",
       "      <td>ENST00000561718</td>\n",
       "      <td>16</td>\n",
       "      <td>109</td>\n",
       "      <td>308</td>\n",
       "      <td>ATGAAGCCGAGAAGGCGCTGAAGCACATGGATGGAGGACAAATTGA...</td>\n",
       "    </tr>\n",
       "  </tbody>\n",
       "</table>\n",
       "</div>"
      ],
      "text/plain": [
       "                id chr  random_start  random_end  \\\n",
       "0  ENST00000443659   3           294         493   \n",
       "1  ENST00000458477  12           647         846   \n",
       "2  ENST00000610355   4          1042        1241   \n",
       "3  ENST00000536187  12          1055        1254   \n",
       "4  ENST00000561718  16           109         308   \n",
       "\n",
       "                                                 seq  \n",
       "0  CTTCTGAAGAAAGAAATCGATAAGTTCAAAGACAAAAAAGAGGTAG...  \n",
       "1  CTGCACCCACTGCCAGGAGGAGATCGGATCCCGGAACTTCTTCGAG...  \n",
       "2  GTAGTCAATGTGAACCAATTACATTGGAACTCTGCATGAATTTGCC...  \n",
       "3  GGAGGTTTACTGGCGGGCCACGCACCACCCAGCCCCTGGCCCCGGA...  \n",
       "4  ATGAAGCCGAGAAGGCGCTGAAGCACATGGATGGAGGACAAATTGA...  "
      ]
     },
     "execution_count": 3,
     "metadata": {},
     "output_type": "execute_result"
    }
   ],
   "source": [
    "coding_seqs_raw = pd.read_csv(\"https://raw.githubusercontent.com/ML-Bioinfo-CEITEC/ECCB2020/master/data/random_transcripts.csv\")\n",
    "print(coding_seqs_raw.shape)\n",
    "coding_seqs_raw.head()"
   ]
  },
  {
   "cell_type": "markdown",
   "metadata": {},
   "source": [
    "## Data transform"
   ]
  },
  {
   "cell_type": "code",
   "execution_count": 4,
   "metadata": {},
   "outputs": [
    {
     "data": {
      "text/html": [
       "<div>\n",
       "<style scoped>\n",
       "    .dataframe tbody tr th:only-of-type {\n",
       "        vertical-align: middle;\n",
       "    }\n",
       "\n",
       "    .dataframe tbody tr th {\n",
       "        vertical-align: top;\n",
       "    }\n",
       "\n",
       "    .dataframe thead th {\n",
       "        text-align: right;\n",
       "    }\n",
       "</style>\n",
       "<table border=\"1\" class=\"dataframe\">\n",
       "  <thead>\n",
       "    <tr style=\"text-align: right;\">\n",
       "      <th></th>\n",
       "      <th>id</th>\n",
       "      <th>region</th>\n",
       "      <th>start</th>\n",
       "      <th>end</th>\n",
       "      <th>strand</th>\n",
       "    </tr>\n",
       "  </thead>\n",
       "  <tbody>\n",
       "    <tr>\n",
       "      <th>0</th>\n",
       "      <td>0</td>\n",
       "      <td>chr17</td>\n",
       "      <td>14239396</td>\n",
       "      <td>14239596</td>\n",
       "      <td>+</td>\n",
       "    </tr>\n",
       "    <tr>\n",
       "      <th>1</th>\n",
       "      <td>1</td>\n",
       "      <td>chrX</td>\n",
       "      <td>90928373</td>\n",
       "      <td>90928573</td>\n",
       "      <td>+</td>\n",
       "    </tr>\n",
       "    <tr>\n",
       "      <th>2</th>\n",
       "      <td>2</td>\n",
       "      <td>chr3</td>\n",
       "      <td>104278716</td>\n",
       "      <td>104278916</td>\n",
       "      <td>+</td>\n",
       "    </tr>\n",
       "    <tr>\n",
       "      <th>3</th>\n",
       "      <td>3</td>\n",
       "      <td>chr4</td>\n",
       "      <td>187089053</td>\n",
       "      <td>187089253</td>\n",
       "      <td>+</td>\n",
       "    </tr>\n",
       "    <tr>\n",
       "      <th>4</th>\n",
       "      <td>4</td>\n",
       "      <td>chr2</td>\n",
       "      <td>137742848</td>\n",
       "      <td>137743048</td>\n",
       "      <td>+</td>\n",
       "    </tr>\n",
       "    <tr>\n",
       "      <th>...</th>\n",
       "      <td>...</td>\n",
       "      <td>...</td>\n",
       "      <td>...</td>\n",
       "      <td>...</td>\n",
       "      <td>...</td>\n",
       "    </tr>\n",
       "    <tr>\n",
       "      <th>49995</th>\n",
       "      <td>49995</td>\n",
       "      <td>chr4</td>\n",
       "      <td>44124986</td>\n",
       "      <td>44125186</td>\n",
       "      <td>+</td>\n",
       "    </tr>\n",
       "    <tr>\n",
       "      <th>49996</th>\n",
       "      <td>49996</td>\n",
       "      <td>chr1</td>\n",
       "      <td>233442677</td>\n",
       "      <td>233442877</td>\n",
       "      <td>+</td>\n",
       "    </tr>\n",
       "    <tr>\n",
       "      <th>49997</th>\n",
       "      <td>49997</td>\n",
       "      <td>chrX</td>\n",
       "      <td>30807631</td>\n",
       "      <td>30807831</td>\n",
       "      <td>+</td>\n",
       "    </tr>\n",
       "    <tr>\n",
       "      <th>49998</th>\n",
       "      <td>49998</td>\n",
       "      <td>chr20</td>\n",
       "      <td>53905546</td>\n",
       "      <td>53905746</td>\n",
       "      <td>+</td>\n",
       "    </tr>\n",
       "    <tr>\n",
       "      <th>49999</th>\n",
       "      <td>49999</td>\n",
       "      <td>chr4</td>\n",
       "      <td>175431023</td>\n",
       "      <td>175431223</td>\n",
       "      <td>+</td>\n",
       "    </tr>\n",
       "  </tbody>\n",
       "</table>\n",
       "<p>50000 rows × 5 columns</p>\n",
       "</div>"
      ],
      "text/plain": [
       "          id region      start        end strand\n",
       "0          0  chr17   14239396   14239596      +\n",
       "1          1   chrX   90928373   90928573      +\n",
       "2          2   chr3  104278716  104278916      +\n",
       "3          3   chr4  187089053  187089253      +\n",
       "4          4   chr2  137742848  137743048      +\n",
       "...      ...    ...        ...        ...    ...\n",
       "49995  49995   chr4   44124986   44125186      +\n",
       "49996  49996   chr1  233442677  233442877      +\n",
       "49997  49997   chrX   30807631   30807831      +\n",
       "49998  49998  chr20   53905546   53905746      +\n",
       "49999  49999   chr4  175431023  175431223      +\n",
       "\n",
       "[50000 rows x 5 columns]"
      ]
     },
     "execution_count": 4,
     "metadata": {},
     "output_type": "execute_result"
    }
   ],
   "source": [
    "intergenomic_seqs = pd.DataFrame({'id': list(range(len(intergenomic_seqs_raw))),\n",
    "                                  'region': 'chr' + intergenomic_seqs_raw['chr'].astype(str),\n",
    "                                  'start': intergenomic_seqs_raw['start']-1,\n",
    "                                  'end': intergenomic_seqs_raw['end'],\n",
    "                                  'strand': '+' \n",
    "                                 })\n",
    "intergenomic_seqs"
   ]
  },
  {
   "cell_type": "code",
   "execution_count": 5,
   "metadata": {},
   "outputs": [
    {
     "data": {
      "text/html": [
       "<div>\n",
       "<style scoped>\n",
       "    .dataframe tbody tr th:only-of-type {\n",
       "        vertical-align: middle;\n",
       "    }\n",
       "\n",
       "    .dataframe tbody tr th {\n",
       "        vertical-align: top;\n",
       "    }\n",
       "\n",
       "    .dataframe thead th {\n",
       "        text-align: right;\n",
       "    }\n",
       "</style>\n",
       "<table border=\"1\" class=\"dataframe\">\n",
       "  <thead>\n",
       "    <tr style=\"text-align: right;\">\n",
       "      <th></th>\n",
       "      <th>id</th>\n",
       "      <th>region</th>\n",
       "      <th>start</th>\n",
       "      <th>end</th>\n",
       "      <th>strand</th>\n",
       "    </tr>\n",
       "  </thead>\n",
       "  <tbody>\n",
       "    <tr>\n",
       "      <th>0</th>\n",
       "      <td>0</td>\n",
       "      <td>ENST00000443659</td>\n",
       "      <td>294</td>\n",
       "      <td>494</td>\n",
       "      <td>+</td>\n",
       "    </tr>\n",
       "    <tr>\n",
       "      <th>1</th>\n",
       "      <td>1</td>\n",
       "      <td>ENST00000458477</td>\n",
       "      <td>647</td>\n",
       "      <td>847</td>\n",
       "      <td>+</td>\n",
       "    </tr>\n",
       "    <tr>\n",
       "      <th>2</th>\n",
       "      <td>2</td>\n",
       "      <td>ENST00000610355</td>\n",
       "      <td>1042</td>\n",
       "      <td>1242</td>\n",
       "      <td>+</td>\n",
       "    </tr>\n",
       "    <tr>\n",
       "      <th>3</th>\n",
       "      <td>3</td>\n",
       "      <td>ENST00000536187</td>\n",
       "      <td>1055</td>\n",
       "      <td>1255</td>\n",
       "      <td>+</td>\n",
       "    </tr>\n",
       "    <tr>\n",
       "      <th>4</th>\n",
       "      <td>4</td>\n",
       "      <td>ENST00000561718</td>\n",
       "      <td>109</td>\n",
       "      <td>309</td>\n",
       "      <td>+</td>\n",
       "    </tr>\n",
       "    <tr>\n",
       "      <th>...</th>\n",
       "      <td>...</td>\n",
       "      <td>...</td>\n",
       "      <td>...</td>\n",
       "      <td>...</td>\n",
       "      <td>...</td>\n",
       "    </tr>\n",
       "    <tr>\n",
       "      <th>49995</th>\n",
       "      <td>49995</td>\n",
       "      <td>ENST00000392833</td>\n",
       "      <td>939</td>\n",
       "      <td>1139</td>\n",
       "      <td>+</td>\n",
       "    </tr>\n",
       "    <tr>\n",
       "      <th>49996</th>\n",
       "      <td>49996</td>\n",
       "      <td>ENST00000342970</td>\n",
       "      <td>182</td>\n",
       "      <td>382</td>\n",
       "      <td>+</td>\n",
       "    </tr>\n",
       "    <tr>\n",
       "      <th>49997</th>\n",
       "      <td>49997</td>\n",
       "      <td>ENST00000575314</td>\n",
       "      <td>613</td>\n",
       "      <td>813</td>\n",
       "      <td>+</td>\n",
       "    </tr>\n",
       "    <tr>\n",
       "      <th>49998</th>\n",
       "      <td>49998</td>\n",
       "      <td>ENST00000557658</td>\n",
       "      <td>863</td>\n",
       "      <td>1063</td>\n",
       "      <td>+</td>\n",
       "    </tr>\n",
       "    <tr>\n",
       "      <th>49999</th>\n",
       "      <td>49999</td>\n",
       "      <td>ENST00000530885</td>\n",
       "      <td>0</td>\n",
       "      <td>200</td>\n",
       "      <td>+</td>\n",
       "    </tr>\n",
       "  </tbody>\n",
       "</table>\n",
       "<p>50000 rows × 5 columns</p>\n",
       "</div>"
      ],
      "text/plain": [
       "          id           region  start   end strand\n",
       "0          0  ENST00000443659    294   494      +\n",
       "1          1  ENST00000458477    647   847      +\n",
       "2          2  ENST00000610355   1042  1242      +\n",
       "3          3  ENST00000536187   1055  1255      +\n",
       "4          4  ENST00000561718    109   309      +\n",
       "...      ...              ...    ...   ...    ...\n",
       "49995  49995  ENST00000392833    939  1139      +\n",
       "49996  49996  ENST00000342970    182   382      +\n",
       "49997  49997  ENST00000575314    613   813      +\n",
       "49998  49998  ENST00000557658    863  1063      +\n",
       "49999  49999  ENST00000530885      0   200      +\n",
       "\n",
       "[50000 rows x 5 columns]"
      ]
     },
     "execution_count": 5,
     "metadata": {},
     "output_type": "execute_result"
    }
   ],
   "source": [
    "coding_seqs = pd.DataFrame({'id': list(range(len(coding_seqs_raw))),\n",
    "                                  'region': coding_seqs_raw['id'].astype(str),\n",
    "                                  'start': coding_seqs_raw['random_start'],\n",
    "                                  'end': coding_seqs_raw['random_end']+1,\n",
    "                                  'strand': '+' \n",
    "                                 })\n",
    "coding_seqs"
   ]
  },
  {
   "cell_type": "markdown",
   "metadata": {},
   "source": [
    "## Train/test split"
   ]
  },
  {
   "cell_type": "code",
   "execution_count": 6,
   "metadata": {},
   "outputs": [
    {
     "data": {
      "text/plain": [
       "((37500, 5), (12500, 5))"
      ]
     },
     "execution_count": 6,
     "metadata": {},
     "output_type": "execute_result"
    }
   ],
   "source": [
    "train_coding_seqs, test_coding_seqs = train_test_split(coding_seqs, shuffle=True, random_state=42)\n",
    "train_coding_seqs.shape, test_coding_seqs.shape"
   ]
  },
  {
   "cell_type": "code",
   "execution_count": 7,
   "metadata": {},
   "outputs": [
    {
     "data": {
      "text/plain": [
       "((37500, 5), (12500, 5))"
      ]
     },
     "execution_count": 7,
     "metadata": {},
     "output_type": "execute_result"
    }
   ],
   "source": [
    "train_intergenomic_seqs, test_intergenomic_seqs = train_test_split(intergenomic_seqs, shuffle=True, random_state=42)\n",
    "train_intergenomic_seqs.shape, test_intergenomic_seqs.shape"
   ]
  },
  {
   "cell_type": "markdown",
   "metadata": {},
   "source": [
    "## YAML metadata"
   ]
  },
  {
   "cell_type": "code",
   "execution_count": 8,
   "metadata": {},
   "outputs": [],
   "source": [
    "BASE_FILE_PATH = Path(\"../../datasets/demo_coding_vs_intergenomic_seqs/\")\n",
    "\n",
    "# copied from https://stackoverflow.com/a/57892171\n",
    "def rm_tree(pth: Path):\n",
    "    for child in pth.iterdir():\n",
    "        if child.is_file():\n",
    "            child.unlink()\n",
    "        else:\n",
    "            rm_tree(child)\n",
    "    pth.rmdir()\n",
    "\n",
    "if BASE_FILE_PATH.exists():\n",
    "    rm_tree(BASE_FILE_PATH)\n",
    "    \n",
    "BASE_FILE_PATH.mkdir()\n",
    "(BASE_FILE_PATH / 'train').mkdir()\n",
    "(BASE_FILE_PATH / 'test').mkdir()"
   ]
  },
  {
   "cell_type": "code",
   "execution_count": 9,
   "metadata": {},
   "outputs": [
    {
     "data": {
      "text/plain": [
       "{'version': 0,\n",
       " 'classes': {'intergenomic_seqs': {'type': 'fa.gz',\n",
       "   'url': 'http://ftp.ensembl.org/pub/release-97/fasta/homo_sapiens/dna/Homo_sapiens.GRCh38.dna.toplevel.fa.gz',\n",
       "   'extra_processing': 'ENSEMBL_HUMAN_GENOME'},\n",
       "  'coding_seqs': {'type': 'fa.gz',\n",
       "   'url': 'http://ftp.ensembl.org/pub/release-97/fasta/homo_sapiens/cdna/Homo_sapiens.GRCh38.cdna.all.fa.gz',\n",
       "   'extra_processing': 'ENSEMBL_HUMAN_TRANSCRIPTOME'}}}"
      ]
     },
     "execution_count": 9,
     "metadata": {},
     "output_type": "execute_result"
    }
   ],
   "source": [
    "with open(BASE_FILE_PATH / 'metadata.yaml', 'w') as fw:\n",
    "    desc = {\n",
    "        'version': 0,\n",
    "        'classes': {\n",
    "            'intergenomic_seqs': {\n",
    "                'type': 'fa.gz',\n",
    "                'url': 'http://ftp.ensembl.org/pub/release-97/fasta/homo_sapiens/dna/Homo_sapiens.GRCh38.dna.toplevel.fa.gz',\n",
    "                'extra_processing': 'ENSEMBL_HUMAN_GENOME' \n",
    "            },    \n",
    "            'coding_seqs': {\n",
    "                'type': 'fa.gz',\n",
    "                'url': 'http://ftp.ensembl.org/pub/release-97/fasta/homo_sapiens/cdna/Homo_sapiens.GRCh38.cdna.all.fa.gz',\n",
    "                'extra_processing': 'ENSEMBL_HUMAN_TRANSCRIPTOME'\n",
    "            }\n",
    "        }\n",
    "    }\n",
    "    \n",
    "    yaml.dump(desc, fw)\n",
    "\n",
    "desc"
   ]
  },
  {
   "cell_type": "markdown",
   "metadata": {},
   "source": [
    "## CSV files"
   ]
  },
  {
   "cell_type": "code",
   "execution_count": 10,
   "metadata": {},
   "outputs": [],
   "source": [
    "train_intergenomic_seqs.to_csv(BASE_FILE_PATH / 'train' / 'intergenomic_seqs.csv.gz', index=False, compression='gzip')\n",
    "train_coding_seqs.to_csv(BASE_FILE_PATH / 'train' / 'coding_seqs.csv.gz', index=False, compression='gzip')\n",
    "test_intergenomic_seqs.to_csv(BASE_FILE_PATH / 'test' / 'intergenomic_seqs.csv.gz', index=False, compression='gzip')\n",
    "test_coding_seqs.to_csv(BASE_FILE_PATH / 'test' / 'coding_seqs.csv.gz', index=False, compression='gzip')"
   ]
  },
  {
   "cell_type": "code",
   "execution_count": null,
   "metadata": {},
   "outputs": [],
   "source": []
  }
 ],
 "metadata": {
  "kernelspec": {
   "display_name": "Python 3 (ipykernel)",
   "language": "python",
   "name": "python3"
  },
  "language_info": {
   "codemirror_mode": {
    "name": "ipython",
    "version": 3
   },
   "file_extension": ".py",
   "mimetype": "text/x-python",
   "name": "python",
   "nbconvert_exporter": "python",
   "pygments_lexer": "ipython3",
   "version": "3.8.9"
  }
 },
 "nbformat": 4,
 "nbformat_minor": 4
}
