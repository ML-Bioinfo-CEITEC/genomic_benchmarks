{
 "cells": [
  {
   "cell_type": "code",
   "execution_count": 1,
   "id": "eee3c3ee",
   "metadata": {},
   "outputs": [],
   "source": [
    "%load_ext autoreload\n",
    "%autoreload 2"
   ]
  },
  {
   "cell_type": "code",
   "execution_count": 3,
   "id": "a381d940",
   "metadata": {},
   "outputs": [],
   "source": [
    "from genomic_benchmarks.loc2seq.with_biopython import _fastagz2dict\n",
    "from genomic_benchmarks.seq2loc import fasta2loc\n",
    "from sklearn.model_selection import train_test_split\n",
    "import pandas as pd\n",
    "from tqdm.notebook import tqdm\n",
    "from pathlib import Path\n",
    "import yaml\n",
    "import tarfile"
   ]
  },
  {
   "cell_type": "markdown",
   "id": "386ad9fd",
   "metadata": {},
   "source": [
    "## Load genomic reference and download data from GitHub"
   ]
  },
  {
   "cell_type": "code",
   "execution_count": 3,
   "id": "d3bd760b",
   "metadata": {},
   "outputs": [
    {
     "data": {
      "application/vnd.jupyter.widget-view+json": {
       "model_id": "3926c5b6c07a42ef9d8a9a7f37b79df1",
       "version_major": 2,
       "version_minor": 0
      },
      "text/plain": [
       "  0%|          | 0/24 [00:00<?, ?it/s]"
      ]
     },
     "metadata": {},
     "output_type": "display_data"
    },
    {
     "data": {
      "text/plain": [
       "dict_keys(['1', '2', '3', '4', '5', '6', '7', '8', '9', '10', '11', '12', '13', '14', '15', '16', '17', '18', '19', '20', '21', '22', 'X', 'Y', 'MT'])"
      ]
     },
     "execution_count": 3,
     "metadata": {},
     "output_type": "execute_result"
    }
   ],
   "source": [
    "genome = _fastagz2dict(Path.home() / \".genomic_benchmarks/fasta/Homo_sapiens.GRCh38.dna.toplevel.fa.gz\",\n",
    "                      24, 'MT')\n",
    "genome.keys()"
   ]
  },
  {
   "cell_type": "code",
   "execution_count": 4,
   "id": "14e8afb4",
   "metadata": {},
   "outputs": [
    {
     "name": "stdout",
     "output_type": "stream",
     "text": [
      "--2021-10-20 00:43:11--  http://www.cs.huji.ac.il/~tommy//enhancer_CNN/Enhancers_vs_negative.tgz\n",
      "Resolving www.cs.huji.ac.il (www.cs.huji.ac.il)... 132.65.118.16\n",
      "Connecting to www.cs.huji.ac.il (www.cs.huji.ac.il)|132.65.118.16|:80... connected.\n",
      "HTTP request sent, awaiting response... 301 Moved Permanently\n",
      "Location: https://www.cs.huji.ac.il/~tommy/enhancer_CNN/Enhancers_vs_negative.tgz [following]\n",
      "--2021-10-20 00:43:12--  https://www.cs.huji.ac.il/~tommy/enhancer_CNN/Enhancers_vs_negative.tgz\n",
      "Connecting to www.cs.huji.ac.il (www.cs.huji.ac.il)|132.65.118.16|:443... connected.\n",
      "HTTP request sent, awaiting response... 200 OK\n",
      "Length: 135457662 (129M) [application/x-gzip]\n",
      "Saving to: ‘Enhancers_vs_negative.tgz’\n",
      "\n",
      "Enhancers_vs_negati 100%[===================>] 129.18M  14.9MB/s    in 9.3s    \n",
      "\n",
      "2021-10-20 00:43:22 (13.9 MB/s) - ‘Enhancers_vs_negative.tgz’ saved [135457662/135457662]\n",
      "\n"
     ]
    }
   ],
   "source": [
    "!wget http://www.cs.huji.ac.il/~tommy//enhancer_CNN/Enhancers_vs_negative.tgz"
   ]
  },
  {
   "cell_type": "markdown",
   "id": "504979c9",
   "metadata": {},
   "source": [
    "## Create FASTA"
   ]
  },
  {
   "cell_type": "code",
   "execution_count": 5,
   "id": "de663043",
   "metadata": {},
   "outputs": [],
   "source": [
    "# extract human data\n",
    "\n",
    "with tarfile.open(\"Enhancers_vs_negative.tgz\", \"r:gz\") as tar:\n",
    "    for item in tar.getmembers():\n",
    "        if item.name in [\"Human/positive_samples\", \"Human/negative_samples\"]:\n",
    "            tar.extract(item, \".\")"
   ]
  },
  {
   "cell_type": "code",
   "execution_count": 6,
   "id": "9b6ea30e",
   "metadata": {},
   "outputs": [],
   "source": [
    "with open(\"Human/positive_samples\") as fr:\n",
    "    positives = fr.read().splitlines()\n",
    "with open(\"Human/negative_samples\") as fr:\n",
    "    negatives = fr.read().splitlines()\n",
    "\n",
    "with open(\"all_together.fa\", \"w\") as fw:\n",
    "    for i, p in enumerate(positives):\n",
    "        fw.write(f\">positive{i}\\n{p}\\n\")\n",
    "    for i, n in enumerate(negatives):\n",
    "        fw.write(f\">negative{i}\\n{n}\\n\")"
   ]
  },
  {
   "cell_type": "markdown",
   "id": "fa3368e0",
   "metadata": {},
   "source": [
    "## Get locations"
   ]
  },
  {
   "cell_type": "code",
   "execution_count": 7,
   "id": "102ca6eb",
   "metadata": {},
   "outputs": [
    {
     "name": "stdout",
     "output_type": "stream",
     "text": [
      "28000 sequences read and parsed.\n"
     ]
    },
    {
     "data": {
      "application/vnd.jupyter.widget-view+json": {
       "model_id": "e7eb4e4e76a74c909b688ab18c3e90f8",
       "version_major": 2,
       "version_minor": 0
      },
      "text/plain": [
       "  0%|          | 0/25 [00:00<?, ?it/s]"
      ]
     },
     "metadata": {},
     "output_type": "display_data"
    },
    {
     "data": {
      "application/vnd.jupyter.widget-view+json": {
       "model_id": "",
       "version_major": 2,
       "version_minor": 0
      },
      "text/plain": [
       "  0%|          | 0/248956422 [00:00<?, ?it/s]"
      ]
     },
     "metadata": {},
     "output_type": "display_data"
    },
    {
     "data": {
      "application/vnd.jupyter.widget-view+json": {
       "model_id": "",
       "version_major": 2,
       "version_minor": 0
      },
      "text/plain": [
       "  0%|          | 0/242193529 [00:00<?, ?it/s]"
      ]
     },
     "metadata": {},
     "output_type": "display_data"
    },
    {
     "data": {
      "application/vnd.jupyter.widget-view+json": {
       "model_id": "",
       "version_major": 2,
       "version_minor": 0
      },
      "text/plain": [
       "  0%|          | 0/198295559 [00:00<?, ?it/s]"
      ]
     },
     "metadata": {},
     "output_type": "display_data"
    },
    {
     "data": {
      "application/vnd.jupyter.widget-view+json": {
       "model_id": "",
       "version_major": 2,
       "version_minor": 0
      },
      "text/plain": [
       "  0%|          | 0/190214555 [00:00<?, ?it/s]"
      ]
     },
     "metadata": {},
     "output_type": "display_data"
    },
    {
     "data": {
      "application/vnd.jupyter.widget-view+json": {
       "model_id": "",
       "version_major": 2,
       "version_minor": 0
      },
      "text/plain": [
       "  0%|          | 0/181538259 [00:00<?, ?it/s]"
      ]
     },
     "metadata": {},
     "output_type": "display_data"
    },
    {
     "data": {
      "application/vnd.jupyter.widget-view+json": {
       "model_id": "",
       "version_major": 2,
       "version_minor": 0
      },
      "text/plain": [
       "  0%|          | 0/170805979 [00:00<?, ?it/s]"
      ]
     },
     "metadata": {},
     "output_type": "display_data"
    },
    {
     "data": {
      "application/vnd.jupyter.widget-view+json": {
       "model_id": "",
       "version_major": 2,
       "version_minor": 0
      },
      "text/plain": [
       "  0%|          | 0/159345973 [00:00<?, ?it/s]"
      ]
     },
     "metadata": {},
     "output_type": "display_data"
    },
    {
     "data": {
      "application/vnd.jupyter.widget-view+json": {
       "model_id": "",
       "version_major": 2,
       "version_minor": 0
      },
      "text/plain": [
       "  0%|          | 0/145138636 [00:00<?, ?it/s]"
      ]
     },
     "metadata": {},
     "output_type": "display_data"
    },
    {
     "data": {
      "application/vnd.jupyter.widget-view+json": {
       "model_id": "",
       "version_major": 2,
       "version_minor": 0
      },
      "text/plain": [
       "  0%|          | 0/138394717 [00:00<?, ?it/s]"
      ]
     },
     "metadata": {},
     "output_type": "display_data"
    },
    {
     "data": {
      "application/vnd.jupyter.widget-view+json": {
       "model_id": "",
       "version_major": 2,
       "version_minor": 0
      },
      "text/plain": [
       "  0%|          | 0/133797422 [00:00<?, ?it/s]"
      ]
     },
     "metadata": {},
     "output_type": "display_data"
    },
    {
     "data": {
      "application/vnd.jupyter.widget-view+json": {
       "model_id": "",
       "version_major": 2,
       "version_minor": 0
      },
      "text/plain": [
       "  0%|          | 0/135086622 [00:00<?, ?it/s]"
      ]
     },
     "metadata": {},
     "output_type": "display_data"
    },
    {
     "data": {
      "application/vnd.jupyter.widget-view+json": {
       "model_id": "",
       "version_major": 2,
       "version_minor": 0
      },
      "text/plain": [
       "  0%|          | 0/133275309 [00:00<?, ?it/s]"
      ]
     },
     "metadata": {},
     "output_type": "display_data"
    },
    {
     "data": {
      "application/vnd.jupyter.widget-view+json": {
       "model_id": "",
       "version_major": 2,
       "version_minor": 0
      },
      "text/plain": [
       "  0%|          | 0/114364328 [00:00<?, ?it/s]"
      ]
     },
     "metadata": {},
     "output_type": "display_data"
    },
    {
     "data": {
      "application/vnd.jupyter.widget-view+json": {
       "model_id": "",
       "version_major": 2,
       "version_minor": 0
      },
      "text/plain": [
       "  0%|          | 0/107043718 [00:00<?, ?it/s]"
      ]
     },
     "metadata": {},
     "output_type": "display_data"
    },
    {
     "data": {
      "application/vnd.jupyter.widget-view+json": {
       "model_id": "",
       "version_major": 2,
       "version_minor": 0
      },
      "text/plain": [
       "  0%|          | 0/101991189 [00:00<?, ?it/s]"
      ]
     },
     "metadata": {},
     "output_type": "display_data"
    },
    {
     "data": {
      "application/vnd.jupyter.widget-view+json": {
       "model_id": "",
       "version_major": 2,
       "version_minor": 0
      },
      "text/plain": [
       "  0%|          | 0/90338345 [00:00<?, ?it/s]"
      ]
     },
     "metadata": {},
     "output_type": "display_data"
    },
    {
     "data": {
      "application/vnd.jupyter.widget-view+json": {
       "model_id": "",
       "version_major": 2,
       "version_minor": 0
      },
      "text/plain": [
       "  0%|          | 0/83257441 [00:00<?, ?it/s]"
      ]
     },
     "metadata": {},
     "output_type": "display_data"
    },
    {
     "data": {
      "application/vnd.jupyter.widget-view+json": {
       "model_id": "",
       "version_major": 2,
       "version_minor": 0
      },
      "text/plain": [
       "  0%|          | 0/80373285 [00:00<?, ?it/s]"
      ]
     },
     "metadata": {},
     "output_type": "display_data"
    },
    {
     "data": {
      "application/vnd.jupyter.widget-view+json": {
       "model_id": "",
       "version_major": 2,
       "version_minor": 0
      },
      "text/plain": [
       "  0%|          | 0/58617616 [00:00<?, ?it/s]"
      ]
     },
     "metadata": {},
     "output_type": "display_data"
    },
    {
     "data": {
      "application/vnd.jupyter.widget-view+json": {
       "model_id": "",
       "version_major": 2,
       "version_minor": 0
      },
      "text/plain": [
       "  0%|          | 0/64444167 [00:00<?, ?it/s]"
      ]
     },
     "metadata": {},
     "output_type": "display_data"
    },
    {
     "data": {
      "application/vnd.jupyter.widget-view+json": {
       "model_id": "",
       "version_major": 2,
       "version_minor": 0
      },
      "text/plain": [
       "  0%|          | 0/46709983 [00:00<?, ?it/s]"
      ]
     },
     "metadata": {},
     "output_type": "display_data"
    },
    {
     "data": {
      "application/vnd.jupyter.widget-view+json": {
       "model_id": "",
       "version_major": 2,
       "version_minor": 0
      },
      "text/plain": [
       "  0%|          | 0/50818468 [00:00<?, ?it/s]"
      ]
     },
     "metadata": {},
     "output_type": "display_data"
    },
    {
     "data": {
      "application/vnd.jupyter.widget-view+json": {
       "model_id": "",
       "version_major": 2,
       "version_minor": 0
      },
      "text/plain": [
       "  0%|          | 0/156040895 [00:00<?, ?it/s]"
      ]
     },
     "metadata": {},
     "output_type": "display_data"
    },
    {
     "data": {
      "application/vnd.jupyter.widget-view+json": {
       "model_id": "",
       "version_major": 2,
       "version_minor": 0
      },
      "text/plain": [
       "  0%|          | 0/57227415 [00:00<?, ?it/s]"
      ]
     },
     "metadata": {},
     "output_type": "display_data"
    },
    {
     "data": {
      "application/vnd.jupyter.widget-view+json": {
       "model_id": "",
       "version_major": 2,
       "version_minor": 0
      },
      "text/plain": [
       "  0%|          | 0/16569 [00:00<?, ?it/s]"
      ]
     },
     "metadata": {},
     "output_type": "display_data"
    },
    {
     "name": "stdout",
     "output_type": "stream",
     "text": [
      "27791 sequences found in the reference.\n"
     ]
    }
   ],
   "source": [
    "# slow!\n",
    "locs = fasta2loc(\"./all_together.fa\", genome)"
   ]
  },
  {
   "cell_type": "markdown",
   "id": "d8d34e22",
   "metadata": {},
   "source": [
    "### A few checks"
   ]
  },
  {
   "cell_type": "code",
   "execution_count": 8,
   "id": "c7992834",
   "metadata": {},
   "outputs": [
    {
     "data": {
      "text/plain": [
       "27791"
      ]
     },
     "execution_count": 8,
     "metadata": {},
     "output_type": "execute_result"
    }
   ],
   "source": [
    "len(locs.keys())"
   ]
  },
  {
   "cell_type": "code",
   "execution_count": 9,
   "id": "d2a973e5",
   "metadata": {},
   "outputs": [],
   "source": [
    "from Bio.Seq import Seq\n",
    "\n",
    "def _rev(seq, strand):\n",
    "    # reverse complement\n",
    "    if strand == '-':\n",
    "        return str(Seq(seq).reverse_complement())\n",
    "    else:\n",
    "        return seq"
   ]
  },
  {
   "cell_type": "code",
   "execution_count": 10,
   "id": "62fd3e42",
   "metadata": {},
   "outputs": [
    {
     "data": {
      "text/plain": [
       "'GCATCTGGGCCCCACCGGGGCTGCCCGCACCGAGCACGCGAACGCGCCCTCCCGCCCTGAGGCCGCCGGCGTTGCGGTCGGAGAACCATAGAGCCACTCGGCTGGGCGTGGCGCGGCGGGGCGGGGAAAGGGGCGGGGCCTGGGCGGCGGAAGTGCGCAGCCGCGCGGCATTCTGGGGCCGGAAGTGGGGTGCACGCTTCGGGTTGGTGTCATGGCAGCTGCGGGGAGCCGCAAGAGGTAAGCCGCGGGTC'"
      ]
     },
     "execution_count": 10,
     "metadata": {},
     "output_type": "execute_result"
    }
   ],
   "source": [
    "_rev(genome['1'][959200:959451], \"-\")"
   ]
  },
  {
   "cell_type": "code",
   "execution_count": 11,
   "id": "60741d93",
   "metadata": {},
   "outputs": [
    {
     "data": {
      "text/plain": [
       "((13895, 4), (13896, 4))"
      ]
     },
     "execution_count": 11,
     "metadata": {},
     "output_type": "execute_result"
    }
   ],
   "source": [
    "locs_df = pd.DataFrame.from_dict(locs, orient='index', columns=['region','start','end','strand']).rename_axis('id')\n",
    "positives_df = locs_df[locs_df.index.str.contains(\"positive\")]\n",
    "negatives_df = locs_df[locs_df.index.str.contains(\"negative\")]\n",
    "positives_df.shape, negatives_df.shape"
   ]
  },
  {
   "cell_type": "code",
   "execution_count": 12,
   "id": "9a703f52",
   "metadata": {},
   "outputs": [
    {
     "name": "stderr",
     "output_type": "stream",
     "text": [
      "/tmp/ipykernel_16998/1749297037.py:1: SettingWithCopyWarning: \n",
      "A value is trying to be set on a copy of a slice from a DataFrame.\n",
      "Try using .loc[row_indexer,col_indexer] = value instead\n",
      "\n",
      "See the caveats in the documentation: https://pandas.pydata.org/pandas-docs/stable/user_guide/indexing.html#returning-a-view-versus-a-copy\n",
      "  positives_df['region'] = \"chr\" + positives_df['region']\n",
      "/tmp/ipykernel_16998/1749297037.py:2: SettingWithCopyWarning: \n",
      "A value is trying to be set on a copy of a slice from a DataFrame.\n",
      "Try using .loc[row_indexer,col_indexer] = value instead\n",
      "\n",
      "See the caveats in the documentation: https://pandas.pydata.org/pandas-docs/stable/user_guide/indexing.html#returning-a-view-versus-a-copy\n",
      "  negatives_df['region'] = \"chr\" + negatives_df['region']\n"
     ]
    }
   ],
   "source": [
    "positives_df['region'] = \"chr\" + positives_df['region']\n",
    "negatives_df['region'] = \"chr\" + negatives_df['region']"
   ]
  },
  {
   "cell_type": "markdown",
   "id": "c0496e67",
   "metadata": {},
   "source": [
    "## Train/test split"
   ]
  },
  {
   "cell_type": "code",
   "execution_count": 13,
   "id": "2f27f8d0",
   "metadata": {},
   "outputs": [
    {
     "data": {
      "text/plain": [
       "((10421, 4), (3474, 4))"
      ]
     },
     "execution_count": 13,
     "metadata": {},
     "output_type": "execute_result"
    }
   ],
   "source": [
    "train_positives, test_positives = train_test_split(positives_df, shuffle=True, random_state=42)\n",
    "train_positives.shape, test_positives.shape"
   ]
  },
  {
   "cell_type": "code",
   "execution_count": 14,
   "id": "9ef9b7a4",
   "metadata": {},
   "outputs": [
    {
     "data": {
      "text/plain": [
       "((10422, 4), (3474, 4))"
      ]
     },
     "execution_count": 14,
     "metadata": {},
     "output_type": "execute_result"
    }
   ],
   "source": [
    "train_negatives, test_negatives = train_test_split(negatives_df, shuffle=True, random_state=42)\n",
    "train_negatives.shape, test_negatives.shape"
   ]
  },
  {
   "cell_type": "markdown",
   "id": "757f1dbc",
   "metadata": {},
   "source": [
    "## YAML file"
   ]
  },
  {
   "cell_type": "code",
   "execution_count": 15,
   "id": "851f592d",
   "metadata": {},
   "outputs": [],
   "source": [
    "BASE_FILE_PATH = Path(\"../../datasets/human_enhancers_cohn/\")\n",
    "\n",
    "# copied from https://stackoverflow.com/a/57892171\n",
    "def rm_tree(pth: Path):\n",
    "    for child in pth.iterdir():\n",
    "        if child.is_file():\n",
    "            child.unlink()\n",
    "        else:\n",
    "            rm_tree(child)\n",
    "    pth.rmdir()\n",
    "\n",
    "if BASE_FILE_PATH.exists():\n",
    "    rm_tree(BASE_FILE_PATH)\n",
    "    \n",
    "BASE_FILE_PATH.mkdir()\n",
    "(BASE_FILE_PATH / 'train').mkdir()\n",
    "(BASE_FILE_PATH / 'test').mkdir()"
   ]
  },
  {
   "cell_type": "code",
   "execution_count": 16,
   "id": "c30679b8",
   "metadata": {},
   "outputs": [
    {
     "data": {
      "text/plain": [
       "{'version': 0,\n",
       " 'classes': {'positive': {'type': 'fa.gz',\n",
       "   'url': 'http://ftp.ensembl.org/pub/release-97/fasta/homo_sapiens/dna/Homo_sapiens.GRCh38.dna.toplevel.fa.gz',\n",
       "   'extra_processing': 'ENSEMBL_HUMAN_GENOME'},\n",
       "  'negative': {'type': 'fa.gz',\n",
       "   'url': 'http://ftp.ensembl.org/pub/release-97/fasta/homo_sapiens/dna/Homo_sapiens.GRCh38.dna.toplevel.fa.gz',\n",
       "   'extra_processing': 'ENSEMBL_HUMAN_GENOME'}}}"
      ]
     },
     "execution_count": 16,
     "metadata": {},
     "output_type": "execute_result"
    }
   ],
   "source": [
    "with open(BASE_FILE_PATH / 'metadata.yaml', 'w') as fw:\n",
    "    desc = {\n",
    "        'version': 0,\n",
    "        'classes': {\n",
    "            'positive': {\n",
    "                'type': 'fa.gz',\n",
    "                'url': 'http://ftp.ensembl.org/pub/release-97/fasta/homo_sapiens/dna/Homo_sapiens.GRCh38.dna.toplevel.fa.gz',\n",
    "                'extra_processing': 'ENSEMBL_HUMAN_GENOME' \n",
    "            },    \n",
    "            'negative': {\n",
    "                'type': 'fa.gz',\n",
    "                'url': 'http://ftp.ensembl.org/pub/release-97/fasta/homo_sapiens/dna/Homo_sapiens.GRCh38.dna.toplevel.fa.gz',\n",
    "                'extra_processing': 'ENSEMBL_HUMAN_GENOME' \n",
    "            }\n",
    "        }\n",
    "    }\n",
    "    \n",
    "    yaml.dump(desc, fw)\n",
    "\n",
    "desc"
   ]
  },
  {
   "cell_type": "markdown",
   "id": "0388ef76",
   "metadata": {},
   "source": [
    "## CSV files"
   ]
  },
  {
   "cell_type": "code",
   "execution_count": 17,
   "id": "daefc3c6",
   "metadata": {},
   "outputs": [],
   "source": [
    "train_positives.to_csv(BASE_FILE_PATH / 'train' / 'positive.csv.gz', index=False, compression='gzip')\n",
    "train_negatives.to_csv(BASE_FILE_PATH / 'train' / 'negative.csv.gz', index=False, compression='gzip')\n",
    "test_positives.to_csv(BASE_FILE_PATH / 'test' / 'positive.csv.gz', index=False, compression='gzip')\n",
    "test_negatives.to_csv(BASE_FILE_PATH / 'test' / 'negative.csv.gz', index=False, compression='gzip')"
   ]
  },
  {
   "cell_type": "code",
   "execution_count": 17,
   "id": "c902c4a5",
   "metadata": {},
   "outputs": [],
   "source": [
    "# hotfix - adding ids\n",
    "\n",
    "BASE_FILE_PATH = Path(\"../../datasets/human_enhancers_cohn/\")\n",
    "\n",
    "def add_ids(df, prefix):\n",
    "    ids = prefix + df.index.map(str)\n",
    "    df.insert(loc=0, column='id', value=ids)\n",
    "\n",
    "train_positives = pd.read_csv(BASE_FILE_PATH / 'train' / 'positive.csv.gz')\n",
    "add_ids(train_positives, \"train_positive_\")\n",
    "train_positives.to_csv(BASE_FILE_PATH / 'train' / 'positive.csv.gz', index=False, compression='gzip')\n",
    "\n",
    "train_negatives = pd.read_csv(BASE_FILE_PATH / 'train' / 'negative.csv.gz')\n",
    "add_ids(train_negatives, \"train_negative_\")\n",
    "train_negatives.to_csv(BASE_FILE_PATH / 'train' / 'negative.csv.gz', index=False, compression='gzip')\n",
    "\n",
    "test_positives = pd.read_csv(BASE_FILE_PATH / 'test' / 'positive.csv.gz')\n",
    "add_ids(test_positives, \"test_positive_\")\n",
    "test_positives.to_csv(BASE_FILE_PATH / 'test' / 'positive.csv.gz', index=False, compression='gzip')\n",
    "\n",
    "test_negatives = pd.read_csv(BASE_FILE_PATH / 'test' / 'negative.csv.gz')\n",
    "add_ids(test_negatives, \"test_negative_\")\n",
    "test_negatives.to_csv(BASE_FILE_PATH / 'test' / 'negative.csv.gz', index=False, compression='gzip')"
   ]
  },
  {
   "cell_type": "markdown",
   "id": "d34f705e",
   "metadata": {},
   "source": [
    "## Cleaning"
   ]
  },
  {
   "cell_type": "code",
   "execution_count": 18,
   "id": "6f4ca24b",
   "metadata": {},
   "outputs": [],
   "source": [
    "!rm all_together.fa Enhancers_vs_negative.tgz\n",
    "!rm -rf Human"
   ]
  },
  {
   "cell_type": "markdown",
   "id": "9dbeb2b2",
   "metadata": {},
   "source": [
    "## Testing"
   ]
  },
  {
   "cell_type": "code",
   "execution_count": 18,
   "id": "6d01606c",
   "metadata": {},
   "outputs": [
    {
     "name": "stdout",
     "output_type": "stream",
     "text": [
      "Reference /home/petr/.genomic_benchmarks/fasta/Homo_sapiens.GRCh38.dna.toplevel.fa.gz already exists. Skipping.\n"
     ]
    },
    {
     "name": "stderr",
     "output_type": "stream",
     "text": [
      "/home/petr/projects/genomic_benchmarks/src/genomic_benchmarks/loc2seq/with_biopython.py:87: UserWarning: No version specified. Using version 0.\n",
      "  warnings.warn(f\"No version specified. Using version {metadata['version']}.\")\n"
     ]
    },
    {
     "data": {
      "application/vnd.jupyter.widget-view+json": {
       "model_id": "5e0a88ad6e604101b14c50ffa6352e17",
       "version_major": 2,
       "version_minor": 0
      },
      "text/plain": [
       "  0%|          | 0/24 [00:00<?, ?it/s]"
      ]
     },
     "metadata": {},
     "output_type": "display_data"
    },
    {
     "data": {
      "text/plain": [
       "PosixPath('/home/petr/.genomic_benchmarks/human_enhancers_cohn')"
      ]
     },
     "execution_count": 18,
     "metadata": {},
     "output_type": "execute_result"
    }
   ],
   "source": [
    "from genomic_benchmarks.loc2seq import download_dataset\n",
    "\n",
    "download_dataset(\"human_enhancers_cohn\")"
   ]
  },
  {
   "cell_type": "code",
   "execution_count": 19,
   "id": "fc7ee32b",
   "metadata": {},
   "outputs": [
    {
     "name": "stdout",
     "output_type": "stream",
     "text": [
      "Dataset `human_enhancers_cohn` has 2 classes: negative, positive.\n",
      "\n",
      "All lenghts of genomic intervals equals 500.\n",
      "\n",
      "Totally 27791 sequences have been found, 20843 for training and 6948 for testing.\n"
     ]
    },
    {
     "data": {
      "text/html": [
       "<div>\n",
       "<style scoped>\n",
       "    .dataframe tbody tr th:only-of-type {\n",
       "        vertical-align: middle;\n",
       "    }\n",
       "\n",
       "    .dataframe tbody tr th {\n",
       "        vertical-align: top;\n",
       "    }\n",
       "\n",
       "    .dataframe thead th {\n",
       "        text-align: right;\n",
       "    }\n",
       "</style>\n",
       "<table border=\"1\" class=\"dataframe\">\n",
       "  <thead>\n",
       "    <tr style=\"text-align: right;\">\n",
       "      <th></th>\n",
       "      <th>train</th>\n",
       "      <th>test</th>\n",
       "    </tr>\n",
       "  </thead>\n",
       "  <tbody>\n",
       "    <tr>\n",
       "      <th>negative</th>\n",
       "      <td>10422</td>\n",
       "      <td>3474</td>\n",
       "    </tr>\n",
       "    <tr>\n",
       "      <th>positive</th>\n",
       "      <td>10421</td>\n",
       "      <td>3474</td>\n",
       "    </tr>\n",
       "  </tbody>\n",
       "</table>\n",
       "</div>"
      ],
      "text/plain": [
       "          train  test\n",
       "negative  10422  3474\n",
       "positive  10421  3474"
      ]
     },
     "execution_count": 19,
     "metadata": {},
     "output_type": "execute_result"
    }
   ],
   "source": [
    "from genomic_benchmarks.data_check import info\n",
    "\n",
    "info(\"human_enhancers_cohn\", 0)"
   ]
  },
  {
   "cell_type": "code",
   "execution_count": null,
   "id": "ce37dd80",
   "metadata": {},
   "outputs": [],
   "source": []
  }
 ],
 "metadata": {
  "kernelspec": {
   "display_name": "Python 3 (ipykernel)",
   "language": "python",
   "name": "python3"
  },
  "language_info": {
   "codemirror_mode": {
    "name": "ipython",
    "version": 3
   },
   "file_extension": ".py",
   "mimetype": "text/x-python",
   "name": "python",
   "nbconvert_exporter": "python",
   "pygments_lexer": "ipython3",
   "version": "3.8.9"
  }
 },
 "nbformat": 4,
 "nbformat_minor": 5
}
