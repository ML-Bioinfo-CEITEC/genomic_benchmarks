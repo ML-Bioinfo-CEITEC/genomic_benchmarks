{
 "cells": [
  {
   "cell_type": "code",
   "execution_count": 1,
   "source": [
    "# conda list --export > requirements_conda.txt"
   ],
   "outputs": [],
   "metadata": {}
  },
  {
   "cell_type": "code",
   "execution_count": 1,
   "source": [
    "from tools.dset_getters import cvsi_dset, me_dset\n",
    "#TODO uninstall torchtext after check\n",
    "# train_iter = AG_NEWS(split='test')\n",
    "# train_iter = AmazonReviewFull(split='test')\n",
    "# train_iter = SogouNews(split='test')\n",
    "# dset = to_map_style_dataset(train_iter)\n",
    "\n",
    "# print(dset)\n",
    "# print(type(dset))\n",
    "# print(dset.__getitem__(0))\n",
    "\n",
    "#TODO withbiopython - dont create dsets from scratch always??\n",
    "# dset = cvsi_dset('train', force_download=False)\n",
    "dset = me_dset('train', force_download=False)\n",
    "\n",
    "\n",
    "\n",
    " \n",
    "print(dset)\n",
    "print(type(dset))\n",
    "\n",
    "print(dset.__getitem__(100))\n"
   ],
   "outputs": [
    {
     "output_type": "stream",
     "name": "stdout",
     "text": [
      "Downloading ftp://ftp.ensembl.org/pub/release-100/fasta/mus_musculus/dna/Mus_musculus.GRCm38.dna_rm.toplevel.fa.gz\n"
     ]
    },
    {
     "output_type": "stream",
     "name": "stderr",
     "text": [
      "/home/martinekvlastimil95/repos/genomic_benchmarks/tools/loc2seq/with_biopython.py:77: UserWarning: No version specified. Using version 0.\n",
      "  warnings.warn(f\"No version specified. Using version {metadata['version']}.\")\n"
     ]
    },
    {
     "output_type": "display_data",
     "data": {
      "application/vnd.jupyter.widget-view+json": {
       "version_major": 2,
       "version_minor": 0,
       "model_id": "0f497c1bf02945eba74c8ee004f72540"
      },
      "text/plain": [
       "fasta_cache/Mus_musculus.GRCm38.dna_rm.toplevel.fa.gz: 0.00B [00:00, ?B/s]"
      ]
     },
     "metadata": {}
    },
    {
     "output_type": "display_data",
     "data": {
      "application/vnd.jupyter.widget-view+json": {
       "version_major": 2,
       "version_minor": 0,
       "model_id": "e95c510940294ae0934370676f99b7e2"
      },
      "text/plain": [
       "  0%|          | 0/21 [00:00<?, ?it/s]"
      ]
     },
     "metadata": {}
    },
    {
     "output_type": "stream",
     "name": "stdout",
     "text": [
      "<tools.dset_getters.me_dset object at 0x7f62f5cdadf0>\n",
      "<class 'tools.dset_getters.me_dset'>\n",
      "('AGGGGTCGGGTCAGTTTCTGGAAAGTGACCTCCTCTGTAGTGGAGTGGGCATGGTTCCGTGTAGGCAAGGAATAGTAGACCTCACTCAACTCCAGGTGCAGCGAGGACTGAATGCGAGGTGGAGTGAGCGCGGGCCGAAGTGTAGATGCAGGATAGTGAGTGATCTGGAAGGCAGGCGGGCGGGTGGATGGTTGGAGGGAGCATCCCTCGTGGGAGGGGGCAACTCTAAAAAGGCTCCGATGCTGGAAAGGCTCTGGCTCTGCTCCTGCCCGGGGTCCCTTCTCATTGGAGGCTGGAAATCGCTGCATTTTAATCCCTCCAACTGAGGCCTGGGTGGTTCTTTGTTCAGTGGAGGCTGCCTTCCTGCGCTCNNNNNNNNNNNNNNNNNNNNNNNNNNNNNNNNNNNNNNNNNNNNNNNNNNNNNNNNNNNNNNNNNNNNNNNNNNNNNNNNNNNNNNNNNNNNNNNNNNCACGGCCTTGATGCTTAATAAAAAGTACAAGTTGTCGGGAATTAGATTTTCCTAGGTCGCCAGCAGTGCACAGATACCAACTTAATGAGAAAAACATCTAGTGAGTTTGGGATGTGTTTCACATTTCNNNNNNNNGGCATCAAAACGGTAATCATGGTGTGTGTCCA', 0)\n"
     ]
    }
   ],
   "metadata": {}
  },
  {
   "cell_type": "code",
   "execution_count": 2,
   "source": [
    "from pathlib import Path\n",
    "import tarfile\n",
    "import os.path\n",
    "from tools.data_utils import untar_file, download_tarfile\n",
    "\n",
    "def make_tarfile(output_filename, source_dir):\n",
    "    print('making')\n",
    "    with tarfile.open(output_filename, \"w:gz\") as tar:\n",
    "        tar.add(source_dir, arcname=os.path.basename(source_dir))\n",
    "\n",
    "# path = Path('./datasets')\n",
    "# for sub in list(path.iterdir())[1:]:\n",
    "    # print(sub)\n",
    "    # make_tarfile(sub.stem+'.tar.gz', sub)\n",
    "\n",
    "\n",
    "file_name = './datasets/D_demo_coding_vs_intergenomic_seqs.tar.gz'\n",
    "\n",
    "url = 'https://github.com/ML-Bioinfo-CEITEC/genomic_benchmarks/blob/main/datasets/demo_coding_vs_intergenomic_seqs.tar.gz'\n",
    "download_tarfile(url, file_name)\n",
    "untar_file(file_name, './datasets')\n",
    "\n"
   ],
   "outputs": [
    {
     "output_type": "stream",
     "name": "stdout",
     "text": [
      "extracting\n"
     ]
    }
   ],
   "metadata": {}
  }
 ],
 "metadata": {
  "orig_nbformat": 4,
  "language_info": {
   "name": "python",
   "version": "3.8.10",
   "mimetype": "text/x-python",
   "codemirror_mode": {
    "name": "ipython",
    "version": 3
   },
   "pygments_lexer": "ipython3",
   "nbconvert_exporter": "python",
   "file_extension": ".py"
  },
  "kernelspec": {
   "name": "python3",
   "display_name": "Python 3.8.10 64-bit ('bench_env': conda)"
  },
  "interpreter": {
   "hash": "9828b828580f1cac1b571b33de6cff8bacecc8916095e1bcbc967952ca7105b7"
  }
 },
 "nbformat": 4,
 "nbformat_minor": 2
}