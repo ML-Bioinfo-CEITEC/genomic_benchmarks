{
 "cells": [
  {
   "cell_type": "code",
   "execution_count": 1,
   "metadata": {},
   "outputs": [],
   "source": [
    "# conda list --export > requirements_conda.txt"
   ]
  },
  {
   "cell_type": "code",
   "execution_count": 21,
   "metadata": {},
   "outputs": [
    {
     "name": "stdout",
     "output_type": "stream",
     "text": [
      "Reference fasta_cache/Mus_musculus.GRCm38.dna_rm.toplevel.fa.gz already exists. Skipping.\n"
     ]
    },
    {
     "name": "stderr",
     "output_type": "stream",
     "text": [
      "/home/martinekvlastimil95/repos/genomic_benchmarks/tools/loc2seq/with_biopython.py:77: UserWarning: No version specified. Using version 0.\n",
      "  warnings.warn(f\"No version specified. Using version {metadata['version']}.\")\n"
     ]
    },
    {
     "data": {
      "application/vnd.jupyter.widget-view+json": {
       "model_id": "bb3e07b5160f44bbae6a9c327230aa51",
       "version_major": 2,
       "version_minor": 0
      },
      "text/plain": [
       "  0%|          | 0/21 [00:00<?, ?it/s]"
      ]
     },
     "metadata": {},
     "output_type": "display_data"
    },
    {
     "name": "stdout",
     "output_type": "stream",
     "text": [
      "<tools.dset_getters.me_dset object at 0x7f61863824f0>\n",
      "<class 'tools.dset_getters.me_dset'>\n",
      "('AGGGGTCGGGTCAGTTTCTGGAAAGTGACCTCCTCTGTAGTGGAGTGGGCATGGTTCCGTGTAGGCAAGGAATAGTAGACCTCACTCAACTCCAGGTGCAGCGAGGACTGAATGCGAGGTGGAGTGAGCGCGGGCCGAAGTGTAGATGCAGGATAGTGAGTGATCTGGAAGGCAGGCGGGCGGGTGGATGGTTGGAGGGAGCATCCCTCGTGGGAGGGGGCAACTCTAAAAAGGCTCCGATGCTGGAAAGGCTCTGGCTCTGCTCCTGCCCGGGGTCCCTTCTCATTGGAGGCTGGAAATCGCTGCATTTTAATCCCTCCAACTGAGGCCTGGGTGGTTCTTTGTTCAGTGGAGGCTGCCTTCCTGCGCTCNNNNNNNNNNNNNNNNNNNNNNNNNNNNNNNNNNNNNNNNNNNNNNNNNNNNNNNNNNNNNNNNNNNNNNNNNNNNNNNNNNNNNNNNNNNNNNNNNNCACGGCCTTGATGCTTAATAAAAAGTACAAGTTGTCGGGAATTAGATTTTCCTAGGTCGCCAGCAGTGCACAGATACCAACTTAATGAGAAAAACATCTAGTGAGTTTGGGATGTGTTTCACATTTCNNNNNNNNGGCATCAAAACGGTAATCATGGTGTGTGTCCA', 0)\n"
     ]
    }
   ],
   "source": [
    "from tools.dset_getters import cvsi_dset, me_dset\n",
    "#TODO uninstall torchtext after check\n",
    "# train_iter = AG_NEWS(split='test')\n",
    "# train_iter = AmazonReviewFull(split='test')\n",
    "# train_iter = SogouNews(split='test')\n",
    "# dset = to_map_style_dataset(train_iter)\n",
    "\n",
    "# print(dset)\n",
    "# print(type(dset))\n",
    "# print(dset.__getitem__(0))\n",
    "\n",
    "#TODO withbiopython - dont create dsets from scratch always??\n",
    "# dset = cvsi_dset('train', force_download=False)\n",
    "\n",
    "\n",
    "dset = me_dset('train', force_download=False)\n",
    " \n",
    "print(dset)\n",
    "print(type(dset))\n",
    "\n",
    "print(dset.__getitem__(100))\n"
   ]
  },
  {
   "cell_type": "code",
   "execution_count": 26,
   "metadata": {},
   "outputs": [
    {
     "data": {
      "image/png": "[encoded data removed]",
      "text/plain": [
       "<Figure size 432x288 with 1 Axes>"
      ]
     },
     "metadata": {
      "needs_background": "light"
     },
     "output_type": "display_data"
    },
    {
     "data": {
      "image/png": "[encoded data removed]",
      "text/plain": [
       "<Figure size 432x288 with 1 Axes>"
      ]
     },
     "metadata": {
      "needs_background": "light"
     },
     "output_type": "display_data"
    }
   ],
   "source": [
    "from matplotlib import pyplot as plt\n",
    "\n",
    "label_counts = {}\n",
    "lengths = []\n",
    "for i in range(dset.__len__()):\n",
    "    x,y = dset.__getitem__(i)\n",
    "    if(y not in label_counts.keys()):\n",
    "        label_counts[y] = 1\n",
    "    else:\n",
    "        label_counts[y]+=1\n",
    "    lengths.append(len(x))\n",
    "\n",
    "plt.figure()\n",
    "plt.bar(label_counts.keys(), label_counts.values())\n",
    "plt.title('Label distribution')\n",
    "plt.figure()\n",
    "plt.hist(lengths, bins=30)\n",
    "plt.title('Sequence length distribution')\n",
    "\n",
    "pass\n"
   ]
  },
  {
   "cell_type": "code",
   "execution_count": 2,
   "metadata": {},
   "outputs": [
    {
     "name": "stdout",
     "output_type": "stream",
     "text": [
      "extracting\n"
     ]
    }
   ],
   "source": [
    "from pathlib import Path\n",
    "import tarfile\n",
    "import os.path\n",
    "from tools.data_utils import untar_file, download_tarfile\n",
    "\n",
    "def make_tarfile(output_filename, source_dir):\n",
    "    print('making')\n",
    "    with tarfile.open(output_filename, \"w:gz\") as tar:\n",
    "        tar.add(source_dir, arcname=os.path.basename(source_dir))\n",
    "\n",
    "# path = Path('./datasets')\n",
    "# for sub in list(path.iterdir())[1:]:\n",
    "    # print(sub)\n",
    "    # make_tarfile(sub.stem+'.tar.gz', sub)\n",
    "\n",
    "\n",
    "file_name = './datasets/D_demo_coding_vs_intergenomic_seqs.tar.gz'\n",
    "\n",
    "url = 'https://github.com/ML-Bioinfo-CEITEC/genomic_benchmarks/blob/main/datasets/demo_coding_vs_intergenomic_seqs.tar.gz'\n",
    "download_tarfile(url, file_name)\n",
    "untar_file(file_name, './datasets')\n",
    "\n"
   ]
  },
  {
   "cell_type": "code",
   "execution_count": 1,
   "metadata": {},
   "outputs": [
    {
     "name": "stdout",
     "output_type": "stream",
     "text": [
      "Reference datasets/fasta/Homo_sapiens.GRCh38.dna.toplevel.fa.gz already exists. Skipping.\n",
      "Reference datasets/fasta/Homo_sapiens.GRCh38.cdna.all.fa.gz already exists. Skipping.\n"
     ]
    },
    {
     "name": "stderr",
     "output_type": "stream",
     "text": [
      "/home/martinekvlastimil95/repos/genomic_benchmarks/tools/loc2seq/with_biopython.py:77: UserWarning: No version specified. Using version 0.\n",
      "  warnings.warn(f\"No version specified. Using version {metadata['version']}.\")\n"
     ]
    },
    {
     "data": {
      "application/vnd.jupyter.widget-view+json": {
       "model_id": "8b92b40114b3408082712556c08c8407",
       "version_major": 2,
       "version_minor": 0
      },
      "text/plain": [
       "  0%|          | 0/24 [00:00<?, ?it/s]"
      ]
     },
     "metadata": {},
     "output_type": "display_data"
    },
    {
     "data": {
      "application/vnd.jupyter.widget-view+json": {
       "model_id": "fdb96462ee134a59b45cc80e185d0e4a",
       "version_major": 2,
       "version_minor": 0
      },
      "text/plain": [
       "  0%|          | 0/190000 [00:00<?, ?it/s]"
      ]
     },
     "metadata": {},
     "output_type": "display_data"
    },
    {
     "name": "stdout",
     "output_type": "stream",
     "text": [
      "<tools.dset_getters.cvsi_dset object at 0x7f82c827f4c0>\n",
      "<class 'tools.dset_getters.cvsi_dset'>\n",
      "('CTGCTAGTCATCAAGGTAGAACAGACTCTCCGGGAGCCCATGTTCTACTTCCTGGCCATTCTTTCCACTATTGATTTGGCCCTTTCTACAACCTCTGTGCCTCGCATGCTGGGTATCTTCTGGTTTGATGCTCACGAGATTAACTATGGAGCTTGTGTGGCCCAGATGTTTCTGATCCATGCCTTCACTGGCATGGAGGC', 0)\n"
     ]
    }
   ],
   "source": [
    "from tools.dset_getters import cvsi_dset\n",
    "from pathlib import Path\n",
    "import tarfile\n",
    "import os.path\n",
    "from tools.data_utils import untar_file, download_tarfile\n",
    "\n",
    "# file_name = './datasets/demo_coding_vs_intergenomic_seqs.tar.gz'\n",
    "# url = 'https://github.com/ML-Bioinfo-CEITEC/genomic_benchmarks/raw/main/datasets/demo_coding_vs_intergenomic_seqs.tar.gz'\n",
    "# download_tarfile(url, file_name)\n",
    "# untar_file(file_name, './datasets')\n",
    "\n",
    "\n",
    "dset = cvsi_dset('train', force_download=False)\n",
    "\n",
    "print(dset)\n",
    "print(type(dset))\n",
    "\n",
    "print(dset.__getitem__(100))"
   ]
  }
 ],
 "metadata": {
  "interpreter": {
   "hash": "9828b828580f1cac1b571b33de6cff8bacecc8916095e1bcbc967952ca7105b7"
  },
  "kernelspec": {
   "display_name": "Python 3.8.10 64-bit ('bench_env': conda)",
   "name": "python3"
  },
  "language_info": {
   "codemirror_mode": {
    "name": "ipython",
    "version": 3
   },
   "file_extension": ".py",
   "mimetype": "text/x-python",
   "name": "python",
   "nbconvert_exporter": "python",
   "pygments_lexer": "ipython3",
   "version": "3.8.10"
  },
  "orig_nbformat": 4
 },
 "nbformat": 4,
 "nbformat_minor": 2
}
