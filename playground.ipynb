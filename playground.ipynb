{
 "cells": [
  {
   "cell_type": "code",
   "execution_count": 1,
   "source": [
    "# conda list --export > requirements_conda.txt"
   ],
   "outputs": [],
   "metadata": {}
  },
  {
   "cell_type": "code",
   "execution_count": 1,
   "source": [
    "from tools.dset_getters import dummy_dset, cvsi_dset\n",
    "\n",
    "dset = dummy_dset()\n",
    "dset.__getitem__(0)"
   ],
   "outputs": [
    {
     "output_type": "execute_result",
     "data": {
      "text/plain": [
       "(tensor([6, 9, 1, 4, 8, 7, 4, 7, 6, 6, 6, 0, 6, 4, 9, 6, 3, 7, 3, 2, 3, 4, 4, 1,\n",
       "         9, 1, 2, 4, 3, 4, 3, 1, 5, 8, 1, 1, 7, 9, 1, 3, 8, 3, 4, 5, 8, 0, 9, 2,\n",
       "         6, 5, 6, 5, 3, 7, 5, 9, 7, 9, 7, 7, 6, 0, 2, 9, 8, 0, 7, 2, 6, 1, 7, 9,\n",
       "         5, 1, 2, 1, 6, 9, 1, 8, 6, 1, 2, 3, 1, 0, 5, 9, 9, 0, 7, 8, 8, 5, 7, 2,\n",
       "         3, 5, 0, 2], device='cuda:0'),\n",
       " tensor(0., device='cuda:0', dtype=torch.float64))"
      ]
     },
     "metadata": {},
     "execution_count": 1
    }
   ],
   "metadata": {}
  },
  {
   "cell_type": "code",
   "execution_count": 1,
   "source": [
    "from tools.dset_getters import dummy_dset, cvsi_dset\n",
    "\n",
    "dset = cvsi_dset(None)\n",
    "dset.__getitem__(0)\n"
   ],
   "outputs": [
    {
     "output_type": "execute_result",
     "data": {
      "text/plain": [
       "(tensor([3, 3, 1, 0, 0, 2, 0, 3, 3, 3, 2, 2, 0, 0, 2, 0, 0, 0, 1, 0, 0, 1, 2, 1,\n",
       "         2, 2, 0, 0, 1, 0, 1, 3, 0, 1, 1, 3, 1, 2, 1, 1, 3, 2, 3, 2, 1, 2, 2, 3,\n",
       "         3, 0, 0, 0, 3, 3, 1, 1, 2, 0, 3, 1, 3, 1, 0, 2, 1, 2, 1, 2, 3, 0, 1, 0,\n",
       "         3, 1, 0, 2, 1, 0, 0, 3, 3, 0, 0, 1, 2, 2, 2, 0, 3, 2, 0, 3, 1, 2, 1, 1,\n",
       "         1, 0, 2, 0], device='cuda:0'),\n",
       " tensor(0, device='cuda:0'))"
      ]
     },
     "metadata": {},
     "execution_count": 1
    }
   ],
   "metadata": {}
  },
  {
   "cell_type": "code",
   "execution_count": 1,
   "source": [
    "from torchtext.datasets import AG_NEWS, AmazonReviewFull, SogouNews\n",
    "from torchtext.data.functional import to_map_style_dataset\n",
    "from tools.dset_getters import cvsi_dset\n",
    "\n",
    "#TODO uninstall torchtext after check\n",
    "\n",
    "# train_iter = AG_NEWS(split='test')\n",
    "# train_iter = AmazonReviewFull(split='test')\n",
    "train_iter = SogouNews(split='test')\n",
    "\n",
    "dset = to_map_style_dataset(train_iter)\n",
    "\n",
    "\n",
    "print(dset)\n",
    "print(type(dset))\n",
    "\n",
    "print(dset.__getitem__(0))\n",
    "\n",
    "dset = cvsi_dset('train')\n",
    "\n",
    "\n",
    "print(dset)\n",
    "print(type(dset))\n",
    "\n",
    "print(dset.__getitem__(0))\n"
   ],
   "outputs": [
    {
     "output_type": "stream",
     "name": "stdout",
     "text": [
      "<torchtext.data.functional.to_map_style_dataset.<locals>._MapStyleDataset object at 0x7f83002a3ac0>\n",
      "<class 'torchtext.data.functional.to_map_style_dataset.<locals>._MapStyleDataset'>\n",
      "(1, ' ti3 ca1o shi4 jie4 be1i : che2ng fe1i na2 pi2ng he2ng mu4 zi4 yo2u ca1o ji1n pa2i  su4 du4 : ( shuo1 mi2ng : dia3n ji1 zi4 do4ng bo1 fa4ng )\\\\n  shuo1 mi2ng : dia3n ji1 ga1i a4n niu3 , xua3n ze2 yi1 lu4n ta2n ji2 ke3 ')\n",
      "<tools.dset_getters.cvsi_dset object at 0x7f819f431eb0>\n",
      "<class 'tools.dset_getters.cvsi_dset'>\n",
      "('TTCCCCAAGGGAATTACCCCAGGTTGTGTGTTGACCTACGGGGAGACGTAGTGAGTCACGTGAGTCAGTGATGACCAATACTGGACCACCCGCAAGGACCGAGGTGAGACACTCAGTTTCTCGAAACCACATACAAGGATACGACCCATTTTATAGAGTGCGACTTGTATGATAGCTTTGCCAACTTAGGTTTTGGTCAA', 0)\n"
     ]
    }
   ],
   "metadata": {}
  },
  {
   "cell_type": "code",
   "execution_count": 3,
   "source": [
    "from tools.basic_model import NeuralNetwork\n",
    "from tools.dset_getters import dummy_dset, cvsi_dset\n",
    "from torch.utils.data import DataLoader\n",
    "import torch \n",
    "import numpy as np\n",
    "\n",
    "# dset = cvsi_dset('train')\n",
    "dset = cvsi_dset('test')\n",
    "\n",
    "\n",
    "\n",
    "dummy = NeuralNetwork(4).cuda()\n",
    "\n",
    "def coll(batch):\n",
    "    #TODO ohe\n",
    "    mapper = {\n",
    "        'A':0,\n",
    "        'C':1,\n",
    "        'T':2,\n",
    "        'G':3,\n",
    "    }\n",
    "    xs, ys = [],[]\n",
    "    for text,label in batch:\n",
    "        ys.append(torch.tensor(label, dtype=torch.int64))\n",
    "        # xs.append(torch.tensor([mapper[ch] for ch in text]).to('cuda'))\n",
    "        xs.append(torch.tensor([mapper[ch] for ch in text], dtype=torch.float32)) #TODO int doesnt work, why?\n",
    "    \n",
    "    #Padding, numericalization, tokenization here\n",
    "\n",
    "    xs = torch.stack(xs)\n",
    "    ys = torch.stack(ys)\n",
    "    return xs.to('cuda'),ys.to('cuda')\n",
    "    \n",
    "\n",
    "loader = DataLoader(dset, batch_size=4, shuffle=False, collate_fn=coll)\n",
    "\n",
    "for el in loader:\n",
    "    # print('loader element')\n",
    "    # print(el)\n",
    "    x,y = el\n",
    "    # print(x)\n",
    "    # print(y)\n",
    "    # print(x.shape)\n",
    "    print(dummy(x))\n",
    "    break"
   ],
   "outputs": [
    {
     "output_type": "stream",
     "name": "stdout",
     "text": [
      "tensor([[0.1960, 0.2673, 0.2483, 0.2590],\n",
      "        [0.2705, 0.3102, 0.2069, 0.2036],\n",
      "        [0.1963, 0.1542, 0.2145, 0.2468],\n",
      "        [0.3372, 0.2683, 0.3303, 0.2905]], device='cuda:0',\n",
      "       grad_fn=<SoftmaxBackward>)\n"
     ]
    }
   ],
   "metadata": {}
  },
  {
   "cell_type": "code",
   "execution_count": 2,
   "source": [
    "from tools.loc2seq.with_biopython import create_seq_genomic_dataset\n",
    "from pathlib import Path\n",
    "dset_path = Path('./datasets/demo_coding_vs_intergenomic_seqs')\n",
    "# destination_path = Path('./datasets/translated_demo_coding_vs_intergenomic_seqs')\n",
    "\n",
    "create_seq_genomic_dataset(dset_path, force_download=True)\n",
    "\n",
    "# TODO add to conda reqs\n",
    "# !pip install pyyaml\n",
    "# !pip install biopython\n",
    "# !pip install ipywidgets"
   ],
   "outputs": [
    {
     "output_type": "stream",
     "name": "stderr",
     "text": [
      "/home/martinekvlastimil95/repos/genomic_benchmarks/tools/loc2seq/with_biopython.py:76: UserWarning: No version specified. Using version 0.\n",
      "  warnings.warn(f\"No version specified. Using version {metadata['version']}.\")\n"
     ]
    },
    {
     "output_type": "stream",
     "name": "stdout",
     "text": [
      "Downloading http://ftp.ensembl.org/pub/release-97/fasta/homo_sapiens/dna/Homo_sapiens.GRCh38.dna.toplevel.fa.gz\n"
     ]
    },
    {
     "output_type": "display_data",
     "data": {
      "application/vnd.jupyter.widget-view+json": {
       "version_major": 2,
       "version_minor": 0,
       "model_id": "915786c29af34f8691076ce54ef873a5"
      },
      "text/plain": [
       "/home/martinekvlastimil95/.genomic_benchmarks/fasta/Homo_sapiens.GRCh38.dna.toplevel.fa.gz: 0.00B [00:00, ?B/s…"
      ]
     },
     "metadata": {}
    },
    {
     "output_type": "stream",
     "name": "stdout",
     "text": [
      "Downloading http://ftp.ensembl.org/pub/release-97/fasta/homo_sapiens/cdna/Homo_sapiens.GRCh38.cdna.all.fa.gz\n"
     ]
    },
    {
     "output_type": "display_data",
     "data": {
      "application/vnd.jupyter.widget-view+json": {
       "version_major": 2,
       "version_minor": 0,
       "model_id": "a0382527b8f94b469b5e5951ba40d482"
      },
      "text/plain": [
       "/home/martinekvlastimil95/.genomic_benchmarks/fasta/Homo_sapiens.GRCh38.cdna.all.fa.gz: 0.00B [00:00, ?B/s]"
      ]
     },
     "metadata": {}
    },
    {
     "output_type": "display_data",
     "data": {
      "application/vnd.jupyter.widget-view+json": {
       "version_major": 2,
       "version_minor": 0,
       "model_id": "5553238d563e44ee823a5b9169405a70"
      },
      "text/plain": [
       "  0%|          | 0/24 [00:00<?, ?it/s]"
      ]
     },
     "metadata": {}
    },
    {
     "output_type": "display_data",
     "data": {
      "application/vnd.jupyter.widget-view+json": {
       "version_major": 2,
       "version_minor": 0,
       "model_id": "8c3644c7cf264160a35f6d0f5745f2b2"
      },
      "text/plain": [
       "  0%|          | 0/190000 [00:00<?, ?it/s]"
      ]
     },
     "metadata": {}
    },
    {
     "output_type": "execute_result",
     "data": {
      "text/plain": [
       "PosixPath('/home/martinekvlastimil95/.genomic_benchmarks/demo_coding_vs_intergenomic_seqs')"
      ]
     },
     "metadata": {},
     "execution_count": 2
    }
   ],
   "metadata": {}
  },
  {
   "cell_type": "code",
   "execution_count": 4,
   "source": [],
   "outputs": [
    {
     "output_type": "execute_result",
     "data": {
      "text/plain": [
       "[<matplotlib.lines.Line2D at 0x7f5157ce2a60>]"
      ]
     },
     "metadata": {},
     "execution_count": 4
    },
    {
     "output_type": "display_data",
     "data": {
      "image/png": "[encoded data removed]",
      "text/plain": [
       "<Figure size 432x288 with 1 Axes>"
      ]
     },
     "metadata": {
      "needs_background": "light"
     }
    }
   ],
   "metadata": {}
  },
  {
   "cell_type": "code",
   "execution_count": 1,
   "source": [
    "from tools.basic_model import NeuralNetwork\n",
    "from tools.dset_getters import cvsi_dset_translated\n",
    "from torch.utils.data import DataLoader\n",
    "from tools.utils import coll\n",
    "\n",
    "train_dset = cvsi_dset_translated('train')\n",
    "train_loader = DataLoader(train_dset, batch_size=32, shuffle=True, collate_fn=coll)\n",
    "\n",
    "model = NeuralNetwork(number_of_classes=1).cuda()\n",
    "model.train(train_loader, epochs=5)\n",
    "\n",
    "test_dset = cvsi_dset_translated('test')\n",
    "test_loader = DataLoader(test_dset, batch_size=32, shuffle=True, collate_fn=coll)\n",
    "model.test(test_loader)\n",
    "\n",
    "\n",
    "\n",
    "\n",
    "\n"
   ],
   "outputs": [
    {
     "output_type": "stream",
     "name": "stdout",
     "text": [
      "Epoch 0\n",
      "Epoch 1\n",
      "Epoch 2\n",
      "Epoch 3\n",
      "Epoch 4\n",
      "Test Error: \n",
      " Accuracy: 50.0%, Avg loss:0.692366 \n",
      "\n"
     ]
    }
   ],
   "metadata": {}
  }
 ],
 "metadata": {
  "orig_nbformat": 4,
  "language_info": {
   "name": "python",
   "version": "3.8.10",
   "mimetype": "text/x-python",
   "codemirror_mode": {
    "name": "ipython",
    "version": 3
   },
   "pygments_lexer": "ipython3",
   "nbconvert_exporter": "python",
   "file_extension": ".py"
  },
  "kernelspec": {
   "name": "python3",
   "display_name": "Python 3.8.10 64-bit ('bench_env': conda)"
  },
  "interpreter": {
   "hash": "9828b828580f1cac1b571b33de6cff8bacecc8916095e1bcbc967952ca7105b7"
  }
 },
 "nbformat": 4,
 "nbformat_minor": 2
}