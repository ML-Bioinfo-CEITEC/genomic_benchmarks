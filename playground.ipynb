{
 "cells": [
  {
   "cell_type": "code",
   "execution_count": 1,
   "source": [
    "# conda list --export > requirements_conda.txt"
   ],
   "outputs": [],
   "metadata": {}
  },
  {
   "cell_type": "code",
   "execution_count": 1,
   "source": [
    "from tools.dset_getters import dummy_dset, cvsi_dset\n",
    "\n",
    "dset = dummy_dset()\n",
    "dset.__getitem__(0)"
   ],
   "outputs": [
    {
     "output_type": "execute_result",
     "data": {
      "text/plain": [
       "(tensor([6, 9, 1, 4, 8, 7, 4, 7, 6, 6, 6, 0, 6, 4, 9, 6, 3, 7, 3, 2, 3, 4, 4, 1,\n",
       "         9, 1, 2, 4, 3, 4, 3, 1, 5, 8, 1, 1, 7, 9, 1, 3, 8, 3, 4, 5, 8, 0, 9, 2,\n",
       "         6, 5, 6, 5, 3, 7, 5, 9, 7, 9, 7, 7, 6, 0, 2, 9, 8, 0, 7, 2, 6, 1, 7, 9,\n",
       "         5, 1, 2, 1, 6, 9, 1, 8, 6, 1, 2, 3, 1, 0, 5, 9, 9, 0, 7, 8, 8, 5, 7, 2,\n",
       "         3, 5, 0, 2], device='cuda:0'),\n",
       " tensor(0., device='cuda:0', dtype=torch.float64))"
      ]
     },
     "metadata": {},
     "execution_count": 1
    }
   ],
   "metadata": {}
  },
  {
   "cell_type": "code",
   "execution_count": 1,
   "source": [
    "from tools.dset_getters import dummy_dset, cvsi_dset\n",
    "\n",
    "dset = cvsi_dset(None)\n",
    "dset.__getitem__(0)\n"
   ],
   "outputs": [
    {
     "output_type": "execute_result",
     "data": {
      "text/plain": [
       "(tensor([3, 3, 1, 0, 0, 2, 0, 3, 3, 3, 2, 2, 0, 0, 2, 0, 0, 0, 1, 0, 0, 1, 2, 1,\n",
       "         2, 2, 0, 0, 1, 0, 1, 3, 0, 1, 1, 3, 1, 2, 1, 1, 3, 2, 3, 2, 1, 2, 2, 3,\n",
       "         3, 0, 0, 0, 3, 3, 1, 1, 2, 0, 3, 1, 3, 1, 0, 2, 1, 2, 1, 2, 3, 0, 1, 0,\n",
       "         3, 1, 0, 2, 1, 0, 0, 3, 3, 0, 0, 1, 2, 2, 2, 0, 3, 2, 0, 3, 1, 2, 1, 1,\n",
       "         1, 0, 2, 0], device='cuda:0'),\n",
       " tensor(0, device='cuda:0'))"
      ]
     },
     "metadata": {},
     "execution_count": 1
    }
   ],
   "metadata": {}
  },
  {
   "cell_type": "code",
   "execution_count": 6,
   "source": [
    "from torchtext.datasets import IMDB\n",
    "#TODO uninstall torchtext after check\n",
    "\n",
    "train_iter = IMDB(split='train')"
   ],
   "outputs": [],
   "metadata": {}
  },
  {
   "cell_type": "code",
   "execution_count": 1,
   "source": [
    "from tools.basic_model import NeuralNetwork\n",
    "from tools.dset_getters import dummy_dset, cvsi_dset\n",
    "from torch.utils.data import DataLoader\n",
    "\n",
    "dset = cvsi_dset('train')\n",
    "# dset = cvsi_dset('test')\n",
    "\n",
    "\n",
    "\n",
    "dummy = NeuralNetwork(4).cuda()\n",
    "\n",
    "loader = DataLoader(dset, batch_size=8, shuffle=False)\n",
    "\n",
    "for el in loader:\n",
    "    x,y = el\n",
    "    print(x.shape)\n",
    "    print(dummy(x))\n",
    "    break"
   ],
   "outputs": [
    {
     "output_type": "stream",
     "name": "stdout",
     "text": [
      "L: 200\n",
      "L: 200\n",
      "L: 200\n",
      "L: 200\n",
      "L: 200\n",
      "L: 200\n",
      "L: 200\n",
      "L: 200\n",
      "torch.Size([8, 200])\n",
      "tensor([[0.1757, 0.1274, 0.1818, 0.1252],\n",
      "        [0.0960, 0.1211, 0.1599, 0.1128],\n",
      "        [0.1013, 0.0942, 0.1096, 0.0993],\n",
      "        [0.1078, 0.1300, 0.1123, 0.1613],\n",
      "        [0.1155, 0.1292, 0.1186, 0.1265],\n",
      "        [0.1763, 0.1298, 0.1166, 0.1035],\n",
      "        [0.1581, 0.1225, 0.1099, 0.1668],\n",
      "        [0.0694, 0.1458, 0.0914, 0.1047]], device='cuda:0',\n",
      "       grad_fn=<SoftmaxBackward>)\n"
     ]
    }
   ],
   "metadata": {}
  }
 ],
 "metadata": {
  "orig_nbformat": 4,
  "language_info": {
   "name": "python",
   "version": "3.8.10",
   "mimetype": "text/x-python",
   "codemirror_mode": {
    "name": "ipython",
    "version": 3
   },
   "pygments_lexer": "ipython3",
   "nbconvert_exporter": "python",
   "file_extension": ".py"
  },
  "kernelspec": {
   "name": "python3",
   "display_name": "Python 3.8.10 64-bit ('bench_env': conda)"
  },
  "interpreter": {
   "hash": "9828b828580f1cac1b571b33de6cff8bacecc8916095e1bcbc967952ca7105b7"
  }
 },
 "nbformat": 4,
 "nbformat_minor": 2
}